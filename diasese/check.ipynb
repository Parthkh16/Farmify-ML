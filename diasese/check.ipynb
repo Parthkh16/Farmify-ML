{
 "cells": [
  {
   "cell_type": "code",
   "execution_count": 1,
   "metadata": {},
   "outputs": [
    {
     "name": "stdout",
     "output_type": "stream",
     "text": [
      "No GPUs detected. TensorFlow is running on CPU.\n"
     ]
    }
   ],
   "source": [
    "import tensorflow as tf\n",
    "\n",
    "# Check if TensorFlow detects GPUs\n",
    "gpus = tf.config.list_physical_devices('GPU')\n",
    "if gpus:\n",
    "    print(f\"GPUs detected: {gpus}\")\n",
    "else:\n",
    "    print(\"No GPUs detected. TensorFlow is running on CPU.\")"
   ]
  },
  {
   "cell_type": "code",
   "execution_count": 2,
   "metadata": {},
   "outputs": [
    {
     "name": "stdout",
     "output_type": "stream",
     "text": [
      "No GPUs detected. TensorFlow is running on CPU.\n"
     ]
    }
   ],
   "source": [
    "import os\n",
    "os.environ['TF_CPP_MIN_LOG_LEVEL'] = '0'  # Enable all logs\n",
    "import tensorflow as tf\n",
    "\n",
    "# Check if TensorFlow detects GPUs\n",
    "gpus = tf.config.list_physical_devices('GPU')\n",
    "if gpus:\n",
    "    print(f\"GPUs detected: {gpus}\")\n",
    "else:\n",
    "    print(\"No GPUs detected. TensorFlow is running on CPU.\")\n",
    "    "
   ]
  },
  {
   "cell_type": "code",
   "execution_count": null,
   "metadata": {},
   "outputs": [
    {
     "name": "stderr",
     "output_type": "stream",
     "text": [
      "Exception ignored in: <Finalize object, dead>\n",
      "Traceback (most recent call last):\n",
      "  File \"c:\\Python312\\Lib\\multiprocessing\\util.py\", line 221, in __call__\n",
      "    if self._pid != getpid():\n",
      "                    ^^^^^^^^\n",
      "KeyboardInterrupt: \n"
     ]
    }
   ],
   "source": [
    "import tensorflow as tf\n",
    "\n",
    "# Create a tensor and perform a computation\n",
    "a = tf.random.normal([1000, 1000])\n",
    "b = tf.random.normal([1000, 1000])\n",
    "c = tf.matmul(a, b)\n",
    "\n",
    "print(\"Computation complete. Check GPU usage in Task Manager or nvidia-smi.\")"
   ]
  },
  {
   "cell_type": "code",
   "execution_count": 4,
   "metadata": {},
   "outputs": [
    {
     "name": "stdout",
     "output_type": "stream",
     "text": [
      "True\n",
      "90100\n"
     ]
    }
   ],
   "source": [
    "import torch\n",
    "print(torch.cuda.is_available())  # Should return True\n",
    "print(torch.backends.cudnn.version())  # Should return 8100 for cuDNN 8.1\n"
   ]
  },
  {
   "cell_type": "code",
   "execution_count": 24,
   "metadata": {},
   "outputs": [
    {
     "name": "stdout",
     "output_type": "stream",
     "text": [
      "11.8\n",
      "True\n"
     ]
    }
   ],
   "source": [
    "import torch\n",
    "print(torch.version.cuda)  # Should print 11.2\n",
    "print(torch.cuda.is_available())  # Should be True\n",
    "\n"
   ]
  },
  {
   "cell_type": "code",
   "execution_count": 25,
   "metadata": {},
   "outputs": [
    {
     "name": "stdout",
     "output_type": "stream",
     "text": [
      "True\n",
      "11.8\n",
      "90100\n"
     ]
    }
   ],
   "source": [
    "import torch\n",
    "print(torch.cuda.is_available())  # Should return True\n",
    "print(torch.version.cuda)  # Should return '11.2'\n",
    "print(torch.backends.cudnn.version())  # Should return 8100 or similar\n"
   ]
  },
  {
   "cell_type": "code",
   "execution_count": null,
   "metadata": {},
   "outputs": [
    {
     "ename": "ModuleNotFoundError",
     "evalue": "No module named 'jax'",
     "output_type": "error",
     "traceback": [
      "\u001b[1;31m---------------------------------------------------------------------------\u001b[0m",
      "\u001b[1;31mModuleNotFoundError\u001b[0m                       Traceback (most recent call last)",
      "Cell \u001b[1;32mIn[1], line 1\u001b[0m\n\u001b[1;32m----> 1\u001b[0m \u001b[38;5;28;01mimport\u001b[39;00m \u001b[38;5;21;01mjax\u001b[39;00m\n\u001b[0;32m      2\u001b[0m \u001b[38;5;28;01mimport\u001b[39;00m \u001b[38;5;21;01mjax\u001b[39;00m\u001b[38;5;21;01m.\u001b[39;00m\u001b[38;5;21;01mnumpy\u001b[39;00m \u001b[38;5;28;01mas\u001b[39;00m \u001b[38;5;21;01mjnp\u001b[39;00m\n\u001b[0;32m      4\u001b[0m \u001b[38;5;66;03m# Check if GPU is available\u001b[39;00m\n",
      "\u001b[1;31mModuleNotFoundError\u001b[0m: No module named 'jax'"
     ]
    }
   ],
   "source": [
    "print(f\"Predicted Index: {predicted_index}, Total Classes: {len(class_names)}\")\n"
   ]
  },
  {
   "cell_type": "code",
   "execution_count": 6,
   "metadata": {},
   "outputs": [
    {
     "name": "stdout",
     "output_type": "stream",
     "text": [
      "Name: jax\n",
      "Version: 0.5.0\n",
      "Summary: Differentiate, compile, and transform Numpy code.\n",
      "Home-page: https://github.com/jax-ml/jax\n",
      "Author: JAX team\n",
      "Author-email: jax-dev@google.com\n",
      "License: Apache-2.0\n",
      "Location: C:\\Users\\parth\\AppData\\Roaming\\Python\\Python312\\site-packages\n",
      "Requires: jaxlib, ml_dtypes, numpy, opt_einsum, scipy\n",
      "Required-by: \n",
      "---\n",
      "Name: jaxlib\n",
      "Version: 0.5.0\n",
      "Summary: XLA library for JAX\n",
      "Home-page: https://github.com/jax-ml/jax\n",
      "Author: JAX team\n",
      "Author-email: jax-dev@google.com\n",
      "License: Apache-2.0\n",
      "Location: C:\\Users\\parth\\AppData\\Roaming\\Python\\Python312\\site-packages\n",
      "Requires: ml-dtypes, numpy, scipy\n",
      "Required-by: jax\n",
      "Note: you may need to restart the kernel to use updated packages.\n"
     ]
    }
   ],
   "source": [
    "pip show jax jaxlib\n"
   ]
  },
  {
   "cell_type": "code",
   "execution_count": null,
   "metadata": {},
   "outputs": [
    {
     "name": "stderr",
     "output_type": "stream",
     "text": [
      "Epoch 1/20 [Train]: 100%|██████████| 953/953 [01:47<00:00,  8.83it/s, loss=4, acc=1.62]    \n",
      "Epoch 1/20 [Valid]: 100%|██████████| 953/953 [01:51<00:00,  8.52it/s, loss=6.21, acc=4.37]\n",
      "Epoch 2/20 [Train]: 100%|██████████| 953/953 [01:48<00:00,  8.77it/s, loss=3.76, acc=8.03]\n",
      "Epoch 2/20 [Valid]: 100%|██████████| 953/953 [01:48<00:00,  8.78it/s, loss=6.38, acc=16.8]\n",
      "Epoch 3/20 [Train]: 100%|██████████| 953/953 [01:46<00:00,  8.93it/s, loss=2.31, acc=17.9]\n",
      "Epoch 3/20 [Valid]: 100%|██████████| 953/953 [01:53<00:00,  8.42it/s, loss=6.01, acc=27]   \n",
      "Epoch 4/20 [Train]: 100%|██████████| 953/953 [01:50<00:00,  8.63it/s, loss=2.55, acc=26.5]\n",
      "Epoch 4/20 [Valid]: 100%|██████████| 953/953 [01:51<00:00,  8.55it/s, loss=5.37, acc=35]   \n",
      "Epoch 5/20 [Train]: 100%|██████████| 953/953 [01:48<00:00,  8.82it/s, loss=2.49, acc=33.8]\n",
      "Epoch 5/20 [Valid]: 100%|██████████| 953/953 [01:49<00:00,  8.74it/s, loss=6.08, acc=41.3]  \n",
      "Epoch 6/20 [Train]: 100%|██████████| 953/953 [01:46<00:00,  8.94it/s, loss=2.76, acc=38.1]\n",
      "Epoch 6/20 [Valid]: 100%|██████████| 953/953 [01:49<00:00,  8.68it/s, loss=5.67, acc=43]    \n",
      "Epoch 7/20 [Train]: 100%|██████████| 953/953 [01:46<00:00,  8.92it/s, loss=1.74, acc=41.9]\n",
      "Epoch 7/20 [Valid]: 100%|██████████| 953/953 [01:48<00:00,  8.80it/s, loss=5.79, acc=48.4]  \n",
      "Epoch 8/20 [Train]:  93%|█████████▎| 882/953 [01:38<00:07,  8.91it/s, loss=1.59, acc=44.8]\n"
     ]
    },
    {
     "ename": "KeyboardInterrupt",
     "evalue": "",
     "output_type": "error",
     "traceback": [
      "\u001b[1;31m---------------------------------------------------------------------------\u001b[0m",
      "\u001b[1;31mKeyboardInterrupt\u001b[0m                         Traceback (most recent call last)",
      "Cell \u001b[1;32mIn[8], line 258\u001b[0m\n\u001b[0;32m    255\u001b[0m     \u001b[38;5;28;01mreturn\u001b[39;00m model, history\n\u001b[0;32m    257\u001b[0m \u001b[38;5;66;03m# Train the model\u001b[39;00m\n\u001b[1;32m--> 258\u001b[0m model, history \u001b[38;5;241m=\u001b[39m \u001b[43mtrain_model\u001b[49m\u001b[43m(\u001b[49m\u001b[43mmodel\u001b[49m\u001b[43m,\u001b[49m\u001b[43m \u001b[49m\u001b[43mtrain_loader\u001b[49m\u001b[43m,\u001b[49m\u001b[43m \u001b[49m\u001b[43mvalid_loader\u001b[49m\u001b[43m,\u001b[49m\u001b[43m \u001b[49m\u001b[43mcriterion\u001b[49m\u001b[43m,\u001b[49m\u001b[43m \u001b[49m\u001b[43moptimizer\u001b[49m\u001b[43m,\u001b[49m\u001b[43m \u001b[49m\u001b[43mscheduler\u001b[49m\u001b[43m)\u001b[49m\n\u001b[0;32m    260\u001b[0m \u001b[38;5;66;03m# Save the trained model\u001b[39;00m\n\u001b[0;32m    261\u001b[0m torch\u001b[38;5;241m.\u001b[39msave(model\u001b[38;5;241m.\u001b[39mstate_dict(), \u001b[38;5;124m'\u001b[39m\u001b[38;5;124mtrained_plant_disease_model.pth\u001b[39m\u001b[38;5;124m'\u001b[39m)\n",
      "Cell \u001b[1;32mIn[8], line 185\u001b[0m, in \u001b[0;36mtrain_model\u001b[1;34m(model, train_loader, valid_loader, criterion, optimizer, scheduler, num_epochs, early_stopping_patience)\u001b[0m\n\u001b[0;32m    182\u001b[0m optimizer\u001b[38;5;241m.\u001b[39mstep()\n\u001b[0;32m    184\u001b[0m \u001b[38;5;66;03m# Statistics\u001b[39;00m\n\u001b[1;32m--> 185\u001b[0m running_loss \u001b[38;5;241m+\u001b[39m\u001b[38;5;241m=\u001b[39m \u001b[43mloss\u001b[49m\u001b[38;5;241;43m.\u001b[39;49m\u001b[43mitem\u001b[49m\u001b[43m(\u001b[49m\u001b[43m)\u001b[49m \u001b[38;5;241m*\u001b[39m inputs\u001b[38;5;241m.\u001b[39msize(\u001b[38;5;241m0\u001b[39m)\n\u001b[0;32m    186\u001b[0m _, predicted \u001b[38;5;241m=\u001b[39m torch\u001b[38;5;241m.\u001b[39mmax(outputs, \u001b[38;5;241m1\u001b[39m)\n\u001b[0;32m    187\u001b[0m total \u001b[38;5;241m+\u001b[39m\u001b[38;5;241m=\u001b[39m labels\u001b[38;5;241m.\u001b[39msize(\u001b[38;5;241m0\u001b[39m)\n",
      "\u001b[1;31mKeyboardInterrupt\u001b[0m: "
     ]
    }
   ],
   "source": [
    "import torch\n",
    "import torch.nn as nn\n",
    "import torch.optim as optim\n",
    "from torch.utils.data import DataLoader, WeightedRandomSampler\n",
    "from torchvision import datasets, transforms, models\n",
    "from torch.cuda.amp import GradScaler, autocast\n",
    "import matplotlib.pyplot as plt\n",
    "import pandas as pd\n",
    "import seaborn as sns\n",
    "import numpy as np\n",
    "from sklearn.metrics import confusion_matrix, classification_report\n",
    "import json\n",
    "import os\n",
    "from tqdm import tqdm\n",
    "import time\n",
    "from collections import Counter\n",
    "\n",
    "# Enable cuDNN benchmark\n",
    "torch.backends.cudnn.benchmark = True\n",
    "\n",
    "# Device configuration\n",
    "device = torch.device(\"cuda\" if torch.cuda.is_available() else \"cpu\")\n",
    "print(f\"Using device: {device}\")\n",
    "if device.type == 'cuda':\n",
    "    print(f\"GPU Name: {torch.cuda.get_device_name(0)}\")\n",
    "    print(f\"GPU Memory: {torch.cuda.get_device_properties(0).total_memory / 1e9:.2f} GB\")\n",
    "\n",
    "# Data configurations\n",
    "DATA_DIR = 'C:\\\\Users\\\\parth\\\\Downloads\\\\Dataset1'\n",
    "TRAIN_DIR = os.path.join(DATA_DIR, 'train')\n",
    "VALID_DIR = os.path.join(DATA_DIR, 'valid')\n",
    "IMG_SIZE = 224  # Increased from 128 for better feature extraction\n",
    "BATCH_SIZE = 64  # Increased batch size for faster training\n",
    "\n",
    "# Enhanced data augmentations\n",
    "train_transform = transforms.Compose([\n",
    "    transforms.RandomResizedCrop(IMG_SIZE, scale=(0.8, 1.0)),\n",
    "    transforms.RandomHorizontalFlip(),\n",
    "    transforms.RandomVerticalFlip(),\n",
    "    transforms.RandomRotation(30),\n",
    "    transforms.ColorJitter(brightness=0.2, contrast=0.2, saturation=0.2),\n",
    "    transforms.ToTensor(),\n",
    "    transforms.Normalize([0.485, 0.456, 0.406], [0.229, 0.224, 0.225])\n",
    "])\n",
    "\n",
    "test_transform = transforms.Compose([\n",
    "    transforms.Resize(IMG_SIZE),\n",
    "    transforms.CenterCrop(IMG_SIZE),\n",
    "    transforms.ToTensor(),\n",
    "    transforms.Normalize([0.485, 0.456, 0.406], [0.229, 0.224, 0.225])\n",
    "])\n",
    "\n",
    "# Load datasets\n",
    "train_dataset = datasets.ImageFolder(TRAIN_DIR, transform=train_transform)\n",
    "valid_dataset = datasets.ImageFolder(VALID_DIR, transform=test_transform)\n",
    "\n",
    "# Handle class imbalance\n",
    "class_counts = torch.tensor([len([x for x in os.listdir(os.path.join(TRAIN_DIR, cls)) \n",
    "                           for cls in train_dataset.classes])\n",
    "class_weights = 1. / class_counts.float()\n",
    "samples_weights = class_weights[train_dataset.targets]\n",
    "sampler = WeightedRandomSampler(samples_weights, len(samples_weights))\n",
    "\n",
    "# Create data loaders with optimized settings\n",
    "num_workers = min(4, os.cpu_count())\n",
    "train_loader = DataLoader(train_dataset, batch_size=BATCH_SIZE, sampler=sampler,\n",
    "                         num_workers=num_workers, pin_memory=True, persistent_workers=True)\n",
    "valid_loader = DataLoader(valid_dataset, batch_size=BATCH_SIZE, shuffle=False,\n",
    "                         num_workers=num_workers, pin_memory=True, persistent_workers=True)\n",
    "\n",
    "# Use pretrained model with transfer learning\n",
    "model = models.resnet50(pretrained=True)\n",
    "num_ftrs = model.fc.in_features\n",
    "\n",
    "# Modified classifier head\n",
    "model.fc = nn.Sequential(\n",
    "    nn.Dropout(0.5),\n",
    "    nn.Linear(num_ftrs, 512),\n",
    "    nn.ReLU(),\n",
    "    nn.BatchNorm1d(512),\n",
    "    nn.Dropout(0.3),\n",
    "    nn.Linear(512, len(train_dataset.classes))\n",
    "model = model.to(device)\n",
    "\n",
    "# Mixed precision training\n",
    "scaler = GradScaler() if device.type == 'cuda' else None\n",
    "\n",
    "# Optimizer with weight decay\n",
    "optimizer = optim.AdamW(model.parameters(), lr=1e-3, weight_decay=1e-4)\n",
    "\n",
    "# Learning rate scheduler\n",
    "scheduler = optim.lr_scheduler.OneCycleLR(optimizer, max_lr=1e-3,\n",
    "                                        steps_per_epoch=len(train_loader), epochs=20)\n",
    "\n",
    "# Label smoothing\n",
    "criterion = nn.CrossEntropyLoss(label_smoothing=0.1)\n",
    "\n",
    "def train_epoch(model, loader, optimizer, scheduler):\n",
    "    model.train()\n",
    "    running_loss = 0.0\n",
    "    correct = 0\n",
    "    total = 0\n",
    "    \n",
    "    pbar = tqdm(loader, desc='Training', leave=False)\n",
    "    for inputs, labels in pbar:\n",
    "        inputs, labels = inputs.to(device), labels.to(device)\n",
    "        \n",
    "        with autocast(enabled=(device.type == 'cuda')):\n",
    "            outputs = model(inputs)\n",
    "            loss = criterion(outputs, labels)\n",
    "        \n",
    "        optimizer.zero_grad()\n",
    "        scaler.scale(loss).backward()\n",
    "        torch.nn.utils.clip_grad_norm_(model.parameters(), 1.0)\n",
    "        scaler.step(optimizer)\n",
    "        scaler.update()\n",
    "        scheduler.step()\n",
    "        \n",
    "        running_loss += loss.item() * inputs.size(0)\n",
    "        _, predicted = outputs.max(1)\n",
    "        total += labels.size(0)\n",
    "        correct += predicted.eq(labels).sum().item()\n",
    "        \n",
    "        pbar.set_postfix({'Loss': loss.item(), 'Acc': f\"{100*correct/total:.2f}%\"})\n",
    "    \n",
    "    return running_loss / len(loader.dataset), 100 * correct / total\n",
    "\n",
    "def validate(model, loader):\n",
    "    model.eval()\n",
    "    running_loss = 0.0\n",
    "    correct = 0\n",
    "    total = 0\n",
    "    \n",
    "    with torch.no_grad():\n",
    "        pbar = tqdm(loader, desc='Validation', leave=False)\n",
    "        for inputs, labels in pbar:\n",
    "            inputs, labels = inputs.to(device), labels.to(device)\n",
    "            \n",
    "            outputs = model(inputs)\n",
    "            loss = criterion(outputs, labels)\n",
    "            \n",
    "            running_loss += loss.item() * inputs.size(0)\n",
    "            _, predicted = outputs.max(1)\n",
    "            total += labels.size(0)\n",
    "            correct += predicted.eq(labels).sum().item()\n",
    "            \n",
    "            pbar.set_postfix({'Acc': f\"{100*correct/total:.2f}%\"})\n",
    "    \n",
    "    return running_loss / len(loader.dataset), 100 * correct / total\n",
    "\n",
    "def train_model():\n",
    "    history = {'train_loss': [], 'train_acc': [], 'val_loss': [], 'val_acc': []}\n",
    "    best_acc = 0.0\n",
    "    \n",
    "    for epoch in range(20):\n",
    "        print(f\"\\nEpoch {epoch+1}/20\")\n",
    "        train_loss, train_acc = train_epoch(model, train_loader, optimizer, scheduler)\n",
    "        val_loss, val_acc = validate(model, valid_loader)\n",
    "        \n",
    "        history['train_loss'].append(train_loss)\n",
    "        history['train_acc'].append(train_acc)\n",
    "        history['val_loss'].append(val_loss)\n",
    "        history['val_acc'].append(val_acc)\n",
    "        \n",
    "        print(f\"Train Loss: {train_loss:.4f} | Train Acc: {train_acc:.2f}%\")\n",
    "        print(f\"Val Loss: {val_loss:.4f} | Val Acc: {val_acc:.2f}%\")\n",
    "        \n",
    "        if val_acc > best_acc:\n",
    "            best_acc = val_acc\n",
    "            torch.save(model.state_dict(), 'best_model.pth')\n",
    "            print(\"Saved best model!\")\n",
    "    \n",
    "    return history\n",
    "\n",
    "# Execute training\n",
    "history = train_model()\n",
    "\n",
    "# Rest of your visualization and evaluation code..."
   ]
  },
  {
   "cell_type": "code",
   "execution_count": 2,
   "metadata": {},
   "outputs": [
    {
     "name": "stdout",
     "output_type": "stream",
     "text": [
      "Using device: cuda\n",
      "CUDA version: 11.8\n",
      "Current GPU: NVIDIA GeForce RTX 3050 Laptop GPU\n",
      "Loading datasets...\n",
      "Training samples: 30427, Validation samples: 30416\n",
      "Number of classes: 147\n",
      "\n",
      "Initializing model...\n",
      "Model initialized on CUDA\n",
      "\n",
      "Starting training...\n"
     ]
    },
    {
     "name": "stderr",
     "output_type": "stream",
     "text": [
      "C:\\Users\\parth\\AppData\\Local\\Temp\\ipykernel_26344\\488539737.py:81: FutureWarning: `torch.cuda.amp.GradScaler(args...)` is deprecated. Please use `torch.amp.GradScaler('cuda', args...)` instead.\n",
      "  scaler = torch.cuda.amp.GradScaler() if torch.cuda.is_available() else None\n"
     ]
    },
    {
     "name": "stdout",
     "output_type": "stream",
     "text": [
      "Epoch 1/10 [Train]:   0%|          | 0/951 [00:00<?, ?it/s]"
     ]
    },
    {
     "name": "stderr",
     "output_type": "stream",
     "text": [
      "C:\\Users\\parth\\AppData\\Local\\Temp\\ipykernel_26344\\488539737.py:107: FutureWarning: `torch.cuda.amp.autocast(args...)` is deprecated. Please use `torch.amp.autocast('cuda', args...)` instead.\n",
      "  with torch.cuda.amp.autocast():\n"
     ]
    },
    {
     "name": "stdout",
     "output_type": "stream",
     "text": [
      "Epoch 1/10 [Train]: 100%|##########| 951/951 [03:09<00:00,  5.03it/s, Loss=1.2175, Acc=57.61%]\n",
      "Epoch 1/10 [Val]: 100%|##########| 951/951 [03:09<00:00,  5.01it/s, Loss=4.3776, Acc=72.12%]\n",
      "\n",
      "Epoch 1 Summary:\n",
      "Train Loss: 1.4890 | Train Acc: 57.61%\n",
      "Val Loss: 0.8641 | Val Acc: 72.12%\n",
      "Learning Rate: 1.00e-03\n",
      "--------------------------------------------------\n",
      "Epoch 2/10 [Train]: 100%|##########| 951/951 [03:03<00:00,  5.18it/s, Loss=0.6803, Acc=73.70%]\n",
      "Epoch 2/10 [Val]: 100%|##########| 951/951 [02:53<00:00,  5.49it/s, Loss=3.3221, Acc=76.92%]\n",
      "\n",
      "Epoch 2 Summary:\n",
      "Train Loss: 0.8014 | Train Acc: 73.70%\n",
      "Val Loss: 0.6740 | Val Acc: 76.92%\n",
      "Learning Rate: 9.76e-04\n",
      "--------------------------------------------------\n",
      "Epoch 3/10 [Train]: 100%|##########| 951/951 [03:05<00:00,  5.14it/s, Loss=0.9291, Acc=78.31%]\n",
      "Epoch 3/10 [Val]: 100%|##########| 951/951 [02:44<00:00,  5.78it/s, Loss=1.3781, Acc=79.49%]\n",
      "\n",
      "Epoch 3 Summary:\n",
      "Train Loss: 0.6375 | Train Acc: 78.31%\n",
      "Val Loss: 0.5859 | Val Acc: 79.49%\n",
      "Learning Rate: 9.05e-04\n",
      "--------------------------------------------------\n",
      "Epoch 4/10 [Train]: 100%|##########| 951/951 [03:04<00:00,  5.15it/s, Loss=0.6363, Acc=81.19%]\n",
      "Epoch 4/10 [Val]: 100%|##########| 951/951 [02:42<00:00,  5.84it/s, Loss=1.9553, Acc=81.55%]\n",
      "\n",
      "Epoch 4 Summary:\n",
      "Train Loss: 0.5372 | Train Acc: 81.19%\n",
      "Val Loss: 0.5338 | Val Acc: 81.55%\n",
      "Learning Rate: 7.94e-04\n",
      "--------------------------------------------------\n",
      "Epoch 5/10 [Train]: 100%|##########| 951/951 [03:06<00:00,  5.10it/s, Loss=0.6376, Acc=83.59%]\n",
      "Epoch 5/10 [Val]: 100%|##########| 951/951 [02:41<00:00,  5.88it/s, Loss=1.0595, Acc=84.85%]\n",
      "\n",
      "Epoch 5 Summary:\n",
      "Train Loss: 0.4493 | Train Acc: 83.59%\n",
      "Val Loss: 0.4106 | Val Acc: 84.85%\n",
      "Learning Rate: 6.55e-04\n",
      "--------------------------------------------------\n",
      "Epoch 6/10 [Train]: 100%|##########| 951/951 [03:04<00:00,  5.15it/s, Loss=0.4266, Acc=85.97%]\n",
      "Epoch 6/10 [Val]: 100%|##########| 951/951 [02:38<00:00,  5.98it/s, Loss=1.1478, Acc=87.02%]\n",
      "\n",
      "Epoch 6 Summary:\n",
      "Train Loss: 0.3781 | Train Acc: 85.97%\n",
      "Val Loss: 0.3438 | Val Acc: 87.02%\n",
      "Learning Rate: 5.00e-04\n",
      "--------------------------------------------------\n",
      "Epoch 7/10 [Train]: 100%|##########| 951/951 [03:03<00:00,  5.18it/s, Loss=0.4171, Acc=88.17%]\n",
      "Epoch 7/10 [Val]: 100%|##########| 951/951 [02:37<00:00,  6.02it/s, Loss=0.3018, Acc=88.40%]\n",
      "\n",
      "Epoch 7 Summary:\n",
      "Train Loss: 0.3086 | Train Acc: 88.17%\n",
      "Val Loss: 0.3041 | Val Acc: 88.40%\n",
      "Learning Rate: 3.45e-04\n",
      "--------------------------------------------------\n",
      "Epoch 8/10 [Train]: 100%|##########| 951/951 [03:03<00:00,  5.18it/s, Loss=0.2539, Acc=90.06%]\n",
      "Epoch 8/10 [Val]: 100%|##########| 951/951 [02:37<00:00,  6.02it/s, Loss=0.2199, Acc=89.34%]\n",
      "\n",
      "Epoch 8 Summary:\n",
      "Train Loss: 0.2586 | Train Acc: 90.06%\n",
      "Val Loss: 0.2725 | Val Acc: 89.34%\n",
      "Learning Rate: 2.06e-04\n",
      "--------------------------------------------------\n",
      "Epoch 9/10 [Train]: 100%|##########| 951/951 [03:04<00:00,  5.16it/s, Loss=0.0803, Acc=91.45%]\n",
      "Epoch 9/10 [Val]: 100%|##########| 951/951 [02:37<00:00,  6.06it/s, Loss=0.7423, Acc=90.21%]\n",
      "\n",
      "Epoch 9 Summary:\n",
      "Train Loss: 0.2179 | Train Acc: 91.45%\n",
      "Val Loss: 0.2463 | Val Acc: 90.21%\n",
      "Learning Rate: 9.55e-05\n",
      "--------------------------------------------------\n",
      "Epoch 10/10 [Train]: 100%|##########| 951/951 [03:02<00:00,  5.22it/s, Loss=0.2385, Acc=92.56%]\n",
      "Epoch 10/10 [Val]: 100%|##########| 951/951 [03:07<00:00,  5.07it/s, Loss=0.6910, Acc=90.59%]\n",
      "\n",
      "Epoch 10 Summary:\n",
      "Train Loss: 0.1919 | Train Acc: 92.56%\n",
      "Val Loss: 0.2358 | Val Acc: 90.59%\n",
      "Learning Rate: 2.45e-05\n",
      "--------------------------------------------------\n",
      "\n",
      "Training completed in: 3519.03 seconds\n",
      "\n",
      "Saving model...\n",
      "Model saved successfully\n",
      "Training progress saved\n",
      "\n",
      "All operations completed successfully!\n"
     ]
    }
   ],
   "source": [
    "import torch\n",
    "import torch.nn as nn\n",
    "import torch.optim as optim\n",
    "import torchvision.transforms as transforms\n",
    "import torchvision.datasets as datasets\n",
    "from torch.utils.data import DataLoader\n",
    "import torchvision.models as models\n",
    "import time\n",
    "import os\n",
    "from tqdm import tqdm\n",
    "import sys\n",
    "import json\n",
    "\n",
    "# Force immediate output flushing\n",
    "class FlushableStdout:\n",
    "    def __init__(self, stream):\n",
    "        self.stream = stream\n",
    "\n",
    "    def write(self, data):\n",
    "        self.stream.write(data)\n",
    "        self.stream.flush()\n",
    "\n",
    "    def flush(self):\n",
    "        self.stream.flush()\n",
    "\n",
    "sys.stdout = FlushableStdout(sys.stdout)  # Wrap sys.stdout for immediate flushing\n",
    "\n",
    "# Enable cuDNN benchmarking for faster training\n",
    "torch.backends.cudnn.benchmark = True\n",
    "\n",
    "device = torch.device(\"cuda\" if torch.cuda.is_available() else \"cpu\")\n",
    "print(f\"Using device: {device}\")\n",
    "if device.type == 'cuda':\n",
    "    print(f\"CUDA version: {torch.version.cuda}\")\n",
    "    print(f\"Current GPU: {torch.cuda.get_device_name(0)}\")\n",
    "\n",
    "# Rest of your code remains unchanged...\n",
    "\n",
    "# Data augmentation and normalization\n",
    "transform = transforms.Compose([\n",
    "    transforms.RandomResizedCrop(224),\n",
    "    transforms.RandomHorizontalFlip(),\n",
    "    transforms.ToTensor(),\n",
    "    transforms.Normalize(mean=[0.485, 0.456, 0.406], std=[0.229, 0.224, 0.225])\n",
    "])\n",
    "\n",
    "# Load dataset\n",
    "data_dir = \"C:\\\\Users\\\\parth\\\\Downloads\\\\Dataset1\"\n",
    "train_dir = os.path.join(data_dir, \"train\")\n",
    "val_dir = os.path.join(data_dir, \"valid\")\n",
    "\n",
    "# Verify dataset paths\n",
    "if not os.path.exists(train_dir):\n",
    "    raise FileNotFoundError(f\"Training directory not found: {train_dir}\")\n",
    "if not os.path.exists(val_dir):\n",
    "    raise FileNotFoundError(f\"Validation directory not found: {val_dir}\")\n",
    "\n",
    "# Create datasets with progress indication\n",
    "print(\"Loading datasets...\")\n",
    "train_dataset = datasets.ImageFolder(root=train_dir, transform=transform)\n",
    "val_dataset = datasets.ImageFolder(root=val_dir, transform=transform)\n",
    "print(f\"Training samples: {len(train_dataset)}, Validation samples: {len(val_dataset)}\")\n",
    "print(f\"Number of classes: {len(train_dataset.classes)}\")\n",
    "\n",
    "# Create data loaders with reduced workers for stability\n",
    "num_workers = 2 if os.name == 'nt' else 4  # Fewer workers for Windows\n",
    "train_loader = DataLoader(train_dataset, batch_size=32, shuffle=True, \n",
    "                         num_workers=num_workers, pin_memory=True)\n",
    "val_loader = DataLoader(val_dataset, batch_size=32, shuffle=False, \n",
    "                       num_workers=num_workers, pin_memory=True)\n",
    "\n",
    "# Model setup with progress indication\n",
    "print(\"\\nInitializing model...\")\n",
    "model = models.resnet50(weights=models.ResNet50_Weights.DEFAULT)\n",
    "num_ftrs = model.fc.in_features\n",
    "model.fc = nn.Linear(num_ftrs, len(train_dataset.classes))\n",
    "model = model.to(device)\n",
    "print(f\"Model initialized on {device.type.upper()}\")\n",
    "\n",
    "# Mixed precision training setup\n",
    "scaler = torch.cuda.amp.GradScaler() if torch.cuda.is_available() else None\n",
    "\n",
    "# Optimizer and scheduler\n",
    "optimizer = optim.AdamW(model.parameters(), lr=1e-3, weight_decay=1e-4)\n",
    "scheduler = optim.lr_scheduler.CosineAnnealingLR(optimizer, T_max=10)\n",
    "\n",
    "# Training progress tracking\n",
    "progress = []\n",
    "\n",
    "def train_model(model, train_loader, val_loader, criterion, optimizer, scheduler, epochs=10):\n",
    "    start_time = time.time()\n",
    "    \n",
    "    for epoch in range(epochs):\n",
    "        model.train()\n",
    "        running_loss = 0.0\n",
    "        correct, total = 0, 0\n",
    "        \n",
    "        # Training phase with progress bar\n",
    "        train_bar = tqdm(train_loader, desc=f'Epoch {epoch+1}/{epochs} [Train]', \n",
    "                        file=sys.stdout, dynamic_ncols=True)\n",
    "        \n",
    "        for images, labels in train_bar:\n",
    "            images, labels = images.to(device), labels.to(device)\n",
    "            optimizer.zero_grad()\n",
    "            \n",
    "            # Mixed precision forward pass\n",
    "            with torch.cuda.amp.autocast():\n",
    "                outputs = model(images)\n",
    "                loss = criterion(outputs, labels)\n",
    "            \n",
    "            # Mixed precision backward pass\n",
    "            scaler.scale(loss).backward()\n",
    "            scaler.step(optimizer)\n",
    "            scaler.update()\n",
    "            \n",
    "            # Update statistics\n",
    "            running_loss += loss.item() * images.size(0)\n",
    "            _, predicted = outputs.max(1)\n",
    "            total += labels.size(0)\n",
    "            correct += predicted.eq(labels).sum().item()\n",
    "            \n",
    "            # Update progress bar\n",
    "            train_bar.set_postfix({\n",
    "                'Loss': f\"{loss.item():.4f}\",\n",
    "                'Acc': f\"{correct/total*100:.2f}%\"\n",
    "            })\n",
    "        \n",
    "        # Validation phase\n",
    "        model.eval()\n",
    "        val_loss, val_correct, val_total = 0.0, 0, 0\n",
    "        \n",
    "        val_bar = tqdm(val_loader, desc=f'Epoch {epoch+1}/{epochs} [Val]', \n",
    "                      file=sys.stdout, dynamic_ncols=True)\n",
    "        \n",
    "        with torch.no_grad():\n",
    "            for images, labels in val_bar:\n",
    "                images, labels = images.to(device), labels.to(device)\n",
    "                outputs = model(images)\n",
    "                loss = criterion(outputs, labels)\n",
    "                \n",
    "                val_loss += loss.item() * images.size(0)\n",
    "                _, predicted = outputs.max(1)\n",
    "                val_total += labels.size(0)\n",
    "                val_correct += predicted.eq(labels).sum().item()\n",
    "                \n",
    "                val_bar.set_postfix({\n",
    "                    'Loss': f\"{loss.item():.4f}\",\n",
    "                    'Acc': f\"{val_correct/val_total*100:.2f}%\"\n",
    "                })\n",
    "        \n",
    "        # Calculate epoch metrics\n",
    "        train_loss = running_loss / len(train_loader.dataset)\n",
    "        train_acc = correct / total * 100\n",
    "        val_loss = val_loss / len(val_loader.dataset)\n",
    "        val_acc = val_correct / val_total * 100\n",
    "        \n",
    "        progress.append({\n",
    "            \"epoch\": epoch + 1,\n",
    "            \"train_loss\": train_loss,\n",
    "            \"train_acc\": train_acc,\n",
    "            \"val_loss\": val_loss,\n",
    "            \"val_acc\": val_acc\n",
    "        })\n",
    "        \n",
    "        # Print epoch summary\n",
    "        print(f\"\\nEpoch {epoch+1} Summary:\")\n",
    "        print(f\"Train Loss: {train_loss:.4f} | Train Acc: {train_acc:.2f}%\")\n",
    "        print(f\"Val Loss: {val_loss:.4f} | Val Acc: {val_acc:.2f}%\")\n",
    "        print(f\"Learning Rate: {optimizer.param_groups[0]['lr']:.2e}\")\n",
    "        print(\"-\" * 50)\n",
    "        \n",
    "        scheduler.step()\n",
    "    \n",
    "    print(f\"\\nTraining completed in: {time.time() - start_time:.2f} seconds\")\n",
    "    return progress\n",
    "\n",
    "# Start training with exception handling\n",
    "try:\n",
    "    print(\"\\nStarting training...\")\n",
    "    training_progress = train_model(model, train_loader, val_loader, \n",
    "                                   nn.CrossEntropyLoss(), optimizer, scheduler, epochs=10)\n",
    "except Exception as e:\n",
    "    print(f\"\\nError during training: {str(e)}\")\n",
    "    raise\n",
    "\n",
    "# Save model safely\n",
    "print(\"\\nSaving model...\")\n",
    "try:\n",
    "    torch.save({\n",
    "        'model_state_dict': model.state_dict(),\n",
    "        'optimizer_state_dict': optimizer.state_dict(),\n",
    "        'class_to_idx': train_dataset.class_to_idx\n",
    "    }, \"optimized_model.pth\")\n",
    "    print(\"Model saved successfully\")\n",
    "except Exception as e:\n",
    "    print(f\"Error saving model: {str(e)}\")\n",
    "\n",
    "# Save training progress\n",
    "try:\n",
    "    with open(\"training_progress.json\", \"w\") as f:\n",
    "        json.dump(training_progress, f, indent=4)\n",
    "    print(\"Training progress saved\")\n",
    "except Exception as e:\n",
    "    print(f\"Error saving training progress: {str(e)}\")\n",
    "\n",
    "print(\"\\nAll operations completed successfully!\")"
   ]
  },
  {
   "cell_type": "code",
   "execution_count": null,
   "metadata": {},
   "outputs": [
    {
     "name": "stdout",
     "output_type": "stream",
     "text": [
      "INITIAL OUTPUT TEST - VERIFY THIS IS VISIBLE\n"
     ]
    },
    {
     "name": "stdout",
     "output_type": "stream",
     "text": [
      "[2025-02-26 17:02:04] Using device: cuda\n",
      "[2025-02-26 17:02:04] CUDA version: 11.8\n",
      "[2025-02-26 17:02:04] Current GPU: NVIDIA GeForce RTX 3050 Laptop GPU\n",
      "[2025-02-26 17:02:04] Using base directory: C:\\Users\\parth\\Downloads\\Dataset1\n",
      "[2025-02-26 17:02:04] Verifying datasets...\n",
      "[2025-02-26 17:02:18] Loaded train1 dataset from C:\\Users\\parth\\Downloads\\Dataset1\\train1 with 3173 samples\n",
      "[2025-02-26 17:02:19] Loaded train2 dataset from C:\\Users\\parth\\Downloads\\Dataset1\\train2 with 28268 samples\n",
      "[2025-02-26 17:02:19] Loaded train3 dataset from C:\\Users\\parth\\Downloads\\Dataset1\\train3 with 609 samples\n",
      "[2025-02-26 17:02:19] Loaded valid1 dataset from C:\\Users\\parth\\Downloads\\Dataset1\\valid1 with 3173 samples\n",
      "[2025-02-26 17:02:19] Loaded valid2 dataset from C:\\Users\\parth\\Downloads\\Dataset1\\valid2 with 28268 samples\n",
      "[2025-02-26 17:02:19] Loaded valid3 dataset from C:\\Users\\parth\\Downloads\\Dataset1\\valid3 with 609 samples\n",
      "[2025-02-26 17:02:19] Combined training samples: 32050\n",
      "[2025-02-26 17:02:19] Combined validation samples: 32050\n",
      "[2025-02-26 17:02:19] Using torch.amp for mixed precision\n",
      "[2025-02-26 17:02:19] Starting training...\n",
      "[2025-02-26 17:02:19] Starting epoch 1/15\n"
     ]
    },
    {
     "name": "stderr",
     "output_type": "stream",
     "text": [
      "Epoch 1 [Train]:   0%|          | 0/2004 [00:00<?, ?it/s]"
     ]
    },
    {
     "name": "stdout",
     "output_type": "stream",
     "text": [
      "[2025-02-26 17:02:19] Error in training batch 0: autocast.__init__() missing 1 required positional argument: 'device_type'\n"
     ]
    },
    {
     "name": "stderr",
     "output_type": "stream",
     "text": [
      "Epoch 1 [Train]:   0%|          | 0/2004 [00:00<?, ?it/s]"
     ]
    },
    {
     "name": "stdout",
     "output_type": "stream",
     "text": [
      "[2025-02-26 17:02:19] Training failed: autocast.__init__() missing 1 required positional argument: 'device_type'\n"
     ]
    },
    {
     "name": "stderr",
     "output_type": "stream",
     "text": [
      "\n"
     ]
    },
    {
     "ename": "TypeError",
     "evalue": "autocast.__init__() missing 1 required positional argument: 'device_type'",
     "output_type": "error",
     "traceback": [
      "\u001b[1;31m---------------------------------------------------------------------------\u001b[0m",
      "\u001b[1;31mTypeError\u001b[0m                                 Traceback (most recent call last)",
      "Cell \u001b[1;32mIn[3], line 259\u001b[0m\n\u001b[0;32m    257\u001b[0m \u001b[38;5;28;01mtry\u001b[39;00m:\n\u001b[0;32m    258\u001b[0m     log_info(\u001b[38;5;124m\"\u001b[39m\u001b[38;5;124mStarting training...\u001b[39m\u001b[38;5;124m\"\u001b[39m)\n\u001b[1;32m--> 259\u001b[0m     \u001b[43mtrain_model\u001b[49m\u001b[43m(\u001b[49m\u001b[43mepochs\u001b[49m\u001b[38;5;241;43m=\u001b[39;49m\u001b[38;5;241;43m15\u001b[39;49m\u001b[43m)\u001b[49m\n\u001b[0;32m    260\u001b[0m \u001b[38;5;28;01mexcept\u001b[39;00m \u001b[38;5;167;01mException\u001b[39;00m \u001b[38;5;28;01mas\u001b[39;00m e:\n\u001b[0;32m    261\u001b[0m     log_info(\u001b[38;5;124mf\u001b[39m\u001b[38;5;124m\"\u001b[39m\u001b[38;5;124mTraining failed: \u001b[39m\u001b[38;5;132;01m{\u001b[39;00m\u001b[38;5;28mstr\u001b[39m(e)\u001b[38;5;132;01m}\u001b[39;00m\u001b[38;5;124m\"\u001b[39m)\n",
      "Cell \u001b[1;32mIn[3], line 174\u001b[0m, in \u001b[0;36mtrain_model\u001b[1;34m(epochs)\u001b[0m\n\u001b[0;32m    171\u001b[0m inputs, labels \u001b[38;5;241m=\u001b[39m inputs\u001b[38;5;241m.\u001b[39mto(device), labels\u001b[38;5;241m.\u001b[39mto(device)\n\u001b[0;32m    172\u001b[0m optimizer\u001b[38;5;241m.\u001b[39mzero_grad()\n\u001b[1;32m--> 174\u001b[0m \u001b[38;5;28;01mwith\u001b[39;00m \u001b[43mautocast\u001b[49m\u001b[43m(\u001b[49m\u001b[43m)\u001b[49m \u001b[38;5;28;01mif\u001b[39;00m autocast \u001b[38;5;28;01melse\u001b[39;00m nullcontext():\n\u001b[0;32m    175\u001b[0m     outputs \u001b[38;5;241m=\u001b[39m model(inputs)\n\u001b[0;32m    176\u001b[0m     loss \u001b[38;5;241m=\u001b[39m criterion(outputs, labels)\n",
      "\u001b[1;31mTypeError\u001b[0m: autocast.__init__() missing 1 required positional argument: 'device_type'"
     ]
    }
   ],
   "source": [
    "# ... (previous code remains the same until mixed precision setup)\n",
    "\n",
    "# Mixed precision setup with version check\n",
    "if torch.cuda.is_available():\n",
    "    try:\n",
    "        # For PyTorch 2.0+\n",
    "        from torch.amp import autocast, GradScaler\n",
    "        scaler = GradScaler()\n",
    "        AUTOCAST_ARGS = {'device_type': 'cuda'}\n",
    "        log_info(\"Using torch.amp for mixed precision\")\n",
    "    except ImportError:\n",
    "        # For older versions\n",
    "        from torch.cuda.amp import autocast, GradScaler\n",
    "        scaler = GradScaler()\n",
    "        AUTOCAST_ARGS = {}\n",
    "        log_info(\"Using torch.cuda.amp for mixed precision\")\n",
    "else:\n",
    "    autocast = None\n",
    "    scaler = None\n",
    "    AUTOCAST_ARGS = {}\n",
    "    log_info(\"Mixed precision not available (CPU only)\")\n",
    "\n",
    "# ... (rest of the code remains same until training loop)\n",
    "\n",
    "# In the training loop's forward pass:\n",
    "with autocast(**AUTOCAST_ARGS) if autocast else nullcontext():\n",
    "    outputs = model(images)\n",
    "    loss = criterion(outputs, labels)"
   ]
  },
  {
   "cell_type": "code",
   "execution_count": 2,
   "metadata": {},
   "outputs": [
    {
     "name": "stdout",
     "output_type": "stream",
     "text": [
      "2.6.0+cu118\n",
      "True\n"
     ]
    }
   ],
   "source": [
    "import torch\n",
    "print(torch.__version__)  # Should be 2.0.0 or higher\n",
    "print(torch.cuda.is_available())  # Should be True"
   ]
  },
  {
   "cell_type": "code",
   "execution_count": 2,
   "metadata": {},
   "outputs": [
    {
     "ename": "NameError",
     "evalue": "name 'train_model' is not defined",
     "output_type": "error",
     "traceback": [
      "\u001b[1;31m---------------------------------------------------------------------------\u001b[0m",
      "\u001b[1;31mNameError\u001b[0m                                 Traceback (most recent call last)",
      "Cell \u001b[1;32mIn[2], line 117\u001b[0m\n\u001b[0;32m    110\u001b[0m         \u001b[38;5;28;01mreturn\u001b[39;00m {\n\u001b[0;32m    111\u001b[0m             \u001b[38;5;124m'\u001b[39m\u001b[38;5;124mimage\u001b[39m\u001b[38;5;124m'\u001b[39m: image,\n\u001b[0;32m    112\u001b[0m             \u001b[38;5;124m'\u001b[39m\u001b[38;5;124mfeatures\u001b[39m\u001b[38;5;124m'\u001b[39m: torch\u001b[38;5;241m.\u001b[39mtensor([\u001b[38;5;28mlist\u001b[39m(features\u001b[38;5;241m.\u001b[39mvalues())], dtype\u001b[38;5;241m=\u001b[39mtorch\u001b[38;5;241m.\u001b[39mfloat32)\u001b[38;5;241m.\u001b[39msqueeze(),\n\u001b[0;32m    113\u001b[0m             \u001b[38;5;124m'\u001b[39m\u001b[38;5;124mlabel\u001b[39m\u001b[38;5;124m'\u001b[39m: label\n\u001b[0;32m    114\u001b[0m         }\n\u001b[0;32m    116\u001b[0m \u001b[38;5;28;01mif\u001b[39;00m \u001b[38;5;18m__name__\u001b[39m \u001b[38;5;241m==\u001b[39m \u001b[38;5;124m\"\u001b[39m\u001b[38;5;124m__main__\u001b[39m\u001b[38;5;124m\"\u001b[39m:\n\u001b[1;32m--> 117\u001b[0m     model, progress \u001b[38;5;241m=\u001b[39m \u001b[43mtrain_model\u001b[49m(data_dir, num_epochs\u001b[38;5;241m=\u001b[39m\u001b[38;5;241m10\u001b[39m)\n",
      "\u001b[1;31mNameError\u001b[0m: name 'train_model' is not defined"
     ]
    }
   ],
   "source": [
    "import os\n",
    "import torch\n",
    "import torch.nn as nn\n",
    "import torch.optim as optim\n",
    "import torchvision.transforms as transforms\n",
    "import torchvision.models as models\n",
    "from torch.utils.data import Dataset, DataLoader\n",
    "import cv2\n",
    "import numpy as np\n",
    "from PIL import Image\n",
    "from tqdm import tqdm\n",
    "import json\n",
    "import sys\n",
    "\n",
    "# Define your dataset directories\n",
    "data_dir = r\"C:\\Users\\parth\\Downloads\\Dataset1\"\n",
    "train_dir = os.path.join(data_dir, \"train\")\n",
    "valid_dir = os.path.join(data_dir, \"valid\")\n",
    "\n",
    "# Enhanced Dataset class with feature extraction\n",
    "class EnhancedLeafDataset(Dataset):\n",
    "    def __init__(self, data_dir, transform=None, phase='train'):\n",
    "        self.data_dir = data_dir\n",
    "        self.transform = transform\n",
    "        self.phase = phase\n",
    "       \n",
    "        # Get class names and create mapping\n",
    "        self.classes = os.listdir(data_dir)\n",
    "        self.class_to_idx = {cls: idx for idx, cls in enumerate(self.classes)}\n",
    "       \n",
    "        # Get all image paths and labels\n",
    "        self.images = []\n",
    "        self.labels = []\n",
    "        for class_name in self.classes:\n",
    "            class_dir = os.path.join(data_dir, class_name)\n",
    "            if os.path.isdir(class_dir):\n",
    "                for img_name in os.listdir(class_dir):\n",
    "                    if img_name.lower().endswith(('.png', '.jpg', '.jpeg')):\n",
    "                        self.images.append(os.path.join(class_dir, img_name))\n",
    "                        self.labels.append(self.class_to_idx[class_name])\n",
    "\n",
    "    def extract_features(self, image):\n",
    "        \"\"\"Extract important features from the leaf image\"\"\"\n",
    "        img_cv = cv2.cvtColor(np.array(image), cv2.COLOR_RGB2BGR)\n",
    "       \n",
    "        # 1. Color Features\n",
    "        hsv = cv2.cvtColor(img_cv, cv2.COLOR_BGR2HSV)\n",
    "        color_features = {\n",
    "            'mean_h': hsv[:,:,0].mean(),\n",
    "            'mean_s': hsv[:,:,1].mean(),\n",
    "            'mean_v': hsv[:,:,2].mean(),\n",
    "            'std_h': hsv[:,:,0].std(),\n",
    "            'std_s': hsv[:,:,1].std(),\n",
    "            'std_v': hsv[:,:,2].std()\n",
    "        }\n",
    "       \n",
    "        # 2. Disease Spot Detection\n",
    "        lower_yellow = np.array([20, 100, 100])\n",
    "        upper_yellow = np.array([30, 255, 255])\n",
    "        yellow_mask = cv2.inRange(hsv, lower_yellow, upper_yellow)\n",
    "       \n",
    "        lower_dark = np.array([0, 0, 0])\n",
    "        upper_dark = np.array([180, 255, 50])\n",
    "        dark_mask = cv2.inRange(hsv, lower_dark, upper_dark)\n",
    "       \n",
    "        disease_features = {\n",
    "            'yellow_spot_ratio': np.sum(yellow_mask > 0) / yellow_mask.size,\n",
    "            'dark_spot_ratio': np.sum(dark_mask > 0) / dark_mask.size\n",
    "        }\n",
    "       \n",
    "        # 3. Texture Features\n",
    "        gray = cv2.cvtColor(img_cv, cv2.COLOR_BGR2GRAY)\n",
    "        glcm = np.zeros((8,8))\n",
    "        normalized_gray = ((gray/16).astype(np.uint8)).clip(0, 7)\n",
    "       \n",
    "        for i in range(normalized_gray.shape[0]-1):\n",
    "            for j in range(normalized_gray.shape[1]-1):\n",
    "                i_val = normalized_gray[i,j]\n",
    "                j_val = normalized_gray[i,j+1]\n",
    "                glcm[i_val,j_val] += 1\n",
    "       \n",
    "        glcm = glcm / (glcm.sum() + 1e-6)  # Added epsilon to prevent division by zero\n",
    "       \n",
    "        texture_features = {\n",
    "            'contrast': np.sum(np.square(np.arange(8) - np.arange(8)[:,np.newaxis]) * glcm),\n",
    "            'homogeneity': np.sum(glcm / (1 + np.square(np.arange(8) - np.arange(8)[:,np.newaxis])))\n",
    "        }\n",
    "       \n",
    "        # Combine all features\n",
    "        features = {**color_features, **disease_features, **texture_features}\n",
    "        return features\n",
    "   \n",
    "    def __len__(self):\n",
    "        return len(self.images)\n",
    "   \n",
    "    def __getitem__(self, idx):\n",
    "        img_path = self.images[idx]\n",
    "        label = self.labels[idx]\n",
    "       \n",
    "        # Load and convert image\n",
    "        image = Image.open(img_path).convert('RGB')\n",
    "       \n",
    "        # Extract features\n",
    "        features = self.extract_features(image)\n",
    "       \n",
    "        # Transform image for CNN\n",
    "        if self.transform:\n",
    "            image = self.transform(image)\n",
    "       \n",
    "        return {\n",
    "            'image': image,\n",
    "            'features': torch.tensor([list(features.values())], dtype=torch.float32).squeeze(),\n",
    "            'label': label\n",
    "        }\n",
    "\n",
    "if __name__ == \"__main__\":\n",
    "    model, progress = train_model(data_dir, num_epochs=10)\n"
   ]
  },
  {
   "cell_type": "code",
   "execution_count": 5,
   "metadata": {},
   "outputs": [
    {
     "name": "stdout",
     "output_type": "stream",
     "text": [
      "INITIAL OUTPUT TEST - VERIFY THIS IS VISIBLE\n",
      "[2025-02-26 17:08:54] Using device: cuda\n",
      "[2025-02-26 17:08:54] CUDA version: 11.8\n",
      "[2025-02-26 17:08:54] Current GPU: NVIDIA GeForce RTX 3050 Laptop GPU\n",
      "[2025-02-26 17:08:54] Using base directory: C:\\Users\\parth\\Downloads\\Dataset1\n",
      "[2025-02-26 17:08:54] Verifying datasets...\n",
      "[2025-02-26 17:09:08] Loaded train1 dataset from C:\\Users\\parth\\Downloads\\Dataset1\\train1 with 3173 samples\n",
      "[2025-02-26 17:09:08] Loaded train2 dataset from C:\\Users\\parth\\Downloads\\Dataset1\\train2 with 28268 samples\n",
      "[2025-02-26 17:09:08] Loaded train3 dataset from C:\\Users\\parth\\Downloads\\Dataset1\\train3 with 609 samples\n",
      "[2025-02-26 17:09:08] Loaded valid1 dataset from C:\\Users\\parth\\Downloads\\Dataset1\\valid1 with 3173 samples\n",
      "[2025-02-26 17:09:08] Loaded valid2 dataset from C:\\Users\\parth\\Downloads\\Dataset1\\valid2 with 28268 samples\n",
      "[2025-02-26 17:09:08] Loaded valid3 dataset from C:\\Users\\parth\\Downloads\\Dataset1\\valid3 with 609 samples\n",
      "[2025-02-26 17:09:08] Combined training samples: 32050\n",
      "[2025-02-26 17:09:08] Combined validation samples: 32050\n",
      "[2025-02-26 17:09:08] Using torch.amp for mixed precision\n",
      "[2025-02-26 17:09:08] Starting training...\n",
      "[2025-02-26 17:09:08] Starting epoch 1/15\n"
     ]
    },
    {
     "name": "stderr",
     "output_type": "stream",
     "text": [
      "Epoch 1 [Train]:   0%|          | 0/2004 [00:01<?, ?it/s, Loss=3.7906, Acc=0.00%]"
     ]
    },
    {
     "name": "stdout",
     "output_type": "stream",
     "text": [
      "[2025-02-26 17:09:10] Processed 0 training batches\n"
     ]
    },
    {
     "name": "stderr",
     "output_type": "stream",
     "text": [
      "Epoch 1 [Train]:   2%|▏         | 50/2004 [00:12<08:32,  3.81it/s, Loss=2.7647, Acc=32.60%]"
     ]
    },
    {
     "name": "stdout",
     "output_type": "stream",
     "text": [
      "[2025-02-26 17:09:21] Processed 50 training batches\n"
     ]
    },
    {
     "name": "stderr",
     "output_type": "stream",
     "text": [
      "Epoch 1 [Train]:   5%|▍         | 100/2004 [00:23<07:40,  4.14it/s, Loss=2.2786, Acc=38.24%]"
     ]
    },
    {
     "name": "stdout",
     "output_type": "stream",
     "text": [
      "[2025-02-26 17:09:32] Processed 100 training batches\n"
     ]
    },
    {
     "name": "stderr",
     "output_type": "stream",
     "text": [
      "Epoch 1 [Train]:   7%|▋         | 150/2004 [00:35<06:58,  4.43it/s, Loss=1.5695, Acc=40.73%]"
     ]
    },
    {
     "name": "stdout",
     "output_type": "stream",
     "text": [
      "[2025-02-26 17:09:44] Processed 150 training batches\n"
     ]
    },
    {
     "name": "stderr",
     "output_type": "stream",
     "text": [
      "Epoch 1 [Train]:  10%|▉         | 200/2004 [00:46<05:53,  5.10it/s, Loss=1.8148, Acc=44.78%]"
     ]
    },
    {
     "name": "stdout",
     "output_type": "stream",
     "text": [
      "[2025-02-26 17:09:55] Processed 200 training batches\n"
     ]
    },
    {
     "name": "stderr",
     "output_type": "stream",
     "text": [
      "Epoch 1 [Train]:  12%|█▏        | 250/2004 [00:57<08:43,  3.35it/s, Loss=1.4572, Acc=47.31%]"
     ]
    },
    {
     "name": "stdout",
     "output_type": "stream",
     "text": [
      "[2025-02-26 17:10:06] Processed 250 training batches\n"
     ]
    },
    {
     "name": "stderr",
     "output_type": "stream",
     "text": [
      "Epoch 1 [Train]:  15%|█▍        | 300/2004 [01:09<07:17,  3.89it/s, Loss=1.4989, Acc=49.48%]"
     ]
    },
    {
     "name": "stdout",
     "output_type": "stream",
     "text": [
      "[2025-02-26 17:10:18] Processed 300 training batches\n"
     ]
    },
    {
     "name": "stderr",
     "output_type": "stream",
     "text": [
      "Epoch 1 [Train]:  17%|█▋        | 350/2004 [01:21<05:37,  4.90it/s, Loss=1.2337, Acc=51.16%]"
     ]
    },
    {
     "name": "stdout",
     "output_type": "stream",
     "text": [
      "[2025-02-26 17:10:30] Processed 350 training batches\n"
     ]
    },
    {
     "name": "stderr",
     "output_type": "stream",
     "text": [
      "Epoch 1 [Train]:  20%|█▉        | 400/2004 [01:32<06:24,  4.17it/s, Loss=0.7356, Acc=52.59%]"
     ]
    },
    {
     "name": "stdout",
     "output_type": "stream",
     "text": [
      "[2025-02-26 17:10:41] Processed 400 training batches\n"
     ]
    },
    {
     "name": "stderr",
     "output_type": "stream",
     "text": [
      "Epoch 1 [Train]:  22%|██▏       | 450/2004 [01:44<05:25,  4.78it/s, Loss=0.6353, Acc=53.80%]"
     ]
    },
    {
     "name": "stdout",
     "output_type": "stream",
     "text": [
      "[2025-02-26 17:10:53] Processed 450 training batches\n"
     ]
    },
    {
     "name": "stderr",
     "output_type": "stream",
     "text": [
      "Epoch 1 [Train]:  25%|██▍       | 500/2004 [01:54<05:02,  4.97it/s, Loss=1.3354, Acc=55.11%]"
     ]
    },
    {
     "name": "stdout",
     "output_type": "stream",
     "text": [
      "[2025-02-26 17:11:03] Processed 500 training batches\n"
     ]
    },
    {
     "name": "stderr",
     "output_type": "stream",
     "text": [
      "Epoch 1 [Train]:  27%|██▋       | 550/2004 [02:06<05:48,  4.17it/s, Loss=1.2686, Acc=56.16%]"
     ]
    },
    {
     "name": "stdout",
     "output_type": "stream",
     "text": [
      "[2025-02-26 17:11:15] Processed 550 training batches\n"
     ]
    },
    {
     "name": "stderr",
     "output_type": "stream",
     "text": [
      "Epoch 1 [Train]:  30%|██▉       | 600/2004 [02:18<05:27,  4.29it/s, Loss=0.9226, Acc=57.33%]"
     ]
    },
    {
     "name": "stdout",
     "output_type": "stream",
     "text": [
      "[2025-02-26 17:11:27] Processed 600 training batches\n"
     ]
    },
    {
     "name": "stderr",
     "output_type": "stream",
     "text": [
      "Epoch 1 [Train]:  32%|███▏      | 650/2004 [02:29<05:21,  4.22it/s, Loss=0.4987, Acc=57.89%]"
     ]
    },
    {
     "name": "stdout",
     "output_type": "stream",
     "text": [
      "[2025-02-26 17:11:38] Processed 650 training batches\n"
     ]
    },
    {
     "name": "stderr",
     "output_type": "stream",
     "text": [
      "Epoch 1 [Train]:  35%|███▍      | 700/2004 [02:40<05:00,  4.33it/s, Loss=1.1711, Acc=58.58%]"
     ]
    },
    {
     "name": "stdout",
     "output_type": "stream",
     "text": [
      "[2025-02-26 17:11:49] Processed 700 training batches\n"
     ]
    },
    {
     "name": "stderr",
     "output_type": "stream",
     "text": [
      "Epoch 1 [Train]:  37%|███▋      | 750/2004 [02:52<05:33,  3.76it/s, Loss=1.5254, Acc=59.28%]"
     ]
    },
    {
     "name": "stdout",
     "output_type": "stream",
     "text": [
      "[2025-02-26 17:12:01] Processed 750 training batches\n"
     ]
    },
    {
     "name": "stderr",
     "output_type": "stream",
     "text": [
      "Epoch 1 [Train]:  40%|███▉      | 800/2004 [03:03<04:25,  4.53it/s, Loss=1.2668, Acc=60.02%]"
     ]
    },
    {
     "name": "stdout",
     "output_type": "stream",
     "text": [
      "[2025-02-26 17:12:12] Processed 800 training batches\n"
     ]
    },
    {
     "name": "stderr",
     "output_type": "stream",
     "text": [
      "Epoch 1 [Train]:  42%|████▏     | 850/2004 [03:15<03:48,  5.05it/s, Loss=1.3600, Acc=60.55%]"
     ]
    },
    {
     "name": "stdout",
     "output_type": "stream",
     "text": [
      "[2025-02-26 17:12:24] Processed 850 training batches\n"
     ]
    },
    {
     "name": "stderr",
     "output_type": "stream",
     "text": [
      "Epoch 1 [Train]:  45%|████▍     | 900/2004 [03:27<04:37,  3.97it/s, Loss=0.4644, Acc=61.31%]"
     ]
    },
    {
     "name": "stdout",
     "output_type": "stream",
     "text": [
      "[2025-02-26 17:12:36] Processed 900 training batches\n"
     ]
    },
    {
     "name": "stderr",
     "output_type": "stream",
     "text": [
      "Epoch 1 [Train]:  47%|████▋     | 950/2004 [03:38<04:01,  4.36it/s, Loss=1.0121, Acc=61.83%]"
     ]
    },
    {
     "name": "stdout",
     "output_type": "stream",
     "text": [
      "[2025-02-26 17:12:47] Processed 950 training batches\n"
     ]
    },
    {
     "name": "stderr",
     "output_type": "stream",
     "text": [
      "Epoch 1 [Train]:  50%|████▉     | 1000/2004 [03:50<04:10,  4.02it/s, Loss=0.8618, Acc=62.40%]"
     ]
    },
    {
     "name": "stdout",
     "output_type": "stream",
     "text": [
      "[2025-02-26 17:12:59] Processed 1000 training batches\n"
     ]
    },
    {
     "name": "stderr",
     "output_type": "stream",
     "text": [
      "Epoch 1 [Train]:  52%|█████▏    | 1050/2004 [04:01<03:08,  5.07it/s, Loss=0.5856, Acc=62.96%]"
     ]
    },
    {
     "name": "stdout",
     "output_type": "stream",
     "text": [
      "[2025-02-26 17:13:10] Processed 1050 training batches\n"
     ]
    },
    {
     "name": "stderr",
     "output_type": "stream",
     "text": [
      "Epoch 1 [Train]:  55%|█████▍    | 1100/2004 [04:14<05:14,  2.87it/s, Loss=0.7628, Acc=63.35%]"
     ]
    },
    {
     "name": "stdout",
     "output_type": "stream",
     "text": [
      "[2025-02-26 17:13:23] Processed 1100 training batches\n"
     ]
    },
    {
     "name": "stderr",
     "output_type": "stream",
     "text": [
      "Epoch 1 [Train]:  57%|█████▋    | 1150/2004 [04:30<04:25,  3.21it/s, Loss=0.8237, Acc=63.73%]"
     ]
    },
    {
     "name": "stdout",
     "output_type": "stream",
     "text": [
      "[2025-02-26 17:13:39] Processed 1150 training batches\n"
     ]
    },
    {
     "name": "stderr",
     "output_type": "stream",
     "text": [
      "Epoch 1 [Train]:  60%|█████▉    | 1200/2004 [04:44<03:58,  3.37it/s, Loss=0.9524, Acc=64.14%]"
     ]
    },
    {
     "name": "stdout",
     "output_type": "stream",
     "text": [
      "[2025-02-26 17:13:53] Processed 1200 training batches\n"
     ]
    },
    {
     "name": "stderr",
     "output_type": "stream",
     "text": [
      "Epoch 1 [Train]:  62%|██████▏   | 1250/2004 [04:59<03:21,  3.75it/s, Loss=1.2264, Acc=64.56%]"
     ]
    },
    {
     "name": "stdout",
     "output_type": "stream",
     "text": [
      "[2025-02-26 17:14:08] Processed 1250 training batches\n"
     ]
    },
    {
     "name": "stderr",
     "output_type": "stream",
     "text": [
      "Epoch 1 [Train]:  65%|██████▍   | 1300/2004 [05:14<02:51,  4.11it/s, Loss=0.5999, Acc=64.99%]"
     ]
    },
    {
     "name": "stdout",
     "output_type": "stream",
     "text": [
      "[2025-02-26 17:14:23] Processed 1300 training batches\n"
     ]
    },
    {
     "name": "stderr",
     "output_type": "stream",
     "text": [
      "Epoch 1 [Train]:  67%|██████▋   | 1350/2004 [05:28<02:51,  3.81it/s, Loss=0.7603, Acc=65.35%]"
     ]
    },
    {
     "name": "stdout",
     "output_type": "stream",
     "text": [
      "[2025-02-26 17:14:37] Processed 1350 training batches\n"
     ]
    },
    {
     "name": "stderr",
     "output_type": "stream",
     "text": [
      "Epoch 1 [Train]:  70%|██████▉   | 1400/2004 [05:43<02:54,  3.46it/s, Loss=0.6790, Acc=65.74%]"
     ]
    },
    {
     "name": "stdout",
     "output_type": "stream",
     "text": [
      "[2025-02-26 17:14:52] Processed 1400 training batches\n"
     ]
    },
    {
     "name": "stderr",
     "output_type": "stream",
     "text": [
      "Epoch 1 [Train]:  72%|███████▏  | 1450/2004 [05:59<02:26,  3.77it/s, Loss=0.6273, Acc=66.05%]"
     ]
    },
    {
     "name": "stdout",
     "output_type": "stream",
     "text": [
      "[2025-02-26 17:15:08] Processed 1450 training batches\n"
     ]
    },
    {
     "name": "stderr",
     "output_type": "stream",
     "text": [
      "Epoch 1 [Train]:  75%|███████▍  | 1500/2004 [06:14<02:39,  3.16it/s, Loss=0.7977, Acc=66.45%]"
     ]
    },
    {
     "name": "stdout",
     "output_type": "stream",
     "text": [
      "[2025-02-26 17:15:23] Processed 1500 training batches\n"
     ]
    },
    {
     "name": "stderr",
     "output_type": "stream",
     "text": [
      "Epoch 1 [Train]:  77%|███████▋  | 1550/2004 [06:30<02:18,  3.27it/s, Loss=1.2059, Acc=66.69%]"
     ]
    },
    {
     "name": "stdout",
     "output_type": "stream",
     "text": [
      "[2025-02-26 17:15:39] Processed 1550 training batches\n"
     ]
    },
    {
     "name": "stderr",
     "output_type": "stream",
     "text": [
      "Epoch 1 [Train]:  80%|███████▉  | 1600/2004 [06:45<01:38,  4.10it/s, Loss=1.1712, Acc=66.90%]"
     ]
    },
    {
     "name": "stdout",
     "output_type": "stream",
     "text": [
      "[2025-02-26 17:15:54] Processed 1600 training batches\n"
     ]
    },
    {
     "name": "stderr",
     "output_type": "stream",
     "text": [
      "Epoch 1 [Train]:  82%|████████▏ | 1650/2004 [07:00<01:41,  3.48it/s, Loss=0.7775, Acc=67.22%]"
     ]
    },
    {
     "name": "stdout",
     "output_type": "stream",
     "text": [
      "[2025-02-26 17:16:09] Processed 1650 training batches\n"
     ]
    },
    {
     "name": "stderr",
     "output_type": "stream",
     "text": [
      "Epoch 1 [Train]:  85%|████████▍ | 1700/2004 [07:15<01:19,  3.81it/s, Loss=0.6462, Acc=67.51%]"
     ]
    },
    {
     "name": "stdout",
     "output_type": "stream",
     "text": [
      "[2025-02-26 17:16:24] Processed 1700 training batches\n"
     ]
    },
    {
     "name": "stderr",
     "output_type": "stream",
     "text": [
      "Epoch 1 [Train]:  87%|████████▋ | 1750/2004 [07:29<01:00,  4.20it/s, Loss=0.5810, Acc=67.74%]"
     ]
    },
    {
     "name": "stdout",
     "output_type": "stream",
     "text": [
      "[2025-02-26 17:16:38] Processed 1750 training batches\n"
     ]
    },
    {
     "name": "stderr",
     "output_type": "stream",
     "text": [
      "Epoch 1 [Train]:  90%|████████▉ | 1800/2004 [07:43<00:51,  3.96it/s, Loss=0.5335, Acc=68.01%]"
     ]
    },
    {
     "name": "stdout",
     "output_type": "stream",
     "text": [
      "[2025-02-26 17:16:52] Processed 1800 training batches\n"
     ]
    },
    {
     "name": "stderr",
     "output_type": "stream",
     "text": [
      "Epoch 1 [Train]:  92%|█████████▏| 1850/2004 [07:57<00:43,  3.58it/s, Loss=0.8686, Acc=68.34%]"
     ]
    },
    {
     "name": "stdout",
     "output_type": "stream",
     "text": [
      "[2025-02-26 17:17:06] Processed 1850 training batches\n"
     ]
    },
    {
     "name": "stderr",
     "output_type": "stream",
     "text": [
      "Epoch 1 [Train]:  95%|█████████▍| 1900/2004 [08:12<00:37,  2.78it/s, Loss=0.5614, Acc=68.58%]"
     ]
    },
    {
     "name": "stdout",
     "output_type": "stream",
     "text": [
      "[2025-02-26 17:17:21] Processed 1900 training batches\n"
     ]
    },
    {
     "name": "stderr",
     "output_type": "stream",
     "text": [
      "Epoch 1 [Train]:  97%|█████████▋| 1950/2004 [08:27<00:13,  4.13it/s, Loss=1.6844, Acc=68.81%]"
     ]
    },
    {
     "name": "stdout",
     "output_type": "stream",
     "text": [
      "[2025-02-26 17:17:36] Processed 1950 training batches\n"
     ]
    },
    {
     "name": "stderr",
     "output_type": "stream",
     "text": [
      "Epoch 1 [Train]: 100%|█████████▉| 2000/2004 [08:42<00:01,  3.42it/s, Loss=0.4733, Acc=69.04%]"
     ]
    },
    {
     "name": "stdout",
     "output_type": "stream",
     "text": [
      "[2025-02-26 17:17:51] Processed 2000 training batches\n"
     ]
    },
    {
     "name": "stderr",
     "output_type": "stream",
     "text": [
      "Epoch 1 [Train]: 100%|██████████| 2004/2004 [08:43<00:00,  3.83it/s, Loss=3.3232, Acc=69.05%]\n",
      "Epoch 1 [Val]:   0%|          | 0/2004 [00:00<?, ?it/s, Loss=4.1359, Acc=12.50%]"
     ]
    },
    {
     "name": "stdout",
     "output_type": "stream",
     "text": [
      "[2025-02-26 17:17:52] Processed 0 validation batches\n"
     ]
    },
    {
     "name": "stderr",
     "output_type": "stream",
     "text": [
      "Epoch 1 [Val]:   1%|          | 20/2004 [00:07<09:52,  3.35it/s, Loss=2.6319, Acc=63.69%]"
     ]
    },
    {
     "name": "stdout",
     "output_type": "stream",
     "text": [
      "[2025-02-26 17:17:59] Processed 20 validation batches\n"
     ]
    },
    {
     "name": "stderr",
     "output_type": "stream",
     "text": [
      "Epoch 1 [Val]:   2%|▏         | 40/2004 [00:13<09:10,  3.57it/s, Loss=0.7480, Acc=69.05%]"
     ]
    },
    {
     "name": "stdout",
     "output_type": "stream",
     "text": [
      "[2025-02-26 17:18:05] Processed 40 validation batches\n"
     ]
    },
    {
     "name": "stderr",
     "output_type": "stream",
     "text": [
      "Epoch 1 [Val]:   3%|▎         | 60/2004 [00:20<12:24,  2.61it/s, Loss=0.7415, Acc=70.59%]"
     ]
    },
    {
     "name": "stdout",
     "output_type": "stream",
     "text": [
      "[2025-02-26 17:18:12] Processed 60 validation batches\n"
     ]
    },
    {
     "name": "stderr",
     "output_type": "stream",
     "text": [
      "Epoch 1 [Val]:   4%|▍         | 80/2004 [00:25<06:49,  4.70it/s, Loss=0.2867, Acc=72.45%]"
     ]
    },
    {
     "name": "stdout",
     "output_type": "stream",
     "text": [
      "[2025-02-26 17:18:17] Processed 80 validation batches\n"
     ]
    },
    {
     "name": "stderr",
     "output_type": "stream",
     "text": [
      "Epoch 1 [Val]:   5%|▍         | 100/2004 [00:35<10:12,  3.11it/s, Loss=0.6725, Acc=74.63%]"
     ]
    },
    {
     "name": "stdout",
     "output_type": "stream",
     "text": [
      "[2025-02-26 17:18:27] Processed 100 validation batches\n"
     ]
    },
    {
     "name": "stderr",
     "output_type": "stream",
     "text": [
      "Epoch 1 [Val]:   6%|▌         | 120/2004 [00:41<07:46,  4.04it/s, Loss=3.5120, Acc=72.21%]"
     ]
    },
    {
     "name": "stdout",
     "output_type": "stream",
     "text": [
      "[2025-02-26 17:18:33] Processed 120 validation batches\n"
     ]
    },
    {
     "name": "stderr",
     "output_type": "stream",
     "text": [
      "Epoch 1 [Val]:   7%|▋         | 140/2004 [00:52<32:22,  1.04s/it, Loss=4.3610, Acc=64.32%]"
     ]
    },
    {
     "name": "stdout",
     "output_type": "stream",
     "text": [
      "[2025-02-26 17:18:44] Processed 140 validation batches\n"
     ]
    },
    {
     "name": "stderr",
     "output_type": "stream",
     "text": [
      "Epoch 1 [Val]:   8%|▊         | 160/2004 [00:57<06:52,  4.47it/s, Loss=1.7898, Acc=61.37%]"
     ]
    },
    {
     "name": "stdout",
     "output_type": "stream",
     "text": [
      "[2025-02-26 17:18:50] Processed 160 validation batches\n"
     ]
    },
    {
     "name": "stderr",
     "output_type": "stream",
     "text": [
      "Epoch 1 [Val]:   9%|▉         | 180/2004 [01:03<11:42,  2.59it/s, Loss=4.5030, Acc=59.94%]"
     ]
    },
    {
     "name": "stdout",
     "output_type": "stream",
     "text": [
      "[2025-02-26 17:18:56] Processed 180 validation batches\n"
     ]
    },
    {
     "name": "stderr",
     "output_type": "stream",
     "text": [
      "Epoch 1 [Val]:  10%|▉         | 200/2004 [01:14<17:50,  1.68it/s, Loss=1.1992, Acc=55.78%]"
     ]
    },
    {
     "name": "stdout",
     "output_type": "stream",
     "text": [
      "[2025-02-26 17:19:06] Processed 200 validation batches\n"
     ]
    },
    {
     "name": "stderr",
     "output_type": "stream",
     "text": [
      "Epoch 1 [Val]:  11%|█         | 220/2004 [01:28<05:01,  5.91it/s, Loss=0.2036, Acc=58.29%]"
     ]
    },
    {
     "name": "stdout",
     "output_type": "stream",
     "text": [
      "[2025-02-26 17:19:20] Processed 220 validation batches\n"
     ]
    },
    {
     "name": "stderr",
     "output_type": "stream",
     "text": [
      "Epoch 1 [Val]:  12%|█▏        | 240/2004 [01:30<03:13,  9.12it/s, Loss=0.0003, Acc=61.67%]"
     ]
    },
    {
     "name": "stdout",
     "output_type": "stream",
     "text": [
      "[2025-02-26 17:19:23] Processed 240 validation batches\n"
     ]
    },
    {
     "name": "stderr",
     "output_type": "stream",
     "text": [
      "Epoch 1 [Val]:  13%|█▎        | 260/2004 [01:33<03:09,  9.19it/s, Loss=0.0023, Acc=64.58%]"
     ]
    },
    {
     "name": "stdout",
     "output_type": "stream",
     "text": [
      "[2025-02-26 17:19:25] Processed 260 validation batches\n"
     ]
    },
    {
     "name": "stderr",
     "output_type": "stream",
     "text": [
      "Epoch 1 [Val]:  14%|█▍        | 280/2004 [01:35<03:20,  8.61it/s, Loss=0.0070, Acc=66.88%]"
     ]
    },
    {
     "name": "stdout",
     "output_type": "stream",
     "text": [
      "[2025-02-26 17:19:27] Processed 280 validation batches\n"
     ]
    },
    {
     "name": "stderr",
     "output_type": "stream",
     "text": [
      "Epoch 1 [Val]:  15%|█▍        | 300/2004 [01:37<03:18,  8.59it/s, Loss=0.0459, Acc=68.94%]"
     ]
    },
    {
     "name": "stdout",
     "output_type": "stream",
     "text": [
      "[2025-02-26 17:19:30] Processed 300 validation batches\n"
     ]
    },
    {
     "name": "stderr",
     "output_type": "stream",
     "text": [
      "Epoch 1 [Val]:  16%|█▌        | 320/2004 [01:39<03:11,  8.78it/s, Loss=0.0190, Acc=70.68%]"
     ]
    },
    {
     "name": "stdout",
     "output_type": "stream",
     "text": [
      "[2025-02-26 17:19:32] Processed 320 validation batches\n"
     ]
    },
    {
     "name": "stderr",
     "output_type": "stream",
     "text": [
      "Epoch 1 [Val]:  17%|█▋        | 340/2004 [01:42<03:22,  8.22it/s, Loss=0.0360, Acc=72.27%]"
     ]
    },
    {
     "name": "stdout",
     "output_type": "stream",
     "text": [
      "[2025-02-26 17:19:34] Processed 340 validation batches\n"
     ]
    },
    {
     "name": "stderr",
     "output_type": "stream",
     "text": [
      "Epoch 1 [Val]:  18%|█▊        | 360/2004 [01:44<03:02,  9.01it/s, Loss=0.0827, Acc=73.63%]"
     ]
    },
    {
     "name": "stdout",
     "output_type": "stream",
     "text": [
      "[2025-02-26 17:19:37] Processed 360 validation batches\n"
     ]
    },
    {
     "name": "stderr",
     "output_type": "stream",
     "text": [
      "Epoch 1 [Val]:  19%|█▉        | 380/2004 [01:46<02:59,  9.03it/s, Loss=0.0269, Acc=74.89%]"
     ]
    },
    {
     "name": "stdout",
     "output_type": "stream",
     "text": [
      "[2025-02-26 17:19:39] Processed 380 validation batches\n"
     ]
    },
    {
     "name": "stderr",
     "output_type": "stream",
     "text": [
      "Epoch 1 [Val]:  20%|█▉        | 400/2004 [01:49<03:14,  8.26it/s, Loss=0.1424, Acc=75.92%]"
     ]
    },
    {
     "name": "stdout",
     "output_type": "stream",
     "text": [
      "[2025-02-26 17:19:41] Processed 400 validation batches\n"
     ]
    },
    {
     "name": "stderr",
     "output_type": "stream",
     "text": [
      "Epoch 1 [Val]:  21%|██        | 420/2004 [01:51<02:58,  8.89it/s, Loss=0.0257, Acc=76.87%]"
     ]
    },
    {
     "name": "stdout",
     "output_type": "stream",
     "text": [
      "[2025-02-26 17:19:43] Processed 420 validation batches\n"
     ]
    },
    {
     "name": "stderr",
     "output_type": "stream",
     "text": [
      "Epoch 1 [Val]:  22%|██▏       | 440/2004 [01:53<03:00,  8.67it/s, Loss=0.0631, Acc=77.78%]"
     ]
    },
    {
     "name": "stdout",
     "output_type": "stream",
     "text": [
      "[2025-02-26 17:19:46] Processed 440 validation batches\n"
     ]
    },
    {
     "name": "stderr",
     "output_type": "stream",
     "text": [
      "Epoch 1 [Val]:  23%|██▎       | 460/2004 [02:07<11:55,  2.16it/s, Loss=0.8031, Acc=77.87%]"
     ]
    },
    {
     "name": "stdout",
     "output_type": "stream",
     "text": [
      "[2025-02-26 17:19:59] Processed 460 validation batches\n"
     ]
    },
    {
     "name": "stderr",
     "output_type": "stream",
     "text": [
      "Epoch 1 [Val]:  24%|██▍       | 480/2004 [02:12<07:28,  3.40it/s, Loss=2.4653, Acc=77.61%]"
     ]
    },
    {
     "name": "stdout",
     "output_type": "stream",
     "text": [
      "[2025-02-26 17:20:05] Processed 480 validation batches\n"
     ]
    },
    {
     "name": "stderr",
     "output_type": "stream",
     "text": [
      "Epoch 1 [Val]:  25%|██▍       | 500/2004 [02:19<03:00,  8.34it/s, Loss=0.0395, Acc=77.82%]"
     ]
    },
    {
     "name": "stdout",
     "output_type": "stream",
     "text": [
      "[2025-02-26 17:20:12] Processed 500 validation batches\n"
     ]
    },
    {
     "name": "stderr",
     "output_type": "stream",
     "text": [
      "Epoch 1 [Val]:  26%|██▌       | 520/2004 [02:21<02:50,  8.71it/s, Loss=0.1342, Acc=78.55%]"
     ]
    },
    {
     "name": "stdout",
     "output_type": "stream",
     "text": [
      "[2025-02-26 17:20:14] Processed 520 validation batches\n"
     ]
    },
    {
     "name": "stderr",
     "output_type": "stream",
     "text": [
      "Epoch 1 [Val]:  27%|██▋       | 540/2004 [02:24<04:19,  5.64it/s, Loss=0.5158, Acc=79.19%]"
     ]
    },
    {
     "name": "stdout",
     "output_type": "stream",
     "text": [
      "[2025-02-26 17:20:17] Processed 540 validation batches\n"
     ]
    },
    {
     "name": "stderr",
     "output_type": "stream",
     "text": [
      "Epoch 1 [Val]:  28%|██▊       | 560/2004 [02:28<03:04,  7.85it/s, Loss=0.2078, Acc=79.77%]"
     ]
    },
    {
     "name": "stdout",
     "output_type": "stream",
     "text": [
      "[2025-02-26 17:20:20] Processed 560 validation batches\n"
     ]
    },
    {
     "name": "stderr",
     "output_type": "stream",
     "text": [
      "Epoch 1 [Val]:  29%|██▉       | 580/2004 [02:32<06:38,  3.57it/s, Loss=0.4216, Acc=80.31%]"
     ]
    },
    {
     "name": "stdout",
     "output_type": "stream",
     "text": [
      "[2025-02-26 17:20:24] Processed 580 validation batches\n"
     ]
    },
    {
     "name": "stderr",
     "output_type": "stream",
     "text": [
      "Epoch 1 [Val]:  30%|██▉       | 600/2004 [02:34<02:52,  8.16it/s, Loss=0.0096, Acc=80.89%]"
     ]
    },
    {
     "name": "stdout",
     "output_type": "stream",
     "text": [
      "[2025-02-26 17:20:27] Processed 600 validation batches\n"
     ]
    },
    {
     "name": "stderr",
     "output_type": "stream",
     "text": [
      "Epoch 1 [Val]:  31%|███       | 620/2004 [02:37<02:47,  8.27it/s, Loss=0.0027, Acc=81.49%]"
     ]
    },
    {
     "name": "stdout",
     "output_type": "stream",
     "text": [
      "[2025-02-26 17:20:29] Processed 620 validation batches\n"
     ]
    },
    {
     "name": "stderr",
     "output_type": "stream",
     "text": [
      "Epoch 1 [Val]:  32%|███▏      | 640/2004 [02:39<02:50,  7.98it/s, Loss=0.0079, Acc=82.05%]"
     ]
    },
    {
     "name": "stdout",
     "output_type": "stream",
     "text": [
      "[2025-02-26 17:20:32] Processed 640 validation batches\n"
     ]
    },
    {
     "name": "stderr",
     "output_type": "stream",
     "text": [
      "Epoch 1 [Val]:  33%|███▎      | 660/2004 [02:42<02:47,  8.03it/s, Loss=0.0976, Acc=82.55%]"
     ]
    },
    {
     "name": "stdout",
     "output_type": "stream",
     "text": [
      "[2025-02-26 17:20:34] Processed 660 validation batches\n"
     ]
    },
    {
     "name": "stderr",
     "output_type": "stream",
     "text": [
      "Epoch 1 [Val]:  34%|███▍      | 680/2004 [02:44<02:48,  7.86it/s, Loss=0.0242, Acc=83.00%]"
     ]
    },
    {
     "name": "stdout",
     "output_type": "stream",
     "text": [
      "[2025-02-26 17:20:37] Processed 680 validation batches\n"
     ]
    },
    {
     "name": "stderr",
     "output_type": "stream",
     "text": [
      "Epoch 1 [Val]:  35%|███▍      | 700/2004 [02:47<02:42,  8.01it/s, Loss=0.0300, Acc=83.43%]"
     ]
    },
    {
     "name": "stdout",
     "output_type": "stream",
     "text": [
      "[2025-02-26 17:20:39] Processed 700 validation batches\n"
     ]
    },
    {
     "name": "stderr",
     "output_type": "stream",
     "text": [
      "Epoch 1 [Val]:  36%|███▌      | 720/2004 [02:49<02:43,  7.86it/s, Loss=0.0454, Acc=83.85%]"
     ]
    },
    {
     "name": "stdout",
     "output_type": "stream",
     "text": [
      "[2025-02-26 17:20:42] Processed 720 validation batches\n"
     ]
    },
    {
     "name": "stderr",
     "output_type": "stream",
     "text": [
      "Epoch 1 [Val]:  37%|███▋      | 740/2004 [02:53<02:43,  7.75it/s, Loss=0.9385, Acc=84.16%]"
     ]
    },
    {
     "name": "stdout",
     "output_type": "stream",
     "text": [
      "[2025-02-26 17:20:46] Processed 740 validation batches\n"
     ]
    },
    {
     "name": "stderr",
     "output_type": "stream",
     "text": [
      "Epoch 1 [Val]:  38%|███▊      | 760/2004 [03:05<06:59,  2.97it/s, Loss=0.1170, Acc=84.40%]"
     ]
    },
    {
     "name": "stdout",
     "output_type": "stream",
     "text": [
      "[2025-02-26 17:20:58] Processed 760 validation batches\n"
     ]
    },
    {
     "name": "stderr",
     "output_type": "stream",
     "text": [
      "Epoch 1 [Val]:  39%|███▉      | 780/2004 [03:14<06:50,  2.98it/s, Loss=0.0472, Acc=84.73%]"
     ]
    },
    {
     "name": "stdout",
     "output_type": "stream",
     "text": [
      "[2025-02-26 17:21:06] Processed 780 validation batches\n"
     ]
    },
    {
     "name": "stderr",
     "output_type": "stream",
     "text": [
      "Epoch 1 [Val]:  40%|███▉      | 800/2004 [03:16<02:31,  7.93it/s, Loss=0.1446, Acc=85.05%]"
     ]
    },
    {
     "name": "stdout",
     "output_type": "stream",
     "text": [
      "[2025-02-26 17:21:09] Processed 800 validation batches\n"
     ]
    },
    {
     "name": "stderr",
     "output_type": "stream",
     "text": [
      "Epoch 1 [Val]:  41%|████      | 820/2004 [03:19<02:24,  8.20it/s, Loss=0.0597, Acc=85.39%]"
     ]
    },
    {
     "name": "stdout",
     "output_type": "stream",
     "text": [
      "[2025-02-26 17:21:11] Processed 820 validation batches\n"
     ]
    },
    {
     "name": "stderr",
     "output_type": "stream",
     "text": [
      "Epoch 1 [Val]:  42%|████▏     | 840/2004 [03:24<04:18,  4.51it/s, Loss=0.4553, Acc=85.58%]"
     ]
    },
    {
     "name": "stdout",
     "output_type": "stream",
     "text": [
      "[2025-02-26 17:21:17] Processed 840 validation batches\n"
     ]
    },
    {
     "name": "stderr",
     "output_type": "stream",
     "text": [
      "Epoch 1 [Val]:  43%|████▎     | 860/2004 [03:30<09:07,  2.09it/s, Loss=1.2138, Acc=85.72%]"
     ]
    },
    {
     "name": "stdout",
     "output_type": "stream",
     "text": [
      "[2025-02-26 17:21:22] Processed 860 validation batches\n"
     ]
    },
    {
     "name": "stderr",
     "output_type": "stream",
     "text": [
      "Epoch 1 [Val]:  44%|████▍     | 880/2004 [03:34<03:52,  4.84it/s, Loss=1.5221, Acc=84.90%]"
     ]
    },
    {
     "name": "stdout",
     "output_type": "stream",
     "text": [
      "[2025-02-26 17:21:26] Processed 880 validation batches\n"
     ]
    },
    {
     "name": "stderr",
     "output_type": "stream",
     "text": [
      "Epoch 1 [Val]:  45%|████▍     | 900/2004 [03:39<04:22,  4.21it/s, Loss=0.0685, Acc=84.27%]"
     ]
    },
    {
     "name": "stdout",
     "output_type": "stream",
     "text": [
      "[2025-02-26 17:21:31] Processed 900 validation batches\n"
     ]
    },
    {
     "name": "stderr",
     "output_type": "stream",
     "text": [
      "Epoch 1 [Val]:  46%|████▌     | 920/2004 [03:44<05:01,  3.59it/s, Loss=1.7723, Acc=84.13%]"
     ]
    },
    {
     "name": "stdout",
     "output_type": "stream",
     "text": [
      "[2025-02-26 17:21:36] Processed 920 validation batches\n"
     ]
    },
    {
     "name": "stderr",
     "output_type": "stream",
     "text": [
      "Epoch 1 [Val]:  47%|████▋     | 940/2004 [03:49<03:46,  4.69it/s, Loss=0.0611, Acc=83.98%]"
     ]
    },
    {
     "name": "stdout",
     "output_type": "stream",
     "text": [
      "[2025-02-26 17:21:42] Processed 940 validation batches\n"
     ]
    },
    {
     "name": "stderr",
     "output_type": "stream",
     "text": [
      "Epoch 1 [Val]:  48%|████▊     | 960/2004 [03:53<03:35,  4.84it/s, Loss=0.1288, Acc=84.09%]"
     ]
    },
    {
     "name": "stdout",
     "output_type": "stream",
     "text": [
      "[2025-02-26 17:21:46] Processed 960 validation batches\n"
     ]
    },
    {
     "name": "stderr",
     "output_type": "stream",
     "text": [
      "Epoch 1 [Val]:  49%|████▉     | 980/2004 [04:05<19:02,  1.12s/it, Loss=0.9796, Acc=83.98%]"
     ]
    },
    {
     "name": "stdout",
     "output_type": "stream",
     "text": [
      "[2025-02-26 17:21:57] Processed 980 validation batches\n"
     ]
    },
    {
     "name": "stderr",
     "output_type": "stream",
     "text": [
      "Epoch 1 [Val]:  50%|████▉     | 1000/2004 [04:12<03:53,  4.30it/s, Loss=0.7737, Acc=83.79%]"
     ]
    },
    {
     "name": "stdout",
     "output_type": "stream",
     "text": [
      "[2025-02-26 17:22:04] Processed 1000 validation batches\n"
     ]
    },
    {
     "name": "stderr",
     "output_type": "stream",
     "text": [
      "Epoch 1 [Val]:  51%|█████     | 1020/2004 [04:17<03:21,  4.89it/s, Loss=0.5908, Acc=83.93%]"
     ]
    },
    {
     "name": "stdout",
     "output_type": "stream",
     "text": [
      "[2025-02-26 17:22:09] Processed 1020 validation batches\n"
     ]
    },
    {
     "name": "stderr",
     "output_type": "stream",
     "text": [
      "Epoch 1 [Val]:  52%|█████▏    | 1040/2004 [04:25<03:16,  4.90it/s, Loss=0.0008, Acc=83.68%]"
     ]
    },
    {
     "name": "stdout",
     "output_type": "stream",
     "text": [
      "[2025-02-26 17:22:17] Processed 1040 validation batches\n"
     ]
    },
    {
     "name": "stderr",
     "output_type": "stream",
     "text": [
      "Epoch 1 [Val]:  53%|█████▎    | 1060/2004 [04:31<05:22,  2.92it/s, Loss=0.0020, Acc=83.81%]"
     ]
    },
    {
     "name": "stdout",
     "output_type": "stream",
     "text": [
      "[2025-02-26 17:22:23] Processed 1060 validation batches\n"
     ]
    },
    {
     "name": "stderr",
     "output_type": "stream",
     "text": [
      "Epoch 1 [Val]:  54%|█████▍    | 1080/2004 [04:40<07:53,  1.95it/s, Loss=0.0763, Acc=84.07%]"
     ]
    },
    {
     "name": "stdout",
     "output_type": "stream",
     "text": [
      "[2025-02-26 17:22:32] Processed 1080 validation batches\n"
     ]
    },
    {
     "name": "stderr",
     "output_type": "stream",
     "text": [
      "Epoch 1 [Val]:  55%|█████▍    | 1100/2004 [05:02<20:35,  1.37s/it, Loss=0.0071, Acc=83.86%]"
     ]
    },
    {
     "name": "stdout",
     "output_type": "stream",
     "text": [
      "[2025-02-26 17:22:54] Processed 1100 validation batches\n"
     ]
    },
    {
     "name": "stderr",
     "output_type": "stream",
     "text": [
      "Epoch 1 [Val]:  56%|█████▌    | 1120/2004 [05:25<18:39,  1.27s/it, Loss=0.4768, Acc=84.05%]"
     ]
    },
    {
     "name": "stdout",
     "output_type": "stream",
     "text": [
      "[2025-02-26 17:23:17] Processed 1120 validation batches\n"
     ]
    },
    {
     "name": "stderr",
     "output_type": "stream",
     "text": [
      "Epoch 1 [Val]:  57%|█████▋    | 1140/2004 [05:29<02:58,  4.83it/s, Loss=0.0372, Acc=84.33%]"
     ]
    },
    {
     "name": "stdout",
     "output_type": "stream",
     "text": [
      "[2025-02-26 17:23:22] Processed 1140 validation batches\n"
     ]
    },
    {
     "name": "stderr",
     "output_type": "stream",
     "text": [
      "Epoch 1 [Val]:  58%|█████▊    | 1160/2004 [05:34<03:11,  4.41it/s, Loss=0.0126, Acc=84.60%]"
     ]
    },
    {
     "name": "stdout",
     "output_type": "stream",
     "text": [
      "[2025-02-26 17:23:26] Processed 1160 validation batches\n"
     ]
    },
    {
     "name": "stderr",
     "output_type": "stream",
     "text": [
      "Epoch 1 [Val]:  59%|█████▉    | 1180/2004 [05:38<02:49,  4.87it/s, Loss=0.0395, Acc=84.84%]"
     ]
    },
    {
     "name": "stdout",
     "output_type": "stream",
     "text": [
      "[2025-02-26 17:23:30] Processed 1180 validation batches\n"
     ]
    },
    {
     "name": "stderr",
     "output_type": "stream",
     "text": [
      "Epoch 1 [Val]:  60%|█████▉    | 1200/2004 [05:40<01:35,  8.46it/s, Loss=0.0704, Acc=84.91%]"
     ]
    },
    {
     "name": "stdout",
     "output_type": "stream",
     "text": [
      "[2025-02-26 17:23:33] Processed 1200 validation batches\n"
     ]
    },
    {
     "name": "stderr",
     "output_type": "stream",
     "text": [
      "Epoch 1 [Val]:  61%|██████    | 1220/2004 [05:44<02:28,  5.29it/s, Loss=0.3431, Acc=84.76%]"
     ]
    },
    {
     "name": "stdout",
     "output_type": "stream",
     "text": [
      "[2025-02-26 17:23:36] Processed 1220 validation batches\n"
     ]
    },
    {
     "name": "stderr",
     "output_type": "stream",
     "text": [
      "Epoch 1 [Val]:  62%|██████▏   | 1240/2004 [05:48<02:31,  5.03it/s, Loss=0.0177, Acc=85.00%]"
     ]
    },
    {
     "name": "stdout",
     "output_type": "stream",
     "text": [
      "[2025-02-26 17:23:40] Processed 1240 validation batches\n"
     ]
    },
    {
     "name": "stderr",
     "output_type": "stream",
     "text": [
      "Epoch 1 [Val]:  63%|██████▎   | 1260/2004 [05:52<02:53,  4.29it/s, Loss=0.0013, Acc=85.24%]"
     ]
    },
    {
     "name": "stdout",
     "output_type": "stream",
     "text": [
      "[2025-02-26 17:23:45] Processed 1260 validation batches\n"
     ]
    },
    {
     "name": "stderr",
     "output_type": "stream",
     "text": [
      "Epoch 1 [Val]:  64%|██████▍   | 1280/2004 [05:56<02:31,  4.77it/s, Loss=0.0094, Acc=85.47%]"
     ]
    },
    {
     "name": "stdout",
     "output_type": "stream",
     "text": [
      "[2025-02-26 17:23:49] Processed 1280 validation batches\n"
     ]
    },
    {
     "name": "stderr",
     "output_type": "stream",
     "text": [
      "Epoch 1 [Val]:  65%|██████▍   | 1300/2004 [06:01<03:15,  3.61it/s, Loss=1.6826, Acc=85.33%]"
     ]
    },
    {
     "name": "stdout",
     "output_type": "stream",
     "text": [
      "[2025-02-26 17:23:53] Processed 1300 validation batches\n"
     ]
    },
    {
     "name": "stderr",
     "output_type": "stream",
     "text": [
      "Epoch 1 [Val]:  66%|██████▌   | 1320/2004 [06:05<02:18,  4.92it/s, Loss=0.3650, Acc=85.39%]"
     ]
    },
    {
     "name": "stdout",
     "output_type": "stream",
     "text": [
      "[2025-02-26 17:23:58] Processed 1320 validation batches\n"
     ]
    },
    {
     "name": "stderr",
     "output_type": "stream",
     "text": [
      "Epoch 1 [Val]:  67%|██████▋   | 1340/2004 [06:10<02:43,  4.07it/s, Loss=2.2755, Acc=85.23%]"
     ]
    },
    {
     "name": "stdout",
     "output_type": "stream",
     "text": [
      "[2025-02-26 17:24:03] Processed 1340 validation batches\n"
     ]
    },
    {
     "name": "stderr",
     "output_type": "stream",
     "text": [
      "Epoch 1 [Val]:  68%|██████▊   | 1360/2004 [06:14<01:49,  5.86it/s, Loss=0.1212, Acc=85.38%]"
     ]
    },
    {
     "name": "stdout",
     "output_type": "stream",
     "text": [
      "[2025-02-26 17:24:06] Processed 1360 validation batches\n"
     ]
    },
    {
     "name": "stderr",
     "output_type": "stream",
     "text": [
      "Epoch 1 [Val]:  69%|██████▉   | 1380/2004 [06:16<01:08,  9.12it/s, Loss=0.3774, Acc=85.49%]"
     ]
    },
    {
     "name": "stdout",
     "output_type": "stream",
     "text": [
      "[2025-02-26 17:24:08] Processed 1380 validation batches\n"
     ]
    },
    {
     "name": "stderr",
     "output_type": "stream",
     "text": [
      "Epoch 1 [Val]:  70%|██████▉   | 1400/2004 [06:18<01:08,  8.77it/s, Loss=0.5688, Acc=85.62%]"
     ]
    },
    {
     "name": "stdout",
     "output_type": "stream",
     "text": [
      "[2025-02-26 17:24:11] Processed 1400 validation batches\n"
     ]
    },
    {
     "name": "stderr",
     "output_type": "stream",
     "text": [
      "Epoch 1 [Val]:  71%|███████   | 1420/2004 [06:20<01:06,  8.84it/s, Loss=0.1281, Acc=85.78%]"
     ]
    },
    {
     "name": "stdout",
     "output_type": "stream",
     "text": [
      "[2025-02-26 17:24:13] Processed 1420 validation batches\n"
     ]
    },
    {
     "name": "stderr",
     "output_type": "stream",
     "text": [
      "Epoch 1 [Val]:  72%|███████▏  | 1440/2004 [06:23<01:05,  8.57it/s, Loss=0.1084, Acc=85.92%]"
     ]
    },
    {
     "name": "stdout",
     "output_type": "stream",
     "text": [
      "[2025-02-26 17:24:15] Processed 1440 validation batches\n"
     ]
    },
    {
     "name": "stderr",
     "output_type": "stream",
     "text": [
      "Epoch 1 [Val]:  73%|███████▎  | 1460/2004 [06:25<01:07,  8.08it/s, Loss=0.0987, Acc=86.07%]"
     ]
    },
    {
     "name": "stdout",
     "output_type": "stream",
     "text": [
      "[2025-02-26 17:24:17] Processed 1460 validation batches\n"
     ]
    },
    {
     "name": "stderr",
     "output_type": "stream",
     "text": [
      "Epoch 1 [Val]:  74%|███████▍  | 1480/2004 [06:27<01:01,  8.54it/s, Loss=0.0125, Acc=86.19%]"
     ]
    },
    {
     "name": "stdout",
     "output_type": "stream",
     "text": [
      "[2025-02-26 17:24:20] Processed 1480 validation batches\n"
     ]
    },
    {
     "name": "stderr",
     "output_type": "stream",
     "text": [
      "Epoch 1 [Val]:  75%|███████▍  | 1500/2004 [06:30<00:57,  8.74it/s, Loss=0.0463, Acc=86.32%]"
     ]
    },
    {
     "name": "stdout",
     "output_type": "stream",
     "text": [
      "[2025-02-26 17:24:22] Processed 1500 validation batches\n"
     ]
    },
    {
     "name": "stderr",
     "output_type": "stream",
     "text": [
      "Epoch 1 [Val]:  76%|███████▌  | 1520/2004 [06:32<00:54,  8.85it/s, Loss=0.1141, Acc=86.47%]"
     ]
    },
    {
     "name": "stdout",
     "output_type": "stream",
     "text": [
      "[2025-02-26 17:24:24] Processed 1520 validation batches\n"
     ]
    },
    {
     "name": "stderr",
     "output_type": "stream",
     "text": [
      "Epoch 1 [Val]:  77%|███████▋  | 1540/2004 [06:37<03:47,  2.04it/s, Loss=0.2121, Acc=86.62%]"
     ]
    },
    {
     "name": "stdout",
     "output_type": "stream",
     "text": [
      "[2025-02-26 17:24:29] Processed 1540 validation batches\n"
     ]
    },
    {
     "name": "stderr",
     "output_type": "stream",
     "text": [
      "Epoch 1 [Val]:  78%|███████▊  | 1560/2004 [06:46<02:18,  3.20it/s, Loss=0.1589, Acc=86.64%]"
     ]
    },
    {
     "name": "stdout",
     "output_type": "stream",
     "text": [
      "[2025-02-26 17:24:39] Processed 1560 validation batches\n"
     ]
    },
    {
     "name": "stderr",
     "output_type": "stream",
     "text": [
      "Epoch 1 [Val]:  79%|███████▉  | 1580/2004 [06:54<01:56,  3.64it/s, Loss=0.0245, Acc=86.72%]"
     ]
    },
    {
     "name": "stdout",
     "output_type": "stream",
     "text": [
      "[2025-02-26 17:24:46] Processed 1580 validation batches\n"
     ]
    },
    {
     "name": "stderr",
     "output_type": "stream",
     "text": [
      "Epoch 1 [Val]:  80%|███████▉  | 1600/2004 [06:56<00:47,  8.49it/s, Loss=0.1863, Acc=86.85%]"
     ]
    },
    {
     "name": "stdout",
     "output_type": "stream",
     "text": [
      "[2025-02-26 17:24:48] Processed 1600 validation batches\n"
     ]
    },
    {
     "name": "stderr",
     "output_type": "stream",
     "text": [
      "Epoch 1 [Val]:  81%|████████  | 1620/2004 [07:12<06:56,  1.09s/it, Loss=0.2385, Acc=86.81%]"
     ]
    },
    {
     "name": "stdout",
     "output_type": "stream",
     "text": [
      "[2025-02-26 17:25:04] Processed 1620 validation batches\n"
     ]
    },
    {
     "name": "stderr",
     "output_type": "stream",
     "text": [
      "Epoch 1 [Val]:  82%|████████▏ | 1640/2004 [07:32<01:58,  3.06it/s, Loss=0.0278, Acc=86.78%]"
     ]
    },
    {
     "name": "stdout",
     "output_type": "stream",
     "text": [
      "[2025-02-26 17:25:24] Processed 1640 validation batches\n"
     ]
    },
    {
     "name": "stderr",
     "output_type": "stream",
     "text": [
      "Epoch 1 [Val]:  83%|████████▎ | 1660/2004 [07:36<01:17,  4.42it/s, Loss=0.2631, Acc=86.76%]"
     ]
    },
    {
     "name": "stdout",
     "output_type": "stream",
     "text": [
      "[2025-02-26 17:25:29] Processed 1660 validation batches\n"
     ]
    },
    {
     "name": "stderr",
     "output_type": "stream",
     "text": [
      "Epoch 1 [Val]:  84%|████████▍ | 1680/2004 [07:42<01:15,  4.27it/s, Loss=0.1537, Acc=86.67%]"
     ]
    },
    {
     "name": "stdout",
     "output_type": "stream",
     "text": [
      "[2025-02-26 17:25:34] Processed 1680 validation batches\n"
     ]
    },
    {
     "name": "stderr",
     "output_type": "stream",
     "text": [
      "Epoch 1 [Val]:  85%|████████▍ | 1700/2004 [07:46<01:07,  4.52it/s, Loss=1.1424, Acc=86.66%]"
     ]
    },
    {
     "name": "stdout",
     "output_type": "stream",
     "text": [
      "[2025-02-26 17:25:39] Processed 1700 validation batches\n"
     ]
    },
    {
     "name": "stderr",
     "output_type": "stream",
     "text": [
      "Epoch 1 [Val]:  86%|████████▌ | 1720/2004 [07:51<01:00,  4.68it/s, Loss=0.1019, Acc=86.64%]"
     ]
    },
    {
     "name": "stdout",
     "output_type": "stream",
     "text": [
      "[2025-02-26 17:25:44] Processed 1720 validation batches\n"
     ]
    },
    {
     "name": "stderr",
     "output_type": "stream",
     "text": [
      "Epoch 1 [Val]:  87%|████████▋ | 1740/2004 [07:56<00:58,  4.54it/s, Loss=0.0887, Acc=86.69%]"
     ]
    },
    {
     "name": "stdout",
     "output_type": "stream",
     "text": [
      "[2025-02-26 17:25:48] Processed 1740 validation batches\n"
     ]
    },
    {
     "name": "stderr",
     "output_type": "stream",
     "text": [
      "Epoch 1 [Val]:  88%|████████▊ | 1760/2004 [08:00<00:53,  4.57it/s, Loss=0.0117, Acc=86.83%]"
     ]
    },
    {
     "name": "stdout",
     "output_type": "stream",
     "text": [
      "[2025-02-26 17:25:52] Processed 1760 validation batches\n"
     ]
    },
    {
     "name": "stderr",
     "output_type": "stream",
     "text": [
      "Epoch 1 [Val]:  89%|████████▉ | 1780/2004 [08:10<01:47,  2.09it/s, Loss=0.2687, Acc=86.80%]"
     ]
    },
    {
     "name": "stdout",
     "output_type": "stream",
     "text": [
      "[2025-02-26 17:26:03] Processed 1780 validation batches\n"
     ]
    },
    {
     "name": "stderr",
     "output_type": "stream",
     "text": [
      "Epoch 1 [Val]:  90%|████████▉ | 1800/2004 [08:15<00:44,  4.63it/s, Loss=0.1952, Acc=86.89%]"
     ]
    },
    {
     "name": "stdout",
     "output_type": "stream",
     "text": [
      "[2025-02-26 17:26:07] Processed 1800 validation batches\n"
     ]
    },
    {
     "name": "stderr",
     "output_type": "stream",
     "text": [
      "Epoch 1 [Val]:  91%|█████████ | 1820/2004 [08:21<00:41,  4.48it/s, Loss=0.0138, Acc=86.99%]"
     ]
    },
    {
     "name": "stdout",
     "output_type": "stream",
     "text": [
      "[2025-02-26 17:26:14] Processed 1820 validation batches\n"
     ]
    },
    {
     "name": "stderr",
     "output_type": "stream",
     "text": [
      "Epoch 1 [Val]:  92%|█████████▏| 1840/2004 [08:26<00:36,  4.51it/s, Loss=0.0473, Acc=87.13%]"
     ]
    },
    {
     "name": "stdout",
     "output_type": "stream",
     "text": [
      "[2025-02-26 17:26:18] Processed 1840 validation batches\n"
     ]
    },
    {
     "name": "stderr",
     "output_type": "stream",
     "text": [
      "Epoch 1 [Val]:  93%|█████████▎| 1860/2004 [08:30<00:30,  4.72it/s, Loss=0.0381, Acc=87.26%]"
     ]
    },
    {
     "name": "stdout",
     "output_type": "stream",
     "text": [
      "[2025-02-26 17:26:22] Processed 1860 validation batches\n"
     ]
    },
    {
     "name": "stderr",
     "output_type": "stream",
     "text": [
      "Epoch 1 [Val]:  94%|█████████▍| 1880/2004 [08:44<01:46,  1.16it/s, Loss=0.5158, Acc=87.22%]"
     ]
    },
    {
     "name": "stdout",
     "output_type": "stream",
     "text": [
      "[2025-02-26 17:26:36] Processed 1880 validation batches\n"
     ]
    },
    {
     "name": "stderr",
     "output_type": "stream",
     "text": [
      "Epoch 1 [Val]:  95%|█████████▍| 1900/2004 [08:51<00:32,  3.16it/s, Loss=0.0408, Acc=87.15%]"
     ]
    },
    {
     "name": "stdout",
     "output_type": "stream",
     "text": [
      "[2025-02-26 17:26:43] Processed 1900 validation batches\n"
     ]
    },
    {
     "name": "stderr",
     "output_type": "stream",
     "text": [
      "Epoch 1 [Val]:  96%|█████████▌| 1920/2004 [08:58<00:11,  7.46it/s, Loss=0.1741, Acc=87.22%]"
     ]
    },
    {
     "name": "stdout",
     "output_type": "stream",
     "text": [
      "[2025-02-26 17:26:51] Processed 1920 validation batches\n"
     ]
    },
    {
     "name": "stderr",
     "output_type": "stream",
     "text": [
      "Epoch 1 [Val]:  97%|█████████▋| 1940/2004 [09:03<00:15,  4.21it/s, Loss=0.0963, Acc=87.24%]"
     ]
    },
    {
     "name": "stdout",
     "output_type": "stream",
     "text": [
      "[2025-02-26 17:26:55] Processed 1940 validation batches\n"
     ]
    },
    {
     "name": "stderr",
     "output_type": "stream",
     "text": [
      "Epoch 1 [Val]:  98%|█████████▊| 1960/2004 [09:07<00:10,  4.37it/s, Loss=0.1172, Acc=87.33%]"
     ]
    },
    {
     "name": "stdout",
     "output_type": "stream",
     "text": [
      "[2025-02-26 17:27:00] Processed 1960 validation batches\n"
     ]
    },
    {
     "name": "stderr",
     "output_type": "stream",
     "text": [
      "Epoch 1 [Val]:  99%|█████████▉| 1979/2004 [09:10<00:03,  7.91it/s, Loss=0.6999, Acc=87.28%]"
     ]
    },
    {
     "name": "stdout",
     "output_type": "stream",
     "text": [
      "[2025-02-26 17:27:02] Processed 1980 validation batches\n"
     ]
    },
    {
     "name": "stderr",
     "output_type": "stream",
     "text": [
      "Epoch 1 [Val]: 100%|█████████▉| 1999/2004 [09:12<00:00, 11.27it/s, Loss=0.2280, Acc=86.89%]"
     ]
    },
    {
     "name": "stdout",
     "output_type": "stream",
     "text": [
      "[2025-02-26 17:27:04] Processed 2000 validation batches\n"
     ]
    },
    {
     "name": "stderr",
     "output_type": "stream",
     "text": [
      "Epoch 1 [Val]: 100%|██████████| 2004/2004 [09:12<00:00,  3.63it/s, Loss=0.1910, Acc=86.90%]"
     ]
    },
    {
     "name": "stdout",
     "output_type": "stream",
     "text": [
      "[2025-02-26 17:27:04] Epoch 1 Results:\n",
      "[2025-02-26 17:27:04] Train Loss: 1.0903 | Train Acc: 69.05%\n",
      "[2025-02-26 17:27:04] Val Loss: 0.4538 | Val Acc: 86.90%\n"
     ]
    },
    {
     "name": "stderr",
     "output_type": "stream",
     "text": [
      "\n"
     ]
    },
    {
     "name": "stdout",
     "output_type": "stream",
     "text": [
      "[2025-02-26 17:27:05] Saved best model\n",
      "[2025-02-26 17:27:05] Starting epoch 2/15\n"
     ]
    },
    {
     "name": "stderr",
     "output_type": "stream",
     "text": [
      "Epoch 2 [Train]:   0%|          | 0/2004 [00:00<?, ?it/s, Loss=0.2104, Acc=93.75%]"
     ]
    },
    {
     "name": "stdout",
     "output_type": "stream",
     "text": [
      "[2025-02-26 17:27:05] Processed 0 training batches\n"
     ]
    },
    {
     "name": "stderr",
     "output_type": "stream",
     "text": [
      "Epoch 2 [Train]:   2%|▏         | 50/2004 [00:12<07:55,  4.11it/s, Loss=0.6195, Acc=78.06%]"
     ]
    },
    {
     "name": "stdout",
     "output_type": "stream",
     "text": [
      "[2025-02-26 17:27:18] Processed 50 training batches\n"
     ]
    },
    {
     "name": "stderr",
     "output_type": "stream",
     "text": [
      "Epoch 2 [Train]:   5%|▍         | 100/2004 [00:26<09:14,  3.43it/s, Loss=0.7620, Acc=79.83%]"
     ]
    },
    {
     "name": "stdout",
     "output_type": "stream",
     "text": [
      "[2025-02-26 17:27:32] Processed 100 training batches\n"
     ]
    },
    {
     "name": "stderr",
     "output_type": "stream",
     "text": [
      "Epoch 2 [Train]:   7%|▋         | 150/2004 [00:41<07:49,  3.95it/s, Loss=0.9554, Acc=78.81%]"
     ]
    },
    {
     "name": "stdout",
     "output_type": "stream",
     "text": [
      "[2025-02-26 17:27:46] Processed 150 training batches\n"
     ]
    },
    {
     "name": "stderr",
     "output_type": "stream",
     "text": [
      "Epoch 2 [Train]:  10%|▉         | 200/2004 [00:54<07:48,  3.85it/s, Loss=1.0888, Acc=79.17%]"
     ]
    },
    {
     "name": "stdout",
     "output_type": "stream",
     "text": [
      "[2025-02-26 17:27:59] Processed 200 training batches\n"
     ]
    },
    {
     "name": "stderr",
     "output_type": "stream",
     "text": [
      "Epoch 2 [Train]:  12%|█▏        | 250/2004 [01:09<09:15,  3.15it/s, Loss=0.3776, Acc=79.58%]"
     ]
    },
    {
     "name": "stdout",
     "output_type": "stream",
     "text": [
      "[2025-02-26 17:28:14] Processed 250 training batches\n"
     ]
    },
    {
     "name": "stderr",
     "output_type": "stream",
     "text": [
      "Epoch 2 [Train]:  15%|█▍        | 300/2004 [01:23<07:05,  4.00it/s, Loss=0.7449, Acc=79.75%]"
     ]
    },
    {
     "name": "stdout",
     "output_type": "stream",
     "text": [
      "[2025-02-26 17:28:28] Processed 300 training batches\n"
     ]
    },
    {
     "name": "stderr",
     "output_type": "stream",
     "text": [
      "Epoch 2 [Train]:  17%|█▋        | 350/2004 [01:38<07:48,  3.53it/s, Loss=0.8295, Acc=79.70%]"
     ]
    },
    {
     "name": "stdout",
     "output_type": "stream",
     "text": [
      "[2025-02-26 17:28:43] Processed 350 training batches\n"
     ]
    },
    {
     "name": "stderr",
     "output_type": "stream",
     "text": [
      "Epoch 2 [Train]:  20%|█▉        | 400/2004 [01:53<08:17,  3.23it/s, Loss=0.4558, Acc=79.74%]"
     ]
    },
    {
     "name": "stdout",
     "output_type": "stream",
     "text": [
      "[2025-02-26 17:28:58] Processed 400 training batches\n"
     ]
    },
    {
     "name": "stderr",
     "output_type": "stream",
     "text": [
      "Epoch 2 [Train]:  22%|██▏       | 450/2004 [02:06<08:01,  3.23it/s, Loss=0.4104, Acc=79.66%]"
     ]
    },
    {
     "name": "stdout",
     "output_type": "stream",
     "text": [
      "[2025-02-26 17:29:11] Processed 450 training batches\n"
     ]
    },
    {
     "name": "stderr",
     "output_type": "stream",
     "text": [
      "Epoch 2 [Train]:  25%|██▍       | 500/2004 [02:19<06:39,  3.77it/s, Loss=0.6373, Acc=79.85%]"
     ]
    },
    {
     "name": "stdout",
     "output_type": "stream",
     "text": [
      "[2025-02-26 17:29:24] Processed 500 training batches\n"
     ]
    },
    {
     "name": "stderr",
     "output_type": "stream",
     "text": [
      "Epoch 2 [Train]:  27%|██▋       | 550/2004 [02:34<08:03,  3.01it/s, Loss=0.0633, Acc=79.89%]"
     ]
    },
    {
     "name": "stdout",
     "output_type": "stream",
     "text": [
      "[2025-02-26 17:29:39] Processed 550 training batches\n"
     ]
    },
    {
     "name": "stderr",
     "output_type": "stream",
     "text": [
      "Epoch 2 [Train]:  30%|██▉       | 600/2004 [02:48<08:00,  2.92it/s, Loss=0.1931, Acc=80.11%]"
     ]
    },
    {
     "name": "stdout",
     "output_type": "stream",
     "text": [
      "[2025-02-26 17:29:53] Processed 600 training batches\n"
     ]
    },
    {
     "name": "stderr",
     "output_type": "stream",
     "text": [
      "Epoch 2 [Train]:  32%|███▏      | 650/2004 [03:02<06:24,  3.53it/s, Loss=0.2961, Acc=80.08%]"
     ]
    },
    {
     "name": "stdout",
     "output_type": "stream",
     "text": [
      "[2025-02-26 17:30:07] Processed 650 training batches\n"
     ]
    },
    {
     "name": "stderr",
     "output_type": "stream",
     "text": [
      "Epoch 2 [Train]:  35%|███▍      | 700/2004 [03:16<06:20,  3.43it/s, Loss=0.6210, Acc=80.24%]"
     ]
    },
    {
     "name": "stdout",
     "output_type": "stream",
     "text": [
      "[2025-02-26 17:30:21] Processed 700 training batches\n"
     ]
    },
    {
     "name": "stderr",
     "output_type": "stream",
     "text": [
      "Epoch 2 [Train]:  37%|███▋      | 750/2004 [03:30<06:32,  3.20it/s, Loss=0.6932, Acc=80.06%]"
     ]
    },
    {
     "name": "stdout",
     "output_type": "stream",
     "text": [
      "[2025-02-26 17:30:35] Processed 750 training batches\n"
     ]
    },
    {
     "name": "stderr",
     "output_type": "stream",
     "text": [
      "Epoch 2 [Train]:  40%|███▉      | 800/2004 [03:45<07:41,  2.61it/s, Loss=0.2556, Acc=80.17%]"
     ]
    },
    {
     "name": "stdout",
     "output_type": "stream",
     "text": [
      "[2025-02-26 17:30:50] Processed 800 training batches\n"
     ]
    },
    {
     "name": "stderr",
     "output_type": "stream",
     "text": [
      "Epoch 2 [Train]:  42%|████▏     | 850/2004 [04:00<05:57,  3.23it/s, Loss=0.8995, Acc=80.21%]"
     ]
    },
    {
     "name": "stdout",
     "output_type": "stream",
     "text": [
      "[2025-02-26 17:31:06] Processed 850 training batches\n"
     ]
    },
    {
     "name": "stderr",
     "output_type": "stream",
     "text": [
      "Epoch 2 [Train]:  45%|████▍     | 900/2004 [04:15<05:01,  3.66it/s, Loss=0.3901, Acc=80.19%]"
     ]
    },
    {
     "name": "stdout",
     "output_type": "stream",
     "text": [
      "[2025-02-26 17:31:20] Processed 900 training batches\n"
     ]
    },
    {
     "name": "stderr",
     "output_type": "stream",
     "text": [
      "Epoch 2 [Train]:  47%|████▋     | 950/2004 [04:31<04:55,  3.57it/s, Loss=0.7633, Acc=80.28%]"
     ]
    },
    {
     "name": "stdout",
     "output_type": "stream",
     "text": [
      "[2025-02-26 17:31:36] Processed 950 training batches\n"
     ]
    },
    {
     "name": "stderr",
     "output_type": "stream",
     "text": [
      "Epoch 2 [Train]:  50%|████▉     | 1000/2004 [04:45<04:21,  3.84it/s, Loss=0.6357, Acc=80.24%]"
     ]
    },
    {
     "name": "stdout",
     "output_type": "stream",
     "text": [
      "[2025-02-26 17:31:51] Processed 1000 training batches\n"
     ]
    },
    {
     "name": "stderr",
     "output_type": "stream",
     "text": [
      "Epoch 2 [Train]:  52%|█████▏    | 1050/2004 [05:01<05:12,  3.05it/s, Loss=0.9859, Acc=80.18%]"
     ]
    },
    {
     "name": "stdout",
     "output_type": "stream",
     "text": [
      "[2025-02-26 17:32:06] Processed 1050 training batches\n"
     ]
    },
    {
     "name": "stderr",
     "output_type": "stream",
     "text": [
      "Epoch 2 [Train]:  55%|█████▍    | 1100/2004 [05:16<03:49,  3.93it/s, Loss=0.8195, Acc=80.31%]"
     ]
    },
    {
     "name": "stdout",
     "output_type": "stream",
     "text": [
      "[2025-02-26 17:32:21] Processed 1100 training batches\n"
     ]
    },
    {
     "name": "stderr",
     "output_type": "stream",
     "text": [
      "Epoch 2 [Train]:  57%|█████▋    | 1150/2004 [05:30<03:58,  3.59it/s, Loss=0.6522, Acc=80.37%]"
     ]
    },
    {
     "name": "stdout",
     "output_type": "stream",
     "text": [
      "[2025-02-26 17:32:36] Processed 1150 training batches\n"
     ]
    },
    {
     "name": "stderr",
     "output_type": "stream",
     "text": [
      "Epoch 2 [Train]:  60%|█████▉    | 1200/2004 [05:45<03:41,  3.62it/s, Loss=0.2036, Acc=80.50%]"
     ]
    },
    {
     "name": "stdout",
     "output_type": "stream",
     "text": [
      "[2025-02-26 17:32:50] Processed 1200 training batches\n"
     ]
    },
    {
     "name": "stderr",
     "output_type": "stream",
     "text": [
      "Epoch 2 [Train]:  62%|██████▏   | 1250/2004 [05:59<03:59,  3.14it/s, Loss=0.4553, Acc=80.63%]"
     ]
    },
    {
     "name": "stdout",
     "output_type": "stream",
     "text": [
      "[2025-02-26 17:33:05] Processed 1250 training batches\n"
     ]
    },
    {
     "name": "stderr",
     "output_type": "stream",
     "text": [
      "Epoch 2 [Train]:  65%|██████▍   | 1300/2004 [06:14<03:08,  3.73it/s, Loss=0.5473, Acc=80.64%]"
     ]
    },
    {
     "name": "stdout",
     "output_type": "stream",
     "text": [
      "[2025-02-26 17:33:19] Processed 1300 training batches\n"
     ]
    },
    {
     "name": "stderr",
     "output_type": "stream",
     "text": [
      "Epoch 2 [Train]:  67%|██████▋   | 1350/2004 [06:28<02:55,  3.72it/s, Loss=0.6952, Acc=80.74%]"
     ]
    },
    {
     "name": "stdout",
     "output_type": "stream",
     "text": [
      "[2025-02-26 17:33:34] Processed 1350 training batches\n"
     ]
    },
    {
     "name": "stderr",
     "output_type": "stream",
     "text": [
      "Epoch 2 [Train]:  70%|██████▉   | 1400/2004 [06:43<02:59,  3.37it/s, Loss=0.2786, Acc=80.79%]"
     ]
    },
    {
     "name": "stdout",
     "output_type": "stream",
     "text": [
      "[2025-02-26 17:33:49] Processed 1400 training batches\n"
     ]
    },
    {
     "name": "stderr",
     "output_type": "stream",
     "text": [
      "Epoch 2 [Train]:  72%|███████▏  | 1450/2004 [06:58<02:54,  3.17it/s, Loss=0.4135, Acc=80.91%]"
     ]
    },
    {
     "name": "stdout",
     "output_type": "stream",
     "text": [
      "[2025-02-26 17:34:03] Processed 1450 training batches\n"
     ]
    },
    {
     "name": "stderr",
     "output_type": "stream",
     "text": [
      "Epoch 2 [Train]:  75%|███████▍  | 1500/2004 [07:12<02:24,  3.50it/s, Loss=0.8568, Acc=81.02%]"
     ]
    },
    {
     "name": "stdout",
     "output_type": "stream",
     "text": [
      "[2025-02-26 17:34:18] Processed 1500 training batches\n"
     ]
    },
    {
     "name": "stderr",
     "output_type": "stream",
     "text": [
      "Epoch 2 [Train]:  77%|███████▋  | 1550/2004 [07:27<02:44,  2.76it/s, Loss=0.9933, Acc=81.06%]"
     ]
    },
    {
     "name": "stdout",
     "output_type": "stream",
     "text": [
      "[2025-02-26 17:34:33] Processed 1550 training batches\n"
     ]
    },
    {
     "name": "stderr",
     "output_type": "stream",
     "text": [
      "Epoch 2 [Train]:  80%|███████▉  | 1600/2004 [07:43<01:52,  3.58it/s, Loss=1.1288, Acc=81.06%]"
     ]
    },
    {
     "name": "stdout",
     "output_type": "stream",
     "text": [
      "[2025-02-26 17:34:48] Processed 1600 training batches\n"
     ]
    },
    {
     "name": "stderr",
     "output_type": "stream",
     "text": [
      "Epoch 2 [Train]:  82%|████████▏ | 1650/2004 [07:58<02:02,  2.89it/s, Loss=0.5936, Acc=81.04%]"
     ]
    },
    {
     "name": "stdout",
     "output_type": "stream",
     "text": [
      "[2025-02-26 17:35:03] Processed 1650 training batches\n"
     ]
    },
    {
     "name": "stderr",
     "output_type": "stream",
     "text": [
      "Epoch 2 [Train]:  85%|████████▍ | 1700/2004 [08:12<01:17,  3.92it/s, Loss=1.1609, Acc=81.05%]"
     ]
    },
    {
     "name": "stdout",
     "output_type": "stream",
     "text": [
      "[2025-02-26 17:35:18] Processed 1700 training batches\n"
     ]
    },
    {
     "name": "stderr",
     "output_type": "stream",
     "text": [
      "Epoch 2 [Train]:  87%|████████▋ | 1750/2004 [08:27<01:02,  4.06it/s, Loss=0.4867, Acc=81.00%]"
     ]
    },
    {
     "name": "stdout",
     "output_type": "stream",
     "text": [
      "[2025-02-26 17:35:32] Processed 1750 training batches\n"
     ]
    },
    {
     "name": "stderr",
     "output_type": "stream",
     "text": [
      "Epoch 2 [Train]:  90%|████████▉ | 1800/2004 [08:42<01:15,  2.72it/s, Loss=0.7451, Acc=81.06%]"
     ]
    },
    {
     "name": "stdout",
     "output_type": "stream",
     "text": [
      "[2025-02-26 17:35:47] Processed 1800 training batches\n"
     ]
    },
    {
     "name": "stderr",
     "output_type": "stream",
     "text": [
      "Epoch 2 [Train]:  92%|█████████▏| 1850/2004 [08:56<00:45,  3.39it/s, Loss=0.8105, Acc=81.07%]"
     ]
    },
    {
     "name": "stdout",
     "output_type": "stream",
     "text": [
      "[2025-02-26 17:36:02] Processed 1850 training batches\n"
     ]
    },
    {
     "name": "stderr",
     "output_type": "stream",
     "text": [
      "Epoch 2 [Train]:  95%|█████████▍| 1900/2004 [09:11<00:32,  3.21it/s, Loss=0.9594, Acc=81.11%]"
     ]
    },
    {
     "name": "stdout",
     "output_type": "stream",
     "text": [
      "[2025-02-26 17:36:16] Processed 1900 training batches\n"
     ]
    },
    {
     "name": "stderr",
     "output_type": "stream",
     "text": [
      "Epoch 2 [Train]:  97%|█████████▋| 1950/2004 [09:26<00:16,  3.32it/s, Loss=0.2343, Acc=81.20%]"
     ]
    },
    {
     "name": "stdout",
     "output_type": "stream",
     "text": [
      "[2025-02-26 17:36:31] Processed 1950 training batches\n"
     ]
    },
    {
     "name": "stderr",
     "output_type": "stream",
     "text": [
      "Epoch 2 [Train]: 100%|█████████▉| 2000/2004 [09:40<00:01,  3.67it/s, Loss=0.4509, Acc=81.20%]"
     ]
    },
    {
     "name": "stdout",
     "output_type": "stream",
     "text": [
      "[2025-02-26 17:36:45] Processed 2000 training batches\n"
     ]
    },
    {
     "name": "stderr",
     "output_type": "stream",
     "text": [
      "Epoch 2 [Train]: 100%|██████████| 2004/2004 [09:40<00:00,  3.45it/s, Loss=3.8486, Acc=81.20%]\n",
      "Epoch 2 [Val]:   0%|          | 0/2004 [00:00<?, ?it/s, Loss=5.2721, Acc=0.00%]"
     ]
    },
    {
     "name": "stdout",
     "output_type": "stream",
     "text": [
      "[2025-02-26 17:36:46] Processed 0 validation batches\n"
     ]
    },
    {
     "name": "stderr",
     "output_type": "stream",
     "text": [
      "Epoch 2 [Val]:   1%|          | 20/2004 [00:07<09:57,  3.32it/s, Loss=1.9019, Acc=71.43%]"
     ]
    },
    {
     "name": "stdout",
     "output_type": "stream",
     "text": [
      "[2025-02-26 17:36:53] Processed 20 validation batches\n"
     ]
    },
    {
     "name": "stderr",
     "output_type": "stream",
     "text": [
      "Epoch 2 [Val]:   2%|▏         | 40/2004 [00:12<09:18,  3.52it/s, Loss=1.1554, Acc=71.19%]"
     ]
    },
    {
     "name": "stdout",
     "output_type": "stream",
     "text": [
      "[2025-02-26 17:36:58] Processed 40 validation batches\n"
     ]
    },
    {
     "name": "stderr",
     "output_type": "stream",
     "text": [
      "Epoch 2 [Val]:   3%|▎         | 60/2004 [00:19<11:47,  2.75it/s, Loss=0.5670, Acc=73.26%]"
     ]
    },
    {
     "name": "stdout",
     "output_type": "stream",
     "text": [
      "[2025-02-26 17:37:05] Processed 60 validation batches\n"
     ]
    },
    {
     "name": "stderr",
     "output_type": "stream",
     "text": [
      "Epoch 2 [Val]:   4%|▍         | 80/2004 [00:24<06:48,  4.72it/s, Loss=0.3826, Acc=75.39%]"
     ]
    },
    {
     "name": "stdout",
     "output_type": "stream",
     "text": [
      "[2025-02-26 17:37:10] Processed 80 validation batches\n"
     ]
    },
    {
     "name": "stderr",
     "output_type": "stream",
     "text": [
      "Epoch 2 [Val]:   5%|▍         | 100/2004 [00:34<10:26,  3.04it/s, Loss=1.0279, Acc=74.63%]"
     ]
    },
    {
     "name": "stdout",
     "output_type": "stream",
     "text": [
      "[2025-02-26 17:37:20] Processed 100 validation batches\n"
     ]
    },
    {
     "name": "stderr",
     "output_type": "stream",
     "text": [
      "Epoch 2 [Val]:   6%|▌         | 120/2004 [00:40<07:53,  3.98it/s, Loss=3.5816, Acc=71.80%]"
     ]
    },
    {
     "name": "stdout",
     "output_type": "stream",
     "text": [
      "[2025-02-26 17:37:26] Processed 120 validation batches\n"
     ]
    },
    {
     "name": "stderr",
     "output_type": "stream",
     "text": [
      "Epoch 2 [Val]:   7%|▋         | 140/2004 [00:52<32:57,  1.06s/it, Loss=4.6489, Acc=66.84%]"
     ]
    },
    {
     "name": "stdout",
     "output_type": "stream",
     "text": [
      "[2025-02-26 17:37:38] Processed 140 validation batches\n"
     ]
    },
    {
     "name": "stderr",
     "output_type": "stream",
     "text": [
      "Epoch 2 [Val]:   8%|▊         | 160/2004 [00:57<06:49,  4.50it/s, Loss=0.0655, Acc=67.74%]"
     ]
    },
    {
     "name": "stdout",
     "output_type": "stream",
     "text": [
      "[2025-02-26 17:37:43] Processed 160 validation batches\n"
     ]
    },
    {
     "name": "stderr",
     "output_type": "stream",
     "text": [
      "Epoch 2 [Val]:   9%|▉         | 180/2004 [01:04<11:54,  2.55it/s, Loss=1.7776, Acc=68.75%]"
     ]
    },
    {
     "name": "stdout",
     "output_type": "stream",
     "text": [
      "[2025-02-26 17:37:50] Processed 180 validation batches\n"
     ]
    },
    {
     "name": "stderr",
     "output_type": "stream",
     "text": [
      "Epoch 2 [Val]:  10%|▉         | 200/2004 [01:14<17:27,  1.72it/s, Loss=0.8683, Acc=65.33%]"
     ]
    },
    {
     "name": "stdout",
     "output_type": "stream",
     "text": [
      "[2025-02-26 17:38:00] Processed 200 validation batches\n"
     ]
    },
    {
     "name": "stderr",
     "output_type": "stream",
     "text": [
      "Epoch 2 [Val]:  11%|█         | 220/2004 [01:28<04:52,  6.09it/s, Loss=0.1071, Acc=67.17%]"
     ]
    },
    {
     "name": "stdout",
     "output_type": "stream",
     "text": [
      "[2025-02-26 17:38:14] Processed 220 validation batches\n"
     ]
    },
    {
     "name": "stderr",
     "output_type": "stream",
     "text": [
      "Epoch 2 [Val]:  12%|█▏        | 240/2004 [01:30<03:21,  8.76it/s, Loss=0.0014, Acc=69.45%]"
     ]
    },
    {
     "name": "stdout",
     "output_type": "stream",
     "text": [
      "[2025-02-26 17:38:17] Processed 240 validation batches\n"
     ]
    },
    {
     "name": "stderr",
     "output_type": "stream",
     "text": [
      "Epoch 2 [Val]:  13%|█▎        | 260/2004 [01:33<03:07,  9.28it/s, Loss=0.0466, Acc=71.58%]"
     ]
    },
    {
     "name": "stdout",
     "output_type": "stream",
     "text": [
      "[2025-02-26 17:38:19] Processed 260 validation batches\n"
     ]
    },
    {
     "name": "stderr",
     "output_type": "stream",
     "text": [
      "Epoch 2 [Val]:  14%|█▍        | 280/2004 [01:35<03:08,  9.15it/s, Loss=0.0653, Acc=73.29%]"
     ]
    },
    {
     "name": "stdout",
     "output_type": "stream",
     "text": [
      "[2025-02-26 17:38:21] Processed 280 validation batches\n"
     ]
    },
    {
     "name": "stderr",
     "output_type": "stream",
     "text": [
      "Epoch 2 [Val]:  15%|█▍        | 300/2004 [01:37<03:25,  8.29it/s, Loss=0.3954, Acc=74.58%]"
     ]
    },
    {
     "name": "stdout",
     "output_type": "stream",
     "text": [
      "[2025-02-26 17:38:23] Processed 300 validation batches\n"
     ]
    },
    {
     "name": "stderr",
     "output_type": "stream",
     "text": [
      "Epoch 2 [Val]:  16%|█▌        | 320/2004 [01:40<03:12,  8.75it/s, Loss=0.0634, Acc=75.80%]"
     ]
    },
    {
     "name": "stdout",
     "output_type": "stream",
     "text": [
      "[2025-02-26 17:38:26] Processed 320 validation batches\n"
     ]
    },
    {
     "name": "stderr",
     "output_type": "stream",
     "text": [
      "Epoch 2 [Val]:  17%|█▋        | 340/2004 [01:42<03:14,  8.56it/s, Loss=0.0367, Acc=76.98%]"
     ]
    },
    {
     "name": "stdout",
     "output_type": "stream",
     "text": [
      "[2025-02-26 17:38:28] Processed 340 validation batches\n"
     ]
    },
    {
     "name": "stderr",
     "output_type": "stream",
     "text": [
      "Epoch 2 [Val]:  18%|█▊        | 360/2004 [01:44<03:04,  8.92it/s, Loss=0.1263, Acc=77.93%]"
     ]
    },
    {
     "name": "stdout",
     "output_type": "stream",
     "text": [
      "[2025-02-26 17:38:30] Processed 360 validation batches\n"
     ]
    },
    {
     "name": "stderr",
     "output_type": "stream",
     "text": [
      "Epoch 2 [Val]:  19%|█▉        | 380/2004 [01:46<02:58,  9.10it/s, Loss=0.0876, Acc=78.92%]"
     ]
    },
    {
     "name": "stdout",
     "output_type": "stream",
     "text": [
      "[2025-02-26 17:38:32] Processed 380 validation batches\n"
     ]
    },
    {
     "name": "stderr",
     "output_type": "stream",
     "text": [
      "Epoch 2 [Val]:  20%|█▉        | 400/2004 [01:49<03:00,  8.89it/s, Loss=0.0859, Acc=79.82%]"
     ]
    },
    {
     "name": "stdout",
     "output_type": "stream",
     "text": [
      "[2025-02-26 17:38:35] Processed 400 validation batches\n"
     ]
    },
    {
     "name": "stderr",
     "output_type": "stream",
     "text": [
      "Epoch 2 [Val]:  21%|██        | 420/2004 [01:51<03:00,  8.78it/s, Loss=0.2301, Acc=80.46%]"
     ]
    },
    {
     "name": "stdout",
     "output_type": "stream",
     "text": [
      "[2025-02-26 17:38:37] Processed 420 validation batches\n"
     ]
    },
    {
     "name": "stderr",
     "output_type": "stream",
     "text": [
      "Epoch 2 [Val]:  22%|██▏       | 440/2004 [01:53<02:59,  8.69it/s, Loss=0.1194, Acc=81.02%]"
     ]
    },
    {
     "name": "stdout",
     "output_type": "stream",
     "text": [
      "[2025-02-26 17:38:39] Processed 440 validation batches\n"
     ]
    },
    {
     "name": "stderr",
     "output_type": "stream",
     "text": [
      "Epoch 2 [Val]:  23%|██▎       | 460/2004 [02:06<11:49,  2.18it/s, Loss=0.3603, Acc=80.92%]"
     ]
    },
    {
     "name": "stdout",
     "output_type": "stream",
     "text": [
      "[2025-02-26 17:38:52] Processed 460 validation batches\n"
     ]
    },
    {
     "name": "stderr",
     "output_type": "stream",
     "text": [
      "Epoch 2 [Val]:  24%|██▍       | 480/2004 [02:12<07:23,  3.43it/s, Loss=2.3903, Acc=80.50%]"
     ]
    },
    {
     "name": "stdout",
     "output_type": "stream",
     "text": [
      "[2025-02-26 17:38:58] Processed 480 validation batches\n"
     ]
    },
    {
     "name": "stderr",
     "output_type": "stream",
     "text": [
      "Epoch 2 [Val]:  25%|██▍       | 500/2004 [02:19<02:58,  8.42it/s, Loss=0.1982, Acc=80.59%]"
     ]
    },
    {
     "name": "stdout",
     "output_type": "stream",
     "text": [
      "[2025-02-26 17:39:05] Processed 500 validation batches\n"
     ]
    },
    {
     "name": "stderr",
     "output_type": "stream",
     "text": [
      "Epoch 2 [Val]:  26%|██▌       | 520/2004 [02:21<02:48,  8.80it/s, Loss=0.2500, Acc=81.00%]"
     ]
    },
    {
     "name": "stdout",
     "output_type": "stream",
     "text": [
      "[2025-02-26 17:39:07] Processed 520 validation batches\n"
     ]
    },
    {
     "name": "stderr",
     "output_type": "stream",
     "text": [
      "Epoch 2 [Val]:  27%|██▋       | 540/2004 [02:23<03:54,  6.24it/s, Loss=0.2861, Acc=81.43%]"
     ]
    },
    {
     "name": "stdout",
     "output_type": "stream",
     "text": [
      "[2025-02-26 17:39:09] Processed 540 validation batches\n"
     ]
    },
    {
     "name": "stderr",
     "output_type": "stream",
     "text": [
      "Epoch 2 [Val]:  28%|██▊       | 560/2004 [02:27<03:01,  7.98it/s, Loss=0.1783, Acc=81.90%]"
     ]
    },
    {
     "name": "stdout",
     "output_type": "stream",
     "text": [
      "[2025-02-26 17:39:13] Processed 560 validation batches\n"
     ]
    },
    {
     "name": "stderr",
     "output_type": "stream",
     "text": [
      "Epoch 2 [Val]:  29%|██▉       | 580/2004 [02:31<06:35,  3.60it/s, Loss=0.2514, Acc=82.36%]"
     ]
    },
    {
     "name": "stdout",
     "output_type": "stream",
     "text": [
      "[2025-02-26 17:39:17] Processed 580 validation batches\n"
     ]
    },
    {
     "name": "stderr",
     "output_type": "stream",
     "text": [
      "Epoch 2 [Val]:  30%|██▉       | 600/2004 [02:33<02:50,  8.23it/s, Loss=0.0239, Acc=82.83%]"
     ]
    },
    {
     "name": "stdout",
     "output_type": "stream",
     "text": [
      "[2025-02-26 17:39:19] Processed 600 validation batches\n"
     ]
    },
    {
     "name": "stderr",
     "output_type": "stream",
     "text": [
      "Epoch 2 [Val]:  31%|███       | 620/2004 [02:36<02:55,  7.90it/s, Loss=0.0113, Acc=83.34%]"
     ]
    },
    {
     "name": "stdout",
     "output_type": "stream",
     "text": [
      "[2025-02-26 17:39:22] Processed 620 validation batches\n"
     ]
    },
    {
     "name": "stderr",
     "output_type": "stream",
     "text": [
      "Epoch 2 [Val]:  32%|███▏      | 640/2004 [02:38<02:53,  7.85it/s, Loss=0.0729, Acc=83.79%]"
     ]
    },
    {
     "name": "stdout",
     "output_type": "stream",
     "text": [
      "[2025-02-26 17:39:24] Processed 640 validation batches\n"
     ]
    },
    {
     "name": "stderr",
     "output_type": "stream",
     "text": [
      "Epoch 2 [Val]:  33%|███▎      | 660/2004 [02:41<02:49,  7.93it/s, Loss=0.0076, Acc=84.28%]"
     ]
    },
    {
     "name": "stdout",
     "output_type": "stream",
     "text": [
      "[2025-02-26 17:39:27] Processed 660 validation batches\n"
     ]
    },
    {
     "name": "stderr",
     "output_type": "stream",
     "text": [
      "Epoch 2 [Val]:  34%|███▍      | 680/2004 [02:43<02:46,  7.95it/s, Loss=0.0007, Acc=84.74%]"
     ]
    },
    {
     "name": "stdout",
     "output_type": "stream",
     "text": [
      "[2025-02-26 17:39:29] Processed 680 validation batches\n"
     ]
    },
    {
     "name": "stderr",
     "output_type": "stream",
     "text": [
      "Epoch 2 [Val]:  35%|███▍      | 700/2004 [02:46<02:42,  8.03it/s, Loss=0.0005, Acc=85.17%]"
     ]
    },
    {
     "name": "stdout",
     "output_type": "stream",
     "text": [
      "[2025-02-26 17:39:32] Processed 700 validation batches\n"
     ]
    },
    {
     "name": "stderr",
     "output_type": "stream",
     "text": [
      "Epoch 2 [Val]:  36%|███▌      | 720/2004 [02:48<02:41,  7.95it/s, Loss=0.0049, Acc=85.58%]"
     ]
    },
    {
     "name": "stdout",
     "output_type": "stream",
     "text": [
      "[2025-02-26 17:39:34] Processed 720 validation batches\n"
     ]
    },
    {
     "name": "stderr",
     "output_type": "stream",
     "text": [
      "Epoch 2 [Val]:  37%|███▋      | 740/2004 [02:52<02:38,  7.96it/s, Loss=0.0502, Acc=85.97%]"
     ]
    },
    {
     "name": "stdout",
     "output_type": "stream",
     "text": [
      "[2025-02-26 17:39:38] Processed 740 validation batches\n"
     ]
    },
    {
     "name": "stderr",
     "output_type": "stream",
     "text": [
      "Epoch 2 [Val]:  38%|███▊      | 760/2004 [03:04<06:49,  3.04it/s, Loss=0.0007, Acc=86.31%]"
     ]
    },
    {
     "name": "stdout",
     "output_type": "stream",
     "text": [
      "[2025-02-26 17:39:50] Processed 760 validation batches\n"
     ]
    },
    {
     "name": "stderr",
     "output_type": "stream",
     "text": [
      "Epoch 2 [Val]:  39%|███▉      | 780/2004 [03:12<06:43,  3.03it/s, Loss=0.0042, Acc=86.65%]"
     ]
    },
    {
     "name": "stdout",
     "output_type": "stream",
     "text": [
      "[2025-02-26 17:39:58] Processed 780 validation batches\n"
     ]
    },
    {
     "name": "stderr",
     "output_type": "stream",
     "text": [
      "Epoch 2 [Val]:  40%|███▉      | 800/2004 [03:15<02:27,  8.19it/s, Loss=0.0006, Acc=86.98%]"
     ]
    },
    {
     "name": "stdout",
     "output_type": "stream",
     "text": [
      "[2025-02-26 17:40:01] Processed 800 validation batches\n"
     ]
    },
    {
     "name": "stderr",
     "output_type": "stream",
     "text": [
      "Epoch 2 [Val]:  41%|████      | 820/2004 [03:17<02:20,  8.42it/s, Loss=0.0491, Acc=87.29%]"
     ]
    },
    {
     "name": "stdout",
     "output_type": "stream",
     "text": [
      "[2025-02-26 17:40:03] Processed 820 validation batches\n"
     ]
    },
    {
     "name": "stderr",
     "output_type": "stream",
     "text": [
      "Epoch 2 [Val]:  42%|████▏     | 840/2004 [03:23<04:24,  4.40it/s, Loss=0.3530, Acc=87.44%]"
     ]
    },
    {
     "name": "stdout",
     "output_type": "stream",
     "text": [
      "[2025-02-26 17:40:09] Processed 840 validation batches\n"
     ]
    },
    {
     "name": "stderr",
     "output_type": "stream",
     "text": [
      "Epoch 2 [Val]:  43%|████▎     | 860/2004 [03:28<08:41,  2.19it/s, Loss=0.5535, Acc=87.38%]"
     ]
    },
    {
     "name": "stdout",
     "output_type": "stream",
     "text": [
      "[2025-02-26 17:40:14] Processed 860 validation batches\n"
     ]
    },
    {
     "name": "stderr",
     "output_type": "stream",
     "text": [
      "Epoch 2 [Val]:  44%|████▍     | 880/2004 [03:32<03:40,  5.09it/s, Loss=1.1593, Acc=87.03%]"
     ]
    },
    {
     "name": "stdout",
     "output_type": "stream",
     "text": [
      "[2025-02-26 17:40:18] Processed 880 validation batches\n"
     ]
    },
    {
     "name": "stderr",
     "output_type": "stream",
     "text": [
      "Epoch 2 [Val]:  45%|████▍     | 900/2004 [03:36<03:48,  4.83it/s, Loss=0.0174, Acc=86.70%]"
     ]
    },
    {
     "name": "stdout",
     "output_type": "stream",
     "text": [
      "[2025-02-26 17:40:22] Processed 900 validation batches\n"
     ]
    },
    {
     "name": "stderr",
     "output_type": "stream",
     "text": [
      "Epoch 2 [Val]:  46%|████▌     | 920/2004 [03:42<05:16,  3.42it/s, Loss=0.3071, Acc=86.84%]"
     ]
    },
    {
     "name": "stdout",
     "output_type": "stream",
     "text": [
      "[2025-02-26 17:40:28] Processed 920 validation batches\n"
     ]
    },
    {
     "name": "stderr",
     "output_type": "stream",
     "text": [
      "Epoch 2 [Val]:  47%|████▋     | 940/2004 [03:47<03:39,  4.86it/s, Loss=0.3998, Acc=86.92%]"
     ]
    },
    {
     "name": "stdout",
     "output_type": "stream",
     "text": [
      "[2025-02-26 17:40:33] Processed 940 validation batches\n"
     ]
    },
    {
     "name": "stderr",
     "output_type": "stream",
     "text": [
      "Epoch 2 [Val]:  48%|████▊     | 960/2004 [03:51<03:31,  4.93it/s, Loss=0.5616, Acc=86.82%]"
     ]
    },
    {
     "name": "stdout",
     "output_type": "stream",
     "text": [
      "[2025-02-26 17:40:37] Processed 960 validation batches\n"
     ]
    },
    {
     "name": "stderr",
     "output_type": "stream",
     "text": [
      "Epoch 2 [Val]:  49%|████▉     | 980/2004 [04:02<18:20,  1.07s/it, Loss=0.2660, Acc=86.72%]"
     ]
    },
    {
     "name": "stdout",
     "output_type": "stream",
     "text": [
      "[2025-02-26 17:40:48] Processed 980 validation batches\n"
     ]
    },
    {
     "name": "stderr",
     "output_type": "stream",
     "text": [
      "Epoch 2 [Val]:  50%|████▉     | 1000/2004 [04:09<03:26,  4.87it/s, Loss=0.3333, Acc=86.76%]"
     ]
    },
    {
     "name": "stdout",
     "output_type": "stream",
     "text": [
      "[2025-02-26 17:40:55] Processed 1000 validation batches\n"
     ]
    },
    {
     "name": "stderr",
     "output_type": "stream",
     "text": [
      "Epoch 2 [Val]:  51%|█████     | 1020/2004 [04:14<02:59,  5.50it/s, Loss=0.2993, Acc=86.97%]"
     ]
    },
    {
     "name": "stdout",
     "output_type": "stream",
     "text": [
      "[2025-02-26 17:41:00] Processed 1020 validation batches\n"
     ]
    },
    {
     "name": "stderr",
     "output_type": "stream",
     "text": [
      "Epoch 2 [Val]:  52%|█████▏    | 1040/2004 [04:21<03:08,  5.11it/s, Loss=0.0004, Acc=86.94%]"
     ]
    },
    {
     "name": "stdout",
     "output_type": "stream",
     "text": [
      "[2025-02-26 17:41:07] Processed 1040 validation batches\n"
     ]
    },
    {
     "name": "stderr",
     "output_type": "stream",
     "text": [
      "Epoch 2 [Val]:  53%|█████▎    | 1060/2004 [04:27<05:17,  2.97it/s, Loss=0.4443, Acc=87.09%]"
     ]
    },
    {
     "name": "stdout",
     "output_type": "stream",
     "text": [
      "[2025-02-26 17:41:13] Processed 1060 validation batches\n"
     ]
    },
    {
     "name": "stderr",
     "output_type": "stream",
     "text": [
      "Epoch 2 [Val]:  54%|█████▍    | 1080/2004 [04:36<07:49,  1.97it/s, Loss=0.0011, Acc=86.70%]"
     ]
    },
    {
     "name": "stdout",
     "output_type": "stream",
     "text": [
      "[2025-02-26 17:41:22] Processed 1080 validation batches\n"
     ]
    },
    {
     "name": "stderr",
     "output_type": "stream",
     "text": [
      "Epoch 2 [Val]:  55%|█████▍    | 1100/2004 [04:59<23:01,  1.53s/it, Loss=0.0037, Acc=86.90%]"
     ]
    },
    {
     "name": "stdout",
     "output_type": "stream",
     "text": [
      "[2025-02-26 17:41:45] Processed 1100 validation batches\n"
     ]
    },
    {
     "name": "stderr",
     "output_type": "stream",
     "text": [
      "Epoch 2 [Val]:  56%|█████▌    | 1120/2004 [05:23<18:54,  1.28s/it, Loss=1.0117, Acc=86.99%]"
     ]
    },
    {
     "name": "stdout",
     "output_type": "stream",
     "text": [
      "[2025-02-26 17:42:09] Processed 1120 validation batches\n"
     ]
    },
    {
     "name": "stderr",
     "output_type": "stream",
     "text": [
      "Epoch 2 [Val]:  57%|█████▋    | 1140/2004 [05:26<02:37,  5.47it/s, Loss=0.0226, Acc=87.22%]"
     ]
    },
    {
     "name": "stdout",
     "output_type": "stream",
     "text": [
      "[2025-02-26 17:42:12] Processed 1140 validation batches\n"
     ]
    },
    {
     "name": "stderr",
     "output_type": "stream",
     "text": [
      "Epoch 2 [Val]:  58%|█████▊    | 1160/2004 [05:30<02:58,  4.72it/s, Loss=0.0832, Acc=87.43%]"
     ]
    },
    {
     "name": "stdout",
     "output_type": "stream",
     "text": [
      "[2025-02-26 17:42:16] Processed 1160 validation batches\n"
     ]
    },
    {
     "name": "stderr",
     "output_type": "stream",
     "text": [
      "Epoch 2 [Val]:  59%|█████▉    | 1180/2004 [05:34<02:46,  4.96it/s, Loss=0.0009, Acc=87.64%]"
     ]
    },
    {
     "name": "stdout",
     "output_type": "stream",
     "text": [
      "[2025-02-26 17:42:20] Processed 1180 validation batches\n"
     ]
    },
    {
     "name": "stderr",
     "output_type": "stream",
     "text": [
      "Epoch 2 [Val]:  60%|█████▉    | 1200/2004 [05:37<01:39,  8.06it/s, Loss=0.0052, Acc=87.85%]"
     ]
    },
    {
     "name": "stdout",
     "output_type": "stream",
     "text": [
      "[2025-02-26 17:42:23] Processed 1200 validation batches\n"
     ]
    },
    {
     "name": "stderr",
     "output_type": "stream",
     "text": [
      "Epoch 2 [Val]:  61%|██████    | 1220/2004 [05:40<02:26,  5.36it/s, Loss=0.3017, Acc=87.89%]"
     ]
    },
    {
     "name": "stdout",
     "output_type": "stream",
     "text": [
      "[2025-02-26 17:42:26] Processed 1220 validation batches\n"
     ]
    },
    {
     "name": "stderr",
     "output_type": "stream",
     "text": [
      "Epoch 2 [Val]:  62%|██████▏   | 1240/2004 [05:44<02:32,  5.02it/s, Loss=0.0006, Acc=88.07%]"
     ]
    },
    {
     "name": "stdout",
     "output_type": "stream",
     "text": [
      "[2025-02-26 17:42:30] Processed 1240 validation batches\n"
     ]
    },
    {
     "name": "stderr",
     "output_type": "stream",
     "text": [
      "Epoch 2 [Val]:  63%|██████▎   | 1260/2004 [05:49<02:50,  4.37it/s, Loss=0.0016, Acc=88.25%]"
     ]
    },
    {
     "name": "stdout",
     "output_type": "stream",
     "text": [
      "[2025-02-26 17:42:35] Processed 1260 validation batches\n"
     ]
    },
    {
     "name": "stderr",
     "output_type": "stream",
     "text": [
      "Epoch 2 [Val]:  64%|██████▍   | 1280/2004 [05:53<02:20,  5.14it/s, Loss=0.0039, Acc=88.43%]"
     ]
    },
    {
     "name": "stdout",
     "output_type": "stream",
     "text": [
      "[2025-02-26 17:42:39] Processed 1280 validation batches\n"
     ]
    },
    {
     "name": "stderr",
     "output_type": "stream",
     "text": [
      "Epoch 2 [Val]:  65%|██████▍   | 1300/2004 [05:57<03:19,  3.53it/s, Loss=0.6113, Acc=88.50%]"
     ]
    },
    {
     "name": "stdout",
     "output_type": "stream",
     "text": [
      "[2025-02-26 17:42:43] Processed 1300 validation batches\n"
     ]
    },
    {
     "name": "stderr",
     "output_type": "stream",
     "text": [
      "Epoch 2 [Val]:  66%|██████▌   | 1320/2004 [06:02<02:33,  4.47it/s, Loss=0.0746, Acc=88.62%]"
     ]
    },
    {
     "name": "stdout",
     "output_type": "stream",
     "text": [
      "[2025-02-26 17:42:48] Processed 1320 validation batches\n"
     ]
    },
    {
     "name": "stderr",
     "output_type": "stream",
     "text": [
      "Epoch 2 [Val]:  67%|██████▋   | 1340/2004 [06:06<02:26,  4.53it/s, Loss=1.3773, Acc=88.65%]"
     ]
    },
    {
     "name": "stdout",
     "output_type": "stream",
     "text": [
      "[2025-02-26 17:42:52] Processed 1340 validation batches\n"
     ]
    },
    {
     "name": "stderr",
     "output_type": "stream",
     "text": [
      "Epoch 2 [Val]:  68%|██████▊   | 1360/2004 [06:10<01:47,  5.99it/s, Loss=0.0951, Acc=88.76%]"
     ]
    },
    {
     "name": "stdout",
     "output_type": "stream",
     "text": [
      "[2025-02-26 17:42:56] Processed 1360 validation batches\n"
     ]
    },
    {
     "name": "stderr",
     "output_type": "stream",
     "text": [
      "Epoch 2 [Val]:  69%|██████▉   | 1380/2004 [06:12<01:08,  9.17it/s, Loss=0.0426, Acc=88.92%]"
     ]
    },
    {
     "name": "stdout",
     "output_type": "stream",
     "text": [
      "[2025-02-26 17:42:58] Processed 1380 validation batches\n"
     ]
    },
    {
     "name": "stderr",
     "output_type": "stream",
     "text": [
      "Epoch 2 [Val]:  70%|██████▉   | 1400/2004 [06:14<01:06,  9.08it/s, Loss=0.0889, Acc=89.05%]"
     ]
    },
    {
     "name": "stdout",
     "output_type": "stream",
     "text": [
      "[2025-02-26 17:43:00] Processed 1400 validation batches\n"
     ]
    },
    {
     "name": "stderr",
     "output_type": "stream",
     "text": [
      "Epoch 2 [Val]:  71%|███████   | 1420/2004 [06:16<01:08,  8.55it/s, Loss=0.1424, Acc=89.20%]"
     ]
    },
    {
     "name": "stdout",
     "output_type": "stream",
     "text": [
      "[2025-02-26 17:43:02] Processed 1420 validation batches\n"
     ]
    },
    {
     "name": "stderr",
     "output_type": "stream",
     "text": [
      "Epoch 2 [Val]:  72%|███████▏  | 1440/2004 [06:19<01:04,  8.71it/s, Loss=0.0486, Acc=89.34%]"
     ]
    },
    {
     "name": "stdout",
     "output_type": "stream",
     "text": [
      "[2025-02-26 17:43:05] Processed 1440 validation batches\n"
     ]
    },
    {
     "name": "stderr",
     "output_type": "stream",
     "text": [
      "Epoch 2 [Val]:  73%|███████▎  | 1460/2004 [06:21<01:02,  8.68it/s, Loss=0.2442, Acc=89.44%]"
     ]
    },
    {
     "name": "stdout",
     "output_type": "stream",
     "text": [
      "[2025-02-26 17:43:07] Processed 1460 validation batches\n"
     ]
    },
    {
     "name": "stderr",
     "output_type": "stream",
     "text": [
      "Epoch 2 [Val]:  74%|███████▍  | 1480/2004 [06:23<01:01,  8.52it/s, Loss=0.2810, Acc=89.50%]"
     ]
    },
    {
     "name": "stdout",
     "output_type": "stream",
     "text": [
      "[2025-02-26 17:43:09] Processed 1480 validation batches\n"
     ]
    },
    {
     "name": "stderr",
     "output_type": "stream",
     "text": [
      "Epoch 2 [Val]:  75%|███████▍  | 1500/2004 [06:26<00:57,  8.82it/s, Loss=0.3636, Acc=89.54%]"
     ]
    },
    {
     "name": "stdout",
     "output_type": "stream",
     "text": [
      "[2025-02-26 17:43:12] Processed 1500 validation batches\n"
     ]
    },
    {
     "name": "stderr",
     "output_type": "stream",
     "text": [
      "Epoch 2 [Val]:  76%|███████▌  | 1520/2004 [06:28<00:53,  9.01it/s, Loss=0.8262, Acc=89.62%]"
     ]
    },
    {
     "name": "stdout",
     "output_type": "stream",
     "text": [
      "[2025-02-26 17:43:14] Processed 1520 validation batches\n"
     ]
    },
    {
     "name": "stderr",
     "output_type": "stream",
     "text": [
      "Epoch 2 [Val]:  77%|███████▋  | 1540/2004 [06:32<03:40,  2.11it/s, Loss=0.7097, Acc=89.66%]"
     ]
    },
    {
     "name": "stdout",
     "output_type": "stream",
     "text": [
      "[2025-02-26 17:43:18] Processed 1540 validation batches\n"
     ]
    },
    {
     "name": "stderr",
     "output_type": "stream",
     "text": [
      "Epoch 2 [Val]:  78%|███████▊  | 1560/2004 [06:41<02:15,  3.29it/s, Loss=0.3308, Acc=89.60%]"
     ]
    },
    {
     "name": "stdout",
     "output_type": "stream",
     "text": [
      "[2025-02-26 17:43:27] Processed 1560 validation batches\n"
     ]
    },
    {
     "name": "stderr",
     "output_type": "stream",
     "text": [
      "Epoch 2 [Val]:  79%|███████▉  | 1580/2004 [06:49<01:53,  3.73it/s, Loss=0.4533, Acc=89.51%]"
     ]
    },
    {
     "name": "stdout",
     "output_type": "stream",
     "text": [
      "[2025-02-26 17:43:35] Processed 1580 validation batches\n"
     ]
    },
    {
     "name": "stderr",
     "output_type": "stream",
     "text": [
      "Epoch 2 [Val]:  80%|███████▉  | 1600/2004 [06:51<00:44,  9.04it/s, Loss=0.3993, Acc=89.51%]"
     ]
    },
    {
     "name": "stdout",
     "output_type": "stream",
     "text": [
      "[2025-02-26 17:43:37] Processed 1600 validation batches\n"
     ]
    },
    {
     "name": "stderr",
     "output_type": "stream",
     "text": [
      "Epoch 2 [Val]:  81%|████████  | 1620/2004 [07:07<07:03,  1.10s/it, Loss=0.2505, Acc=89.52%]"
     ]
    },
    {
     "name": "stdout",
     "output_type": "stream",
     "text": [
      "[2025-02-26 17:43:53] Processed 1620 validation batches\n"
     ]
    },
    {
     "name": "stderr",
     "output_type": "stream",
     "text": [
      "Epoch 2 [Val]:  82%|████████▏ | 1640/2004 [07:26<01:59,  3.04it/s, Loss=0.2619, Acc=89.60%]"
     ]
    },
    {
     "name": "stdout",
     "output_type": "stream",
     "text": [
      "[2025-02-26 17:44:12] Processed 1640 validation batches\n"
     ]
    },
    {
     "name": "stderr",
     "output_type": "stream",
     "text": [
      "Epoch 2 [Val]:  83%|████████▎ | 1660/2004 [07:31<01:19,  4.33it/s, Loss=0.2158, Acc=89.60%]"
     ]
    },
    {
     "name": "stdout",
     "output_type": "stream",
     "text": [
      "[2025-02-26 17:44:17] Processed 1660 validation batches\n"
     ]
    },
    {
     "name": "stderr",
     "output_type": "stream",
     "text": [
      "Epoch 2 [Val]:  84%|████████▍ | 1680/2004 [07:36<01:15,  4.30it/s, Loss=0.2533, Acc=89.44%]"
     ]
    },
    {
     "name": "stdout",
     "output_type": "stream",
     "text": [
      "[2025-02-26 17:44:22] Processed 1680 validation batches\n"
     ]
    },
    {
     "name": "stderr",
     "output_type": "stream",
     "text": [
      "Epoch 2 [Val]:  85%|████████▍ | 1700/2004 [07:41<01:08,  4.45it/s, Loss=1.2330, Acc=89.34%]"
     ]
    },
    {
     "name": "stdout",
     "output_type": "stream",
     "text": [
      "[2025-02-26 17:44:27] Processed 1700 validation batches\n"
     ]
    },
    {
     "name": "stderr",
     "output_type": "stream",
     "text": [
      "Epoch 2 [Val]:  86%|████████▌ | 1720/2004 [07:46<01:00,  4.72it/s, Loss=0.0007, Acc=89.34%]"
     ]
    },
    {
     "name": "stdout",
     "output_type": "stream",
     "text": [
      "[2025-02-26 17:44:32] Processed 1720 validation batches\n"
     ]
    },
    {
     "name": "stderr",
     "output_type": "stream",
     "text": [
      "Epoch 2 [Val]:  87%|████████▋ | 1740/2004 [07:50<00:57,  4.59it/s, Loss=0.0122, Acc=89.47%]"
     ]
    },
    {
     "name": "stdout",
     "output_type": "stream",
     "text": [
      "[2025-02-26 17:44:36] Processed 1740 validation batches\n"
     ]
    },
    {
     "name": "stderr",
     "output_type": "stream",
     "text": [
      "Epoch 2 [Val]:  88%|████████▊ | 1760/2004 [07:54<00:54,  4.50it/s, Loss=0.0004, Acc=89.59%]"
     ]
    },
    {
     "name": "stdout",
     "output_type": "stream",
     "text": [
      "[2025-02-26 17:44:40] Processed 1760 validation batches\n"
     ]
    },
    {
     "name": "stderr",
     "output_type": "stream",
     "text": [
      "Epoch 2 [Val]:  89%|████████▉ | 1780/2004 [08:04<01:44,  2.14it/s, Loss=0.0097, Acc=89.70%]"
     ]
    },
    {
     "name": "stdout",
     "output_type": "stream",
     "text": [
      "[2025-02-26 17:44:50] Processed 1780 validation batches\n"
     ]
    },
    {
     "name": "stderr",
     "output_type": "stream",
     "text": [
      "Epoch 2 [Val]:  90%|████████▉ | 1800/2004 [08:09<00:42,  4.81it/s, Loss=0.0136, Acc=89.81%]"
     ]
    },
    {
     "name": "stdout",
     "output_type": "stream",
     "text": [
      "[2025-02-26 17:44:55] Processed 1800 validation batches\n"
     ]
    },
    {
     "name": "stderr",
     "output_type": "stream",
     "text": [
      "Epoch 2 [Val]:  91%|█████████ | 1820/2004 [08:15<00:40,  4.53it/s, Loss=0.0001, Acc=89.92%]"
     ]
    },
    {
     "name": "stdout",
     "output_type": "stream",
     "text": [
      "[2025-02-26 17:45:01] Processed 1820 validation batches\n"
     ]
    },
    {
     "name": "stderr",
     "output_type": "stream",
     "text": [
      "Epoch 2 [Val]:  92%|█████████▏| 1840/2004 [08:19<00:37,  4.43it/s, Loss=0.0008, Acc=90.03%]"
     ]
    },
    {
     "name": "stdout",
     "output_type": "stream",
     "text": [
      "[2025-02-26 17:45:05] Processed 1840 validation batches\n"
     ]
    },
    {
     "name": "stderr",
     "output_type": "stream",
     "text": [
      "Epoch 2 [Val]:  93%|█████████▎| 1860/2004 [08:24<00:31,  4.53it/s, Loss=0.0058, Acc=90.13%]"
     ]
    },
    {
     "name": "stdout",
     "output_type": "stream",
     "text": [
      "[2025-02-26 17:45:10] Processed 1860 validation batches\n"
     ]
    },
    {
     "name": "stderr",
     "output_type": "stream",
     "text": [
      "Epoch 2 [Val]:  94%|█████████▍| 1880/2004 [08:38<01:48,  1.14it/s, Loss=0.0177, Acc=90.23%]"
     ]
    },
    {
     "name": "stdout",
     "output_type": "stream",
     "text": [
      "[2025-02-26 17:45:24] Processed 1880 validation batches\n"
     ]
    },
    {
     "name": "stderr",
     "output_type": "stream",
     "text": [
      "Epoch 2 [Val]:  95%|█████████▍| 1900/2004 [08:45<00:32,  3.20it/s, Loss=0.0023, Acc=90.29%]"
     ]
    },
    {
     "name": "stdout",
     "output_type": "stream",
     "text": [
      "[2025-02-26 17:45:31] Processed 1900 validation batches\n"
     ]
    },
    {
     "name": "stderr",
     "output_type": "stream",
     "text": [
      "Epoch 2 [Val]:  96%|█████████▌| 1920/2004 [08:52<00:11,  7.45it/s, Loss=0.0569, Acc=90.38%]"
     ]
    },
    {
     "name": "stdout",
     "output_type": "stream",
     "text": [
      "[2025-02-26 17:45:38] Processed 1920 validation batches\n"
     ]
    },
    {
     "name": "stderr",
     "output_type": "stream",
     "text": [
      "Epoch 2 [Val]:  97%|█████████▋| 1940/2004 [08:57<00:15,  4.24it/s, Loss=1.5270, Acc=90.24%]"
     ]
    },
    {
     "name": "stdout",
     "output_type": "stream",
     "text": [
      "[2025-02-26 17:45:43] Processed 1940 validation batches\n"
     ]
    },
    {
     "name": "stderr",
     "output_type": "stream",
     "text": [
      "Epoch 2 [Val]:  98%|█████████▊| 1960/2004 [09:01<00:10,  4.39it/s, Loss=0.1098, Acc=90.23%]"
     ]
    },
    {
     "name": "stdout",
     "output_type": "stream",
     "text": [
      "[2025-02-26 17:45:47] Processed 1960 validation batches\n"
     ]
    },
    {
     "name": "stderr",
     "output_type": "stream",
     "text": [
      "Epoch 2 [Val]:  99%|█████████▉| 1979/2004 [09:04<00:02,  8.34it/s, Loss=1.2005, Acc=89.62%]"
     ]
    },
    {
     "name": "stdout",
     "output_type": "stream",
     "text": [
      "[2025-02-26 17:45:50] Processed 1980 validation batches\n"
     ]
    },
    {
     "name": "stderr",
     "output_type": "stream",
     "text": [
      "Epoch 2 [Val]: 100%|█████████▉| 1999/2004 [09:06<00:00, 11.11it/s, Loss=0.7707, Acc=89.55%]"
     ]
    },
    {
     "name": "stdout",
     "output_type": "stream",
     "text": [
      "[2025-02-26 17:45:52] Processed 2000 validation batches\n"
     ]
    },
    {
     "name": "stderr",
     "output_type": "stream",
     "text": [
      "Epoch 2 [Val]: 100%|██████████| 2004/2004 [09:06<00:00,  3.67it/s, Loss=1.2179, Acc=89.53%]"
     ]
    },
    {
     "name": "stdout",
     "output_type": "stream",
     "text": [
      "[2025-02-26 17:45:52] Epoch 2 Results:\n",
      "[2025-02-26 17:45:52] Train Loss: 0.6364 | Train Acc: 81.20%\n",
      "[2025-02-26 17:45:52] Val Loss: 0.3590 | Val Acc: 89.53%\n"
     ]
    },
    {
     "name": "stderr",
     "output_type": "stream",
     "text": [
      "\n"
     ]
    },
    {
     "name": "stdout",
     "output_type": "stream",
     "text": [
      "[2025-02-26 17:45:52] Saved best model\n",
      "[2025-02-26 17:45:52] Starting epoch 3/15\n"
     ]
    },
    {
     "name": "stderr",
     "output_type": "stream",
     "text": [
      "Epoch 3 [Train]:   0%|          | 0/2004 [00:00<?, ?it/s, Loss=0.9010, Acc=68.75%]"
     ]
    },
    {
     "name": "stdout",
     "output_type": "stream",
     "text": [
      "[2025-02-26 17:45:53] Processed 0 training batches\n"
     ]
    },
    {
     "name": "stderr",
     "output_type": "stream",
     "text": [
      "Epoch 3 [Train]:   2%|▏         | 50/2004 [00:13<07:27,  4.37it/s, Loss=0.1951, Acc=84.07%]"
     ]
    },
    {
     "name": "stdout",
     "output_type": "stream",
     "text": [
      "[2025-02-26 17:46:06] Processed 50 training batches\n"
     ]
    },
    {
     "name": "stderr",
     "output_type": "stream",
     "text": [
      "Epoch 3 [Train]:   5%|▍         | 100/2004 [00:26<07:14,  4.38it/s, Loss=0.5343, Acc=84.22%]"
     ]
    },
    {
     "name": "stdout",
     "output_type": "stream",
     "text": [
      "[2025-02-26 17:46:18] Processed 100 training batches\n"
     ]
    },
    {
     "name": "stderr",
     "output_type": "stream",
     "text": [
      "Epoch 3 [Train]:   7%|▋         | 150/2004 [00:38<07:12,  4.28it/s, Loss=0.1780, Acc=83.53%]"
     ]
    },
    {
     "name": "stdout",
     "output_type": "stream",
     "text": [
      "[2025-02-26 17:46:31] Processed 150 training batches\n"
     ]
    },
    {
     "name": "stderr",
     "output_type": "stream",
     "text": [
      "Epoch 3 [Train]:  10%|▉         | 200/2004 [00:52<07:44,  3.88it/s, Loss=0.9288, Acc=83.86%]"
     ]
    },
    {
     "name": "stdout",
     "output_type": "stream",
     "text": [
      "[2025-02-26 17:46:44] Processed 200 training batches\n"
     ]
    },
    {
     "name": "stderr",
     "output_type": "stream",
     "text": [
      "Epoch 3 [Train]:  12%|█▏        | 250/2004 [01:04<06:14,  4.68it/s, Loss=0.5512, Acc=84.06%]"
     ]
    },
    {
     "name": "stdout",
     "output_type": "stream",
     "text": [
      "[2025-02-26 17:46:57] Processed 250 training batches\n"
     ]
    },
    {
     "name": "stderr",
     "output_type": "stream",
     "text": [
      "Epoch 3 [Train]:  15%|█▍        | 300/2004 [01:19<07:21,  3.86it/s, Loss=0.3772, Acc=83.97%]"
     ]
    },
    {
     "name": "stdout",
     "output_type": "stream",
     "text": [
      "[2025-02-26 17:47:11] Processed 300 training batches\n"
     ]
    },
    {
     "name": "stderr",
     "output_type": "stream",
     "text": [
      "Epoch 3 [Train]:  17%|█▋        | 350/2004 [01:33<07:59,  3.45it/s, Loss=0.2956, Acc=84.31%]"
     ]
    },
    {
     "name": "stdout",
     "output_type": "stream",
     "text": [
      "[2025-02-26 17:47:26] Processed 350 training batches\n"
     ]
    },
    {
     "name": "stderr",
     "output_type": "stream",
     "text": [
      "Epoch 3 [Train]:  20%|█▉        | 400/2004 [01:46<06:11,  4.32it/s, Loss=0.1773, Acc=84.30%]"
     ]
    },
    {
     "name": "stdout",
     "output_type": "stream",
     "text": [
      "[2025-02-26 17:47:39] Processed 400 training batches\n"
     ]
    },
    {
     "name": "stderr",
     "output_type": "stream",
     "text": [
      "Epoch 3 [Train]:  22%|██▏       | 450/2004 [02:00<06:34,  3.94it/s, Loss=0.7185, Acc=84.28%]"
     ]
    },
    {
     "name": "stdout",
     "output_type": "stream",
     "text": [
      "[2025-02-26 17:47:53] Processed 450 training batches\n"
     ]
    },
    {
     "name": "stderr",
     "output_type": "stream",
     "text": [
      "Epoch 3 [Train]:  25%|██▍       | 500/2004 [02:13<05:32,  4.53it/s, Loss=0.4331, Acc=84.28%]"
     ]
    },
    {
     "name": "stdout",
     "output_type": "stream",
     "text": [
      "[2025-02-26 17:48:06] Processed 500 training batches\n"
     ]
    },
    {
     "name": "stderr",
     "output_type": "stream",
     "text": [
      "Epoch 3 [Train]:  27%|██▋       | 550/2004 [02:28<07:46,  3.12it/s, Loss=0.5175, Acc=84.37%]"
     ]
    },
    {
     "name": "stdout",
     "output_type": "stream",
     "text": [
      "[2025-02-26 17:48:20] Processed 550 training batches\n"
     ]
    },
    {
     "name": "stderr",
     "output_type": "stream",
     "text": [
      "Epoch 3 [Train]:  30%|██▉       | 600/2004 [02:41<05:43,  4.09it/s, Loss=0.6020, Acc=84.29%]"
     ]
    },
    {
     "name": "stdout",
     "output_type": "stream",
     "text": [
      "[2025-02-26 17:48:34] Processed 600 training batches\n"
     ]
    },
    {
     "name": "stderr",
     "output_type": "stream",
     "text": [
      "Epoch 3 [Train]:  32%|███▏      | 650/2004 [02:55<06:07,  3.69it/s, Loss=0.4858, Acc=84.39%]"
     ]
    },
    {
     "name": "stdout",
     "output_type": "stream",
     "text": [
      "[2025-02-26 17:48:48] Processed 650 training batches\n"
     ]
    },
    {
     "name": "stderr",
     "output_type": "stream",
     "text": [
      "Epoch 3 [Train]:  35%|███▍      | 700/2004 [03:08<06:48,  3.19it/s, Loss=0.3097, Acc=84.28%]"
     ]
    },
    {
     "name": "stdout",
     "output_type": "stream",
     "text": [
      "[2025-02-26 17:49:01] Processed 700 training batches\n"
     ]
    },
    {
     "name": "stderr",
     "output_type": "stream",
     "text": [
      "Epoch 3 [Train]:  37%|███▋      | 750/2004 [03:22<06:05,  3.43it/s, Loss=0.5199, Acc=84.26%]"
     ]
    },
    {
     "name": "stdout",
     "output_type": "stream",
     "text": [
      "[2025-02-26 17:49:15] Processed 750 training batches\n"
     ]
    },
    {
     "name": "stderr",
     "output_type": "stream",
     "text": [
      "Epoch 3 [Train]:  40%|███▉      | 800/2004 [03:37<05:20,  3.75it/s, Loss=0.3150, Acc=84.27%]"
     ]
    },
    {
     "name": "stdout",
     "output_type": "stream",
     "text": [
      "[2025-02-26 17:49:29] Processed 800 training batches\n"
     ]
    },
    {
     "name": "stderr",
     "output_type": "stream",
     "text": [
      "Epoch 3 [Train]:  42%|████▏     | 850/2004 [03:51<05:33,  3.46it/s, Loss=0.1037, Acc=84.32%]"
     ]
    },
    {
     "name": "stdout",
     "output_type": "stream",
     "text": [
      "[2025-02-26 17:49:44] Processed 850 training batches\n"
     ]
    },
    {
     "name": "stderr",
     "output_type": "stream",
     "text": [
      "Epoch 3 [Train]:  45%|████▍     | 900/2004 [04:04<04:57,  3.72it/s, Loss=1.0815, Acc=84.40%]"
     ]
    },
    {
     "name": "stdout",
     "output_type": "stream",
     "text": [
      "[2025-02-26 17:49:57] Processed 900 training batches\n"
     ]
    },
    {
     "name": "stderr",
     "output_type": "stream",
     "text": [
      "Epoch 3 [Train]:  47%|████▋     | 950/2004 [04:19<05:40,  3.09it/s, Loss=0.7762, Acc=84.36%]"
     ]
    },
    {
     "name": "stdout",
     "output_type": "stream",
     "text": [
      "[2025-02-26 17:50:12] Processed 950 training batches\n"
     ]
    },
    {
     "name": "stderr",
     "output_type": "stream",
     "text": [
      "Epoch 3 [Train]:  50%|████▉     | 1000/2004 [04:34<04:55,  3.39it/s, Loss=0.5963, Acc=84.40%]"
     ]
    },
    {
     "name": "stdout",
     "output_type": "stream",
     "text": [
      "[2025-02-26 17:50:26] Processed 1000 training batches\n"
     ]
    },
    {
     "name": "stderr",
     "output_type": "stream",
     "text": [
      "Epoch 3 [Train]:  52%|█████▏    | 1050/2004 [04:47<04:16,  3.72it/s, Loss=0.1779, Acc=84.47%]"
     ]
    },
    {
     "name": "stdout",
     "output_type": "stream",
     "text": [
      "[2025-02-26 17:50:40] Processed 1050 training batches\n"
     ]
    },
    {
     "name": "stderr",
     "output_type": "stream",
     "text": [
      "Epoch 3 [Train]:  55%|█████▍    | 1100/2004 [05:03<04:38,  3.24it/s, Loss=0.4061, Acc=84.49%]"
     ]
    },
    {
     "name": "stdout",
     "output_type": "stream",
     "text": [
      "[2025-02-26 17:50:56] Processed 1100 training batches\n"
     ]
    },
    {
     "name": "stderr",
     "output_type": "stream",
     "text": [
      "Epoch 3 [Train]:  57%|█████▋    | 1150/2004 [05:18<04:07,  3.46it/s, Loss=0.8646, Acc=84.58%]"
     ]
    },
    {
     "name": "stdout",
     "output_type": "stream",
     "text": [
      "[2025-02-26 17:51:10] Processed 1150 training batches\n"
     ]
    },
    {
     "name": "stderr",
     "output_type": "stream",
     "text": [
      "Epoch 3 [Train]:  60%|█████▉    | 1200/2004 [05:31<03:43,  3.59it/s, Loss=0.5119, Acc=84.60%]"
     ]
    },
    {
     "name": "stdout",
     "output_type": "stream",
     "text": [
      "[2025-02-26 17:51:24] Processed 1200 training batches\n"
     ]
    },
    {
     "name": "stderr",
     "output_type": "stream",
     "text": [
      "Epoch 3 [Train]:  62%|██████▏   | 1250/2004 [05:46<02:57,  4.26it/s, Loss=0.6635, Acc=84.60%]"
     ]
    },
    {
     "name": "stdout",
     "output_type": "stream",
     "text": [
      "[2025-02-26 17:51:39] Processed 1250 training batches\n"
     ]
    },
    {
     "name": "stderr",
     "output_type": "stream",
     "text": [
      "Epoch 3 [Train]:  65%|██████▍   | 1300/2004 [06:01<03:01,  3.87it/s, Loss=0.3660, Acc=84.62%]"
     ]
    },
    {
     "name": "stdout",
     "output_type": "stream",
     "text": [
      "[2025-02-26 17:51:54] Processed 1300 training batches\n"
     ]
    },
    {
     "name": "stderr",
     "output_type": "stream",
     "text": [
      "Epoch 3 [Train]:  67%|██████▋   | 1350/2004 [06:15<03:14,  3.37it/s, Loss=0.4577, Acc=84.61%]"
     ]
    },
    {
     "name": "stdout",
     "output_type": "stream",
     "text": [
      "[2025-02-26 17:52:08] Processed 1350 training batches\n"
     ]
    },
    {
     "name": "stderr",
     "output_type": "stream",
     "text": [
      "Epoch 3 [Train]:  70%|██████▉   | 1400/2004 [06:30<02:53,  3.47it/s, Loss=0.1435, Acc=84.65%]"
     ]
    },
    {
     "name": "stdout",
     "output_type": "stream",
     "text": [
      "[2025-02-26 17:52:23] Processed 1400 training batches\n"
     ]
    },
    {
     "name": "stderr",
     "output_type": "stream",
     "text": [
      "Epoch 3 [Train]:  72%|███████▏  | 1450/2004 [06:44<02:12,  4.19it/s, Loss=0.3259, Acc=84.72%]"
     ]
    },
    {
     "name": "stdout",
     "output_type": "stream",
     "text": [
      "[2025-02-26 17:52:36] Processed 1450 training batches\n"
     ]
    },
    {
     "name": "stderr",
     "output_type": "stream",
     "text": [
      "Epoch 3 [Train]:  75%|███████▍  | 1500/2004 [06:58<02:30,  3.35it/s, Loss=0.2229, Acc=84.80%]"
     ]
    },
    {
     "name": "stdout",
     "output_type": "stream",
     "text": [
      "[2025-02-26 17:52:51] Processed 1500 training batches\n"
     ]
    },
    {
     "name": "stderr",
     "output_type": "stream",
     "text": [
      "Epoch 3 [Train]:  77%|███████▋  | 1550/2004 [07:13<02:09,  3.51it/s, Loss=0.3974, Acc=84.83%]"
     ]
    },
    {
     "name": "stdout",
     "output_type": "stream",
     "text": [
      "[2025-02-26 17:53:06] Processed 1550 training batches\n"
     ]
    },
    {
     "name": "stderr",
     "output_type": "stream",
     "text": [
      "Epoch 3 [Train]:  80%|███████▉  | 1600/2004 [07:28<02:06,  3.20it/s, Loss=0.2009, Acc=84.88%]"
     ]
    },
    {
     "name": "stdout",
     "output_type": "stream",
     "text": [
      "[2025-02-26 17:53:21] Processed 1600 training batches\n"
     ]
    },
    {
     "name": "stderr",
     "output_type": "stream",
     "text": [
      "Epoch 3 [Train]:  82%|████████▏ | 1650/2004 [07:43<01:36,  3.65it/s, Loss=0.9262, Acc=84.91%]"
     ]
    },
    {
     "name": "stdout",
     "output_type": "stream",
     "text": [
      "[2025-02-26 17:53:36] Processed 1650 training batches\n"
     ]
    },
    {
     "name": "stderr",
     "output_type": "stream",
     "text": [
      "Epoch 3 [Train]:  85%|████████▍ | 1700/2004 [07:58<01:35,  3.17it/s, Loss=0.3241, Acc=84.98%]"
     ]
    },
    {
     "name": "stdout",
     "output_type": "stream",
     "text": [
      "[2025-02-26 17:53:51] Processed 1700 training batches\n"
     ]
    },
    {
     "name": "stderr",
     "output_type": "stream",
     "text": [
      "Epoch 3 [Train]:  87%|████████▋ | 1750/2004 [08:12<01:07,  3.77it/s, Loss=0.2767, Acc=85.02%]"
     ]
    },
    {
     "name": "stdout",
     "output_type": "stream",
     "text": [
      "[2025-02-26 17:54:05] Processed 1750 training batches\n"
     ]
    },
    {
     "name": "stderr",
     "output_type": "stream",
     "text": [
      "Epoch 3 [Train]:  90%|████████▉ | 1800/2004 [08:27<00:56,  3.64it/s, Loss=0.1556, Acc=85.03%]"
     ]
    },
    {
     "name": "stdout",
     "output_type": "stream",
     "text": [
      "[2025-02-26 17:54:20] Processed 1800 training batches\n"
     ]
    },
    {
     "name": "stderr",
     "output_type": "stream",
     "text": [
      "Epoch 3 [Train]:  92%|█████████▏| 1850/2004 [08:42<00:53,  2.87it/s, Loss=0.9774, Acc=85.10%]"
     ]
    },
    {
     "name": "stdout",
     "output_type": "stream",
     "text": [
      "[2025-02-26 17:54:35] Processed 1850 training batches\n"
     ]
    },
    {
     "name": "stderr",
     "output_type": "stream",
     "text": [
      "Epoch 3 [Train]:  95%|█████████▍| 1900/2004 [08:57<00:31,  3.32it/s, Loss=0.2590, Acc=85.15%]"
     ]
    },
    {
     "name": "stdout",
     "output_type": "stream",
     "text": [
      "[2025-02-26 17:54:49] Processed 1900 training batches\n"
     ]
    },
    {
     "name": "stderr",
     "output_type": "stream",
     "text": [
      "Epoch 3 [Train]:  97%|█████████▋| 1950/2004 [09:11<00:15,  3.40it/s, Loss=0.5032, Acc=85.18%]"
     ]
    },
    {
     "name": "stdout",
     "output_type": "stream",
     "text": [
      "[2025-02-26 17:55:03] Processed 1950 training batches\n"
     ]
    },
    {
     "name": "stderr",
     "output_type": "stream",
     "text": [
      "Epoch 3 [Train]: 100%|█████████▉| 2000/2004 [09:26<00:01,  3.23it/s, Loss=0.7848, Acc=85.16%]"
     ]
    },
    {
     "name": "stdout",
     "output_type": "stream",
     "text": [
      "[2025-02-26 17:55:19] Processed 2000 training batches\n"
     ]
    },
    {
     "name": "stderr",
     "output_type": "stream",
     "text": [
      "Epoch 3 [Train]: 100%|██████████| 2004/2004 [09:27<00:00,  3.53it/s, Loss=0.6967, Acc=85.15%]\n",
      "Epoch 3 [Val]:   0%|          | 0/2004 [00:00<?, ?it/s, Loss=4.9646, Acc=0.00%]"
     ]
    },
    {
     "name": "stdout",
     "output_type": "stream",
     "text": [
      "[2025-02-26 17:55:20] Processed 0 validation batches\n"
     ]
    },
    {
     "name": "stderr",
     "output_type": "stream",
     "text": [
      "Epoch 3 [Val]:   1%|          | 20/2004 [00:07<10:00,  3.30it/s, Loss=1.4018, Acc=75.30%]"
     ]
    },
    {
     "name": "stdout",
     "output_type": "stream",
     "text": [
      "[2025-02-26 17:55:27] Processed 20 validation batches\n"
     ]
    },
    {
     "name": "stderr",
     "output_type": "stream",
     "text": [
      "Epoch 3 [Val]:   2%|▏         | 40/2004 [00:13<09:47,  3.34it/s, Loss=0.0613, Acc=84.30%]"
     ]
    },
    {
     "name": "stdout",
     "output_type": "stream",
     "text": [
      "[2025-02-26 17:55:33] Processed 40 validation batches\n"
     ]
    },
    {
     "name": "stderr",
     "output_type": "stream",
     "text": [
      "Epoch 3 [Val]:   3%|▎         | 60/2004 [00:20<12:57,  2.50it/s, Loss=0.9536, Acc=80.23%]"
     ]
    },
    {
     "name": "stdout",
     "output_type": "stream",
     "text": [
      "[2025-02-26 17:55:40] Processed 60 validation batches\n"
     ]
    },
    {
     "name": "stderr",
     "output_type": "stream",
     "text": [
      "Epoch 3 [Val]:   4%|▍         | 80/2004 [00:25<07:02,  4.56it/s, Loss=0.0693, Acc=82.56%]"
     ]
    },
    {
     "name": "stdout",
     "output_type": "stream",
     "text": [
      "[2025-02-26 17:55:45] Processed 80 validation batches\n"
     ]
    },
    {
     "name": "stderr",
     "output_type": "stream",
     "text": [
      "Epoch 3 [Val]:   5%|▍         | 100/2004 [00:35<10:27,  3.03it/s, Loss=0.0856, Acc=82.24%]"
     ]
    },
    {
     "name": "stdout",
     "output_type": "stream",
     "text": [
      "[2025-02-26 17:55:56] Processed 100 validation batches\n"
     ]
    },
    {
     "name": "stderr",
     "output_type": "stream",
     "text": [
      "Epoch 3 [Val]:   6%|▌         | 120/2004 [00:42<07:40,  4.09it/s, Loss=4.5250, Acc=80.22%]"
     ]
    },
    {
     "name": "stdout",
     "output_type": "stream",
     "text": [
      "[2025-02-26 17:56:02] Processed 120 validation batches\n"
     ]
    },
    {
     "name": "stderr",
     "output_type": "stream",
     "text": [
      "Epoch 3 [Val]:   7%|▋         | 140/2004 [00:53<31:52,  1.03s/it, Loss=0.4839, Acc=74.96%]"
     ]
    },
    {
     "name": "stdout",
     "output_type": "stream",
     "text": [
      "[2025-02-26 17:56:13] Processed 140 validation batches\n"
     ]
    },
    {
     "name": "stderr",
     "output_type": "stream",
     "text": [
      "Epoch 3 [Val]:   8%|▊         | 160/2004 [00:58<06:56,  4.43it/s, Loss=0.0160, Acc=75.31%]"
     ]
    },
    {
     "name": "stdout",
     "output_type": "stream",
     "text": [
      "[2025-02-26 17:56:18] Processed 160 validation batches\n"
     ]
    },
    {
     "name": "stderr",
     "output_type": "stream",
     "text": [
      "Epoch 3 [Val]:   9%|▉         | 180/2004 [01:05<11:43,  2.59it/s, Loss=1.6082, Acc=76.24%]"
     ]
    },
    {
     "name": "stdout",
     "output_type": "stream",
     "text": [
      "[2025-02-26 17:56:25] Processed 180 validation batches\n"
     ]
    },
    {
     "name": "stderr",
     "output_type": "stream",
     "text": [
      "Epoch 3 [Val]:  10%|▉         | 200/2004 [01:15<17:04,  1.76it/s, Loss=0.0174, Acc=73.26%]"
     ]
    },
    {
     "name": "stdout",
     "output_type": "stream",
     "text": [
      "[2025-02-26 17:56:35] Processed 200 validation batches\n"
     ]
    },
    {
     "name": "stderr",
     "output_type": "stream",
     "text": [
      "Epoch 3 [Val]:  11%|█         | 220/2004 [01:29<04:48,  6.18it/s, Loss=0.0012, Acc=75.54%]"
     ]
    },
    {
     "name": "stdout",
     "output_type": "stream",
     "text": [
      "[2025-02-26 17:56:49] Processed 220 validation batches\n"
     ]
    },
    {
     "name": "stderr",
     "output_type": "stream",
     "text": [
      "Epoch 3 [Val]:  12%|█▏        | 240/2004 [01:31<03:15,  9.01it/s, Loss=0.0005, Acc=77.57%]"
     ]
    },
    {
     "name": "stdout",
     "output_type": "stream",
     "text": [
      "[2025-02-26 17:56:51] Processed 240 validation batches\n"
     ]
    },
    {
     "name": "stderr",
     "output_type": "stream",
     "text": [
      "Epoch 3 [Val]:  13%|█▎        | 260/2004 [01:33<03:17,  8.84it/s, Loss=0.0005, Acc=79.21%]"
     ]
    },
    {
     "name": "stdout",
     "output_type": "stream",
     "text": [
      "[2025-02-26 17:56:53] Processed 260 validation batches\n"
     ]
    },
    {
     "name": "stderr",
     "output_type": "stream",
     "text": [
      "Epoch 3 [Val]:  14%|█▍        | 280/2004 [01:36<03:04,  9.33it/s, Loss=0.0010, Acc=80.69%]"
     ]
    },
    {
     "name": "stdout",
     "output_type": "stream",
     "text": [
      "[2025-02-26 17:56:56] Processed 280 validation batches\n"
     ]
    },
    {
     "name": "stderr",
     "output_type": "stream",
     "text": [
      "Epoch 3 [Val]:  15%|█▍        | 300/2004 [01:38<03:16,  8.67it/s, Loss=0.0029, Acc=81.98%]"
     ]
    },
    {
     "name": "stdout",
     "output_type": "stream",
     "text": [
      "[2025-02-26 17:56:58] Processed 300 validation batches\n"
     ]
    },
    {
     "name": "stderr",
     "output_type": "stream",
     "text": [
      "Epoch 3 [Val]:  16%|█▌        | 320/2004 [01:40<03:12,  8.73it/s, Loss=0.0126, Acc=83.10%]"
     ]
    },
    {
     "name": "stdout",
     "output_type": "stream",
     "text": [
      "[2025-02-26 17:57:00] Processed 320 validation batches\n"
     ]
    },
    {
     "name": "stderr",
     "output_type": "stream",
     "text": [
      "Epoch 3 [Val]:  17%|█▋        | 340/2004 [01:42<03:09,  8.79it/s, Loss=0.0007, Acc=84.04%]"
     ]
    },
    {
     "name": "stdout",
     "output_type": "stream",
     "text": [
      "[2025-02-26 17:57:02] Processed 340 validation batches\n"
     ]
    },
    {
     "name": "stderr",
     "output_type": "stream",
     "text": [
      "Epoch 3 [Val]:  18%|█▊        | 360/2004 [01:45<03:07,  8.76it/s, Loss=0.1366, Acc=84.73%]"
     ]
    },
    {
     "name": "stdout",
     "output_type": "stream",
     "text": [
      "[2025-02-26 17:57:05] Processed 360 validation batches\n"
     ]
    },
    {
     "name": "stderr",
     "output_type": "stream",
     "text": [
      "Epoch 3 [Val]:  19%|█▉        | 380/2004 [01:47<03:01,  8.94it/s, Loss=0.0665, Acc=85.33%]"
     ]
    },
    {
     "name": "stdout",
     "output_type": "stream",
     "text": [
      "[2025-02-26 17:57:07] Processed 380 validation batches\n"
     ]
    },
    {
     "name": "stderr",
     "output_type": "stream",
     "text": [
      "Epoch 3 [Val]:  20%|█▉        | 400/2004 [01:49<03:07,  8.56it/s, Loss=0.2057, Acc=85.91%]"
     ]
    },
    {
     "name": "stdout",
     "output_type": "stream",
     "text": [
      "[2025-02-26 17:57:09] Processed 400 validation batches\n"
     ]
    },
    {
     "name": "stderr",
     "output_type": "stream",
     "text": [
      "Epoch 3 [Val]:  21%|██        | 420/2004 [01:51<02:55,  9.02it/s, Loss=0.0174, Acc=86.52%]"
     ]
    },
    {
     "name": "stdout",
     "output_type": "stream",
     "text": [
      "[2025-02-26 17:57:12] Processed 420 validation batches\n"
     ]
    },
    {
     "name": "stderr",
     "output_type": "stream",
     "text": [
      "Epoch 3 [Val]:  22%|██▏       | 440/2004 [01:54<02:57,  8.82it/s, Loss=0.0120, Acc=86.93%]"
     ]
    },
    {
     "name": "stdout",
     "output_type": "stream",
     "text": [
      "[2025-02-26 17:57:14] Processed 440 validation batches\n"
     ]
    },
    {
     "name": "stderr",
     "output_type": "stream",
     "text": [
      "Epoch 3 [Val]:  23%|██▎       | 460/2004 [02:07<11:39,  2.21it/s, Loss=0.5696, Acc=86.84%]"
     ]
    },
    {
     "name": "stdout",
     "output_type": "stream",
     "text": [
      "[2025-02-26 17:57:27] Processed 460 validation batches\n"
     ]
    },
    {
     "name": "stderr",
     "output_type": "stream",
     "text": [
      "Epoch 3 [Val]:  24%|██▍       | 480/2004 [02:13<07:31,  3.38it/s, Loss=2.6111, Acc=85.99%]"
     ]
    },
    {
     "name": "stdout",
     "output_type": "stream",
     "text": [
      "[2025-02-26 17:57:33] Processed 480 validation batches\n"
     ]
    },
    {
     "name": "stderr",
     "output_type": "stream",
     "text": [
      "Epoch 3 [Val]:  25%|██▍       | 500/2004 [02:19<02:53,  8.68it/s, Loss=0.1917, Acc=85.85%]"
     ]
    },
    {
     "name": "stdout",
     "output_type": "stream",
     "text": [
      "[2025-02-26 17:57:39] Processed 500 validation batches\n"
     ]
    },
    {
     "name": "stderr",
     "output_type": "stream",
     "text": [
      "Epoch 3 [Val]:  26%|██▌       | 520/2004 [02:21<02:49,  8.74it/s, Loss=0.1000, Acc=86.25%]"
     ]
    },
    {
     "name": "stdout",
     "output_type": "stream",
     "text": [
      "[2025-02-26 17:57:41] Processed 520 validation batches\n"
     ]
    },
    {
     "name": "stderr",
     "output_type": "stream",
     "text": [
      "Epoch 3 [Val]:  27%|██▋       | 540/2004 [02:24<04:05,  5.95it/s, Loss=0.8159, Acc=86.40%]"
     ]
    },
    {
     "name": "stdout",
     "output_type": "stream",
     "text": [
      "[2025-02-26 17:57:44] Processed 540 validation batches\n"
     ]
    },
    {
     "name": "stderr",
     "output_type": "stream",
     "text": [
      "Epoch 3 [Val]:  28%|██▊       | 560/2004 [02:27<03:05,  7.80it/s, Loss=0.0987, Acc=86.63%]"
     ]
    },
    {
     "name": "stdout",
     "output_type": "stream",
     "text": [
      "[2025-02-26 17:57:47] Processed 560 validation batches\n"
     ]
    },
    {
     "name": "stderr",
     "output_type": "stream",
     "text": [
      "Epoch 3 [Val]:  29%|██▉       | 580/2004 [02:31<07:03,  3.36it/s, Loss=0.1857, Acc=86.96%]"
     ]
    },
    {
     "name": "stdout",
     "output_type": "stream",
     "text": [
      "[2025-02-26 17:57:52] Processed 580 validation batches\n"
     ]
    },
    {
     "name": "stderr",
     "output_type": "stream",
     "text": [
      "Epoch 3 [Val]:  30%|██▉       | 600/2004 [02:34<02:56,  7.94it/s, Loss=0.0277, Acc=87.29%]"
     ]
    },
    {
     "name": "stdout",
     "output_type": "stream",
     "text": [
      "[2025-02-26 17:57:54] Processed 600 validation batches\n"
     ]
    },
    {
     "name": "stderr",
     "output_type": "stream",
     "text": [
      "Epoch 3 [Val]:  31%|███       | 620/2004 [02:36<02:49,  8.18it/s, Loss=0.0192, Acc=87.65%]"
     ]
    },
    {
     "name": "stdout",
     "output_type": "stream",
     "text": [
      "[2025-02-26 17:57:57] Processed 620 validation batches\n"
     ]
    },
    {
     "name": "stderr",
     "output_type": "stream",
     "text": [
      "Epoch 3 [Val]:  32%|███▏      | 640/2004 [02:39<02:49,  8.06it/s, Loss=0.2416, Acc=87.97%]"
     ]
    },
    {
     "name": "stdout",
     "output_type": "stream",
     "text": [
      "[2025-02-26 17:57:59] Processed 640 validation batches\n"
     ]
    },
    {
     "name": "stderr",
     "output_type": "stream",
     "text": [
      "Epoch 3 [Val]:  33%|███▎      | 660/2004 [02:42<02:44,  8.16it/s, Loss=0.0033, Acc=88.29%]"
     ]
    },
    {
     "name": "stdout",
     "output_type": "stream",
     "text": [
      "[2025-02-26 17:58:02] Processed 660 validation batches\n"
     ]
    },
    {
     "name": "stderr",
     "output_type": "stream",
     "text": [
      "Epoch 3 [Val]:  34%|███▍      | 680/2004 [02:44<02:45,  7.98it/s, Loss=0.0009, Acc=88.64%]"
     ]
    },
    {
     "name": "stdout",
     "output_type": "stream",
     "text": [
      "[2025-02-26 17:58:04] Processed 680 validation batches\n"
     ]
    },
    {
     "name": "stderr",
     "output_type": "stream",
     "text": [
      "Epoch 3 [Val]:  35%|███▍      | 700/2004 [02:47<02:36,  8.34it/s, Loss=0.0068, Acc=88.96%]"
     ]
    },
    {
     "name": "stdout",
     "output_type": "stream",
     "text": [
      "[2025-02-26 17:58:07] Processed 700 validation batches\n"
     ]
    },
    {
     "name": "stderr",
     "output_type": "stream",
     "text": [
      "Epoch 3 [Val]:  36%|███▌      | 720/2004 [02:49<02:36,  8.19it/s, Loss=0.0172, Acc=89.26%]"
     ]
    },
    {
     "name": "stdout",
     "output_type": "stream",
     "text": [
      "[2025-02-26 17:58:09] Processed 720 validation batches\n"
     ]
    },
    {
     "name": "stderr",
     "output_type": "stream",
     "text": [
      "Epoch 3 [Val]:  37%|███▋      | 740/2004 [02:53<02:37,  8.00it/s, Loss=0.0072, Acc=89.55%]"
     ]
    },
    {
     "name": "stdout",
     "output_type": "stream",
     "text": [
      "[2025-02-26 17:58:13] Processed 740 validation batches\n"
     ]
    },
    {
     "name": "stderr",
     "output_type": "stream",
     "text": [
      "Epoch 3 [Val]:  38%|███▊      | 760/2004 [03:05<06:38,  3.12it/s, Loss=0.0043, Acc=89.74%]"
     ]
    },
    {
     "name": "stdout",
     "output_type": "stream",
     "text": [
      "[2025-02-26 17:58:25] Processed 760 validation batches\n"
     ]
    },
    {
     "name": "stderr",
     "output_type": "stream",
     "text": [
      "Epoch 3 [Val]:  39%|███▉      | 780/2004 [03:13<06:43,  3.03it/s, Loss=0.0007, Acc=89.92%]"
     ]
    },
    {
     "name": "stdout",
     "output_type": "stream",
     "text": [
      "[2025-02-26 17:58:33] Processed 780 validation batches\n"
     ]
    },
    {
     "name": "stderr",
     "output_type": "stream",
     "text": [
      "Epoch 3 [Val]:  40%|███▉      | 800/2004 [03:16<02:33,  7.86it/s, Loss=0.0605, Acc=90.16%]"
     ]
    },
    {
     "name": "stdout",
     "output_type": "stream",
     "text": [
      "[2025-02-26 17:58:36] Processed 800 validation batches\n"
     ]
    },
    {
     "name": "stderr",
     "output_type": "stream",
     "text": [
      "Epoch 3 [Val]:  41%|████      | 820/2004 [03:18<02:26,  8.06it/s, Loss=0.0121, Acc=90.40%]"
     ]
    },
    {
     "name": "stdout",
     "output_type": "stream",
     "text": [
      "[2025-02-26 17:58:38] Processed 820 validation batches\n"
     ]
    },
    {
     "name": "stderr",
     "output_type": "stream",
     "text": [
      "Epoch 3 [Val]:  42%|████▏     | 840/2004 [03:24<04:27,  4.35it/s, Loss=0.1005, Acc=90.52%]"
     ]
    },
    {
     "name": "stdout",
     "output_type": "stream",
     "text": [
      "[2025-02-26 17:58:44] Processed 840 validation batches\n"
     ]
    },
    {
     "name": "stderr",
     "output_type": "stream",
     "text": [
      "Epoch 3 [Val]:  43%|████▎     | 860/2004 [03:29<09:03,  2.11it/s, Loss=0.8625, Acc=90.59%]"
     ]
    },
    {
     "name": "stdout",
     "output_type": "stream",
     "text": [
      "[2025-02-26 17:58:49] Processed 860 validation batches\n"
     ]
    },
    {
     "name": "stderr",
     "output_type": "stream",
     "text": [
      "Epoch 3 [Val]:  44%|████▍     | 880/2004 [03:33<03:44,  5.01it/s, Loss=1.4394, Acc=89.83%]"
     ]
    },
    {
     "name": "stdout",
     "output_type": "stream",
     "text": [
      "[2025-02-26 17:58:53] Processed 880 validation batches\n"
     ]
    },
    {
     "name": "stderr",
     "output_type": "stream",
     "text": [
      "Epoch 3 [Val]:  45%|████▍     | 900/2004 [03:38<04:05,  4.50it/s, Loss=0.0257, Acc=89.23%]"
     ]
    },
    {
     "name": "stdout",
     "output_type": "stream",
     "text": [
      "[2025-02-26 17:58:58] Processed 900 validation batches\n"
     ]
    },
    {
     "name": "stderr",
     "output_type": "stream",
     "text": [
      "Epoch 3 [Val]:  46%|████▌     | 920/2004 [03:43<05:09,  3.51it/s, Loss=0.5444, Acc=89.20%]"
     ]
    },
    {
     "name": "stdout",
     "output_type": "stream",
     "text": [
      "[2025-02-26 17:59:03] Processed 920 validation batches\n"
     ]
    },
    {
     "name": "stderr",
     "output_type": "stream",
     "text": [
      "Epoch 3 [Val]:  47%|████▋     | 940/2004 [03:49<03:50,  4.62it/s, Loss=0.0354, Acc=89.13%]"
     ]
    },
    {
     "name": "stdout",
     "output_type": "stream",
     "text": [
      "[2025-02-26 17:59:09] Processed 940 validation batches\n"
     ]
    },
    {
     "name": "stderr",
     "output_type": "stream",
     "text": [
      "Epoch 3 [Val]:  48%|████▊     | 960/2004 [03:53<03:43,  4.67it/s, Loss=0.0488, Acc=89.29%]"
     ]
    },
    {
     "name": "stdout",
     "output_type": "stream",
     "text": [
      "[2025-02-26 17:59:13] Processed 960 validation batches\n"
     ]
    },
    {
     "name": "stderr",
     "output_type": "stream",
     "text": [
      "Epoch 3 [Val]:  49%|████▉     | 980/2004 [04:04<17:59,  1.05s/it, Loss=0.1008, Acc=89.39%]"
     ]
    },
    {
     "name": "stdout",
     "output_type": "stream",
     "text": [
      "[2025-02-26 17:59:24] Processed 980 validation batches\n"
     ]
    },
    {
     "name": "stderr",
     "output_type": "stream",
     "text": [
      "Epoch 3 [Val]:  50%|████▉     | 1000/2004 [04:10<03:38,  4.60it/s, Loss=1.0557, Acc=89.23%]"
     ]
    },
    {
     "name": "stdout",
     "output_type": "stream",
     "text": [
      "[2025-02-26 17:59:30] Processed 1000 validation batches\n"
     ]
    },
    {
     "name": "stderr",
     "output_type": "stream",
     "text": [
      "Epoch 3 [Val]:  51%|█████     | 1020/2004 [04:15<02:52,  5.71it/s, Loss=0.1541, Acc=89.39%]"
     ]
    },
    {
     "name": "stdout",
     "output_type": "stream",
     "text": [
      "[2025-02-26 17:59:35] Processed 1020 validation batches\n"
     ]
    },
    {
     "name": "stderr",
     "output_type": "stream",
     "text": [
      "Epoch 3 [Val]:  52%|█████▏    | 1040/2004 [04:23<03:37,  4.43it/s, Loss=0.0000, Acc=89.42%]"
     ]
    },
    {
     "name": "stdout",
     "output_type": "stream",
     "text": [
      "[2025-02-26 17:59:43] Processed 1040 validation batches\n"
     ]
    },
    {
     "name": "stderr",
     "output_type": "stream",
     "text": [
      "Epoch 3 [Val]:  53%|█████▎    | 1060/2004 [04:29<05:20,  2.95it/s, Loss=0.0648, Acc=89.57%]"
     ]
    },
    {
     "name": "stdout",
     "output_type": "stream",
     "text": [
      "[2025-02-26 17:59:49] Processed 1060 validation batches\n"
     ]
    },
    {
     "name": "stderr",
     "output_type": "stream",
     "text": [
      "Epoch 3 [Val]:  54%|█████▍    | 1080/2004 [04:38<08:31,  1.81it/s, Loss=0.0040, Acc=89.69%]"
     ]
    },
    {
     "name": "stdout",
     "output_type": "stream",
     "text": [
      "[2025-02-26 17:59:58] Processed 1080 validation batches\n"
     ]
    },
    {
     "name": "stderr",
     "output_type": "stream",
     "text": [
      "Epoch 3 [Val]:  55%|█████▍    | 1100/2004 [05:01<20:44,  1.38s/it, Loss=0.0284, Acc=89.83%]"
     ]
    },
    {
     "name": "stdout",
     "output_type": "stream",
     "text": [
      "[2025-02-26 18:00:21] Processed 1100 validation batches\n"
     ]
    },
    {
     "name": "stderr",
     "output_type": "stream",
     "text": [
      "Epoch 3 [Val]:  56%|█████▌    | 1120/2004 [05:24<18:45,  1.27s/it, Loss=0.1449, Acc=89.94%]"
     ]
    },
    {
     "name": "stdout",
     "output_type": "stream",
     "text": [
      "[2025-02-26 18:00:44] Processed 1120 validation batches\n"
     ]
    },
    {
     "name": "stderr",
     "output_type": "stream",
     "text": [
      "Epoch 3 [Val]:  57%|█████▋    | 1140/2004 [05:28<03:00,  4.80it/s, Loss=0.0408, Acc=90.12%]"
     ]
    },
    {
     "name": "stdout",
     "output_type": "stream",
     "text": [
      "[2025-02-26 18:00:48] Processed 1140 validation batches\n"
     ]
    },
    {
     "name": "stderr",
     "output_type": "stream",
     "text": [
      "Epoch 3 [Val]:  58%|█████▊    | 1160/2004 [05:32<03:11,  4.41it/s, Loss=0.0019, Acc=90.28%]"
     ]
    },
    {
     "name": "stdout",
     "output_type": "stream",
     "text": [
      "[2025-02-26 18:00:52] Processed 1160 validation batches\n"
     ]
    },
    {
     "name": "stderr",
     "output_type": "stream",
     "text": [
      "Epoch 3 [Val]:  59%|█████▉    | 1180/2004 [05:36<02:47,  4.92it/s, Loss=0.0005, Acc=90.45%]"
     ]
    },
    {
     "name": "stdout",
     "output_type": "stream",
     "text": [
      "[2025-02-26 18:00:56] Processed 1180 validation batches\n"
     ]
    },
    {
     "name": "stderr",
     "output_type": "stream",
     "text": [
      "Epoch 3 [Val]:  60%|█████▉    | 1200/2004 [05:39<01:37,  8.21it/s, Loss=0.0150, Acc=90.59%]"
     ]
    },
    {
     "name": "stdout",
     "output_type": "stream",
     "text": [
      "[2025-02-26 18:00:59] Processed 1200 validation batches\n"
     ]
    },
    {
     "name": "stderr",
     "output_type": "stream",
     "text": [
      "Epoch 3 [Val]:  61%|██████    | 1220/2004 [05:42<02:29,  5.24it/s, Loss=0.1274, Acc=90.63%]"
     ]
    },
    {
     "name": "stdout",
     "output_type": "stream",
     "text": [
      "[2025-02-26 18:01:02] Processed 1220 validation batches\n"
     ]
    },
    {
     "name": "stderr",
     "output_type": "stream",
     "text": [
      "Epoch 3 [Val]:  62%|██████▏   | 1240/2004 [05:46<02:27,  5.17it/s, Loss=0.0069, Acc=90.72%]"
     ]
    },
    {
     "name": "stdout",
     "output_type": "stream",
     "text": [
      "[2025-02-26 18:01:06] Processed 1240 validation batches\n"
     ]
    },
    {
     "name": "stderr",
     "output_type": "stream",
     "text": [
      "Epoch 3 [Val]:  63%|██████▎   | 1260/2004 [05:50<02:53,  4.28it/s, Loss=0.3028, Acc=90.85%]"
     ]
    },
    {
     "name": "stdout",
     "output_type": "stream",
     "text": [
      "[2025-02-26 18:01:11] Processed 1260 validation batches\n"
     ]
    },
    {
     "name": "stderr",
     "output_type": "stream",
     "text": [
      "Epoch 3 [Val]:  64%|██████▍   | 1280/2004 [05:54<02:19,  5.18it/s, Loss=0.0125, Acc=90.93%]"
     ]
    },
    {
     "name": "stdout",
     "output_type": "stream",
     "text": [
      "[2025-02-26 18:01:15] Processed 1280 validation batches\n"
     ]
    },
    {
     "name": "stderr",
     "output_type": "stream",
     "text": [
      "Epoch 3 [Val]:  65%|██████▍   | 1300/2004 [05:59<03:13,  3.64it/s, Loss=0.4767, Acc=90.94%]"
     ]
    },
    {
     "name": "stdout",
     "output_type": "stream",
     "text": [
      "[2025-02-26 18:01:19] Processed 1300 validation batches\n"
     ]
    },
    {
     "name": "stderr",
     "output_type": "stream",
     "text": [
      "Epoch 3 [Val]:  66%|██████▌   | 1320/2004 [06:03<02:31,  4.52it/s, Loss=0.2466, Acc=91.00%]"
     ]
    },
    {
     "name": "stdout",
     "output_type": "stream",
     "text": [
      "[2025-02-26 18:01:24] Processed 1320 validation batches\n"
     ]
    },
    {
     "name": "stderr",
     "output_type": "stream",
     "text": [
      "Epoch 3 [Val]:  67%|██████▋   | 1340/2004 [06:08<02:34,  4.29it/s, Loss=1.5697, Acc=90.84%]"
     ]
    },
    {
     "name": "stdout",
     "output_type": "stream",
     "text": [
      "[2025-02-26 18:01:28] Processed 1340 validation batches\n"
     ]
    },
    {
     "name": "stderr",
     "output_type": "stream",
     "text": [
      "Epoch 3 [Val]:  68%|██████▊   | 1360/2004 [06:12<01:54,  5.60it/s, Loss=0.2132, Acc=90.88%]"
     ]
    },
    {
     "name": "stdout",
     "output_type": "stream",
     "text": [
      "[2025-02-26 18:01:32] Processed 1360 validation batches\n"
     ]
    },
    {
     "name": "stderr",
     "output_type": "stream",
     "text": [
      "Epoch 3 [Val]:  69%|██████▉   | 1380/2004 [06:14<01:07,  9.19it/s, Loss=0.1576, Acc=90.96%]"
     ]
    },
    {
     "name": "stdout",
     "output_type": "stream",
     "text": [
      "[2025-02-26 18:01:34] Processed 1380 validation batches\n"
     ]
    },
    {
     "name": "stderr",
     "output_type": "stream",
     "text": [
      "Epoch 3 [Val]:  70%|██████▉   | 1400/2004 [06:16<01:06,  9.13it/s, Loss=0.0194, Acc=91.03%]"
     ]
    },
    {
     "name": "stdout",
     "output_type": "stream",
     "text": [
      "[2025-02-26 18:01:36] Processed 1400 validation batches\n"
     ]
    },
    {
     "name": "stderr",
     "output_type": "stream",
     "text": [
      "Epoch 3 [Val]:  71%|███████   | 1420/2004 [06:18<01:04,  9.09it/s, Loss=0.2932, Acc=91.14%]"
     ]
    },
    {
     "name": "stdout",
     "output_type": "stream",
     "text": [
      "[2025-02-26 18:01:38] Processed 1420 validation batches\n"
     ]
    },
    {
     "name": "stderr",
     "output_type": "stream",
     "text": [
      "Epoch 3 [Val]:  72%|███████▏  | 1440/2004 [06:20<01:03,  8.94it/s, Loss=0.0767, Acc=91.24%]"
     ]
    },
    {
     "name": "stdout",
     "output_type": "stream",
     "text": [
      "[2025-02-26 18:01:41] Processed 1440 validation batches\n"
     ]
    },
    {
     "name": "stderr",
     "output_type": "stream",
     "text": [
      "Epoch 3 [Val]:  73%|███████▎  | 1460/2004 [06:23<01:01,  8.88it/s, Loss=0.0597, Acc=91.33%]"
     ]
    },
    {
     "name": "stdout",
     "output_type": "stream",
     "text": [
      "[2025-02-26 18:01:43] Processed 1460 validation batches\n"
     ]
    },
    {
     "name": "stderr",
     "output_type": "stream",
     "text": [
      "Epoch 3 [Val]:  74%|███████▍  | 1480/2004 [06:25<01:00,  8.66it/s, Loss=0.0110, Acc=91.42%]"
     ]
    },
    {
     "name": "stdout",
     "output_type": "stream",
     "text": [
      "[2025-02-26 18:01:45] Processed 1480 validation batches\n"
     ]
    },
    {
     "name": "stderr",
     "output_type": "stream",
     "text": [
      "Epoch 3 [Val]:  75%|███████▍  | 1500/2004 [06:27<00:57,  8.77it/s, Loss=0.2357, Acc=91.47%]"
     ]
    },
    {
     "name": "stdout",
     "output_type": "stream",
     "text": [
      "[2025-02-26 18:01:47] Processed 1500 validation batches\n"
     ]
    },
    {
     "name": "stderr",
     "output_type": "stream",
     "text": [
      "Epoch 3 [Val]:  76%|███████▌  | 1520/2004 [06:30<00:54,  8.80it/s, Loss=0.6085, Acc=91.51%]"
     ]
    },
    {
     "name": "stdout",
     "output_type": "stream",
     "text": [
      "[2025-02-26 18:01:50] Processed 1520 validation batches\n"
     ]
    },
    {
     "name": "stderr",
     "output_type": "stream",
     "text": [
      "Epoch 3 [Val]:  77%|███████▋  | 1540/2004 [06:34<03:45,  2.06it/s, Loss=0.3598, Acc=91.54%]"
     ]
    },
    {
     "name": "stdout",
     "output_type": "stream",
     "text": [
      "[2025-02-26 18:01:54] Processed 1540 validation batches\n"
     ]
    },
    {
     "name": "stderr",
     "output_type": "stream",
     "text": [
      "Epoch 3 [Val]:  78%|███████▊  | 1560/2004 [06:43<02:12,  3.35it/s, Loss=0.0541, Acc=91.51%]"
     ]
    },
    {
     "name": "stdout",
     "output_type": "stream",
     "text": [
      "[2025-02-26 18:02:03] Processed 1560 validation batches\n"
     ]
    },
    {
     "name": "stderr",
     "output_type": "stream",
     "text": [
      "Epoch 3 [Val]:  79%|███████▉  | 1580/2004 [06:50<01:53,  3.75it/s, Loss=0.0305, Acc=91.51%]"
     ]
    },
    {
     "name": "stdout",
     "output_type": "stream",
     "text": [
      "[2025-02-26 18:02:10] Processed 1580 validation batches\n"
     ]
    },
    {
     "name": "stderr",
     "output_type": "stream",
     "text": [
      "Epoch 3 [Val]:  80%|███████▉  | 1600/2004 [06:53<00:45,  8.93it/s, Loss=0.0191, Acc=91.57%]"
     ]
    },
    {
     "name": "stdout",
     "output_type": "stream",
     "text": [
      "[2025-02-26 18:02:13] Processed 1600 validation batches\n"
     ]
    },
    {
     "name": "stderr",
     "output_type": "stream",
     "text": [
      "Epoch 3 [Val]:  81%|████████  | 1620/2004 [07:08<06:48,  1.06s/it, Loss=0.0571, Acc=91.64%]"
     ]
    },
    {
     "name": "stdout",
     "output_type": "stream",
     "text": [
      "[2025-02-26 18:02:28] Processed 1620 validation batches\n"
     ]
    },
    {
     "name": "stderr",
     "output_type": "stream",
     "text": [
      "Epoch 3 [Val]:  82%|████████▏ | 1640/2004 [07:28<02:00,  3.01it/s, Loss=0.0353, Acc=91.66%]"
     ]
    },
    {
     "name": "stdout",
     "output_type": "stream",
     "text": [
      "[2025-02-26 18:02:48] Processed 1640 validation batches\n"
     ]
    },
    {
     "name": "stderr",
     "output_type": "stream",
     "text": [
      "Epoch 3 [Val]:  83%|████████▎ | 1660/2004 [07:32<01:18,  4.38it/s, Loss=0.1435, Acc=91.65%]"
     ]
    },
    {
     "name": "stdout",
     "output_type": "stream",
     "text": [
      "[2025-02-26 18:02:52] Processed 1660 validation batches\n"
     ]
    },
    {
     "name": "stderr",
     "output_type": "stream",
     "text": [
      "Epoch 3 [Val]:  84%|████████▍ | 1680/2004 [07:38<01:13,  4.40it/s, Loss=0.1281, Acc=91.52%]"
     ]
    },
    {
     "name": "stdout",
     "output_type": "stream",
     "text": [
      "[2025-02-26 18:02:58] Processed 1680 validation batches\n"
     ]
    },
    {
     "name": "stderr",
     "output_type": "stream",
     "text": [
      "Epoch 3 [Val]:  85%|████████▍ | 1700/2004 [07:42<01:07,  4.51it/s, Loss=0.9920, Acc=91.51%]"
     ]
    },
    {
     "name": "stdout",
     "output_type": "stream",
     "text": [
      "[2025-02-26 18:03:03] Processed 1700 validation batches\n"
     ]
    },
    {
     "name": "stderr",
     "output_type": "stream",
     "text": [
      "Epoch 3 [Val]:  86%|████████▌ | 1720/2004 [07:47<01:02,  4.54it/s, Loss=0.0094, Acc=91.53%]"
     ]
    },
    {
     "name": "stdout",
     "output_type": "stream",
     "text": [
      "[2025-02-26 18:03:07] Processed 1720 validation batches\n"
     ]
    },
    {
     "name": "stderr",
     "output_type": "stream",
     "text": [
      "Epoch 3 [Val]:  87%|████████▋ | 1740/2004 [07:52<00:55,  4.76it/s, Loss=0.0131, Acc=91.61%]"
     ]
    },
    {
     "name": "stdout",
     "output_type": "stream",
     "text": [
      "[2025-02-26 18:03:12] Processed 1740 validation batches\n"
     ]
    },
    {
     "name": "stderr",
     "output_type": "stream",
     "text": [
      "Epoch 3 [Val]:  88%|████████▊ | 1760/2004 [07:56<00:53,  4.56it/s, Loss=0.0036, Acc=91.70%]"
     ]
    },
    {
     "name": "stdout",
     "output_type": "stream",
     "text": [
      "[2025-02-26 18:03:16] Processed 1760 validation batches\n"
     ]
    },
    {
     "name": "stderr",
     "output_type": "stream",
     "text": [
      "Epoch 3 [Val]:  89%|████████▉ | 1780/2004 [08:06<01:45,  2.13it/s, Loss=0.0046, Acc=91.78%]"
     ]
    },
    {
     "name": "stdout",
     "output_type": "stream",
     "text": [
      "[2025-02-26 18:03:26] Processed 1780 validation batches\n"
     ]
    },
    {
     "name": "stderr",
     "output_type": "stream",
     "text": [
      "Epoch 3 [Val]:  90%|████████▉ | 1800/2004 [08:10<00:42,  4.83it/s, Loss=0.0102, Acc=91.86%]"
     ]
    },
    {
     "name": "stdout",
     "output_type": "stream",
     "text": [
      "[2025-02-26 18:03:30] Processed 1800 validation batches\n"
     ]
    },
    {
     "name": "stderr",
     "output_type": "stream",
     "text": [
      "Epoch 3 [Val]:  91%|█████████ | 1820/2004 [08:16<00:39,  4.71it/s, Loss=0.0002, Acc=91.94%]"
     ]
    },
    {
     "name": "stdout",
     "output_type": "stream",
     "text": [
      "[2025-02-26 18:03:36] Processed 1820 validation batches\n"
     ]
    },
    {
     "name": "stderr",
     "output_type": "stream",
     "text": [
      "Epoch 3 [Val]:  92%|█████████▏| 1840/2004 [08:21<00:36,  4.44it/s, Loss=0.0002, Acc=92.03%]"
     ]
    },
    {
     "name": "stdout",
     "output_type": "stream",
     "text": [
      "[2025-02-26 18:03:41] Processed 1840 validation batches\n"
     ]
    },
    {
     "name": "stderr",
     "output_type": "stream",
     "text": [
      "Epoch 3 [Val]:  93%|█████████▎| 1860/2004 [08:25<00:29,  4.83it/s, Loss=0.0023, Acc=92.12%]"
     ]
    },
    {
     "name": "stdout",
     "output_type": "stream",
     "text": [
      "[2025-02-26 18:03:45] Processed 1860 validation batches\n"
     ]
    },
    {
     "name": "stderr",
     "output_type": "stream",
     "text": [
      "Epoch 3 [Val]:  94%|█████████▍| 1880/2004 [08:39<01:48,  1.14it/s, Loss=0.0011, Acc=92.19%]"
     ]
    },
    {
     "name": "stdout",
     "output_type": "stream",
     "text": [
      "[2025-02-26 18:03:59] Processed 1880 validation batches\n"
     ]
    },
    {
     "name": "stderr",
     "output_type": "stream",
     "text": [
      "Epoch 3 [Val]:  95%|█████████▍| 1900/2004 [08:46<00:32,  3.23it/s, Loss=0.0001, Acc=92.25%]"
     ]
    },
    {
     "name": "stdout",
     "output_type": "stream",
     "text": [
      "[2025-02-26 18:04:06] Processed 1900 validation batches\n"
     ]
    },
    {
     "name": "stderr",
     "output_type": "stream",
     "text": [
      "Epoch 3 [Val]:  96%|█████████▌| 1920/2004 [08:53<00:10,  7.69it/s, Loss=0.0026, Acc=92.33%]"
     ]
    },
    {
     "name": "stdout",
     "output_type": "stream",
     "text": [
      "[2025-02-26 18:04:13] Processed 1920 validation batches\n"
     ]
    },
    {
     "name": "stderr",
     "output_type": "stream",
     "text": [
      "Epoch 3 [Val]:  97%|█████████▋| 1940/2004 [08:58<00:15,  4.19it/s, Loss=0.1354, Acc=92.26%]"
     ]
    },
    {
     "name": "stdout",
     "output_type": "stream",
     "text": [
      "[2025-02-26 18:04:18] Processed 1940 validation batches\n"
     ]
    },
    {
     "name": "stderr",
     "output_type": "stream",
     "text": [
      "Epoch 3 [Val]:  98%|█████████▊| 1960/2004 [09:02<00:09,  4.47it/s, Loss=0.1917, Acc=92.24%]"
     ]
    },
    {
     "name": "stdout",
     "output_type": "stream",
     "text": [
      "[2025-02-26 18:04:22] Processed 1960 validation batches\n"
     ]
    },
    {
     "name": "stderr",
     "output_type": "stream",
     "text": [
      "Epoch 3 [Val]:  99%|█████████▉| 1979/2004 [09:05<00:03,  8.32it/s, Loss=1.9767, Acc=92.00%]"
     ]
    },
    {
     "name": "stdout",
     "output_type": "stream",
     "text": [
      "[2025-02-26 18:04:25] Processed 1980 validation batches\n"
     ]
    },
    {
     "name": "stderr",
     "output_type": "stream",
     "text": [
      "Epoch 3 [Val]: 100%|█████████▉| 1999/2004 [09:07<00:00, 11.22it/s, Loss=0.2780, Acc=91.66%]"
     ]
    },
    {
     "name": "stdout",
     "output_type": "stream",
     "text": [
      "[2025-02-26 18:04:27] Processed 2000 validation batches\n"
     ]
    },
    {
     "name": "stderr",
     "output_type": "stream",
     "text": [
      "Epoch 3 [Val]: 100%|██████████| 2004/2004 [09:07<00:00,  3.66it/s, Loss=0.1476, Acc=91.66%]"
     ]
    },
    {
     "name": "stdout",
     "output_type": "stream",
     "text": [
      "[2025-02-26 18:04:27] Epoch 3 Results:\n",
      "[2025-02-26 18:04:27] Train Loss: 0.4951 | Train Acc: 85.15%\n",
      "[2025-02-26 18:04:27] Val Loss: 0.2815 | Val Acc: 91.66%\n"
     ]
    },
    {
     "name": "stderr",
     "output_type": "stream",
     "text": [
      "\n"
     ]
    },
    {
     "name": "stdout",
     "output_type": "stream",
     "text": [
      "[2025-02-26 18:04:27] Saved best model\n",
      "[2025-02-26 18:04:27] Starting epoch 4/15\n"
     ]
    },
    {
     "name": "stderr",
     "output_type": "stream",
     "text": [
      "Epoch 4 [Train]:   0%|          | 0/2004 [00:00<?, ?it/s, Loss=0.2403, Acc=87.50%]"
     ]
    },
    {
     "name": "stdout",
     "output_type": "stream",
     "text": [
      "[2025-02-26 18:04:27] Processed 0 training batches\n"
     ]
    },
    {
     "name": "stderr",
     "output_type": "stream",
     "text": [
      "Epoch 4 [Train]:   2%|▏         | 50/2004 [00:13<07:07,  4.57it/s, Loss=0.3648, Acc=85.66%]"
     ]
    },
    {
     "name": "stdout",
     "output_type": "stream",
     "text": [
      "[2025-02-26 18:04:40] Processed 50 training batches\n"
     ]
    },
    {
     "name": "stderr",
     "output_type": "stream",
     "text": [
      "Epoch 4 [Train]:   5%|▍         | 100/2004 [00:26<08:18,  3.82it/s, Loss=0.1122, Acc=86.45%]"
     ]
    },
    {
     "name": "stdout",
     "output_type": "stream",
     "text": [
      "[2025-02-26 18:04:53] Processed 100 training batches\n"
     ]
    },
    {
     "name": "stderr",
     "output_type": "stream",
     "text": [
      "Epoch 4 [Train]:   7%|▋         | 150/2004 [00:39<09:15,  3.34it/s, Loss=0.1796, Acc=87.04%]"
     ]
    },
    {
     "name": "stdout",
     "output_type": "stream",
     "text": [
      "[2025-02-26 18:05:07] Processed 150 training batches\n"
     ]
    },
    {
     "name": "stderr",
     "output_type": "stream",
     "text": [
      "Epoch 4 [Train]:  10%|▉         | 200/2004 [00:54<07:16,  4.14it/s, Loss=0.1559, Acc=86.63%]"
     ]
    },
    {
     "name": "stdout",
     "output_type": "stream",
     "text": [
      "[2025-02-26 18:05:21] Processed 200 training batches\n"
     ]
    },
    {
     "name": "stderr",
     "output_type": "stream",
     "text": [
      "Epoch 4 [Train]:  12%|█▏        | 250/2004 [01:07<07:43,  3.78it/s, Loss=0.4896, Acc=86.33%]"
     ]
    },
    {
     "name": "stdout",
     "output_type": "stream",
     "text": [
      "[2025-02-26 18:05:35] Processed 250 training batches\n"
     ]
    },
    {
     "name": "stderr",
     "output_type": "stream",
     "text": [
      "Epoch 4 [Train]:  15%|█▍        | 300/2004 [01:21<07:25,  3.83it/s, Loss=0.9363, Acc=86.07%]"
     ]
    },
    {
     "name": "stdout",
     "output_type": "stream",
     "text": [
      "[2025-02-26 18:05:49] Processed 300 training batches\n"
     ]
    },
    {
     "name": "stderr",
     "output_type": "stream",
     "text": [
      "Epoch 4 [Train]:  17%|█▋        | 350/2004 [01:35<08:22,  3.29it/s, Loss=0.4594, Acc=86.29%]"
     ]
    },
    {
     "name": "stdout",
     "output_type": "stream",
     "text": [
      "[2025-02-26 18:06:03] Processed 350 training batches\n"
     ]
    },
    {
     "name": "stderr",
     "output_type": "stream",
     "text": [
      "Epoch 4 [Train]:  20%|█▉        | 400/2004 [01:49<07:11,  3.71it/s, Loss=0.3293, Acc=86.47%]"
     ]
    },
    {
     "name": "stdout",
     "output_type": "stream",
     "text": [
      "[2025-02-26 18:06:17] Processed 400 training batches\n"
     ]
    },
    {
     "name": "stderr",
     "output_type": "stream",
     "text": [
      "Epoch 4 [Train]:  22%|██▏       | 450/2004 [02:02<07:02,  3.67it/s, Loss=0.8937, Acc=86.53%]"
     ]
    },
    {
     "name": "stdout",
     "output_type": "stream",
     "text": [
      "[2025-02-26 18:06:30] Processed 450 training batches\n"
     ]
    },
    {
     "name": "stderr",
     "output_type": "stream",
     "text": [
      "Epoch 4 [Train]:  25%|██▍       | 500/2004 [02:16<07:17,  3.44it/s, Loss=0.5271, Acc=86.36%]"
     ]
    },
    {
     "name": "stdout",
     "output_type": "stream",
     "text": [
      "[2025-02-26 18:06:44] Processed 500 training batches\n"
     ]
    },
    {
     "name": "stderr",
     "output_type": "stream",
     "text": [
      "Epoch 4 [Train]:  27%|██▋       | 550/2004 [02:31<10:00,  2.42it/s, Loss=0.1994, Acc=86.42%]"
     ]
    },
    {
     "name": "stdout",
     "output_type": "stream",
     "text": [
      "[2025-02-26 18:06:59] Processed 550 training batches\n"
     ]
    },
    {
     "name": "stderr",
     "output_type": "stream",
     "text": [
      "Epoch 4 [Train]:  30%|██▉       | 600/2004 [02:45<06:19,  3.70it/s, Loss=0.3208, Acc=86.40%]"
     ]
    },
    {
     "name": "stdout",
     "output_type": "stream",
     "text": [
      "[2025-02-26 18:07:13] Processed 600 training batches\n"
     ]
    },
    {
     "name": "stderr",
     "output_type": "stream",
     "text": [
      "Epoch 4 [Train]:  32%|███▏      | 650/2004 [02:59<06:36,  3.41it/s, Loss=0.0527, Acc=86.50%]"
     ]
    },
    {
     "name": "stdout",
     "output_type": "stream",
     "text": [
      "[2025-02-26 18:07:26] Processed 650 training batches\n"
     ]
    },
    {
     "name": "stderr",
     "output_type": "stream",
     "text": [
      "Epoch 4 [Train]:  35%|███▍      | 700/2004 [03:13<07:02,  3.09it/s, Loss=0.6220, Acc=86.55%]"
     ]
    },
    {
     "name": "stdout",
     "output_type": "stream",
     "text": [
      "[2025-02-26 18:07:41] Processed 700 training batches\n"
     ]
    },
    {
     "name": "stderr",
     "output_type": "stream",
     "text": [
      "Epoch 4 [Train]:  37%|███▋      | 750/2004 [03:28<06:18,  3.31it/s, Loss=0.6048, Acc=86.47%]"
     ]
    },
    {
     "name": "stdout",
     "output_type": "stream",
     "text": [
      "[2025-02-26 18:07:55] Processed 750 training batches\n"
     ]
    },
    {
     "name": "stderr",
     "output_type": "stream",
     "text": [
      "Epoch 4 [Train]:  40%|███▉      | 800/2004 [03:41<07:06,  2.83it/s, Loss=0.3737, Acc=86.45%]"
     ]
    },
    {
     "name": "stdout",
     "output_type": "stream",
     "text": [
      "[2025-02-26 18:08:09] Processed 800 training batches\n"
     ]
    },
    {
     "name": "stderr",
     "output_type": "stream",
     "text": [
      "Epoch 4 [Train]:  42%|████▏     | 850/2004 [03:55<05:56,  3.24it/s, Loss=0.3132, Acc=86.41%]"
     ]
    },
    {
     "name": "stdout",
     "output_type": "stream",
     "text": [
      "[2025-02-26 18:08:23] Processed 850 training batches\n"
     ]
    },
    {
     "name": "stderr",
     "output_type": "stream",
     "text": [
      "Epoch 4 [Train]:  45%|████▍     | 900/2004 [04:09<04:40,  3.94it/s, Loss=0.4187, Acc=86.55%]"
     ]
    },
    {
     "name": "stdout",
     "output_type": "stream",
     "text": [
      "[2025-02-26 18:08:37] Processed 900 training batches\n"
     ]
    },
    {
     "name": "stderr",
     "output_type": "stream",
     "text": [
      "Epoch 4 [Train]:  47%|████▋     | 950/2004 [04:23<06:09,  2.85it/s, Loss=0.3994, Acc=86.58%]"
     ]
    },
    {
     "name": "stdout",
     "output_type": "stream",
     "text": [
      "[2025-02-26 18:08:51] Processed 950 training batches\n"
     ]
    },
    {
     "name": "stderr",
     "output_type": "stream",
     "text": [
      "Epoch 4 [Train]:  50%|████▉     | 1000/2004 [04:38<05:13,  3.20it/s, Loss=0.1188, Acc=86.62%]"
     ]
    },
    {
     "name": "stdout",
     "output_type": "stream",
     "text": [
      "[2025-02-26 18:09:06] Processed 1000 training batches\n"
     ]
    },
    {
     "name": "stderr",
     "output_type": "stream",
     "text": [
      "Epoch 4 [Train]:  52%|█████▏    | 1050/2004 [04:52<04:26,  3.58it/s, Loss=0.2745, Acc=86.64%]"
     ]
    },
    {
     "name": "stdout",
     "output_type": "stream",
     "text": [
      "[2025-02-26 18:09:20] Processed 1050 training batches\n"
     ]
    },
    {
     "name": "stderr",
     "output_type": "stream",
     "text": [
      "Epoch 4 [Train]:  55%|█████▍    | 1100/2004 [05:07<04:16,  3.52it/s, Loss=0.4329, Acc=86.66%]"
     ]
    },
    {
     "name": "stdout",
     "output_type": "stream",
     "text": [
      "[2025-02-26 18:09:35] Processed 1100 training batches\n"
     ]
    },
    {
     "name": "stderr",
     "output_type": "stream",
     "text": [
      "Epoch 4 [Train]:  57%|█████▋    | 1150/2004 [05:22<04:27,  3.19it/s, Loss=0.1878, Acc=86.73%]"
     ]
    },
    {
     "name": "stdout",
     "output_type": "stream",
     "text": [
      "[2025-02-26 18:09:50] Processed 1150 training batches\n"
     ]
    },
    {
     "name": "stderr",
     "output_type": "stream",
     "text": [
      "Epoch 4 [Train]:  60%|█████▉    | 1200/2004 [05:37<03:55,  3.42it/s, Loss=1.0156, Acc=86.73%]"
     ]
    },
    {
     "name": "stdout",
     "output_type": "stream",
     "text": [
      "[2025-02-26 18:10:05] Processed 1200 training batches\n"
     ]
    },
    {
     "name": "stderr",
     "output_type": "stream",
     "text": [
      "Epoch 4 [Train]:  62%|██████▏   | 1250/2004 [05:52<04:21,  2.89it/s, Loss=0.8827, Acc=86.69%]"
     ]
    },
    {
     "name": "stdout",
     "output_type": "stream",
     "text": [
      "[2025-02-26 18:10:20] Processed 1250 training batches\n"
     ]
    },
    {
     "name": "stderr",
     "output_type": "stream",
     "text": [
      "Epoch 4 [Train]:  65%|██████▍   | 1300/2004 [06:07<03:14,  3.62it/s, Loss=0.4461, Acc=86.69%]"
     ]
    },
    {
     "name": "stdout",
     "output_type": "stream",
     "text": [
      "[2025-02-26 18:10:34] Processed 1300 training batches\n"
     ]
    },
    {
     "name": "stderr",
     "output_type": "stream",
     "text": [
      "Epoch 4 [Train]:  67%|██████▋   | 1350/2004 [06:21<02:55,  3.73it/s, Loss=0.5937, Acc=86.70%]"
     ]
    },
    {
     "name": "stdout",
     "output_type": "stream",
     "text": [
      "[2025-02-26 18:10:49] Processed 1350 training batches\n"
     ]
    },
    {
     "name": "stderr",
     "output_type": "stream",
     "text": [
      "Epoch 4 [Train]:  70%|██████▉   | 1400/2004 [06:36<03:07,  3.22it/s, Loss=0.3123, Acc=86.73%]"
     ]
    },
    {
     "name": "stdout",
     "output_type": "stream",
     "text": [
      "[2025-02-26 18:11:04] Processed 1400 training batches\n"
     ]
    },
    {
     "name": "stderr",
     "output_type": "stream",
     "text": [
      "Epoch 4 [Train]:  72%|███████▏  | 1450/2004 [06:51<02:25,  3.80it/s, Loss=0.4655, Acc=86.70%]"
     ]
    },
    {
     "name": "stdout",
     "output_type": "stream",
     "text": [
      "[2025-02-26 18:11:19] Processed 1450 training batches\n"
     ]
    },
    {
     "name": "stderr",
     "output_type": "stream",
     "text": [
      "Epoch 4 [Train]:  75%|███████▍  | 1500/2004 [07:05<02:33,  3.28it/s, Loss=0.6616, Acc=86.74%]"
     ]
    },
    {
     "name": "stdout",
     "output_type": "stream",
     "text": [
      "[2025-02-26 18:11:32] Processed 1500 training batches\n"
     ]
    },
    {
     "name": "stderr",
     "output_type": "stream",
     "text": [
      "Epoch 4 [Train]:  77%|███████▋  | 1550/2004 [07:19<02:16,  3.34it/s, Loss=0.4296, Acc=86.69%]"
     ]
    },
    {
     "name": "stdout",
     "output_type": "stream",
     "text": [
      "[2025-02-26 18:11:47] Processed 1550 training batches\n"
     ]
    },
    {
     "name": "stderr",
     "output_type": "stream",
     "text": [
      "Epoch 4 [Train]:  80%|███████▉  | 1600/2004 [07:34<01:53,  3.57it/s, Loss=0.1196, Acc=86.68%]"
     ]
    },
    {
     "name": "stdout",
     "output_type": "stream",
     "text": [
      "[2025-02-26 18:12:02] Processed 1600 training batches\n"
     ]
    },
    {
     "name": "stderr",
     "output_type": "stream",
     "text": [
      "Epoch 4 [Train]:  82%|████████▏ | 1650/2004 [07:49<01:54,  3.09it/s, Loss=0.1875, Acc=86.72%]"
     ]
    },
    {
     "name": "stdout",
     "output_type": "stream",
     "text": [
      "[2025-02-26 18:12:17] Processed 1650 training batches\n"
     ]
    },
    {
     "name": "stderr",
     "output_type": "stream",
     "text": [
      "Epoch 4 [Train]:  85%|████████▍ | 1700/2004 [08:04<01:26,  3.53it/s, Loss=0.2086, Acc=86.77%]"
     ]
    },
    {
     "name": "stdout",
     "output_type": "stream",
     "text": [
      "[2025-02-26 18:12:32] Processed 1700 training batches\n"
     ]
    },
    {
     "name": "stderr",
     "output_type": "stream",
     "text": [
      "Epoch 4 [Train]:  87%|████████▋ | 1750/2004 [08:18<01:23,  3.06it/s, Loss=0.1903, Acc=86.83%]"
     ]
    },
    {
     "name": "stdout",
     "output_type": "stream",
     "text": [
      "[2025-02-26 18:12:46] Processed 1750 training batches\n"
     ]
    },
    {
     "name": "stderr",
     "output_type": "stream",
     "text": [
      "Epoch 4 [Train]:  90%|████████▉ | 1800/2004 [08:33<01:07,  3.03it/s, Loss=0.4522, Acc=86.84%]"
     ]
    },
    {
     "name": "stdout",
     "output_type": "stream",
     "text": [
      "[2025-02-26 18:13:01] Processed 1800 training batches\n"
     ]
    },
    {
     "name": "stderr",
     "output_type": "stream",
     "text": [
      "Epoch 4 [Train]:  92%|█████████▏| 1850/2004 [08:48<00:41,  3.68it/s, Loss=0.6952, Acc=86.87%]"
     ]
    },
    {
     "name": "stdout",
     "output_type": "stream",
     "text": [
      "[2025-02-26 18:13:16] Processed 1850 training batches\n"
     ]
    },
    {
     "name": "stderr",
     "output_type": "stream",
     "text": [
      "Epoch 4 [Train]:  95%|█████████▍| 1900/2004 [09:03<00:31,  3.35it/s, Loss=0.5694, Acc=86.92%]"
     ]
    },
    {
     "name": "stdout",
     "output_type": "stream",
     "text": [
      "[2025-02-26 18:13:31] Processed 1900 training batches\n"
     ]
    },
    {
     "name": "stderr",
     "output_type": "stream",
     "text": [
      "Epoch 4 [Train]:  97%|█████████▋| 1950/2004 [09:18<00:15,  3.57it/s, Loss=0.1426, Acc=86.95%]"
     ]
    },
    {
     "name": "stdout",
     "output_type": "stream",
     "text": [
      "[2025-02-26 18:13:46] Processed 1950 training batches\n"
     ]
    },
    {
     "name": "stderr",
     "output_type": "stream",
     "text": [
      "Epoch 4 [Train]: 100%|█████████▉| 2000/2004 [09:32<00:01,  3.04it/s, Loss=0.3688, Acc=87.00%]"
     ]
    },
    {
     "name": "stdout",
     "output_type": "stream",
     "text": [
      "[2025-02-26 18:14:00] Processed 2000 training batches\n"
     ]
    },
    {
     "name": "stderr",
     "output_type": "stream",
     "text": [
      "Epoch 4 [Train]: 100%|██████████| 2004/2004 [09:33<00:00,  3.50it/s, Loss=0.4353, Acc=87.00%]\n",
      "Epoch 4 [Val]:   0%|          | 0/2004 [00:00<?, ?it/s, Loss=2.9472, Acc=25.00%]"
     ]
    },
    {
     "name": "stdout",
     "output_type": "stream",
     "text": [
      "[2025-02-26 18:14:01] Processed 0 validation batches\n"
     ]
    },
    {
     "name": "stderr",
     "output_type": "stream",
     "text": [
      "Epoch 4 [Val]:   1%|          | 20/2004 [00:07<10:13,  3.23it/s, Loss=0.7108, Acc=85.71%]"
     ]
    },
    {
     "name": "stdout",
     "output_type": "stream",
     "text": [
      "[2025-02-26 18:14:08] Processed 20 validation batches\n"
     ]
    },
    {
     "name": "stderr",
     "output_type": "stream",
     "text": [
      "Epoch 4 [Val]:   2%|▏         | 40/2004 [00:12<09:26,  3.47it/s, Loss=1.3608, Acc=78.20%]"
     ]
    },
    {
     "name": "stdout",
     "output_type": "stream",
     "text": [
      "[2025-02-26 18:14:13] Processed 40 validation batches\n"
     ]
    },
    {
     "name": "stderr",
     "output_type": "stream",
     "text": [
      "Epoch 4 [Val]:   3%|▎         | 60/2004 [00:19<11:58,  2.71it/s, Loss=0.0540, Acc=79.30%]"
     ]
    },
    {
     "name": "stdout",
     "output_type": "stream",
     "text": [
      "[2025-02-26 18:14:20] Processed 60 validation batches\n"
     ]
    },
    {
     "name": "stderr",
     "output_type": "stream",
     "text": [
      "Epoch 4 [Val]:   4%|▍         | 80/2004 [00:24<06:51,  4.68it/s, Loss=0.0495, Acc=81.79%]"
     ]
    },
    {
     "name": "stdout",
     "output_type": "stream",
     "text": [
      "[2025-02-26 18:14:25] Processed 80 validation batches\n"
     ]
    },
    {
     "name": "stderr",
     "output_type": "stream",
     "text": [
      "Epoch 4 [Val]:   5%|▍         | 100/2004 [00:34<10:22,  3.06it/s, Loss=0.0423, Acc=83.79%]"
     ]
    },
    {
     "name": "stdout",
     "output_type": "stream",
     "text": [
      "[2025-02-26 18:14:35] Processed 100 validation batches\n"
     ]
    },
    {
     "name": "stderr",
     "output_type": "stream",
     "text": [
      "Epoch 4 [Val]:   6%|▌         | 120/2004 [00:40<07:46,  4.04it/s, Loss=1.9860, Acc=82.08%]"
     ]
    },
    {
     "name": "stdout",
     "output_type": "stream",
     "text": [
      "[2025-02-26 18:14:41] Processed 120 validation batches\n"
     ]
    },
    {
     "name": "stderr",
     "output_type": "stream",
     "text": [
      "Epoch 4 [Val]:   7%|▋         | 140/2004 [00:52<32:50,  1.06s/it, Loss=0.8472, Acc=76.95%]"
     ]
    },
    {
     "name": "stdout",
     "output_type": "stream",
     "text": [
      "[2025-02-26 18:14:53] Processed 140 validation batches\n"
     ]
    },
    {
     "name": "stderr",
     "output_type": "stream",
     "text": [
      "Epoch 4 [Val]:   8%|▊         | 160/2004 [00:57<06:57,  4.42it/s, Loss=0.1026, Acc=77.41%]"
     ]
    },
    {
     "name": "stdout",
     "output_type": "stream",
     "text": [
      "[2025-02-26 18:14:58] Processed 160 validation batches\n"
     ]
    },
    {
     "name": "stderr",
     "output_type": "stream",
     "text": [
      "Epoch 4 [Val]:   9%|▉         | 180/2004 [01:03<11:36,  2.62it/s, Loss=2.0975, Acc=77.52%]"
     ]
    },
    {
     "name": "stdout",
     "output_type": "stream",
     "text": [
      "[2025-02-26 18:15:04] Processed 180 validation batches\n"
     ]
    },
    {
     "name": "stderr",
     "output_type": "stream",
     "text": [
      "Epoch 4 [Val]:  10%|▉         | 200/2004 [01:14<17:34,  1.71it/s, Loss=0.1739, Acc=76.03%]"
     ]
    },
    {
     "name": "stdout",
     "output_type": "stream",
     "text": [
      "[2025-02-26 18:15:15] Processed 200 validation batches\n"
     ]
    },
    {
     "name": "stderr",
     "output_type": "stream",
     "text": [
      "Epoch 4 [Val]:  11%|█         | 220/2004 [01:28<04:39,  6.38it/s, Loss=0.0104, Acc=78.00%]"
     ]
    },
    {
     "name": "stdout",
     "output_type": "stream",
     "text": [
      "[2025-02-26 18:15:29] Processed 220 validation batches\n"
     ]
    },
    {
     "name": "stderr",
     "output_type": "stream",
     "text": [
      "Epoch 4 [Val]:  12%|█▏        | 240/2004 [01:30<03:12,  9.15it/s, Loss=0.0000, Acc=79.75%]"
     ]
    },
    {
     "name": "stdout",
     "output_type": "stream",
     "text": [
      "[2025-02-26 18:15:31] Processed 240 validation batches\n"
     ]
    },
    {
     "name": "stderr",
     "output_type": "stream",
     "text": [
      "Epoch 4 [Val]:  13%|█▎        | 260/2004 [01:33<03:10,  9.14it/s, Loss=0.0055, Acc=81.30%]"
     ]
    },
    {
     "name": "stdout",
     "output_type": "stream",
     "text": [
      "[2025-02-26 18:15:34] Processed 260 validation batches\n"
     ]
    },
    {
     "name": "stderr",
     "output_type": "stream",
     "text": [
      "Epoch 4 [Val]:  14%|█▍        | 280/2004 [01:35<03:08,  9.12it/s, Loss=0.0059, Acc=82.61%]"
     ]
    },
    {
     "name": "stdout",
     "output_type": "stream",
     "text": [
      "[2025-02-26 18:15:36] Processed 280 validation batches\n"
     ]
    },
    {
     "name": "stderr",
     "output_type": "stream",
     "text": [
      "Epoch 4 [Val]:  15%|█▍        | 300/2004 [01:37<03:15,  8.73it/s, Loss=0.0116, Acc=83.76%]"
     ]
    },
    {
     "name": "stdout",
     "output_type": "stream",
     "text": [
      "[2025-02-26 18:15:38] Processed 300 validation batches\n"
     ]
    },
    {
     "name": "stderr",
     "output_type": "stream",
     "text": [
      "Epoch 4 [Val]:  16%|█▌        | 320/2004 [01:39<03:10,  8.86it/s, Loss=0.0352, Acc=84.75%]"
     ]
    },
    {
     "name": "stdout",
     "output_type": "stream",
     "text": [
      "[2025-02-26 18:15:40] Processed 320 validation batches\n"
     ]
    },
    {
     "name": "stderr",
     "output_type": "stream",
     "text": [
      "Epoch 4 [Val]:  17%|█▋        | 340/2004 [01:41<03:02,  9.13it/s, Loss=0.0092, Acc=85.63%]"
     ]
    },
    {
     "name": "stdout",
     "output_type": "stream",
     "text": [
      "[2025-02-26 18:15:42] Processed 340 validation batches\n"
     ]
    },
    {
     "name": "stderr",
     "output_type": "stream",
     "text": [
      "Epoch 4 [Val]:  18%|█▊        | 360/2004 [01:44<03:01,  9.04it/s, Loss=0.0362, Acc=86.39%]"
     ]
    },
    {
     "name": "stdout",
     "output_type": "stream",
     "text": [
      "[2025-02-26 18:15:45] Processed 360 validation batches\n"
     ]
    },
    {
     "name": "stderr",
     "output_type": "stream",
     "text": [
      "Epoch 4 [Val]:  19%|█▉        | 380/2004 [01:46<03:02,  8.91it/s, Loss=0.0011, Acc=87.02%]"
     ]
    },
    {
     "name": "stdout",
     "output_type": "stream",
     "text": [
      "[2025-02-26 18:15:47] Processed 380 validation batches\n"
     ]
    },
    {
     "name": "stderr",
     "output_type": "stream",
     "text": [
      "Epoch 4 [Val]:  20%|█▉        | 400/2004 [01:48<03:07,  8.57it/s, Loss=0.2230, Acc=87.59%]"
     ]
    },
    {
     "name": "stdout",
     "output_type": "stream",
     "text": [
      "[2025-02-26 18:15:49] Processed 400 validation batches\n"
     ]
    },
    {
     "name": "stderr",
     "output_type": "stream",
     "text": [
      "Epoch 4 [Val]:  21%|██        | 420/2004 [01:50<02:58,  8.85it/s, Loss=0.0069, Acc=88.12%]"
     ]
    },
    {
     "name": "stdout",
     "output_type": "stream",
     "text": [
      "[2025-02-26 18:15:51] Processed 420 validation batches\n"
     ]
    },
    {
     "name": "stderr",
     "output_type": "stream",
     "text": [
      "Epoch 4 [Val]:  22%|██▏       | 440/2004 [01:53<02:54,  8.95it/s, Loss=0.0038, Acc=88.55%]"
     ]
    },
    {
     "name": "stdout",
     "output_type": "stream",
     "text": [
      "[2025-02-26 18:15:54] Processed 440 validation batches\n"
     ]
    },
    {
     "name": "stderr",
     "output_type": "stream",
     "text": [
      "Epoch 4 [Val]:  23%|██▎       | 460/2004 [02:06<11:58,  2.15it/s, Loss=0.0266, Acc=88.88%]"
     ]
    },
    {
     "name": "stdout",
     "output_type": "stream",
     "text": [
      "[2025-02-26 18:16:07] Processed 460 validation batches\n"
     ]
    },
    {
     "name": "stderr",
     "output_type": "stream",
     "text": [
      "Epoch 4 [Val]:  24%|██▍       | 480/2004 [02:12<07:41,  3.30it/s, Loss=0.8674, Acc=88.90%]"
     ]
    },
    {
     "name": "stdout",
     "output_type": "stream",
     "text": [
      "[2025-02-26 18:16:13] Processed 480 validation batches\n"
     ]
    },
    {
     "name": "stderr",
     "output_type": "stream",
     "text": [
      "Epoch 4 [Val]:  25%|██▍       | 500/2004 [02:18<02:59,  8.39it/s, Loss=0.0801, Acc=89.20%]"
     ]
    },
    {
     "name": "stdout",
     "output_type": "stream",
     "text": [
      "[2025-02-26 18:16:19] Processed 500 validation batches\n"
     ]
    },
    {
     "name": "stderr",
     "output_type": "stream",
     "text": [
      "Epoch 4 [Val]:  26%|██▌       | 520/2004 [02:20<02:45,  8.97it/s, Loss=0.0065, Acc=89.58%]"
     ]
    },
    {
     "name": "stdout",
     "output_type": "stream",
     "text": [
      "[2025-02-26 18:16:21] Processed 520 validation batches\n"
     ]
    },
    {
     "name": "stderr",
     "output_type": "stream",
     "text": [
      "Epoch 4 [Val]:  27%|██▋       | 540/2004 [02:23<04:05,  5.97it/s, Loss=0.6868, Acc=89.81%]"
     ]
    },
    {
     "name": "stdout",
     "output_type": "stream",
     "text": [
      "[2025-02-26 18:16:24] Processed 540 validation batches\n"
     ]
    },
    {
     "name": "stderr",
     "output_type": "stream",
     "text": [
      "Epoch 4 [Val]:  28%|██▊       | 560/2004 [02:26<03:03,  7.86it/s, Loss=0.0132, Acc=90.14%]"
     ]
    },
    {
     "name": "stdout",
     "output_type": "stream",
     "text": [
      "[2025-02-26 18:16:27] Processed 560 validation batches\n"
     ]
    },
    {
     "name": "stderr",
     "output_type": "stream",
     "text": [
      "Epoch 4 [Val]:  29%|██▉       | 580/2004 [02:30<06:44,  3.52it/s, Loss=0.0244, Acc=90.47%]"
     ]
    },
    {
     "name": "stdout",
     "output_type": "stream",
     "text": [
      "[2025-02-26 18:16:31] Processed 580 validation batches\n"
     ]
    },
    {
     "name": "stderr",
     "output_type": "stream",
     "text": [
      "Epoch 4 [Val]:  30%|██▉       | 600/2004 [02:33<02:56,  7.97it/s, Loss=0.0003, Acc=90.79%]"
     ]
    },
    {
     "name": "stdout",
     "output_type": "stream",
     "text": [
      "[2025-02-26 18:16:34] Processed 600 validation batches\n"
     ]
    },
    {
     "name": "stderr",
     "output_type": "stream",
     "text": [
      "Epoch 4 [Val]:  31%|███       | 620/2004 [02:35<02:56,  7.86it/s, Loss=0.0001, Acc=91.08%]"
     ]
    },
    {
     "name": "stdout",
     "output_type": "stream",
     "text": [
      "[2025-02-26 18:16:36] Processed 620 validation batches\n"
     ]
    },
    {
     "name": "stderr",
     "output_type": "stream",
     "text": [
      "Epoch 4 [Val]:  32%|███▏      | 640/2004 [02:38<02:47,  8.14it/s, Loss=0.0001, Acc=91.36%]"
     ]
    },
    {
     "name": "stdout",
     "output_type": "stream",
     "text": [
      "[2025-02-26 18:16:39] Processed 640 validation batches\n"
     ]
    },
    {
     "name": "stderr",
     "output_type": "stream",
     "text": [
      "Epoch 4 [Val]:  33%|███▎      | 660/2004 [02:40<02:48,  7.97it/s, Loss=0.0100, Acc=91.62%]"
     ]
    },
    {
     "name": "stdout",
     "output_type": "stream",
     "text": [
      "[2025-02-26 18:16:41] Processed 660 validation batches\n"
     ]
    },
    {
     "name": "stderr",
     "output_type": "stream",
     "text": [
      "Epoch 4 [Val]:  34%|███▍      | 680/2004 [02:43<02:51,  7.73it/s, Loss=0.0002, Acc=91.87%]"
     ]
    },
    {
     "name": "stdout",
     "output_type": "stream",
     "text": [
      "[2025-02-26 18:16:44] Processed 680 validation batches\n"
     ]
    },
    {
     "name": "stderr",
     "output_type": "stream",
     "text": [
      "Epoch 4 [Val]:  35%|███▍      | 700/2004 [02:45<02:41,  8.09it/s, Loss=0.0013, Acc=92.10%]"
     ]
    },
    {
     "name": "stdout",
     "output_type": "stream",
     "text": [
      "[2025-02-26 18:16:46] Processed 700 validation batches\n"
     ]
    },
    {
     "name": "stderr",
     "output_type": "stream",
     "text": [
      "Epoch 4 [Val]:  36%|███▌      | 720/2004 [02:48<02:40,  8.00it/s, Loss=0.0207, Acc=92.32%]"
     ]
    },
    {
     "name": "stdout",
     "output_type": "stream",
     "text": [
      "[2025-02-26 18:16:49] Processed 720 validation batches\n"
     ]
    },
    {
     "name": "stderr",
     "output_type": "stream",
     "text": [
      "Epoch 4 [Val]:  37%|███▋      | 740/2004 [02:52<02:41,  7.83it/s, Loss=0.0316, Acc=92.53%]"
     ]
    },
    {
     "name": "stdout",
     "output_type": "stream",
     "text": [
      "[2025-02-26 18:16:53] Processed 740 validation batches\n"
     ]
    },
    {
     "name": "stderr",
     "output_type": "stream",
     "text": [
      "Epoch 4 [Val]:  38%|███▊      | 760/2004 [03:04<06:44,  3.08it/s, Loss=0.0028, Acc=92.67%]"
     ]
    },
    {
     "name": "stdout",
     "output_type": "stream",
     "text": [
      "[2025-02-26 18:17:05] Processed 760 validation batches\n"
     ]
    },
    {
     "name": "stderr",
     "output_type": "stream",
     "text": [
      "Epoch 4 [Val]:  39%|███▉      | 780/2004 [03:12<06:38,  3.07it/s, Loss=0.0003, Acc=92.79%]"
     ]
    },
    {
     "name": "stdout",
     "output_type": "stream",
     "text": [
      "[2025-02-26 18:17:13] Processed 780 validation batches\n"
     ]
    },
    {
     "name": "stderr",
     "output_type": "stream",
     "text": [
      "Epoch 4 [Val]:  40%|███▉      | 800/2004 [03:15<02:29,  8.07it/s, Loss=0.0007, Acc=92.97%]"
     ]
    },
    {
     "name": "stdout",
     "output_type": "stream",
     "text": [
      "[2025-02-26 18:17:16] Processed 800 validation batches\n"
     ]
    },
    {
     "name": "stderr",
     "output_type": "stream",
     "text": [
      "Epoch 4 [Val]:  41%|████      | 820/2004 [03:17<02:24,  8.22it/s, Loss=0.0103, Acc=93.14%]"
     ]
    },
    {
     "name": "stdout",
     "output_type": "stream",
     "text": [
      "[2025-02-26 18:17:18] Processed 820 validation batches\n"
     ]
    },
    {
     "name": "stderr",
     "output_type": "stream",
     "text": [
      "Epoch 4 [Val]:  42%|████▏     | 840/2004 [03:23<04:39,  4.17it/s, Loss=0.0441, Acc=93.27%]"
     ]
    },
    {
     "name": "stdout",
     "output_type": "stream",
     "text": [
      "[2025-02-26 18:17:24] Processed 840 validation batches\n"
     ]
    },
    {
     "name": "stderr",
     "output_type": "stream",
     "text": [
      "Epoch 4 [Val]:  43%|████▎     | 860/2004 [03:28<08:46,  2.17it/s, Loss=0.4172, Acc=93.40%]"
     ]
    },
    {
     "name": "stdout",
     "output_type": "stream",
     "text": [
      "[2025-02-26 18:17:29] Processed 860 validation batches\n"
     ]
    },
    {
     "name": "stderr",
     "output_type": "stream",
     "text": [
      "Epoch 4 [Val]:  44%|████▍     | 880/2004 [03:32<03:39,  5.12it/s, Loss=1.0007, Acc=92.81%]"
     ]
    },
    {
     "name": "stdout",
     "output_type": "stream",
     "text": [
      "[2025-02-26 18:17:33] Processed 880 validation batches\n"
     ]
    },
    {
     "name": "stderr",
     "output_type": "stream",
     "text": [
      "Epoch 4 [Val]:  45%|████▍     | 900/2004 [03:36<03:54,  4.70it/s, Loss=0.0073, Acc=92.37%]"
     ]
    },
    {
     "name": "stdout",
     "output_type": "stream",
     "text": [
      "[2025-02-26 18:17:37] Processed 900 validation batches\n"
     ]
    },
    {
     "name": "stderr",
     "output_type": "stream",
     "text": [
      "Epoch 4 [Val]:  46%|████▌     | 920/2004 [03:41<05:20,  3.38it/s, Loss=0.1289, Acc=92.45%]"
     ]
    },
    {
     "name": "stdout",
     "output_type": "stream",
     "text": [
      "[2025-02-26 18:17:42] Processed 920 validation batches\n"
     ]
    },
    {
     "name": "stderr",
     "output_type": "stream",
     "text": [
      "Epoch 4 [Val]:  47%|████▋     | 940/2004 [03:47<03:35,  4.93it/s, Loss=0.0693, Acc=92.45%]"
     ]
    },
    {
     "name": "stdout",
     "output_type": "stream",
     "text": [
      "[2025-02-26 18:17:48] Processed 940 validation batches\n"
     ]
    },
    {
     "name": "stderr",
     "output_type": "stream",
     "text": [
      "Epoch 4 [Val]:  48%|████▊     | 960/2004 [03:51<03:31,  4.93it/s, Loss=0.0955, Acc=92.48%]"
     ]
    },
    {
     "name": "stdout",
     "output_type": "stream",
     "text": [
      "[2025-02-26 18:17:52] Processed 960 validation batches\n"
     ]
    },
    {
     "name": "stderr",
     "output_type": "stream",
     "text": [
      "Epoch 4 [Val]:  49%|████▉     | 980/2004 [04:02<18:00,  1.06s/it, Loss=0.1187, Acc=92.51%]"
     ]
    },
    {
     "name": "stdout",
     "output_type": "stream",
     "text": [
      "[2025-02-26 18:18:03] Processed 980 validation batches\n"
     ]
    },
    {
     "name": "stderr",
     "output_type": "stream",
     "text": [
      "Epoch 4 [Val]:  50%|████▉     | 1000/2004 [04:08<03:40,  4.55it/s, Loss=0.3196, Acc=92.58%]"
     ]
    },
    {
     "name": "stdout",
     "output_type": "stream",
     "text": [
      "[2025-02-26 18:18:09] Processed 1000 validation batches\n"
     ]
    },
    {
     "name": "stderr",
     "output_type": "stream",
     "text": [
      "Epoch 4 [Val]:  51%|█████     | 1020/2004 [04:13<03:11,  5.13it/s, Loss=0.6453, Acc=92.66%]"
     ]
    },
    {
     "name": "stdout",
     "output_type": "stream",
     "text": [
      "[2025-02-26 18:18:14] Processed 1020 validation batches\n"
     ]
    },
    {
     "name": "stderr",
     "output_type": "stream",
     "text": [
      "Epoch 4 [Val]:  52%|█████▏    | 1040/2004 [04:21<03:31,  4.56it/s, Loss=0.0000, Acc=92.23%]"
     ]
    },
    {
     "name": "stdout",
     "output_type": "stream",
     "text": [
      "[2025-02-26 18:18:22] Processed 1040 validation batches\n"
     ]
    },
    {
     "name": "stderr",
     "output_type": "stream",
     "text": [
      "Epoch 4 [Val]:  53%|█████▎    | 1060/2004 [04:27<05:26,  2.89it/s, Loss=0.0039, Acc=92.37%]"
     ]
    },
    {
     "name": "stdout",
     "output_type": "stream",
     "text": [
      "[2025-02-26 18:18:28] Processed 1060 validation batches\n"
     ]
    },
    {
     "name": "stderr",
     "output_type": "stream",
     "text": [
      "Epoch 4 [Val]:  54%|█████▍    | 1080/2004 [04:36<07:53,  1.95it/s, Loss=0.0024, Acc=92.48%]"
     ]
    },
    {
     "name": "stdout",
     "output_type": "stream",
     "text": [
      "[2025-02-26 18:18:37] Processed 1080 validation batches\n"
     ]
    },
    {
     "name": "stderr",
     "output_type": "stream",
     "text": [
      "Epoch 4 [Val]:  55%|█████▍    | 1100/2004 [04:58<20:58,  1.39s/it, Loss=0.0002, Acc=92.60%]"
     ]
    },
    {
     "name": "stdout",
     "output_type": "stream",
     "text": [
      "[2025-02-26 18:18:59] Processed 1100 validation batches\n"
     ]
    },
    {
     "name": "stderr",
     "output_type": "stream",
     "text": [
      "Epoch 4 [Val]:  56%|█████▌    | 1120/2004 [05:21<18:40,  1.27s/it, Loss=0.2738, Acc=92.61%]"
     ]
    },
    {
     "name": "stdout",
     "output_type": "stream",
     "text": [
      "[2025-02-26 18:19:22] Processed 1120 validation batches\n"
     ]
    },
    {
     "name": "stderr",
     "output_type": "stream",
     "text": [
      "Epoch 4 [Val]:  57%|█████▋    | 1140/2004 [05:24<02:39,  5.42it/s, Loss=0.0192, Acc=92.74%]"
     ]
    },
    {
     "name": "stdout",
     "output_type": "stream",
     "text": [
      "[2025-02-26 18:19:26] Processed 1140 validation batches\n"
     ]
    },
    {
     "name": "stderr",
     "output_type": "stream",
     "text": [
      "Epoch 4 [Val]:  58%|█████▊    | 1160/2004 [05:29<03:10,  4.43it/s, Loss=0.1531, Acc=92.83%]"
     ]
    },
    {
     "name": "stdout",
     "output_type": "stream",
     "text": [
      "[2025-02-26 18:19:30] Processed 1160 validation batches\n"
     ]
    },
    {
     "name": "stderr",
     "output_type": "stream",
     "text": [
      "Epoch 4 [Val]:  59%|█████▉    | 1180/2004 [05:33<02:41,  5.10it/s, Loss=0.0001, Acc=92.96%]"
     ]
    },
    {
     "name": "stdout",
     "output_type": "stream",
     "text": [
      "[2025-02-26 18:19:34] Processed 1180 validation batches\n"
     ]
    },
    {
     "name": "stderr",
     "output_type": "stream",
     "text": [
      "Epoch 4 [Val]:  60%|█████▉    | 1200/2004 [05:35<01:35,  8.38it/s, Loss=0.0021, Acc=93.07%]"
     ]
    },
    {
     "name": "stdout",
     "output_type": "stream",
     "text": [
      "[2025-02-26 18:19:36] Processed 1200 validation batches\n"
     ]
    },
    {
     "name": "stderr",
     "output_type": "stream",
     "text": [
      "Epoch 4 [Val]:  61%|██████    | 1220/2004 [05:38<02:22,  5.49it/s, Loss=0.0660, Acc=93.10%]"
     ]
    },
    {
     "name": "stdout",
     "output_type": "stream",
     "text": [
      "[2025-02-26 18:19:39] Processed 1220 validation batches\n"
     ]
    },
    {
     "name": "stderr",
     "output_type": "stream",
     "text": [
      "Epoch 4 [Val]:  62%|██████▏   | 1240/2004 [05:42<02:29,  5.12it/s, Loss=0.0000, Acc=93.21%]"
     ]
    },
    {
     "name": "stdout",
     "output_type": "stream",
     "text": [
      "[2025-02-26 18:19:43] Processed 1240 validation batches\n"
     ]
    },
    {
     "name": "stderr",
     "output_type": "stream",
     "text": [
      "Epoch 4 [Val]:  63%|██████▎   | 1260/2004 [05:47<02:49,  4.39it/s, Loss=0.0001, Acc=93.32%]"
     ]
    },
    {
     "name": "stdout",
     "output_type": "stream",
     "text": [
      "[2025-02-26 18:19:48] Processed 1260 validation batches\n"
     ]
    },
    {
     "name": "stderr",
     "output_type": "stream",
     "text": [
      "Epoch 4 [Val]:  64%|██████▍   | 1280/2004 [05:51<02:34,  4.69it/s, Loss=0.0010, Acc=93.42%]"
     ]
    },
    {
     "name": "stdout",
     "output_type": "stream",
     "text": [
      "[2025-02-26 18:19:52] Processed 1280 validation batches\n"
     ]
    },
    {
     "name": "stderr",
     "output_type": "stream",
     "text": [
      "Epoch 4 [Val]:  65%|██████▍   | 1300/2004 [05:55<03:11,  3.68it/s, Loss=0.5591, Acc=93.37%]"
     ]
    },
    {
     "name": "stdout",
     "output_type": "stream",
     "text": [
      "[2025-02-26 18:19:56] Processed 1300 validation batches\n"
     ]
    },
    {
     "name": "stderr",
     "output_type": "stream",
     "text": [
      "Epoch 4 [Val]:  66%|██████▌   | 1320/2004 [06:00<02:25,  4.69it/s, Loss=0.1926, Acc=93.40%]"
     ]
    },
    {
     "name": "stdout",
     "output_type": "stream",
     "text": [
      "[2025-02-26 18:20:01] Processed 1320 validation batches\n"
     ]
    },
    {
     "name": "stderr",
     "output_type": "stream",
     "text": [
      "Epoch 4 [Val]:  67%|██████▋   | 1340/2004 [06:05<02:35,  4.28it/s, Loss=1.0384, Acc=93.34%]"
     ]
    },
    {
     "name": "stdout",
     "output_type": "stream",
     "text": [
      "[2025-02-26 18:20:06] Processed 1340 validation batches\n"
     ]
    },
    {
     "name": "stderr",
     "output_type": "stream",
     "text": [
      "Epoch 4 [Val]:  68%|██████▊   | 1360/2004 [06:08<01:50,  5.84it/s, Loss=0.1302, Acc=93.39%]"
     ]
    },
    {
     "name": "stdout",
     "output_type": "stream",
     "text": [
      "[2025-02-26 18:20:09] Processed 1360 validation batches\n"
     ]
    },
    {
     "name": "stderr",
     "output_type": "stream",
     "text": [
      "Epoch 4 [Val]:  69%|██████▉   | 1380/2004 [06:10<01:08,  9.12it/s, Loss=0.0461, Acc=93.48%]"
     ]
    },
    {
     "name": "stdout",
     "output_type": "stream",
     "text": [
      "[2025-02-26 18:20:11] Processed 1380 validation batches\n"
     ]
    },
    {
     "name": "stderr",
     "output_type": "stream",
     "text": [
      "Epoch 4 [Val]:  70%|██████▉   | 1400/2004 [06:12<01:07,  8.96it/s, Loss=0.0774, Acc=93.56%]"
     ]
    },
    {
     "name": "stdout",
     "output_type": "stream",
     "text": [
      "[2025-02-26 18:20:13] Processed 1400 validation batches\n"
     ]
    },
    {
     "name": "stderr",
     "output_type": "stream",
     "text": [
      "Epoch 4 [Val]:  71%|███████   | 1420/2004 [06:15<01:04,  8.99it/s, Loss=0.0263, Acc=93.65%]"
     ]
    },
    {
     "name": "stdout",
     "output_type": "stream",
     "text": [
      "[2025-02-26 18:20:16] Processed 1420 validation batches\n"
     ]
    },
    {
     "name": "stderr",
     "output_type": "stream",
     "text": [
      "Epoch 4 [Val]:  72%|███████▏  | 1440/2004 [06:17<01:01,  9.18it/s, Loss=0.0058, Acc=93.74%]"
     ]
    },
    {
     "name": "stdout",
     "output_type": "stream",
     "text": [
      "[2025-02-26 18:20:18] Processed 1440 validation batches\n"
     ]
    },
    {
     "name": "stderr",
     "output_type": "stream",
     "text": [
      "Epoch 4 [Val]:  73%|███████▎  | 1460/2004 [06:19<00:59,  9.09it/s, Loss=0.0052, Acc=93.82%]"
     ]
    },
    {
     "name": "stdout",
     "output_type": "stream",
     "text": [
      "[2025-02-26 18:20:20] Processed 1460 validation batches\n"
     ]
    },
    {
     "name": "stderr",
     "output_type": "stream",
     "text": [
      "Epoch 4 [Val]:  74%|███████▍  | 1480/2004 [06:21<00:59,  8.75it/s, Loss=0.0236, Acc=93.89%]"
     ]
    },
    {
     "name": "stdout",
     "output_type": "stream",
     "text": [
      "[2025-02-26 18:20:22] Processed 1480 validation batches\n"
     ]
    },
    {
     "name": "stderr",
     "output_type": "stream",
     "text": [
      "Epoch 4 [Val]:  75%|███████▍  | 1500/2004 [06:24<00:57,  8.74it/s, Loss=0.0616, Acc=93.93%]"
     ]
    },
    {
     "name": "stdout",
     "output_type": "stream",
     "text": [
      "[2025-02-26 18:20:25] Processed 1500 validation batches\n"
     ]
    },
    {
     "name": "stderr",
     "output_type": "stream",
     "text": [
      "Epoch 4 [Val]:  76%|███████▌  | 1520/2004 [06:26<00:54,  8.92it/s, Loss=0.0993, Acc=93.99%]"
     ]
    },
    {
     "name": "stdout",
     "output_type": "stream",
     "text": [
      "[2025-02-26 18:20:27] Processed 1520 validation batches\n"
     ]
    },
    {
     "name": "stderr",
     "output_type": "stream",
     "text": [
      "Epoch 4 [Val]:  77%|███████▋  | 1540/2004 [06:30<03:43,  2.08it/s, Loss=0.0322, Acc=94.04%]"
     ]
    },
    {
     "name": "stdout",
     "output_type": "stream",
     "text": [
      "[2025-02-26 18:20:31] Processed 1540 validation batches\n"
     ]
    },
    {
     "name": "stderr",
     "output_type": "stream",
     "text": [
      "Epoch 4 [Val]:  78%|███████▊  | 1560/2004 [06:39<02:12,  3.34it/s, Loss=0.0067, Acc=94.08%]"
     ]
    },
    {
     "name": "stdout",
     "output_type": "stream",
     "text": [
      "[2025-02-26 18:20:40] Processed 1560 validation batches\n"
     ]
    },
    {
     "name": "stderr",
     "output_type": "stream",
     "text": [
      "Epoch 4 [Val]:  79%|███████▉  | 1580/2004 [06:46<02:01,  3.49it/s, Loss=0.0081, Acc=94.13%]"
     ]
    },
    {
     "name": "stdout",
     "output_type": "stream",
     "text": [
      "[2025-02-26 18:20:47] Processed 1580 validation batches\n"
     ]
    },
    {
     "name": "stderr",
     "output_type": "stream",
     "text": [
      "Epoch 4 [Val]:  80%|███████▉  | 1600/2004 [06:49<00:45,  8.83it/s, Loss=0.1412, Acc=94.18%]"
     ]
    },
    {
     "name": "stdout",
     "output_type": "stream",
     "text": [
      "[2025-02-26 18:20:50] Processed 1600 validation batches\n"
     ]
    },
    {
     "name": "stderr",
     "output_type": "stream",
     "text": [
      "Epoch 4 [Val]:  81%|████████  | 1620/2004 [07:04<06:45,  1.06s/it, Loss=0.0560, Acc=94.20%]"
     ]
    },
    {
     "name": "stdout",
     "output_type": "stream",
     "text": [
      "[2025-02-26 18:21:05] Processed 1620 validation batches\n"
     ]
    },
    {
     "name": "stderr",
     "output_type": "stream",
     "text": [
      "Epoch 4 [Val]:  82%|████████▏ | 1640/2004 [07:24<02:00,  3.03it/s, Loss=0.0088, Acc=94.21%]"
     ]
    },
    {
     "name": "stdout",
     "output_type": "stream",
     "text": [
      "[2025-02-26 18:21:25] Processed 1640 validation batches\n"
     ]
    },
    {
     "name": "stderr",
     "output_type": "stream",
     "text": [
      "Epoch 4 [Val]:  83%|████████▎ | 1660/2004 [07:28<01:17,  4.42it/s, Loss=0.0017, Acc=94.25%]"
     ]
    },
    {
     "name": "stdout",
     "output_type": "stream",
     "text": [
      "[2025-02-26 18:21:29] Processed 1660 validation batches\n"
     ]
    },
    {
     "name": "stderr",
     "output_type": "stream",
     "text": [
      "Epoch 4 [Val]:  84%|████████▍ | 1680/2004 [07:34<01:14,  4.36it/s, Loss=0.6976, Acc=94.15%]"
     ]
    },
    {
     "name": "stdout",
     "output_type": "stream",
     "text": [
      "[2025-02-26 18:21:35] Processed 1680 validation batches\n"
     ]
    },
    {
     "name": "stderr",
     "output_type": "stream",
     "text": [
      "Epoch 4 [Val]:  85%|████████▍ | 1700/2004 [07:38<01:07,  4.53it/s, Loss=1.2838, Acc=93.99%]"
     ]
    },
    {
     "name": "stdout",
     "output_type": "stream",
     "text": [
      "[2025-02-26 18:21:39] Processed 1700 validation batches\n"
     ]
    },
    {
     "name": "stderr",
     "output_type": "stream",
     "text": [
      "Epoch 4 [Val]:  86%|████████▌ | 1720/2004 [07:43<01:01,  4.64it/s, Loss=0.0000, Acc=93.98%]"
     ]
    },
    {
     "name": "stdout",
     "output_type": "stream",
     "text": [
      "[2025-02-26 18:21:44] Processed 1720 validation batches\n"
     ]
    },
    {
     "name": "stderr",
     "output_type": "stream",
     "text": [
      "Epoch 4 [Val]:  87%|████████▋ | 1740/2004 [07:47<01:00,  4.36it/s, Loss=0.0003, Acc=94.05%]"
     ]
    },
    {
     "name": "stdout",
     "output_type": "stream",
     "text": [
      "[2025-02-26 18:21:48] Processed 1740 validation batches\n"
     ]
    },
    {
     "name": "stderr",
     "output_type": "stream",
     "text": [
      "Epoch 4 [Val]:  88%|████████▊ | 1760/2004 [07:52<00:53,  4.59it/s, Loss=0.0000, Acc=94.12%]"
     ]
    },
    {
     "name": "stdout",
     "output_type": "stream",
     "text": [
      "[2025-02-26 18:21:53] Processed 1760 validation batches\n"
     ]
    },
    {
     "name": "stderr",
     "output_type": "stream",
     "text": [
      "Epoch 4 [Val]:  89%|████████▉ | 1780/2004 [08:02<01:46,  2.10it/s, Loss=0.0026, Acc=94.16%]"
     ]
    },
    {
     "name": "stdout",
     "output_type": "stream",
     "text": [
      "[2025-02-26 18:22:03] Processed 1780 validation batches\n"
     ]
    },
    {
     "name": "stderr",
     "output_type": "stream",
     "text": [
      "Epoch 4 [Val]:  90%|████████▉ | 1800/2004 [08:06<00:37,  5.39it/s, Loss=0.2066, Acc=94.20%]"
     ]
    },
    {
     "name": "stdout",
     "output_type": "stream",
     "text": [
      "[2025-02-26 18:22:07] Processed 1800 validation batches\n"
     ]
    },
    {
     "name": "stderr",
     "output_type": "stream",
     "text": [
      "Epoch 4 [Val]:  91%|█████████ | 1820/2004 [08:12<00:40,  4.52it/s, Loss=0.0000, Acc=94.26%]"
     ]
    },
    {
     "name": "stdout",
     "output_type": "stream",
     "text": [
      "[2025-02-26 18:22:13] Processed 1820 validation batches\n"
     ]
    },
    {
     "name": "stderr",
     "output_type": "stream",
     "text": [
      "Epoch 4 [Val]:  92%|█████████▏| 1840/2004 [08:16<00:35,  4.59it/s, Loss=0.0003, Acc=94.33%]"
     ]
    },
    {
     "name": "stdout",
     "output_type": "stream",
     "text": [
      "[2025-02-26 18:22:17] Processed 1840 validation batches\n"
     ]
    },
    {
     "name": "stderr",
     "output_type": "stream",
     "text": [
      "Epoch 4 [Val]:  93%|█████████▎| 1860/2004 [08:21<00:31,  4.64it/s, Loss=0.0005, Acc=94.39%]"
     ]
    },
    {
     "name": "stdout",
     "output_type": "stream",
     "text": [
      "[2025-02-26 18:22:22] Processed 1860 validation batches\n"
     ]
    },
    {
     "name": "stderr",
     "output_type": "stream",
     "text": [
      "Epoch 4 [Val]:  94%|█████████▍| 1880/2004 [08:35<01:46,  1.16it/s, Loss=0.0003, Acc=94.45%]"
     ]
    },
    {
     "name": "stdout",
     "output_type": "stream",
     "text": [
      "[2025-02-26 18:22:36] Processed 1880 validation batches\n"
     ]
    },
    {
     "name": "stderr",
     "output_type": "stream",
     "text": [
      "Epoch 4 [Val]:  95%|█████████▍| 1900/2004 [08:42<00:33,  3.07it/s, Loss=0.0003, Acc=94.50%]"
     ]
    },
    {
     "name": "stdout",
     "output_type": "stream",
     "text": [
      "[2025-02-26 18:22:43] Processed 1900 validation batches\n"
     ]
    },
    {
     "name": "stderr",
     "output_type": "stream",
     "text": [
      "Epoch 4 [Val]:  96%|█████████▌| 1920/2004 [08:49<00:11,  7.53it/s, Loss=0.0532, Acc=94.55%]"
     ]
    },
    {
     "name": "stdout",
     "output_type": "stream",
     "text": [
      "[2025-02-26 18:22:50] Processed 1920 validation batches\n"
     ]
    },
    {
     "name": "stderr",
     "output_type": "stream",
     "text": [
      "Epoch 4 [Val]:  97%|█████████▋| 1940/2004 [08:54<00:15,  4.01it/s, Loss=0.2590, Acc=94.49%]"
     ]
    },
    {
     "name": "stdout",
     "output_type": "stream",
     "text": [
      "[2025-02-26 18:22:55] Processed 1940 validation batches\n"
     ]
    },
    {
     "name": "stderr",
     "output_type": "stream",
     "text": [
      "Epoch 4 [Val]:  98%|█████████▊| 1960/2004 [08:58<00:10,  4.35it/s, Loss=0.0552, Acc=94.47%]"
     ]
    },
    {
     "name": "stdout",
     "output_type": "stream",
     "text": [
      "[2025-02-26 18:22:59] Processed 1960 validation batches\n"
     ]
    },
    {
     "name": "stderr",
     "output_type": "stream",
     "text": [
      "Epoch 4 [Val]:  99%|█████████▉| 1979/2004 [09:01<00:03,  8.25it/s, Loss=0.6334, Acc=94.37%]"
     ]
    },
    {
     "name": "stdout",
     "output_type": "stream",
     "text": [
      "[2025-02-26 18:23:02] Processed 1980 validation batches\n"
     ]
    },
    {
     "name": "stderr",
     "output_type": "stream",
     "text": [
      "Epoch 4 [Val]: 100%|█████████▉| 1999/2004 [09:03<00:00, 11.38it/s, Loss=0.2085, Acc=93.88%]"
     ]
    },
    {
     "name": "stdout",
     "output_type": "stream",
     "text": [
      "[2025-02-26 18:23:04] Processed 2000 validation batches\n"
     ]
    },
    {
     "name": "stderr",
     "output_type": "stream",
     "text": [
      "Epoch 4 [Val]: 100%|██████████| 2004/2004 [09:03<00:00,  3.69it/s, Loss=0.1673, Acc=93.88%]"
     ]
    },
    {
     "name": "stdout",
     "output_type": "stream",
     "text": [
      "[2025-02-26 18:23:04] Epoch 4 Results:\n",
      "[2025-02-26 18:23:04] Train Loss: 0.4273 | Train Acc: 87.00%\n",
      "[2025-02-26 18:23:04] Val Loss: 0.2083 | Val Acc: 93.88%\n"
     ]
    },
    {
     "name": "stderr",
     "output_type": "stream",
     "text": [
      "\n"
     ]
    },
    {
     "name": "stdout",
     "output_type": "stream",
     "text": [
      "[2025-02-26 18:23:04] Saved best model\n",
      "[2025-02-26 18:23:04] Starting epoch 5/15\n"
     ]
    },
    {
     "name": "stderr",
     "output_type": "stream",
     "text": [
      "Epoch 5 [Train]:   0%|          | 0/2004 [00:00<?, ?it/s, Loss=0.4401, Acc=81.25%]"
     ]
    },
    {
     "name": "stdout",
     "output_type": "stream",
     "text": [
      "[2025-02-26 18:23:05] Processed 0 training batches\n"
     ]
    },
    {
     "name": "stderr",
     "output_type": "stream",
     "text": [
      "Epoch 5 [Train]:   2%|▏         | 50/2004 [00:14<09:32,  3.41it/s, Loss=0.2766, Acc=87.62%]"
     ]
    },
    {
     "name": "stdout",
     "output_type": "stream",
     "text": [
      "[2025-02-26 18:23:19] Processed 50 training batches\n"
     ]
    },
    {
     "name": "stderr",
     "output_type": "stream",
     "text": [
      "Epoch 5 [Train]:   5%|▍         | 100/2004 [00:26<08:56,  3.55it/s, Loss=0.3967, Acc=87.07%]"
     ]
    },
    {
     "name": "stdout",
     "output_type": "stream",
     "text": [
      "[2025-02-26 18:23:31] Processed 100 training batches\n"
     ]
    },
    {
     "name": "stderr",
     "output_type": "stream",
     "text": [
      "Epoch 5 [Train]:   7%|▋         | 150/2004 [00:39<07:16,  4.25it/s, Loss=0.9661, Acc=87.79%]"
     ]
    },
    {
     "name": "stdout",
     "output_type": "stream",
     "text": [
      "[2025-02-26 18:23:44] Processed 150 training batches\n"
     ]
    },
    {
     "name": "stderr",
     "output_type": "stream",
     "text": [
      "Epoch 5 [Train]:  10%|▉         | 200/2004 [00:52<07:49,  3.84it/s, Loss=0.4021, Acc=87.84%]"
     ]
    },
    {
     "name": "stdout",
     "output_type": "stream",
     "text": [
      "[2025-02-26 18:23:57] Processed 200 training batches\n"
     ]
    },
    {
     "name": "stderr",
     "output_type": "stream",
     "text": [
      "Epoch 5 [Train]:  12%|█▏        | 250/2004 [01:05<06:35,  4.44it/s, Loss=0.3588, Acc=87.95%]"
     ]
    },
    {
     "name": "stdout",
     "output_type": "stream",
     "text": [
      "[2025-02-26 18:24:10] Processed 250 training batches\n"
     ]
    },
    {
     "name": "stderr",
     "output_type": "stream",
     "text": [
      "Epoch 5 [Train]:  15%|█▍        | 300/2004 [01:19<09:54,  2.86it/s, Loss=0.5790, Acc=87.96%]"
     ]
    },
    {
     "name": "stdout",
     "output_type": "stream",
     "text": [
      "[2025-02-26 18:24:23] Processed 300 training batches\n"
     ]
    },
    {
     "name": "stderr",
     "output_type": "stream",
     "text": [
      "Epoch 5 [Train]:  17%|█▋        | 350/2004 [01:32<07:53,  3.49it/s, Loss=0.3213, Acc=88.12%]"
     ]
    },
    {
     "name": "stdout",
     "output_type": "stream",
     "text": [
      "[2025-02-26 18:24:37] Processed 350 training batches\n"
     ]
    },
    {
     "name": "stderr",
     "output_type": "stream",
     "text": [
      "Epoch 5 [Train]:  20%|█▉        | 400/2004 [01:45<06:20,  4.22it/s, Loss=0.3328, Acc=88.37%]"
     ]
    },
    {
     "name": "stdout",
     "output_type": "stream",
     "text": [
      "[2025-02-26 18:24:50] Processed 400 training batches\n"
     ]
    },
    {
     "name": "stderr",
     "output_type": "stream",
     "text": [
      "Epoch 5 [Train]:  22%|██▏       | 450/2004 [01:58<07:46,  3.33it/s, Loss=0.0595, Acc=88.35%]"
     ]
    },
    {
     "name": "stdout",
     "output_type": "stream",
     "text": [
      "[2025-02-26 18:25:03] Processed 450 training batches\n"
     ]
    },
    {
     "name": "stderr",
     "output_type": "stream",
     "text": [
      "Epoch 5 [Train]:  25%|██▍       | 500/2004 [02:11<06:56,  3.61it/s, Loss=0.1757, Acc=88.27%]"
     ]
    },
    {
     "name": "stdout",
     "output_type": "stream",
     "text": [
      "[2025-02-26 18:25:16] Processed 500 training batches\n"
     ]
    },
    {
     "name": "stderr",
     "output_type": "stream",
     "text": [
      "Epoch 5 [Train]:  27%|██▋       | 550/2004 [02:25<06:24,  3.78it/s, Loss=0.5850, Acc=88.37%]"
     ]
    },
    {
     "name": "stdout",
     "output_type": "stream",
     "text": [
      "[2025-02-26 18:25:30] Processed 550 training batches\n"
     ]
    },
    {
     "name": "stderr",
     "output_type": "stream",
     "text": [
      "Epoch 5 [Train]:  30%|██▉       | 600/2004 [02:38<07:04,  3.31it/s, Loss=0.1879, Acc=88.34%]"
     ]
    },
    {
     "name": "stdout",
     "output_type": "stream",
     "text": [
      "[2025-02-26 18:25:43] Processed 600 training batches\n"
     ]
    },
    {
     "name": "stderr",
     "output_type": "stream",
     "text": [
      "Epoch 5 [Train]:  32%|███▏      | 650/2004 [02:52<05:34,  4.04it/s, Loss=0.3671, Acc=88.37%]"
     ]
    },
    {
     "name": "stdout",
     "output_type": "stream",
     "text": [
      "[2025-02-26 18:25:57] Processed 650 training batches\n"
     ]
    },
    {
     "name": "stderr",
     "output_type": "stream",
     "text": [
      "Epoch 5 [Train]:  35%|███▍      | 700/2004 [03:06<05:30,  3.95it/s, Loss=0.3233, Acc=88.43%]"
     ]
    },
    {
     "name": "stdout",
     "output_type": "stream",
     "text": [
      "[2025-02-26 18:26:11] Processed 700 training batches\n"
     ]
    },
    {
     "name": "stderr",
     "output_type": "stream",
     "text": [
      "Epoch 5 [Train]:  37%|███▋      | 750/2004 [03:19<05:05,  4.10it/s, Loss=0.3330, Acc=88.46%]"
     ]
    },
    {
     "name": "stdout",
     "output_type": "stream",
     "text": [
      "[2025-02-26 18:26:24] Processed 750 training batches\n"
     ]
    },
    {
     "name": "stderr",
     "output_type": "stream",
     "text": [
      "Epoch 5 [Train]:  40%|███▉      | 800/2004 [03:33<05:28,  3.67it/s, Loss=0.1194, Acc=88.48%]"
     ]
    },
    {
     "name": "stdout",
     "output_type": "stream",
     "text": [
      "[2025-02-26 18:26:38] Processed 800 training batches\n"
     ]
    },
    {
     "name": "stderr",
     "output_type": "stream",
     "text": [
      "Epoch 5 [Train]:  42%|████▏     | 850/2004 [03:47<05:03,  3.80it/s, Loss=0.5368, Acc=88.54%]"
     ]
    },
    {
     "name": "stdout",
     "output_type": "stream",
     "text": [
      "[2025-02-26 18:26:52] Processed 850 training batches\n"
     ]
    },
    {
     "name": "stderr",
     "output_type": "stream",
     "text": [
      "Epoch 5 [Train]:  45%|████▍     | 900/2004 [04:00<04:41,  3.92it/s, Loss=0.5090, Acc=88.57%]"
     ]
    },
    {
     "name": "stdout",
     "output_type": "stream",
     "text": [
      "[2025-02-26 18:27:05] Processed 900 training batches\n"
     ]
    },
    {
     "name": "stderr",
     "output_type": "stream",
     "text": [
      "Epoch 5 [Train]:  47%|████▋     | 950/2004 [04:14<05:04,  3.46it/s, Loss=0.4080, Acc=88.56%]"
     ]
    },
    {
     "name": "stdout",
     "output_type": "stream",
     "text": [
      "[2025-02-26 18:27:18] Processed 950 training batches\n"
     ]
    },
    {
     "name": "stderr",
     "output_type": "stream",
     "text": [
      "Epoch 5 [Train]:  50%|████▉     | 1000/2004 [04:28<04:50,  3.46it/s, Loss=0.7254, Acc=88.66%]"
     ]
    },
    {
     "name": "stdout",
     "output_type": "stream",
     "text": [
      "[2025-02-26 18:27:33] Processed 1000 training batches\n"
     ]
    },
    {
     "name": "stderr",
     "output_type": "stream",
     "text": [
      "Epoch 5 [Train]:  52%|█████▏    | 1050/2004 [04:43<04:39,  3.42it/s, Loss=0.1584, Acc=88.65%]"
     ]
    },
    {
     "name": "stdout",
     "output_type": "stream",
     "text": [
      "[2025-02-26 18:27:48] Processed 1050 training batches\n"
     ]
    },
    {
     "name": "stderr",
     "output_type": "stream",
     "text": [
      "Epoch 5 [Train]:  55%|█████▍    | 1100/2004 [04:58<04:28,  3.37it/s, Loss=0.1437, Acc=88.74%]"
     ]
    },
    {
     "name": "stdout",
     "output_type": "stream",
     "text": [
      "[2025-02-26 18:28:02] Processed 1100 training batches\n"
     ]
    },
    {
     "name": "stderr",
     "output_type": "stream",
     "text": [
      "Epoch 5 [Train]:  57%|█████▋    | 1150/2004 [05:12<03:59,  3.56it/s, Loss=0.3391, Acc=88.77%]"
     ]
    },
    {
     "name": "stdout",
     "output_type": "stream",
     "text": [
      "[2025-02-26 18:28:17] Processed 1150 training batches\n"
     ]
    },
    {
     "name": "stderr",
     "output_type": "stream",
     "text": [
      "Epoch 5 [Train]:  60%|█████▉    | 1200/2004 [05:28<04:18,  3.11it/s, Loss=0.2679, Acc=88.81%]"
     ]
    },
    {
     "name": "stdout",
     "output_type": "stream",
     "text": [
      "[2025-02-26 18:28:33] Processed 1200 training batches\n"
     ]
    },
    {
     "name": "stderr",
     "output_type": "stream",
     "text": [
      "Epoch 5 [Train]:  62%|██████▏   | 1250/2004 [05:43<04:13,  2.98it/s, Loss=0.1511, Acc=88.78%]"
     ]
    },
    {
     "name": "stdout",
     "output_type": "stream",
     "text": [
      "[2025-02-26 18:28:48] Processed 1250 training batches\n"
     ]
    },
    {
     "name": "stderr",
     "output_type": "stream",
     "text": [
      "Epoch 5 [Train]:  65%|██████▍   | 1300/2004 [05:58<02:48,  4.17it/s, Loss=0.4792, Acc=88.85%]"
     ]
    },
    {
     "name": "stdout",
     "output_type": "stream",
     "text": [
      "[2025-02-26 18:29:03] Processed 1300 training batches\n"
     ]
    },
    {
     "name": "stderr",
     "output_type": "stream",
     "text": [
      "Epoch 5 [Train]:  67%|██████▋   | 1350/2004 [06:12<03:57,  2.75it/s, Loss=0.2665, Acc=88.73%]"
     ]
    },
    {
     "name": "stdout",
     "output_type": "stream",
     "text": [
      "[2025-02-26 18:29:17] Processed 1350 training batches\n"
     ]
    },
    {
     "name": "stderr",
     "output_type": "stream",
     "text": [
      "Epoch 5 [Train]:  70%|██████▉   | 1400/2004 [06:27<02:55,  3.44it/s, Loss=0.2834, Acc=88.73%]"
     ]
    },
    {
     "name": "stdout",
     "output_type": "stream",
     "text": [
      "[2025-02-26 18:29:32] Processed 1400 training batches\n"
     ]
    },
    {
     "name": "stderr",
     "output_type": "stream",
     "text": [
      "Epoch 5 [Train]:  72%|███████▏  | 1450/2004 [06:41<03:05,  2.98it/s, Loss=0.7475, Acc=88.78%]"
     ]
    },
    {
     "name": "stdout",
     "output_type": "stream",
     "text": [
      "[2025-02-26 18:29:46] Processed 1450 training batches\n"
     ]
    },
    {
     "name": "stderr",
     "output_type": "stream",
     "text": [
      "Epoch 5 [Train]:  75%|███████▍  | 1500/2004 [06:56<02:22,  3.54it/s, Loss=0.5666, Acc=88.84%]"
     ]
    },
    {
     "name": "stdout",
     "output_type": "stream",
     "text": [
      "[2025-02-26 18:30:01] Processed 1500 training batches\n"
     ]
    },
    {
     "name": "stderr",
     "output_type": "stream",
     "text": [
      "Epoch 5 [Train]:  77%|███████▋  | 1550/2004 [07:11<02:55,  2.58it/s, Loss=0.4730, Acc=88.83%]"
     ]
    },
    {
     "name": "stdout",
     "output_type": "stream",
     "text": [
      "[2025-02-26 18:30:16] Processed 1550 training batches\n"
     ]
    },
    {
     "name": "stderr",
     "output_type": "stream",
     "text": [
      "Epoch 5 [Train]:  80%|███████▉  | 1600/2004 [07:26<01:36,  4.19it/s, Loss=0.3157, Acc=88.87%]"
     ]
    },
    {
     "name": "stdout",
     "output_type": "stream",
     "text": [
      "[2025-02-26 18:30:31] Processed 1600 training batches\n"
     ]
    },
    {
     "name": "stderr",
     "output_type": "stream",
     "text": [
      "Epoch 5 [Train]:  82%|████████▏ | 1650/2004 [07:40<01:35,  3.73it/s, Loss=0.1341, Acc=88.84%]"
     ]
    },
    {
     "name": "stdout",
     "output_type": "stream",
     "text": [
      "[2025-02-26 18:30:45] Processed 1650 training batches\n"
     ]
    },
    {
     "name": "stderr",
     "output_type": "stream",
     "text": [
      "Epoch 5 [Train]:  85%|████████▍ | 1700/2004 [07:56<01:51,  2.73it/s, Loss=0.0227, Acc=88.83%]"
     ]
    },
    {
     "name": "stdout",
     "output_type": "stream",
     "text": [
      "[2025-02-26 18:31:01] Processed 1700 training batches\n"
     ]
    },
    {
     "name": "stderr",
     "output_type": "stream",
     "text": [
      "Epoch 5 [Train]:  87%|████████▋ | 1750/2004 [08:11<01:16,  3.33it/s, Loss=0.3298, Acc=88.84%]"
     ]
    },
    {
     "name": "stdout",
     "output_type": "stream",
     "text": [
      "[2025-02-26 18:31:16] Processed 1750 training batches\n"
     ]
    },
    {
     "name": "stderr",
     "output_type": "stream",
     "text": [
      "Epoch 5 [Train]:  90%|████████▉ | 1800/2004 [08:26<00:59,  3.43it/s, Loss=0.5699, Acc=88.84%]"
     ]
    },
    {
     "name": "stdout",
     "output_type": "stream",
     "text": [
      "[2025-02-26 18:31:31] Processed 1800 training batches\n"
     ]
    },
    {
     "name": "stderr",
     "output_type": "stream",
     "text": [
      "Epoch 5 [Train]:  92%|█████████▏| 1850/2004 [08:40<00:42,  3.59it/s, Loss=0.0737, Acc=88.84%]"
     ]
    },
    {
     "name": "stdout",
     "output_type": "stream",
     "text": [
      "[2025-02-26 18:31:45] Processed 1850 training batches\n"
     ]
    },
    {
     "name": "stderr",
     "output_type": "stream",
     "text": [
      "Epoch 5 [Train]:  95%|█████████▍| 1900/2004 [08:54<00:34,  3.02it/s, Loss=0.0624, Acc=88.86%]"
     ]
    },
    {
     "name": "stdout",
     "output_type": "stream",
     "text": [
      "[2025-02-26 18:31:59] Processed 1900 training batches\n"
     ]
    },
    {
     "name": "stderr",
     "output_type": "stream",
     "text": [
      "Epoch 5 [Train]:  97%|█████████▋| 1950/2004 [09:08<00:16,  3.28it/s, Loss=0.6765, Acc=88.86%]"
     ]
    },
    {
     "name": "stdout",
     "output_type": "stream",
     "text": [
      "[2025-02-26 18:32:13] Processed 1950 training batches\n"
     ]
    },
    {
     "name": "stderr",
     "output_type": "stream",
     "text": [
      "Epoch 5 [Train]: 100%|█████████▉| 2000/2004 [09:23<00:01,  2.77it/s, Loss=0.4978, Acc=88.89%]"
     ]
    },
    {
     "name": "stdout",
     "output_type": "stream",
     "text": [
      "[2025-02-26 18:32:28] Processed 2000 training batches\n"
     ]
    },
    {
     "name": "stderr",
     "output_type": "stream",
     "text": [
      "Epoch 5 [Train]: 100%|██████████| 2004/2004 [09:24<00:00,  3.55it/s, Loss=0.3019, Acc=88.89%]\n",
      "Epoch 5 [Val]:   0%|          | 0/2004 [00:00<?, ?it/s, Loss=4.4530, Acc=0.00%]"
     ]
    },
    {
     "name": "stdout",
     "output_type": "stream",
     "text": [
      "[2025-02-26 18:32:29] Processed 0 validation batches\n"
     ]
    },
    {
     "name": "stderr",
     "output_type": "stream",
     "text": [
      "Epoch 5 [Val]:   1%|          | 20/2004 [00:07<09:54,  3.34it/s, Loss=0.5461, Acc=85.42%]"
     ]
    },
    {
     "name": "stdout",
     "output_type": "stream",
     "text": [
      "[2025-02-26 18:32:36] Processed 20 validation batches\n"
     ]
    },
    {
     "name": "stderr",
     "output_type": "stream",
     "text": [
      "Epoch 5 [Val]:   2%|▏         | 40/2004 [00:12<09:10,  3.56it/s, Loss=0.0783, Acc=89.79%]"
     ]
    },
    {
     "name": "stdout",
     "output_type": "stream",
     "text": [
      "[2025-02-26 18:32:42] Processed 40 validation batches\n"
     ]
    },
    {
     "name": "stderr",
     "output_type": "stream",
     "text": [
      "Epoch 5 [Val]:   3%|▎         | 60/2004 [00:20<12:27,  2.60it/s, Loss=0.1431, Acc=89.34%]"
     ]
    },
    {
     "name": "stdout",
     "output_type": "stream",
     "text": [
      "[2025-02-26 18:32:49] Processed 60 validation batches\n"
     ]
    },
    {
     "name": "stderr",
     "output_type": "stream",
     "text": [
      "Epoch 5 [Val]:   4%|▍         | 80/2004 [00:25<07:00,  4.57it/s, Loss=0.1391, Acc=88.35%]"
     ]
    },
    {
     "name": "stdout",
     "output_type": "stream",
     "text": [
      "[2025-02-26 18:32:54] Processed 80 validation batches\n"
     ]
    },
    {
     "name": "stderr",
     "output_type": "stream",
     "text": [
      "Epoch 5 [Val]:   5%|▍         | 100/2004 [00:35<10:21,  3.06it/s, Loss=0.3180, Acc=87.75%]"
     ]
    },
    {
     "name": "stdout",
     "output_type": "stream",
     "text": [
      "[2025-02-26 18:33:04] Processed 100 validation batches\n"
     ]
    },
    {
     "name": "stderr",
     "output_type": "stream",
     "text": [
      "Epoch 5 [Val]:   6%|▌         | 120/2004 [00:41<07:47,  4.03it/s, Loss=2.0049, Acc=86.93%]"
     ]
    },
    {
     "name": "stdout",
     "output_type": "stream",
     "text": [
      "[2025-02-26 18:33:10] Processed 120 validation batches\n"
     ]
    },
    {
     "name": "stderr",
     "output_type": "stream",
     "text": [
      "Epoch 5 [Val]:   7%|▋         | 140/2004 [00:52<32:53,  1.06s/it, Loss=0.6958, Acc=83.02%]"
     ]
    },
    {
     "name": "stdout",
     "output_type": "stream",
     "text": [
      "[2025-02-26 18:33:21] Processed 140 validation batches\n"
     ]
    },
    {
     "name": "stderr",
     "output_type": "stream",
     "text": [
      "Epoch 5 [Val]:   8%|▊         | 160/2004 [00:57<07:02,  4.37it/s, Loss=0.0230, Acc=83.70%]"
     ]
    },
    {
     "name": "stdout",
     "output_type": "stream",
     "text": [
      "[2025-02-26 18:33:27] Processed 160 validation batches\n"
     ]
    },
    {
     "name": "stderr",
     "output_type": "stream",
     "text": [
      "Epoch 5 [Val]:   9%|▉         | 180/2004 [01:04<11:42,  2.60it/s, Loss=2.8802, Acc=83.87%]"
     ]
    },
    {
     "name": "stdout",
     "output_type": "stream",
     "text": [
      "[2025-02-26 18:33:33] Processed 180 validation batches\n"
     ]
    },
    {
     "name": "stderr",
     "output_type": "stream",
     "text": [
      "Epoch 5 [Val]:  10%|▉         | 200/2004 [01:14<17:27,  1.72it/s, Loss=0.2654, Acc=81.13%]"
     ]
    },
    {
     "name": "stdout",
     "output_type": "stream",
     "text": [
      "[2025-02-26 18:33:43] Processed 200 validation batches\n"
     ]
    },
    {
     "name": "stderr",
     "output_type": "stream",
     "text": [
      "Epoch 5 [Val]:  11%|█         | 220/2004 [01:28<04:45,  6.26it/s, Loss=0.0235, Acc=82.75%]"
     ]
    },
    {
     "name": "stdout",
     "output_type": "stream",
     "text": [
      "[2025-02-26 18:33:58] Processed 220 validation batches\n"
     ]
    },
    {
     "name": "stderr",
     "output_type": "stream",
     "text": [
      "Epoch 5 [Val]:  12%|█▏        | 240/2004 [01:31<03:12,  9.15it/s, Loss=0.0000, Acc=84.18%]"
     ]
    },
    {
     "name": "stdout",
     "output_type": "stream",
     "text": [
      "[2025-02-26 18:34:00] Processed 240 validation batches\n"
     ]
    },
    {
     "name": "stderr",
     "output_type": "stream",
     "text": [
      "Epoch 5 [Val]:  13%|█▎        | 260/2004 [01:33<03:08,  9.27it/s, Loss=0.0006, Acc=85.39%]"
     ]
    },
    {
     "name": "stdout",
     "output_type": "stream",
     "text": [
      "[2025-02-26 18:34:02] Processed 260 validation batches\n"
     ]
    },
    {
     "name": "stderr",
     "output_type": "stream",
     "text": [
      "Epoch 5 [Val]:  14%|█▍        | 280/2004 [01:35<03:10,  9.03it/s, Loss=0.0314, Acc=86.43%]"
     ]
    },
    {
     "name": "stdout",
     "output_type": "stream",
     "text": [
      "[2025-02-26 18:34:05] Processed 280 validation batches\n"
     ]
    },
    {
     "name": "stderr",
     "output_type": "stream",
     "text": [
      "Epoch 5 [Val]:  15%|█▍        | 300/2004 [01:38<03:14,  8.75it/s, Loss=0.0085, Acc=87.33%]"
     ]
    },
    {
     "name": "stdout",
     "output_type": "stream",
     "text": [
      "[2025-02-26 18:34:07] Processed 300 validation batches\n"
     ]
    },
    {
     "name": "stderr",
     "output_type": "stream",
     "text": [
      "Epoch 5 [Val]:  16%|█▌        | 320/2004 [01:40<03:10,  8.86it/s, Loss=0.0085, Acc=88.10%]"
     ]
    },
    {
     "name": "stdout",
     "output_type": "stream",
     "text": [
      "[2025-02-26 18:34:09] Processed 320 validation batches\n"
     ]
    },
    {
     "name": "stderr",
     "output_type": "stream",
     "text": [
      "Epoch 5 [Val]:  17%|█▋        | 340/2004 [01:42<03:02,  9.12it/s, Loss=0.0010, Acc=88.78%]"
     ]
    },
    {
     "name": "stdout",
     "output_type": "stream",
     "text": [
      "[2025-02-26 18:34:11] Processed 340 validation batches\n"
     ]
    },
    {
     "name": "stderr",
     "output_type": "stream",
     "text": [
      "Epoch 5 [Val]:  18%|█▊        | 360/2004 [01:44<03:01,  9.07it/s, Loss=0.0042, Acc=89.39%]"
     ]
    },
    {
     "name": "stdout",
     "output_type": "stream",
     "text": [
      "[2025-02-26 18:34:14] Processed 360 validation batches\n"
     ]
    },
    {
     "name": "stderr",
     "output_type": "stream",
     "text": [
      "Epoch 5 [Val]:  19%|█▉        | 380/2004 [01:46<03:03,  8.87it/s, Loss=0.0013, Acc=89.93%]"
     ]
    },
    {
     "name": "stdout",
     "output_type": "stream",
     "text": [
      "[2025-02-26 18:34:16] Processed 380 validation batches\n"
     ]
    },
    {
     "name": "stderr",
     "output_type": "stream",
     "text": [
      "Epoch 5 [Val]:  20%|█▉        | 400/2004 [01:49<03:10,  8.44it/s, Loss=0.0066, Acc=90.41%]"
     ]
    },
    {
     "name": "stdout",
     "output_type": "stream",
     "text": [
      "[2025-02-26 18:34:18] Processed 400 validation batches\n"
     ]
    },
    {
     "name": "stderr",
     "output_type": "stream",
     "text": [
      "Epoch 5 [Val]:  21%|██        | 420/2004 [01:51<02:58,  8.87it/s, Loss=0.0006, Acc=90.84%]"
     ]
    },
    {
     "name": "stdout",
     "output_type": "stream",
     "text": [
      "[2025-02-26 18:34:20] Processed 420 validation batches\n"
     ]
    },
    {
     "name": "stderr",
     "output_type": "stream",
     "text": [
      "Epoch 5 [Val]:  22%|██▏       | 440/2004 [01:53<02:55,  8.90it/s, Loss=0.0005, Acc=91.23%]"
     ]
    },
    {
     "name": "stdout",
     "output_type": "stream",
     "text": [
      "[2025-02-26 18:34:23] Processed 440 validation batches\n"
     ]
    },
    {
     "name": "stderr",
     "output_type": "stream",
     "text": [
      "Epoch 5 [Val]:  23%|██▎       | 460/2004 [02:07<11:49,  2.17it/s, Loss=0.1709, Acc=91.51%]"
     ]
    },
    {
     "name": "stdout",
     "output_type": "stream",
     "text": [
      "[2025-02-26 18:34:36] Processed 460 validation batches\n"
     ]
    },
    {
     "name": "stderr",
     "output_type": "stream",
     "text": [
      "Epoch 5 [Val]:  24%|██▍       | 480/2004 [02:13<07:31,  3.37it/s, Loss=1.0190, Acc=91.24%]"
     ]
    },
    {
     "name": "stdout",
     "output_type": "stream",
     "text": [
      "[2025-02-26 18:34:42] Processed 480 validation batches\n"
     ]
    },
    {
     "name": "stderr",
     "output_type": "stream",
     "text": [
      "Epoch 5 [Val]:  25%|██▍       | 500/2004 [02:19<02:56,  8.51it/s, Loss=0.0015, Acc=91.43%]"
     ]
    },
    {
     "name": "stdout",
     "output_type": "stream",
     "text": [
      "[2025-02-26 18:34:48] Processed 500 validation batches\n"
     ]
    },
    {
     "name": "stderr",
     "output_type": "stream",
     "text": [
      "Epoch 5 [Val]:  26%|██▌       | 520/2004 [02:21<02:51,  8.67it/s, Loss=0.0061, Acc=91.76%]"
     ]
    },
    {
     "name": "stdout",
     "output_type": "stream",
     "text": [
      "[2025-02-26 18:34:51] Processed 520 validation batches\n"
     ]
    },
    {
     "name": "stderr",
     "output_type": "stream",
     "text": [
      "Epoch 5 [Val]:  27%|██▋       | 540/2004 [02:24<04:36,  5.30it/s, Loss=0.1146, Acc=91.95%]"
     ]
    },
    {
     "name": "stdout",
     "output_type": "stream",
     "text": [
      "[2025-02-26 18:34:54] Processed 540 validation batches\n"
     ]
    },
    {
     "name": "stderr",
     "output_type": "stream",
     "text": [
      "Epoch 5 [Val]:  28%|██▊       | 560/2004 [02:28<03:04,  7.81it/s, Loss=0.0698, Acc=92.16%]"
     ]
    },
    {
     "name": "stdout",
     "output_type": "stream",
     "text": [
      "[2025-02-26 18:34:57] Processed 560 validation batches\n"
     ]
    },
    {
     "name": "stderr",
     "output_type": "stream",
     "text": [
      "Epoch 5 [Val]:  29%|██▉       | 580/2004 [02:32<06:54,  3.44it/s, Loss=0.0274, Acc=92.28%]"
     ]
    },
    {
     "name": "stdout",
     "output_type": "stream",
     "text": [
      "[2025-02-26 18:35:01] Processed 580 validation batches\n"
     ]
    },
    {
     "name": "stderr",
     "output_type": "stream",
     "text": [
      "Epoch 5 [Val]:  30%|██▉       | 600/2004 [02:34<02:49,  8.28it/s, Loss=0.0254, Acc=92.51%]"
     ]
    },
    {
     "name": "stdout",
     "output_type": "stream",
     "text": [
      "[2025-02-26 18:35:03] Processed 600 validation batches\n"
     ]
    },
    {
     "name": "stderr",
     "output_type": "stream",
     "text": [
      "Epoch 5 [Val]:  31%|███       | 620/2004 [02:37<02:47,  8.25it/s, Loss=0.0004, Acc=92.74%]"
     ]
    },
    {
     "name": "stdout",
     "output_type": "stream",
     "text": [
      "[2025-02-26 18:35:06] Processed 620 validation batches\n"
     ]
    },
    {
     "name": "stderr",
     "output_type": "stream",
     "text": [
      "Epoch 5 [Val]:  32%|███▏      | 640/2004 [02:39<02:45,  8.22it/s, Loss=0.0001, Acc=92.96%]"
     ]
    },
    {
     "name": "stdout",
     "output_type": "stream",
     "text": [
      "[2025-02-26 18:35:08] Processed 640 validation batches\n"
     ]
    },
    {
     "name": "stderr",
     "output_type": "stream",
     "text": [
      "Epoch 5 [Val]:  33%|███▎      | 660/2004 [02:42<02:44,  8.15it/s, Loss=0.0429, Acc=93.15%]"
     ]
    },
    {
     "name": "stdout",
     "output_type": "stream",
     "text": [
      "[2025-02-26 18:35:11] Processed 660 validation batches\n"
     ]
    },
    {
     "name": "stderr",
     "output_type": "stream",
     "text": [
      "Epoch 5 [Val]:  34%|███▍      | 680/2004 [02:44<02:48,  7.84it/s, Loss=0.0004, Acc=93.32%]"
     ]
    },
    {
     "name": "stdout",
     "output_type": "stream",
     "text": [
      "[2025-02-26 18:35:14] Processed 680 validation batches\n"
     ]
    },
    {
     "name": "stderr",
     "output_type": "stream",
     "text": [
      "Epoch 5 [Val]:  35%|███▍      | 700/2004 [02:47<02:42,  8.03it/s, Loss=0.0002, Acc=93.50%]"
     ]
    },
    {
     "name": "stdout",
     "output_type": "stream",
     "text": [
      "[2025-02-26 18:35:16] Processed 700 validation batches\n"
     ]
    },
    {
     "name": "stderr",
     "output_type": "stream",
     "text": [
      "Epoch 5 [Val]:  36%|███▌      | 720/2004 [02:49<02:41,  7.96it/s, Loss=0.0021, Acc=93.67%]"
     ]
    },
    {
     "name": "stdout",
     "output_type": "stream",
     "text": [
      "[2025-02-26 18:35:19] Processed 720 validation batches\n"
     ]
    },
    {
     "name": "stderr",
     "output_type": "stream",
     "text": [
      "Epoch 5 [Val]:  37%|███▋      | 740/2004 [02:53<02:42,  7.79it/s, Loss=0.0005, Acc=93.83%]"
     ]
    },
    {
     "name": "stdout",
     "output_type": "stream",
     "text": [
      "[2025-02-26 18:35:22] Processed 740 validation batches\n"
     ]
    },
    {
     "name": "stderr",
     "output_type": "stream",
     "text": [
      "Epoch 5 [Val]:  38%|███▊      | 760/2004 [03:05<06:28,  3.20it/s, Loss=0.0023, Acc=93.96%]"
     ]
    },
    {
     "name": "stdout",
     "output_type": "stream",
     "text": [
      "[2025-02-26 18:35:34] Processed 760 validation batches\n"
     ]
    },
    {
     "name": "stderr",
     "output_type": "stream",
     "text": [
      "Epoch 5 [Val]:  39%|███▉      | 780/2004 [03:13<06:50,  2.98it/s, Loss=0.0003, Acc=94.10%]"
     ]
    },
    {
     "name": "stdout",
     "output_type": "stream",
     "text": [
      "[2025-02-26 18:35:43] Processed 780 validation batches\n"
     ]
    },
    {
     "name": "stderr",
     "output_type": "stream",
     "text": [
      "Epoch 5 [Val]:  40%|███▉      | 800/2004 [03:16<02:30,  8.01it/s, Loss=0.0001, Acc=94.23%]"
     ]
    },
    {
     "name": "stdout",
     "output_type": "stream",
     "text": [
      "[2025-02-26 18:35:45] Processed 800 validation batches\n"
     ]
    },
    {
     "name": "stderr",
     "output_type": "stream",
     "text": [
      "Epoch 5 [Val]:  41%|████      | 820/2004 [03:18<02:25,  8.14it/s, Loss=0.0247, Acc=94.35%]"
     ]
    },
    {
     "name": "stdout",
     "output_type": "stream",
     "text": [
      "[2025-02-26 18:35:48] Processed 820 validation batches\n"
     ]
    },
    {
     "name": "stderr",
     "output_type": "stream",
     "text": [
      "Epoch 5 [Val]:  42%|████▏     | 840/2004 [03:24<04:31,  4.28it/s, Loss=0.0359, Acc=94.45%]"
     ]
    },
    {
     "name": "stdout",
     "output_type": "stream",
     "text": [
      "[2025-02-26 18:35:53] Processed 840 validation batches\n"
     ]
    },
    {
     "name": "stderr",
     "output_type": "stream",
     "text": [
      "Epoch 5 [Val]:  43%|████▎     | 860/2004 [03:30<08:48,  2.17it/s, Loss=0.1941, Acc=94.48%]"
     ]
    },
    {
     "name": "stdout",
     "output_type": "stream",
     "text": [
      "[2025-02-26 18:35:59] Processed 860 validation batches\n"
     ]
    },
    {
     "name": "stderr",
     "output_type": "stream",
     "text": [
      "Epoch 5 [Val]:  44%|████▍     | 880/2004 [03:33<03:22,  5.55it/s, Loss=1.0469, Acc=94.10%]"
     ]
    },
    {
     "name": "stdout",
     "output_type": "stream",
     "text": [
      "[2025-02-26 18:36:03] Processed 880 validation batches\n"
     ]
    },
    {
     "name": "stderr",
     "output_type": "stream",
     "text": [
      "Epoch 5 [Val]:  45%|████▍     | 900/2004 [03:37<03:50,  4.78it/s, Loss=0.0001, Acc=93.80%]"
     ]
    },
    {
     "name": "stdout",
     "output_type": "stream",
     "text": [
      "[2025-02-26 18:36:07] Processed 900 validation batches\n"
     ]
    },
    {
     "name": "stderr",
     "output_type": "stream",
     "text": [
      "Epoch 5 [Val]:  46%|████▌     | 920/2004 [03:42<05:19,  3.39it/s, Loss=0.0124, Acc=93.92%]"
     ]
    },
    {
     "name": "stdout",
     "output_type": "stream",
     "text": [
      "[2025-02-26 18:36:12] Processed 920 validation batches\n"
     ]
    },
    {
     "name": "stderr",
     "output_type": "stream",
     "text": [
      "Epoch 5 [Val]:  47%|████▋     | 940/2004 [03:48<03:45,  4.71it/s, Loss=0.1555, Acc=93.96%]"
     ]
    },
    {
     "name": "stdout",
     "output_type": "stream",
     "text": [
      "[2025-02-26 18:36:18] Processed 940 validation batches\n"
     ]
    },
    {
     "name": "stderr",
     "output_type": "stream",
     "text": [
      "Epoch 5 [Val]:  48%|████▊     | 960/2004 [03:52<03:28,  5.00it/s, Loss=0.6190, Acc=93.61%]"
     ]
    },
    {
     "name": "stdout",
     "output_type": "stream",
     "text": [
      "[2025-02-26 18:36:21] Processed 960 validation batches\n"
     ]
    },
    {
     "name": "stderr",
     "output_type": "stream",
     "text": [
      "Epoch 5 [Val]:  49%|████▉     | 980/2004 [04:03<18:38,  1.09s/it, Loss=0.1681, Acc=93.41%]"
     ]
    },
    {
     "name": "stdout",
     "output_type": "stream",
     "text": [
      "[2025-02-26 18:36:33] Processed 980 validation batches\n"
     ]
    },
    {
     "name": "stderr",
     "output_type": "stream",
     "text": [
      "Epoch 5 [Val]:  50%|████▉     | 1000/2004 [04:10<03:32,  4.72it/s, Loss=0.6825, Acc=93.35%]"
     ]
    },
    {
     "name": "stdout",
     "output_type": "stream",
     "text": [
      "[2025-02-26 18:36:39] Processed 1000 validation batches\n"
     ]
    },
    {
     "name": "stderr",
     "output_type": "stream",
     "text": [
      "Epoch 5 [Val]:  51%|█████     | 1020/2004 [04:15<02:54,  5.64it/s, Loss=0.3667, Acc=93.42%]"
     ]
    },
    {
     "name": "stdout",
     "output_type": "stream",
     "text": [
      "[2025-02-26 18:36:44] Processed 1020 validation batches\n"
     ]
    },
    {
     "name": "stderr",
     "output_type": "stream",
     "text": [
      "Epoch 5 [Val]:  52%|█████▏    | 1040/2004 [04:22<03:12,  5.00it/s, Loss=0.0000, Acc=93.23%]"
     ]
    },
    {
     "name": "stdout",
     "output_type": "stream",
     "text": [
      "[2025-02-26 18:36:52] Processed 1040 validation batches\n"
     ]
    },
    {
     "name": "stderr",
     "output_type": "stream",
     "text": [
      "Epoch 5 [Val]:  53%|█████▎    | 1060/2004 [04:28<05:20,  2.95it/s, Loss=0.0047, Acc=93.33%]"
     ]
    },
    {
     "name": "stdout",
     "output_type": "stream",
     "text": [
      "[2025-02-26 18:36:58] Processed 1060 validation batches\n"
     ]
    },
    {
     "name": "stderr",
     "output_type": "stream",
     "text": [
      "Epoch 5 [Val]:  54%|█████▍    | 1080/2004 [04:37<07:50,  1.96it/s, Loss=0.2106, Acc=93.35%]"
     ]
    },
    {
     "name": "stdout",
     "output_type": "stream",
     "text": [
      "[2025-02-26 18:37:06] Processed 1080 validation batches\n"
     ]
    },
    {
     "name": "stderr",
     "output_type": "stream",
     "text": [
      "Epoch 5 [Val]:  55%|█████▍    | 1100/2004 [04:59<21:19,  1.42s/it, Loss=0.0001, Acc=93.43%]"
     ]
    },
    {
     "name": "stdout",
     "output_type": "stream",
     "text": [
      "[2025-02-26 18:37:29] Processed 1100 validation batches\n"
     ]
    },
    {
     "name": "stderr",
     "output_type": "stream",
     "text": [
      "Epoch 5 [Val]:  56%|█████▌    | 1120/2004 [05:23<18:36,  1.26s/it, Loss=0.4784, Acc=93.41%]"
     ]
    },
    {
     "name": "stdout",
     "output_type": "stream",
     "text": [
      "[2025-02-26 18:37:52] Processed 1120 validation batches\n"
     ]
    },
    {
     "name": "stderr",
     "output_type": "stream",
     "text": [
      "Epoch 5 [Val]:  57%|█████▋    | 1140/2004 [05:27<02:53,  4.99it/s, Loss=0.0007, Acc=93.53%]"
     ]
    },
    {
     "name": "stdout",
     "output_type": "stream",
     "text": [
      "[2025-02-26 18:37:56] Processed 1140 validation batches\n"
     ]
    },
    {
     "name": "stderr",
     "output_type": "stream",
     "text": [
      "Epoch 5 [Val]:  58%|█████▊    | 1160/2004 [05:31<03:13,  4.35it/s, Loss=0.0126, Acc=93.63%]"
     ]
    },
    {
     "name": "stdout",
     "output_type": "stream",
     "text": [
      "[2025-02-26 18:38:00] Processed 1160 validation batches\n"
     ]
    },
    {
     "name": "stderr",
     "output_type": "stream",
     "text": [
      "Epoch 5 [Val]:  59%|█████▉    | 1180/2004 [05:35<02:42,  5.08it/s, Loss=0.0002, Acc=93.74%]"
     ]
    },
    {
     "name": "stdout",
     "output_type": "stream",
     "text": [
      "[2025-02-26 18:38:04] Processed 1180 validation batches\n"
     ]
    },
    {
     "name": "stderr",
     "output_type": "stream",
     "text": [
      "Epoch 5 [Val]:  60%|█████▉    | 1200/2004 [05:37<01:34,  8.49it/s, Loss=0.0000, Acc=93.82%]"
     ]
    },
    {
     "name": "stdout",
     "output_type": "stream",
     "text": [
      "[2025-02-26 18:38:07] Processed 1200 validation batches\n"
     ]
    },
    {
     "name": "stderr",
     "output_type": "stream",
     "text": [
      "Epoch 5 [Val]:  61%|██████    | 1220/2004 [05:41<02:24,  5.41it/s, Loss=0.1123, Acc=93.89%]"
     ]
    },
    {
     "name": "stdout",
     "output_type": "stream",
     "text": [
      "[2025-02-26 18:38:10] Processed 1220 validation batches\n"
     ]
    },
    {
     "name": "stderr",
     "output_type": "stream",
     "text": [
      "Epoch 5 [Val]:  62%|██████▏   | 1240/2004 [05:44<02:25,  5.24it/s, Loss=0.0000, Acc=93.99%]"
     ]
    },
    {
     "name": "stdout",
     "output_type": "stream",
     "text": [
      "[2025-02-26 18:38:14] Processed 1240 validation batches\n"
     ]
    },
    {
     "name": "stderr",
     "output_type": "stream",
     "text": [
      "Epoch 5 [Val]:  63%|██████▎   | 1260/2004 [05:49<02:51,  4.34it/s, Loss=0.0000, Acc=94.08%]"
     ]
    },
    {
     "name": "stdout",
     "output_type": "stream",
     "text": [
      "[2025-02-26 18:38:18] Processed 1260 validation batches\n"
     ]
    },
    {
     "name": "stderr",
     "output_type": "stream",
     "text": [
      "Epoch 5 [Val]:  64%|██████▍   | 1280/2004 [05:53<02:22,  5.09it/s, Loss=0.0000, Acc=94.17%]"
     ]
    },
    {
     "name": "stdout",
     "output_type": "stream",
     "text": [
      "[2025-02-26 18:38:22] Processed 1280 validation batches\n"
     ]
    },
    {
     "name": "stderr",
     "output_type": "stream",
     "text": [
      "Epoch 5 [Val]:  65%|██████▍   | 1300/2004 [05:57<03:07,  3.75it/s, Loss=0.2073, Acc=94.17%]"
     ]
    },
    {
     "name": "stdout",
     "output_type": "stream",
     "text": [
      "[2025-02-26 18:38:27] Processed 1300 validation batches\n"
     ]
    },
    {
     "name": "stderr",
     "output_type": "stream",
     "text": [
      "Epoch 5 [Val]:  66%|██████▌   | 1320/2004 [06:02<02:29,  4.58it/s, Loss=0.1525, Acc=94.16%]"
     ]
    },
    {
     "name": "stdout",
     "output_type": "stream",
     "text": [
      "[2025-02-26 18:38:31] Processed 1320 validation batches\n"
     ]
    },
    {
     "name": "stderr",
     "output_type": "stream",
     "text": [
      "Epoch 5 [Val]:  67%|██████▋   | 1340/2004 [06:07<02:28,  4.47it/s, Loss=0.2237, Acc=94.09%]"
     ]
    },
    {
     "name": "stdout",
     "output_type": "stream",
     "text": [
      "[2025-02-26 18:38:36] Processed 1340 validation batches\n"
     ]
    },
    {
     "name": "stderr",
     "output_type": "stream",
     "text": [
      "Epoch 5 [Val]:  68%|██████▊   | 1360/2004 [06:10<01:46,  6.04it/s, Loss=0.0759, Acc=94.17%]"
     ]
    },
    {
     "name": "stdout",
     "output_type": "stream",
     "text": [
      "[2025-02-26 18:38:39] Processed 1360 validation batches\n"
     ]
    },
    {
     "name": "stderr",
     "output_type": "stream",
     "text": [
      "Epoch 5 [Val]:  69%|██████▉   | 1380/2004 [06:12<01:06,  9.33it/s, Loss=0.0007, Acc=94.25%]"
     ]
    },
    {
     "name": "stdout",
     "output_type": "stream",
     "text": [
      "[2025-02-26 18:38:41] Processed 1380 validation batches\n"
     ]
    },
    {
     "name": "stderr",
     "output_type": "stream",
     "text": [
      "Epoch 5 [Val]:  70%|██████▉   | 1400/2004 [06:14<01:05,  9.18it/s, Loss=0.0184, Acc=94.32%]"
     ]
    },
    {
     "name": "stdout",
     "output_type": "stream",
     "text": [
      "[2025-02-26 18:38:43] Processed 1400 validation batches\n"
     ]
    },
    {
     "name": "stderr",
     "output_type": "stream",
     "text": [
      "Epoch 5 [Val]:  71%|███████   | 1420/2004 [06:16<01:05,  8.90it/s, Loss=0.0651, Acc=94.40%]"
     ]
    },
    {
     "name": "stdout",
     "output_type": "stream",
     "text": [
      "[2025-02-26 18:38:46] Processed 1420 validation batches\n"
     ]
    },
    {
     "name": "stderr",
     "output_type": "stream",
     "text": [
      "Epoch 5 [Val]:  72%|███████▏  | 1440/2004 [06:19<01:04,  8.70it/s, Loss=0.0065, Acc=94.47%]"
     ]
    },
    {
     "name": "stdout",
     "output_type": "stream",
     "text": [
      "[2025-02-26 18:38:48] Processed 1440 validation batches\n"
     ]
    },
    {
     "name": "stderr",
     "output_type": "stream",
     "text": [
      "Epoch 5 [Val]:  73%|███████▎  | 1460/2004 [06:21<01:00,  8.94it/s, Loss=0.1056, Acc=94.54%]"
     ]
    },
    {
     "name": "stdout",
     "output_type": "stream",
     "text": [
      "[2025-02-26 18:38:50] Processed 1460 validation batches\n"
     ]
    },
    {
     "name": "stderr",
     "output_type": "stream",
     "text": [
      "Epoch 5 [Val]:  74%|███████▍  | 1480/2004 [06:23<00:59,  8.84it/s, Loss=0.0480, Acc=94.58%]"
     ]
    },
    {
     "name": "stdout",
     "output_type": "stream",
     "text": [
      "[2025-02-26 18:38:52] Processed 1480 validation batches\n"
     ]
    },
    {
     "name": "stderr",
     "output_type": "stream",
     "text": [
      "Epoch 5 [Val]:  75%|███████▍  | 1500/2004 [06:25<00:56,  8.90it/s, Loss=0.1516, Acc=94.61%]"
     ]
    },
    {
     "name": "stdout",
     "output_type": "stream",
     "text": [
      "[2025-02-26 18:38:55] Processed 1500 validation batches\n"
     ]
    },
    {
     "name": "stderr",
     "output_type": "stream",
     "text": [
      "Epoch 5 [Val]:  76%|███████▌  | 1520/2004 [06:28<00:55,  8.68it/s, Loss=0.0591, Acc=94.65%]"
     ]
    },
    {
     "name": "stdout",
     "output_type": "stream",
     "text": [
      "[2025-02-26 18:38:57] Processed 1520 validation batches\n"
     ]
    },
    {
     "name": "stderr",
     "output_type": "stream",
     "text": [
      "Epoch 5 [Val]:  77%|███████▋  | 1540/2004 [06:32<03:47,  2.04it/s, Loss=0.0056, Acc=94.70%]"
     ]
    },
    {
     "name": "stdout",
     "output_type": "stream",
     "text": [
      "[2025-02-26 18:39:02] Processed 1540 validation batches\n"
     ]
    },
    {
     "name": "stderr",
     "output_type": "stream",
     "text": [
      "Epoch 5 [Val]:  78%|███████▊  | 1560/2004 [06:42<02:18,  3.21it/s, Loss=0.0007, Acc=94.75%]"
     ]
    },
    {
     "name": "stdout",
     "output_type": "stream",
     "text": [
      "[2025-02-26 18:39:11] Processed 1560 validation batches\n"
     ]
    },
    {
     "name": "stderr",
     "output_type": "stream",
     "text": [
      "Epoch 5 [Val]:  79%|███████▉  | 1580/2004 [06:49<01:49,  3.89it/s, Loss=0.0851, Acc=94.77%]"
     ]
    },
    {
     "name": "stdout",
     "output_type": "stream",
     "text": [
      "[2025-02-26 18:39:18] Processed 1580 validation batches\n"
     ]
    },
    {
     "name": "stderr",
     "output_type": "stream",
     "text": [
      "Epoch 5 [Val]:  80%|███████▉  | 1600/2004 [06:51<00:45,  8.97it/s, Loss=0.2167, Acc=94.80%]"
     ]
    },
    {
     "name": "stdout",
     "output_type": "stream",
     "text": [
      "[2025-02-26 18:39:20] Processed 1600 validation batches\n"
     ]
    },
    {
     "name": "stderr",
     "output_type": "stream",
     "text": [
      "Epoch 5 [Val]:  81%|████████  | 1620/2004 [07:07<06:57,  1.09s/it, Loss=0.0333, Acc=94.84%]"
     ]
    },
    {
     "name": "stdout",
     "output_type": "stream",
     "text": [
      "[2025-02-26 18:39:36] Processed 1620 validation batches\n"
     ]
    },
    {
     "name": "stderr",
     "output_type": "stream",
     "text": [
      "Epoch 5 [Val]:  82%|████████▏ | 1640/2004 [07:27<01:58,  3.08it/s, Loss=0.0376, Acc=94.83%]"
     ]
    },
    {
     "name": "stdout",
     "output_type": "stream",
     "text": [
      "[2025-02-26 18:39:56] Processed 1640 validation batches\n"
     ]
    },
    {
     "name": "stderr",
     "output_type": "stream",
     "text": [
      "Epoch 5 [Val]:  83%|████████▎ | 1660/2004 [07:31<01:18,  4.36it/s, Loss=0.0976, Acc=94.85%]"
     ]
    },
    {
     "name": "stdout",
     "output_type": "stream",
     "text": [
      "[2025-02-26 18:40:00] Processed 1660 validation batches\n"
     ]
    },
    {
     "name": "stderr",
     "output_type": "stream",
     "text": [
      "Epoch 5 [Val]:  84%|████████▍ | 1680/2004 [07:37<01:16,  4.25it/s, Loss=0.0239, Acc=94.81%]"
     ]
    },
    {
     "name": "stdout",
     "output_type": "stream",
     "text": [
      "[2025-02-26 18:40:06] Processed 1680 validation batches\n"
     ]
    },
    {
     "name": "stderr",
     "output_type": "stream",
     "text": [
      "Epoch 5 [Val]:  85%|████████▍ | 1700/2004 [07:41<01:07,  4.48it/s, Loss=0.4633, Acc=94.83%]"
     ]
    },
    {
     "name": "stdout",
     "output_type": "stream",
     "text": [
      "[2025-02-26 18:40:10] Processed 1700 validation batches\n"
     ]
    },
    {
     "name": "stderr",
     "output_type": "stream",
     "text": [
      "Epoch 5 [Val]:  86%|████████▌ | 1720/2004 [07:46<00:59,  4.76it/s, Loss=0.0001, Acc=94.85%]"
     ]
    },
    {
     "name": "stdout",
     "output_type": "stream",
     "text": [
      "[2025-02-26 18:40:15] Processed 1720 validation batches\n"
     ]
    },
    {
     "name": "stderr",
     "output_type": "stream",
     "text": [
      "Epoch 5 [Val]:  87%|████████▋ | 1740/2004 [07:50<00:57,  4.57it/s, Loss=0.0412, Acc=94.91%]"
     ]
    },
    {
     "name": "stdout",
     "output_type": "stream",
     "text": [
      "[2025-02-26 18:40:19] Processed 1740 validation batches\n"
     ]
    },
    {
     "name": "stderr",
     "output_type": "stream",
     "text": [
      "Epoch 5 [Val]:  88%|████████▊ | 1760/2004 [07:55<00:53,  4.60it/s, Loss=0.0000, Acc=94.97%]"
     ]
    },
    {
     "name": "stdout",
     "output_type": "stream",
     "text": [
      "[2025-02-26 18:40:24] Processed 1760 validation batches\n"
     ]
    },
    {
     "name": "stderr",
     "output_type": "stream",
     "text": [
      "Epoch 5 [Val]:  89%|████████▉ | 1780/2004 [08:04<01:45,  2.13it/s, Loss=0.0009, Acc=95.00%]"
     ]
    },
    {
     "name": "stdout",
     "output_type": "stream",
     "text": [
      "[2025-02-26 18:40:34] Processed 1780 validation batches\n"
     ]
    },
    {
     "name": "stderr",
     "output_type": "stream",
     "text": [
      "Epoch 5 [Val]:  90%|████████▉ | 1800/2004 [08:09<00:42,  4.83it/s, Loss=0.0598, Acc=95.05%]"
     ]
    },
    {
     "name": "stdout",
     "output_type": "stream",
     "text": [
      "[2025-02-26 18:40:38] Processed 1800 validation batches\n"
     ]
    },
    {
     "name": "stderr",
     "output_type": "stream",
     "text": [
      "Epoch 5 [Val]:  91%|█████████ | 1820/2004 [08:15<00:39,  4.63it/s, Loss=0.0001, Acc=95.11%]"
     ]
    },
    {
     "name": "stdout",
     "output_type": "stream",
     "text": [
      "[2025-02-26 18:40:44] Processed 1820 validation batches\n"
     ]
    },
    {
     "name": "stderr",
     "output_type": "stream",
     "text": [
      "Epoch 5 [Val]:  92%|█████████▏| 1840/2004 [08:19<00:37,  4.43it/s, Loss=0.0005, Acc=95.16%]"
     ]
    },
    {
     "name": "stdout",
     "output_type": "stream",
     "text": [
      "[2025-02-26 18:40:49] Processed 1840 validation batches\n"
     ]
    },
    {
     "name": "stderr",
     "output_type": "stream",
     "text": [
      "Epoch 5 [Val]:  93%|█████████▎| 1860/2004 [08:24<00:30,  4.74it/s, Loss=0.0221, Acc=95.20%]"
     ]
    },
    {
     "name": "stdout",
     "output_type": "stream",
     "text": [
      "[2025-02-26 18:40:53] Processed 1860 validation batches\n"
     ]
    },
    {
     "name": "stderr",
     "output_type": "stream",
     "text": [
      "Epoch 5 [Val]:  94%|█████████▍| 1880/2004 [08:38<01:50,  1.12it/s, Loss=0.0105, Acc=95.23%]"
     ]
    },
    {
     "name": "stdout",
     "output_type": "stream",
     "text": [
      "[2025-02-26 18:41:07] Processed 1880 validation batches\n"
     ]
    },
    {
     "name": "stderr",
     "output_type": "stream",
     "text": [
      "Epoch 5 [Val]:  95%|█████████▍| 1900/2004 [08:45<00:32,  3.23it/s, Loss=0.0014, Acc=95.26%]"
     ]
    },
    {
     "name": "stdout",
     "output_type": "stream",
     "text": [
      "[2025-02-26 18:41:14] Processed 1900 validation batches\n"
     ]
    },
    {
     "name": "stderr",
     "output_type": "stream",
     "text": [
      "Epoch 5 [Val]:  96%|█████████▌| 1920/2004 [08:52<00:11,  7.36it/s, Loss=0.0062, Acc=95.30%]"
     ]
    },
    {
     "name": "stdout",
     "output_type": "stream",
     "text": [
      "[2025-02-26 18:41:21] Processed 1920 validation batches\n"
     ]
    },
    {
     "name": "stderr",
     "output_type": "stream",
     "text": [
      "Epoch 5 [Val]:  97%|█████████▋| 1940/2004 [08:57<00:15,  4.21it/s, Loss=0.0693, Acc=95.31%]"
     ]
    },
    {
     "name": "stdout",
     "output_type": "stream",
     "text": [
      "[2025-02-26 18:41:26] Processed 1940 validation batches\n"
     ]
    },
    {
     "name": "stderr",
     "output_type": "stream",
     "text": [
      "Epoch 5 [Val]:  98%|█████████▊| 1960/2004 [09:01<00:10,  4.33it/s, Loss=0.0517, Acc=95.31%]"
     ]
    },
    {
     "name": "stdout",
     "output_type": "stream",
     "text": [
      "[2025-02-26 18:41:30] Processed 1960 validation batches\n"
     ]
    },
    {
     "name": "stderr",
     "output_type": "stream",
     "text": [
      "Epoch 5 [Val]:  99%|█████████▉| 1979/2004 [09:04<00:03,  8.26it/s, Loss=0.2481, Acc=95.05%]"
     ]
    },
    {
     "name": "stdout",
     "output_type": "stream",
     "text": [
      "[2025-02-26 18:41:33] Processed 1980 validation batches\n"
     ]
    },
    {
     "name": "stderr",
     "output_type": "stream",
     "text": [
      "Epoch 5 [Val]: 100%|█████████▉| 1999/2004 [09:06<00:00, 11.31it/s, Loss=0.0150, Acc=95.09%]"
     ]
    },
    {
     "name": "stdout",
     "output_type": "stream",
     "text": [
      "[2025-02-26 18:41:35] Processed 2000 validation batches\n"
     ]
    },
    {
     "name": "stderr",
     "output_type": "stream",
     "text": [
      "Epoch 5 [Val]: 100%|██████████| 2004/2004 [09:06<00:00,  3.67it/s, Loss=0.0065, Acc=95.09%]"
     ]
    },
    {
     "name": "stdout",
     "output_type": "stream",
     "text": [
      "[2025-02-26 18:41:35] Epoch 5 Results:\n",
      "[2025-02-26 18:41:35] Train Loss: 0.3640 | Train Acc: 88.89%\n",
      "[2025-02-26 18:41:35] Val Loss: 0.1614 | Val Acc: 95.09%\n"
     ]
    },
    {
     "name": "stderr",
     "output_type": "stream",
     "text": [
      "\n"
     ]
    },
    {
     "name": "stdout",
     "output_type": "stream",
     "text": [
      "[2025-02-26 18:41:35] Saved best model\n",
      "[2025-02-26 18:41:35] Starting epoch 6/15\n"
     ]
    },
    {
     "name": "stderr",
     "output_type": "stream",
     "text": [
      "Epoch 6 [Train]:   0%|          | 0/2004 [00:00<?, ?it/s, Loss=0.3539, Acc=87.50%]"
     ]
    },
    {
     "name": "stdout",
     "output_type": "stream",
     "text": [
      "[2025-02-26 18:41:36] Processed 0 training batches\n"
     ]
    },
    {
     "name": "stderr",
     "output_type": "stream",
     "text": [
      "Epoch 6 [Train]:   2%|▏         | 50/2004 [00:13<09:09,  3.56it/s, Loss=0.4597, Acc=89.22%]"
     ]
    },
    {
     "name": "stdout",
     "output_type": "stream",
     "text": [
      "[2025-02-26 18:41:49] Processed 50 training batches\n"
     ]
    },
    {
     "name": "stderr",
     "output_type": "stream",
     "text": [
      "Epoch 6 [Train]:   5%|▍         | 100/2004 [00:26<07:52,  4.03it/s, Loss=0.0402, Acc=89.91%]"
     ]
    },
    {
     "name": "stdout",
     "output_type": "stream",
     "text": [
      "[2025-02-26 18:42:02] Processed 100 training batches\n"
     ]
    },
    {
     "name": "stderr",
     "output_type": "stream",
     "text": [
      "Epoch 6 [Train]:   7%|▋         | 150/2004 [00:40<08:43,  3.54it/s, Loss=0.2206, Acc=90.69%]"
     ]
    },
    {
     "name": "stdout",
     "output_type": "stream",
     "text": [
      "[2025-02-26 18:42:16] Processed 150 training batches\n"
     ]
    },
    {
     "name": "stderr",
     "output_type": "stream",
     "text": [
      "Epoch 6 [Train]:  10%|▉         | 200/2004 [00:52<07:49,  3.84it/s, Loss=0.2317, Acc=90.61%]"
     ]
    },
    {
     "name": "stdout",
     "output_type": "stream",
     "text": [
      "[2025-02-26 18:42:28] Processed 200 training batches\n"
     ]
    },
    {
     "name": "stderr",
     "output_type": "stream",
     "text": [
      "Epoch 6 [Train]:  12%|█▏        | 250/2004 [01:05<07:38,  3.82it/s, Loss=0.1621, Acc=90.54%]"
     ]
    },
    {
     "name": "stdout",
     "output_type": "stream",
     "text": [
      "[2025-02-26 18:42:41] Processed 250 training batches\n"
     ]
    },
    {
     "name": "stderr",
     "output_type": "stream",
     "text": [
      "Epoch 6 [Train]:  15%|█▍        | 300/2004 [01:17<06:07,  4.63it/s, Loss=0.3656, Acc=90.41%]"
     ]
    },
    {
     "name": "stdout",
     "output_type": "stream",
     "text": [
      "[2025-02-26 18:42:53] Processed 300 training batches\n"
     ]
    },
    {
     "name": "stderr",
     "output_type": "stream",
     "text": [
      "Epoch 6 [Train]:  17%|█▋        | 350/2004 [01:31<08:24,  3.28it/s, Loss=0.6863, Acc=90.49%]"
     ]
    },
    {
     "name": "stdout",
     "output_type": "stream",
     "text": [
      "[2025-02-26 18:43:07] Processed 350 training batches\n"
     ]
    },
    {
     "name": "stderr",
     "output_type": "stream",
     "text": [
      "Epoch 6 [Train]:  20%|█▉        | 400/2004 [01:44<07:57,  3.36it/s, Loss=0.2564, Acc=90.49%]"
     ]
    },
    {
     "name": "stdout",
     "output_type": "stream",
     "text": [
      "[2025-02-26 18:43:20] Processed 400 training batches\n"
     ]
    },
    {
     "name": "stderr",
     "output_type": "stream",
     "text": [
      "Epoch 6 [Train]:  22%|██▏       | 450/2004 [01:58<07:17,  3.55it/s, Loss=0.0784, Acc=90.26%]"
     ]
    },
    {
     "name": "stdout",
     "output_type": "stream",
     "text": [
      "[2025-02-26 18:43:34] Processed 450 training batches\n"
     ]
    },
    {
     "name": "stderr",
     "output_type": "stream",
     "text": [
      "Epoch 6 [Train]:  25%|██▍       | 500/2004 [02:12<06:50,  3.67it/s, Loss=0.3436, Acc=90.26%]"
     ]
    },
    {
     "name": "stdout",
     "output_type": "stream",
     "text": [
      "[2025-02-26 18:43:48] Processed 500 training batches\n"
     ]
    },
    {
     "name": "stderr",
     "output_type": "stream",
     "text": [
      "Epoch 6 [Train]:  27%|██▋       | 550/2004 [02:26<07:06,  3.41it/s, Loss=0.3574, Acc=90.11%]"
     ]
    },
    {
     "name": "stdout",
     "output_type": "stream",
     "text": [
      "[2025-02-26 18:44:02] Processed 550 training batches\n"
     ]
    },
    {
     "name": "stderr",
     "output_type": "stream",
     "text": [
      "Epoch 6 [Train]:  30%|██▉       | 600/2004 [02:39<06:24,  3.66it/s, Loss=1.1800, Acc=90.13%]"
     ]
    },
    {
     "name": "stdout",
     "output_type": "stream",
     "text": [
      "[2025-02-26 18:44:15] Processed 600 training batches\n"
     ]
    },
    {
     "name": "stderr",
     "output_type": "stream",
     "text": [
      "Epoch 6 [Train]:  32%|███▏      | 650/2004 [02:53<06:44,  3.35it/s, Loss=0.0486, Acc=89.99%]"
     ]
    },
    {
     "name": "stdout",
     "output_type": "stream",
     "text": [
      "[2025-02-26 18:44:29] Processed 650 training batches\n"
     ]
    },
    {
     "name": "stderr",
     "output_type": "stream",
     "text": [
      "Epoch 6 [Train]:  35%|███▍      | 700/2004 [03:09<06:38,  3.27it/s, Loss=1.2092, Acc=90.01%]"
     ]
    },
    {
     "name": "stdout",
     "output_type": "stream",
     "text": [
      "[2025-02-26 18:44:45] Processed 700 training batches\n"
     ]
    },
    {
     "name": "stderr",
     "output_type": "stream",
     "text": [
      "Epoch 6 [Train]:  37%|███▋      | 750/2004 [03:22<05:32,  3.77it/s, Loss=0.1991, Acc=90.09%]"
     ]
    },
    {
     "name": "stdout",
     "output_type": "stream",
     "text": [
      "[2025-02-26 18:44:58] Processed 750 training batches\n"
     ]
    },
    {
     "name": "stderr",
     "output_type": "stream",
     "text": [
      "Epoch 6 [Train]:  40%|███▉      | 800/2004 [03:36<05:09,  3.89it/s, Loss=0.4675, Acc=90.05%]"
     ]
    },
    {
     "name": "stdout",
     "output_type": "stream",
     "text": [
      "[2025-02-26 18:45:12] Processed 800 training batches\n"
     ]
    },
    {
     "name": "stderr",
     "output_type": "stream",
     "text": [
      "Epoch 6 [Train]:  42%|████▏     | 850/2004 [03:50<05:28,  3.51it/s, Loss=0.2368, Acc=90.03%]"
     ]
    },
    {
     "name": "stdout",
     "output_type": "stream",
     "text": [
      "[2025-02-26 18:45:26] Processed 850 training batches\n"
     ]
    },
    {
     "name": "stderr",
     "output_type": "stream",
     "text": [
      "Epoch 6 [Train]:  45%|████▍     | 900/2004 [04:04<05:42,  3.22it/s, Loss=0.5390, Acc=89.98%]"
     ]
    },
    {
     "name": "stdout",
     "output_type": "stream",
     "text": [
      "[2025-02-26 18:45:40] Processed 900 training batches\n"
     ]
    },
    {
     "name": "stderr",
     "output_type": "stream",
     "text": [
      "Epoch 6 [Train]:  47%|████▋     | 950/2004 [04:18<04:42,  3.74it/s, Loss=0.0179, Acc=89.99%]"
     ]
    },
    {
     "name": "stdout",
     "output_type": "stream",
     "text": [
      "[2025-02-26 18:45:54] Processed 950 training batches\n"
     ]
    },
    {
     "name": "stderr",
     "output_type": "stream",
     "text": [
      "Epoch 6 [Train]:  50%|████▉     | 1000/2004 [04:34<04:37,  3.62it/s, Loss=0.1924, Acc=90.01%]"
     ]
    },
    {
     "name": "stdout",
     "output_type": "stream",
     "text": [
      "[2025-02-26 18:46:10] Processed 1000 training batches\n"
     ]
    },
    {
     "name": "stderr",
     "output_type": "stream",
     "text": [
      "Epoch 6 [Train]:  52%|█████▏    | 1050/2004 [04:48<04:29,  3.54it/s, Loss=0.0783, Acc=90.09%]"
     ]
    },
    {
     "name": "stdout",
     "output_type": "stream",
     "text": [
      "[2025-02-26 18:46:24] Processed 1050 training batches\n"
     ]
    },
    {
     "name": "stderr",
     "output_type": "stream",
     "text": [
      "Epoch 6 [Train]:  55%|█████▍    | 1100/2004 [05:02<04:03,  3.71it/s, Loss=0.3180, Acc=90.08%]"
     ]
    },
    {
     "name": "stdout",
     "output_type": "stream",
     "text": [
      "[2025-02-26 18:46:38] Processed 1100 training batches\n"
     ]
    },
    {
     "name": "stderr",
     "output_type": "stream",
     "text": [
      "Epoch 6 [Train]:  57%|█████▋    | 1150/2004 [05:17<03:45,  3.79it/s, Loss=0.0997, Acc=90.12%]"
     ]
    },
    {
     "name": "stdout",
     "output_type": "stream",
     "text": [
      "[2025-02-26 18:46:53] Processed 1150 training batches\n"
     ]
    },
    {
     "name": "stderr",
     "output_type": "stream",
     "text": [
      "Epoch 6 [Train]:  60%|█████▉    | 1200/2004 [05:31<03:33,  3.76it/s, Loss=0.2464, Acc=90.11%]"
     ]
    },
    {
     "name": "stdout",
     "output_type": "stream",
     "text": [
      "[2025-02-26 18:47:07] Processed 1200 training batches\n"
     ]
    },
    {
     "name": "stderr",
     "output_type": "stream",
     "text": [
      "Epoch 6 [Train]:  62%|██████▏   | 1250/2004 [05:46<03:39,  3.44it/s, Loss=0.2672, Acc=90.10%]"
     ]
    },
    {
     "name": "stdout",
     "output_type": "stream",
     "text": [
      "[2025-02-26 18:47:22] Processed 1250 training batches\n"
     ]
    },
    {
     "name": "stderr",
     "output_type": "stream",
     "text": [
      "Epoch 6 [Train]:  65%|██████▍   | 1300/2004 [06:01<03:45,  3.13it/s, Loss=0.2461, Acc=90.07%]"
     ]
    },
    {
     "name": "stdout",
     "output_type": "stream",
     "text": [
      "[2025-02-26 18:47:37] Processed 1300 training batches\n"
     ]
    },
    {
     "name": "stderr",
     "output_type": "stream",
     "text": [
      "Epoch 6 [Train]:  67%|██████▋   | 1350/2004 [06:16<03:14,  3.37it/s, Loss=0.1916, Acc=90.10%]"
     ]
    },
    {
     "name": "stdout",
     "output_type": "stream",
     "text": [
      "[2025-02-26 18:47:52] Processed 1350 training batches\n"
     ]
    },
    {
     "name": "stderr",
     "output_type": "stream",
     "text": [
      "Epoch 6 [Train]:  70%|██████▉   | 1400/2004 [06:31<02:43,  3.69it/s, Loss=0.1991, Acc=90.16%]"
     ]
    },
    {
     "name": "stdout",
     "output_type": "stream",
     "text": [
      "[2025-02-26 18:48:07] Processed 1400 training batches\n"
     ]
    },
    {
     "name": "stderr",
     "output_type": "stream",
     "text": [
      "Epoch 6 [Train]:  72%|███████▏  | 1450/2004 [06:46<02:50,  3.24it/s, Loss=0.0461, Acc=90.17%]"
     ]
    },
    {
     "name": "stdout",
     "output_type": "stream",
     "text": [
      "[2025-02-26 18:48:22] Processed 1450 training batches\n"
     ]
    },
    {
     "name": "stderr",
     "output_type": "stream",
     "text": [
      "Epoch 6 [Train]:  75%|███████▍  | 1500/2004 [07:00<02:40,  3.13it/s, Loss=0.6084, Acc=90.16%]"
     ]
    },
    {
     "name": "stdout",
     "output_type": "stream",
     "text": [
      "[2025-02-26 18:48:36] Processed 1500 training batches\n"
     ]
    },
    {
     "name": "stderr",
     "output_type": "stream",
     "text": [
      "Epoch 6 [Train]:  77%|███████▋  | 1550/2004 [07:14<01:55,  3.94it/s, Loss=0.0792, Acc=90.21%]"
     ]
    },
    {
     "name": "stdout",
     "output_type": "stream",
     "text": [
      "[2025-02-26 18:48:50] Processed 1550 training batches\n"
     ]
    },
    {
     "name": "stderr",
     "output_type": "stream",
     "text": [
      "Epoch 6 [Train]:  80%|███████▉  | 1600/2004 [07:29<01:59,  3.37it/s, Loss=0.0976, Acc=90.19%]"
     ]
    },
    {
     "name": "stdout",
     "output_type": "stream",
     "text": [
      "[2025-02-26 18:49:05] Processed 1600 training batches\n"
     ]
    },
    {
     "name": "stderr",
     "output_type": "stream",
     "text": [
      "Epoch 6 [Train]:  82%|████████▏ | 1650/2004 [07:42<02:01,  2.92it/s, Loss=0.7876, Acc=90.21%]"
     ]
    },
    {
     "name": "stdout",
     "output_type": "stream",
     "text": [
      "[2025-02-26 18:49:18] Processed 1650 training batches\n"
     ]
    },
    {
     "name": "stderr",
     "output_type": "stream",
     "text": [
      "Epoch 6 [Train]:  85%|████████▍ | 1700/2004 [07:56<01:22,  3.67it/s, Loss=0.6240, Acc=90.23%]"
     ]
    },
    {
     "name": "stdout",
     "output_type": "stream",
     "text": [
      "[2025-02-26 18:49:32] Processed 1700 training batches\n"
     ]
    },
    {
     "name": "stderr",
     "output_type": "stream",
     "text": [
      "Epoch 6 [Train]:  87%|████████▋ | 1750/2004 [08:11<01:11,  3.57it/s, Loss=0.9302, Acc=90.15%]"
     ]
    },
    {
     "name": "stdout",
     "output_type": "stream",
     "text": [
      "[2025-02-26 18:49:47] Processed 1750 training batches\n"
     ]
    },
    {
     "name": "stderr",
     "output_type": "stream",
     "text": [
      "Epoch 6 [Train]:  90%|████████▉ | 1800/2004 [08:26<01:00,  3.35it/s, Loss=0.2643, Acc=90.18%]"
     ]
    },
    {
     "name": "stdout",
     "output_type": "stream",
     "text": [
      "[2025-02-26 18:50:02] Processed 1800 training batches\n"
     ]
    },
    {
     "name": "stderr",
     "output_type": "stream",
     "text": [
      "Epoch 6 [Train]:  92%|█████████▏| 1850/2004 [08:41<00:47,  3.24it/s, Loss=0.1888, Acc=90.17%]"
     ]
    },
    {
     "name": "stdout",
     "output_type": "stream",
     "text": [
      "[2025-02-26 18:50:17] Processed 1850 training batches\n"
     ]
    },
    {
     "name": "stderr",
     "output_type": "stream",
     "text": [
      "Epoch 6 [Train]:  95%|█████████▍| 1900/2004 [08:57<00:30,  3.40it/s, Loss=0.2161, Acc=90.19%]"
     ]
    },
    {
     "name": "stdout",
     "output_type": "stream",
     "text": [
      "[2025-02-26 18:50:33] Processed 1900 training batches\n"
     ]
    },
    {
     "name": "stderr",
     "output_type": "stream",
     "text": [
      "Epoch 6 [Train]:  97%|█████████▋| 1950/2004 [09:11<00:17,  3.14it/s, Loss=0.2801, Acc=90.19%]"
     ]
    },
    {
     "name": "stdout",
     "output_type": "stream",
     "text": [
      "[2025-02-26 18:50:47] Processed 1950 training batches\n"
     ]
    },
    {
     "name": "stderr",
     "output_type": "stream",
     "text": [
      "Epoch 6 [Train]: 100%|█████████▉| 2000/2004 [09:26<00:01,  3.94it/s, Loss=0.2957, Acc=90.23%]"
     ]
    },
    {
     "name": "stdout",
     "output_type": "stream",
     "text": [
      "[2025-02-26 18:51:02] Processed 2000 training batches\n"
     ]
    },
    {
     "name": "stderr",
     "output_type": "stream",
     "text": [
      "Epoch 6 [Train]: 100%|██████████| 2004/2004 [09:26<00:00,  3.54it/s, Loss=0.8643, Acc=90.23%]\n",
      "Epoch 6 [Val]:   0%|          | 0/2004 [00:00<?, ?it/s, Loss=1.9476, Acc=31.25%]"
     ]
    },
    {
     "name": "stdout",
     "output_type": "stream",
     "text": [
      "[2025-02-26 18:51:03] Processed 0 validation batches\n"
     ]
    },
    {
     "name": "stderr",
     "output_type": "stream",
     "text": [
      "Epoch 6 [Val]:   1%|          | 20/2004 [00:07<10:06,  3.27it/s, Loss=0.5790, Acc=87.50%]"
     ]
    },
    {
     "name": "stdout",
     "output_type": "stream",
     "text": [
      "[2025-02-26 18:51:09] Processed 20 validation batches\n"
     ]
    },
    {
     "name": "stderr",
     "output_type": "stream",
     "text": [
      "Epoch 6 [Val]:   2%|▏         | 40/2004 [00:12<09:10,  3.57it/s, Loss=0.0135, Acc=91.01%]"
     ]
    },
    {
     "name": "stdout",
     "output_type": "stream",
     "text": [
      "[2025-02-26 18:51:15] Processed 40 validation batches\n"
     ]
    },
    {
     "name": "stderr",
     "output_type": "stream",
     "text": [
      "Epoch 6 [Val]:   3%|▎         | 60/2004 [00:20<12:09,  2.67it/s, Loss=0.1716, Acc=90.68%]"
     ]
    },
    {
     "name": "stdout",
     "output_type": "stream",
     "text": [
      "[2025-02-26 18:51:22] Processed 60 validation batches\n"
     ]
    },
    {
     "name": "stderr",
     "output_type": "stream",
     "text": [
      "Epoch 6 [Val]:   4%|▍         | 80/2004 [00:24<06:43,  4.77it/s, Loss=0.0597, Acc=91.51%]"
     ]
    },
    {
     "name": "stdout",
     "output_type": "stream",
     "text": [
      "[2025-02-26 18:51:27] Processed 80 validation batches\n"
     ]
    },
    {
     "name": "stderr",
     "output_type": "stream",
     "text": [
      "Epoch 6 [Val]:   5%|▍         | 100/2004 [00:34<10:12,  3.11it/s, Loss=0.0379, Acc=91.83%]"
     ]
    },
    {
     "name": "stdout",
     "output_type": "stream",
     "text": [
      "[2025-02-26 18:51:37] Processed 100 validation batches\n"
     ]
    },
    {
     "name": "stderr",
     "output_type": "stream",
     "text": [
      "Epoch 6 [Val]:   6%|▌         | 120/2004 [00:41<07:54,  3.97it/s, Loss=2.6224, Acc=90.44%]"
     ]
    },
    {
     "name": "stdout",
     "output_type": "stream",
     "text": [
      "[2025-02-26 18:51:43] Processed 120 validation batches\n"
     ]
    },
    {
     "name": "stderr",
     "output_type": "stream",
     "text": [
      "Epoch 6 [Val]:   7%|▋         | 140/2004 [00:52<32:07,  1.03s/it, Loss=0.2740, Acc=85.95%]"
     ]
    },
    {
     "name": "stdout",
     "output_type": "stream",
     "text": [
      "[2025-02-26 18:51:54] Processed 140 validation batches\n"
     ]
    },
    {
     "name": "stderr",
     "output_type": "stream",
     "text": [
      "Epoch 6 [Val]:   8%|▊         | 160/2004 [00:57<06:57,  4.41it/s, Loss=0.1468, Acc=85.99%]"
     ]
    },
    {
     "name": "stdout",
     "output_type": "stream",
     "text": [
      "[2025-02-26 18:52:00] Processed 160 validation batches\n"
     ]
    },
    {
     "name": "stderr",
     "output_type": "stream",
     "text": [
      "Epoch 6 [Val]:   9%|▉         | 180/2004 [01:03<11:57,  2.54it/s, Loss=1.4881, Acc=86.22%]"
     ]
    },
    {
     "name": "stdout",
     "output_type": "stream",
     "text": [
      "[2025-02-26 18:52:06] Processed 180 validation batches\n"
     ]
    },
    {
     "name": "stderr",
     "output_type": "stream",
     "text": [
      "Epoch 6 [Val]:  10%|▉         | 200/2004 [01:14<17:34,  1.71it/s, Loss=0.1265, Acc=83.49%]"
     ]
    },
    {
     "name": "stdout",
     "output_type": "stream",
     "text": [
      "[2025-02-26 18:52:16] Processed 200 validation batches\n"
     ]
    },
    {
     "name": "stderr",
     "output_type": "stream",
     "text": [
      "Epoch 6 [Val]:  11%|█         | 220/2004 [01:28<04:42,  6.32it/s, Loss=0.0390, Acc=84.67%]"
     ]
    },
    {
     "name": "stdout",
     "output_type": "stream",
     "text": [
      "[2025-02-26 18:52:30] Processed 220 validation batches\n"
     ]
    },
    {
     "name": "stderr",
     "output_type": "stream",
     "text": [
      "Epoch 6 [Val]:  12%|█▏        | 240/2004 [01:30<03:18,  8.90it/s, Loss=0.0000, Acc=85.84%]"
     ]
    },
    {
     "name": "stdout",
     "output_type": "stream",
     "text": [
      "[2025-02-26 18:52:33] Processed 240 validation batches\n"
     ]
    },
    {
     "name": "stderr",
     "output_type": "stream",
     "text": [
      "Epoch 6 [Val]:  13%|█▎        | 260/2004 [01:32<03:11,  9.12it/s, Loss=0.0024, Acc=86.93%]"
     ]
    },
    {
     "name": "stdout",
     "output_type": "stream",
     "text": [
      "[2025-02-26 18:52:35] Processed 260 validation batches\n"
     ]
    },
    {
     "name": "stderr",
     "output_type": "stream",
     "text": [
      "Epoch 6 [Val]:  14%|█▍        | 280/2004 [01:35<03:08,  9.14it/s, Loss=0.1472, Acc=87.70%]"
     ]
    },
    {
     "name": "stdout",
     "output_type": "stream",
     "text": [
      "[2025-02-26 18:52:37] Processed 280 validation batches\n"
     ]
    },
    {
     "name": "stderr",
     "output_type": "stream",
     "text": [
      "Epoch 6 [Val]:  15%|█▍        | 300/2004 [01:37<03:09,  9.01it/s, Loss=0.1502, Acc=88.46%]"
     ]
    },
    {
     "name": "stdout",
     "output_type": "stream",
     "text": [
      "[2025-02-26 18:52:40] Processed 300 validation batches\n"
     ]
    },
    {
     "name": "stderr",
     "output_type": "stream",
     "text": [
      "Epoch 6 [Val]:  16%|█▌        | 320/2004 [01:39<03:11,  8.78it/s, Loss=0.0503, Acc=89.00%]"
     ]
    },
    {
     "name": "stdout",
     "output_type": "stream",
     "text": [
      "[2025-02-26 18:52:42] Processed 320 validation batches\n"
     ]
    },
    {
     "name": "stderr",
     "output_type": "stream",
     "text": [
      "Epoch 6 [Val]:  17%|█▋        | 340/2004 [01:41<03:04,  9.00it/s, Loss=0.0459, Acc=89.46%]"
     ]
    },
    {
     "name": "stdout",
     "output_type": "stream",
     "text": [
      "[2025-02-26 18:52:44] Processed 340 validation batches\n"
     ]
    },
    {
     "name": "stderr",
     "output_type": "stream",
     "text": [
      "Epoch 6 [Val]:  18%|█▊        | 360/2004 [01:44<03:05,  8.86it/s, Loss=0.0005, Acc=89.98%]"
     ]
    },
    {
     "name": "stdout",
     "output_type": "stream",
     "text": [
      "[2025-02-26 18:52:46] Processed 360 validation batches\n"
     ]
    },
    {
     "name": "stderr",
     "output_type": "stream",
     "text": [
      "Epoch 6 [Val]:  19%|█▉        | 380/2004 [01:46<03:04,  8.80it/s, Loss=0.0027, Acc=90.50%]"
     ]
    },
    {
     "name": "stdout",
     "output_type": "stream",
     "text": [
      "[2025-02-26 18:52:49] Processed 380 validation batches\n"
     ]
    },
    {
     "name": "stderr",
     "output_type": "stream",
     "text": [
      "Epoch 6 [Val]:  20%|█▉        | 400/2004 [01:48<03:03,  8.75it/s, Loss=0.0101, Acc=90.98%]"
     ]
    },
    {
     "name": "stdout",
     "output_type": "stream",
     "text": [
      "[2025-02-26 18:52:51] Processed 400 validation batches\n"
     ]
    },
    {
     "name": "stderr",
     "output_type": "stream",
     "text": [
      "Epoch 6 [Val]:  21%|██        | 420/2004 [01:50<02:54,  9.08it/s, Loss=0.0081, Acc=91.39%]"
     ]
    },
    {
     "name": "stdout",
     "output_type": "stream",
     "text": [
      "[2025-02-26 18:52:53] Processed 420 validation batches\n"
     ]
    },
    {
     "name": "stderr",
     "output_type": "stream",
     "text": [
      "Epoch 6 [Val]:  22%|██▏       | 440/2004 [01:53<02:54,  8.95it/s, Loss=0.0040, Acc=91.78%]"
     ]
    },
    {
     "name": "stdout",
     "output_type": "stream",
     "text": [
      "[2025-02-26 18:52:55] Processed 440 validation batches\n"
     ]
    },
    {
     "name": "stderr",
     "output_type": "stream",
     "text": [
      "Epoch 6 [Val]:  23%|██▎       | 460/2004 [02:06<11:55,  2.16it/s, Loss=0.1455, Acc=92.07%]"
     ]
    },
    {
     "name": "stdout",
     "output_type": "stream",
     "text": [
      "[2025-02-26 18:53:08] Processed 460 validation batches\n"
     ]
    },
    {
     "name": "stderr",
     "output_type": "stream",
     "text": [
      "Epoch 6 [Val]:  24%|██▍       | 480/2004 [02:11<07:34,  3.36it/s, Loss=1.1510, Acc=91.84%]"
     ]
    },
    {
     "name": "stdout",
     "output_type": "stream",
     "text": [
      "[2025-02-26 18:53:14] Processed 480 validation batches\n"
     ]
    },
    {
     "name": "stderr",
     "output_type": "stream",
     "text": [
      "Epoch 6 [Val]:  25%|██▍       | 500/2004 [02:18<02:51,  8.78it/s, Loss=0.0002, Acc=92.08%]"
     ]
    },
    {
     "name": "stdout",
     "output_type": "stream",
     "text": [
      "[2025-02-26 18:53:20] Processed 500 validation batches\n"
     ]
    },
    {
     "name": "stderr",
     "output_type": "stream",
     "text": [
      "Epoch 6 [Val]:  26%|██▌       | 520/2004 [02:20<02:46,  8.91it/s, Loss=0.0021, Acc=92.38%]"
     ]
    },
    {
     "name": "stdout",
     "output_type": "stream",
     "text": [
      "[2025-02-26 18:53:23] Processed 520 validation batches\n"
     ]
    },
    {
     "name": "stderr",
     "output_type": "stream",
     "text": [
      "Epoch 6 [Val]:  27%|██▋       | 540/2004 [02:23<04:05,  5.96it/s, Loss=0.0408, Acc=92.64%]"
     ]
    },
    {
     "name": "stdout",
     "output_type": "stream",
     "text": [
      "[2025-02-26 18:53:25] Processed 540 validation batches\n"
     ]
    },
    {
     "name": "stderr",
     "output_type": "stream",
     "text": [
      "Epoch 6 [Val]:  28%|██▊       | 560/2004 [02:26<03:00,  8.01it/s, Loss=0.0096, Acc=92.89%]"
     ]
    },
    {
     "name": "stdout",
     "output_type": "stream",
     "text": [
      "[2025-02-26 18:53:29] Processed 560 validation batches\n"
     ]
    },
    {
     "name": "stderr",
     "output_type": "stream",
     "text": [
      "Epoch 6 [Val]:  29%|██▉       | 580/2004 [02:30<06:50,  3.47it/s, Loss=0.0038, Acc=93.10%]"
     ]
    },
    {
     "name": "stdout",
     "output_type": "stream",
     "text": [
      "[2025-02-26 18:53:33] Processed 580 validation batches\n"
     ]
    },
    {
     "name": "stderr",
     "output_type": "stream",
     "text": [
      "Epoch 6 [Val]:  30%|██▉       | 600/2004 [02:33<02:52,  8.12it/s, Loss=0.1596, Acc=93.31%]"
     ]
    },
    {
     "name": "stdout",
     "output_type": "stream",
     "text": [
      "[2025-02-26 18:53:35] Processed 600 validation batches\n"
     ]
    },
    {
     "name": "stderr",
     "output_type": "stream",
     "text": [
      "Epoch 6 [Val]:  31%|███       | 620/2004 [02:35<02:51,  8.07it/s, Loss=0.0000, Acc=93.52%]"
     ]
    },
    {
     "name": "stdout",
     "output_type": "stream",
     "text": [
      "[2025-02-26 18:53:38] Processed 620 validation batches\n"
     ]
    },
    {
     "name": "stderr",
     "output_type": "stream",
     "text": [
      "Epoch 6 [Val]:  32%|███▏      | 640/2004 [02:37<02:46,  8.22it/s, Loss=0.0006, Acc=93.72%]"
     ]
    },
    {
     "name": "stdout",
     "output_type": "stream",
     "text": [
      "[2025-02-26 18:53:40] Processed 640 validation batches\n"
     ]
    },
    {
     "name": "stderr",
     "output_type": "stream",
     "text": [
      "Epoch 6 [Val]:  33%|███▎      | 660/2004 [02:40<02:45,  8.12it/s, Loss=0.0002, Acc=93.91%]"
     ]
    },
    {
     "name": "stdout",
     "output_type": "stream",
     "text": [
      "[2025-02-26 18:53:43] Processed 660 validation batches\n"
     ]
    },
    {
     "name": "stderr",
     "output_type": "stream",
     "text": [
      "Epoch 6 [Val]:  34%|███▍      | 680/2004 [02:42<02:41,  8.18it/s, Loss=0.0002, Acc=94.09%]"
     ]
    },
    {
     "name": "stdout",
     "output_type": "stream",
     "text": [
      "[2025-02-26 18:53:45] Processed 680 validation batches\n"
     ]
    },
    {
     "name": "stderr",
     "output_type": "stream",
     "text": [
      "Epoch 6 [Val]:  35%|███▍      | 700/2004 [02:45<02:35,  8.39it/s, Loss=0.0000, Acc=94.26%]"
     ]
    },
    {
     "name": "stdout",
     "output_type": "stream",
     "text": [
      "[2025-02-26 18:53:48] Processed 700 validation batches\n"
     ]
    },
    {
     "name": "stderr",
     "output_type": "stream",
     "text": [
      "Epoch 6 [Val]:  36%|███▌      | 720/2004 [02:47<02:36,  8.20it/s, Loss=0.0161, Acc=94.42%]"
     ]
    },
    {
     "name": "stdout",
     "output_type": "stream",
     "text": [
      "[2025-02-26 18:53:50] Processed 720 validation batches\n"
     ]
    },
    {
     "name": "stderr",
     "output_type": "stream",
     "text": [
      "Epoch 6 [Val]:  37%|███▋      | 740/2004 [02:51<02:37,  8.05it/s, Loss=0.0372, Acc=94.56%]"
     ]
    },
    {
     "name": "stdout",
     "output_type": "stream",
     "text": [
      "[2025-02-26 18:53:54] Processed 740 validation batches\n"
     ]
    },
    {
     "name": "stderr",
     "output_type": "stream",
     "text": [
      "Epoch 6 [Val]:  38%|███▊      | 760/2004 [03:03<06:49,  3.04it/s, Loss=0.0007, Acc=94.64%]"
     ]
    },
    {
     "name": "stdout",
     "output_type": "stream",
     "text": [
      "[2025-02-26 18:54:06] Processed 760 validation batches\n"
     ]
    },
    {
     "name": "stderr",
     "output_type": "stream",
     "text": [
      "Epoch 6 [Val]:  39%|███▉      | 780/2004 [03:12<06:45,  3.02it/s, Loss=0.0001, Acc=94.75%]"
     ]
    },
    {
     "name": "stdout",
     "output_type": "stream",
     "text": [
      "[2025-02-26 18:54:14] Processed 780 validation batches\n"
     ]
    },
    {
     "name": "stderr",
     "output_type": "stream",
     "text": [
      "Epoch 6 [Val]:  40%|███▉      | 800/2004 [03:14<02:32,  7.87it/s, Loss=0.0008, Acc=94.88%]"
     ]
    },
    {
     "name": "stdout",
     "output_type": "stream",
     "text": [
      "[2025-02-26 18:54:17] Processed 800 validation batches\n"
     ]
    },
    {
     "name": "stderr",
     "output_type": "stream",
     "text": [
      "Epoch 6 [Val]:  41%|████      | 820/2004 [03:17<02:23,  8.24it/s, Loss=0.0017, Acc=95.01%]"
     ]
    },
    {
     "name": "stdout",
     "output_type": "stream",
     "text": [
      "[2025-02-26 18:54:19] Processed 820 validation batches\n"
     ]
    },
    {
     "name": "stderr",
     "output_type": "stream",
     "text": [
      "Epoch 6 [Val]:  42%|████▏     | 840/2004 [03:22<04:26,  4.36it/s, Loss=0.1184, Acc=94.95%]"
     ]
    },
    {
     "name": "stdout",
     "output_type": "stream",
     "text": [
      "[2025-02-26 18:54:25] Processed 840 validation batches\n"
     ]
    },
    {
     "name": "stderr",
     "output_type": "stream",
     "text": [
      "Epoch 6 [Val]:  43%|████▎     | 860/2004 [03:28<08:43,  2.19it/s, Loss=0.4663, Acc=94.86%]"
     ]
    },
    {
     "name": "stdout",
     "output_type": "stream",
     "text": [
      "[2025-02-26 18:54:30] Processed 860 validation batches\n"
     ]
    },
    {
     "name": "stderr",
     "output_type": "stream",
     "text": [
      "Epoch 6 [Val]:  44%|████▍     | 880/2004 [03:31<03:12,  5.84it/s, Loss=0.5590, Acc=94.57%]"
     ]
    },
    {
     "name": "stdout",
     "output_type": "stream",
     "text": [
      "[2025-02-26 18:54:34] Processed 880 validation batches\n"
     ]
    },
    {
     "name": "stderr",
     "output_type": "stream",
     "text": [
      "Epoch 6 [Val]:  45%|████▍     | 900/2004 [03:35<03:52,  4.74it/s, Loss=0.0143, Acc=94.21%]"
     ]
    },
    {
     "name": "stdout",
     "output_type": "stream",
     "text": [
      "[2025-02-26 18:54:38] Processed 900 validation batches\n"
     ]
    },
    {
     "name": "stderr",
     "output_type": "stream",
     "text": [
      "Epoch 6 [Val]:  46%|████▌     | 920/2004 [03:40<05:14,  3.45it/s, Loss=0.2117, Acc=94.25%]"
     ]
    },
    {
     "name": "stdout",
     "output_type": "stream",
     "text": [
      "[2025-02-26 18:54:43] Processed 920 validation batches\n"
     ]
    },
    {
     "name": "stderr",
     "output_type": "stream",
     "text": [
      "Epoch 6 [Val]:  47%|████▋     | 940/2004 [03:46<03:38,  4.87it/s, Loss=0.1508, Acc=94.22%]"
     ]
    },
    {
     "name": "stdout",
     "output_type": "stream",
     "text": [
      "[2025-02-26 18:54:49] Processed 940 validation batches\n"
     ]
    },
    {
     "name": "stderr",
     "output_type": "stream",
     "text": [
      "Epoch 6 [Val]:  48%|████▊     | 960/2004 [03:50<03:20,  5.20it/s, Loss=0.3544, Acc=94.20%]"
     ]
    },
    {
     "name": "stdout",
     "output_type": "stream",
     "text": [
      "[2025-02-26 18:54:53] Processed 960 validation batches\n"
     ]
    },
    {
     "name": "stderr",
     "output_type": "stream",
     "text": [
      "Epoch 6 [Val]:  49%|████▉     | 980/2004 [04:01<17:43,  1.04s/it, Loss=0.0537, Acc=94.20%]"
     ]
    },
    {
     "name": "stdout",
     "output_type": "stream",
     "text": [
      "[2025-02-26 18:55:03] Processed 980 validation batches\n"
     ]
    },
    {
     "name": "stderr",
     "output_type": "stream",
     "text": [
      "Epoch 6 [Val]:  50%|████▉     | 1000/2004 [04:07<03:31,  4.75it/s, Loss=0.0398, Acc=94.29%]"
     ]
    },
    {
     "name": "stdout",
     "output_type": "stream",
     "text": [
      "[2025-02-26 18:55:10] Processed 1000 validation batches\n"
     ]
    },
    {
     "name": "stderr",
     "output_type": "stream",
     "text": [
      "Epoch 6 [Val]:  51%|█████     | 1020/2004 [04:12<02:43,  6.02it/s, Loss=0.0868, Acc=94.38%]"
     ]
    },
    {
     "name": "stdout",
     "output_type": "stream",
     "text": [
      "[2025-02-26 18:55:14] Processed 1020 validation batches\n"
     ]
    },
    {
     "name": "stderr",
     "output_type": "stream",
     "text": [
      "Epoch 6 [Val]:  52%|█████▏    | 1040/2004 [04:19<03:11,  5.03it/s, Loss=0.0000, Acc=94.30%]"
     ]
    },
    {
     "name": "stdout",
     "output_type": "stream",
     "text": [
      "[2025-02-26 18:55:22] Processed 1040 validation batches\n"
     ]
    },
    {
     "name": "stderr",
     "output_type": "stream",
     "text": [
      "Epoch 6 [Val]:  53%|█████▎    | 1060/2004 [04:26<05:44,  2.74it/s, Loss=0.0002, Acc=94.40%]"
     ]
    },
    {
     "name": "stdout",
     "output_type": "stream",
     "text": [
      "[2025-02-26 18:55:28] Processed 1060 validation batches\n"
     ]
    },
    {
     "name": "stderr",
     "output_type": "stream",
     "text": [
      "Epoch 6 [Val]:  54%|█████▍    | 1080/2004 [04:35<08:28,  1.82it/s, Loss=0.0009, Acc=94.48%]"
     ]
    },
    {
     "name": "stdout",
     "output_type": "stream",
     "text": [
      "[2025-02-26 18:55:38] Processed 1080 validation batches\n"
     ]
    },
    {
     "name": "stderr",
     "output_type": "stream",
     "text": [
      "Epoch 6 [Val]:  55%|█████▍    | 1100/2004 [04:57<21:08,  1.40s/it, Loss=0.0018, Acc=94.54%]"
     ]
    },
    {
     "name": "stdout",
     "output_type": "stream",
     "text": [
      "[2025-02-26 18:56:00] Processed 1100 validation batches\n"
     ]
    },
    {
     "name": "stderr",
     "output_type": "stream",
     "text": [
      "Epoch 6 [Val]:  56%|█████▌    | 1120/2004 [05:20<18:24,  1.25s/it, Loss=0.0437, Acc=94.61%]"
     ]
    },
    {
     "name": "stdout",
     "output_type": "stream",
     "text": [
      "[2025-02-26 18:56:23] Processed 1120 validation batches\n"
     ]
    },
    {
     "name": "stderr",
     "output_type": "stream",
     "text": [
      "Epoch 6 [Val]:  57%|█████▋    | 1140/2004 [05:24<02:49,  5.11it/s, Loss=0.0026, Acc=94.71%]"
     ]
    },
    {
     "name": "stdout",
     "output_type": "stream",
     "text": [
      "[2025-02-26 18:56:27] Processed 1140 validation batches\n"
     ]
    },
    {
     "name": "stderr",
     "output_type": "stream",
     "text": [
      "Epoch 6 [Val]:  58%|█████▊    | 1160/2004 [05:29<03:11,  4.41it/s, Loss=0.0005, Acc=94.80%]"
     ]
    },
    {
     "name": "stdout",
     "output_type": "stream",
     "text": [
      "[2025-02-26 18:56:31] Processed 1160 validation batches\n"
     ]
    },
    {
     "name": "stderr",
     "output_type": "stream",
     "text": [
      "Epoch 6 [Val]:  59%|█████▉    | 1180/2004 [05:33<02:41,  5.09it/s, Loss=0.0006, Acc=94.89%]"
     ]
    },
    {
     "name": "stdout",
     "output_type": "stream",
     "text": [
      "[2025-02-26 18:56:35] Processed 1180 validation batches\n"
     ]
    },
    {
     "name": "stderr",
     "output_type": "stream",
     "text": [
      "Epoch 6 [Val]:  60%|█████▉    | 1200/2004 [05:35<01:33,  8.64it/s, Loss=0.0004, Acc=94.97%]"
     ]
    },
    {
     "name": "stdout",
     "output_type": "stream",
     "text": [
      "[2025-02-26 18:56:38] Processed 1200 validation batches\n"
     ]
    },
    {
     "name": "stderr",
     "output_type": "stream",
     "text": [
      "Epoch 6 [Val]:  61%|██████    | 1220/2004 [05:38<02:19,  5.61it/s, Loss=0.0420, Acc=95.01%]"
     ]
    },
    {
     "name": "stdout",
     "output_type": "stream",
     "text": [
      "[2025-02-26 18:56:41] Processed 1220 validation batches\n"
     ]
    },
    {
     "name": "stderr",
     "output_type": "stream",
     "text": [
      "Epoch 6 [Val]:  62%|██████▏   | 1240/2004 [05:42<02:24,  5.29it/s, Loss=0.0000, Acc=95.09%]"
     ]
    },
    {
     "name": "stdout",
     "output_type": "stream",
     "text": [
      "[2025-02-26 18:56:45] Processed 1240 validation batches\n"
     ]
    },
    {
     "name": "stderr",
     "output_type": "stream",
     "text": [
      "Epoch 6 [Val]:  63%|██████▎   | 1260/2004 [05:46<02:46,  4.47it/s, Loss=0.0002, Acc=95.17%]"
     ]
    },
    {
     "name": "stdout",
     "output_type": "stream",
     "text": [
      "[2025-02-26 18:56:49] Processed 1260 validation batches\n"
     ]
    },
    {
     "name": "stderr",
     "output_type": "stream",
     "text": [
      "Epoch 6 [Val]:  64%|██████▍   | 1280/2004 [05:50<02:29,  4.83it/s, Loss=0.0008, Acc=95.24%]"
     ]
    },
    {
     "name": "stdout",
     "output_type": "stream",
     "text": [
      "[2025-02-26 18:56:53] Processed 1280 validation batches\n"
     ]
    },
    {
     "name": "stderr",
     "output_type": "stream",
     "text": [
      "Epoch 6 [Val]:  65%|██████▍   | 1300/2004 [05:55<03:16,  3.59it/s, Loss=0.3028, Acc=95.24%]"
     ]
    },
    {
     "name": "stdout",
     "output_type": "stream",
     "text": [
      "[2025-02-26 18:56:58] Processed 1300 validation batches\n"
     ]
    },
    {
     "name": "stderr",
     "output_type": "stream",
     "text": [
      "Epoch 6 [Val]:  66%|██████▌   | 1320/2004 [05:59<02:30,  4.54it/s, Loss=0.0438, Acc=95.26%]"
     ]
    },
    {
     "name": "stdout",
     "output_type": "stream",
     "text": [
      "[2025-02-26 18:57:02] Processed 1320 validation batches\n"
     ]
    },
    {
     "name": "stderr",
     "output_type": "stream",
     "text": [
      "Epoch 6 [Val]:  67%|██████▋   | 1340/2004 [06:04<02:38,  4.20it/s, Loss=0.3288, Acc=95.26%]"
     ]
    },
    {
     "name": "stdout",
     "output_type": "stream",
     "text": [
      "[2025-02-26 18:57:07] Processed 1340 validation batches\n"
     ]
    },
    {
     "name": "stderr",
     "output_type": "stream",
     "text": [
      "Epoch 6 [Val]:  68%|██████▊   | 1360/2004 [06:07<01:45,  6.08it/s, Loss=0.0005, Acc=95.33%]"
     ]
    },
    {
     "name": "stdout",
     "output_type": "stream",
     "text": [
      "[2025-02-26 18:57:10] Processed 1360 validation batches\n"
     ]
    },
    {
     "name": "stderr",
     "output_type": "stream",
     "text": [
      "Epoch 6 [Val]:  69%|██████▉   | 1380/2004 [06:10<01:07,  9.21it/s, Loss=0.0003, Acc=95.39%]"
     ]
    },
    {
     "name": "stdout",
     "output_type": "stream",
     "text": [
      "[2025-02-26 18:57:12] Processed 1380 validation batches\n"
     ]
    },
    {
     "name": "stderr",
     "output_type": "stream",
     "text": [
      "Epoch 6 [Val]:  70%|██████▉   | 1400/2004 [06:12<01:07,  8.88it/s, Loss=0.0821, Acc=95.45%]"
     ]
    },
    {
     "name": "stdout",
     "output_type": "stream",
     "text": [
      "[2025-02-26 18:57:15] Processed 1400 validation batches\n"
     ]
    },
    {
     "name": "stderr",
     "output_type": "stream",
     "text": [
      "Epoch 6 [Val]:  71%|███████   | 1420/2004 [06:14<01:04,  8.99it/s, Loss=0.1113, Acc=95.50%]"
     ]
    },
    {
     "name": "stdout",
     "output_type": "stream",
     "text": [
      "[2025-02-26 18:57:17] Processed 1420 validation batches\n"
     ]
    },
    {
     "name": "stderr",
     "output_type": "stream",
     "text": [
      "Epoch 6 [Val]:  72%|███████▏  | 1440/2004 [06:16<01:04,  8.81it/s, Loss=0.0211, Acc=95.56%]"
     ]
    },
    {
     "name": "stdout",
     "output_type": "stream",
     "text": [
      "[2025-02-26 18:57:19] Processed 1440 validation batches\n"
     ]
    },
    {
     "name": "stderr",
     "output_type": "stream",
     "text": [
      "Epoch 6 [Val]:  73%|███████▎  | 1460/2004 [06:19<00:59,  9.18it/s, Loss=0.1058, Acc=95.62%]"
     ]
    },
    {
     "name": "stdout",
     "output_type": "stream",
     "text": [
      "[2025-02-26 18:57:21] Processed 1460 validation batches\n"
     ]
    },
    {
     "name": "stderr",
     "output_type": "stream",
     "text": [
      "Epoch 6 [Val]:  74%|███████▍  | 1480/2004 [06:21<01:00,  8.66it/s, Loss=0.0069, Acc=95.67%]"
     ]
    },
    {
     "name": "stdout",
     "output_type": "stream",
     "text": [
      "[2025-02-26 18:57:24] Processed 1480 validation batches\n"
     ]
    },
    {
     "name": "stderr",
     "output_type": "stream",
     "text": [
      "Epoch 6 [Val]:  75%|███████▍  | 1500/2004 [06:23<00:57,  8.77it/s, Loss=0.0189, Acc=95.73%]"
     ]
    },
    {
     "name": "stdout",
     "output_type": "stream",
     "text": [
      "[2025-02-26 18:57:26] Processed 1500 validation batches\n"
     ]
    },
    {
     "name": "stderr",
     "output_type": "stream",
     "text": [
      "Epoch 6 [Val]:  76%|███████▌  | 1520/2004 [06:25<00:55,  8.79it/s, Loss=0.0152, Acc=95.79%]"
     ]
    },
    {
     "name": "stdout",
     "output_type": "stream",
     "text": [
      "[2025-02-26 18:57:28] Processed 1520 validation batches\n"
     ]
    },
    {
     "name": "stderr",
     "output_type": "stream",
     "text": [
      "Epoch 6 [Val]:  77%|███████▋  | 1540/2004 [06:30<03:27,  2.23it/s, Loss=0.0028, Acc=95.84%]"
     ]
    },
    {
     "name": "stdout",
     "output_type": "stream",
     "text": [
      "[2025-02-26 18:57:32] Processed 1540 validation batches\n"
     ]
    },
    {
     "name": "stderr",
     "output_type": "stream",
     "text": [
      "Epoch 6 [Val]:  78%|███████▊  | 1560/2004 [06:38<02:10,  3.42it/s, Loss=0.0002, Acc=95.89%]"
     ]
    },
    {
     "name": "stdout",
     "output_type": "stream",
     "text": [
      "[2025-02-26 18:57:41] Processed 1560 validation batches\n"
     ]
    },
    {
     "name": "stderr",
     "output_type": "stream",
     "text": [
      "Epoch 6 [Val]:  79%|███████▉  | 1580/2004 [06:46<01:56,  3.63it/s, Loss=0.0023, Acc=95.92%]"
     ]
    },
    {
     "name": "stdout",
     "output_type": "stream",
     "text": [
      "[2025-02-26 18:57:48] Processed 1580 validation batches\n"
     ]
    },
    {
     "name": "stderr",
     "output_type": "stream",
     "text": [
      "Epoch 6 [Val]:  80%|███████▉  | 1600/2004 [06:48<00:46,  8.68it/s, Loss=0.0689, Acc=95.97%]"
     ]
    },
    {
     "name": "stdout",
     "output_type": "stream",
     "text": [
      "[2025-02-26 18:57:51] Processed 1600 validation batches\n"
     ]
    },
    {
     "name": "stderr",
     "output_type": "stream",
     "text": [
      "Epoch 6 [Val]:  81%|████████  | 1620/2004 [07:03<06:50,  1.07s/it, Loss=0.0142, Acc=96.01%]"
     ]
    },
    {
     "name": "stdout",
     "output_type": "stream",
     "text": [
      "[2025-02-26 18:58:06] Processed 1620 validation batches\n"
     ]
    },
    {
     "name": "stderr",
     "output_type": "stream",
     "text": [
      "Epoch 6 [Val]:  82%|████████▏ | 1640/2004 [07:23<01:59,  3.04it/s, Loss=0.0607, Acc=96.04%]"
     ]
    },
    {
     "name": "stdout",
     "output_type": "stream",
     "text": [
      "[2025-02-26 18:58:26] Processed 1640 validation batches\n"
     ]
    },
    {
     "name": "stderr",
     "output_type": "stream",
     "text": [
      "Epoch 6 [Val]:  83%|████████▎ | 1660/2004 [07:28<01:17,  4.46it/s, Loss=0.0107, Acc=96.06%]"
     ]
    },
    {
     "name": "stdout",
     "output_type": "stream",
     "text": [
      "[2025-02-26 18:58:30] Processed 1660 validation batches\n"
     ]
    },
    {
     "name": "stderr",
     "output_type": "stream",
     "text": [
      "Epoch 6 [Val]:  84%|████████▍ | 1680/2004 [07:33<01:15,  4.29it/s, Loss=0.2977, Acc=95.99%]"
     ]
    },
    {
     "name": "stdout",
     "output_type": "stream",
     "text": [
      "[2025-02-26 18:58:36] Processed 1680 validation batches\n"
     ]
    },
    {
     "name": "stderr",
     "output_type": "stream",
     "text": [
      "Epoch 6 [Val]:  85%|████████▍ | 1700/2004 [07:38<01:06,  4.57it/s, Loss=1.4333, Acc=95.90%]"
     ]
    },
    {
     "name": "stdout",
     "output_type": "stream",
     "text": [
      "[2025-02-26 18:58:40] Processed 1700 validation batches\n"
     ]
    },
    {
     "name": "stderr",
     "output_type": "stream",
     "text": [
      "Epoch 6 [Val]:  86%|████████▌ | 1720/2004 [07:42<01:01,  4.61it/s, Loss=0.0001, Acc=95.90%]"
     ]
    },
    {
     "name": "stdout",
     "output_type": "stream",
     "text": [
      "[2025-02-26 18:58:45] Processed 1720 validation batches\n"
     ]
    },
    {
     "name": "stderr",
     "output_type": "stream",
     "text": [
      "Epoch 6 [Val]:  87%|████████▋ | 1740/2004 [07:47<00:57,  4.63it/s, Loss=0.0010, Acc=95.95%]"
     ]
    },
    {
     "name": "stdout",
     "output_type": "stream",
     "text": [
      "[2025-02-26 18:58:49] Processed 1740 validation batches\n"
     ]
    },
    {
     "name": "stderr",
     "output_type": "stream",
     "text": [
      "Epoch 6 [Val]:  88%|████████▊ | 1760/2004 [07:51<00:52,  4.67it/s, Loss=0.0001, Acc=95.99%]"
     ]
    },
    {
     "name": "stdout",
     "output_type": "stream",
     "text": [
      "[2025-02-26 18:58:54] Processed 1760 validation batches\n"
     ]
    },
    {
     "name": "stderr",
     "output_type": "stream",
     "text": [
      "Epoch 6 [Val]:  89%|████████▉ | 1780/2004 [08:01<01:44,  2.13it/s, Loss=0.0262, Acc=96.02%]"
     ]
    },
    {
     "name": "stdout",
     "output_type": "stream",
     "text": [
      "[2025-02-26 18:59:04] Processed 1780 validation batches\n"
     ]
    },
    {
     "name": "stderr",
     "output_type": "stream",
     "text": [
      "Epoch 6 [Val]:  90%|████████▉ | 1800/2004 [08:05<00:43,  4.71it/s, Loss=0.2754, Acc=96.04%]"
     ]
    },
    {
     "name": "stdout",
     "output_type": "stream",
     "text": [
      "[2025-02-26 18:59:08] Processed 1800 validation batches\n"
     ]
    },
    {
     "name": "stderr",
     "output_type": "stream",
     "text": [
      "Epoch 6 [Val]:  91%|█████████ | 1820/2004 [08:12<00:40,  4.54it/s, Loss=0.0000, Acc=96.05%]"
     ]
    },
    {
     "name": "stdout",
     "output_type": "stream",
     "text": [
      "[2025-02-26 18:59:14] Processed 1820 validation batches\n"
     ]
    },
    {
     "name": "stderr",
     "output_type": "stream",
     "text": [
      "Epoch 6 [Val]:  92%|█████████▏| 1840/2004 [08:16<00:35,  4.60it/s, Loss=0.0001, Acc=96.09%]"
     ]
    },
    {
     "name": "stdout",
     "output_type": "stream",
     "text": [
      "[2025-02-26 18:59:19] Processed 1840 validation batches\n"
     ]
    },
    {
     "name": "stderr",
     "output_type": "stream",
     "text": [
      "Epoch 6 [Val]:  93%|█████████▎| 1860/2004 [08:21<00:30,  4.71it/s, Loss=0.0002, Acc=96.13%]"
     ]
    },
    {
     "name": "stdout",
     "output_type": "stream",
     "text": [
      "[2025-02-26 18:59:23] Processed 1860 validation batches\n"
     ]
    },
    {
     "name": "stderr",
     "output_type": "stream",
     "text": [
      "Epoch 6 [Val]:  94%|█████████▍| 1880/2004 [08:35<01:48,  1.14it/s, Loss=0.0016, Acc=96.18%]"
     ]
    },
    {
     "name": "stdout",
     "output_type": "stream",
     "text": [
      "[2025-02-26 18:59:37] Processed 1880 validation batches\n"
     ]
    },
    {
     "name": "stderr",
     "output_type": "stream",
     "text": [
      "Epoch 6 [Val]:  95%|█████████▍| 1900/2004 [08:42<00:33,  3.12it/s, Loss=0.0021, Acc=96.22%]"
     ]
    },
    {
     "name": "stdout",
     "output_type": "stream",
     "text": [
      "[2025-02-26 18:59:44] Processed 1900 validation batches\n"
     ]
    },
    {
     "name": "stderr",
     "output_type": "stream",
     "text": [
      "Epoch 6 [Val]:  96%|█████████▌| 1920/2004 [08:49<00:11,  7.63it/s, Loss=0.0313, Acc=96.26%]"
     ]
    },
    {
     "name": "stdout",
     "output_type": "stream",
     "text": [
      "[2025-02-26 18:59:52] Processed 1920 validation batches\n"
     ]
    },
    {
     "name": "stderr",
     "output_type": "stream",
     "text": [
      "Epoch 6 [Val]:  97%|█████████▋| 1940/2004 [08:53<00:14,  4.34it/s, Loss=0.0535, Acc=96.24%]"
     ]
    },
    {
     "name": "stdout",
     "output_type": "stream",
     "text": [
      "[2025-02-26 18:59:56] Processed 1940 validation batches\n"
     ]
    },
    {
     "name": "stderr",
     "output_type": "stream",
     "text": [
      "Epoch 6 [Val]:  98%|█████████▊| 1960/2004 [08:58<00:09,  4.46it/s, Loss=0.0354, Acc=96.24%]"
     ]
    },
    {
     "name": "stdout",
     "output_type": "stream",
     "text": [
      "[2025-02-26 19:00:00] Processed 1960 validation batches\n"
     ]
    },
    {
     "name": "stderr",
     "output_type": "stream",
     "text": [
      "Epoch 6 [Val]:  99%|█████████▉| 1979/2004 [09:00<00:03,  8.12it/s, Loss=0.1362, Acc=96.17%]"
     ]
    },
    {
     "name": "stdout",
     "output_type": "stream",
     "text": [
      "[2025-02-26 19:00:03] Processed 1980 validation batches\n"
     ]
    },
    {
     "name": "stderr",
     "output_type": "stream",
     "text": [
      "Epoch 6 [Val]: 100%|█████████▉| 1999/2004 [09:02<00:00, 11.35it/s, Loss=0.0057, Acc=95.79%]"
     ]
    },
    {
     "name": "stdout",
     "output_type": "stream",
     "text": [
      "[2025-02-26 19:00:05] Processed 2000 validation batches\n"
     ]
    },
    {
     "name": "stderr",
     "output_type": "stream",
     "text": [
      "Epoch 6 [Val]: 100%|██████████| 2004/2004 [09:02<00:00,  3.69it/s, Loss=0.0110, Acc=95.79%]"
     ]
    },
    {
     "name": "stdout",
     "output_type": "stream",
     "text": [
      "[2025-02-26 19:00:05] Epoch 6 Results:\n",
      "[2025-02-26 19:00:05] Train Loss: 0.3169 | Train Acc: 90.23%\n",
      "[2025-02-26 19:00:05] Val Loss: 0.1299 | Val Acc: 95.79%\n"
     ]
    },
    {
     "name": "stderr",
     "output_type": "stream",
     "text": [
      "\n"
     ]
    },
    {
     "name": "stdout",
     "output_type": "stream",
     "text": [
      "[2025-02-26 19:00:05] Saved best model\n",
      "[2025-02-26 19:00:05] Starting epoch 7/15\n"
     ]
    },
    {
     "name": "stderr",
     "output_type": "stream",
     "text": [
      "Epoch 7 [Train]:   0%|          | 0/2004 [00:00<?, ?it/s, Loss=0.5037, Acc=87.50%]"
     ]
    },
    {
     "name": "stdout",
     "output_type": "stream",
     "text": [
      "[2025-02-26 19:00:06] Processed 0 training batches\n"
     ]
    },
    {
     "name": "stderr",
     "output_type": "stream",
     "text": [
      "Epoch 7 [Train]:   2%|▏         | 50/2004 [00:13<07:16,  4.47it/s, Loss=0.1631, Acc=90.81%]"
     ]
    },
    {
     "name": "stdout",
     "output_type": "stream",
     "text": [
      "[2025-02-26 19:00:19] Processed 50 training batches\n"
     ]
    },
    {
     "name": "stderr",
     "output_type": "stream",
     "text": [
      "Epoch 7 [Train]:   5%|▍         | 100/2004 [00:27<08:21,  3.80it/s, Loss=0.2313, Acc=91.46%]"
     ]
    },
    {
     "name": "stdout",
     "output_type": "stream",
     "text": [
      "[2025-02-26 19:00:33] Processed 100 training batches\n"
     ]
    },
    {
     "name": "stderr",
     "output_type": "stream",
     "text": [
      "Epoch 7 [Train]:   7%|▋         | 150/2004 [00:40<09:30,  3.25it/s, Loss=0.3411, Acc=91.68%]"
     ]
    },
    {
     "name": "stdout",
     "output_type": "stream",
     "text": [
      "[2025-02-26 19:00:46] Processed 150 training batches\n"
     ]
    },
    {
     "name": "stderr",
     "output_type": "stream",
     "text": [
      "Epoch 7 [Train]:  10%|▉         | 200/2004 [00:54<09:02,  3.33it/s, Loss=0.3401, Acc=92.23%]"
     ]
    },
    {
     "name": "stdout",
     "output_type": "stream",
     "text": [
      "[2025-02-26 19:01:00] Processed 200 training batches\n"
     ]
    },
    {
     "name": "stderr",
     "output_type": "stream",
     "text": [
      "Epoch 7 [Train]:  12%|█▏        | 250/2004 [01:07<07:48,  3.74it/s, Loss=0.3841, Acc=92.43%]"
     ]
    },
    {
     "name": "stdout",
     "output_type": "stream",
     "text": [
      "[2025-02-26 19:01:13] Processed 250 training batches\n"
     ]
    },
    {
     "name": "stderr",
     "output_type": "stream",
     "text": [
      "Epoch 7 [Train]:  15%|█▍        | 300/2004 [01:22<07:56,  3.58it/s, Loss=0.4969, Acc=92.30%]"
     ]
    },
    {
     "name": "stdout",
     "output_type": "stream",
     "text": [
      "[2025-02-26 19:01:28] Processed 300 training batches\n"
     ]
    },
    {
     "name": "stderr",
     "output_type": "stream",
     "text": [
      "Epoch 7 [Train]:  17%|█▋        | 350/2004 [01:36<06:40,  4.13it/s, Loss=0.5498, Acc=92.11%]"
     ]
    },
    {
     "name": "stdout",
     "output_type": "stream",
     "text": [
      "[2025-02-26 19:01:42] Processed 350 training batches\n"
     ]
    },
    {
     "name": "stderr",
     "output_type": "stream",
     "text": [
      "Epoch 7 [Train]:  20%|█▉        | 400/2004 [01:50<07:13,  3.70it/s, Loss=0.1410, Acc=91.85%]"
     ]
    },
    {
     "name": "stdout",
     "output_type": "stream",
     "text": [
      "[2025-02-26 19:01:56] Processed 400 training batches\n"
     ]
    },
    {
     "name": "stderr",
     "output_type": "stream",
     "text": [
      "Epoch 7 [Train]:  22%|██▏       | 450/2004 [02:04<07:02,  3.67it/s, Loss=0.7992, Acc=91.75%]"
     ]
    },
    {
     "name": "stdout",
     "output_type": "stream",
     "text": [
      "[2025-02-26 19:02:10] Processed 450 training batches\n"
     ]
    },
    {
     "name": "stderr",
     "output_type": "stream",
     "text": [
      "Epoch 7 [Train]:  25%|██▍       | 500/2004 [02:18<05:33,  4.51it/s, Loss=0.2958, Acc=91.70%]"
     ]
    },
    {
     "name": "stdout",
     "output_type": "stream",
     "text": [
      "[2025-02-26 19:02:24] Processed 500 training batches\n"
     ]
    },
    {
     "name": "stderr",
     "output_type": "stream",
     "text": [
      "Epoch 7 [Train]:  27%|██▋       | 550/2004 [02:32<07:36,  3.18it/s, Loss=0.6250, Acc=91.52%]"
     ]
    },
    {
     "name": "stdout",
     "output_type": "stream",
     "text": [
      "[2025-02-26 19:02:38] Processed 550 training batches\n"
     ]
    },
    {
     "name": "stderr",
     "output_type": "stream",
     "text": [
      "Epoch 7 [Train]:  30%|██▉       | 600/2004 [02:45<06:44,  3.47it/s, Loss=0.4022, Acc=91.58%]"
     ]
    },
    {
     "name": "stdout",
     "output_type": "stream",
     "text": [
      "[2025-02-26 19:02:51] Processed 600 training batches\n"
     ]
    },
    {
     "name": "stderr",
     "output_type": "stream",
     "text": [
      "Epoch 7 [Train]:  32%|███▏      | 650/2004 [02:59<06:51,  3.29it/s, Loss=0.4674, Acc=91.50%]"
     ]
    },
    {
     "name": "stdout",
     "output_type": "stream",
     "text": [
      "[2025-02-26 19:03:05] Processed 650 training batches\n"
     ]
    },
    {
     "name": "stderr",
     "output_type": "stream",
     "text": [
      "Epoch 7 [Train]:  35%|███▍      | 700/2004 [03:14<07:40,  2.83it/s, Loss=0.1930, Acc=91.53%]"
     ]
    },
    {
     "name": "stdout",
     "output_type": "stream",
     "text": [
      "[2025-02-26 19:03:20] Processed 700 training batches\n"
     ]
    },
    {
     "name": "stderr",
     "output_type": "stream",
     "text": [
      "Epoch 7 [Train]:  37%|███▋      | 750/2004 [03:30<06:56,  3.01it/s, Loss=0.0102, Acc=91.64%]"
     ]
    },
    {
     "name": "stdout",
     "output_type": "stream",
     "text": [
      "[2025-02-26 19:03:36] Processed 750 training batches\n"
     ]
    },
    {
     "name": "stderr",
     "output_type": "stream",
     "text": [
      "Epoch 7 [Train]:  40%|███▉      | 800/2004 [03:45<06:49,  2.94it/s, Loss=0.6937, Acc=91.75%]"
     ]
    },
    {
     "name": "stdout",
     "output_type": "stream",
     "text": [
      "[2025-02-26 19:03:51] Processed 800 training batches\n"
     ]
    },
    {
     "name": "stderr",
     "output_type": "stream",
     "text": [
      "Epoch 7 [Train]:  42%|████▏     | 850/2004 [03:59<05:24,  3.55it/s, Loss=0.0116, Acc=91.75%]"
     ]
    },
    {
     "name": "stdout",
     "output_type": "stream",
     "text": [
      "[2025-02-26 19:04:05] Processed 850 training batches\n"
     ]
    },
    {
     "name": "stderr",
     "output_type": "stream",
     "text": [
      "Epoch 7 [Train]:  45%|████▍     | 900/2004 [04:14<05:00,  3.68it/s, Loss=0.1541, Acc=91.68%]"
     ]
    },
    {
     "name": "stdout",
     "output_type": "stream",
     "text": [
      "[2025-02-26 19:04:20] Processed 900 training batches\n"
     ]
    },
    {
     "name": "stderr",
     "output_type": "stream",
     "text": [
      "Epoch 7 [Train]:  47%|████▋     | 950/2004 [04:28<04:37,  3.80it/s, Loss=0.4517, Acc=91.67%]"
     ]
    },
    {
     "name": "stdout",
     "output_type": "stream",
     "text": [
      "[2025-02-26 19:04:34] Processed 950 training batches\n"
     ]
    },
    {
     "name": "stderr",
     "output_type": "stream",
     "text": [
      "Epoch 7 [Train]:  50%|████▉     | 1000/2004 [04:43<05:10,  3.23it/s, Loss=0.2983, Acc=91.68%]"
     ]
    },
    {
     "name": "stdout",
     "output_type": "stream",
     "text": [
      "[2025-02-26 19:04:49] Processed 1000 training batches\n"
     ]
    },
    {
     "name": "stderr",
     "output_type": "stream",
     "text": [
      "Epoch 7 [Train]:  52%|█████▏    | 1050/2004 [04:57<04:53,  3.25it/s, Loss=0.1418, Acc=91.66%]"
     ]
    },
    {
     "name": "stdout",
     "output_type": "stream",
     "text": [
      "[2025-02-26 19:05:03] Processed 1050 training batches\n"
     ]
    },
    {
     "name": "stderr",
     "output_type": "stream",
     "text": [
      "Epoch 7 [Train]:  55%|█████▍    | 1100/2004 [05:11<04:13,  3.56it/s, Loss=0.1122, Acc=91.61%]"
     ]
    },
    {
     "name": "stdout",
     "output_type": "stream",
     "text": [
      "[2025-02-26 19:05:17] Processed 1100 training batches\n"
     ]
    },
    {
     "name": "stderr",
     "output_type": "stream",
     "text": [
      "Epoch 7 [Train]:  57%|█████▋    | 1150/2004 [05:26<04:34,  3.11it/s, Loss=0.2305, Acc=91.59%]"
     ]
    },
    {
     "name": "stdout",
     "output_type": "stream",
     "text": [
      "[2025-02-26 19:05:32] Processed 1150 training batches\n"
     ]
    },
    {
     "name": "stderr",
     "output_type": "stream",
     "text": [
      "Epoch 7 [Train]:  60%|█████▉    | 1200/2004 [05:41<03:45,  3.57it/s, Loss=0.2859, Acc=91.60%]"
     ]
    },
    {
     "name": "stdout",
     "output_type": "stream",
     "text": [
      "[2025-02-26 19:05:47] Processed 1200 training batches\n"
     ]
    },
    {
     "name": "stderr",
     "output_type": "stream",
     "text": [
      "Epoch 7 [Train]:  62%|██████▏   | 1250/2004 [05:56<04:08,  3.03it/s, Loss=0.4401, Acc=91.63%]"
     ]
    },
    {
     "name": "stdout",
     "output_type": "stream",
     "text": [
      "[2025-02-26 19:06:02] Processed 1250 training batches\n"
     ]
    },
    {
     "name": "stderr",
     "output_type": "stream",
     "text": [
      "Epoch 7 [Train]:  65%|██████▍   | 1300/2004 [06:11<03:35,  3.26it/s, Loss=0.0051, Acc=91.62%]"
     ]
    },
    {
     "name": "stdout",
     "output_type": "stream",
     "text": [
      "[2025-02-26 19:06:17] Processed 1300 training batches\n"
     ]
    },
    {
     "name": "stderr",
     "output_type": "stream",
     "text": [
      "Epoch 7 [Train]:  67%|██████▋   | 1350/2004 [06:25<03:53,  2.80it/s, Loss=0.5309, Acc=91.64%]"
     ]
    },
    {
     "name": "stdout",
     "output_type": "stream",
     "text": [
      "[2025-02-26 19:06:31] Processed 1350 training batches\n"
     ]
    },
    {
     "name": "stderr",
     "output_type": "stream",
     "text": [
      "Epoch 7 [Train]:  70%|██████▉   | 1400/2004 [06:40<03:28,  2.90it/s, Loss=0.6273, Acc=91.63%]"
     ]
    },
    {
     "name": "stdout",
     "output_type": "stream",
     "text": [
      "[2025-02-26 19:06:46] Processed 1400 training batches\n"
     ]
    },
    {
     "name": "stderr",
     "output_type": "stream",
     "text": [
      "Epoch 7 [Train]:  72%|███████▏  | 1450/2004 [06:54<02:37,  3.51it/s, Loss=0.2382, Acc=91.58%]"
     ]
    },
    {
     "name": "stdout",
     "output_type": "stream",
     "text": [
      "[2025-02-26 19:07:00] Processed 1450 training batches\n"
     ]
    },
    {
     "name": "stderr",
     "output_type": "stream",
     "text": [
      "Epoch 7 [Train]:  75%|███████▍  | 1500/2004 [07:09<02:19,  3.63it/s, Loss=0.4272, Acc=91.58%]"
     ]
    },
    {
     "name": "stdout",
     "output_type": "stream",
     "text": [
      "[2025-02-26 19:07:15] Processed 1500 training batches\n"
     ]
    },
    {
     "name": "stderr",
     "output_type": "stream",
     "text": [
      "Epoch 7 [Train]:  77%|███████▋  | 1550/2004 [07:24<02:01,  3.73it/s, Loss=0.1437, Acc=91.63%]"
     ]
    },
    {
     "name": "stdout",
     "output_type": "stream",
     "text": [
      "[2025-02-26 19:07:30] Processed 1550 training batches\n"
     ]
    },
    {
     "name": "stderr",
     "output_type": "stream",
     "text": [
      "Epoch 7 [Train]:  80%|███████▉  | 1600/2004 [07:39<01:48,  3.72it/s, Loss=0.4427, Acc=91.63%]"
     ]
    },
    {
     "name": "stdout",
     "output_type": "stream",
     "text": [
      "[2025-02-26 19:07:45] Processed 1600 training batches\n"
     ]
    },
    {
     "name": "stderr",
     "output_type": "stream",
     "text": [
      "Epoch 7 [Train]:  82%|████████▏ | 1650/2004 [07:54<01:53,  3.11it/s, Loss=0.1785, Acc=91.57%]"
     ]
    },
    {
     "name": "stdout",
     "output_type": "stream",
     "text": [
      "[2025-02-26 19:08:00] Processed 1650 training batches\n"
     ]
    },
    {
     "name": "stderr",
     "output_type": "stream",
     "text": [
      "Epoch 7 [Train]:  85%|████████▍ | 1700/2004 [08:09<01:47,  2.83it/s, Loss=0.0243, Acc=91.59%]"
     ]
    },
    {
     "name": "stdout",
     "output_type": "stream",
     "text": [
      "[2025-02-26 19:08:15] Processed 1700 training batches\n"
     ]
    },
    {
     "name": "stderr",
     "output_type": "stream",
     "text": [
      "Epoch 7 [Train]:  87%|████████▋ | 1750/2004 [08:24<01:23,  3.06it/s, Loss=0.4689, Acc=91.57%]"
     ]
    },
    {
     "name": "stdout",
     "output_type": "stream",
     "text": [
      "[2025-02-26 19:08:30] Processed 1750 training batches\n"
     ]
    },
    {
     "name": "stderr",
     "output_type": "stream",
     "text": [
      "Epoch 7 [Train]:  90%|████████▉ | 1800/2004 [08:38<01:04,  3.18it/s, Loss=0.3695, Acc=91.61%]"
     ]
    },
    {
     "name": "stdout",
     "output_type": "stream",
     "text": [
      "[2025-02-26 19:08:44] Processed 1800 training batches\n"
     ]
    },
    {
     "name": "stderr",
     "output_type": "stream",
     "text": [
      "Epoch 7 [Train]:  92%|█████████▏| 1850/2004 [08:53<00:49,  3.13it/s, Loss=0.2469, Acc=91.61%]"
     ]
    },
    {
     "name": "stdout",
     "output_type": "stream",
     "text": [
      "[2025-02-26 19:08:59] Processed 1850 training batches\n"
     ]
    },
    {
     "name": "stderr",
     "output_type": "stream",
     "text": [
      "Epoch 7 [Train]:  95%|█████████▍| 1900/2004 [09:09<00:32,  3.21it/s, Loss=0.0420, Acc=91.56%]"
     ]
    },
    {
     "name": "stdout",
     "output_type": "stream",
     "text": [
      "[2025-02-26 19:09:14] Processed 1900 training batches\n"
     ]
    },
    {
     "name": "stderr",
     "output_type": "stream",
     "text": [
      "Epoch 7 [Train]:  97%|█████████▋| 1950/2004 [09:23<00:13,  3.99it/s, Loss=0.4222, Acc=91.51%]"
     ]
    },
    {
     "name": "stdout",
     "output_type": "stream",
     "text": [
      "[2025-02-26 19:09:29] Processed 1950 training batches\n"
     ]
    },
    {
     "name": "stderr",
     "output_type": "stream",
     "text": [
      "Epoch 7 [Train]: 100%|█████████▉| 2000/2004 [09:37<00:01,  3.74it/s, Loss=0.5976, Acc=91.52%]"
     ]
    },
    {
     "name": "stdout",
     "output_type": "stream",
     "text": [
      "[2025-02-26 19:09:43] Processed 2000 training batches\n"
     ]
    },
    {
     "name": "stderr",
     "output_type": "stream",
     "text": [
      "Epoch 7 [Train]: 100%|██████████| 2004/2004 [09:37<00:00,  3.47it/s, Loss=0.3504, Acc=91.51%]\n",
      "Epoch 7 [Val]:   0%|          | 0/2004 [00:00<?, ?it/s, Loss=1.6803, Acc=43.75%]"
     ]
    },
    {
     "name": "stdout",
     "output_type": "stream",
     "text": [
      "[2025-02-26 19:09:44] Processed 0 validation batches\n"
     ]
    },
    {
     "name": "stderr",
     "output_type": "stream",
     "text": [
      "Epoch 7 [Val]:   1%|          | 20/2004 [00:07<10:02,  3.29it/s, Loss=0.7718, Acc=89.29%]"
     ]
    },
    {
     "name": "stdout",
     "output_type": "stream",
     "text": [
      "[2025-02-26 19:09:51] Processed 20 validation batches\n"
     ]
    },
    {
     "name": "stderr",
     "output_type": "stream",
     "text": [
      "Epoch 7 [Val]:   2%|▏         | 40/2004 [00:12<09:18,  3.51it/s, Loss=0.0149, Acc=93.29%]"
     ]
    },
    {
     "name": "stdout",
     "output_type": "stream",
     "text": [
      "[2025-02-26 19:09:56] Processed 40 validation batches\n"
     ]
    },
    {
     "name": "stderr",
     "output_type": "stream",
     "text": [
      "Epoch 7 [Val]:   3%|▎         | 60/2004 [00:20<12:08,  2.67it/s, Loss=0.2928, Acc=93.24%]"
     ]
    },
    {
     "name": "stdout",
     "output_type": "stream",
     "text": [
      "[2025-02-26 19:10:03] Processed 60 validation batches\n"
     ]
    },
    {
     "name": "stderr",
     "output_type": "stream",
     "text": [
      "Epoch 7 [Val]:   4%|▍         | 80/2004 [00:24<06:59,  4.58it/s, Loss=0.0169, Acc=92.36%]"
     ]
    },
    {
     "name": "stdout",
     "output_type": "stream",
     "text": [
      "[2025-02-26 19:10:08] Processed 80 validation batches\n"
     ]
    },
    {
     "name": "stderr",
     "output_type": "stream",
     "text": [
      "Epoch 7 [Val]:   5%|▍         | 100/2004 [00:35<10:16,  3.09it/s, Loss=0.0055, Acc=92.57%]"
     ]
    },
    {
     "name": "stdout",
     "output_type": "stream",
     "text": [
      "[2025-02-26 19:10:18] Processed 100 validation batches\n"
     ]
    },
    {
     "name": "stderr",
     "output_type": "stream",
     "text": [
      "Epoch 7 [Val]:   6%|▌         | 120/2004 [00:41<07:40,  4.09it/s, Loss=4.2213, Acc=91.63%]"
     ]
    },
    {
     "name": "stdout",
     "output_type": "stream",
     "text": [
      "[2025-02-26 19:10:25] Processed 120 validation batches\n"
     ]
    },
    {
     "name": "stderr",
     "output_type": "stream",
     "text": [
      "Epoch 7 [Val]:   7%|▋         | 140/2004 [00:52<32:09,  1.04s/it, Loss=0.6429, Acc=87.32%]"
     ]
    },
    {
     "name": "stdout",
     "output_type": "stream",
     "text": [
      "[2025-02-26 19:10:36] Processed 140 validation batches\n"
     ]
    },
    {
     "name": "stderr",
     "output_type": "stream",
     "text": [
      "Epoch 7 [Val]:   8%|▊         | 160/2004 [00:57<06:53,  4.46it/s, Loss=0.0229, Acc=87.38%]"
     ]
    },
    {
     "name": "stdout",
     "output_type": "stream",
     "text": [
      "[2025-02-26 19:10:41] Processed 160 validation batches\n"
     ]
    },
    {
     "name": "stderr",
     "output_type": "stream",
     "text": [
      "Epoch 7 [Val]:   9%|▉         | 180/2004 [01:04<12:01,  2.53it/s, Loss=0.7960, Acc=88.02%]"
     ]
    },
    {
     "name": "stdout",
     "output_type": "stream",
     "text": [
      "[2025-02-26 19:10:47] Processed 180 validation batches\n"
     ]
    },
    {
     "name": "stderr",
     "output_type": "stream",
     "text": [
      "Epoch 7 [Val]:  10%|▉         | 200/2004 [01:14<17:22,  1.73it/s, Loss=0.3448, Acc=86.60%]"
     ]
    },
    {
     "name": "stdout",
     "output_type": "stream",
     "text": [
      "[2025-02-26 19:10:58] Processed 200 validation batches\n"
     ]
    },
    {
     "name": "stderr",
     "output_type": "stream",
     "text": [
      "Epoch 7 [Val]:  11%|█         | 220/2004 [01:28<04:46,  6.22it/s, Loss=0.0059, Acc=87.58%]"
     ]
    },
    {
     "name": "stdout",
     "output_type": "stream",
     "text": [
      "[2025-02-26 19:11:12] Processed 220 validation batches\n"
     ]
    },
    {
     "name": "stderr",
     "output_type": "stream",
     "text": [
      "Epoch 7 [Val]:  12%|█▏        | 240/2004 [01:31<03:17,  8.94it/s, Loss=0.0001, Acc=88.59%]"
     ]
    },
    {
     "name": "stdout",
     "output_type": "stream",
     "text": [
      "[2025-02-26 19:11:15] Processed 240 validation batches\n"
     ]
    },
    {
     "name": "stderr",
     "output_type": "stream",
     "text": [
      "Epoch 7 [Val]:  13%|█▎        | 260/2004 [01:33<03:20,  8.70it/s, Loss=0.0004, Acc=89.46%]"
     ]
    },
    {
     "name": "stdout",
     "output_type": "stream",
     "text": [
      "[2025-02-26 19:11:17] Processed 260 validation batches\n"
     ]
    },
    {
     "name": "stderr",
     "output_type": "stream",
     "text": [
      "Epoch 7 [Val]:  14%|█▍        | 280/2004 [01:35<03:07,  9.20it/s, Loss=0.0015, Acc=90.21%]"
     ]
    },
    {
     "name": "stdout",
     "output_type": "stream",
     "text": [
      "[2025-02-26 19:11:19] Processed 280 validation batches\n"
     ]
    },
    {
     "name": "stderr",
     "output_type": "stream",
     "text": [
      "Epoch 7 [Val]:  15%|█▍        | 300/2004 [01:37<03:10,  8.95it/s, Loss=0.0111, Acc=90.86%]"
     ]
    },
    {
     "name": "stdout",
     "output_type": "stream",
     "text": [
      "[2025-02-26 19:11:21] Processed 300 validation batches\n"
     ]
    },
    {
     "name": "stderr",
     "output_type": "stream",
     "text": [
      "Epoch 7 [Val]:  16%|█▌        | 320/2004 [01:40<03:12,  8.75it/s, Loss=0.0099, Acc=91.41%]"
     ]
    },
    {
     "name": "stdout",
     "output_type": "stream",
     "text": [
      "[2025-02-26 19:11:23] Processed 320 validation batches\n"
     ]
    },
    {
     "name": "stderr",
     "output_type": "stream",
     "text": [
      "Epoch 7 [Val]:  17%|█▋        | 340/2004 [01:42<03:07,  8.89it/s, Loss=0.0020, Acc=91.92%]"
     ]
    },
    {
     "name": "stdout",
     "output_type": "stream",
     "text": [
      "[2025-02-26 19:11:26] Processed 340 validation batches\n"
     ]
    },
    {
     "name": "stderr",
     "output_type": "stream",
     "text": [
      "Epoch 7 [Val]:  18%|█▊        | 360/2004 [01:44<03:09,  8.69it/s, Loss=0.0003, Acc=92.35%]"
     ]
    },
    {
     "name": "stdout",
     "output_type": "stream",
     "text": [
      "[2025-02-26 19:11:28] Processed 360 validation batches\n"
     ]
    },
    {
     "name": "stderr",
     "output_type": "stream",
     "text": [
      "Epoch 7 [Val]:  19%|█▉        | 380/2004 [01:46<03:00,  8.98it/s, Loss=0.0005, Acc=92.75%]"
     ]
    },
    {
     "name": "stdout",
     "output_type": "stream",
     "text": [
      "[2025-02-26 19:11:30] Processed 380 validation batches\n"
     ]
    },
    {
     "name": "stderr",
     "output_type": "stream",
     "text": [
      "Epoch 7 [Val]:  20%|█▉        | 400/2004 [01:49<03:03,  8.73it/s, Loss=0.0057, Acc=93.11%]"
     ]
    },
    {
     "name": "stdout",
     "output_type": "stream",
     "text": [
      "[2025-02-26 19:11:32] Processed 400 validation batches\n"
     ]
    },
    {
     "name": "stderr",
     "output_type": "stream",
     "text": [
      "Epoch 7 [Val]:  21%|██        | 420/2004 [01:51<02:57,  8.92it/s, Loss=0.0020, Acc=93.44%]"
     ]
    },
    {
     "name": "stdout",
     "output_type": "stream",
     "text": [
      "[2025-02-26 19:11:35] Processed 420 validation batches\n"
     ]
    },
    {
     "name": "stderr",
     "output_type": "stream",
     "text": [
      "Epoch 7 [Val]:  22%|██▏       | 440/2004 [01:53<02:57,  8.82it/s, Loss=0.0060, Acc=93.74%]"
     ]
    },
    {
     "name": "stdout",
     "output_type": "stream",
     "text": [
      "[2025-02-26 19:11:37] Processed 440 validation batches\n"
     ]
    },
    {
     "name": "stderr",
     "output_type": "stream",
     "text": [
      "Epoch 7 [Val]:  23%|██▎       | 460/2004 [02:06<11:47,  2.18it/s, Loss=0.1435, Acc=93.90%]"
     ]
    },
    {
     "name": "stdout",
     "output_type": "stream",
     "text": [
      "[2025-02-26 19:11:50] Processed 460 validation batches\n"
     ]
    },
    {
     "name": "stderr",
     "output_type": "stream",
     "text": [
      "Epoch 7 [Val]:  24%|██▍       | 480/2004 [02:12<07:42,  3.29it/s, Loss=0.6667, Acc=93.84%]"
     ]
    },
    {
     "name": "stdout",
     "output_type": "stream",
     "text": [
      "[2025-02-26 19:11:56] Processed 480 validation batches\n"
     ]
    },
    {
     "name": "stderr",
     "output_type": "stream",
     "text": [
      "Epoch 7 [Val]:  25%|██▍       | 500/2004 [02:18<02:52,  8.74it/s, Loss=0.0005, Acc=94.02%]"
     ]
    },
    {
     "name": "stdout",
     "output_type": "stream",
     "text": [
      "[2025-02-26 19:12:02] Processed 500 validation batches\n"
     ]
    },
    {
     "name": "stderr",
     "output_type": "stream",
     "text": [
      "Epoch 7 [Val]:  26%|██▌       | 520/2004 [02:21<02:49,  8.75it/s, Loss=0.0009, Acc=94.25%]"
     ]
    },
    {
     "name": "stdout",
     "output_type": "stream",
     "text": [
      "[2025-02-26 19:12:04] Processed 520 validation batches\n"
     ]
    },
    {
     "name": "stderr",
     "output_type": "stream",
     "text": [
      "Epoch 7 [Val]:  27%|██▋       | 540/2004 [02:23<04:07,  5.93it/s, Loss=0.0139, Acc=94.45%]"
     ]
    },
    {
     "name": "stdout",
     "output_type": "stream",
     "text": [
      "[2025-02-26 19:12:07] Processed 540 validation batches\n"
     ]
    },
    {
     "name": "stderr",
     "output_type": "stream",
     "text": [
      "Epoch 7 [Val]:  28%|██▊       | 560/2004 [02:27<03:05,  7.80it/s, Loss=0.0113, Acc=94.57%]"
     ]
    },
    {
     "name": "stdout",
     "output_type": "stream",
     "text": [
      "[2025-02-26 19:12:10] Processed 560 validation batches\n"
     ]
    },
    {
     "name": "stderr",
     "output_type": "stream",
     "text": [
      "Epoch 7 [Val]:  29%|██▉       | 580/2004 [02:31<06:47,  3.50it/s, Loss=0.0068, Acc=94.75%]"
     ]
    },
    {
     "name": "stdout",
     "output_type": "stream",
     "text": [
      "[2025-02-26 19:12:15] Processed 580 validation batches\n"
     ]
    },
    {
     "name": "stderr",
     "output_type": "stream",
     "text": [
      "Epoch 7 [Val]:  30%|██▉       | 600/2004 [02:33<02:57,  7.89it/s, Loss=0.0005, Acc=94.91%]"
     ]
    },
    {
     "name": "stdout",
     "output_type": "stream",
     "text": [
      "[2025-02-26 19:12:17] Processed 600 validation batches\n"
     ]
    },
    {
     "name": "stderr",
     "output_type": "stream",
     "text": [
      "Epoch 7 [Val]:  31%|███       | 620/2004 [02:36<02:51,  8.08it/s, Loss=0.0002, Acc=95.07%]"
     ]
    },
    {
     "name": "stdout",
     "output_type": "stream",
     "text": [
      "[2025-02-26 19:12:20] Processed 620 validation batches\n"
     ]
    },
    {
     "name": "stderr",
     "output_type": "stream",
     "text": [
      "Epoch 7 [Val]:  32%|███▏      | 640/2004 [02:38<02:47,  8.17it/s, Loss=0.0001, Acc=95.22%]"
     ]
    },
    {
     "name": "stdout",
     "output_type": "stream",
     "text": [
      "[2025-02-26 19:12:22] Processed 640 validation batches\n"
     ]
    },
    {
     "name": "stderr",
     "output_type": "stream",
     "text": [
      "Epoch 7 [Val]:  33%|███▎      | 660/2004 [02:41<02:39,  8.42it/s, Loss=0.0393, Acc=95.33%]"
     ]
    },
    {
     "name": "stdout",
     "output_type": "stream",
     "text": [
      "[2025-02-26 19:12:25] Processed 660 validation batches\n"
     ]
    },
    {
     "name": "stderr",
     "output_type": "stream",
     "text": [
      "Epoch 7 [Val]:  34%|███▍      | 680/2004 [02:43<02:46,  7.95it/s, Loss=0.0000, Acc=95.46%]"
     ]
    },
    {
     "name": "stdout",
     "output_type": "stream",
     "text": [
      "[2025-02-26 19:12:27] Processed 680 validation batches\n"
     ]
    },
    {
     "name": "stderr",
     "output_type": "stream",
     "text": [
      "Epoch 7 [Val]:  35%|███▍      | 700/2004 [02:46<02:39,  8.18it/s, Loss=0.0028, Acc=95.59%]"
     ]
    },
    {
     "name": "stdout",
     "output_type": "stream",
     "text": [
      "[2025-02-26 19:12:30] Processed 700 validation batches\n"
     ]
    },
    {
     "name": "stderr",
     "output_type": "stream",
     "text": [
      "Epoch 7 [Val]:  36%|███▌      | 720/2004 [02:48<02:38,  8.11it/s, Loss=0.0088, Acc=95.69%]"
     ]
    },
    {
     "name": "stdout",
     "output_type": "stream",
     "text": [
      "[2025-02-26 19:12:32] Processed 720 validation batches\n"
     ]
    },
    {
     "name": "stderr",
     "output_type": "stream",
     "text": [
      "Epoch 7 [Val]:  37%|███▋      | 740/2004 [02:52<02:40,  7.89it/s, Loss=0.1335, Acc=95.76%]"
     ]
    },
    {
     "name": "stdout",
     "output_type": "stream",
     "text": [
      "[2025-02-26 19:12:36] Processed 740 validation batches\n"
     ]
    },
    {
     "name": "stderr",
     "output_type": "stream",
     "text": [
      "Epoch 7 [Val]:  38%|███▊      | 760/2004 [03:04<06:28,  3.20it/s, Loss=0.0016, Acc=95.84%]"
     ]
    },
    {
     "name": "stdout",
     "output_type": "stream",
     "text": [
      "[2025-02-26 19:12:47] Processed 760 validation batches\n"
     ]
    },
    {
     "name": "stderr",
     "output_type": "stream",
     "text": [
      "Epoch 7 [Val]:  39%|███▉      | 780/2004 [03:12<06:48,  3.00it/s, Loss=0.0033, Acc=95.89%]"
     ]
    },
    {
     "name": "stdout",
     "output_type": "stream",
     "text": [
      "[2025-02-26 19:12:56] Processed 780 validation batches\n"
     ]
    },
    {
     "name": "stderr",
     "output_type": "stream",
     "text": [
      "Epoch 7 [Val]:  40%|███▉      | 800/2004 [03:15<02:28,  8.11it/s, Loss=0.0023, Acc=95.97%]"
     ]
    },
    {
     "name": "stdout",
     "output_type": "stream",
     "text": [
      "[2025-02-26 19:12:58] Processed 800 validation batches\n"
     ]
    },
    {
     "name": "stderr",
     "output_type": "stream",
     "text": [
      "Epoch 7 [Val]:  41%|████      | 820/2004 [03:17<02:23,  8.24it/s, Loss=0.0924, Acc=96.05%]"
     ]
    },
    {
     "name": "stdout",
     "output_type": "stream",
     "text": [
      "[2025-02-26 19:13:01] Processed 820 validation batches\n"
     ]
    },
    {
     "name": "stderr",
     "output_type": "stream",
     "text": [
      "Epoch 7 [Val]:  42%|████▏     | 840/2004 [03:23<04:24,  4.41it/s, Loss=0.0134, Acc=96.09%]"
     ]
    },
    {
     "name": "stdout",
     "output_type": "stream",
     "text": [
      "[2025-02-26 19:13:07] Processed 840 validation batches\n"
     ]
    },
    {
     "name": "stderr",
     "output_type": "stream",
     "text": [
      "Epoch 7 [Val]:  43%|████▎     | 860/2004 [03:28<08:44,  2.18it/s, Loss=0.3053, Acc=96.15%]"
     ]
    },
    {
     "name": "stdout",
     "output_type": "stream",
     "text": [
      "[2025-02-26 19:13:12] Processed 860 validation batches\n"
     ]
    },
    {
     "name": "stderr",
     "output_type": "stream",
     "text": [
      "Epoch 7 [Val]:  44%|████▍     | 880/2004 [03:32<03:40,  5.11it/s, Loss=0.6060, Acc=95.82%]"
     ]
    },
    {
     "name": "stdout",
     "output_type": "stream",
     "text": [
      "[2025-02-26 19:13:16] Processed 880 validation batches\n"
     ]
    },
    {
     "name": "stderr",
     "output_type": "stream",
     "text": [
      "Epoch 7 [Val]:  45%|████▍     | 900/2004 [03:36<04:00,  4.60it/s, Loss=0.0038, Acc=95.61%]"
     ]
    },
    {
     "name": "stdout",
     "output_type": "stream",
     "text": [
      "[2025-02-26 19:13:20] Processed 900 validation batches\n"
     ]
    },
    {
     "name": "stderr",
     "output_type": "stream",
     "text": [
      "Epoch 7 [Val]:  46%|████▌     | 920/2004 [03:42<05:19,  3.40it/s, Loss=0.1244, Acc=95.66%]"
     ]
    },
    {
     "name": "stdout",
     "output_type": "stream",
     "text": [
      "[2025-02-26 19:13:26] Processed 920 validation batches\n"
     ]
    },
    {
     "name": "stderr",
     "output_type": "stream",
     "text": [
      "Epoch 7 [Val]:  47%|████▋     | 940/2004 [03:47<03:40,  4.82it/s, Loss=0.1819, Acc=95.62%]"
     ]
    },
    {
     "name": "stdout",
     "output_type": "stream",
     "text": [
      "[2025-02-26 19:13:31] Processed 940 validation batches\n"
     ]
    },
    {
     "name": "stderr",
     "output_type": "stream",
     "text": [
      "Epoch 7 [Val]:  48%|████▊     | 960/2004 [03:51<03:32,  4.91it/s, Loss=0.2598, Acc=95.45%]"
     ]
    },
    {
     "name": "stdout",
     "output_type": "stream",
     "text": [
      "[2025-02-26 19:13:35] Processed 960 validation batches\n"
     ]
    },
    {
     "name": "stderr",
     "output_type": "stream",
     "text": [
      "Epoch 7 [Val]:  49%|████▉     | 980/2004 [04:02<18:31,  1.09s/it, Loss=0.0991, Acc=95.35%]"
     ]
    },
    {
     "name": "stdout",
     "output_type": "stream",
     "text": [
      "[2025-02-26 19:13:46] Processed 980 validation batches\n"
     ]
    },
    {
     "name": "stderr",
     "output_type": "stream",
     "text": [
      "Epoch 7 [Val]:  50%|████▉     | 1000/2004 [04:09<03:33,  4.71it/s, Loss=0.5335, Acc=95.31%]"
     ]
    },
    {
     "name": "stdout",
     "output_type": "stream",
     "text": [
      "[2025-02-26 19:13:53] Processed 1000 validation batches\n"
     ]
    },
    {
     "name": "stderr",
     "output_type": "stream",
     "text": [
      "Epoch 7 [Val]:  51%|█████     | 1020/2004 [04:14<02:53,  5.66it/s, Loss=0.0799, Acc=95.38%]"
     ]
    },
    {
     "name": "stdout",
     "output_type": "stream",
     "text": [
      "[2025-02-26 19:13:58] Processed 1020 validation batches\n"
     ]
    },
    {
     "name": "stderr",
     "output_type": "stream",
     "text": [
      "Epoch 7 [Val]:  52%|█████▏    | 1040/2004 [04:21<03:30,  4.57it/s, Loss=0.0001, Acc=95.34%]"
     ]
    },
    {
     "name": "stdout",
     "output_type": "stream",
     "text": [
      "[2025-02-26 19:14:05] Processed 1040 validation batches\n"
     ]
    },
    {
     "name": "stderr",
     "output_type": "stream",
     "text": [
      "Epoch 7 [Val]:  53%|█████▎    | 1060/2004 [04:27<05:13,  3.02it/s, Loss=0.0003, Acc=95.42%]"
     ]
    },
    {
     "name": "stdout",
     "output_type": "stream",
     "text": [
      "[2025-02-26 19:14:11] Processed 1060 validation batches\n"
     ]
    },
    {
     "name": "stderr",
     "output_type": "stream",
     "text": [
      "Epoch 7 [Val]:  54%|█████▍    | 1080/2004 [04:36<07:46,  1.98it/s, Loss=0.0001, Acc=95.48%]"
     ]
    },
    {
     "name": "stdout",
     "output_type": "stream",
     "text": [
      "[2025-02-26 19:14:20] Processed 1080 validation batches\n"
     ]
    },
    {
     "name": "stderr",
     "output_type": "stream",
     "text": [
      "Epoch 7 [Val]:  55%|█████▍    | 1100/2004 [04:58<20:41,  1.37s/it, Loss=0.0010, Acc=95.54%]"
     ]
    },
    {
     "name": "stdout",
     "output_type": "stream",
     "text": [
      "[2025-02-26 19:14:42] Processed 1100 validation batches\n"
     ]
    },
    {
     "name": "stderr",
     "output_type": "stream",
     "text": [
      "Epoch 7 [Val]:  56%|█████▌    | 1120/2004 [05:21<18:17,  1.24s/it, Loss=0.1330, Acc=95.60%]"
     ]
    },
    {
     "name": "stdout",
     "output_type": "stream",
     "text": [
      "[2025-02-26 19:15:05] Processed 1120 validation batches\n"
     ]
    },
    {
     "name": "stderr",
     "output_type": "stream",
     "text": [
      "Epoch 7 [Val]:  57%|█████▋    | 1140/2004 [05:25<02:35,  5.55it/s, Loss=0.0001, Acc=95.67%]"
     ]
    },
    {
     "name": "stdout",
     "output_type": "stream",
     "text": [
      "[2025-02-26 19:15:09] Processed 1140 validation batches\n"
     ]
    },
    {
     "name": "stderr",
     "output_type": "stream",
     "text": [
      "Epoch 7 [Val]:  58%|█████▊    | 1160/2004 [05:29<02:59,  4.69it/s, Loss=0.0031, Acc=95.75%]"
     ]
    },
    {
     "name": "stdout",
     "output_type": "stream",
     "text": [
      "[2025-02-26 19:15:13] Processed 1160 validation batches\n"
     ]
    },
    {
     "name": "stderr",
     "output_type": "stream",
     "text": [
      "Epoch 7 [Val]:  59%|█████▉    | 1180/2004 [05:33<02:30,  5.48it/s, Loss=0.0000, Acc=95.82%]"
     ]
    },
    {
     "name": "stdout",
     "output_type": "stream",
     "text": [
      "[2025-02-26 19:15:17] Processed 1180 validation batches\n"
     ]
    },
    {
     "name": "stderr",
     "output_type": "stream",
     "text": [
      "Epoch 7 [Val]:  60%|█████▉    | 1200/2004 [05:35<01:33,  8.59it/s, Loss=0.0007, Acc=95.87%]"
     ]
    },
    {
     "name": "stdout",
     "output_type": "stream",
     "text": [
      "[2025-02-26 19:15:19] Processed 1200 validation batches\n"
     ]
    },
    {
     "name": "stderr",
     "output_type": "stream",
     "text": [
      "Epoch 7 [Val]:  61%|██████    | 1220/2004 [05:39<02:20,  5.58it/s, Loss=0.0095, Acc=95.92%]"
     ]
    },
    {
     "name": "stdout",
     "output_type": "stream",
     "text": [
      "[2025-02-26 19:15:23] Processed 1220 validation batches\n"
     ]
    },
    {
     "name": "stderr",
     "output_type": "stream",
     "text": [
      "Epoch 7 [Val]:  62%|██████▏   | 1240/2004 [05:42<02:22,  5.38it/s, Loss=0.0001, Acc=95.98%]"
     ]
    },
    {
     "name": "stdout",
     "output_type": "stream",
     "text": [
      "[2025-02-26 19:15:26] Processed 1240 validation batches\n"
     ]
    },
    {
     "name": "stderr",
     "output_type": "stream",
     "text": [
      "Epoch 7 [Val]:  63%|██████▎   | 1260/2004 [05:47<02:49,  4.39it/s, Loss=0.0009, Acc=96.04%]"
     ]
    },
    {
     "name": "stdout",
     "output_type": "stream",
     "text": [
      "[2025-02-26 19:15:31] Processed 1260 validation batches\n"
     ]
    },
    {
     "name": "stderr",
     "output_type": "stream",
     "text": [
      "Epoch 7 [Val]:  64%|██████▍   | 1280/2004 [05:51<02:29,  4.86it/s, Loss=0.0009, Acc=96.11%]"
     ]
    },
    {
     "name": "stdout",
     "output_type": "stream",
     "text": [
      "[2025-02-26 19:15:35] Processed 1280 validation batches\n"
     ]
    },
    {
     "name": "stderr",
     "output_type": "stream",
     "text": [
      "Epoch 7 [Val]:  65%|██████▍   | 1300/2004 [05:55<02:58,  3.95it/s, Loss=0.2566, Acc=96.11%]"
     ]
    },
    {
     "name": "stdout",
     "output_type": "stream",
     "text": [
      "[2025-02-26 19:15:39] Processed 1300 validation batches\n"
     ]
    },
    {
     "name": "stderr",
     "output_type": "stream",
     "text": [
      "Epoch 7 [Val]:  66%|██████▌   | 1320/2004 [06:00<02:19,  4.91it/s, Loss=0.0570, Acc=96.13%]"
     ]
    },
    {
     "name": "stdout",
     "output_type": "stream",
     "text": [
      "[2025-02-26 19:15:43] Processed 1320 validation batches\n"
     ]
    },
    {
     "name": "stderr",
     "output_type": "stream",
     "text": [
      "Epoch 7 [Val]:  67%|██████▋   | 1340/2004 [06:04<02:36,  4.25it/s, Loss=0.9803, Acc=96.04%]"
     ]
    },
    {
     "name": "stdout",
     "output_type": "stream",
     "text": [
      "[2025-02-26 19:15:48] Processed 1340 validation batches\n"
     ]
    },
    {
     "name": "stderr",
     "output_type": "stream",
     "text": [
      "Epoch 7 [Val]:  68%|██████▊   | 1360/2004 [06:08<01:49,  5.90it/s, Loss=0.1023, Acc=96.07%]"
     ]
    },
    {
     "name": "stdout",
     "output_type": "stream",
     "text": [
      "[2025-02-26 19:15:51] Processed 1360 validation batches\n"
     ]
    },
    {
     "name": "stderr",
     "output_type": "stream",
     "text": [
      "Epoch 7 [Val]:  69%|██████▉   | 1380/2004 [06:10<01:09,  9.02it/s, Loss=0.0010, Acc=96.12%]"
     ]
    },
    {
     "name": "stdout",
     "output_type": "stream",
     "text": [
      "[2025-02-26 19:15:54] Processed 1380 validation batches\n"
     ]
    },
    {
     "name": "stderr",
     "output_type": "stream",
     "text": [
      "Epoch 7 [Val]:  70%|██████▉   | 1400/2004 [06:12<01:06,  9.07it/s, Loss=0.0418, Acc=96.18%]"
     ]
    },
    {
     "name": "stdout",
     "output_type": "stream",
     "text": [
      "[2025-02-26 19:15:56] Processed 1400 validation batches\n"
     ]
    },
    {
     "name": "stderr",
     "output_type": "stream",
     "text": [
      "Epoch 7 [Val]:  71%|███████   | 1420/2004 [06:14<01:03,  9.14it/s, Loss=0.1312, Acc=96.22%]"
     ]
    },
    {
     "name": "stdout",
     "output_type": "stream",
     "text": [
      "[2025-02-26 19:15:58] Processed 1420 validation batches\n"
     ]
    },
    {
     "name": "stderr",
     "output_type": "stream",
     "text": [
      "Epoch 7 [Val]:  72%|███████▏  | 1440/2004 [06:16<01:01,  9.11it/s, Loss=0.0396, Acc=96.27%]"
     ]
    },
    {
     "name": "stdout",
     "output_type": "stream",
     "text": [
      "[2025-02-26 19:16:00] Processed 1440 validation batches\n"
     ]
    },
    {
     "name": "stderr",
     "output_type": "stream",
     "text": [
      "Epoch 7 [Val]:  73%|███████▎  | 1460/2004 [06:19<01:02,  8.65it/s, Loss=0.0349, Acc=96.32%]"
     ]
    },
    {
     "name": "stdout",
     "output_type": "stream",
     "text": [
      "[2025-02-26 19:16:03] Processed 1460 validation batches\n"
     ]
    },
    {
     "name": "stderr",
     "output_type": "stream",
     "text": [
      "Epoch 7 [Val]:  74%|███████▍  | 1480/2004 [06:21<01:00,  8.73it/s, Loss=0.0057, Acc=96.37%]"
     ]
    },
    {
     "name": "stdout",
     "output_type": "stream",
     "text": [
      "[2025-02-26 19:16:05] Processed 1480 validation batches\n"
     ]
    },
    {
     "name": "stderr",
     "output_type": "stream",
     "text": [
      "Epoch 7 [Val]:  75%|███████▍  | 1500/2004 [06:23<01:04,  7.77it/s, Loss=0.0044, Acc=96.41%]"
     ]
    },
    {
     "name": "stdout",
     "output_type": "stream",
     "text": [
      "[2025-02-26 19:16:07] Processed 1500 validation batches\n"
     ]
    },
    {
     "name": "stderr",
     "output_type": "stream",
     "text": [
      "Epoch 7 [Val]:  76%|███████▌  | 1520/2004 [06:26<00:55,  8.75it/s, Loss=0.0064, Acc=96.46%]"
     ]
    },
    {
     "name": "stdout",
     "output_type": "stream",
     "text": [
      "[2025-02-26 19:16:09] Processed 1520 validation batches\n"
     ]
    },
    {
     "name": "stderr",
     "output_type": "stream",
     "text": [
      "Epoch 7 [Val]:  77%|███████▋  | 1540/2004 [06:30<03:44,  2.07it/s, Loss=0.0082, Acc=96.50%]"
     ]
    },
    {
     "name": "stdout",
     "output_type": "stream",
     "text": [
      "[2025-02-26 19:16:14] Processed 1540 validation batches\n"
     ]
    },
    {
     "name": "stderr",
     "output_type": "stream",
     "text": [
      "Epoch 7 [Val]:  78%|███████▊  | 1560/2004 [06:39<02:12,  3.36it/s, Loss=0.0004, Acc=96.53%]"
     ]
    },
    {
     "name": "stdout",
     "output_type": "stream",
     "text": [
      "[2025-02-26 19:16:23] Processed 1560 validation batches\n"
     ]
    },
    {
     "name": "stderr",
     "output_type": "stream",
     "text": [
      "Epoch 7 [Val]:  79%|███████▉  | 1580/2004 [06:46<01:52,  3.78it/s, Loss=0.0030, Acc=96.55%]"
     ]
    },
    {
     "name": "stdout",
     "output_type": "stream",
     "text": [
      "[2025-02-26 19:16:30] Processed 1580 validation batches\n"
     ]
    },
    {
     "name": "stderr",
     "output_type": "stream",
     "text": [
      "Epoch 7 [Val]:  80%|███████▉  | 1600/2004 [06:49<00:46,  8.76it/s, Loss=0.0298, Acc=96.59%]"
     ]
    },
    {
     "name": "stdout",
     "output_type": "stream",
     "text": [
      "[2025-02-26 19:16:33] Processed 1600 validation batches\n"
     ]
    },
    {
     "name": "stderr",
     "output_type": "stream",
     "text": [
      "Epoch 7 [Val]:  81%|████████  | 1620/2004 [07:04<06:50,  1.07s/it, Loss=0.0040, Acc=96.63%]"
     ]
    },
    {
     "name": "stdout",
     "output_type": "stream",
     "text": [
      "[2025-02-26 19:16:48] Processed 1620 validation batches\n"
     ]
    },
    {
     "name": "stderr",
     "output_type": "stream",
     "text": [
      "Epoch 7 [Val]:  82%|████████▏ | 1640/2004 [07:24<01:58,  3.06it/s, Loss=0.0094, Acc=96.64%]"
     ]
    },
    {
     "name": "stdout",
     "output_type": "stream",
     "text": [
      "[2025-02-26 19:17:08] Processed 1640 validation batches\n"
     ]
    },
    {
     "name": "stderr",
     "output_type": "stream",
     "text": [
      "Epoch 7 [Val]:  83%|████████▎ | 1660/2004 [07:28<01:18,  4.39it/s, Loss=0.0026, Acc=96.67%]"
     ]
    },
    {
     "name": "stdout",
     "output_type": "stream",
     "text": [
      "[2025-02-26 19:17:12] Processed 1660 validation batches\n"
     ]
    },
    {
     "name": "stderr",
     "output_type": "stream",
     "text": [
      "Epoch 7 [Val]:  84%|████████▍ | 1680/2004 [07:33<01:14,  4.33it/s, Loss=0.2116, Acc=96.60%]"
     ]
    },
    {
     "name": "stdout",
     "output_type": "stream",
     "text": [
      "[2025-02-26 19:17:17] Processed 1680 validation batches\n"
     ]
    },
    {
     "name": "stderr",
     "output_type": "stream",
     "text": [
      "Epoch 7 [Val]:  85%|████████▍ | 1700/2004 [07:38<01:07,  4.53it/s, Loss=1.2169, Acc=96.52%]"
     ]
    },
    {
     "name": "stdout",
     "output_type": "stream",
     "text": [
      "[2025-02-26 19:17:22] Processed 1700 validation batches\n"
     ]
    },
    {
     "name": "stderr",
     "output_type": "stream",
     "text": [
      "Epoch 7 [Val]:  86%|████████▌ | 1720/2004 [07:43<01:00,  4.66it/s, Loss=0.0000, Acc=96.49%]"
     ]
    },
    {
     "name": "stdout",
     "output_type": "stream",
     "text": [
      "[2025-02-26 19:17:27] Processed 1720 validation batches\n"
     ]
    },
    {
     "name": "stderr",
     "output_type": "stream",
     "text": [
      "Epoch 7 [Val]:  87%|████████▋ | 1740/2004 [07:47<00:56,  4.64it/s, Loss=0.0026, Acc=96.53%]"
     ]
    },
    {
     "name": "stdout",
     "output_type": "stream",
     "text": [
      "[2025-02-26 19:17:31] Processed 1740 validation batches\n"
     ]
    },
    {
     "name": "stderr",
     "output_type": "stream",
     "text": [
      "Epoch 7 [Val]:  88%|████████▊ | 1760/2004 [07:51<00:52,  4.61it/s, Loss=0.0000, Acc=96.57%]"
     ]
    },
    {
     "name": "stdout",
     "output_type": "stream",
     "text": [
      "[2025-02-26 19:17:35] Processed 1760 validation batches\n"
     ]
    },
    {
     "name": "stderr",
     "output_type": "stream",
     "text": [
      "Epoch 7 [Val]:  89%|████████▉ | 1780/2004 [08:01<01:44,  2.15it/s, Loss=0.0000, Acc=96.61%]"
     ]
    },
    {
     "name": "stdout",
     "output_type": "stream",
     "text": [
      "[2025-02-26 19:17:45] Processed 1780 validation batches\n"
     ]
    },
    {
     "name": "stderr",
     "output_type": "stream",
     "text": [
      "Epoch 7 [Val]:  90%|████████▉ | 1800/2004 [08:06<00:40,  4.98it/s, Loss=0.0004, Acc=96.64%]"
     ]
    },
    {
     "name": "stdout",
     "output_type": "stream",
     "text": [
      "[2025-02-26 19:17:49] Processed 1800 validation batches\n"
     ]
    },
    {
     "name": "stderr",
     "output_type": "stream",
     "text": [
      "Epoch 7 [Val]:  91%|█████████ | 1820/2004 [08:12<00:38,  4.76it/s, Loss=0.0000, Acc=96.68%]"
     ]
    },
    {
     "name": "stdout",
     "output_type": "stream",
     "text": [
      "[2025-02-26 19:17:56] Processed 1820 validation batches\n"
     ]
    },
    {
     "name": "stderr",
     "output_type": "stream",
     "text": [
      "Epoch 7 [Val]:  92%|█████████▏| 1840/2004 [08:16<00:36,  4.51it/s, Loss=0.0469, Acc=96.72%]"
     ]
    },
    {
     "name": "stdout",
     "output_type": "stream",
     "text": [
      "[2025-02-26 19:18:00] Processed 1840 validation batches\n"
     ]
    },
    {
     "name": "stderr",
     "output_type": "stream",
     "text": [
      "Epoch 7 [Val]:  93%|█████████▎| 1860/2004 [08:21<00:30,  4.74it/s, Loss=0.0012, Acc=96.74%]"
     ]
    },
    {
     "name": "stdout",
     "output_type": "stream",
     "text": [
      "[2025-02-26 19:18:04] Processed 1860 validation batches\n"
     ]
    },
    {
     "name": "stderr",
     "output_type": "stream",
     "text": [
      "Epoch 7 [Val]:  94%|█████████▍| 1880/2004 [08:35<01:47,  1.15it/s, Loss=0.0020, Acc=96.77%]"
     ]
    },
    {
     "name": "stdout",
     "output_type": "stream",
     "text": [
      "[2025-02-26 19:18:18] Processed 1880 validation batches\n"
     ]
    },
    {
     "name": "stderr",
     "output_type": "stream",
     "text": [
      "Epoch 7 [Val]:  95%|█████████▍| 1900/2004 [08:42<00:32,  3.19it/s, Loss=0.0003, Acc=96.80%]"
     ]
    },
    {
     "name": "stdout",
     "output_type": "stream",
     "text": [
      "[2025-02-26 19:18:25] Processed 1900 validation batches\n"
     ]
    },
    {
     "name": "stderr",
     "output_type": "stream",
     "text": [
      "Epoch 7 [Val]:  96%|█████████▌| 1920/2004 [08:49<00:11,  7.53it/s, Loss=0.0178, Acc=96.83%]"
     ]
    },
    {
     "name": "stdout",
     "output_type": "stream",
     "text": [
      "[2025-02-26 19:18:33] Processed 1920 validation batches\n"
     ]
    },
    {
     "name": "stderr",
     "output_type": "stream",
     "text": [
      "Epoch 7 [Val]:  97%|█████████▋| 1940/2004 [08:53<00:15,  4.25it/s, Loss=0.1117, Acc=96.81%]"
     ]
    },
    {
     "name": "stdout",
     "output_type": "stream",
     "text": [
      "[2025-02-26 19:18:37] Processed 1940 validation batches\n"
     ]
    },
    {
     "name": "stderr",
     "output_type": "stream",
     "text": [
      "Epoch 7 [Val]:  98%|█████████▊| 1960/2004 [08:57<00:10,  4.24it/s, Loss=0.0213, Acc=96.83%]"
     ]
    },
    {
     "name": "stdout",
     "output_type": "stream",
     "text": [
      "[2025-02-26 19:18:41] Processed 1960 validation batches\n"
     ]
    },
    {
     "name": "stderr",
     "output_type": "stream",
     "text": [
      "Epoch 7 [Val]:  99%|█████████▉| 1979/2004 [09:00<00:03,  8.22it/s, Loss=0.1378, Acc=96.79%]"
     ]
    },
    {
     "name": "stdout",
     "output_type": "stream",
     "text": [
      "[2025-02-26 19:18:44] Processed 1980 validation batches\n"
     ]
    },
    {
     "name": "stderr",
     "output_type": "stream",
     "text": [
      "Epoch 7 [Val]: 100%|█████████▉| 1999/2004 [09:02<00:00, 11.29it/s, Loss=0.0006, Acc=96.70%]"
     ]
    },
    {
     "name": "stdout",
     "output_type": "stream",
     "text": [
      "[2025-02-26 19:18:46] Processed 2000 validation batches\n"
     ]
    },
    {
     "name": "stderr",
     "output_type": "stream",
     "text": [
      "Epoch 7 [Val]: 100%|██████████| 2004/2004 [09:02<00:00,  3.69it/s, Loss=0.0003, Acc=96.70%]"
     ]
    },
    {
     "name": "stdout",
     "output_type": "stream",
     "text": [
      "[2025-02-26 19:18:46] Epoch 7 Results:\n",
      "[2025-02-26 19:18:46] Train Loss: 0.2696 | Train Acc: 91.51%\n",
      "[2025-02-26 19:18:46] Val Loss: 0.1252 | Val Acc: 96.70%\n"
     ]
    },
    {
     "name": "stderr",
     "output_type": "stream",
     "text": [
      "\n"
     ]
    },
    {
     "name": "stdout",
     "output_type": "stream",
     "text": [
      "[2025-02-26 19:18:46] Saved best model\n",
      "[2025-02-26 19:18:46] Starting epoch 8/15\n"
     ]
    },
    {
     "name": "stderr",
     "output_type": "stream",
     "text": [
      "Epoch 8 [Train]:   0%|          | 0/2004 [00:00<?, ?it/s, Loss=0.0356, Acc=100.00%]"
     ]
    },
    {
     "name": "stdout",
     "output_type": "stream",
     "text": [
      "[2025-02-26 19:18:47] Processed 0 training batches\n"
     ]
    },
    {
     "name": "stderr",
     "output_type": "stream",
     "text": [
      "Epoch 8 [Train]:   2%|▏         | 50/2004 [00:13<08:30,  3.83it/s, Loss=0.2899, Acc=91.30%]"
     ]
    },
    {
     "name": "stdout",
     "output_type": "stream",
     "text": [
      "[2025-02-26 19:19:00] Processed 50 training batches\n"
     ]
    },
    {
     "name": "stderr",
     "output_type": "stream",
     "text": [
      "Epoch 8 [Train]:   5%|▍         | 100/2004 [00:25<10:43,  2.96it/s, Loss=0.2511, Acc=91.96%]"
     ]
    },
    {
     "name": "stdout",
     "output_type": "stream",
     "text": [
      "[2025-02-26 19:19:12] Processed 100 training batches\n"
     ]
    },
    {
     "name": "stderr",
     "output_type": "stream",
     "text": [
      "Epoch 8 [Train]:   7%|▋         | 150/2004 [00:38<06:36,  4.68it/s, Loss=0.6226, Acc=92.22%]"
     ]
    },
    {
     "name": "stdout",
     "output_type": "stream",
     "text": [
      "[2025-02-26 19:19:25] Processed 150 training batches\n"
     ]
    },
    {
     "name": "stderr",
     "output_type": "stream",
     "text": [
      "Epoch 8 [Train]:  10%|▉         | 200/2004 [00:52<07:15,  4.14it/s, Loss=0.3944, Acc=92.10%]"
     ]
    },
    {
     "name": "stdout",
     "output_type": "stream",
     "text": [
      "[2025-02-26 19:19:39] Processed 200 training batches\n"
     ]
    },
    {
     "name": "stderr",
     "output_type": "stream",
     "text": [
      "Epoch 8 [Train]:  12%|█▏        | 250/2004 [01:05<06:35,  4.44it/s, Loss=0.3210, Acc=92.50%]"
     ]
    },
    {
     "name": "stdout",
     "output_type": "stream",
     "text": [
      "[2025-02-26 19:19:52] Processed 250 training batches\n"
     ]
    },
    {
     "name": "stderr",
     "output_type": "stream",
     "text": [
      "Epoch 8 [Train]:  15%|█▍        | 300/2004 [01:18<06:45,  4.20it/s, Loss=0.8995, Acc=92.50%]"
     ]
    },
    {
     "name": "stdout",
     "output_type": "stream",
     "text": [
      "[2025-02-26 19:20:05] Processed 300 training batches\n"
     ]
    },
    {
     "name": "stderr",
     "output_type": "stream",
     "text": [
      "Epoch 8 [Train]:  17%|█▋        | 350/2004 [01:30<06:12,  4.44it/s, Loss=0.0480, Acc=92.47%]"
     ]
    },
    {
     "name": "stdout",
     "output_type": "stream",
     "text": [
      "[2025-02-26 19:20:17] Processed 350 training batches\n"
     ]
    },
    {
     "name": "stderr",
     "output_type": "stream",
     "text": [
      "Epoch 8 [Train]:  20%|█▉        | 400/2004 [01:43<07:56,  3.36it/s, Loss=0.0127, Acc=92.58%]"
     ]
    },
    {
     "name": "stdout",
     "output_type": "stream",
     "text": [
      "[2025-02-26 19:20:30] Processed 400 training batches\n"
     ]
    },
    {
     "name": "stderr",
     "output_type": "stream",
     "text": [
      "Epoch 8 [Train]:  22%|██▏       | 450/2004 [01:56<05:36,  4.62it/s, Loss=0.0381, Acc=92.52%]"
     ]
    },
    {
     "name": "stdout",
     "output_type": "stream",
     "text": [
      "[2025-02-26 19:20:43] Processed 450 training batches\n"
     ]
    },
    {
     "name": "stderr",
     "output_type": "stream",
     "text": [
      "Epoch 8 [Train]:  25%|██▍       | 500/2004 [02:09<07:02,  3.56it/s, Loss=0.5170, Acc=92.49%]"
     ]
    },
    {
     "name": "stdout",
     "output_type": "stream",
     "text": [
      "[2025-02-26 19:20:56] Processed 500 training batches\n"
     ]
    },
    {
     "name": "stderr",
     "output_type": "stream",
     "text": [
      "Epoch 8 [Train]:  27%|██▋       | 550/2004 [02:23<06:29,  3.73it/s, Loss=0.0885, Acc=92.39%]"
     ]
    },
    {
     "name": "stdout",
     "output_type": "stream",
     "text": [
      "[2025-02-26 19:21:10] Processed 550 training batches\n"
     ]
    },
    {
     "name": "stderr",
     "output_type": "stream",
     "text": [
      "Epoch 8 [Train]:  30%|██▉       | 600/2004 [02:36<06:48,  3.43it/s, Loss=0.4930, Acc=92.36%]"
     ]
    },
    {
     "name": "stdout",
     "output_type": "stream",
     "text": [
      "[2025-02-26 19:21:23] Processed 600 training batches\n"
     ]
    },
    {
     "name": "stderr",
     "output_type": "stream",
     "text": [
      "Epoch 8 [Train]:  32%|███▏      | 650/2004 [02:50<05:46,  3.91it/s, Loss=0.1884, Acc=92.35%]"
     ]
    },
    {
     "name": "stdout",
     "output_type": "stream",
     "text": [
      "[2025-02-26 19:21:37] Processed 650 training batches\n"
     ]
    },
    {
     "name": "stderr",
     "output_type": "stream",
     "text": [
      "Epoch 8 [Train]:  35%|███▍      | 700/2004 [03:04<05:24,  4.02it/s, Loss=0.1091, Acc=92.49%]"
     ]
    },
    {
     "name": "stdout",
     "output_type": "stream",
     "text": [
      "[2025-02-26 19:21:51] Processed 700 training batches\n"
     ]
    },
    {
     "name": "stderr",
     "output_type": "stream",
     "text": [
      "Epoch 8 [Train]:  37%|███▋      | 750/2004 [03:18<05:26,  3.84it/s, Loss=0.2249, Acc=92.47%]"
     ]
    },
    {
     "name": "stdout",
     "output_type": "stream",
     "text": [
      "[2025-02-26 19:22:05] Processed 750 training batches\n"
     ]
    },
    {
     "name": "stderr",
     "output_type": "stream",
     "text": [
      "Epoch 8 [Train]:  40%|███▉      | 800/2004 [03:32<06:01,  3.33it/s, Loss=0.2613, Acc=92.42%]"
     ]
    },
    {
     "name": "stdout",
     "output_type": "stream",
     "text": [
      "[2025-02-26 19:22:19] Processed 800 training batches\n"
     ]
    },
    {
     "name": "stderr",
     "output_type": "stream",
     "text": [
      "Epoch 8 [Train]:  42%|████▏     | 850/2004 [03:46<05:02,  3.82it/s, Loss=0.2880, Acc=92.35%]"
     ]
    },
    {
     "name": "stdout",
     "output_type": "stream",
     "text": [
      "[2025-02-26 19:22:33] Processed 850 training batches\n"
     ]
    },
    {
     "name": "stderr",
     "output_type": "stream",
     "text": [
      "Epoch 8 [Train]:  45%|████▍     | 900/2004 [03:59<04:55,  3.74it/s, Loss=0.0848, Acc=92.40%]"
     ]
    },
    {
     "name": "stdout",
     "output_type": "stream",
     "text": [
      "[2025-02-26 19:22:46] Processed 900 training batches\n"
     ]
    },
    {
     "name": "stderr",
     "output_type": "stream",
     "text": [
      "Epoch 8 [Train]:  47%|████▋     | 950/2004 [04:14<05:26,  3.23it/s, Loss=0.2529, Acc=92.46%]"
     ]
    },
    {
     "name": "stdout",
     "output_type": "stream",
     "text": [
      "[2025-02-26 19:23:01] Processed 950 training batches\n"
     ]
    },
    {
     "name": "stderr",
     "output_type": "stream",
     "text": [
      "Epoch 8 [Train]:  50%|████▉     | 1000/2004 [04:29<04:47,  3.49it/s, Loss=0.2218, Acc=92.39%]"
     ]
    },
    {
     "name": "stdout",
     "output_type": "stream",
     "text": [
      "[2025-02-26 19:23:16] Processed 1000 training batches\n"
     ]
    },
    {
     "name": "stderr",
     "output_type": "stream",
     "text": [
      "Epoch 8 [Train]:  52%|█████▏    | 1050/2004 [04:44<05:08,  3.09it/s, Loss=0.2471, Acc=92.39%]"
     ]
    },
    {
     "name": "stdout",
     "output_type": "stream",
     "text": [
      "[2025-02-26 19:23:31] Processed 1050 training batches\n"
     ]
    },
    {
     "name": "stderr",
     "output_type": "stream",
     "text": [
      "Epoch 8 [Train]:  55%|█████▍    | 1100/2004 [04:59<05:44,  2.63it/s, Loss=0.4953, Acc=92.39%]"
     ]
    },
    {
     "name": "stdout",
     "output_type": "stream",
     "text": [
      "[2025-02-26 19:23:46] Processed 1100 training batches\n"
     ]
    },
    {
     "name": "stderr",
     "output_type": "stream",
     "text": [
      "Epoch 8 [Train]:  57%|█████▋    | 1150/2004 [05:14<03:59,  3.56it/s, Loss=0.1676, Acc=92.31%]"
     ]
    },
    {
     "name": "stdout",
     "output_type": "stream",
     "text": [
      "[2025-02-26 19:24:01] Processed 1150 training batches\n"
     ]
    },
    {
     "name": "stderr",
     "output_type": "stream",
     "text": [
      "Epoch 8 [Train]:  60%|█████▉    | 1200/2004 [05:28<04:02,  3.31it/s, Loss=0.0619, Acc=92.30%]"
     ]
    },
    {
     "name": "stdout",
     "output_type": "stream",
     "text": [
      "[2025-02-26 19:24:15] Processed 1200 training batches\n"
     ]
    },
    {
     "name": "stderr",
     "output_type": "stream",
     "text": [
      "Epoch 8 [Train]:  62%|██████▏   | 1250/2004 [05:42<03:05,  4.06it/s, Loss=0.3006, Acc=92.33%]"
     ]
    },
    {
     "name": "stdout",
     "output_type": "stream",
     "text": [
      "[2025-02-26 19:24:29] Processed 1250 training batches\n"
     ]
    },
    {
     "name": "stderr",
     "output_type": "stream",
     "text": [
      "Epoch 8 [Train]:  65%|██████▍   | 1300/2004 [05:58<03:43,  3.15it/s, Loss=0.1271, Acc=92.35%]"
     ]
    },
    {
     "name": "stdout",
     "output_type": "stream",
     "text": [
      "[2025-02-26 19:24:45] Processed 1300 training batches\n"
     ]
    },
    {
     "name": "stderr",
     "output_type": "stream",
     "text": [
      "Epoch 8 [Train]:  67%|██████▋   | 1350/2004 [06:14<03:15,  3.34it/s, Loss=0.4884, Acc=92.38%]"
     ]
    },
    {
     "name": "stdout",
     "output_type": "stream",
     "text": [
      "[2025-02-26 19:25:01] Processed 1350 training batches\n"
     ]
    },
    {
     "name": "stderr",
     "output_type": "stream",
     "text": [
      "Epoch 8 [Train]:  70%|██████▉   | 1400/2004 [06:29<03:15,  3.09it/s, Loss=0.0765, Acc=92.37%]"
     ]
    },
    {
     "name": "stdout",
     "output_type": "stream",
     "text": [
      "[2025-02-26 19:25:16] Processed 1400 training batches\n"
     ]
    },
    {
     "name": "stderr",
     "output_type": "stream",
     "text": [
      "Epoch 8 [Train]:  72%|███████▏  | 1450/2004 [06:43<02:42,  3.41it/s, Loss=0.1040, Acc=92.40%]"
     ]
    },
    {
     "name": "stdout",
     "output_type": "stream",
     "text": [
      "[2025-02-26 19:25:30] Processed 1450 training batches\n"
     ]
    },
    {
     "name": "stderr",
     "output_type": "stream",
     "text": [
      "Epoch 8 [Train]:  75%|███████▍  | 1500/2004 [06:58<02:33,  3.29it/s, Loss=0.2790, Acc=92.41%]"
     ]
    },
    {
     "name": "stdout",
     "output_type": "stream",
     "text": [
      "[2025-02-26 19:25:45] Processed 1500 training batches\n"
     ]
    },
    {
     "name": "stderr",
     "output_type": "stream",
     "text": [
      "Epoch 8 [Train]:  77%|███████▋  | 1550/2004 [07:12<02:13,  3.41it/s, Loss=0.2600, Acc=92.44%]"
     ]
    },
    {
     "name": "stdout",
     "output_type": "stream",
     "text": [
      "[2025-02-26 19:25:59] Processed 1550 training batches\n"
     ]
    },
    {
     "name": "stderr",
     "output_type": "stream",
     "text": [
      "Epoch 8 [Train]:  80%|███████▉  | 1600/2004 [07:28<01:50,  3.66it/s, Loss=0.1986, Acc=92.39%]"
     ]
    },
    {
     "name": "stdout",
     "output_type": "stream",
     "text": [
      "[2025-02-26 19:26:14] Processed 1600 training batches\n"
     ]
    },
    {
     "name": "stderr",
     "output_type": "stream",
     "text": [
      "Epoch 8 [Train]:  82%|████████▏ | 1650/2004 [07:42<01:54,  3.08it/s, Loss=0.0728, Acc=92.35%]"
     ]
    },
    {
     "name": "stdout",
     "output_type": "stream",
     "text": [
      "[2025-02-26 19:26:29] Processed 1650 training batches\n"
     ]
    },
    {
     "name": "stderr",
     "output_type": "stream",
     "text": [
      "Epoch 8 [Train]:  85%|████████▍ | 1700/2004 [07:56<01:37,  3.11it/s, Loss=0.1010, Acc=92.36%]"
     ]
    },
    {
     "name": "stdout",
     "output_type": "stream",
     "text": [
      "[2025-02-26 19:26:43] Processed 1700 training batches\n"
     ]
    },
    {
     "name": "stderr",
     "output_type": "stream",
     "text": [
      "Epoch 8 [Train]:  87%|████████▋ | 1750/2004 [08:10<01:14,  3.42it/s, Loss=0.1118, Acc=92.41%]"
     ]
    },
    {
     "name": "stdout",
     "output_type": "stream",
     "text": [
      "[2025-02-26 19:26:57] Processed 1750 training batches\n"
     ]
    },
    {
     "name": "stderr",
     "output_type": "stream",
     "text": [
      "Epoch 8 [Train]:  90%|████████▉ | 1800/2004 [08:25<00:59,  3.41it/s, Loss=0.0441, Acc=92.42%]"
     ]
    },
    {
     "name": "stdout",
     "output_type": "stream",
     "text": [
      "[2025-02-26 19:27:12] Processed 1800 training batches\n"
     ]
    },
    {
     "name": "stderr",
     "output_type": "stream",
     "text": [
      "Epoch 8 [Train]:  92%|█████████▏| 1850/2004 [08:41<00:46,  3.28it/s, Loss=0.0567, Acc=92.45%]"
     ]
    },
    {
     "name": "stdout",
     "output_type": "stream",
     "text": [
      "[2025-02-26 19:27:28] Processed 1850 training batches\n"
     ]
    },
    {
     "name": "stderr",
     "output_type": "stream",
     "text": [
      "Epoch 8 [Train]:  95%|█████████▍| 1900/2004 [08:56<00:29,  3.55it/s, Loss=0.0486, Acc=92.49%]"
     ]
    },
    {
     "name": "stdout",
     "output_type": "stream",
     "text": [
      "[2025-02-26 19:27:43] Processed 1900 training batches\n"
     ]
    },
    {
     "name": "stderr",
     "output_type": "stream",
     "text": [
      "Epoch 8 [Train]:  97%|█████████▋| 1950/2004 [09:10<00:14,  3.72it/s, Loss=0.3477, Acc=92.52%]"
     ]
    },
    {
     "name": "stdout",
     "output_type": "stream",
     "text": [
      "[2025-02-26 19:27:57] Processed 1950 training batches\n"
     ]
    },
    {
     "name": "stderr",
     "output_type": "stream",
     "text": [
      "Epoch 8 [Train]: 100%|█████████▉| 2000/2004 [09:25<00:01,  3.26it/s, Loss=0.1680, Acc=92.57%]"
     ]
    },
    {
     "name": "stdout",
     "output_type": "stream",
     "text": [
      "[2025-02-26 19:28:12] Processed 2000 training batches\n"
     ]
    },
    {
     "name": "stderr",
     "output_type": "stream",
     "text": [
      "Epoch 8 [Train]: 100%|██████████| 2004/2004 [09:25<00:00,  3.54it/s, Loss=1.6755, Acc=92.57%]\n",
      "Epoch 8 [Val]:   0%|          | 0/2004 [00:00<?, ?it/s, Loss=1.8297, Acc=37.50%]"
     ]
    },
    {
     "name": "stdout",
     "output_type": "stream",
     "text": [
      "[2025-02-26 19:28:13] Processed 0 validation batches\n"
     ]
    },
    {
     "name": "stderr",
     "output_type": "stream",
     "text": [
      "Epoch 8 [Val]:   1%|          | 20/2004 [00:07<09:46,  3.38it/s, Loss=0.5105, Acc=86.31%]"
     ]
    },
    {
     "name": "stdout",
     "output_type": "stream",
     "text": [
      "[2025-02-26 19:28:19] Processed 20 validation batches\n"
     ]
    },
    {
     "name": "stderr",
     "output_type": "stream",
     "text": [
      "Epoch 8 [Val]:   2%|▏         | 40/2004 [00:12<08:57,  3.65it/s, Loss=0.0073, Acc=91.46%]"
     ]
    },
    {
     "name": "stdout",
     "output_type": "stream",
     "text": [
      "[2025-02-26 19:28:25] Processed 40 validation batches\n"
     ]
    },
    {
     "name": "stderr",
     "output_type": "stream",
     "text": [
      "Epoch 8 [Val]:   3%|▎         | 60/2004 [00:19<11:59,  2.70it/s, Loss=0.1155, Acc=91.09%]"
     ]
    },
    {
     "name": "stdout",
     "output_type": "stream",
     "text": [
      "[2025-02-26 19:28:32] Processed 60 validation batches\n"
     ]
    },
    {
     "name": "stderr",
     "output_type": "stream",
     "text": [
      "Epoch 8 [Val]:   4%|▍         | 80/2004 [00:24<06:49,  4.70it/s, Loss=0.0599, Acc=91.44%]"
     ]
    },
    {
     "name": "stdout",
     "output_type": "stream",
     "text": [
      "[2025-02-26 19:28:37] Processed 80 validation batches\n"
     ]
    },
    {
     "name": "stderr",
     "output_type": "stream",
     "text": [
      "Epoch 8 [Val]:   5%|▍         | 100/2004 [00:34<10:21,  3.06it/s, Loss=0.0011, Acc=92.51%]"
     ]
    },
    {
     "name": "stdout",
     "output_type": "stream",
     "text": [
      "[2025-02-26 19:28:47] Processed 100 validation batches\n"
     ]
    },
    {
     "name": "stderr",
     "output_type": "stream",
     "text": [
      "Epoch 8 [Val]:   6%|▌         | 120/2004 [00:40<07:47,  4.03it/s, Loss=1.8184, Acc=92.25%]"
     ]
    },
    {
     "name": "stdout",
     "output_type": "stream",
     "text": [
      "[2025-02-26 19:28:53] Processed 120 validation batches\n"
     ]
    },
    {
     "name": "stderr",
     "output_type": "stream",
     "text": [
      "Epoch 8 [Val]:   7%|▋         | 140/2004 [00:52<32:16,  1.04s/it, Loss=0.1887, Acc=89.27%]"
     ]
    },
    {
     "name": "stdout",
     "output_type": "stream",
     "text": [
      "[2025-02-26 19:29:05] Processed 140 validation batches\n"
     ]
    },
    {
     "name": "stderr",
     "output_type": "stream",
     "text": [
      "Epoch 8 [Val]:   8%|▊         | 160/2004 [00:57<06:47,  4.52it/s, Loss=0.1397, Acc=88.59%]"
     ]
    },
    {
     "name": "stdout",
     "output_type": "stream",
     "text": [
      "[2025-02-26 19:29:10] Processed 160 validation batches\n"
     ]
    },
    {
     "name": "stderr",
     "output_type": "stream",
     "text": [
      "Epoch 8 [Val]:   9%|▉         | 180/2004 [01:03<12:16,  2.48it/s, Loss=0.3270, Acc=88.57%]"
     ]
    },
    {
     "name": "stdout",
     "output_type": "stream",
     "text": [
      "[2025-02-26 19:29:16] Processed 180 validation batches\n"
     ]
    },
    {
     "name": "stderr",
     "output_type": "stream",
     "text": [
      "Epoch 8 [Val]:  10%|▉         | 200/2004 [01:14<17:23,  1.73it/s, Loss=0.0354, Acc=86.97%]"
     ]
    },
    {
     "name": "stdout",
     "output_type": "stream",
     "text": [
      "[2025-02-26 19:29:27] Processed 200 validation batches\n"
     ]
    },
    {
     "name": "stderr",
     "output_type": "stream",
     "text": [
      "Epoch 8 [Val]:  11%|█         | 220/2004 [01:28<04:44,  6.26it/s, Loss=0.0126, Acc=88.15%]"
     ]
    },
    {
     "name": "stdout",
     "output_type": "stream",
     "text": [
      "[2025-02-26 19:29:41] Processed 220 validation batches\n"
     ]
    },
    {
     "name": "stderr",
     "output_type": "stream",
     "text": [
      "Epoch 8 [Val]:  12%|█▏        | 240/2004 [01:30<03:13,  9.10it/s, Loss=0.0000, Acc=89.13%]"
     ]
    },
    {
     "name": "stdout",
     "output_type": "stream",
     "text": [
      "[2025-02-26 19:29:43] Processed 240 validation batches\n"
     ]
    },
    {
     "name": "stderr",
     "output_type": "stream",
     "text": [
      "Epoch 8 [Val]:  13%|█▎        | 260/2004 [01:33<03:13,  9.02it/s, Loss=0.0003, Acc=89.97%]"
     ]
    },
    {
     "name": "stdout",
     "output_type": "stream",
     "text": [
      "[2025-02-26 19:29:45] Processed 260 validation batches\n"
     ]
    },
    {
     "name": "stderr",
     "output_type": "stream",
     "text": [
      "Epoch 8 [Val]:  14%|█▍        | 280/2004 [01:35<03:14,  8.85it/s, Loss=0.0005, Acc=90.68%]"
     ]
    },
    {
     "name": "stdout",
     "output_type": "stream",
     "text": [
      "[2025-02-26 19:29:48] Processed 280 validation batches\n"
     ]
    },
    {
     "name": "stderr",
     "output_type": "stream",
     "text": [
      "Epoch 8 [Val]:  15%|█▍        | 300/2004 [01:37<03:11,  8.92it/s, Loss=0.0017, Acc=91.30%]"
     ]
    },
    {
     "name": "stdout",
     "output_type": "stream",
     "text": [
      "[2025-02-26 19:29:50] Processed 300 validation batches\n"
     ]
    },
    {
     "name": "stderr",
     "output_type": "stream",
     "text": [
      "Epoch 8 [Val]:  16%|█▌        | 320/2004 [01:39<03:07,  8.97it/s, Loss=0.0049, Acc=91.84%]"
     ]
    },
    {
     "name": "stdout",
     "output_type": "stream",
     "text": [
      "[2025-02-26 19:29:52] Processed 320 validation batches\n"
     ]
    },
    {
     "name": "stderr",
     "output_type": "stream",
     "text": [
      "Epoch 8 [Val]:  17%|█▋        | 340/2004 [01:42<03:03,  9.08it/s, Loss=0.0038, Acc=92.32%]"
     ]
    },
    {
     "name": "stdout",
     "output_type": "stream",
     "text": [
      "[2025-02-26 19:29:54] Processed 340 validation batches\n"
     ]
    },
    {
     "name": "stderr",
     "output_type": "stream",
     "text": [
      "Epoch 8 [Val]:  18%|█▊        | 360/2004 [01:44<03:08,  8.72it/s, Loss=0.0053, Acc=92.73%]"
     ]
    },
    {
     "name": "stdout",
     "output_type": "stream",
     "text": [
      "[2025-02-26 19:29:57] Processed 360 validation batches\n"
     ]
    },
    {
     "name": "stderr",
     "output_type": "stream",
     "text": [
      "Epoch 8 [Val]:  19%|█▉        | 380/2004 [01:46<02:59,  9.03it/s, Loss=0.0012, Acc=93.09%]"
     ]
    },
    {
     "name": "stdout",
     "output_type": "stream",
     "text": [
      "[2025-02-26 19:29:59] Processed 380 validation batches\n"
     ]
    },
    {
     "name": "stderr",
     "output_type": "stream",
     "text": [
      "Epoch 8 [Val]:  20%|█▉        | 400/2004 [01:48<03:02,  8.77it/s, Loss=0.0023, Acc=93.42%]"
     ]
    },
    {
     "name": "stdout",
     "output_type": "stream",
     "text": [
      "[2025-02-26 19:30:01] Processed 400 validation batches\n"
     ]
    },
    {
     "name": "stderr",
     "output_type": "stream",
     "text": [
      "Epoch 8 [Val]:  21%|██        | 420/2004 [01:51<02:54,  9.07it/s, Loss=0.0021, Acc=93.74%]"
     ]
    },
    {
     "name": "stdout",
     "output_type": "stream",
     "text": [
      "[2025-02-26 19:30:03] Processed 420 validation batches\n"
     ]
    },
    {
     "name": "stderr",
     "output_type": "stream",
     "text": [
      "Epoch 8 [Val]:  22%|██▏       | 440/2004 [01:53<02:53,  9.03it/s, Loss=0.0028, Acc=94.01%]"
     ]
    },
    {
     "name": "stdout",
     "output_type": "stream",
     "text": [
      "[2025-02-26 19:30:06] Processed 440 validation batches\n"
     ]
    },
    {
     "name": "stderr",
     "output_type": "stream",
     "text": [
      "Epoch 8 [Val]:  23%|██▎       | 460/2004 [02:06<11:52,  2.17it/s, Loss=0.0516, Acc=94.13%]"
     ]
    },
    {
     "name": "stdout",
     "output_type": "stream",
     "text": [
      "[2025-02-26 19:30:19] Processed 460 validation batches\n"
     ]
    },
    {
     "name": "stderr",
     "output_type": "stream",
     "text": [
      "Epoch 8 [Val]:  24%|██▍       | 480/2004 [02:12<07:23,  3.43it/s, Loss=1.0589, Acc=93.85%]"
     ]
    },
    {
     "name": "stdout",
     "output_type": "stream",
     "text": [
      "[2025-02-26 19:30:24] Processed 480 validation batches\n"
     ]
    },
    {
     "name": "stderr",
     "output_type": "stream",
     "text": [
      "Epoch 8 [Val]:  25%|██▍       | 500/2004 [02:18<02:52,  8.73it/s, Loss=0.0080, Acc=93.96%]"
     ]
    },
    {
     "name": "stdout",
     "output_type": "stream",
     "text": [
      "[2025-02-26 19:30:31] Processed 500 validation batches\n"
     ]
    },
    {
     "name": "stderr",
     "output_type": "stream",
     "text": [
      "Epoch 8 [Val]:  26%|██▌       | 520/2004 [02:20<02:41,  9.20it/s, Loss=0.0373, Acc=94.19%]"
     ]
    },
    {
     "name": "stdout",
     "output_type": "stream",
     "text": [
      "[2025-02-26 19:30:33] Processed 520 validation batches\n"
     ]
    },
    {
     "name": "stderr",
     "output_type": "stream",
     "text": [
      "Epoch 8 [Val]:  27%|██▋       | 540/2004 [02:23<04:01,  6.05it/s, Loss=0.0130, Acc=94.36%]"
     ]
    },
    {
     "name": "stdout",
     "output_type": "stream",
     "text": [
      "[2025-02-26 19:30:36] Processed 540 validation batches\n"
     ]
    },
    {
     "name": "stderr",
     "output_type": "stream",
     "text": [
      "Epoch 8 [Val]:  28%|██▊       | 560/2004 [02:26<02:57,  8.15it/s, Loss=0.0271, Acc=94.56%]"
     ]
    },
    {
     "name": "stdout",
     "output_type": "stream",
     "text": [
      "[2025-02-26 19:30:39] Processed 560 validation batches\n"
     ]
    },
    {
     "name": "stderr",
     "output_type": "stream",
     "text": [
      "Epoch 8 [Val]:  29%|██▉       | 580/2004 [02:30<06:42,  3.54it/s, Loss=0.0278, Acc=94.75%]"
     ]
    },
    {
     "name": "stdout",
     "output_type": "stream",
     "text": [
      "[2025-02-26 19:30:43] Processed 580 validation batches\n"
     ]
    },
    {
     "name": "stderr",
     "output_type": "stream",
     "text": [
      "Epoch 8 [Val]:  30%|██▉       | 600/2004 [02:33<02:56,  7.98it/s, Loss=0.0002, Acc=94.90%]"
     ]
    },
    {
     "name": "stdout",
     "output_type": "stream",
     "text": [
      "[2025-02-26 19:30:45] Processed 600 validation batches\n"
     ]
    },
    {
     "name": "stderr",
     "output_type": "stream",
     "text": [
      "Epoch 8 [Val]:  31%|███       | 620/2004 [02:35<03:11,  7.24it/s, Loss=0.0000, Acc=95.07%]"
     ]
    },
    {
     "name": "stdout",
     "output_type": "stream",
     "text": [
      "[2025-02-26 19:30:48] Processed 620 validation batches\n"
     ]
    },
    {
     "name": "stderr",
     "output_type": "stream",
     "text": [
      "Epoch 8 [Val]:  32%|███▏      | 640/2004 [02:38<02:50,  8.02it/s, Loss=0.0025, Acc=95.22%]"
     ]
    },
    {
     "name": "stdout",
     "output_type": "stream",
     "text": [
      "[2025-02-26 19:30:50] Processed 640 validation batches\n"
     ]
    },
    {
     "name": "stderr",
     "output_type": "stream",
     "text": [
      "Epoch 8 [Val]:  33%|███▎      | 660/2004 [02:40<02:43,  8.23it/s, Loss=0.0064, Acc=95.35%]"
     ]
    },
    {
     "name": "stdout",
     "output_type": "stream",
     "text": [
      "[2025-02-26 19:30:53] Processed 660 validation batches\n"
     ]
    },
    {
     "name": "stderr",
     "output_type": "stream",
     "text": [
      "Epoch 8 [Val]:  34%|███▍      | 680/2004 [02:43<02:43,  8.09it/s, Loss=0.0167, Acc=95.47%]"
     ]
    },
    {
     "name": "stdout",
     "output_type": "stream",
     "text": [
      "[2025-02-26 19:30:55] Processed 680 validation batches\n"
     ]
    },
    {
     "name": "stderr",
     "output_type": "stream",
     "text": [
      "Epoch 8 [Val]:  35%|███▍      | 700/2004 [02:45<02:39,  8.15it/s, Loss=0.0007, Acc=95.60%]"
     ]
    },
    {
     "name": "stdout",
     "output_type": "stream",
     "text": [
      "[2025-02-26 19:30:58] Processed 700 validation batches\n"
     ]
    },
    {
     "name": "stderr",
     "output_type": "stream",
     "text": [
      "Epoch 8 [Val]:  36%|███▌      | 720/2004 [02:48<02:40,  8.00it/s, Loss=0.0086, Acc=95.72%]"
     ]
    },
    {
     "name": "stdout",
     "output_type": "stream",
     "text": [
      "[2025-02-26 19:31:01] Processed 720 validation batches\n"
     ]
    },
    {
     "name": "stderr",
     "output_type": "stream",
     "text": [
      "Epoch 8 [Val]:  37%|███▋      | 740/2004 [02:52<02:39,  7.93it/s, Loss=0.0649, Acc=95.82%]"
     ]
    },
    {
     "name": "stdout",
     "output_type": "stream",
     "text": [
      "[2025-02-26 19:31:04] Processed 740 validation batches\n"
     ]
    },
    {
     "name": "stderr",
     "output_type": "stream",
     "text": [
      "Epoch 8 [Val]:  38%|███▊      | 760/2004 [03:03<06:34,  3.15it/s, Loss=0.0039, Acc=95.89%]"
     ]
    },
    {
     "name": "stdout",
     "output_type": "stream",
     "text": [
      "[2025-02-26 19:31:16] Processed 760 validation batches\n"
     ]
    },
    {
     "name": "stderr",
     "output_type": "stream",
     "text": [
      "Epoch 8 [Val]:  39%|███▉      | 780/2004 [03:12<06:47,  3.01it/s, Loss=0.0097, Acc=95.97%]"
     ]
    },
    {
     "name": "stdout",
     "output_type": "stream",
     "text": [
      "[2025-02-26 19:31:25] Processed 780 validation batches\n"
     ]
    },
    {
     "name": "stderr",
     "output_type": "stream",
     "text": [
      "Epoch 8 [Val]:  40%|███▉      | 800/2004 [03:14<02:32,  7.87it/s, Loss=0.0009, Acc=96.07%]"
     ]
    },
    {
     "name": "stdout",
     "output_type": "stream",
     "text": [
      "[2025-02-26 19:31:27] Processed 800 validation batches\n"
     ]
    },
    {
     "name": "stderr",
     "output_type": "stream",
     "text": [
      "Epoch 8 [Val]:  41%|████      | 820/2004 [03:17<02:23,  8.27it/s, Loss=0.0035, Acc=96.16%]"
     ]
    },
    {
     "name": "stdout",
     "output_type": "stream",
     "text": [
      "[2025-02-26 19:31:30] Processed 820 validation batches\n"
     ]
    },
    {
     "name": "stderr",
     "output_type": "stream",
     "text": [
      "Epoch 8 [Val]:  42%|████▏     | 840/2004 [03:22<04:23,  4.42it/s, Loss=0.0140, Acc=96.21%]"
     ]
    },
    {
     "name": "stdout",
     "output_type": "stream",
     "text": [
      "[2025-02-26 19:31:35] Processed 840 validation batches\n"
     ]
    },
    {
     "name": "stderr",
     "output_type": "stream",
     "text": [
      "Epoch 8 [Val]:  43%|████▎     | 860/2004 [03:28<09:26,  2.02it/s, Loss=0.3002, Acc=96.23%]"
     ]
    },
    {
     "name": "stdout",
     "output_type": "stream",
     "text": [
      "[2025-02-26 19:31:41] Processed 860 validation batches\n"
     ]
    },
    {
     "name": "stderr",
     "output_type": "stream",
     "text": [
      "Epoch 8 [Val]:  44%|████▍     | 880/2004 [03:32<03:42,  5.06it/s, Loss=1.1878, Acc=95.80%]"
     ]
    },
    {
     "name": "stdout",
     "output_type": "stream",
     "text": [
      "[2025-02-26 19:31:45] Processed 880 validation batches\n"
     ]
    },
    {
     "name": "stderr",
     "output_type": "stream",
     "text": [
      "Epoch 8 [Val]:  45%|████▍     | 900/2004 [03:36<03:58,  4.63it/s, Loss=0.0047, Acc=95.57%]"
     ]
    },
    {
     "name": "stdout",
     "output_type": "stream",
     "text": [
      "[2025-02-26 19:31:49] Processed 900 validation batches\n"
     ]
    },
    {
     "name": "stderr",
     "output_type": "stream",
     "text": [
      "Epoch 8 [Val]:  46%|████▌     | 920/2004 [03:41<05:22,  3.36it/s, Loss=0.0753, Acc=95.60%]"
     ]
    },
    {
     "name": "stdout",
     "output_type": "stream",
     "text": [
      "[2025-02-26 19:31:54] Processed 920 validation batches\n"
     ]
    },
    {
     "name": "stderr",
     "output_type": "stream",
     "text": [
      "Epoch 8 [Val]:  47%|████▋     | 940/2004 [03:47<03:36,  4.92it/s, Loss=0.0330, Acc=95.53%]"
     ]
    },
    {
     "name": "stdout",
     "output_type": "stream",
     "text": [
      "[2025-02-26 19:32:00] Processed 940 validation batches\n"
     ]
    },
    {
     "name": "stderr",
     "output_type": "stream",
     "text": [
      "Epoch 8 [Val]:  48%|████▊     | 960/2004 [03:51<03:34,  4.88it/s, Loss=0.1081, Acc=95.53%]"
     ]
    },
    {
     "name": "stdout",
     "output_type": "stream",
     "text": [
      "[2025-02-26 19:32:04] Processed 960 validation batches\n"
     ]
    },
    {
     "name": "stderr",
     "output_type": "stream",
     "text": [
      "Epoch 8 [Val]:  49%|████▉     | 980/2004 [04:02<18:04,  1.06s/it, Loss=0.0120, Acc=95.55%]"
     ]
    },
    {
     "name": "stdout",
     "output_type": "stream",
     "text": [
      "[2025-02-26 19:32:15] Processed 980 validation batches\n"
     ]
    },
    {
     "name": "stderr",
     "output_type": "stream",
     "text": [
      "Epoch 8 [Val]:  50%|████▉     | 1000/2004 [04:08<03:34,  4.68it/s, Loss=0.0021, Acc=95.62%]"
     ]
    },
    {
     "name": "stdout",
     "output_type": "stream",
     "text": [
      "[2025-02-26 19:32:21] Processed 1000 validation batches\n"
     ]
    },
    {
     "name": "stderr",
     "output_type": "stream",
     "text": [
      "Epoch 8 [Val]:  51%|█████     | 1020/2004 [04:13<02:49,  5.79it/s, Loss=0.0120, Acc=95.68%]"
     ]
    },
    {
     "name": "stdout",
     "output_type": "stream",
     "text": [
      "[2025-02-26 19:32:26] Processed 1020 validation batches\n"
     ]
    },
    {
     "name": "stderr",
     "output_type": "stream",
     "text": [
      "Epoch 8 [Val]:  52%|█████▏    | 1040/2004 [04:21<03:14,  4.95it/s, Loss=0.0000, Acc=95.57%]"
     ]
    },
    {
     "name": "stdout",
     "output_type": "stream",
     "text": [
      "[2025-02-26 19:32:34] Processed 1040 validation batches\n"
     ]
    },
    {
     "name": "stderr",
     "output_type": "stream",
     "text": [
      "Epoch 8 [Val]:  53%|█████▎    | 1060/2004 [04:27<05:10,  3.04it/s, Loss=0.0028, Acc=95.65%]"
     ]
    },
    {
     "name": "stdout",
     "output_type": "stream",
     "text": [
      "[2025-02-26 19:32:39] Processed 1060 validation batches\n"
     ]
    },
    {
     "name": "stderr",
     "output_type": "stream",
     "text": [
      "Epoch 8 [Val]:  54%|█████▍    | 1080/2004 [04:35<08:01,  1.92it/s, Loss=0.0009, Acc=95.71%]"
     ]
    },
    {
     "name": "stdout",
     "output_type": "stream",
     "text": [
      "[2025-02-26 19:32:48] Processed 1080 validation batches\n"
     ]
    },
    {
     "name": "stderr",
     "output_type": "stream",
     "text": [
      "Epoch 8 [Val]:  55%|█████▍    | 1100/2004 [04:58<20:48,  1.38s/it, Loss=0.0012, Acc=95.77%]"
     ]
    },
    {
     "name": "stdout",
     "output_type": "stream",
     "text": [
      "[2025-02-26 19:33:10] Processed 1100 validation batches\n"
     ]
    },
    {
     "name": "stderr",
     "output_type": "stream",
     "text": [
      "Epoch 8 [Val]:  56%|█████▌    | 1120/2004 [05:21<18:52,  1.28s/it, Loss=0.0243, Acc=95.81%]"
     ]
    },
    {
     "name": "stdout",
     "output_type": "stream",
     "text": [
      "[2025-02-26 19:33:34] Processed 1120 validation batches\n"
     ]
    },
    {
     "name": "stderr",
     "output_type": "stream",
     "text": [
      "Epoch 8 [Val]:  57%|█████▋    | 1140/2004 [05:25<02:50,  5.08it/s, Loss=0.0008, Acc=95.89%]"
     ]
    },
    {
     "name": "stdout",
     "output_type": "stream",
     "text": [
      "[2025-02-26 19:33:38] Processed 1140 validation batches\n"
     ]
    },
    {
     "name": "stderr",
     "output_type": "stream",
     "text": [
      "Epoch 8 [Val]:  58%|█████▊    | 1160/2004 [05:29<03:06,  4.53it/s, Loss=0.0123, Acc=95.95%]"
     ]
    },
    {
     "name": "stdout",
     "output_type": "stream",
     "text": [
      "[2025-02-26 19:33:42] Processed 1160 validation batches\n"
     ]
    },
    {
     "name": "stderr",
     "output_type": "stream",
     "text": [
      "Epoch 8 [Val]:  59%|█████▉    | 1180/2004 [05:33<02:48,  4.88it/s, Loss=0.0001, Acc=96.02%]"
     ]
    },
    {
     "name": "stdout",
     "output_type": "stream",
     "text": [
      "[2025-02-26 19:33:46] Processed 1180 validation batches\n"
     ]
    },
    {
     "name": "stderr",
     "output_type": "stream",
     "text": [
      "Epoch 8 [Val]:  60%|█████▉    | 1200/2004 [05:36<01:35,  8.39it/s, Loss=0.0003, Acc=96.04%]"
     ]
    },
    {
     "name": "stdout",
     "output_type": "stream",
     "text": [
      "[2025-02-26 19:33:48] Processed 1200 validation batches\n"
     ]
    },
    {
     "name": "stderr",
     "output_type": "stream",
     "text": [
      "Epoch 8 [Val]:  61%|██████    | 1220/2004 [05:39<02:23,  5.45it/s, Loss=0.0766, Acc=96.04%]"
     ]
    },
    {
     "name": "stdout",
     "output_type": "stream",
     "text": [
      "[2025-02-26 19:33:52] Processed 1220 validation batches\n"
     ]
    },
    {
     "name": "stderr",
     "output_type": "stream",
     "text": [
      "Epoch 8 [Val]:  62%|██████▏   | 1240/2004 [05:42<02:21,  5.40it/s, Loss=0.0001, Acc=96.10%]"
     ]
    },
    {
     "name": "stdout",
     "output_type": "stream",
     "text": [
      "[2025-02-26 19:33:55] Processed 1240 validation batches\n"
     ]
    },
    {
     "name": "stderr",
     "output_type": "stream",
     "text": [
      "Epoch 8 [Val]:  63%|██████▎   | 1260/2004 [05:47<02:45,  4.50it/s, Loss=0.0000, Acc=96.16%]"
     ]
    },
    {
     "name": "stdout",
     "output_type": "stream",
     "text": [
      "[2025-02-26 19:34:00] Processed 1260 validation batches\n"
     ]
    },
    {
     "name": "stderr",
     "output_type": "stream",
     "text": [
      "Epoch 8 [Val]:  64%|██████▍   | 1280/2004 [05:51<02:28,  4.88it/s, Loss=0.0000, Acc=96.22%]"
     ]
    },
    {
     "name": "stdout",
     "output_type": "stream",
     "text": [
      "[2025-02-26 19:34:04] Processed 1280 validation batches\n"
     ]
    },
    {
     "name": "stderr",
     "output_type": "stream",
     "text": [
      "Epoch 8 [Val]:  65%|██████▍   | 1300/2004 [05:56<03:22,  3.47it/s, Loss=0.0957, Acc=96.23%]"
     ]
    },
    {
     "name": "stdout",
     "output_type": "stream",
     "text": [
      "[2025-02-26 19:34:08] Processed 1300 validation batches\n"
     ]
    },
    {
     "name": "stderr",
     "output_type": "stream",
     "text": [
      "Epoch 8 [Val]:  66%|██████▌   | 1320/2004 [06:00<02:23,  4.78it/s, Loss=0.0144, Acc=96.26%]"
     ]
    },
    {
     "name": "stdout",
     "output_type": "stream",
     "text": [
      "[2025-02-26 19:34:13] Processed 1320 validation batches\n"
     ]
    },
    {
     "name": "stderr",
     "output_type": "stream",
     "text": [
      "Epoch 8 [Val]:  67%|██████▋   | 1340/2004 [06:05<02:33,  4.32it/s, Loss=0.3034, Acc=96.23%]"
     ]
    },
    {
     "name": "stdout",
     "output_type": "stream",
     "text": [
      "[2025-02-26 19:34:18] Processed 1340 validation batches\n"
     ]
    },
    {
     "name": "stderr",
     "output_type": "stream",
     "text": [
      "Epoch 8 [Val]:  68%|██████▊   | 1360/2004 [06:08<01:49,  5.87it/s, Loss=0.0503, Acc=96.28%]"
     ]
    },
    {
     "name": "stdout",
     "output_type": "stream",
     "text": [
      "[2025-02-26 19:34:21] Processed 1360 validation batches\n"
     ]
    },
    {
     "name": "stderr",
     "output_type": "stream",
     "text": [
      "Epoch 8 [Val]:  69%|██████▉   | 1380/2004 [06:10<01:08,  9.17it/s, Loss=0.0014, Acc=96.33%]"
     ]
    },
    {
     "name": "stdout",
     "output_type": "stream",
     "text": [
      "[2025-02-26 19:34:23] Processed 1380 validation batches\n"
     ]
    },
    {
     "name": "stderr",
     "output_type": "stream",
     "text": [
      "Epoch 8 [Val]:  70%|██████▉   | 1400/2004 [06:12<01:05,  9.24it/s, Loss=0.0027, Acc=96.38%]"
     ]
    },
    {
     "name": "stdout",
     "output_type": "stream",
     "text": [
      "[2025-02-26 19:34:25] Processed 1400 validation batches\n"
     ]
    },
    {
     "name": "stderr",
     "output_type": "stream",
     "text": [
      "Epoch 8 [Val]:  71%|███████   | 1420/2004 [06:15<01:04,  9.09it/s, Loss=0.0045, Acc=96.43%]"
     ]
    },
    {
     "name": "stdout",
     "output_type": "stream",
     "text": [
      "[2025-02-26 19:34:27] Processed 1420 validation batches\n"
     ]
    },
    {
     "name": "stderr",
     "output_type": "stream",
     "text": [
      "Epoch 8 [Val]:  72%|███████▏  | 1440/2004 [06:17<01:03,  8.94it/s, Loss=0.0019, Acc=96.48%]"
     ]
    },
    {
     "name": "stdout",
     "output_type": "stream",
     "text": [
      "[2025-02-26 19:34:30] Processed 1440 validation batches\n"
     ]
    },
    {
     "name": "stderr",
     "output_type": "stream",
     "text": [
      "Epoch 8 [Val]:  73%|███████▎  | 1460/2004 [06:19<01:04,  8.42it/s, Loss=0.0084, Acc=96.53%]"
     ]
    },
    {
     "name": "stdout",
     "output_type": "stream",
     "text": [
      "[2025-02-26 19:34:32] Processed 1460 validation batches\n"
     ]
    },
    {
     "name": "stderr",
     "output_type": "stream",
     "text": [
      "Epoch 8 [Val]:  74%|███████▍  | 1480/2004 [06:21<00:58,  8.93it/s, Loss=0.0124, Acc=96.57%]"
     ]
    },
    {
     "name": "stdout",
     "output_type": "stream",
     "text": [
      "[2025-02-26 19:34:34] Processed 1480 validation batches\n"
     ]
    },
    {
     "name": "stderr",
     "output_type": "stream",
     "text": [
      "Epoch 8 [Val]:  75%|███████▍  | 1500/2004 [06:24<00:56,  8.84it/s, Loss=0.0803, Acc=96.61%]"
     ]
    },
    {
     "name": "stdout",
     "output_type": "stream",
     "text": [
      "[2025-02-26 19:34:36] Processed 1500 validation batches\n"
     ]
    },
    {
     "name": "stderr",
     "output_type": "stream",
     "text": [
      "Epoch 8 [Val]:  76%|███████▌  | 1520/2004 [06:26<00:54,  8.91it/s, Loss=0.0548, Acc=96.64%]"
     ]
    },
    {
     "name": "stdout",
     "output_type": "stream",
     "text": [
      "[2025-02-26 19:34:39] Processed 1520 validation batches\n"
     ]
    },
    {
     "name": "stderr",
     "output_type": "stream",
     "text": [
      "Epoch 8 [Val]:  77%|███████▋  | 1540/2004 [06:30<03:26,  2.24it/s, Loss=0.0013, Acc=96.68%]"
     ]
    },
    {
     "name": "stdout",
     "output_type": "stream",
     "text": [
      "[2025-02-26 19:34:43] Processed 1540 validation batches\n"
     ]
    },
    {
     "name": "stderr",
     "output_type": "stream",
     "text": [
      "Epoch 8 [Val]:  78%|███████▊  | 1560/2004 [06:39<02:12,  3.35it/s, Loss=0.0013, Acc=96.70%]"
     ]
    },
    {
     "name": "stdout",
     "output_type": "stream",
     "text": [
      "[2025-02-26 19:34:52] Processed 1560 validation batches\n"
     ]
    },
    {
     "name": "stderr",
     "output_type": "stream",
     "text": [
      "Epoch 8 [Val]:  79%|███████▉  | 1580/2004 [06:46<01:54,  3.69it/s, Loss=0.0043, Acc=96.71%]"
     ]
    },
    {
     "name": "stdout",
     "output_type": "stream",
     "text": [
      "[2025-02-26 19:34:59] Processed 1580 validation batches\n"
     ]
    },
    {
     "name": "stderr",
     "output_type": "stream",
     "text": [
      "Epoch 8 [Val]:  80%|███████▉  | 1600/2004 [06:48<00:44,  9.01it/s, Loss=0.0123, Acc=96.73%]"
     ]
    },
    {
     "name": "stdout",
     "output_type": "stream",
     "text": [
      "[2025-02-26 19:35:01] Processed 1600 validation batches\n"
     ]
    },
    {
     "name": "stderr",
     "output_type": "stream",
     "text": [
      "Epoch 8 [Val]:  81%|████████  | 1620/2004 [07:04<06:46,  1.06s/it, Loss=0.0802, Acc=96.69%]"
     ]
    },
    {
     "name": "stdout",
     "output_type": "stream",
     "text": [
      "[2025-02-26 19:35:17] Processed 1620 validation batches\n"
     ]
    },
    {
     "name": "stderr",
     "output_type": "stream",
     "text": [
      "Epoch 8 [Val]:  82%|████████▏ | 1640/2004 [07:24<02:07,  2.85it/s, Loss=0.0013, Acc=96.73%]"
     ]
    },
    {
     "name": "stdout",
     "output_type": "stream",
     "text": [
      "[2025-02-26 19:35:36] Processed 1640 validation batches\n"
     ]
    },
    {
     "name": "stderr",
     "output_type": "stream",
     "text": [
      "Epoch 8 [Val]:  83%|████████▎ | 1660/2004 [07:28<01:18,  4.37it/s, Loss=0.0076, Acc=96.76%]"
     ]
    },
    {
     "name": "stdout",
     "output_type": "stream",
     "text": [
      "[2025-02-26 19:35:41] Processed 1660 validation batches\n"
     ]
    },
    {
     "name": "stderr",
     "output_type": "stream",
     "text": [
      "Epoch 8 [Val]:  84%|████████▍ | 1680/2004 [07:33<01:14,  4.34it/s, Loss=0.0755, Acc=96.70%]"
     ]
    },
    {
     "name": "stdout",
     "output_type": "stream",
     "text": [
      "[2025-02-26 19:35:46] Processed 1680 validation batches\n"
     ]
    },
    {
     "name": "stderr",
     "output_type": "stream",
     "text": [
      "Epoch 8 [Val]:  85%|████████▍ | 1700/2004 [07:38<01:06,  4.57it/s, Loss=0.6255, Acc=96.67%]"
     ]
    },
    {
     "name": "stdout",
     "output_type": "stream",
     "text": [
      "[2025-02-26 19:35:51] Processed 1700 validation batches\n"
     ]
    },
    {
     "name": "stderr",
     "output_type": "stream",
     "text": [
      "Epoch 8 [Val]:  86%|████████▌ | 1720/2004 [07:43<01:00,  4.67it/s, Loss=0.0000, Acc=96.69%]"
     ]
    },
    {
     "name": "stdout",
     "output_type": "stream",
     "text": [
      "[2025-02-26 19:35:56] Processed 1720 validation batches\n"
     ]
    },
    {
     "name": "stderr",
     "output_type": "stream",
     "text": [
      "Epoch 8 [Val]:  87%|████████▋ | 1740/2004 [07:47<00:55,  4.75it/s, Loss=0.0001, Acc=96.73%]"
     ]
    },
    {
     "name": "stdout",
     "output_type": "stream",
     "text": [
      "[2025-02-26 19:36:00] Processed 1740 validation batches\n"
     ]
    },
    {
     "name": "stderr",
     "output_type": "stream",
     "text": [
      "Epoch 8 [Val]:  88%|████████▊ | 1760/2004 [07:51<00:51,  4.70it/s, Loss=0.0000, Acc=96.76%]"
     ]
    },
    {
     "name": "stdout",
     "output_type": "stream",
     "text": [
      "[2025-02-26 19:36:04] Processed 1760 validation batches\n"
     ]
    },
    {
     "name": "stderr",
     "output_type": "stream",
     "text": [
      "Epoch 8 [Val]:  89%|████████▉ | 1780/2004 [08:01<01:46,  2.11it/s, Loss=0.0000, Acc=96.80%]"
     ]
    },
    {
     "name": "stdout",
     "output_type": "stream",
     "text": [
      "[2025-02-26 19:36:14] Processed 1780 validation batches\n"
     ]
    },
    {
     "name": "stderr",
     "output_type": "stream",
     "text": [
      "Epoch 8 [Val]:  90%|████████▉ | 1800/2004 [08:06<00:38,  5.23it/s, Loss=0.0031, Acc=96.83%]"
     ]
    },
    {
     "name": "stdout",
     "output_type": "stream",
     "text": [
      "[2025-02-26 19:36:18] Processed 1800 validation batches\n"
     ]
    },
    {
     "name": "stderr",
     "output_type": "stream",
     "text": [
      "Epoch 8 [Val]:  91%|█████████ | 1820/2004 [08:12<00:41,  4.46it/s, Loss=0.0001, Acc=96.87%]"
     ]
    },
    {
     "name": "stdout",
     "output_type": "stream",
     "text": [
      "[2025-02-26 19:36:25] Processed 1820 validation batches\n"
     ]
    },
    {
     "name": "stderr",
     "output_type": "stream",
     "text": [
      "Epoch 8 [Val]:  92%|█████████▏| 1840/2004 [08:16<00:36,  4.52it/s, Loss=0.0001, Acc=96.90%]"
     ]
    },
    {
     "name": "stdout",
     "output_type": "stream",
     "text": [
      "[2025-02-26 19:36:29] Processed 1840 validation batches\n"
     ]
    },
    {
     "name": "stderr",
     "output_type": "stream",
     "text": [
      "Epoch 8 [Val]:  93%|█████████▎| 1860/2004 [08:21<00:31,  4.59it/s, Loss=0.0020, Acc=96.93%]"
     ]
    },
    {
     "name": "stdout",
     "output_type": "stream",
     "text": [
      "[2025-02-26 19:36:34] Processed 1860 validation batches\n"
     ]
    },
    {
     "name": "stderr",
     "output_type": "stream",
     "text": [
      "Epoch 8 [Val]:  94%|█████████▍| 1880/2004 [08:35<01:47,  1.15it/s, Loss=0.0001, Acc=96.96%]"
     ]
    },
    {
     "name": "stdout",
     "output_type": "stream",
     "text": [
      "[2025-02-26 19:36:48] Processed 1880 validation batches\n"
     ]
    },
    {
     "name": "stderr",
     "output_type": "stream",
     "text": [
      "Epoch 8 [Val]:  95%|█████████▍| 1900/2004 [08:42<00:32,  3.17it/s, Loss=0.0003, Acc=96.99%]"
     ]
    },
    {
     "name": "stdout",
     "output_type": "stream",
     "text": [
      "[2025-02-26 19:36:55] Processed 1900 validation batches\n"
     ]
    },
    {
     "name": "stderr",
     "output_type": "stream",
     "text": [
      "Epoch 8 [Val]:  96%|█████████▌| 1920/2004 [08:49<00:11,  7.40it/s, Loss=0.0240, Acc=97.01%]"
     ]
    },
    {
     "name": "stdout",
     "output_type": "stream",
     "text": [
      "[2025-02-26 19:37:02] Processed 1920 validation batches\n"
     ]
    },
    {
     "name": "stderr",
     "output_type": "stream",
     "text": [
      "Epoch 8 [Val]:  97%|█████████▋| 1940/2004 [08:54<00:14,  4.41it/s, Loss=0.0147, Acc=97.02%]"
     ]
    },
    {
     "name": "stdout",
     "output_type": "stream",
     "text": [
      "[2025-02-26 19:37:07] Processed 1940 validation batches\n"
     ]
    },
    {
     "name": "stderr",
     "output_type": "stream",
     "text": [
      "Epoch 8 [Val]:  98%|█████████▊| 1960/2004 [08:58<00:10,  4.23it/s, Loss=0.0023, Acc=97.04%]"
     ]
    },
    {
     "name": "stdout",
     "output_type": "stream",
     "text": [
      "[2025-02-26 19:37:11] Processed 1960 validation batches\n"
     ]
    },
    {
     "name": "stderr",
     "output_type": "stream",
     "text": [
      "Epoch 8 [Val]:  99%|█████████▉| 1979/2004 [09:01<00:03,  8.13it/s, Loss=0.0787, Acc=97.00%]"
     ]
    },
    {
     "name": "stdout",
     "output_type": "stream",
     "text": [
      "[2025-02-26 19:37:14] Processed 1980 validation batches\n"
     ]
    },
    {
     "name": "stderr",
     "output_type": "stream",
     "text": [
      "Epoch 8 [Val]: 100%|█████████▉| 1999/2004 [09:03<00:00, 11.31it/s, Loss=0.0980, Acc=96.97%]"
     ]
    },
    {
     "name": "stdout",
     "output_type": "stream",
     "text": [
      "[2025-02-26 19:37:16] Processed 2000 validation batches\n"
     ]
    },
    {
     "name": "stderr",
     "output_type": "stream",
     "text": [
      "Epoch 8 [Val]: 100%|██████████| 2004/2004 [09:03<00:00,  3.69it/s, Loss=0.0239, Acc=96.98%]"
     ]
    },
    {
     "name": "stdout",
     "output_type": "stream",
     "text": [
      "[2025-02-26 19:37:16] Epoch 8 Results:\n",
      "[2025-02-26 19:37:16] Train Loss: 0.2358 | Train Acc: 92.57%\n",
      "[2025-02-26 19:37:16] Val Loss: 0.0966 | Val Acc: 96.98%\n"
     ]
    },
    {
     "name": "stderr",
     "output_type": "stream",
     "text": [
      "\n"
     ]
    },
    {
     "name": "stdout",
     "output_type": "stream",
     "text": [
      "[2025-02-26 19:37:16] Saved best model\n",
      "[2025-02-26 19:37:16] Starting epoch 9/15\n"
     ]
    },
    {
     "name": "stderr",
     "output_type": "stream",
     "text": [
      "Epoch 9 [Train]:   0%|          | 0/2004 [00:00<?, ?it/s, Loss=0.1364, Acc=100.00%]"
     ]
    },
    {
     "name": "stdout",
     "output_type": "stream",
     "text": [
      "[2025-02-26 19:37:16] Processed 0 training batches\n"
     ]
    },
    {
     "name": "stderr",
     "output_type": "stream",
     "text": [
      "Epoch 9 [Train]:   2%|▏         | 50/2004 [00:13<07:56,  4.10it/s, Loss=0.0729, Acc=92.77%]"
     ]
    },
    {
     "name": "stdout",
     "output_type": "stream",
     "text": [
      "[2025-02-26 19:37:30] Processed 50 training batches\n"
     ]
    },
    {
     "name": "stderr",
     "output_type": "stream",
     "text": [
      "Epoch 9 [Train]:   5%|▍         | 100/2004 [00:27<08:03,  3.94it/s, Loss=0.0554, Acc=92.76%]"
     ]
    },
    {
     "name": "stdout",
     "output_type": "stream",
     "text": [
      "[2025-02-26 19:37:44] Processed 100 training batches\n"
     ]
    },
    {
     "name": "stderr",
     "output_type": "stream",
     "text": [
      "Epoch 9 [Train]:   7%|▋         | 150/2004 [00:40<08:46,  3.52it/s, Loss=0.3757, Acc=92.72%]"
     ]
    },
    {
     "name": "stdout",
     "output_type": "stream",
     "text": [
      "[2025-02-26 19:37:57] Processed 150 training batches\n"
     ]
    },
    {
     "name": "stderr",
     "output_type": "stream",
     "text": [
      "Epoch 9 [Train]:  10%|▉         | 200/2004 [00:53<09:16,  3.24it/s, Loss=0.1627, Acc=93.03%]"
     ]
    },
    {
     "name": "stdout",
     "output_type": "stream",
     "text": [
      "[2025-02-26 19:38:10] Processed 200 training batches\n"
     ]
    },
    {
     "name": "stderr",
     "output_type": "stream",
     "text": [
      "Epoch 9 [Train]:  12%|█▏        | 250/2004 [01:07<08:41,  3.36it/s, Loss=0.1879, Acc=93.50%]"
     ]
    },
    {
     "name": "stdout",
     "output_type": "stream",
     "text": [
      "[2025-02-26 19:38:24] Processed 250 training batches\n"
     ]
    },
    {
     "name": "stderr",
     "output_type": "stream",
     "text": [
      "Epoch 9 [Train]:  15%|█▍        | 300/2004 [01:20<06:44,  4.22it/s, Loss=0.2481, Acc=93.42%]"
     ]
    },
    {
     "name": "stdout",
     "output_type": "stream",
     "text": [
      "[2025-02-26 19:38:37] Processed 300 training batches\n"
     ]
    },
    {
     "name": "stderr",
     "output_type": "stream",
     "text": [
      "Epoch 9 [Train]:  17%|█▋        | 350/2004 [01:34<07:52,  3.50it/s, Loss=0.0635, Acc=93.36%]"
     ]
    },
    {
     "name": "stdout",
     "output_type": "stream",
     "text": [
      "[2025-02-26 19:38:50] Processed 350 training batches\n"
     ]
    },
    {
     "name": "stderr",
     "output_type": "stream",
     "text": [
      "Epoch 9 [Train]:  20%|█▉        | 400/2004 [01:47<05:45,  4.64it/s, Loss=0.0637, Acc=93.30%]"
     ]
    },
    {
     "name": "stdout",
     "output_type": "stream",
     "text": [
      "[2025-02-26 19:39:04] Processed 400 training batches\n"
     ]
    },
    {
     "name": "stderr",
     "output_type": "stream",
     "text": [
      "Epoch 9 [Train]:  22%|██▏       | 450/2004 [02:00<06:24,  4.04it/s, Loss=0.1318, Acc=93.50%]"
     ]
    },
    {
     "name": "stdout",
     "output_type": "stream",
     "text": [
      "[2025-02-26 19:39:17] Processed 450 training batches\n"
     ]
    },
    {
     "name": "stderr",
     "output_type": "stream",
     "text": [
      "Epoch 9 [Train]:  25%|██▍       | 500/2004 [02:14<06:45,  3.71it/s, Loss=0.0528, Acc=93.60%]"
     ]
    },
    {
     "name": "stdout",
     "output_type": "stream",
     "text": [
      "[2025-02-26 19:39:31] Processed 500 training batches\n"
     ]
    },
    {
     "name": "stderr",
     "output_type": "stream",
     "text": [
      "Epoch 9 [Train]:  27%|██▋       | 550/2004 [02:28<06:06,  3.96it/s, Loss=0.2482, Acc=93.66%]"
     ]
    },
    {
     "name": "stdout",
     "output_type": "stream",
     "text": [
      "[2025-02-26 19:39:45] Processed 550 training batches\n"
     ]
    },
    {
     "name": "stderr",
     "output_type": "stream",
     "text": [
      "Epoch 9 [Train]:  30%|██▉       | 600/2004 [02:42<05:51,  3.99it/s, Loss=0.2236, Acc=93.63%]"
     ]
    },
    {
     "name": "stdout",
     "output_type": "stream",
     "text": [
      "[2025-02-26 19:39:58] Processed 600 training batches\n"
     ]
    },
    {
     "name": "stderr",
     "output_type": "stream",
     "text": [
      "Epoch 9 [Train]:  32%|███▏      | 650/2004 [02:54<05:34,  4.05it/s, Loss=0.0387, Acc=93.73%]"
     ]
    },
    {
     "name": "stdout",
     "output_type": "stream",
     "text": [
      "[2025-02-26 19:40:11] Processed 650 training batches\n"
     ]
    },
    {
     "name": "stderr",
     "output_type": "stream",
     "text": [
      "Epoch 9 [Train]:  35%|███▍      | 700/2004 [03:09<06:14,  3.48it/s, Loss=0.0864, Acc=93.65%]"
     ]
    },
    {
     "name": "stdout",
     "output_type": "stream",
     "text": [
      "[2025-02-26 19:40:26] Processed 700 training batches\n"
     ]
    },
    {
     "name": "stderr",
     "output_type": "stream",
     "text": [
      "Epoch 9 [Train]:  37%|███▋      | 750/2004 [03:24<05:45,  3.63it/s, Loss=0.1259, Acc=93.79%]"
     ]
    },
    {
     "name": "stdout",
     "output_type": "stream",
     "text": [
      "[2025-02-26 19:40:41] Processed 750 training batches\n"
     ]
    },
    {
     "name": "stderr",
     "output_type": "stream",
     "text": [
      "Epoch 9 [Train]:  40%|███▉      | 800/2004 [03:39<05:39,  3.54it/s, Loss=0.2823, Acc=93.84%]"
     ]
    },
    {
     "name": "stdout",
     "output_type": "stream",
     "text": [
      "[2025-02-26 19:40:56] Processed 800 training batches\n"
     ]
    },
    {
     "name": "stderr",
     "output_type": "stream",
     "text": [
      "Epoch 9 [Train]:  42%|████▏     | 850/2004 [03:53<04:47,  4.02it/s, Loss=0.0770, Acc=93.88%]"
     ]
    },
    {
     "name": "stdout",
     "output_type": "stream",
     "text": [
      "[2025-02-26 19:41:09] Processed 850 training batches\n"
     ]
    },
    {
     "name": "stderr",
     "output_type": "stream",
     "text": [
      "Epoch 9 [Train]:  45%|████▍     | 900/2004 [04:07<05:09,  3.57it/s, Loss=0.0445, Acc=93.86%]"
     ]
    },
    {
     "name": "stdout",
     "output_type": "stream",
     "text": [
      "[2025-02-26 19:41:24] Processed 900 training batches\n"
     ]
    },
    {
     "name": "stderr",
     "output_type": "stream",
     "text": [
      "Epoch 9 [Train]:  47%|████▋     | 950/2004 [04:21<04:48,  3.65it/s, Loss=0.2709, Acc=93.89%]"
     ]
    },
    {
     "name": "stdout",
     "output_type": "stream",
     "text": [
      "[2025-02-26 19:41:38] Processed 950 training batches\n"
     ]
    },
    {
     "name": "stderr",
     "output_type": "stream",
     "text": [
      "Epoch 9 [Train]:  50%|████▉     | 1000/2004 [04:36<04:43,  3.54it/s, Loss=0.0504, Acc=93.94%]"
     ]
    },
    {
     "name": "stdout",
     "output_type": "stream",
     "text": [
      "[2025-02-26 19:41:52] Processed 1000 training batches\n"
     ]
    },
    {
     "name": "stderr",
     "output_type": "stream",
     "text": [
      "Epoch 9 [Train]:  52%|█████▏    | 1050/2004 [04:50<04:17,  3.71it/s, Loss=0.6758, Acc=93.90%]"
     ]
    },
    {
     "name": "stdout",
     "output_type": "stream",
     "text": [
      "[2025-02-26 19:42:06] Processed 1050 training batches\n"
     ]
    },
    {
     "name": "stderr",
     "output_type": "stream",
     "text": [
      "Epoch 9 [Train]:  55%|█████▍    | 1100/2004 [05:04<04:38,  3.25it/s, Loss=0.0403, Acc=93.92%]"
     ]
    },
    {
     "name": "stdout",
     "output_type": "stream",
     "text": [
      "[2025-02-26 19:42:20] Processed 1100 training batches\n"
     ]
    },
    {
     "name": "stderr",
     "output_type": "stream",
     "text": [
      "Epoch 9 [Train]:  57%|█████▋    | 1150/2004 [05:19<04:52,  2.92it/s, Loss=0.3557, Acc=93.95%]"
     ]
    },
    {
     "name": "stdout",
     "output_type": "stream",
     "text": [
      "[2025-02-26 19:42:35] Processed 1150 training batches\n"
     ]
    },
    {
     "name": "stderr",
     "output_type": "stream",
     "text": [
      "Epoch 9 [Train]:  60%|█████▉    | 1200/2004 [05:33<04:18,  3.11it/s, Loss=0.0504, Acc=93.99%]"
     ]
    },
    {
     "name": "stdout",
     "output_type": "stream",
     "text": [
      "[2025-02-26 19:42:50] Processed 1200 training batches\n"
     ]
    },
    {
     "name": "stderr",
     "output_type": "stream",
     "text": [
      "Epoch 9 [Train]:  62%|██████▏   | 1250/2004 [05:47<03:12,  3.92it/s, Loss=0.0438, Acc=93.98%]"
     ]
    },
    {
     "name": "stdout",
     "output_type": "stream",
     "text": [
      "[2025-02-26 19:43:04] Processed 1250 training batches\n"
     ]
    },
    {
     "name": "stderr",
     "output_type": "stream",
     "text": [
      "Epoch 9 [Train]:  65%|██████▍   | 1300/2004 [06:02<03:21,  3.49it/s, Loss=0.0355, Acc=94.02%]"
     ]
    },
    {
     "name": "stdout",
     "output_type": "stream",
     "text": [
      "[2025-02-26 19:43:18] Processed 1300 training batches\n"
     ]
    },
    {
     "name": "stderr",
     "output_type": "stream",
     "text": [
      "Epoch 9 [Train]:  67%|██████▋   | 1350/2004 [06:17<02:55,  3.73it/s, Loss=0.0070, Acc=94.00%]"
     ]
    },
    {
     "name": "stdout",
     "output_type": "stream",
     "text": [
      "[2025-02-26 19:43:33] Processed 1350 training batches\n"
     ]
    },
    {
     "name": "stderr",
     "output_type": "stream",
     "text": [
      "Epoch 9 [Train]:  70%|██████▉   | 1400/2004 [06:31<02:42,  3.71it/s, Loss=0.0480, Acc=94.01%]"
     ]
    },
    {
     "name": "stdout",
     "output_type": "stream",
     "text": [
      "[2025-02-26 19:43:48] Processed 1400 training batches\n"
     ]
    },
    {
     "name": "stderr",
     "output_type": "stream",
     "text": [
      "Epoch 9 [Train]:  72%|███████▏  | 1450/2004 [06:46<02:50,  3.24it/s, Loss=0.0299, Acc=93.97%]"
     ]
    },
    {
     "name": "stdout",
     "output_type": "stream",
     "text": [
      "[2025-02-26 19:44:03] Processed 1450 training batches\n"
     ]
    },
    {
     "name": "stderr",
     "output_type": "stream",
     "text": [
      "Epoch 9 [Train]:  75%|███████▍  | 1500/2004 [07:00<01:55,  4.35it/s, Loss=0.4940, Acc=93.97%]"
     ]
    },
    {
     "name": "stdout",
     "output_type": "stream",
     "text": [
      "[2025-02-26 19:44:17] Processed 1500 training batches\n"
     ]
    },
    {
     "name": "stderr",
     "output_type": "stream",
     "text": [
      "Epoch 9 [Train]:  77%|███████▋  | 1550/2004 [07:16<02:15,  3.35it/s, Loss=0.1673, Acc=94.01%]"
     ]
    },
    {
     "name": "stdout",
     "output_type": "stream",
     "text": [
      "[2025-02-26 19:44:32] Processed 1550 training batches\n"
     ]
    },
    {
     "name": "stderr",
     "output_type": "stream",
     "text": [
      "Epoch 9 [Train]:  80%|███████▉  | 1600/2004 [07:30<01:57,  3.43it/s, Loss=0.4765, Acc=94.00%]"
     ]
    },
    {
     "name": "stdout",
     "output_type": "stream",
     "text": [
      "[2025-02-26 19:44:47] Processed 1600 training batches\n"
     ]
    },
    {
     "name": "stderr",
     "output_type": "stream",
     "text": [
      "Epoch 9 [Train]:  82%|████████▏ | 1650/2004 [07:45<01:55,  3.05it/s, Loss=0.1107, Acc=94.00%]"
     ]
    },
    {
     "name": "stdout",
     "output_type": "stream",
     "text": [
      "[2025-02-26 19:45:01] Processed 1650 training batches\n"
     ]
    },
    {
     "name": "stderr",
     "output_type": "stream",
     "text": [
      "Epoch 9 [Train]:  85%|████████▍ | 1700/2004 [07:59<01:12,  4.18it/s, Loss=0.0133, Acc=93.98%]"
     ]
    },
    {
     "name": "stdout",
     "output_type": "stream",
     "text": [
      "[2025-02-26 19:45:16] Processed 1700 training batches\n"
     ]
    },
    {
     "name": "stderr",
     "output_type": "stream",
     "text": [
      "Epoch 9 [Train]:  87%|████████▋ | 1750/2004 [08:13<01:32,  2.75it/s, Loss=0.0951, Acc=94.00%]"
     ]
    },
    {
     "name": "stdout",
     "output_type": "stream",
     "text": [
      "[2025-02-26 19:45:30] Processed 1750 training batches\n"
     ]
    },
    {
     "name": "stderr",
     "output_type": "stream",
     "text": [
      "Epoch 9 [Train]:  90%|████████▉ | 1800/2004 [08:28<01:01,  3.33it/s, Loss=0.0282, Acc=94.02%]"
     ]
    },
    {
     "name": "stdout",
     "output_type": "stream",
     "text": [
      "[2025-02-26 19:45:45] Processed 1800 training batches\n"
     ]
    },
    {
     "name": "stderr",
     "output_type": "stream",
     "text": [
      "Epoch 9 [Train]:  92%|█████████▏| 1850/2004 [08:43<00:43,  3.58it/s, Loss=0.2403, Acc=94.02%]"
     ]
    },
    {
     "name": "stdout",
     "output_type": "stream",
     "text": [
      "[2025-02-26 19:46:00] Processed 1850 training batches\n"
     ]
    },
    {
     "name": "stderr",
     "output_type": "stream",
     "text": [
      "Epoch 9 [Train]:  95%|█████████▍| 1900/2004 [08:59<00:32,  3.21it/s, Loss=0.1429, Acc=93.97%]"
     ]
    },
    {
     "name": "stdout",
     "output_type": "stream",
     "text": [
      "[2025-02-26 19:46:15] Processed 1900 training batches\n"
     ]
    },
    {
     "name": "stderr",
     "output_type": "stream",
     "text": [
      "Epoch 9 [Train]:  97%|█████████▋| 1950/2004 [09:14<00:15,  3.55it/s, Loss=0.3411, Acc=93.97%]"
     ]
    },
    {
     "name": "stdout",
     "output_type": "stream",
     "text": [
      "[2025-02-26 19:46:30] Processed 1950 training batches\n"
     ]
    },
    {
     "name": "stderr",
     "output_type": "stream",
     "text": [
      "Epoch 9 [Train]: 100%|█████████▉| 2000/2004 [09:28<00:00,  4.20it/s, Loss=0.0872, Acc=93.94%]"
     ]
    },
    {
     "name": "stdout",
     "output_type": "stream",
     "text": [
      "[2025-02-26 19:46:45] Processed 2000 training batches\n"
     ]
    },
    {
     "name": "stderr",
     "output_type": "stream",
     "text": [
      "Epoch 9 [Train]: 100%|██████████| 2004/2004 [09:29<00:00,  3.52it/s, Loss=0.0237, Acc=93.94%]\n",
      "Epoch 9 [Val]:   0%|          | 0/2004 [00:00<?, ?it/s, Loss=1.3572, Acc=56.25%]"
     ]
    },
    {
     "name": "stdout",
     "output_type": "stream",
     "text": [
      "[2025-02-26 19:46:46] Processed 0 validation batches\n"
     ]
    },
    {
     "name": "stderr",
     "output_type": "stream",
     "text": [
      "Epoch 9 [Val]:   1%|          | 20/2004 [00:07<09:46,  3.38it/s, Loss=0.4544, Acc=90.48%]"
     ]
    },
    {
     "name": "stdout",
     "output_type": "stream",
     "text": [
      "[2025-02-26 19:46:53] Processed 20 validation batches\n"
     ]
    },
    {
     "name": "stderr",
     "output_type": "stream",
     "text": [
      "Epoch 9 [Val]:   2%|▏         | 40/2004 [00:12<09:08,  3.58it/s, Loss=0.0136, Acc=94.36%]"
     ]
    },
    {
     "name": "stdout",
     "output_type": "stream",
     "text": [
      "[2025-02-26 19:46:58] Processed 40 validation batches\n"
     ]
    },
    {
     "name": "stderr",
     "output_type": "stream",
     "text": [
      "Epoch 9 [Val]:   3%|▎         | 60/2004 [00:20<12:31,  2.59it/s, Loss=0.2479, Acc=93.14%]"
     ]
    },
    {
     "name": "stdout",
     "output_type": "stream",
     "text": [
      "[2025-02-26 19:47:06] Processed 60 validation batches\n"
     ]
    },
    {
     "name": "stderr",
     "output_type": "stream",
     "text": [
      "Epoch 9 [Val]:   4%|▍         | 80/2004 [00:24<07:05,  4.53it/s, Loss=0.0385, Acc=94.21%]"
     ]
    },
    {
     "name": "stdout",
     "output_type": "stream",
     "text": [
      "[2025-02-26 19:47:11] Processed 80 validation batches\n"
     ]
    },
    {
     "name": "stderr",
     "output_type": "stream",
     "text": [
      "Epoch 9 [Val]:   5%|▍         | 100/2004 [00:35<10:24,  3.05it/s, Loss=0.0006, Acc=94.74%]"
     ]
    },
    {
     "name": "stdout",
     "output_type": "stream",
     "text": [
      "[2025-02-26 19:47:21] Processed 100 validation batches\n"
     ]
    },
    {
     "name": "stderr",
     "output_type": "stream",
     "text": [
      "Epoch 9 [Val]:   6%|▌         | 120/2004 [00:41<07:53,  3.97it/s, Loss=1.6053, Acc=94.32%]"
     ]
    },
    {
     "name": "stdout",
     "output_type": "stream",
     "text": [
      "[2025-02-26 19:47:27] Processed 120 validation batches\n"
     ]
    },
    {
     "name": "stderr",
     "output_type": "stream",
     "text": [
      "Epoch 9 [Val]:   7%|▋         | 140/2004 [00:52<31:13,  1.00s/it, Loss=0.1697, Acc=91.58%]"
     ]
    },
    {
     "name": "stdout",
     "output_type": "stream",
     "text": [
      "[2025-02-26 19:47:38] Processed 140 validation batches\n"
     ]
    },
    {
     "name": "stderr",
     "output_type": "stream",
     "text": [
      "Epoch 9 [Val]:   8%|▊         | 160/2004 [00:57<06:52,  4.47it/s, Loss=0.0107, Acc=91.54%]"
     ]
    },
    {
     "name": "stdout",
     "output_type": "stream",
     "text": [
      "[2025-02-26 19:47:43] Processed 160 validation batches\n"
     ]
    },
    {
     "name": "stderr",
     "output_type": "stream",
     "text": [
      "Epoch 9 [Val]:   9%|▉         | 180/2004 [01:04<12:01,  2.53it/s, Loss=0.4465, Acc=91.85%]"
     ]
    },
    {
     "name": "stdout",
     "output_type": "stream",
     "text": [
      "[2025-02-26 19:47:50] Processed 180 validation batches\n"
     ]
    },
    {
     "name": "stderr",
     "output_type": "stream",
     "text": [
      "Epoch 9 [Val]:  10%|▉         | 200/2004 [01:14<17:18,  1.74it/s, Loss=0.0128, Acc=90.95%]"
     ]
    },
    {
     "name": "stdout",
     "output_type": "stream",
     "text": [
      "[2025-02-26 19:48:00] Processed 200 validation batches\n"
     ]
    },
    {
     "name": "stderr",
     "output_type": "stream",
     "text": [
      "Epoch 9 [Val]:  11%|█         | 220/2004 [01:28<04:48,  6.18it/s, Loss=0.0010, Acc=91.66%]"
     ]
    },
    {
     "name": "stdout",
     "output_type": "stream",
     "text": [
      "[2025-02-26 19:48:14] Processed 220 validation batches\n"
     ]
    },
    {
     "name": "stderr",
     "output_type": "stream",
     "text": [
      "Epoch 9 [Val]:  12%|█▏        | 240/2004 [01:31<03:19,  8.85it/s, Loss=0.0011, Acc=92.35%]"
     ]
    },
    {
     "name": "stdout",
     "output_type": "stream",
     "text": [
      "[2025-02-26 19:48:17] Processed 240 validation batches\n"
     ]
    },
    {
     "name": "stderr",
     "output_type": "stream",
     "text": [
      "Epoch 9 [Val]:  13%|█▎        | 260/2004 [01:33<03:12,  9.07it/s, Loss=0.0029, Acc=92.91%]"
     ]
    },
    {
     "name": "stdout",
     "output_type": "stream",
     "text": [
      "[2025-02-26 19:48:19] Processed 260 validation batches\n"
     ]
    },
    {
     "name": "stderr",
     "output_type": "stream",
     "text": [
      "Epoch 9 [Val]:  14%|█▍        | 280/2004 [01:35<03:08,  9.16it/s, Loss=0.0023, Acc=93.42%]"
     ]
    },
    {
     "name": "stdout",
     "output_type": "stream",
     "text": [
      "[2025-02-26 19:48:21] Processed 280 validation batches\n"
     ]
    },
    {
     "name": "stderr",
     "output_type": "stream",
     "text": [
      "Epoch 9 [Val]:  15%|█▍        | 300/2004 [01:37<03:14,  8.77it/s, Loss=0.0036, Acc=93.85%]"
     ]
    },
    {
     "name": "stdout",
     "output_type": "stream",
     "text": [
      "[2025-02-26 19:48:23] Processed 300 validation batches\n"
     ]
    },
    {
     "name": "stderr",
     "output_type": "stream",
     "text": [
      "Epoch 9 [Val]:  16%|█▌        | 320/2004 [01:39<03:04,  9.13it/s, Loss=0.0116, Acc=94.24%]"
     ]
    },
    {
     "name": "stdout",
     "output_type": "stream",
     "text": [
      "[2025-02-26 19:48:26] Processed 320 validation batches\n"
     ]
    },
    {
     "name": "stderr",
     "output_type": "stream",
     "text": [
      "Epoch 9 [Val]:  17%|█▋        | 340/2004 [01:42<03:01,  9.15it/s, Loss=0.0006, Acc=94.57%]"
     ]
    },
    {
     "name": "stdout",
     "output_type": "stream",
     "text": [
      "[2025-02-26 19:48:28] Processed 340 validation batches\n"
     ]
    },
    {
     "name": "stderr",
     "output_type": "stream",
     "text": [
      "Epoch 9 [Val]:  18%|█▊        | 360/2004 [01:44<03:05,  8.84it/s, Loss=0.0839, Acc=94.86%]"
     ]
    },
    {
     "name": "stdout",
     "output_type": "stream",
     "text": [
      "[2025-02-26 19:48:30] Processed 360 validation batches\n"
     ]
    },
    {
     "name": "stderr",
     "output_type": "stream",
     "text": [
      "Epoch 9 [Val]:  19%|█▉        | 380/2004 [01:46<03:01,  8.97it/s, Loss=0.0005, Acc=95.06%]"
     ]
    },
    {
     "name": "stdout",
     "output_type": "stream",
     "text": [
      "[2025-02-26 19:48:32] Processed 380 validation batches\n"
     ]
    },
    {
     "name": "stderr",
     "output_type": "stream",
     "text": [
      "Epoch 9 [Val]:  20%|█▉        | 400/2004 [01:48<03:03,  8.76it/s, Loss=0.0096, Acc=95.26%]"
     ]
    },
    {
     "name": "stdout",
     "output_type": "stream",
     "text": [
      "[2025-02-26 19:48:35] Processed 400 validation batches\n"
     ]
    },
    {
     "name": "stderr",
     "output_type": "stream",
     "text": [
      "Epoch 9 [Val]:  21%|██        | 420/2004 [01:51<02:50,  9.27it/s, Loss=0.0040, Acc=95.44%]"
     ]
    },
    {
     "name": "stdout",
     "output_type": "stream",
     "text": [
      "[2025-02-26 19:48:37] Processed 420 validation batches\n"
     ]
    },
    {
     "name": "stderr",
     "output_type": "stream",
     "text": [
      "Epoch 9 [Val]:  22%|██▏       | 440/2004 [01:53<02:52,  9.05it/s, Loss=0.0004, Acc=95.62%]"
     ]
    },
    {
     "name": "stdout",
     "output_type": "stream",
     "text": [
      "[2025-02-26 19:48:39] Processed 440 validation batches\n"
     ]
    },
    {
     "name": "stderr",
     "output_type": "stream",
     "text": [
      "Epoch 9 [Val]:  23%|██▎       | 460/2004 [02:06<12:11,  2.11it/s, Loss=0.0580, Acc=95.78%]"
     ]
    },
    {
     "name": "stdout",
     "output_type": "stream",
     "text": [
      "[2025-02-26 19:48:52] Processed 460 validation batches\n"
     ]
    },
    {
     "name": "stderr",
     "output_type": "stream",
     "text": [
      "Epoch 9 [Val]:  24%|██▍       | 480/2004 [02:12<07:39,  3.32it/s, Loss=0.7672, Acc=95.57%]"
     ]
    },
    {
     "name": "stdout",
     "output_type": "stream",
     "text": [
      "[2025-02-26 19:48:58] Processed 480 validation batches\n"
     ]
    },
    {
     "name": "stderr",
     "output_type": "stream",
     "text": [
      "Epoch 9 [Val]:  25%|██▍       | 500/2004 [02:18<02:51,  8.75it/s, Loss=0.0300, Acc=95.72%]"
     ]
    },
    {
     "name": "stdout",
     "output_type": "stream",
     "text": [
      "[2025-02-26 19:49:05] Processed 500 validation batches\n"
     ]
    },
    {
     "name": "stderr",
     "output_type": "stream",
     "text": [
      "Epoch 9 [Val]:  26%|██▌       | 520/2004 [02:21<02:45,  8.98it/s, Loss=0.0053, Acc=95.84%]"
     ]
    },
    {
     "name": "stdout",
     "output_type": "stream",
     "text": [
      "[2025-02-26 19:49:07] Processed 520 validation batches\n"
     ]
    },
    {
     "name": "stderr",
     "output_type": "stream",
     "text": [
      "Epoch 9 [Val]:  27%|██▋       | 540/2004 [02:23<03:57,  6.16it/s, Loss=0.0045, Acc=95.97%]"
     ]
    },
    {
     "name": "stdout",
     "output_type": "stream",
     "text": [
      "[2025-02-26 19:49:10] Processed 540 validation batches\n"
     ]
    },
    {
     "name": "stderr",
     "output_type": "stream",
     "text": [
      "Epoch 9 [Val]:  28%|██▊       | 560/2004 [02:27<02:59,  8.06it/s, Loss=0.0031, Acc=96.09%]"
     ]
    },
    {
     "name": "stdout",
     "output_type": "stream",
     "text": [
      "[2025-02-26 19:49:13] Processed 560 validation batches\n"
     ]
    },
    {
     "name": "stderr",
     "output_type": "stream",
     "text": [
      "Epoch 9 [Val]:  29%|██▉       | 580/2004 [02:31<06:48,  3.48it/s, Loss=0.0305, Acc=96.18%]"
     ]
    },
    {
     "name": "stdout",
     "output_type": "stream",
     "text": [
      "[2025-02-26 19:49:17] Processed 580 validation batches\n"
     ]
    },
    {
     "name": "stderr",
     "output_type": "stream",
     "text": [
      "Epoch 9 [Val]:  30%|██▉       | 600/2004 [02:33<02:56,  7.94it/s, Loss=0.0004, Acc=96.31%]"
     ]
    },
    {
     "name": "stdout",
     "output_type": "stream",
     "text": [
      "[2025-02-26 19:49:19] Processed 600 validation batches\n"
     ]
    },
    {
     "name": "stderr",
     "output_type": "stream",
     "text": [
      "Epoch 9 [Val]:  31%|███       | 620/2004 [02:36<02:52,  8.04it/s, Loss=0.0000, Acc=96.43%]"
     ]
    },
    {
     "name": "stdout",
     "output_type": "stream",
     "text": [
      "[2025-02-26 19:49:22] Processed 620 validation batches\n"
     ]
    },
    {
     "name": "stderr",
     "output_type": "stream",
     "text": [
      "Epoch 9 [Val]:  32%|███▏      | 640/2004 [02:38<02:47,  8.13it/s, Loss=0.0000, Acc=96.54%]"
     ]
    },
    {
     "name": "stdout",
     "output_type": "stream",
     "text": [
      "[2025-02-26 19:49:24] Processed 640 validation batches\n"
     ]
    },
    {
     "name": "stderr",
     "output_type": "stream",
     "text": [
      "Epoch 9 [Val]:  33%|███▎      | 660/2004 [02:41<02:43,  8.22it/s, Loss=0.0053, Acc=96.64%]"
     ]
    },
    {
     "name": "stdout",
     "output_type": "stream",
     "text": [
      "[2025-02-26 19:49:27] Processed 660 validation batches\n"
     ]
    },
    {
     "name": "stderr",
     "output_type": "stream",
     "text": [
      "Epoch 9 [Val]:  34%|███▍      | 680/2004 [02:43<02:41,  8.22it/s, Loss=0.0002, Acc=96.74%]"
     ]
    },
    {
     "name": "stdout",
     "output_type": "stream",
     "text": [
      "[2025-02-26 19:49:29] Processed 680 validation batches\n"
     ]
    },
    {
     "name": "stderr",
     "output_type": "stream",
     "text": [
      "Epoch 9 [Val]:  35%|███▍      | 700/2004 [02:46<02:34,  8.45it/s, Loss=0.0001, Acc=96.83%]"
     ]
    },
    {
     "name": "stdout",
     "output_type": "stream",
     "text": [
      "[2025-02-26 19:49:32] Processed 700 validation batches\n"
     ]
    },
    {
     "name": "stderr",
     "output_type": "stream",
     "text": [
      "Epoch 9 [Val]:  36%|███▌      | 720/2004 [02:48<02:36,  8.22it/s, Loss=0.0045, Acc=96.92%]"
     ]
    },
    {
     "name": "stdout",
     "output_type": "stream",
     "text": [
      "[2025-02-26 19:49:34] Processed 720 validation batches\n"
     ]
    },
    {
     "name": "stderr",
     "output_type": "stream",
     "text": [
      "Epoch 9 [Val]:  37%|███▋      | 740/2004 [02:52<02:37,  8.01it/s, Loss=0.0009, Acc=97.01%]"
     ]
    },
    {
     "name": "stdout",
     "output_type": "stream",
     "text": [
      "[2025-02-26 19:49:38] Processed 740 validation batches\n"
     ]
    },
    {
     "name": "stderr",
     "output_type": "stream",
     "text": [
      "Epoch 9 [Val]:  38%|███▊      | 760/2004 [03:04<06:43,  3.08it/s, Loss=0.0007, Acc=97.06%]"
     ]
    },
    {
     "name": "stdout",
     "output_type": "stream",
     "text": [
      "[2025-02-26 19:49:50] Processed 760 validation batches\n"
     ]
    },
    {
     "name": "stderr",
     "output_type": "stream",
     "text": [
      "Epoch 9 [Val]:  39%|███▉      | 780/2004 [03:12<06:43,  3.03it/s, Loss=0.0003, Acc=97.14%]"
     ]
    },
    {
     "name": "stdout",
     "output_type": "stream",
     "text": [
      "[2025-02-26 19:49:58] Processed 780 validation batches\n"
     ]
    },
    {
     "name": "stderr",
     "output_type": "stream",
     "text": [
      "Epoch 9 [Val]:  40%|███▉      | 800/2004 [03:15<02:32,  7.89it/s, Loss=0.0004, Acc=97.21%]"
     ]
    },
    {
     "name": "stdout",
     "output_type": "stream",
     "text": [
      "[2025-02-26 19:50:01] Processed 800 validation batches\n"
     ]
    },
    {
     "name": "stderr",
     "output_type": "stream",
     "text": [
      "Epoch 9 [Val]:  41%|████      | 820/2004 [03:17<02:25,  8.15it/s, Loss=0.0192, Acc=97.27%]"
     ]
    },
    {
     "name": "stdout",
     "output_type": "stream",
     "text": [
      "[2025-02-26 19:50:03] Processed 820 validation batches\n"
     ]
    },
    {
     "name": "stderr",
     "output_type": "stream",
     "text": [
      "Epoch 9 [Val]:  42%|████▏     | 840/2004 [03:23<04:23,  4.42it/s, Loss=0.1708, Acc=97.25%]"
     ]
    },
    {
     "name": "stdout",
     "output_type": "stream",
     "text": [
      "[2025-02-26 19:50:09] Processed 840 validation batches\n"
     ]
    },
    {
     "name": "stderr",
     "output_type": "stream",
     "text": [
      "Epoch 9 [Val]:  43%|████▎     | 860/2004 [03:28<08:45,  2.18it/s, Loss=0.2606, Acc=97.11%]"
     ]
    },
    {
     "name": "stdout",
     "output_type": "stream",
     "text": [
      "[2025-02-26 19:50:14] Processed 860 validation batches\n"
     ]
    },
    {
     "name": "stderr",
     "output_type": "stream",
     "text": [
      "Epoch 9 [Val]:  44%|████▍     | 880/2004 [03:32<03:32,  5.30it/s, Loss=0.6165, Acc=96.93%]"
     ]
    },
    {
     "name": "stdout",
     "output_type": "stream",
     "text": [
      "[2025-02-26 19:50:18] Processed 880 validation batches\n"
     ]
    },
    {
     "name": "stderr",
     "output_type": "stream",
     "text": [
      "Epoch 9 [Val]:  45%|████▍     | 900/2004 [03:36<04:06,  4.47it/s, Loss=0.0013, Acc=96.80%]"
     ]
    },
    {
     "name": "stdout",
     "output_type": "stream",
     "text": [
      "[2025-02-26 19:50:23] Processed 900 validation batches\n"
     ]
    },
    {
     "name": "stderr",
     "output_type": "stream",
     "text": [
      "Epoch 9 [Val]:  46%|████▌     | 920/2004 [03:41<05:12,  3.47it/s, Loss=0.0324, Acc=96.83%]"
     ]
    },
    {
     "name": "stdout",
     "output_type": "stream",
     "text": [
      "[2025-02-26 19:50:28] Processed 920 validation batches\n"
     ]
    },
    {
     "name": "stderr",
     "output_type": "stream",
     "text": [
      "Epoch 9 [Val]:  47%|████▋     | 940/2004 [03:47<03:48,  4.66it/s, Loss=0.0126, Acc=96.80%]"
     ]
    },
    {
     "name": "stdout",
     "output_type": "stream",
     "text": [
      "[2025-02-26 19:50:33] Processed 940 validation batches\n"
     ]
    },
    {
     "name": "stderr",
     "output_type": "stream",
     "text": [
      "Epoch 9 [Val]:  48%|████▊     | 960/2004 [03:51<03:24,  5.10it/s, Loss=0.0672, Acc=96.80%]"
     ]
    },
    {
     "name": "stdout",
     "output_type": "stream",
     "text": [
      "[2025-02-26 19:50:37] Processed 960 validation batches\n"
     ]
    },
    {
     "name": "stderr",
     "output_type": "stream",
     "text": [
      "Epoch 9 [Val]:  49%|████▉     | 980/2004 [04:02<18:05,  1.06s/it, Loss=0.1460, Acc=96.79%]"
     ]
    },
    {
     "name": "stdout",
     "output_type": "stream",
     "text": [
      "[2025-02-26 19:50:48] Processed 980 validation batches\n"
     ]
    },
    {
     "name": "stderr",
     "output_type": "stream",
     "text": [
      "Epoch 9 [Val]:  50%|████▉     | 1000/2004 [04:08<03:31,  4.75it/s, Loss=0.2025, Acc=96.76%]"
     ]
    },
    {
     "name": "stdout",
     "output_type": "stream",
     "text": [
      "[2025-02-26 19:50:55] Processed 1000 validation batches\n"
     ]
    },
    {
     "name": "stderr",
     "output_type": "stream",
     "text": [
      "Epoch 9 [Val]:  51%|█████     | 1020/2004 [04:13<02:54,  5.65it/s, Loss=0.0346, Acc=96.80%]"
     ]
    },
    {
     "name": "stdout",
     "output_type": "stream",
     "text": [
      "[2025-02-26 19:51:00] Processed 1020 validation batches\n"
     ]
    },
    {
     "name": "stderr",
     "output_type": "stream",
     "text": [
      "Epoch 9 [Val]:  52%|█████▏    | 1040/2004 [04:21<03:19,  4.83it/s, Loss=0.0000, Acc=96.78%]"
     ]
    },
    {
     "name": "stdout",
     "output_type": "stream",
     "text": [
      "[2025-02-26 19:51:07] Processed 1040 validation batches\n"
     ]
    },
    {
     "name": "stderr",
     "output_type": "stream",
     "text": [
      "Epoch 9 [Val]:  53%|█████▎    | 1060/2004 [04:27<05:11,  3.03it/s, Loss=0.0009, Acc=96.84%]"
     ]
    },
    {
     "name": "stdout",
     "output_type": "stream",
     "text": [
      "[2025-02-26 19:51:13] Processed 1060 validation batches\n"
     ]
    },
    {
     "name": "stderr",
     "output_type": "stream",
     "text": [
      "Epoch 9 [Val]:  54%|█████▍    | 1080/2004 [04:36<07:46,  1.98it/s, Loss=0.0000, Acc=96.88%]"
     ]
    },
    {
     "name": "stdout",
     "output_type": "stream",
     "text": [
      "[2025-02-26 19:51:22] Processed 1080 validation batches\n"
     ]
    },
    {
     "name": "stderr",
     "output_type": "stream",
     "text": [
      "Epoch 9 [Val]:  55%|█████▍    | 1100/2004 [04:58<20:42,  1.37s/it, Loss=0.0000, Acc=96.92%]"
     ]
    },
    {
     "name": "stdout",
     "output_type": "stream",
     "text": [
      "[2025-02-26 19:51:44] Processed 1100 validation batches\n"
     ]
    },
    {
     "name": "stderr",
     "output_type": "stream",
     "text": [
      "Epoch 9 [Val]:  56%|█████▌    | 1120/2004 [05:21<18:32,  1.26s/it, Loss=0.3904, Acc=96.94%]"
     ]
    },
    {
     "name": "stdout",
     "output_type": "stream",
     "text": [
      "[2025-02-26 19:52:07] Processed 1120 validation batches\n"
     ]
    },
    {
     "name": "stderr",
     "output_type": "stream",
     "text": [
      "Epoch 9 [Val]:  57%|█████▋    | 1140/2004 [05:25<02:36,  5.51it/s, Loss=0.0001, Acc=96.99%]"
     ]
    },
    {
     "name": "stdout",
     "output_type": "stream",
     "text": [
      "[2025-02-26 19:52:11] Processed 1140 validation batches\n"
     ]
    },
    {
     "name": "stderr",
     "output_type": "stream",
     "text": [
      "Epoch 9 [Val]:  58%|█████▊    | 1160/2004 [05:29<02:58,  4.72it/s, Loss=0.0000, Acc=97.04%]"
     ]
    },
    {
     "name": "stdout",
     "output_type": "stream",
     "text": [
      "[2025-02-26 19:52:15] Processed 1160 validation batches\n"
     ]
    },
    {
     "name": "stderr",
     "output_type": "stream",
     "text": [
      "Epoch 9 [Val]:  59%|█████▉    | 1180/2004 [05:33<02:50,  4.84it/s, Loss=0.0000, Acc=97.09%]"
     ]
    },
    {
     "name": "stdout",
     "output_type": "stream",
     "text": [
      "[2025-02-26 19:52:19] Processed 1180 validation batches\n"
     ]
    },
    {
     "name": "stderr",
     "output_type": "stream",
     "text": [
      "Epoch 9 [Val]:  60%|█████▉    | 1200/2004 [05:36<01:37,  8.27it/s, Loss=0.0000, Acc=97.14%]"
     ]
    },
    {
     "name": "stdout",
     "output_type": "stream",
     "text": [
      "[2025-02-26 19:52:22] Processed 1200 validation batches\n"
     ]
    },
    {
     "name": "stderr",
     "output_type": "stream",
     "text": [
      "Epoch 9 [Val]:  61%|██████    | 1220/2004 [05:39<02:23,  5.48it/s, Loss=0.0181, Acc=97.18%]"
     ]
    },
    {
     "name": "stdout",
     "output_type": "stream",
     "text": [
      "[2025-02-26 19:52:25] Processed 1220 validation batches\n"
     ]
    },
    {
     "name": "stderr",
     "output_type": "stream",
     "text": [
      "Epoch 9 [Val]:  62%|██████▏   | 1240/2004 [05:43<02:25,  5.23it/s, Loss=0.0000, Acc=97.23%]"
     ]
    },
    {
     "name": "stdout",
     "output_type": "stream",
     "text": [
      "[2025-02-26 19:52:29] Processed 1240 validation batches\n"
     ]
    },
    {
     "name": "stderr",
     "output_type": "stream",
     "text": [
      "Epoch 9 [Val]:  63%|██████▎   | 1260/2004 [05:47<02:48,  4.41it/s, Loss=0.0000, Acc=97.27%]"
     ]
    },
    {
     "name": "stdout",
     "output_type": "stream",
     "text": [
      "[2025-02-26 19:52:33] Processed 1260 validation batches\n"
     ]
    },
    {
     "name": "stderr",
     "output_type": "stream",
     "text": [
      "Epoch 9 [Val]:  64%|██████▍   | 1280/2004 [05:51<02:33,  4.73it/s, Loss=0.0002, Acc=97.32%]"
     ]
    },
    {
     "name": "stdout",
     "output_type": "stream",
     "text": [
      "[2025-02-26 19:52:38] Processed 1280 validation batches\n"
     ]
    },
    {
     "name": "stderr",
     "output_type": "stream",
     "text": [
      "Epoch 9 [Val]:  65%|██████▍   | 1300/2004 [05:56<03:13,  3.64it/s, Loss=0.2614, Acc=97.31%]"
     ]
    },
    {
     "name": "stdout",
     "output_type": "stream",
     "text": [
      "[2025-02-26 19:52:42] Processed 1300 validation batches\n"
     ]
    },
    {
     "name": "stderr",
     "output_type": "stream",
     "text": [
      "Epoch 9 [Val]:  66%|██████▌   | 1320/2004 [06:00<02:16,  5.00it/s, Loss=0.0011, Acc=97.33%]"
     ]
    },
    {
     "name": "stdout",
     "output_type": "stream",
     "text": [
      "[2025-02-26 19:52:47] Processed 1320 validation batches\n"
     ]
    },
    {
     "name": "stderr",
     "output_type": "stream",
     "text": [
      "Epoch 9 [Val]:  67%|██████▋   | 1340/2004 [06:05<02:31,  4.39it/s, Loss=0.0209, Acc=97.35%]"
     ]
    },
    {
     "name": "stdout",
     "output_type": "stream",
     "text": [
      "[2025-02-26 19:52:51] Processed 1340 validation batches\n"
     ]
    },
    {
     "name": "stderr",
     "output_type": "stream",
     "text": [
      "Epoch 9 [Val]:  68%|██████▊   | 1360/2004 [06:08<01:49,  5.90it/s, Loss=0.0018, Acc=97.39%]"
     ]
    },
    {
     "name": "stdout",
     "output_type": "stream",
     "text": [
      "[2025-02-26 19:52:54] Processed 1360 validation batches\n"
     ]
    },
    {
     "name": "stderr",
     "output_type": "stream",
     "text": [
      "Epoch 9 [Val]:  69%|██████▉   | 1380/2004 [06:10<01:09,  8.98it/s, Loss=0.0058, Acc=97.42%]"
     ]
    },
    {
     "name": "stdout",
     "output_type": "stream",
     "text": [
      "[2025-02-26 19:52:57] Processed 1380 validation batches\n"
     ]
    },
    {
     "name": "stderr",
     "output_type": "stream",
     "text": [
      "Epoch 9 [Val]:  70%|██████▉   | 1400/2004 [06:13<01:07,  8.99it/s, Loss=0.0158, Acc=97.46%]"
     ]
    },
    {
     "name": "stdout",
     "output_type": "stream",
     "text": [
      "[2025-02-26 19:52:59] Processed 1400 validation batches\n"
     ]
    },
    {
     "name": "stderr",
     "output_type": "stream",
     "text": [
      "Epoch 9 [Val]:  71%|███████   | 1420/2004 [06:15<01:04,  9.01it/s, Loss=0.0148, Acc=97.50%]"
     ]
    },
    {
     "name": "stdout",
     "output_type": "stream",
     "text": [
      "[2025-02-26 19:53:01] Processed 1420 validation batches\n"
     ]
    },
    {
     "name": "stderr",
     "output_type": "stream",
     "text": [
      "Epoch 9 [Val]:  72%|███████▏  | 1440/2004 [06:17<01:01,  9.24it/s, Loss=0.0330, Acc=97.53%]"
     ]
    },
    {
     "name": "stdout",
     "output_type": "stream",
     "text": [
      "[2025-02-26 19:53:03] Processed 1440 validation batches\n"
     ]
    },
    {
     "name": "stderr",
     "output_type": "stream",
     "text": [
      "Epoch 9 [Val]:  73%|███████▎  | 1460/2004 [06:19<01:01,  8.91it/s, Loss=0.0037, Acc=97.56%]"
     ]
    },
    {
     "name": "stdout",
     "output_type": "stream",
     "text": [
      "[2025-02-26 19:53:06] Processed 1460 validation batches\n"
     ]
    },
    {
     "name": "stderr",
     "output_type": "stream",
     "text": [
      "Epoch 9 [Val]:  74%|███████▍  | 1480/2004 [06:22<01:01,  8.55it/s, Loss=0.0012, Acc=97.59%]"
     ]
    },
    {
     "name": "stdout",
     "output_type": "stream",
     "text": [
      "[2025-02-26 19:53:08] Processed 1480 validation batches\n"
     ]
    },
    {
     "name": "stderr",
     "output_type": "stream",
     "text": [
      "Epoch 9 [Val]:  75%|███████▍  | 1500/2004 [06:24<00:58,  8.61it/s, Loss=0.0008, Acc=97.63%]"
     ]
    },
    {
     "name": "stdout",
     "output_type": "stream",
     "text": [
      "[2025-02-26 19:53:10] Processed 1500 validation batches\n"
     ]
    },
    {
     "name": "stderr",
     "output_type": "stream",
     "text": [
      "Epoch 9 [Val]:  76%|███████▌  | 1520/2004 [06:26<00:55,  8.76it/s, Loss=0.0020, Acc=97.66%]"
     ]
    },
    {
     "name": "stdout",
     "output_type": "stream",
     "text": [
      "[2025-02-26 19:53:12] Processed 1520 validation batches\n"
     ]
    },
    {
     "name": "stderr",
     "output_type": "stream",
     "text": [
      "Epoch 9 [Val]:  77%|███████▋  | 1540/2004 [06:31<03:45,  2.06it/s, Loss=0.0009, Acc=97.69%]"
     ]
    },
    {
     "name": "stdout",
     "output_type": "stream",
     "text": [
      "[2025-02-26 19:53:17] Processed 1540 validation batches\n"
     ]
    },
    {
     "name": "stderr",
     "output_type": "stream",
     "text": [
      "Epoch 9 [Val]:  78%|███████▊  | 1560/2004 [06:39<02:08,  3.46it/s, Loss=0.0000, Acc=97.71%]"
     ]
    },
    {
     "name": "stdout",
     "output_type": "stream",
     "text": [
      "[2025-02-26 19:53:26] Processed 1560 validation batches\n"
     ]
    },
    {
     "name": "stderr",
     "output_type": "stream",
     "text": [
      "Epoch 9 [Val]:  79%|███████▉  | 1580/2004 [06:47<01:55,  3.67it/s, Loss=0.0000, Acc=97.73%]"
     ]
    },
    {
     "name": "stdout",
     "output_type": "stream",
     "text": [
      "[2025-02-26 19:53:33] Processed 1580 validation batches\n"
     ]
    },
    {
     "name": "stderr",
     "output_type": "stream",
     "text": [
      "Epoch 9 [Val]:  80%|███████▉  | 1600/2004 [06:49<00:45,  8.84it/s, Loss=0.0052, Acc=97.76%]"
     ]
    },
    {
     "name": "stdout",
     "output_type": "stream",
     "text": [
      "[2025-02-26 19:53:35] Processed 1600 validation batches\n"
     ]
    },
    {
     "name": "stderr",
     "output_type": "stream",
     "text": [
      "Epoch 9 [Val]:  81%|████████  | 1620/2004 [07:05<07:02,  1.10s/it, Loss=0.0016, Acc=97.78%]"
     ]
    },
    {
     "name": "stdout",
     "output_type": "stream",
     "text": [
      "[2025-02-26 19:53:51] Processed 1620 validation batches\n"
     ]
    },
    {
     "name": "stderr",
     "output_type": "stream",
     "text": [
      "Epoch 9 [Val]:  82%|████████▏ | 1640/2004 [07:25<02:04,  2.93it/s, Loss=0.0151, Acc=97.79%]"
     ]
    },
    {
     "name": "stdout",
     "output_type": "stream",
     "text": [
      "[2025-02-26 19:54:11] Processed 1640 validation batches\n"
     ]
    },
    {
     "name": "stderr",
     "output_type": "stream",
     "text": [
      "Epoch 9 [Val]:  83%|████████▎ | 1660/2004 [07:29<01:16,  4.50it/s, Loss=0.0056, Acc=97.80%]"
     ]
    },
    {
     "name": "stdout",
     "output_type": "stream",
     "text": [
      "[2025-02-26 19:54:15] Processed 1660 validation batches\n"
     ]
    },
    {
     "name": "stderr",
     "output_type": "stream",
     "text": [
      "Epoch 9 [Val]:  84%|████████▍ | 1680/2004 [07:34<01:17,  4.17it/s, Loss=0.1562, Acc=97.78%]"
     ]
    },
    {
     "name": "stdout",
     "output_type": "stream",
     "text": [
      "[2025-02-26 19:54:21] Processed 1680 validation batches\n"
     ]
    },
    {
     "name": "stderr",
     "output_type": "stream",
     "text": [
      "Epoch 9 [Val]:  85%|████████▍ | 1700/2004 [07:39<01:06,  4.58it/s, Loss=0.4456, Acc=97.77%]"
     ]
    },
    {
     "name": "stdout",
     "output_type": "stream",
     "text": [
      "[2025-02-26 19:54:25] Processed 1700 validation batches\n"
     ]
    },
    {
     "name": "stderr",
     "output_type": "stream",
     "text": [
      "Epoch 9 [Val]:  86%|████████▌ | 1720/2004 [07:44<01:01,  4.64it/s, Loss=0.0000, Acc=97.79%]"
     ]
    },
    {
     "name": "stdout",
     "output_type": "stream",
     "text": [
      "[2025-02-26 19:54:30] Processed 1720 validation batches\n"
     ]
    },
    {
     "name": "stderr",
     "output_type": "stream",
     "text": [
      "Epoch 9 [Val]:  87%|████████▋ | 1740/2004 [07:48<00:56,  4.65it/s, Loss=0.0022, Acc=97.81%]"
     ]
    },
    {
     "name": "stdout",
     "output_type": "stream",
     "text": [
      "[2025-02-26 19:54:34] Processed 1740 validation batches\n"
     ]
    },
    {
     "name": "stderr",
     "output_type": "stream",
     "text": [
      "Epoch 9 [Val]:  88%|████████▊ | 1760/2004 [07:53<00:54,  4.50it/s, Loss=0.0005, Acc=97.84%]"
     ]
    },
    {
     "name": "stdout",
     "output_type": "stream",
     "text": [
      "[2025-02-26 19:54:39] Processed 1760 validation batches\n"
     ]
    },
    {
     "name": "stderr",
     "output_type": "stream",
     "text": [
      "Epoch 9 [Val]:  89%|████████▉ | 1780/2004 [08:02<01:45,  2.12it/s, Loss=0.0000, Acc=97.86%]"
     ]
    },
    {
     "name": "stdout",
     "output_type": "stream",
     "text": [
      "[2025-02-26 19:54:49] Processed 1780 validation batches\n"
     ]
    },
    {
     "name": "stderr",
     "output_type": "stream",
     "text": [
      "Epoch 9 [Val]:  90%|████████▉ | 1800/2004 [08:07<00:39,  5.15it/s, Loss=0.0057, Acc=97.88%]"
     ]
    },
    {
     "name": "stdout",
     "output_type": "stream",
     "text": [
      "[2025-02-26 19:54:53] Processed 1800 validation batches\n"
     ]
    },
    {
     "name": "stderr",
     "output_type": "stream",
     "text": [
      "Epoch 9 [Val]:  91%|█████████ | 1820/2004 [08:13<00:41,  4.47it/s, Loss=0.0000, Acc=97.91%]"
     ]
    },
    {
     "name": "stdout",
     "output_type": "stream",
     "text": [
      "[2025-02-26 19:54:59] Processed 1820 validation batches\n"
     ]
    },
    {
     "name": "stderr",
     "output_type": "stream",
     "text": [
      "Epoch 9 [Val]:  92%|█████████▏| 1840/2004 [08:17<00:35,  4.58it/s, Loss=0.0001, Acc=97.93%]"
     ]
    },
    {
     "name": "stdout",
     "output_type": "stream",
     "text": [
      "[2025-02-26 19:55:04] Processed 1840 validation batches\n"
     ]
    },
    {
     "name": "stderr",
     "output_type": "stream",
     "text": [
      "Epoch 9 [Val]:  93%|█████████▎| 1860/2004 [08:22<00:30,  4.66it/s, Loss=0.0000, Acc=97.95%]"
     ]
    },
    {
     "name": "stdout",
     "output_type": "stream",
     "text": [
      "[2025-02-26 19:55:08] Processed 1860 validation batches\n"
     ]
    },
    {
     "name": "stderr",
     "output_type": "stream",
     "text": [
      "Epoch 9 [Val]:  94%|█████████▍| 1880/2004 [08:36<01:46,  1.16it/s, Loss=0.0007, Acc=97.97%]"
     ]
    },
    {
     "name": "stdout",
     "output_type": "stream",
     "text": [
      "[2025-02-26 19:55:22] Processed 1880 validation batches\n"
     ]
    },
    {
     "name": "stderr",
     "output_type": "stream",
     "text": [
      "Epoch 9 [Val]:  95%|█████████▍| 1900/2004 [08:43<00:35,  2.94it/s, Loss=0.0001, Acc=97.98%]"
     ]
    },
    {
     "name": "stdout",
     "output_type": "stream",
     "text": [
      "[2025-02-26 19:55:29] Processed 1900 validation batches\n"
     ]
    },
    {
     "name": "stderr",
     "output_type": "stream",
     "text": [
      "Epoch 9 [Val]:  96%|█████████▌| 1920/2004 [08:51<00:11,  7.54it/s, Loss=0.0040, Acc=98.00%]"
     ]
    },
    {
     "name": "stdout",
     "output_type": "stream",
     "text": [
      "[2025-02-26 19:55:37] Processed 1920 validation batches\n"
     ]
    },
    {
     "name": "stderr",
     "output_type": "stream",
     "text": [
      "Epoch 9 [Val]:  97%|█████████▋| 1940/2004 [08:55<00:15,  4.09it/s, Loss=0.0574, Acc=97.99%]"
     ]
    },
    {
     "name": "stdout",
     "output_type": "stream",
     "text": [
      "[2025-02-26 19:55:42] Processed 1940 validation batches\n"
     ]
    },
    {
     "name": "stderr",
     "output_type": "stream",
     "text": [
      "Epoch 9 [Val]:  98%|█████████▊| 1960/2004 [09:00<00:10,  4.28it/s, Loss=0.0010, Acc=97.98%]"
     ]
    },
    {
     "name": "stdout",
     "output_type": "stream",
     "text": [
      "[2025-02-26 19:55:46] Processed 1960 validation batches\n"
     ]
    },
    {
     "name": "stderr",
     "output_type": "stream",
     "text": [
      "Epoch 9 [Val]:  99%|█████████▉| 1979/2004 [09:03<00:03,  8.15it/s, Loss=0.0198, Acc=97.94%]"
     ]
    },
    {
     "name": "stdout",
     "output_type": "stream",
     "text": [
      "[2025-02-26 19:55:49] Processed 1980 validation batches\n"
     ]
    },
    {
     "name": "stderr",
     "output_type": "stream",
     "text": [
      "Epoch 9 [Val]: 100%|█████████▉| 1999/2004 [09:04<00:00, 11.40it/s, Loss=0.0744, Acc=97.88%]"
     ]
    },
    {
     "name": "stdout",
     "output_type": "stream",
     "text": [
      "[2025-02-26 19:55:51] Processed 2000 validation batches\n"
     ]
    },
    {
     "name": "stderr",
     "output_type": "stream",
     "text": [
      "Epoch 9 [Val]: 100%|██████████| 2004/2004 [09:05<00:00,  3.68it/s, Loss=0.0106, Acc=97.88%]"
     ]
    },
    {
     "name": "stdout",
     "output_type": "stream",
     "text": [
      "[2025-02-26 19:55:51] Epoch 9 Results:\n",
      "[2025-02-26 19:55:51] Train Loss: 0.1989 | Train Acc: 93.94%\n",
      "[2025-02-26 19:55:51] Val Loss: 0.0671 | Val Acc: 97.88%\n"
     ]
    },
    {
     "name": "stderr",
     "output_type": "stream",
     "text": [
      "\n"
     ]
    },
    {
     "name": "stdout",
     "output_type": "stream",
     "text": [
      "[2025-02-26 19:55:51] Saved best model\n",
      "[2025-02-26 19:55:51] Starting epoch 10/15\n"
     ]
    },
    {
     "name": "stderr",
     "output_type": "stream",
     "text": [
      "Epoch 10 [Train]:   0%|          | 0/2004 [00:00<?, ?it/s, Loss=0.4107, Acc=81.25%]"
     ]
    },
    {
     "name": "stdout",
     "output_type": "stream",
     "text": [
      "[2025-02-26 19:55:51] Processed 0 training batches\n"
     ]
    },
    {
     "name": "stderr",
     "output_type": "stream",
     "text": [
      "Epoch 10 [Train]:   2%|▏         | 50/2004 [00:13<08:29,  3.84it/s, Loss=0.5532, Acc=94.12%]"
     ]
    },
    {
     "name": "stdout",
     "output_type": "stream",
     "text": [
      "[2025-02-26 19:56:05] Processed 50 training batches\n"
     ]
    },
    {
     "name": "stderr",
     "output_type": "stream",
     "text": [
      "Epoch 10 [Train]:   5%|▍         | 100/2004 [00:27<08:22,  3.79it/s, Loss=0.3203, Acc=94.06%]"
     ]
    },
    {
     "name": "stdout",
     "output_type": "stream",
     "text": [
      "[2025-02-26 19:56:18] Processed 100 training batches\n"
     ]
    },
    {
     "name": "stderr",
     "output_type": "stream",
     "text": [
      "Epoch 10 [Train]:   7%|▋         | 150/2004 [00:41<08:42,  3.55it/s, Loss=0.0071, Acc=94.58%]"
     ]
    },
    {
     "name": "stdout",
     "output_type": "stream",
     "text": [
      "[2025-02-26 19:56:32] Processed 150 training batches\n"
     ]
    },
    {
     "name": "stderr",
     "output_type": "stream",
     "text": [
      "Epoch 10 [Train]:  10%|▉         | 200/2004 [00:55<09:32,  3.15it/s, Loss=0.0303, Acc=94.78%]"
     ]
    },
    {
     "name": "stdout",
     "output_type": "stream",
     "text": [
      "[2025-02-26 19:56:46] Processed 200 training batches\n"
     ]
    },
    {
     "name": "stderr",
     "output_type": "stream",
     "text": [
      "Epoch 10 [Train]:  12%|█▏        | 250/2004 [01:07<06:52,  4.25it/s, Loss=0.2925, Acc=94.97%]"
     ]
    },
    {
     "name": "stdout",
     "output_type": "stream",
     "text": [
      "[2025-02-26 19:56:59] Processed 250 training batches\n"
     ]
    },
    {
     "name": "stderr",
     "output_type": "stream",
     "text": [
      "Epoch 10 [Train]:  15%|█▍        | 300/2004 [01:21<07:39,  3.71it/s, Loss=0.1617, Acc=95.08%]"
     ]
    },
    {
     "name": "stdout",
     "output_type": "stream",
     "text": [
      "[2025-02-26 19:57:13] Processed 300 training batches\n"
     ]
    },
    {
     "name": "stderr",
     "output_type": "stream",
     "text": [
      "Epoch 10 [Train]:  17%|█▋        | 350/2004 [01:36<07:01,  3.92it/s, Loss=0.0510, Acc=94.94%]"
     ]
    },
    {
     "name": "stdout",
     "output_type": "stream",
     "text": [
      "[2025-02-26 19:57:27] Processed 350 training batches\n"
     ]
    },
    {
     "name": "stderr",
     "output_type": "stream",
     "text": [
      "Epoch 10 [Train]:  20%|█▉        | 400/2004 [01:49<08:30,  3.14it/s, Loss=0.1483, Acc=94.95%]"
     ]
    },
    {
     "name": "stdout",
     "output_type": "stream",
     "text": [
      "[2025-02-26 19:57:41] Processed 400 training batches\n"
     ]
    },
    {
     "name": "stderr",
     "output_type": "stream",
     "text": [
      "Epoch 10 [Train]:  22%|██▏       | 450/2004 [02:04<07:50,  3.30it/s, Loss=0.4045, Acc=94.96%]"
     ]
    },
    {
     "name": "stdout",
     "output_type": "stream",
     "text": [
      "[2025-02-26 19:57:56] Processed 450 training batches\n"
     ]
    },
    {
     "name": "stderr",
     "output_type": "stream",
     "text": [
      "Epoch 10 [Train]:  25%|██▍       | 500/2004 [02:18<07:13,  3.47it/s, Loss=0.1774, Acc=95.03%]"
     ]
    },
    {
     "name": "stdout",
     "output_type": "stream",
     "text": [
      "[2025-02-26 19:58:10] Processed 500 training batches\n"
     ]
    },
    {
     "name": "stderr",
     "output_type": "stream",
     "text": [
      "Epoch 10 [Train]:  27%|██▋       | 550/2004 [02:33<06:21,  3.81it/s, Loss=0.0707, Acc=95.00%]"
     ]
    },
    {
     "name": "stdout",
     "output_type": "stream",
     "text": [
      "[2025-02-26 19:58:24] Processed 550 training batches\n"
     ]
    },
    {
     "name": "stderr",
     "output_type": "stream",
     "text": [
      "Epoch 10 [Train]:  30%|██▉       | 600/2004 [02:47<08:07,  2.88it/s, Loss=0.1927, Acc=94.93%]"
     ]
    },
    {
     "name": "stdout",
     "output_type": "stream",
     "text": [
      "[2025-02-26 19:58:39] Processed 600 training batches\n"
     ]
    },
    {
     "name": "stderr",
     "output_type": "stream",
     "text": [
      "Epoch 10 [Train]:  32%|███▏      | 650/2004 [03:03<08:13,  2.74it/s, Loss=0.0293, Acc=94.87%]"
     ]
    },
    {
     "name": "stdout",
     "output_type": "stream",
     "text": [
      "[2025-02-26 19:58:54] Processed 650 training batches\n"
     ]
    },
    {
     "name": "stderr",
     "output_type": "stream",
     "text": [
      "Epoch 10 [Train]:  35%|███▍      | 700/2004 [03:18<07:23,  2.94it/s, Loss=0.0376, Acc=94.89%]"
     ]
    },
    {
     "name": "stdout",
     "output_type": "stream",
     "text": [
      "[2025-02-26 19:59:10] Processed 700 training batches\n"
     ]
    },
    {
     "name": "stderr",
     "output_type": "stream",
     "text": [
      "Epoch 10 [Train]:  37%|███▋      | 750/2004 [03:33<06:21,  3.29it/s, Loss=0.1642, Acc=94.86%]"
     ]
    },
    {
     "name": "stdout",
     "output_type": "stream",
     "text": [
      "[2025-02-26 19:59:25] Processed 750 training batches\n"
     ]
    },
    {
     "name": "stderr",
     "output_type": "stream",
     "text": [
      "Epoch 10 [Train]:  40%|███▉      | 800/2004 [03:47<06:59,  2.87it/s, Loss=0.0590, Acc=94.90%]"
     ]
    },
    {
     "name": "stdout",
     "output_type": "stream",
     "text": [
      "[2025-02-26 19:59:39] Processed 800 training batches\n"
     ]
    },
    {
     "name": "stderr",
     "output_type": "stream",
     "text": [
      "Epoch 10 [Train]:  42%|████▏     | 850/2004 [04:01<05:25,  3.55it/s, Loss=0.0809, Acc=94.87%]"
     ]
    },
    {
     "name": "stdout",
     "output_type": "stream",
     "text": [
      "[2025-02-26 19:59:53] Processed 850 training batches\n"
     ]
    },
    {
     "name": "stderr",
     "output_type": "stream",
     "text": [
      "Epoch 10 [Train]:  45%|████▍     | 900/2004 [04:17<05:41,  3.23it/s, Loss=0.0086, Acc=94.88%]"
     ]
    },
    {
     "name": "stdout",
     "output_type": "stream",
     "text": [
      "[2025-02-26 20:00:08] Processed 900 training batches\n"
     ]
    },
    {
     "name": "stderr",
     "output_type": "stream",
     "text": [
      "Epoch 10 [Train]:  47%|████▋     | 950/2004 [04:31<05:59,  2.93it/s, Loss=0.3185, Acc=94.89%]"
     ]
    },
    {
     "name": "stdout",
     "output_type": "stream",
     "text": [
      "[2025-02-26 20:00:23] Processed 950 training batches\n"
     ]
    },
    {
     "name": "stderr",
     "output_type": "stream",
     "text": [
      "Epoch 10 [Train]:  50%|████▉     | 1000/2004 [04:45<05:00,  3.34it/s, Loss=0.2887, Acc=94.92%]"
     ]
    },
    {
     "name": "stdout",
     "output_type": "stream",
     "text": [
      "[2025-02-26 20:00:37] Processed 1000 training batches\n"
     ]
    },
    {
     "name": "stderr",
     "output_type": "stream",
     "text": [
      "Epoch 10 [Train]:  52%|█████▏    | 1050/2004 [05:00<04:12,  3.79it/s, Loss=0.3089, Acc=94.93%]"
     ]
    },
    {
     "name": "stdout",
     "output_type": "stream",
     "text": [
      "[2025-02-26 20:00:51] Processed 1050 training batches\n"
     ]
    },
    {
     "name": "stderr",
     "output_type": "stream",
     "text": [
      "Epoch 10 [Train]:  55%|█████▍    | 1100/2004 [05:15<04:06,  3.66it/s, Loss=0.2889, Acc=94.90%]"
     ]
    },
    {
     "name": "stdout",
     "output_type": "stream",
     "text": [
      "[2025-02-26 20:01:06] Processed 1100 training batches\n"
     ]
    },
    {
     "name": "stderr",
     "output_type": "stream",
     "text": [
      "Epoch 10 [Train]:  57%|█████▋    | 1150/2004 [05:29<03:28,  4.10it/s, Loss=0.1323, Acc=94.88%]"
     ]
    },
    {
     "name": "stdout",
     "output_type": "stream",
     "text": [
      "[2025-02-26 20:01:21] Processed 1150 training batches\n"
     ]
    },
    {
     "name": "stderr",
     "output_type": "stream",
     "text": [
      "Epoch 10 [Train]:  60%|█████▉    | 1200/2004 [05:44<04:13,  3.17it/s, Loss=0.0182, Acc=94.89%]"
     ]
    },
    {
     "name": "stdout",
     "output_type": "stream",
     "text": [
      "[2025-02-26 20:01:36] Processed 1200 training batches\n"
     ]
    },
    {
     "name": "stderr",
     "output_type": "stream",
     "text": [
      "Epoch 10 [Train]:  62%|██████▏   | 1250/2004 [05:59<03:31,  3.57it/s, Loss=0.2537, Acc=94.87%]"
     ]
    },
    {
     "name": "stdout",
     "output_type": "stream",
     "text": [
      "[2025-02-26 20:01:51] Processed 1250 training batches\n"
     ]
    },
    {
     "name": "stderr",
     "output_type": "stream",
     "text": [
      "Epoch 10 [Train]:  65%|██████▍   | 1300/2004 [06:15<03:47,  3.09it/s, Loss=0.1960, Acc=94.84%]"
     ]
    },
    {
     "name": "stdout",
     "output_type": "stream",
     "text": [
      "[2025-02-26 20:02:06] Processed 1300 training batches\n"
     ]
    },
    {
     "name": "stderr",
     "output_type": "stream",
     "text": [
      "Epoch 10 [Train]:  67%|██████▋   | 1350/2004 [06:29<02:48,  3.89it/s, Loss=0.4470, Acc=94.90%]"
     ]
    },
    {
     "name": "stdout",
     "output_type": "stream",
     "text": [
      "[2025-02-26 20:02:21] Processed 1350 training batches\n"
     ]
    },
    {
     "name": "stderr",
     "output_type": "stream",
     "text": [
      "Epoch 10 [Train]:  70%|██████▉   | 1400/2004 [06:44<02:56,  3.42it/s, Loss=0.1177, Acc=94.91%]"
     ]
    },
    {
     "name": "stdout",
     "output_type": "stream",
     "text": [
      "[2025-02-26 20:02:36] Processed 1400 training batches\n"
     ]
    },
    {
     "name": "stderr",
     "output_type": "stream",
     "text": [
      "Epoch 10 [Train]:  72%|███████▏  | 1450/2004 [06:59<03:05,  2.98it/s, Loss=0.0358, Acc=94.90%]"
     ]
    },
    {
     "name": "stdout",
     "output_type": "stream",
     "text": [
      "[2025-02-26 20:02:51] Processed 1450 training batches\n"
     ]
    },
    {
     "name": "stderr",
     "output_type": "stream",
     "text": [
      "Epoch 10 [Train]:  75%|███████▍  | 1500/2004 [07:14<02:19,  3.62it/s, Loss=0.2312, Acc=94.91%]"
     ]
    },
    {
     "name": "stdout",
     "output_type": "stream",
     "text": [
      "[2025-02-26 20:03:05] Processed 1500 training batches\n"
     ]
    },
    {
     "name": "stderr",
     "output_type": "stream",
     "text": [
      "Epoch 10 [Train]:  77%|███████▋  | 1550/2004 [07:28<01:55,  3.92it/s, Loss=0.2060, Acc=94.91%]"
     ]
    },
    {
     "name": "stdout",
     "output_type": "stream",
     "text": [
      "[2025-02-26 20:03:20] Processed 1550 training batches\n"
     ]
    },
    {
     "name": "stderr",
     "output_type": "stream",
     "text": [
      "Epoch 10 [Train]:  80%|███████▉  | 1600/2004 [07:43<01:43,  3.89it/s, Loss=0.1153, Acc=94.93%]"
     ]
    },
    {
     "name": "stdout",
     "output_type": "stream",
     "text": [
      "[2025-02-26 20:03:34] Processed 1600 training batches\n"
     ]
    },
    {
     "name": "stderr",
     "output_type": "stream",
     "text": [
      "Epoch 10 [Train]:  82%|████████▏ | 1650/2004 [07:57<01:22,  4.27it/s, Loss=0.0516, Acc=94.93%]"
     ]
    },
    {
     "name": "stdout",
     "output_type": "stream",
     "text": [
      "[2025-02-26 20:03:48] Processed 1650 training batches\n"
     ]
    },
    {
     "name": "stderr",
     "output_type": "stream",
     "text": [
      "Epoch 10 [Train]:  85%|████████▍ | 1700/2004 [08:12<01:39,  3.06it/s, Loss=0.0755, Acc=94.94%]"
     ]
    },
    {
     "name": "stdout",
     "output_type": "stream",
     "text": [
      "[2025-02-26 20:04:04] Processed 1700 training batches\n"
     ]
    },
    {
     "name": "stderr",
     "output_type": "stream",
     "text": [
      "Epoch 10 [Train]:  87%|████████▋ | 1750/2004 [08:28<01:17,  3.27it/s, Loss=0.1272, Acc=94.87%]"
     ]
    },
    {
     "name": "stdout",
     "output_type": "stream",
     "text": [
      "[2025-02-26 20:04:19] Processed 1750 training batches\n"
     ]
    },
    {
     "name": "stderr",
     "output_type": "stream",
     "text": [
      "Epoch 10 [Train]:  90%|████████▉ | 1800/2004 [08:42<00:55,  3.67it/s, Loss=0.0369, Acc=94.87%]"
     ]
    },
    {
     "name": "stdout",
     "output_type": "stream",
     "text": [
      "[2025-02-26 20:04:33] Processed 1800 training batches\n"
     ]
    },
    {
     "name": "stderr",
     "output_type": "stream",
     "text": [
      "Epoch 10 [Train]:  92%|█████████▏| 1850/2004 [08:57<00:48,  3.18it/s, Loss=0.0924, Acc=94.84%]"
     ]
    },
    {
     "name": "stdout",
     "output_type": "stream",
     "text": [
      "[2025-02-26 20:04:48] Processed 1850 training batches\n"
     ]
    },
    {
     "name": "stderr",
     "output_type": "stream",
     "text": [
      "Epoch 10 [Train]:  95%|█████████▍| 1900/2004 [09:12<00:28,  3.60it/s, Loss=0.0200, Acc=94.85%]"
     ]
    },
    {
     "name": "stdout",
     "output_type": "stream",
     "text": [
      "[2025-02-26 20:05:03] Processed 1900 training batches\n"
     ]
    },
    {
     "name": "stderr",
     "output_type": "stream",
     "text": [
      "Epoch 10 [Train]:  97%|█████████▋| 1950/2004 [09:26<00:16,  3.28it/s, Loss=0.0531, Acc=94.85%]"
     ]
    },
    {
     "name": "stdout",
     "output_type": "stream",
     "text": [
      "[2025-02-26 20:05:17] Processed 1950 training batches\n"
     ]
    },
    {
     "name": "stderr",
     "output_type": "stream",
     "text": [
      "Epoch 10 [Train]: 100%|█████████▉| 2000/2004 [09:40<00:01,  3.39it/s, Loss=0.0482, Acc=94.84%]"
     ]
    },
    {
     "name": "stdout",
     "output_type": "stream",
     "text": [
      "[2025-02-26 20:05:32] Processed 2000 training batches\n"
     ]
    },
    {
     "name": "stderr",
     "output_type": "stream",
     "text": [
      "Epoch 10 [Train]: 100%|██████████| 2004/2004 [09:41<00:00,  3.45it/s, Loss=0.1885, Acc=94.83%]\n",
      "Epoch 10 [Val]:   0%|          | 0/2004 [00:00<?, ?it/s, Loss=0.4173, Acc=87.50%]"
     ]
    },
    {
     "name": "stdout",
     "output_type": "stream",
     "text": [
      "[2025-02-26 20:05:32] Processed 0 validation batches\n"
     ]
    },
    {
     "name": "stderr",
     "output_type": "stream",
     "text": [
      "Epoch 10 [Val]:   1%|          | 20/2004 [00:07<09:58,  3.32it/s, Loss=0.6722, Acc=96.43%]"
     ]
    },
    {
     "name": "stdout",
     "output_type": "stream",
     "text": [
      "[2025-02-26 20:05:39] Processed 20 validation batches\n"
     ]
    },
    {
     "name": "stderr",
     "output_type": "stream",
     "text": [
      "Epoch 10 [Val]:   2%|▏         | 40/2004 [00:12<09:25,  3.47it/s, Loss=0.0016, Acc=97.10%]"
     ]
    },
    {
     "name": "stdout",
     "output_type": "stream",
     "text": [
      "[2025-02-26 20:05:45] Processed 40 validation batches\n"
     ]
    },
    {
     "name": "stderr",
     "output_type": "stream",
     "text": [
      "Epoch 10 [Val]:   3%|▎         | 60/2004 [00:20<12:52,  2.52it/s, Loss=0.0325, Acc=96.72%]"
     ]
    },
    {
     "name": "stdout",
     "output_type": "stream",
     "text": [
      "[2025-02-26 20:05:52] Processed 60 validation batches\n"
     ]
    },
    {
     "name": "stderr",
     "output_type": "stream",
     "text": [
      "Epoch 10 [Val]:   4%|▍         | 80/2004 [00:25<06:46,  4.74it/s, Loss=0.0188, Acc=96.99%]"
     ]
    },
    {
     "name": "stdout",
     "output_type": "stream",
     "text": [
      "[2025-02-26 20:05:57] Processed 80 validation batches\n"
     ]
    },
    {
     "name": "stderr",
     "output_type": "stream",
     "text": [
      "Epoch 10 [Val]:   5%|▍         | 100/2004 [00:35<10:19,  3.07it/s, Loss=0.0070, Acc=96.84%]"
     ]
    },
    {
     "name": "stdout",
     "output_type": "stream",
     "text": [
      "[2025-02-26 20:06:08] Processed 100 validation batches\n"
     ]
    },
    {
     "name": "stderr",
     "output_type": "stream",
     "text": [
      "Epoch 10 [Val]:   6%|▌         | 120/2004 [00:41<07:38,  4.11it/s, Loss=0.7481, Acc=96.59%]"
     ]
    },
    {
     "name": "stdout",
     "output_type": "stream",
     "text": [
      "[2025-02-26 20:06:14] Processed 120 validation batches\n"
     ]
    },
    {
     "name": "stderr",
     "output_type": "stream",
     "text": [
      "Epoch 10 [Val]:   7%|▋         | 140/2004 [00:52<32:04,  1.03s/it, Loss=0.0680, Acc=93.88%]"
     ]
    },
    {
     "name": "stdout",
     "output_type": "stream",
     "text": [
      "[2025-02-26 20:06:25] Processed 140 validation batches\n"
     ]
    },
    {
     "name": "stderr",
     "output_type": "stream",
     "text": [
      "Epoch 10 [Val]:   8%|▊         | 160/2004 [00:58<06:51,  4.48it/s, Loss=0.0484, Acc=93.75%]"
     ]
    },
    {
     "name": "stdout",
     "output_type": "stream",
     "text": [
      "[2025-02-26 20:06:30] Processed 160 validation batches\n"
     ]
    },
    {
     "name": "stderr",
     "output_type": "stream",
     "text": [
      "Epoch 10 [Val]:   9%|▉         | 180/2004 [01:04<11:35,  2.62it/s, Loss=0.3484, Acc=93.75%]"
     ]
    },
    {
     "name": "stdout",
     "output_type": "stream",
     "text": [
      "[2025-02-26 20:06:37] Processed 180 validation batches\n"
     ]
    },
    {
     "name": "stderr",
     "output_type": "stream",
     "text": [
      "Epoch 10 [Val]:  10%|▉         | 200/2004 [01:14<17:32,  1.71it/s, Loss=0.0095, Acc=92.79%]"
     ]
    },
    {
     "name": "stdout",
     "output_type": "stream",
     "text": [
      "[2025-02-26 20:06:47] Processed 200 validation batches\n"
     ]
    },
    {
     "name": "stderr",
     "output_type": "stream",
     "text": [
      "Epoch 10 [Val]:  11%|█         | 220/2004 [01:28<04:46,  6.23it/s, Loss=0.0086, Acc=93.44%]"
     ]
    },
    {
     "name": "stdout",
     "output_type": "stream",
     "text": [
      "[2025-02-26 20:07:01] Processed 220 validation batches\n"
     ]
    },
    {
     "name": "stderr",
     "output_type": "stream",
     "text": [
      "Epoch 10 [Val]:  12%|█▏        | 240/2004 [01:31<03:16,  8.96it/s, Loss=0.0000, Acc=93.98%]"
     ]
    },
    {
     "name": "stdout",
     "output_type": "stream",
     "text": [
      "[2025-02-26 20:07:04] Processed 240 validation batches\n"
     ]
    },
    {
     "name": "stderr",
     "output_type": "stream",
     "text": [
      "Epoch 10 [Val]:  13%|█▎        | 260/2004 [01:33<03:09,  9.18it/s, Loss=0.0002, Acc=94.44%]"
     ]
    },
    {
     "name": "stdout",
     "output_type": "stream",
     "text": [
      "[2025-02-26 20:07:06] Processed 260 validation batches\n"
     ]
    },
    {
     "name": "stderr",
     "output_type": "stream",
     "text": [
      "Epoch 10 [Val]:  14%|█▍        | 280/2004 [01:35<03:03,  9.39it/s, Loss=0.0001, Acc=94.84%]"
     ]
    },
    {
     "name": "stdout",
     "output_type": "stream",
     "text": [
      "[2025-02-26 20:07:08] Processed 280 validation batches\n"
     ]
    },
    {
     "name": "stderr",
     "output_type": "stream",
     "text": [
      "Epoch 10 [Val]:  15%|█▍        | 300/2004 [01:38<03:08,  9.03it/s, Loss=0.0011, Acc=95.18%]"
     ]
    },
    {
     "name": "stdout",
     "output_type": "stream",
     "text": [
      "[2025-02-26 20:07:10] Processed 300 validation batches\n"
     ]
    },
    {
     "name": "stderr",
     "output_type": "stream",
     "text": [
      "Epoch 10 [Val]:  16%|█▌        | 320/2004 [01:40<03:11,  8.81it/s, Loss=0.0027, Acc=95.48%]"
     ]
    },
    {
     "name": "stdout",
     "output_type": "stream",
     "text": [
      "[2025-02-26 20:07:12] Processed 320 validation batches\n"
     ]
    },
    {
     "name": "stderr",
     "output_type": "stream",
     "text": [
      "Epoch 10 [Val]:  17%|█▋        | 340/2004 [01:42<03:04,  9.01it/s, Loss=0.0003, Acc=95.75%]"
     ]
    },
    {
     "name": "stdout",
     "output_type": "stream",
     "text": [
      "[2025-02-26 20:07:15] Processed 340 validation batches\n"
     ]
    },
    {
     "name": "stderr",
     "output_type": "stream",
     "text": [
      "Epoch 10 [Val]:  18%|█▊        | 360/2004 [01:44<03:04,  8.91it/s, Loss=0.0154, Acc=95.98%]"
     ]
    },
    {
     "name": "stdout",
     "output_type": "stream",
     "text": [
      "[2025-02-26 20:07:17] Processed 360 validation batches\n"
     ]
    },
    {
     "name": "stderr",
     "output_type": "stream",
     "text": [
      "Epoch 10 [Val]:  19%|█▉        | 380/2004 [01:46<03:00,  8.99it/s, Loss=0.0001, Acc=96.18%]"
     ]
    },
    {
     "name": "stdout",
     "output_type": "stream",
     "text": [
      "[2025-02-26 20:07:19] Processed 380 validation batches\n"
     ]
    },
    {
     "name": "stderr",
     "output_type": "stream",
     "text": [
      "Epoch 10 [Val]:  20%|█▉        | 400/2004 [01:49<02:57,  9.06it/s, Loss=0.0021, Acc=96.37%]"
     ]
    },
    {
     "name": "stdout",
     "output_type": "stream",
     "text": [
      "[2025-02-26 20:07:21] Processed 400 validation batches\n"
     ]
    },
    {
     "name": "stderr",
     "output_type": "stream",
     "text": [
      "Epoch 10 [Val]:  21%|██        | 420/2004 [01:51<02:54,  9.09it/s, Loss=0.0021, Acc=96.53%]"
     ]
    },
    {
     "name": "stdout",
     "output_type": "stream",
     "text": [
      "[2025-02-26 20:07:24] Processed 420 validation batches\n"
     ]
    },
    {
     "name": "stderr",
     "output_type": "stream",
     "text": [
      "Epoch 10 [Val]:  22%|██▏       | 440/2004 [01:53<02:53,  9.00it/s, Loss=0.0006, Acc=96.68%]"
     ]
    },
    {
     "name": "stdout",
     "output_type": "stream",
     "text": [
      "[2025-02-26 20:07:26] Processed 440 validation batches\n"
     ]
    },
    {
     "name": "stderr",
     "output_type": "stream",
     "text": [
      "Epoch 10 [Val]:  23%|██▎       | 460/2004 [02:06<11:27,  2.25it/s, Loss=0.0460, Acc=96.80%]"
     ]
    },
    {
     "name": "stdout",
     "output_type": "stream",
     "text": [
      "[2025-02-26 20:07:39] Processed 460 validation batches\n"
     ]
    },
    {
     "name": "stderr",
     "output_type": "stream",
     "text": [
      "Epoch 10 [Val]:  24%|██▍       | 480/2004 [02:12<07:25,  3.42it/s, Loss=0.1672, Acc=96.79%]"
     ]
    },
    {
     "name": "stdout",
     "output_type": "stream",
     "text": [
      "[2025-02-26 20:07:44] Processed 480 validation batches\n"
     ]
    },
    {
     "name": "stderr",
     "output_type": "stream",
     "text": [
      "Epoch 10 [Val]:  25%|██▍       | 500/2004 [02:18<03:06,  8.07it/s, Loss=0.0020, Acc=96.89%]"
     ]
    },
    {
     "name": "stdout",
     "output_type": "stream",
     "text": [
      "[2025-02-26 20:07:51] Processed 500 validation batches\n"
     ]
    },
    {
     "name": "stderr",
     "output_type": "stream",
     "text": [
      "Epoch 10 [Val]:  26%|██▌       | 520/2004 [02:21<02:47,  8.87it/s, Loss=0.0090, Acc=97.01%]"
     ]
    },
    {
     "name": "stdout",
     "output_type": "stream",
     "text": [
      "[2025-02-26 20:07:53] Processed 520 validation batches\n"
     ]
    },
    {
     "name": "stderr",
     "output_type": "stream",
     "text": [
      "Epoch 10 [Val]:  27%|██▋       | 540/2004 [02:23<04:03,  6.00it/s, Loss=0.0006, Acc=97.11%]"
     ]
    },
    {
     "name": "stdout",
     "output_type": "stream",
     "text": [
      "[2025-02-26 20:07:56] Processed 540 validation batches\n"
     ]
    },
    {
     "name": "stderr",
     "output_type": "stream",
     "text": [
      "Epoch 10 [Val]:  28%|██▊       | 560/2004 [02:27<03:02,  7.93it/s, Loss=0.0007, Acc=97.19%]"
     ]
    },
    {
     "name": "stdout",
     "output_type": "stream",
     "text": [
      "[2025-02-26 20:07:59] Processed 560 validation batches\n"
     ]
    },
    {
     "name": "stderr",
     "output_type": "stream",
     "text": [
      "Epoch 10 [Val]:  29%|██▉       | 580/2004 [02:31<06:30,  3.64it/s, Loss=0.0003, Acc=97.28%]"
     ]
    },
    {
     "name": "stdout",
     "output_type": "stream",
     "text": [
      "[2025-02-26 20:08:03] Processed 580 validation batches\n"
     ]
    },
    {
     "name": "stderr",
     "output_type": "stream",
     "text": [
      "Epoch 10 [Val]:  30%|██▉       | 600/2004 [02:33<02:49,  8.26it/s, Loss=0.0000, Acc=97.36%]"
     ]
    },
    {
     "name": "stdout",
     "output_type": "stream",
     "text": [
      "[2025-02-26 20:08:06] Processed 600 validation batches\n"
     ]
    },
    {
     "name": "stderr",
     "output_type": "stream",
     "text": [
      "Epoch 10 [Val]:  31%|███       | 620/2004 [02:36<02:49,  8.18it/s, Loss=0.0000, Acc=97.43%]"
     ]
    },
    {
     "name": "stdout",
     "output_type": "stream",
     "text": [
      "[2025-02-26 20:08:08] Processed 620 validation batches\n"
     ]
    },
    {
     "name": "stderr",
     "output_type": "stream",
     "text": [
      "Epoch 10 [Val]:  32%|███▏      | 640/2004 [02:38<02:49,  8.05it/s, Loss=0.0000, Acc=97.49%]"
     ]
    },
    {
     "name": "stdout",
     "output_type": "stream",
     "text": [
      "[2025-02-26 20:08:11] Processed 640 validation batches\n"
     ]
    },
    {
     "name": "stderr",
     "output_type": "stream",
     "text": [
      "Epoch 10 [Val]:  33%|███▎      | 660/2004 [02:41<02:46,  8.07it/s, Loss=0.0003, Acc=97.57%]"
     ]
    },
    {
     "name": "stdout",
     "output_type": "stream",
     "text": [
      "[2025-02-26 20:08:13] Processed 660 validation batches\n"
     ]
    },
    {
     "name": "stderr",
     "output_type": "stream",
     "text": [
      "Epoch 10 [Val]:  34%|███▍      | 680/2004 [02:43<02:53,  7.62it/s, Loss=0.0000, Acc=97.64%]"
     ]
    },
    {
     "name": "stdout",
     "output_type": "stream",
     "text": [
      "[2025-02-26 20:08:16] Processed 680 validation batches\n"
     ]
    },
    {
     "name": "stderr",
     "output_type": "stream",
     "text": [
      "Epoch 10 [Val]:  35%|███▍      | 700/2004 [02:46<02:40,  8.11it/s, Loss=0.0000, Acc=97.71%]"
     ]
    },
    {
     "name": "stdout",
     "output_type": "stream",
     "text": [
      "[2025-02-26 20:08:18] Processed 700 validation batches\n"
     ]
    },
    {
     "name": "stderr",
     "output_type": "stream",
     "text": [
      "Epoch 10 [Val]:  36%|███▌      | 720/2004 [02:48<02:39,  8.05it/s, Loss=0.0015, Acc=97.77%]"
     ]
    },
    {
     "name": "stdout",
     "output_type": "stream",
     "text": [
      "[2025-02-26 20:08:21] Processed 720 validation batches\n"
     ]
    },
    {
     "name": "stderr",
     "output_type": "stream",
     "text": [
      "Epoch 10 [Val]:  37%|███▋      | 740/2004 [02:52<02:43,  7.74it/s, Loss=0.0001, Acc=97.83%]"
     ]
    },
    {
     "name": "stdout",
     "output_type": "stream",
     "text": [
      "[2025-02-26 20:08:25] Processed 740 validation batches\n"
     ]
    },
    {
     "name": "stderr",
     "output_type": "stream",
     "text": [
      "Epoch 10 [Val]:  38%|███▊      | 760/2004 [03:04<06:37,  3.13it/s, Loss=0.0000, Acc=97.86%]"
     ]
    },
    {
     "name": "stdout",
     "output_type": "stream",
     "text": [
      "[2025-02-26 20:08:36] Processed 760 validation batches\n"
     ]
    },
    {
     "name": "stderr",
     "output_type": "stream",
     "text": [
      "Epoch 10 [Val]:  39%|███▉      | 780/2004 [03:12<06:53,  2.96it/s, Loss=0.0007, Acc=97.91%]"
     ]
    },
    {
     "name": "stdout",
     "output_type": "stream",
     "text": [
      "[2025-02-26 20:08:45] Processed 780 validation batches\n"
     ]
    },
    {
     "name": "stderr",
     "output_type": "stream",
     "text": [
      "Epoch 10 [Val]:  40%|███▉      | 800/2004 [03:15<02:28,  8.12it/s, Loss=0.0011, Acc=97.96%]"
     ]
    },
    {
     "name": "stdout",
     "output_type": "stream",
     "text": [
      "[2025-02-26 20:08:47] Processed 800 validation batches\n"
     ]
    },
    {
     "name": "stderr",
     "output_type": "stream",
     "text": [
      "Epoch 10 [Val]:  41%|████      | 820/2004 [03:17<02:23,  8.25it/s, Loss=0.0297, Acc=98.01%]"
     ]
    },
    {
     "name": "stdout",
     "output_type": "stream",
     "text": [
      "[2025-02-26 20:08:50] Processed 820 validation batches\n"
     ]
    },
    {
     "name": "stderr",
     "output_type": "stream",
     "text": [
      "Epoch 10 [Val]:  42%|████▏     | 840/2004 [03:23<04:26,  4.37it/s, Loss=0.0043, Acc=98.04%]"
     ]
    },
    {
     "name": "stdout",
     "output_type": "stream",
     "text": [
      "[2025-02-26 20:08:55] Processed 840 validation batches\n"
     ]
    },
    {
     "name": "stderr",
     "output_type": "stream",
     "text": [
      "Epoch 10 [Val]:  43%|████▎     | 860/2004 [03:28<08:41,  2.19it/s, Loss=0.3027, Acc=98.05%]"
     ]
    },
    {
     "name": "stdout",
     "output_type": "stream",
     "text": [
      "[2025-02-26 20:09:01] Processed 860 validation batches\n"
     ]
    },
    {
     "name": "stderr",
     "output_type": "stream",
     "text": [
      "Epoch 10 [Val]:  44%|████▍     | 880/2004 [03:32<03:21,  5.57it/s, Loss=0.2590, Acc=97.91%]"
     ]
    },
    {
     "name": "stdout",
     "output_type": "stream",
     "text": [
      "[2025-02-26 20:09:04] Processed 880 validation batches\n"
     ]
    },
    {
     "name": "stderr",
     "output_type": "stream",
     "text": [
      "Epoch 10 [Val]:  45%|████▍     | 900/2004 [03:36<04:05,  4.50it/s, Loss=0.0180, Acc=97.77%]"
     ]
    },
    {
     "name": "stdout",
     "output_type": "stream",
     "text": [
      "[2025-02-26 20:09:09] Processed 900 validation batches\n"
     ]
    },
    {
     "name": "stderr",
     "output_type": "stream",
     "text": [
      "Epoch 10 [Val]:  46%|████▌     | 920/2004 [03:41<05:25,  3.33it/s, Loss=0.0380, Acc=97.81%]"
     ]
    },
    {
     "name": "stdout",
     "output_type": "stream",
     "text": [
      "[2025-02-26 20:09:14] Processed 920 validation batches\n"
     ]
    },
    {
     "name": "stderr",
     "output_type": "stream",
     "text": [
      "Epoch 10 [Val]:  47%|████▋     | 940/2004 [03:47<03:34,  4.95it/s, Loss=0.0163, Acc=97.77%]"
     ]
    },
    {
     "name": "stdout",
     "output_type": "stream",
     "text": [
      "[2025-02-26 20:09:19] Processed 940 validation batches\n"
     ]
    },
    {
     "name": "stderr",
     "output_type": "stream",
     "text": [
      "Epoch 10 [Val]:  48%|████▊     | 960/2004 [03:50<03:24,  5.12it/s, Loss=0.0693, Acc=97.73%]"
     ]
    },
    {
     "name": "stdout",
     "output_type": "stream",
     "text": [
      "[2025-02-26 20:09:23] Processed 960 validation batches\n"
     ]
    },
    {
     "name": "stderr",
     "output_type": "stream",
     "text": [
      "Epoch 10 [Val]:  49%|████▉     | 980/2004 [04:01<18:12,  1.07s/it, Loss=0.0270, Acc=97.70%]"
     ]
    },
    {
     "name": "stdout",
     "output_type": "stream",
     "text": [
      "[2025-02-26 20:09:34] Processed 980 validation batches\n"
     ]
    },
    {
     "name": "stderr",
     "output_type": "stream",
     "text": [
      "Epoch 10 [Val]:  50%|████▉     | 1000/2004 [04:08<03:34,  4.69it/s, Loss=0.0751, Acc=97.72%]"
     ]
    },
    {
     "name": "stdout",
     "output_type": "stream",
     "text": [
      "[2025-02-26 20:09:40] Processed 1000 validation batches\n"
     ]
    },
    {
     "name": "stderr",
     "output_type": "stream",
     "text": [
      "Epoch 10 [Val]:  51%|█████     | 1020/2004 [04:13<03:05,  5.29it/s, Loss=0.0091, Acc=97.75%]"
     ]
    },
    {
     "name": "stdout",
     "output_type": "stream",
     "text": [
      "[2025-02-26 20:09:45] Processed 1020 validation batches\n"
     ]
    },
    {
     "name": "stderr",
     "output_type": "stream",
     "text": [
      "Epoch 10 [Val]:  52%|█████▏    | 1040/2004 [04:21<03:31,  4.56it/s, Loss=0.0003, Acc=97.75%]"
     ]
    },
    {
     "name": "stdout",
     "output_type": "stream",
     "text": [
      "[2025-02-26 20:09:53] Processed 1040 validation batches\n"
     ]
    },
    {
     "name": "stderr",
     "output_type": "stream",
     "text": [
      "Epoch 10 [Val]:  53%|█████▎    | 1060/2004 [04:27<05:14,  3.00it/s, Loss=0.0000, Acc=97.80%]"
     ]
    },
    {
     "name": "stdout",
     "output_type": "stream",
     "text": [
      "[2025-02-26 20:10:00] Processed 1060 validation batches\n"
     ]
    },
    {
     "name": "stderr",
     "output_type": "stream",
     "text": [
      "Epoch 10 [Val]:  54%|█████▍    | 1080/2004 [04:36<07:49,  1.97it/s, Loss=0.0001, Acc=97.82%]"
     ]
    },
    {
     "name": "stdout",
     "output_type": "stream",
     "text": [
      "[2025-02-26 20:10:08] Processed 1080 validation batches\n"
     ]
    },
    {
     "name": "stderr",
     "output_type": "stream",
     "text": [
      "Epoch 10 [Val]:  55%|█████▍    | 1100/2004 [04:58<20:41,  1.37s/it, Loss=0.0000, Acc=97.83%]"
     ]
    },
    {
     "name": "stdout",
     "output_type": "stream",
     "text": [
      "[2025-02-26 20:10:30] Processed 1100 validation batches\n"
     ]
    },
    {
     "name": "stderr",
     "output_type": "stream",
     "text": [
      "Epoch 10 [Val]:  56%|█████▌    | 1120/2004 [05:20<18:08,  1.23s/it, Loss=0.0222, Acc=97.86%]"
     ]
    },
    {
     "name": "stdout",
     "output_type": "stream",
     "text": [
      "[2025-02-26 20:10:53] Processed 1120 validation batches\n"
     ]
    },
    {
     "name": "stderr",
     "output_type": "stream",
     "text": [
      "Epoch 10 [Val]:  57%|█████▋    | 1140/2004 [05:24<02:47,  5.15it/s, Loss=0.0002, Acc=97.90%]"
     ]
    },
    {
     "name": "stdout",
     "output_type": "stream",
     "text": [
      "[2025-02-26 20:10:57] Processed 1140 validation batches\n"
     ]
    },
    {
     "name": "stderr",
     "output_type": "stream",
     "text": [
      "Epoch 10 [Val]:  58%|█████▊    | 1160/2004 [05:29<03:19,  4.24it/s, Loss=0.0000, Acc=97.94%]"
     ]
    },
    {
     "name": "stdout",
     "output_type": "stream",
     "text": [
      "[2025-02-26 20:11:01] Processed 1160 validation batches\n"
     ]
    },
    {
     "name": "stderr",
     "output_type": "stream",
     "text": [
      "Epoch 10 [Val]:  59%|█████▉    | 1180/2004 [05:33<02:44,  5.01it/s, Loss=0.0000, Acc=97.97%]"
     ]
    },
    {
     "name": "stdout",
     "output_type": "stream",
     "text": [
      "[2025-02-26 20:11:06] Processed 1180 validation batches\n"
     ]
    },
    {
     "name": "stderr",
     "output_type": "stream",
     "text": [
      "Epoch 10 [Val]:  60%|█████▉    | 1200/2004 [05:35<01:36,  8.31it/s, Loss=0.0000, Acc=98.01%]"
     ]
    },
    {
     "name": "stdout",
     "output_type": "stream",
     "text": [
      "[2025-02-26 20:11:08] Processed 1200 validation batches\n"
     ]
    },
    {
     "name": "stderr",
     "output_type": "stream",
     "text": [
      "Epoch 10 [Val]:  61%|██████    | 1220/2004 [05:39<02:21,  5.52it/s, Loss=0.0139, Acc=98.03%]"
     ]
    },
    {
     "name": "stdout",
     "output_type": "stream",
     "text": [
      "[2025-02-26 20:11:11] Processed 1220 validation batches\n"
     ]
    },
    {
     "name": "stderr",
     "output_type": "stream",
     "text": [
      "Epoch 10 [Val]:  62%|██████▏   | 1240/2004 [05:42<02:21,  5.38it/s, Loss=0.0000, Acc=98.07%]"
     ]
    },
    {
     "name": "stdout",
     "output_type": "stream",
     "text": [
      "[2025-02-26 20:11:15] Processed 1240 validation batches\n"
     ]
    },
    {
     "name": "stderr",
     "output_type": "stream",
     "text": [
      "Epoch 10 [Val]:  63%|██████▎   | 1260/2004 [05:47<02:46,  4.47it/s, Loss=0.0000, Acc=98.10%]"
     ]
    },
    {
     "name": "stdout",
     "output_type": "stream",
     "text": [
      "[2025-02-26 20:11:19] Processed 1260 validation batches\n"
     ]
    },
    {
     "name": "stderr",
     "output_type": "stream",
     "text": [
      "Epoch 10 [Val]:  64%|██████▍   | 1280/2004 [05:51<02:34,  4.68it/s, Loss=0.0004, Acc=98.13%]"
     ]
    },
    {
     "name": "stdout",
     "output_type": "stream",
     "text": [
      "[2025-02-26 20:11:23] Processed 1280 validation batches\n"
     ]
    },
    {
     "name": "stderr",
     "output_type": "stream",
     "text": [
      "Epoch 10 [Val]:  65%|██████▍   | 1300/2004 [05:55<03:07,  3.75it/s, Loss=0.1511, Acc=98.11%]"
     ]
    },
    {
     "name": "stdout",
     "output_type": "stream",
     "text": [
      "[2025-02-26 20:11:28] Processed 1300 validation batches\n"
     ]
    },
    {
     "name": "stderr",
     "output_type": "stream",
     "text": [
      "Epoch 10 [Val]:  66%|██████▌   | 1320/2004 [06:00<02:33,  4.46it/s, Loss=0.0032, Acc=98.12%]"
     ]
    },
    {
     "name": "stdout",
     "output_type": "stream",
     "text": [
      "[2025-02-26 20:11:32] Processed 1320 validation batches\n"
     ]
    },
    {
     "name": "stderr",
     "output_type": "stream",
     "text": [
      "Epoch 10 [Val]:  67%|██████▋   | 1340/2004 [06:05<02:28,  4.46it/s, Loss=0.0736, Acc=98.12%]"
     ]
    },
    {
     "name": "stdout",
     "output_type": "stream",
     "text": [
      "[2025-02-26 20:11:37] Processed 1340 validation batches\n"
     ]
    },
    {
     "name": "stderr",
     "output_type": "stream",
     "text": [
      "Epoch 10 [Val]:  68%|██████▊   | 1360/2004 [06:08<01:50,  5.84it/s, Loss=0.0013, Acc=98.14%]"
     ]
    },
    {
     "name": "stdout",
     "output_type": "stream",
     "text": [
      "[2025-02-26 20:11:40] Processed 1360 validation batches\n"
     ]
    },
    {
     "name": "stderr",
     "output_type": "stream",
     "text": [
      "Epoch 10 [Val]:  69%|██████▉   | 1380/2004 [06:10<01:09,  8.95it/s, Loss=0.0000, Acc=98.17%]"
     ]
    },
    {
     "name": "stdout",
     "output_type": "stream",
     "text": [
      "[2025-02-26 20:11:43] Processed 1380 validation batches\n"
     ]
    },
    {
     "name": "stderr",
     "output_type": "stream",
     "text": [
      "Epoch 10 [Val]:  70%|██████▉   | 1400/2004 [06:12<01:06,  9.09it/s, Loss=0.0029, Acc=98.19%]"
     ]
    },
    {
     "name": "stdout",
     "output_type": "stream",
     "text": [
      "[2025-02-26 20:11:45] Processed 1400 validation batches\n"
     ]
    },
    {
     "name": "stderr",
     "output_type": "stream",
     "text": [
      "Epoch 10 [Val]:  71%|███████   | 1420/2004 [06:14<01:07,  8.65it/s, Loss=0.0029, Acc=98.22%]"
     ]
    },
    {
     "name": "stdout",
     "output_type": "stream",
     "text": [
      "[2025-02-26 20:11:47] Processed 1420 validation batches\n"
     ]
    },
    {
     "name": "stderr",
     "output_type": "stream",
     "text": [
      "Epoch 10 [Val]:  72%|███████▏  | 1440/2004 [06:17<01:02,  9.01it/s, Loss=0.0046, Acc=98.24%]"
     ]
    },
    {
     "name": "stdout",
     "output_type": "stream",
     "text": [
      "[2025-02-26 20:11:49] Processed 1440 validation batches\n"
     ]
    },
    {
     "name": "stderr",
     "output_type": "stream",
     "text": [
      "Epoch 10 [Val]:  73%|███████▎  | 1460/2004 [06:19<01:00,  8.94it/s, Loss=0.0036, Acc=98.27%]"
     ]
    },
    {
     "name": "stdout",
     "output_type": "stream",
     "text": [
      "[2025-02-26 20:11:52] Processed 1460 validation batches\n"
     ]
    },
    {
     "name": "stderr",
     "output_type": "stream",
     "text": [
      "Epoch 10 [Val]:  74%|███████▍  | 1480/2004 [06:21<01:01,  8.58it/s, Loss=0.0009, Acc=98.29%]"
     ]
    },
    {
     "name": "stdout",
     "output_type": "stream",
     "text": [
      "[2025-02-26 20:11:54] Processed 1480 validation batches\n"
     ]
    },
    {
     "name": "stderr",
     "output_type": "stream",
     "text": [
      "Epoch 10 [Val]:  75%|███████▍  | 1500/2004 [06:23<00:57,  8.74it/s, Loss=0.0028, Acc=98.31%]"
     ]
    },
    {
     "name": "stdout",
     "output_type": "stream",
     "text": [
      "[2025-02-26 20:11:56] Processed 1500 validation batches\n"
     ]
    },
    {
     "name": "stderr",
     "output_type": "stream",
     "text": [
      "Epoch 10 [Val]:  76%|███████▌  | 1520/2004 [06:26<00:55,  8.73it/s, Loss=0.0013, Acc=98.34%]"
     ]
    },
    {
     "name": "stdout",
     "output_type": "stream",
     "text": [
      "[2025-02-26 20:11:58] Processed 1520 validation batches\n"
     ]
    },
    {
     "name": "stderr",
     "output_type": "stream",
     "text": [
      "Epoch 10 [Val]:  77%|███████▋  | 1540/2004 [06:30<03:49,  2.02it/s, Loss=0.0025, Acc=98.35%]"
     ]
    },
    {
     "name": "stdout",
     "output_type": "stream",
     "text": [
      "[2025-02-26 20:12:03] Processed 1540 validation batches\n"
     ]
    },
    {
     "name": "stderr",
     "output_type": "stream",
     "text": [
      "Epoch 10 [Val]:  78%|███████▊  | 1560/2004 [06:40<02:10,  3.41it/s, Loss=0.0002, Acc=98.37%]"
     ]
    },
    {
     "name": "stdout",
     "output_type": "stream",
     "text": [
      "[2025-02-26 20:12:12] Processed 1560 validation batches\n"
     ]
    },
    {
     "name": "stderr",
     "output_type": "stream",
     "text": [
      "Epoch 10 [Val]:  79%|███████▉  | 1580/2004 [06:47<01:54,  3.70it/s, Loss=0.0004, Acc=98.38%]"
     ]
    },
    {
     "name": "stdout",
     "output_type": "stream",
     "text": [
      "[2025-02-26 20:12:20] Processed 1580 validation batches\n"
     ]
    },
    {
     "name": "stderr",
     "output_type": "stream",
     "text": [
      "Epoch 10 [Val]:  80%|███████▉  | 1600/2004 [06:49<00:46,  8.72it/s, Loss=0.0045, Acc=98.40%]"
     ]
    },
    {
     "name": "stdout",
     "output_type": "stream",
     "text": [
      "[2025-02-26 20:12:22] Processed 1600 validation batches\n"
     ]
    },
    {
     "name": "stderr",
     "output_type": "stream",
     "text": [
      "Epoch 10 [Val]:  81%|████████  | 1620/2004 [07:05<07:03,  1.10s/it, Loss=0.0009, Acc=98.42%]"
     ]
    },
    {
     "name": "stdout",
     "output_type": "stream",
     "text": [
      "[2025-02-26 20:12:37] Processed 1620 validation batches\n"
     ]
    },
    {
     "name": "stderr",
     "output_type": "stream",
     "text": [
      "Epoch 10 [Val]:  82%|████████▏ | 1640/2004 [07:25<02:04,  2.92it/s, Loss=0.0048, Acc=98.42%]"
     ]
    },
    {
     "name": "stdout",
     "output_type": "stream",
     "text": [
      "[2025-02-26 20:12:57] Processed 1640 validation batches\n"
     ]
    },
    {
     "name": "stderr",
     "output_type": "stream",
     "text": [
      "Epoch 10 [Val]:  83%|████████▎ | 1660/2004 [07:29<01:16,  4.48it/s, Loss=0.0068, Acc=98.41%]"
     ]
    },
    {
     "name": "stdout",
     "output_type": "stream",
     "text": [
      "[2025-02-26 20:13:02] Processed 1660 validation batches\n"
     ]
    },
    {
     "name": "stderr",
     "output_type": "stream",
     "text": [
      "Epoch 10 [Val]:  84%|████████▍ | 1680/2004 [07:34<01:15,  4.31it/s, Loss=0.0204, Acc=98.39%]"
     ]
    },
    {
     "name": "stdout",
     "output_type": "stream",
     "text": [
      "[2025-02-26 20:13:07] Processed 1680 validation batches\n"
     ]
    },
    {
     "name": "stderr",
     "output_type": "stream",
     "text": [
      "Epoch 10 [Val]:  85%|████████▍ | 1700/2004 [07:39<01:07,  4.52it/s, Loss=0.2600, Acc=98.38%]"
     ]
    },
    {
     "name": "stdout",
     "output_type": "stream",
     "text": [
      "[2025-02-26 20:13:12] Processed 1700 validation batches\n"
     ]
    },
    {
     "name": "stderr",
     "output_type": "stream",
     "text": [
      "Epoch 10 [Val]:  86%|████████▌ | 1720/2004 [07:44<01:00,  4.69it/s, Loss=0.0000, Acc=98.39%]"
     ]
    },
    {
     "name": "stdout",
     "output_type": "stream",
     "text": [
      "[2025-02-26 20:13:16] Processed 1720 validation batches\n"
     ]
    },
    {
     "name": "stderr",
     "output_type": "stream",
     "text": [
      "Epoch 10 [Val]:  87%|████████▋ | 1740/2004 [07:48<00:55,  4.79it/s, Loss=0.0002, Acc=98.41%]"
     ]
    },
    {
     "name": "stdout",
     "output_type": "stream",
     "text": [
      "[2025-02-26 20:13:21] Processed 1740 validation batches\n"
     ]
    },
    {
     "name": "stderr",
     "output_type": "stream",
     "text": [
      "Epoch 10 [Val]:  88%|████████▊ | 1760/2004 [07:52<00:53,  4.60it/s, Loss=0.0000, Acc=98.42%]"
     ]
    },
    {
     "name": "stdout",
     "output_type": "stream",
     "text": [
      "[2025-02-26 20:13:25] Processed 1760 validation batches\n"
     ]
    },
    {
     "name": "stderr",
     "output_type": "stream",
     "text": [
      "Epoch 10 [Val]:  89%|████████▉ | 1780/2004 [08:03<01:50,  2.03it/s, Loss=0.0000, Acc=98.44%]"
     ]
    },
    {
     "name": "stdout",
     "output_type": "stream",
     "text": [
      "[2025-02-26 20:13:35] Processed 1780 validation batches\n"
     ]
    },
    {
     "name": "stderr",
     "output_type": "stream",
     "text": [
      "Epoch 10 [Val]:  90%|████████▉ | 1800/2004 [08:07<00:44,  4.54it/s, Loss=0.0018, Acc=98.46%]"
     ]
    },
    {
     "name": "stdout",
     "output_type": "stream",
     "text": [
      "[2025-02-26 20:13:40] Processed 1800 validation batches\n"
     ]
    },
    {
     "name": "stderr",
     "output_type": "stream",
     "text": [
      "Epoch 10 [Val]:  91%|█████████ | 1820/2004 [08:13<00:40,  4.52it/s, Loss=0.0000, Acc=98.47%]"
     ]
    },
    {
     "name": "stdout",
     "output_type": "stream",
     "text": [
      "[2025-02-26 20:13:46] Processed 1820 validation batches\n"
     ]
    },
    {
     "name": "stderr",
     "output_type": "stream",
     "text": [
      "Epoch 10 [Val]:  92%|█████████▏| 1840/2004 [08:18<00:36,  4.53it/s, Loss=0.0001, Acc=98.49%]"
     ]
    },
    {
     "name": "stdout",
     "output_type": "stream",
     "text": [
      "[2025-02-26 20:13:50] Processed 1840 validation batches\n"
     ]
    },
    {
     "name": "stderr",
     "output_type": "stream",
     "text": [
      "Epoch 10 [Val]:  93%|█████████▎| 1860/2004 [08:22<00:30,  4.71it/s, Loss=0.0005, Acc=98.51%]"
     ]
    },
    {
     "name": "stdout",
     "output_type": "stream",
     "text": [
      "[2025-02-26 20:13:55] Processed 1860 validation batches\n"
     ]
    },
    {
     "name": "stderr",
     "output_type": "stream",
     "text": [
      "Epoch 10 [Val]:  94%|█████████▍| 1880/2004 [08:36<01:48,  1.14it/s, Loss=0.0016, Acc=98.52%]"
     ]
    },
    {
     "name": "stdout",
     "output_type": "stream",
     "text": [
      "[2025-02-26 20:14:09] Processed 1880 validation batches\n"
     ]
    },
    {
     "name": "stderr",
     "output_type": "stream",
     "text": [
      "Epoch 10 [Val]:  95%|█████████▍| 1900/2004 [08:43<00:32,  3.18it/s, Loss=0.0004, Acc=98.52%]"
     ]
    },
    {
     "name": "stdout",
     "output_type": "stream",
     "text": [
      "[2025-02-26 20:14:16] Processed 1900 validation batches\n"
     ]
    },
    {
     "name": "stderr",
     "output_type": "stream",
     "text": [
      "Epoch 10 [Val]:  96%|█████████▌| 1920/2004 [08:51<00:11,  7.63it/s, Loss=0.0021, Acc=98.53%]"
     ]
    },
    {
     "name": "stdout",
     "output_type": "stream",
     "text": [
      "[2025-02-26 20:14:23] Processed 1920 validation batches\n"
     ]
    },
    {
     "name": "stderr",
     "output_type": "stream",
     "text": [
      "Epoch 10 [Val]:  97%|█████████▋| 1940/2004 [08:55<00:15,  4.25it/s, Loss=0.0038, Acc=98.53%]"
     ]
    },
    {
     "name": "stdout",
     "output_type": "stream",
     "text": [
      "[2025-02-26 20:14:28] Processed 1940 validation batches\n"
     ]
    },
    {
     "name": "stderr",
     "output_type": "stream",
     "text": [
      "Epoch 10 [Val]:  98%|█████████▊| 1960/2004 [09:00<00:09,  4.42it/s, Loss=0.0004, Acc=98.54%]"
     ]
    },
    {
     "name": "stdout",
     "output_type": "stream",
     "text": [
      "[2025-02-26 20:14:32] Processed 1960 validation batches\n"
     ]
    },
    {
     "name": "stderr",
     "output_type": "stream",
     "text": [
      "Epoch 10 [Val]:  99%|█████████▉| 1979/2004 [09:02<00:03,  8.19it/s, Loss=0.0630, Acc=98.44%]"
     ]
    },
    {
     "name": "stdout",
     "output_type": "stream",
     "text": [
      "[2025-02-26 20:14:35] Processed 1980 validation batches\n"
     ]
    },
    {
     "name": "stderr",
     "output_type": "stream",
     "text": [
      "Epoch 10 [Val]: 100%|█████████▉| 1999/2004 [09:04<00:00, 11.35it/s, Loss=0.0038, Acc=98.45%]"
     ]
    },
    {
     "name": "stdout",
     "output_type": "stream",
     "text": [
      "[2025-02-26 20:14:37] Processed 2000 validation batches\n"
     ]
    },
    {
     "name": "stderr",
     "output_type": "stream",
     "text": [
      "Epoch 10 [Val]: 100%|██████████| 2004/2004 [09:04<00:00,  3.68it/s, Loss=0.0001, Acc=98.45%]"
     ]
    },
    {
     "name": "stdout",
     "output_type": "stream",
     "text": [
      "[2025-02-26 20:14:37] Epoch 10 Results:\n",
      "[2025-02-26 20:14:37] Train Loss: 0.1636 | Train Acc: 94.83%\n",
      "[2025-02-26 20:14:37] Val Loss: 0.0493 | Val Acc: 98.45%\n"
     ]
    },
    {
     "name": "stderr",
     "output_type": "stream",
     "text": [
      "\n"
     ]
    },
    {
     "name": "stdout",
     "output_type": "stream",
     "text": [
      "[2025-02-26 20:14:37] Saved best model\n",
      "[2025-02-26 20:14:37] Starting epoch 11/15\n"
     ]
    },
    {
     "name": "stderr",
     "output_type": "stream",
     "text": [
      "Epoch 11 [Train]:   0%|          | 0/2004 [00:00<?, ?it/s, Loss=0.0169, Acc=100.00%]"
     ]
    },
    {
     "name": "stdout",
     "output_type": "stream",
     "text": [
      "[2025-02-26 20:14:38] Processed 0 training batches\n"
     ]
    },
    {
     "name": "stderr",
     "output_type": "stream",
     "text": [
      "Epoch 11 [Train]:   2%|▏         | 50/2004 [00:12<10:28,  3.11it/s, Loss=0.1103, Acc=95.71%]"
     ]
    },
    {
     "name": "stdout",
     "output_type": "stream",
     "text": [
      "[2025-02-26 20:14:50] Processed 50 training batches\n"
     ]
    },
    {
     "name": "stderr",
     "output_type": "stream",
     "text": [
      "Epoch 11 [Train]:   5%|▍         | 100/2004 [00:25<09:41,  3.28it/s, Loss=0.0092, Acc=95.79%]"
     ]
    },
    {
     "name": "stdout",
     "output_type": "stream",
     "text": [
      "[2025-02-26 20:15:03] Processed 100 training batches\n"
     ]
    },
    {
     "name": "stderr",
     "output_type": "stream",
     "text": [
      "Epoch 11 [Train]:   7%|▋         | 150/2004 [00:38<08:01,  3.85it/s, Loss=0.0831, Acc=95.90%]"
     ]
    },
    {
     "name": "stdout",
     "output_type": "stream",
     "text": [
      "[2025-02-26 20:15:15] Processed 150 training batches\n"
     ]
    },
    {
     "name": "stderr",
     "output_type": "stream",
     "text": [
      "Epoch 11 [Train]:  10%|▉         | 200/2004 [00:50<08:32,  3.52it/s, Loss=0.0794, Acc=95.46%]"
     ]
    },
    {
     "name": "stdout",
     "output_type": "stream",
     "text": [
      "[2025-02-26 20:15:28] Processed 200 training batches\n"
     ]
    },
    {
     "name": "stderr",
     "output_type": "stream",
     "text": [
      "Epoch 11 [Train]:  12%|█▏        | 250/2004 [01:03<07:04,  4.14it/s, Loss=0.0047, Acc=95.57%]"
     ]
    },
    {
     "name": "stdout",
     "output_type": "stream",
     "text": [
      "[2025-02-26 20:15:41] Processed 250 training batches\n"
     ]
    },
    {
     "name": "stderr",
     "output_type": "stream",
     "text": [
      "Epoch 11 [Train]:  15%|█▍        | 300/2004 [01:16<08:23,  3.38it/s, Loss=0.1015, Acc=95.60%]"
     ]
    },
    {
     "name": "stdout",
     "output_type": "stream",
     "text": [
      "[2025-02-26 20:15:54] Processed 300 training batches\n"
     ]
    },
    {
     "name": "stderr",
     "output_type": "stream",
     "text": [
      "Epoch 11 [Train]:  17%|█▋        | 350/2004 [01:30<08:44,  3.16it/s, Loss=0.0010, Acc=95.46%]"
     ]
    },
    {
     "name": "stdout",
     "output_type": "stream",
     "text": [
      "[2025-02-26 20:16:08] Processed 350 training batches\n"
     ]
    },
    {
     "name": "stderr",
     "output_type": "stream",
     "text": [
      "Epoch 11 [Train]:  20%|█▉        | 400/2004 [01:45<06:54,  3.87it/s, Loss=0.4780, Acc=95.56%]"
     ]
    },
    {
     "name": "stdout",
     "output_type": "stream",
     "text": [
      "[2025-02-26 20:16:22] Processed 400 training batches\n"
     ]
    },
    {
     "name": "stderr",
     "output_type": "stream",
     "text": [
      "Epoch 11 [Train]:  22%|██▏       | 450/2004 [01:57<06:05,  4.25it/s, Loss=0.0065, Acc=95.40%]"
     ]
    },
    {
     "name": "stdout",
     "output_type": "stream",
     "text": [
      "[2025-02-26 20:16:35] Processed 450 training batches\n"
     ]
    },
    {
     "name": "stderr",
     "output_type": "stream",
     "text": [
      "Epoch 11 [Train]:  25%|██▍       | 500/2004 [02:12<07:24,  3.38it/s, Loss=0.3209, Acc=95.33%]"
     ]
    },
    {
     "name": "stdout",
     "output_type": "stream",
     "text": [
      "[2025-02-26 20:16:50] Processed 500 training batches\n"
     ]
    },
    {
     "name": "stderr",
     "output_type": "stream",
     "text": [
      "Epoch 11 [Train]:  27%|██▋       | 550/2004 [02:24<05:53,  4.11it/s, Loss=0.1051, Acc=95.41%]"
     ]
    },
    {
     "name": "stdout",
     "output_type": "stream",
     "text": [
      "[2025-02-26 20:17:02] Processed 550 training batches\n"
     ]
    },
    {
     "name": "stderr",
     "output_type": "stream",
     "text": [
      "Epoch 11 [Train]:  30%|██▉       | 600/2004 [02:38<06:37,  3.53it/s, Loss=0.3485, Acc=95.38%]"
     ]
    },
    {
     "name": "stdout",
     "output_type": "stream",
     "text": [
      "[2025-02-26 20:17:16] Processed 600 training batches\n"
     ]
    },
    {
     "name": "stderr",
     "output_type": "stream",
     "text": [
      "Epoch 11 [Train]:  32%|███▏      | 650/2004 [02:50<04:55,  4.58it/s, Loss=0.0119, Acc=95.39%]"
     ]
    },
    {
     "name": "stdout",
     "output_type": "stream",
     "text": [
      "[2025-02-26 20:17:28] Processed 650 training batches\n"
     ]
    },
    {
     "name": "stderr",
     "output_type": "stream",
     "text": [
      "Epoch 11 [Train]:  35%|███▍      | 700/2004 [03:03<05:45,  3.78it/s, Loss=0.0010, Acc=95.45%]"
     ]
    },
    {
     "name": "stdout",
     "output_type": "stream",
     "text": [
      "[2025-02-26 20:17:41] Processed 700 training batches\n"
     ]
    },
    {
     "name": "stderr",
     "output_type": "stream",
     "text": [
      "Epoch 11 [Train]:  37%|███▋      | 750/2004 [03:16<05:42,  3.66it/s, Loss=0.0049, Acc=95.45%]"
     ]
    },
    {
     "name": "stdout",
     "output_type": "stream",
     "text": [
      "[2025-02-26 20:17:54] Processed 750 training batches\n"
     ]
    },
    {
     "name": "stderr",
     "output_type": "stream",
     "text": [
      "Epoch 11 [Train]:  40%|███▉      | 800/2004 [03:31<06:10,  3.25it/s, Loss=0.2116, Acc=95.44%]"
     ]
    },
    {
     "name": "stdout",
     "output_type": "stream",
     "text": [
      "[2025-02-26 20:18:09] Processed 800 training batches\n"
     ]
    },
    {
     "name": "stderr",
     "output_type": "stream",
     "text": [
      "Epoch 11 [Train]:  42%|████▏     | 850/2004 [03:46<05:04,  3.79it/s, Loss=0.0787, Acc=95.37%]"
     ]
    },
    {
     "name": "stdout",
     "output_type": "stream",
     "text": [
      "[2025-02-26 20:18:23] Processed 850 training batches\n"
     ]
    },
    {
     "name": "stderr",
     "output_type": "stream",
     "text": [
      "Epoch 11 [Train]:  45%|████▍     | 900/2004 [03:59<04:44,  3.88it/s, Loss=0.1031, Acc=95.37%]"
     ]
    },
    {
     "name": "stdout",
     "output_type": "stream",
     "text": [
      "[2025-02-26 20:18:36] Processed 900 training batches\n"
     ]
    },
    {
     "name": "stderr",
     "output_type": "stream",
     "text": [
      "Epoch 11 [Train]:  47%|████▋     | 950/2004 [04:13<05:25,  3.24it/s, Loss=0.2049, Acc=95.33%]"
     ]
    },
    {
     "name": "stdout",
     "output_type": "stream",
     "text": [
      "[2025-02-26 20:18:51] Processed 950 training batches\n"
     ]
    },
    {
     "name": "stderr",
     "output_type": "stream",
     "text": [
      "Epoch 11 [Train]:  50%|████▉     | 1000/2004 [04:27<04:33,  3.68it/s, Loss=0.1340, Acc=95.34%]"
     ]
    },
    {
     "name": "stdout",
     "output_type": "stream",
     "text": [
      "[2025-02-26 20:19:05] Processed 1000 training batches\n"
     ]
    },
    {
     "name": "stderr",
     "output_type": "stream",
     "text": [
      "Epoch 11 [Train]:  52%|█████▏    | 1050/2004 [04:41<04:06,  3.86it/s, Loss=0.0229, Acc=95.40%]"
     ]
    },
    {
     "name": "stdout",
     "output_type": "stream",
     "text": [
      "[2025-02-26 20:19:19] Processed 1050 training batches\n"
     ]
    },
    {
     "name": "stderr",
     "output_type": "stream",
     "text": [
      "Epoch 11 [Train]:  55%|█████▍    | 1100/2004 [04:56<04:51,  3.10it/s, Loss=0.0145, Acc=95.42%]"
     ]
    },
    {
     "name": "stdout",
     "output_type": "stream",
     "text": [
      "[2025-02-26 20:19:34] Processed 1100 training batches\n"
     ]
    },
    {
     "name": "stderr",
     "output_type": "stream",
     "text": [
      "Epoch 11 [Train]:  57%|█████▋    | 1150/2004 [05:10<05:06,  2.79it/s, Loss=0.5311, Acc=95.38%]"
     ]
    },
    {
     "name": "stdout",
     "output_type": "stream",
     "text": [
      "[2025-02-26 20:19:48] Processed 1150 training batches\n"
     ]
    },
    {
     "name": "stderr",
     "output_type": "stream",
     "text": [
      "Epoch 11 [Train]:  60%|█████▉    | 1200/2004 [05:26<03:32,  3.79it/s, Loss=0.1963, Acc=95.43%]"
     ]
    },
    {
     "name": "stdout",
     "output_type": "stream",
     "text": [
      "[2025-02-26 20:20:04] Processed 1200 training batches\n"
     ]
    },
    {
     "name": "stderr",
     "output_type": "stream",
     "text": [
      "Epoch 11 [Train]:  62%|██████▏   | 1250/2004 [05:41<03:30,  3.57it/s, Loss=0.2900, Acc=95.41%]"
     ]
    },
    {
     "name": "stdout",
     "output_type": "stream",
     "text": [
      "[2025-02-26 20:20:19] Processed 1250 training batches\n"
     ]
    },
    {
     "name": "stderr",
     "output_type": "stream",
     "text": [
      "Epoch 11 [Train]:  65%|██████▍   | 1300/2004 [05:56<03:37,  3.24it/s, Loss=0.0496, Acc=95.43%]"
     ]
    },
    {
     "name": "stdout",
     "output_type": "stream",
     "text": [
      "[2025-02-26 20:20:34] Processed 1300 training batches\n"
     ]
    },
    {
     "name": "stderr",
     "output_type": "stream",
     "text": [
      "Epoch 11 [Train]:  67%|██████▋   | 1350/2004 [06:11<03:17,  3.31it/s, Loss=0.0944, Acc=95.43%]"
     ]
    },
    {
     "name": "stdout",
     "output_type": "stream",
     "text": [
      "[2025-02-26 20:20:49] Processed 1350 training batches\n"
     ]
    },
    {
     "name": "stderr",
     "output_type": "stream",
     "text": [
      "Epoch 11 [Train]:  70%|██████▉   | 1400/2004 [06:26<02:56,  3.42it/s, Loss=0.0064, Acc=95.46%]"
     ]
    },
    {
     "name": "stdout",
     "output_type": "stream",
     "text": [
      "[2025-02-26 20:21:03] Processed 1400 training batches\n"
     ]
    },
    {
     "name": "stderr",
     "output_type": "stream",
     "text": [
      "Epoch 11 [Train]:  72%|███████▏  | 1450/2004 [06:41<02:43,  3.38it/s, Loss=0.1211, Acc=95.47%]"
     ]
    },
    {
     "name": "stdout",
     "output_type": "stream",
     "text": [
      "[2025-02-26 20:21:19] Processed 1450 training batches\n"
     ]
    },
    {
     "name": "stderr",
     "output_type": "stream",
     "text": [
      "Epoch 11 [Train]:  75%|███████▍  | 1500/2004 [06:55<02:06,  3.99it/s, Loss=0.0158, Acc=95.46%]"
     ]
    },
    {
     "name": "stdout",
     "output_type": "stream",
     "text": [
      "[2025-02-26 20:21:33] Processed 1500 training batches\n"
     ]
    },
    {
     "name": "stderr",
     "output_type": "stream",
     "text": [
      "Epoch 11 [Train]:  77%|███████▋  | 1550/2004 [07:10<02:29,  3.04it/s, Loss=0.0334, Acc=95.49%]"
     ]
    },
    {
     "name": "stdout",
     "output_type": "stream",
     "text": [
      "[2025-02-26 20:21:47] Processed 1550 training batches\n"
     ]
    },
    {
     "name": "stderr",
     "output_type": "stream",
     "text": [
      "Epoch 11 [Train]:  80%|███████▉  | 1600/2004 [07:25<02:03,  3.27it/s, Loss=0.0377, Acc=95.52%]"
     ]
    },
    {
     "name": "stdout",
     "output_type": "stream",
     "text": [
      "[2025-02-26 20:22:02] Processed 1600 training batches\n"
     ]
    },
    {
     "name": "stderr",
     "output_type": "stream",
     "text": [
      "Epoch 11 [Train]:  82%|████████▏ | 1650/2004 [07:40<01:28,  3.98it/s, Loss=0.2483, Acc=95.52%]"
     ]
    },
    {
     "name": "stdout",
     "output_type": "stream",
     "text": [
      "[2025-02-26 20:22:17] Processed 1650 training batches\n"
     ]
    },
    {
     "name": "stderr",
     "output_type": "stream",
     "text": [
      "Epoch 11 [Train]:  85%|████████▍ | 1700/2004 [07:54<01:25,  3.55it/s, Loss=0.0661, Acc=95.54%]"
     ]
    },
    {
     "name": "stdout",
     "output_type": "stream",
     "text": [
      "[2025-02-26 20:22:32] Processed 1700 training batches\n"
     ]
    },
    {
     "name": "stderr",
     "output_type": "stream",
     "text": [
      "Epoch 11 [Train]:  87%|████████▋ | 1750/2004 [08:10<01:20,  3.15it/s, Loss=0.0843, Acc=95.53%]"
     ]
    },
    {
     "name": "stdout",
     "output_type": "stream",
     "text": [
      "[2025-02-26 20:22:47] Processed 1750 training batches\n"
     ]
    },
    {
     "name": "stderr",
     "output_type": "stream",
     "text": [
      "Epoch 11 [Train]:  90%|████████▉ | 1800/2004 [08:25<01:02,  3.28it/s, Loss=0.1466, Acc=95.51%]"
     ]
    },
    {
     "name": "stdout",
     "output_type": "stream",
     "text": [
      "[2025-02-26 20:23:03] Processed 1800 training batches\n"
     ]
    },
    {
     "name": "stderr",
     "output_type": "stream",
     "text": [
      "Epoch 11 [Train]:  92%|█████████▏| 1850/2004 [08:41<00:43,  3.55it/s, Loss=0.0733, Acc=95.49%]"
     ]
    },
    {
     "name": "stdout",
     "output_type": "stream",
     "text": [
      "[2025-02-26 20:23:18] Processed 1850 training batches\n"
     ]
    },
    {
     "name": "stderr",
     "output_type": "stream",
     "text": [
      "Epoch 11 [Train]:  95%|█████████▍| 1900/2004 [08:56<00:31,  3.33it/s, Loss=0.1133, Acc=95.53%]"
     ]
    },
    {
     "name": "stdout",
     "output_type": "stream",
     "text": [
      "[2025-02-26 20:23:34] Processed 1900 training batches\n"
     ]
    },
    {
     "name": "stderr",
     "output_type": "stream",
     "text": [
      "Epoch 11 [Train]:  97%|█████████▋| 1950/2004 [09:10<00:15,  3.50it/s, Loss=0.1465, Acc=95.53%]"
     ]
    },
    {
     "name": "stdout",
     "output_type": "stream",
     "text": [
      "[2025-02-26 20:23:48] Processed 1950 training batches\n"
     ]
    },
    {
     "name": "stderr",
     "output_type": "stream",
     "text": [
      "Epoch 11 [Train]: 100%|█████████▉| 2000/2004 [09:25<00:01,  3.53it/s, Loss=0.1956, Acc=95.53%]"
     ]
    },
    {
     "name": "stdout",
     "output_type": "stream",
     "text": [
      "[2025-02-26 20:24:03] Processed 2000 training batches\n"
     ]
    },
    {
     "name": "stderr",
     "output_type": "stream",
     "text": [
      "Epoch 11 [Train]: 100%|██████████| 2004/2004 [09:26<00:00,  3.54it/s, Loss=1.0656, Acc=95.54%]\n",
      "Epoch 11 [Val]:   0%|          | 0/2004 [00:00<?, ?it/s, Loss=0.3674, Acc=93.75%]"
     ]
    },
    {
     "name": "stdout",
     "output_type": "stream",
     "text": [
      "[2025-02-26 20:24:04] Processed 0 validation batches\n"
     ]
    },
    {
     "name": "stderr",
     "output_type": "stream",
     "text": [
      "Epoch 11 [Val]:   1%|          | 20/2004 [00:07<10:02,  3.29it/s, Loss=0.3140, Acc=97.62%]"
     ]
    },
    {
     "name": "stdout",
     "output_type": "stream",
     "text": [
      "[2025-02-26 20:24:11] Processed 20 validation batches\n"
     ]
    },
    {
     "name": "stderr",
     "output_type": "stream",
     "text": [
      "Epoch 11 [Val]:   2%|▏         | 40/2004 [00:12<09:08,  3.58it/s, Loss=0.0102, Acc=98.17%]"
     ]
    },
    {
     "name": "stdout",
     "output_type": "stream",
     "text": [
      "[2025-02-26 20:24:16] Processed 40 validation batches\n"
     ]
    },
    {
     "name": "stderr",
     "output_type": "stream",
     "text": [
      "Epoch 11 [Val]:   3%|▎         | 60/2004 [00:20<12:22,  2.62it/s, Loss=0.1495, Acc=97.44%]"
     ]
    },
    {
     "name": "stdout",
     "output_type": "stream",
     "text": [
      "[2025-02-26 20:24:24] Processed 60 validation batches\n"
     ]
    },
    {
     "name": "stderr",
     "output_type": "stream",
     "text": [
      "Epoch 11 [Val]:   4%|▍         | 80/2004 [00:24<06:50,  4.69it/s, Loss=0.0229, Acc=97.76%]"
     ]
    },
    {
     "name": "stdout",
     "output_type": "stream",
     "text": [
      "[2025-02-26 20:24:29] Processed 80 validation batches\n"
     ]
    },
    {
     "name": "stderr",
     "output_type": "stream",
     "text": [
      "Epoch 11 [Val]:   5%|▍         | 100/2004 [00:34<10:18,  3.08it/s, Loss=0.0035, Acc=97.90%]"
     ]
    },
    {
     "name": "stdout",
     "output_type": "stream",
     "text": [
      "[2025-02-26 20:24:39] Processed 100 validation batches\n"
     ]
    },
    {
     "name": "stderr",
     "output_type": "stream",
     "text": [
      "Epoch 11 [Val]:   6%|▌         | 120/2004 [00:41<07:53,  3.98it/s, Loss=0.6504, Acc=97.42%]"
     ]
    },
    {
     "name": "stdout",
     "output_type": "stream",
     "text": [
      "[2025-02-26 20:24:45] Processed 120 validation batches\n"
     ]
    },
    {
     "name": "stderr",
     "output_type": "stream",
     "text": [
      "Epoch 11 [Val]:   7%|▋         | 140/2004 [00:52<33:13,  1.07s/it, Loss=0.0162, Acc=94.50%]"
     ]
    },
    {
     "name": "stdout",
     "output_type": "stream",
     "text": [
      "[2025-02-26 20:24:56] Processed 140 validation batches\n"
     ]
    },
    {
     "name": "stderr",
     "output_type": "stream",
     "text": [
      "Epoch 11 [Val]:   8%|▊         | 160/2004 [00:57<07:00,  4.39it/s, Loss=0.0058, Acc=94.64%]"
     ]
    },
    {
     "name": "stdout",
     "output_type": "stream",
     "text": [
      "[2025-02-26 20:25:02] Processed 160 validation batches\n"
     ]
    },
    {
     "name": "stderr",
     "output_type": "stream",
     "text": [
      "Epoch 11 [Val]:   9%|▉         | 180/2004 [01:04<11:43,  2.59it/s, Loss=0.1592, Acc=94.79%]"
     ]
    },
    {
     "name": "stdout",
     "output_type": "stream",
     "text": [
      "[2025-02-26 20:25:08] Processed 180 validation batches\n"
     ]
    },
    {
     "name": "stderr",
     "output_type": "stream",
     "text": [
      "Epoch 11 [Val]:  10%|▉         | 200/2004 [01:14<18:31,  1.62it/s, Loss=0.0207, Acc=94.15%]"
     ]
    },
    {
     "name": "stdout",
     "output_type": "stream",
     "text": [
      "[2025-02-26 20:25:18] Processed 200 validation batches\n"
     ]
    },
    {
     "name": "stderr",
     "output_type": "stream",
     "text": [
      "Epoch 11 [Val]:  11%|█         | 220/2004 [01:28<04:44,  6.28it/s, Loss=0.0021, Acc=94.68%]"
     ]
    },
    {
     "name": "stdout",
     "output_type": "stream",
     "text": [
      "[2025-02-26 20:25:32] Processed 220 validation batches\n"
     ]
    },
    {
     "name": "stderr",
     "output_type": "stream",
     "text": [
      "Epoch 11 [Val]:  12%|█▏        | 240/2004 [01:31<03:14,  9.09it/s, Loss=0.0000, Acc=95.12%]"
     ]
    },
    {
     "name": "stdout",
     "output_type": "stream",
     "text": [
      "[2025-02-26 20:25:35] Processed 240 validation batches\n"
     ]
    },
    {
     "name": "stderr",
     "output_type": "stream",
     "text": [
      "Epoch 11 [Val]:  13%|█▎        | 260/2004 [01:33<03:16,  8.86it/s, Loss=0.0001, Acc=95.50%]"
     ]
    },
    {
     "name": "stdout",
     "output_type": "stream",
     "text": [
      "[2025-02-26 20:25:37] Processed 260 validation batches\n"
     ]
    },
    {
     "name": "stderr",
     "output_type": "stream",
     "text": [
      "Epoch 11 [Val]:  14%|█▍        | 280/2004 [01:35<03:09,  9.10it/s, Loss=0.0004, Acc=95.82%]"
     ]
    },
    {
     "name": "stdout",
     "output_type": "stream",
     "text": [
      "[2025-02-26 20:25:39] Processed 280 validation batches\n"
     ]
    },
    {
     "name": "stderr",
     "output_type": "stream",
     "text": [
      "Epoch 11 [Val]:  15%|█▍        | 300/2004 [01:38<03:13,  8.81it/s, Loss=0.0006, Acc=96.10%]"
     ]
    },
    {
     "name": "stdout",
     "output_type": "stream",
     "text": [
      "[2025-02-26 20:25:42] Processed 300 validation batches\n"
     ]
    },
    {
     "name": "stderr",
     "output_type": "stream",
     "text": [
      "Epoch 11 [Val]:  16%|█▌        | 320/2004 [01:40<03:06,  9.03it/s, Loss=0.0024, Acc=96.34%]"
     ]
    },
    {
     "name": "stdout",
     "output_type": "stream",
     "text": [
      "[2025-02-26 20:25:44] Processed 320 validation batches\n"
     ]
    },
    {
     "name": "stderr",
     "output_type": "stream",
     "text": [
      "Epoch 11 [Val]:  17%|█▋        | 340/2004 [01:42<03:03,  9.06it/s, Loss=0.0005, Acc=96.55%]"
     ]
    },
    {
     "name": "stdout",
     "output_type": "stream",
     "text": [
      "[2025-02-26 20:25:46] Processed 340 validation batches\n"
     ]
    },
    {
     "name": "stderr",
     "output_type": "stream",
     "text": [
      "Epoch 11 [Val]:  18%|█▊        | 360/2004 [01:44<03:12,  8.55it/s, Loss=0.0014, Acc=96.75%]"
     ]
    },
    {
     "name": "stdout",
     "output_type": "stream",
     "text": [
      "[2025-02-26 20:25:49] Processed 360 validation batches\n"
     ]
    },
    {
     "name": "stderr",
     "output_type": "stream",
     "text": [
      "Epoch 11 [Val]:  19%|█▉        | 380/2004 [01:47<03:03,  8.84it/s, Loss=0.0000, Acc=96.92%]"
     ]
    },
    {
     "name": "stdout",
     "output_type": "stream",
     "text": [
      "[2025-02-26 20:25:51] Processed 380 validation batches\n"
     ]
    },
    {
     "name": "stderr",
     "output_type": "stream",
     "text": [
      "Epoch 11 [Val]:  20%|█▉        | 400/2004 [01:49<03:02,  8.79it/s, Loss=0.0005, Acc=97.07%]"
     ]
    },
    {
     "name": "stdout",
     "output_type": "stream",
     "text": [
      "[2025-02-26 20:25:53] Processed 400 validation batches\n"
     ]
    },
    {
     "name": "stderr",
     "output_type": "stream",
     "text": [
      "Epoch 11 [Val]:  21%|██        | 420/2004 [01:51<02:58,  8.86it/s, Loss=0.0001, Acc=97.21%]"
     ]
    },
    {
     "name": "stdout",
     "output_type": "stream",
     "text": [
      "[2025-02-26 20:25:55] Processed 420 validation batches\n"
     ]
    },
    {
     "name": "stderr",
     "output_type": "stream",
     "text": [
      "Epoch 11 [Val]:  22%|██▏       | 440/2004 [01:53<02:55,  8.90it/s, Loss=0.0001, Acc=97.34%]"
     ]
    },
    {
     "name": "stdout",
     "output_type": "stream",
     "text": [
      "[2025-02-26 20:25:58] Processed 440 validation batches\n"
     ]
    },
    {
     "name": "stderr",
     "output_type": "stream",
     "text": [
      "Epoch 11 [Val]:  23%|██▎       | 460/2004 [02:07<11:50,  2.17it/s, Loss=0.0273, Acc=97.41%]"
     ]
    },
    {
     "name": "stdout",
     "output_type": "stream",
     "text": [
      "[2025-02-26 20:26:11] Processed 460 validation batches\n"
     ]
    },
    {
     "name": "stderr",
     "output_type": "stream",
     "text": [
      "Epoch 11 [Val]:  24%|██▍       | 480/2004 [02:12<07:40,  3.31it/s, Loss=0.1512, Acc=97.40%]"
     ]
    },
    {
     "name": "stdout",
     "output_type": "stream",
     "text": [
      "[2025-02-26 20:26:17] Processed 480 validation batches\n"
     ]
    },
    {
     "name": "stderr",
     "output_type": "stream",
     "text": [
      "Epoch 11 [Val]:  25%|██▍       | 500/2004 [02:19<02:55,  8.55it/s, Loss=0.0003, Acc=97.49%]"
     ]
    },
    {
     "name": "stdout",
     "output_type": "stream",
     "text": [
      "[2025-02-26 20:26:23] Processed 500 validation batches\n"
     ]
    },
    {
     "name": "stderr",
     "output_type": "stream",
     "text": [
      "Epoch 11 [Val]:  26%|██▌       | 520/2004 [02:21<02:43,  9.06it/s, Loss=0.0001, Acc=97.59%]"
     ]
    },
    {
     "name": "stdout",
     "output_type": "stream",
     "text": [
      "[2025-02-26 20:26:25] Processed 520 validation batches\n"
     ]
    },
    {
     "name": "stderr",
     "output_type": "stream",
     "text": [
      "Epoch 11 [Val]:  27%|██▋       | 540/2004 [02:24<03:51,  6.32it/s, Loss=0.0025, Acc=97.67%]"
     ]
    },
    {
     "name": "stdout",
     "output_type": "stream",
     "text": [
      "[2025-02-26 20:26:28] Processed 540 validation batches\n"
     ]
    },
    {
     "name": "stderr",
     "output_type": "stream",
     "text": [
      "Epoch 11 [Val]:  28%|██▊       | 560/2004 [02:27<03:02,  7.93it/s, Loss=0.0016, Acc=97.75%]"
     ]
    },
    {
     "name": "stdout",
     "output_type": "stream",
     "text": [
      "[2025-02-26 20:26:31] Processed 560 validation batches\n"
     ]
    },
    {
     "name": "stderr",
     "output_type": "stream",
     "text": [
      "Epoch 11 [Val]:  29%|██▉       | 580/2004 [02:31<06:51,  3.46it/s, Loss=0.0028, Acc=97.83%]"
     ]
    },
    {
     "name": "stdout",
     "output_type": "stream",
     "text": [
      "[2025-02-26 20:26:35] Processed 580 validation batches\n"
     ]
    },
    {
     "name": "stderr",
     "output_type": "stream",
     "text": [
      "Epoch 11 [Val]:  30%|██▉       | 600/2004 [02:34<02:58,  7.86it/s, Loss=0.0003, Acc=97.90%]"
     ]
    },
    {
     "name": "stdout",
     "output_type": "stream",
     "text": [
      "[2025-02-26 20:26:38] Processed 600 validation batches\n"
     ]
    },
    {
     "name": "stderr",
     "output_type": "stream",
     "text": [
      "Epoch 11 [Val]:  31%|███       | 620/2004 [02:36<02:56,  7.85it/s, Loss=0.0000, Acc=97.97%]"
     ]
    },
    {
     "name": "stdout",
     "output_type": "stream",
     "text": [
      "[2025-02-26 20:26:41] Processed 620 validation batches\n"
     ]
    },
    {
     "name": "stderr",
     "output_type": "stream",
     "text": [
      "Epoch 11 [Val]:  32%|███▏      | 640/2004 [02:39<02:51,  7.94it/s, Loss=0.0003, Acc=98.03%]"
     ]
    },
    {
     "name": "stdout",
     "output_type": "stream",
     "text": [
      "[2025-02-26 20:26:43] Processed 640 validation batches\n"
     ]
    },
    {
     "name": "stderr",
     "output_type": "stream",
     "text": [
      "Epoch 11 [Val]:  33%|███▎      | 660/2004 [02:41<02:50,  7.88it/s, Loss=0.0002, Acc=98.09%]"
     ]
    },
    {
     "name": "stdout",
     "output_type": "stream",
     "text": [
      "[2025-02-26 20:26:46] Processed 660 validation batches\n"
     ]
    },
    {
     "name": "stderr",
     "output_type": "stream",
     "text": [
      "Epoch 11 [Val]:  34%|███▍      | 680/2004 [02:44<02:50,  7.76it/s, Loss=0.0000, Acc=98.15%]"
     ]
    },
    {
     "name": "stdout",
     "output_type": "stream",
     "text": [
      "[2025-02-26 20:26:48] Processed 680 validation batches\n"
     ]
    },
    {
     "name": "stderr",
     "output_type": "stream",
     "text": [
      "Epoch 11 [Val]:  35%|███▍      | 700/2004 [02:46<02:41,  8.06it/s, Loss=0.0001, Acc=98.20%]"
     ]
    },
    {
     "name": "stdout",
     "output_type": "stream",
     "text": [
      "[2025-02-26 20:26:51] Processed 700 validation batches\n"
     ]
    },
    {
     "name": "stderr",
     "output_type": "stream",
     "text": [
      "Epoch 11 [Val]:  36%|███▌      | 720/2004 [02:49<02:39,  8.05it/s, Loss=0.0005, Acc=98.25%]"
     ]
    },
    {
     "name": "stdout",
     "output_type": "stream",
     "text": [
      "[2025-02-26 20:26:53] Processed 720 validation batches\n"
     ]
    },
    {
     "name": "stderr",
     "output_type": "stream",
     "text": [
      "Epoch 11 [Val]:  37%|███▋      | 740/2004 [02:53<02:36,  8.09it/s, Loss=0.0000, Acc=98.30%]"
     ]
    },
    {
     "name": "stdout",
     "output_type": "stream",
     "text": [
      "[2025-02-26 20:26:57] Processed 740 validation batches\n"
     ]
    },
    {
     "name": "stderr",
     "output_type": "stream",
     "text": [
      "Epoch 11 [Val]:  38%|███▊      | 760/2004 [03:05<06:47,  3.05it/s, Loss=0.0000, Acc=98.32%]"
     ]
    },
    {
     "name": "stdout",
     "output_type": "stream",
     "text": [
      "[2025-02-26 20:27:09] Processed 760 validation batches\n"
     ]
    },
    {
     "name": "stderr",
     "output_type": "stream",
     "text": [
      "Epoch 11 [Val]:  39%|███▉      | 780/2004 [03:13<06:48,  2.99it/s, Loss=0.0003, Acc=98.37%]"
     ]
    },
    {
     "name": "stdout",
     "output_type": "stream",
     "text": [
      "[2025-02-26 20:27:17] Processed 780 validation batches\n"
     ]
    },
    {
     "name": "stderr",
     "output_type": "stream",
     "text": [
      "Epoch 11 [Val]:  40%|███▉      | 800/2004 [03:16<02:36,  7.69it/s, Loss=0.0004, Acc=98.41%]"
     ]
    },
    {
     "name": "stdout",
     "output_type": "stream",
     "text": [
      "[2025-02-26 20:27:20] Processed 800 validation batches\n"
     ]
    },
    {
     "name": "stderr",
     "output_type": "stream",
     "text": [
      "Epoch 11 [Val]:  41%|████      | 820/2004 [03:18<02:24,  8.20it/s, Loss=0.0023, Acc=98.45%]"
     ]
    },
    {
     "name": "stdout",
     "output_type": "stream",
     "text": [
      "[2025-02-26 20:27:22] Processed 820 validation batches\n"
     ]
    },
    {
     "name": "stderr",
     "output_type": "stream",
     "text": [
      "Epoch 11 [Val]:  42%|████▏     | 840/2004 [03:24<04:26,  4.37it/s, Loss=0.0101, Acc=98.48%]"
     ]
    },
    {
     "name": "stdout",
     "output_type": "stream",
     "text": [
      "[2025-02-26 20:27:28] Processed 840 validation batches\n"
     ]
    },
    {
     "name": "stderr",
     "output_type": "stream",
     "text": [
      "Epoch 11 [Val]:  43%|████▎     | 860/2004 [03:29<08:50,  2.16it/s, Loss=0.1082, Acc=98.51%]"
     ]
    },
    {
     "name": "stdout",
     "output_type": "stream",
     "text": [
      "[2025-02-26 20:27:34] Processed 860 validation batches\n"
     ]
    },
    {
     "name": "stderr",
     "output_type": "stream",
     "text": [
      "Epoch 11 [Val]:  44%|████▍     | 880/2004 [03:33<03:37,  5.16it/s, Loss=0.3792, Acc=98.41%]"
     ]
    },
    {
     "name": "stdout",
     "output_type": "stream",
     "text": [
      "[2025-02-26 20:27:38] Processed 880 validation batches\n"
     ]
    },
    {
     "name": "stderr",
     "output_type": "stream",
     "text": [
      "Epoch 11 [Val]:  45%|████▍     | 900/2004 [03:37<03:57,  4.65it/s, Loss=0.0016, Acc=98.36%]"
     ]
    },
    {
     "name": "stdout",
     "output_type": "stream",
     "text": [
      "[2025-02-26 20:27:42] Processed 900 validation batches\n"
     ]
    },
    {
     "name": "stderr",
     "output_type": "stream",
     "text": [
      "Epoch 11 [Val]:  46%|████▌     | 920/2004 [03:43<05:21,  3.37it/s, Loss=0.0057, Acc=98.39%]"
     ]
    },
    {
     "name": "stdout",
     "output_type": "stream",
     "text": [
      "[2025-02-26 20:27:47] Processed 920 validation batches\n"
     ]
    },
    {
     "name": "stderr",
     "output_type": "stream",
     "text": [
      "Epoch 11 [Val]:  47%|████▋     | 940/2004 [03:48<03:50,  4.62it/s, Loss=0.0806, Acc=98.36%]"
     ]
    },
    {
     "name": "stdout",
     "output_type": "stream",
     "text": [
      "[2025-02-26 20:27:53] Processed 940 validation batches\n"
     ]
    },
    {
     "name": "stderr",
     "output_type": "stream",
     "text": [
      "Epoch 11 [Val]:  48%|████▊     | 960/2004 [03:52<03:36,  4.82it/s, Loss=0.2070, Acc=98.20%]"
     ]
    },
    {
     "name": "stdout",
     "output_type": "stream",
     "text": [
      "[2025-02-26 20:27:57] Processed 960 validation batches\n"
     ]
    },
    {
     "name": "stderr",
     "output_type": "stream",
     "text": [
      "Epoch 11 [Val]:  49%|████▉     | 980/2004 [04:03<18:25,  1.08s/it, Loss=0.0164, Acc=98.08%]"
     ]
    },
    {
     "name": "stdout",
     "output_type": "stream",
     "text": [
      "[2025-02-26 20:28:08] Processed 980 validation batches\n"
     ]
    },
    {
     "name": "stderr",
     "output_type": "stream",
     "text": [
      "Epoch 11 [Val]:  50%|████▉     | 1000/2004 [04:10<03:35,  4.66it/s, Loss=0.0032, Acc=98.12%]"
     ]
    },
    {
     "name": "stdout",
     "output_type": "stream",
     "text": [
      "[2025-02-26 20:28:14] Processed 1000 validation batches\n"
     ]
    },
    {
     "name": "stderr",
     "output_type": "stream",
     "text": [
      "Epoch 11 [Val]:  51%|█████     | 1020/2004 [04:15<03:04,  5.33it/s, Loss=0.0165, Acc=98.14%]"
     ]
    },
    {
     "name": "stdout",
     "output_type": "stream",
     "text": [
      "[2025-02-26 20:28:19] Processed 1020 validation batches\n"
     ]
    },
    {
     "name": "stderr",
     "output_type": "stream",
     "text": [
      "Epoch 11 [Val]:  52%|█████▏    | 1040/2004 [04:23<03:37,  4.43it/s, Loss=0.0002, Acc=98.12%]"
     ]
    },
    {
     "name": "stdout",
     "output_type": "stream",
     "text": [
      "[2025-02-26 20:28:27] Processed 1040 validation batches\n"
     ]
    },
    {
     "name": "stderr",
     "output_type": "stream",
     "text": [
      "Epoch 11 [Val]:  53%|█████▎    | 1060/2004 [04:29<05:20,  2.95it/s, Loss=0.0002, Acc=98.16%]"
     ]
    },
    {
     "name": "stdout",
     "output_type": "stream",
     "text": [
      "[2025-02-26 20:28:33] Processed 1060 validation batches\n"
     ]
    },
    {
     "name": "stderr",
     "output_type": "stream",
     "text": [
      "Epoch 11 [Val]:  54%|█████▍    | 1080/2004 [04:38<07:47,  1.98it/s, Loss=0.0002, Acc=98.16%]"
     ]
    },
    {
     "name": "stdout",
     "output_type": "stream",
     "text": [
      "[2025-02-26 20:28:42] Processed 1080 validation batches\n"
     ]
    },
    {
     "name": "stderr",
     "output_type": "stream",
     "text": [
      "Epoch 11 [Val]:  55%|█████▍    | 1100/2004 [05:00<21:22,  1.42s/it, Loss=0.0000, Acc=98.18%]"
     ]
    },
    {
     "name": "stdout",
     "output_type": "stream",
     "text": [
      "[2025-02-26 20:29:04] Processed 1100 validation batches\n"
     ]
    },
    {
     "name": "stderr",
     "output_type": "stream",
     "text": [
      "Epoch 11 [Val]:  56%|█████▌    | 1120/2004 [05:23<18:44,  1.27s/it, Loss=0.0026, Acc=98.21%]"
     ]
    },
    {
     "name": "stdout",
     "output_type": "stream",
     "text": [
      "[2025-02-26 20:29:27] Processed 1120 validation batches\n"
     ]
    },
    {
     "name": "stderr",
     "output_type": "stream",
     "text": [
      "Epoch 11 [Val]:  57%|█████▋    | 1140/2004 [05:27<02:53,  4.98it/s, Loss=0.0002, Acc=98.24%]"
     ]
    },
    {
     "name": "stdout",
     "output_type": "stream",
     "text": [
      "[2025-02-26 20:29:31] Processed 1140 validation batches\n"
     ]
    },
    {
     "name": "stderr",
     "output_type": "stream",
     "text": [
      "Epoch 11 [Val]:  58%|█████▊    | 1160/2004 [05:31<03:05,  4.54it/s, Loss=0.0001, Acc=98.27%]"
     ]
    },
    {
     "name": "stdout",
     "output_type": "stream",
     "text": [
      "[2025-02-26 20:29:35] Processed 1160 validation batches\n"
     ]
    },
    {
     "name": "stderr",
     "output_type": "stream",
     "text": [
      "Epoch 11 [Val]:  59%|█████▉    | 1180/2004 [05:35<02:48,  4.89it/s, Loss=0.0000, Acc=98.30%]"
     ]
    },
    {
     "name": "stdout",
     "output_type": "stream",
     "text": [
      "[2025-02-26 20:29:39] Processed 1180 validation batches\n"
     ]
    },
    {
     "name": "stderr",
     "output_type": "stream",
     "text": [
      "Epoch 11 [Val]:  60%|█████▉    | 1200/2004 [05:38<01:35,  8.38it/s, Loss=0.0000, Acc=98.33%]"
     ]
    },
    {
     "name": "stdout",
     "output_type": "stream",
     "text": [
      "[2025-02-26 20:29:42] Processed 1200 validation batches\n"
     ]
    },
    {
     "name": "stderr",
     "output_type": "stream",
     "text": [
      "Epoch 11 [Val]:  61%|██████    | 1220/2004 [05:41<02:23,  5.45it/s, Loss=0.0058, Acc=98.35%]"
     ]
    },
    {
     "name": "stdout",
     "output_type": "stream",
     "text": [
      "[2025-02-26 20:29:45] Processed 1220 validation batches\n"
     ]
    },
    {
     "name": "stderr",
     "output_type": "stream",
     "text": [
      "Epoch 11 [Val]:  62%|██████▏   | 1240/2004 [05:45<02:26,  5.21it/s, Loss=0.0000, Acc=98.38%]"
     ]
    },
    {
     "name": "stdout",
     "output_type": "stream",
     "text": [
      "[2025-02-26 20:29:49] Processed 1240 validation batches\n"
     ]
    },
    {
     "name": "stderr",
     "output_type": "stream",
     "text": [
      "Epoch 11 [Val]:  63%|██████▎   | 1260/2004 [05:49<02:48,  4.43it/s, Loss=0.0000, Acc=98.40%]"
     ]
    },
    {
     "name": "stdout",
     "output_type": "stream",
     "text": [
      "[2025-02-26 20:29:53] Processed 1260 validation batches\n"
     ]
    },
    {
     "name": "stderr",
     "output_type": "stream",
     "text": [
      "Epoch 11 [Val]:  64%|██████▍   | 1280/2004 [05:53<02:31,  4.79it/s, Loss=0.0000, Acc=98.43%]"
     ]
    },
    {
     "name": "stdout",
     "output_type": "stream",
     "text": [
      "[2025-02-26 20:29:58] Processed 1280 validation batches\n"
     ]
    },
    {
     "name": "stderr",
     "output_type": "stream",
     "text": [
      "Epoch 11 [Val]:  65%|██████▍   | 1300/2004 [05:58<03:20,  3.52it/s, Loss=0.0604, Acc=98.42%]"
     ]
    },
    {
     "name": "stdout",
     "output_type": "stream",
     "text": [
      "[2025-02-26 20:30:02] Processed 1300 validation batches\n"
     ]
    },
    {
     "name": "stderr",
     "output_type": "stream",
     "text": [
      "Epoch 11 [Val]:  66%|██████▌   | 1320/2004 [06:03<02:27,  4.62it/s, Loss=0.0132, Acc=98.43%]"
     ]
    },
    {
     "name": "stdout",
     "output_type": "stream",
     "text": [
      "[2025-02-26 20:30:07] Processed 1320 validation batches\n"
     ]
    },
    {
     "name": "stderr",
     "output_type": "stream",
     "text": [
      "Epoch 11 [Val]:  67%|██████▋   | 1340/2004 [06:07<02:37,  4.21it/s, Loss=0.0259, Acc=98.44%]"
     ]
    },
    {
     "name": "stdout",
     "output_type": "stream",
     "text": [
      "[2025-02-26 20:30:12] Processed 1340 validation batches\n"
     ]
    },
    {
     "name": "stderr",
     "output_type": "stream",
     "text": [
      "Epoch 11 [Val]:  68%|██████▊   | 1360/2004 [06:11<01:47,  5.97it/s, Loss=0.0008, Acc=98.46%]"
     ]
    },
    {
     "name": "stdout",
     "output_type": "stream",
     "text": [
      "[2025-02-26 20:30:15] Processed 1360 validation batches\n"
     ]
    },
    {
     "name": "stderr",
     "output_type": "stream",
     "text": [
      "Epoch 11 [Val]:  69%|██████▉   | 1380/2004 [06:13<01:09,  9.00it/s, Loss=0.0000, Acc=98.48%]"
     ]
    },
    {
     "name": "stdout",
     "output_type": "stream",
     "text": [
      "[2025-02-26 20:30:17] Processed 1380 validation batches\n"
     ]
    },
    {
     "name": "stderr",
     "output_type": "stream",
     "text": [
      "Epoch 11 [Val]:  70%|██████▉   | 1400/2004 [06:15<01:06,  9.09it/s, Loss=0.0022, Acc=98.50%]"
     ]
    },
    {
     "name": "stdout",
     "output_type": "stream",
     "text": [
      "[2025-02-26 20:30:19] Processed 1400 validation batches\n"
     ]
    },
    {
     "name": "stderr",
     "output_type": "stream",
     "text": [
      "Epoch 11 [Val]:  71%|███████   | 1420/2004 [06:17<01:04,  8.99it/s, Loss=0.0008, Acc=98.52%]"
     ]
    },
    {
     "name": "stdout",
     "output_type": "stream",
     "text": [
      "[2025-02-26 20:30:21] Processed 1420 validation batches\n"
     ]
    },
    {
     "name": "stderr",
     "output_type": "stream",
     "text": [
      "Epoch 11 [Val]:  72%|███████▏  | 1440/2004 [06:19<01:01,  9.15it/s, Loss=0.0038, Acc=98.54%]"
     ]
    },
    {
     "name": "stdout",
     "output_type": "stream",
     "text": [
      "[2025-02-26 20:30:24] Processed 1440 validation batches\n"
     ]
    },
    {
     "name": "stderr",
     "output_type": "stream",
     "text": [
      "Epoch 11 [Val]:  73%|███████▎  | 1460/2004 [06:22<00:59,  9.17it/s, Loss=0.0012, Acc=98.56%]"
     ]
    },
    {
     "name": "stdout",
     "output_type": "stream",
     "text": [
      "[2025-02-26 20:30:26] Processed 1460 validation batches\n"
     ]
    },
    {
     "name": "stderr",
     "output_type": "stream",
     "text": [
      "Epoch 11 [Val]:  74%|███████▍  | 1480/2004 [06:24<01:00,  8.72it/s, Loss=0.0007, Acc=98.58%]"
     ]
    },
    {
     "name": "stdout",
     "output_type": "stream",
     "text": [
      "[2025-02-26 20:30:28] Processed 1480 validation batches\n"
     ]
    },
    {
     "name": "stderr",
     "output_type": "stream",
     "text": [
      "Epoch 11 [Val]:  75%|███████▍  | 1500/2004 [06:26<00:59,  8.54it/s, Loss=0.0021, Acc=98.60%]"
     ]
    },
    {
     "name": "stdout",
     "output_type": "stream",
     "text": [
      "[2025-02-26 20:30:30] Processed 1500 validation batches\n"
     ]
    },
    {
     "name": "stderr",
     "output_type": "stream",
     "text": [
      "Epoch 11 [Val]:  76%|███████▌  | 1520/2004 [06:28<00:55,  8.74it/s, Loss=0.0016, Acc=98.62%]"
     ]
    },
    {
     "name": "stdout",
     "output_type": "stream",
     "text": [
      "[2025-02-26 20:30:33] Processed 1520 validation batches\n"
     ]
    },
    {
     "name": "stderr",
     "output_type": "stream",
     "text": [
      "Epoch 11 [Val]:  77%|███████▋  | 1540/2004 [06:33<03:36,  2.14it/s, Loss=0.0009, Acc=98.63%]"
     ]
    },
    {
     "name": "stdout",
     "output_type": "stream",
     "text": [
      "[2025-02-26 20:30:37] Processed 1540 validation batches\n"
     ]
    },
    {
     "name": "stderr",
     "output_type": "stream",
     "text": [
      "Epoch 11 [Val]:  78%|███████▊  | 1560/2004 [06:42<02:10,  3.41it/s, Loss=0.0000, Acc=98.65%]"
     ]
    },
    {
     "name": "stdout",
     "output_type": "stream",
     "text": [
      "[2025-02-26 20:30:46] Processed 1560 validation batches\n"
     ]
    },
    {
     "name": "stderr",
     "output_type": "stream",
     "text": [
      "Epoch 11 [Val]:  79%|███████▉  | 1580/2004 [06:49<01:54,  3.69it/s, Loss=0.0002, Acc=98.66%]"
     ]
    },
    {
     "name": "stdout",
     "output_type": "stream",
     "text": [
      "[2025-02-26 20:30:54] Processed 1580 validation batches\n"
     ]
    },
    {
     "name": "stderr",
     "output_type": "stream",
     "text": [
      "Epoch 11 [Val]:  80%|███████▉  | 1600/2004 [06:52<00:44,  8.99it/s, Loss=0.0006, Acc=98.68%]"
     ]
    },
    {
     "name": "stdout",
     "output_type": "stream",
     "text": [
      "[2025-02-26 20:30:56] Processed 1600 validation batches\n"
     ]
    },
    {
     "name": "stderr",
     "output_type": "stream",
     "text": [
      "Epoch 11 [Val]:  81%|████████  | 1620/2004 [07:08<07:38,  1.19s/it, Loss=0.0006, Acc=98.70%]"
     ]
    },
    {
     "name": "stdout",
     "output_type": "stream",
     "text": [
      "[2025-02-26 20:31:13] Processed 1620 validation batches\n"
     ]
    },
    {
     "name": "stderr",
     "output_type": "stream",
     "text": [
      "Epoch 11 [Val]:  82%|████████▏ | 1640/2004 [07:28<02:05,  2.91it/s, Loss=0.0005, Acc=98.70%]"
     ]
    },
    {
     "name": "stdout",
     "output_type": "stream",
     "text": [
      "[2025-02-26 20:31:33] Processed 1640 validation batches\n"
     ]
    },
    {
     "name": "stderr",
     "output_type": "stream",
     "text": [
      "Epoch 11 [Val]:  83%|████████▎ | 1660/2004 [07:33<01:19,  4.35it/s, Loss=0.0168, Acc=98.71%]"
     ]
    },
    {
     "name": "stdout",
     "output_type": "stream",
     "text": [
      "[2025-02-26 20:31:37] Processed 1660 validation batches\n"
     ]
    },
    {
     "name": "stderr",
     "output_type": "stream",
     "text": [
      "Epoch 11 [Val]:  84%|████████▍ | 1680/2004 [07:38<01:17,  4.20it/s, Loss=0.0325, Acc=98.68%]"
     ]
    },
    {
     "name": "stdout",
     "output_type": "stream",
     "text": [
      "[2025-02-26 20:31:42] Processed 1680 validation batches\n"
     ]
    },
    {
     "name": "stderr",
     "output_type": "stream",
     "text": [
      "Epoch 11 [Val]:  85%|████████▍ | 1700/2004 [07:43<01:06,  4.55it/s, Loss=0.2406, Acc=98.67%]"
     ]
    },
    {
     "name": "stdout",
     "output_type": "stream",
     "text": [
      "[2025-02-26 20:31:47] Processed 1700 validation batches\n"
     ]
    },
    {
     "name": "stderr",
     "output_type": "stream",
     "text": [
      "Epoch 11 [Val]:  86%|████████▌ | 1720/2004 [07:48<01:00,  4.69it/s, Loss=0.0000, Acc=98.67%]"
     ]
    },
    {
     "name": "stdout",
     "output_type": "stream",
     "text": [
      "[2025-02-26 20:31:52] Processed 1720 validation batches\n"
     ]
    },
    {
     "name": "stderr",
     "output_type": "stream",
     "text": [
      "Epoch 11 [Val]:  87%|████████▋ | 1740/2004 [07:52<00:55,  4.73it/s, Loss=0.0007, Acc=98.68%]"
     ]
    },
    {
     "name": "stdout",
     "output_type": "stream",
     "text": [
      "[2025-02-26 20:31:56] Processed 1740 validation batches\n"
     ]
    },
    {
     "name": "stderr",
     "output_type": "stream",
     "text": [
      "Epoch 11 [Val]:  88%|████████▊ | 1760/2004 [07:56<00:53,  4.57it/s, Loss=0.0000, Acc=98.70%]"
     ]
    },
    {
     "name": "stdout",
     "output_type": "stream",
     "text": [
      "[2025-02-26 20:32:00] Processed 1760 validation batches\n"
     ]
    },
    {
     "name": "stderr",
     "output_type": "stream",
     "text": [
      "Epoch 11 [Val]:  89%|████████▉ | 1780/2004 [08:06<01:45,  2.13it/s, Loss=0.0000, Acc=98.71%]"
     ]
    },
    {
     "name": "stdout",
     "output_type": "stream",
     "text": [
      "[2025-02-26 20:32:10] Processed 1780 validation batches\n"
     ]
    },
    {
     "name": "stderr",
     "output_type": "stream",
     "text": [
      "Epoch 11 [Val]:  90%|████████▉ | 1800/2004 [08:10<00:39,  5.13it/s, Loss=0.0013, Acc=98.73%]"
     ]
    },
    {
     "name": "stdout",
     "output_type": "stream",
     "text": [
      "[2025-02-26 20:32:15] Processed 1800 validation batches\n"
     ]
    },
    {
     "name": "stderr",
     "output_type": "stream",
     "text": [
      "Epoch 11 [Val]:  91%|█████████ | 1820/2004 [08:17<00:38,  4.79it/s, Loss=0.0000, Acc=98.74%]"
     ]
    },
    {
     "name": "stdout",
     "output_type": "stream",
     "text": [
      "[2025-02-26 20:32:21] Processed 1820 validation batches\n"
     ]
    },
    {
     "name": "stderr",
     "output_type": "stream",
     "text": [
      "Epoch 11 [Val]:  92%|█████████▏| 1840/2004 [08:21<00:36,  4.48it/s, Loss=0.0002, Acc=98.75%]"
     ]
    },
    {
     "name": "stdout",
     "output_type": "stream",
     "text": [
      "[2025-02-26 20:32:25] Processed 1840 validation batches\n"
     ]
    },
    {
     "name": "stderr",
     "output_type": "stream",
     "text": [
      "Epoch 11 [Val]:  93%|█████████▎| 1860/2004 [08:25<00:32,  4.47it/s, Loss=0.0000, Acc=98.77%]"
     ]
    },
    {
     "name": "stdout",
     "output_type": "stream",
     "text": [
      "[2025-02-26 20:32:30] Processed 1860 validation batches\n"
     ]
    },
    {
     "name": "stderr",
     "output_type": "stream",
     "text": [
      "Epoch 11 [Val]:  94%|█████████▍| 1880/2004 [08:40<01:52,  1.10it/s, Loss=0.0002, Acc=98.78%]"
     ]
    },
    {
     "name": "stdout",
     "output_type": "stream",
     "text": [
      "[2025-02-26 20:32:44] Processed 1880 validation batches\n"
     ]
    },
    {
     "name": "stderr",
     "output_type": "stream",
     "text": [
      "Epoch 11 [Val]:  95%|█████████▍| 1900/2004 [08:47<00:33,  3.08it/s, Loss=0.0000, Acc=98.79%]"
     ]
    },
    {
     "name": "stdout",
     "output_type": "stream",
     "text": [
      "[2025-02-26 20:32:51] Processed 1900 validation batches\n"
     ]
    },
    {
     "name": "stderr",
     "output_type": "stream",
     "text": [
      "Epoch 11 [Val]:  96%|█████████▌| 1920/2004 [08:54<00:11,  7.63it/s, Loss=0.0007, Acc=98.81%]"
     ]
    },
    {
     "name": "stdout",
     "output_type": "stream",
     "text": [
      "[2025-02-26 20:32:58] Processed 1920 validation batches\n"
     ]
    },
    {
     "name": "stderr",
     "output_type": "stream",
     "text": [
      "Epoch 11 [Val]:  97%|█████████▋| 1940/2004 [08:58<00:14,  4.38it/s, Loss=0.0023, Acc=98.81%]"
     ]
    },
    {
     "name": "stdout",
     "output_type": "stream",
     "text": [
      "[2025-02-26 20:33:03] Processed 1940 validation batches\n"
     ]
    },
    {
     "name": "stderr",
     "output_type": "stream",
     "text": [
      "Epoch 11 [Val]:  98%|█████████▊| 1960/2004 [09:03<00:09,  4.44it/s, Loss=0.0001, Acc=98.81%]"
     ]
    },
    {
     "name": "stdout",
     "output_type": "stream",
     "text": [
      "[2025-02-26 20:33:07] Processed 1960 validation batches\n"
     ]
    },
    {
     "name": "stderr",
     "output_type": "stream",
     "text": [
      "Epoch 11 [Val]:  99%|█████████▉| 1979/2004 [09:06<00:03,  8.32it/s, Loss=0.1094, Acc=98.75%]"
     ]
    },
    {
     "name": "stdout",
     "output_type": "stream",
     "text": [
      "[2025-02-26 20:33:10] Processed 1980 validation batches\n"
     ]
    },
    {
     "name": "stderr",
     "output_type": "stream",
     "text": [
      "Epoch 11 [Val]: 100%|█████████▉| 1999/2004 [09:07<00:00, 11.14it/s, Loss=0.0015, Acc=98.75%]"
     ]
    },
    {
     "name": "stdout",
     "output_type": "stream",
     "text": [
      "[2025-02-26 20:33:11] Processed 2000 validation batches\n"
     ]
    },
    {
     "name": "stderr",
     "output_type": "stream",
     "text": [
      "Epoch 11 [Val]: 100%|██████████| 2004/2004 [09:07<00:00,  3.66it/s, Loss=0.0001, Acc=98.76%]"
     ]
    },
    {
     "name": "stdout",
     "output_type": "stream",
     "text": [
      "[2025-02-26 20:33:12] Epoch 11 Results:\n",
      "[2025-02-26 20:33:12] Train Loss: 0.1400 | Train Acc: 95.54%\n",
      "[2025-02-26 20:33:12] Val Loss: 0.0394 | Val Acc: 98.76%\n"
     ]
    },
    {
     "name": "stderr",
     "output_type": "stream",
     "text": [
      "\n"
     ]
    },
    {
     "name": "stdout",
     "output_type": "stream",
     "text": [
      "[2025-02-26 20:33:12] Saved best model\n",
      "[2025-02-26 20:33:12] Starting epoch 12/15\n"
     ]
    },
    {
     "name": "stderr",
     "output_type": "stream",
     "text": [
      "Epoch 12 [Train]:   0%|          | 0/2004 [00:00<?, ?it/s, Loss=0.3192, Acc=87.50%]"
     ]
    },
    {
     "name": "stdout",
     "output_type": "stream",
     "text": [
      "[2025-02-26 20:33:12] Processed 0 training batches\n"
     ]
    },
    {
     "name": "stderr",
     "output_type": "stream",
     "text": [
      "Epoch 12 [Train]:   2%|▏         | 50/2004 [00:13<07:36,  4.28it/s, Loss=0.0037, Acc=94.98%]"
     ]
    },
    {
     "name": "stdout",
     "output_type": "stream",
     "text": [
      "[2025-02-26 20:33:26] Processed 50 training batches\n"
     ]
    },
    {
     "name": "stderr",
     "output_type": "stream",
     "text": [
      "Epoch 12 [Train]:   5%|▍         | 100/2004 [00:26<08:30,  3.73it/s, Loss=0.1684, Acc=95.48%]"
     ]
    },
    {
     "name": "stdout",
     "output_type": "stream",
     "text": [
      "[2025-02-26 20:33:38] Processed 100 training batches\n"
     ]
    },
    {
     "name": "stderr",
     "output_type": "stream",
     "text": [
      "Epoch 12 [Train]:   7%|▋         | 150/2004 [00:40<07:35,  4.07it/s, Loss=0.0291, Acc=95.74%]"
     ]
    },
    {
     "name": "stdout",
     "output_type": "stream",
     "text": [
      "[2025-02-26 20:33:53] Processed 150 training batches\n"
     ]
    },
    {
     "name": "stderr",
     "output_type": "stream",
     "text": [
      "Epoch 12 [Train]:  10%|▉         | 200/2004 [00:54<07:47,  3.86it/s, Loss=0.0636, Acc=95.71%]"
     ]
    },
    {
     "name": "stdout",
     "output_type": "stream",
     "text": [
      "[2025-02-26 20:34:06] Processed 200 training batches\n"
     ]
    },
    {
     "name": "stderr",
     "output_type": "stream",
     "text": [
      "Epoch 12 [Train]:  12%|█▏        | 250/2004 [01:07<09:34,  3.05it/s, Loss=0.1021, Acc=95.92%]"
     ]
    },
    {
     "name": "stdout",
     "output_type": "stream",
     "text": [
      "[2025-02-26 20:34:20] Processed 250 training batches\n"
     ]
    },
    {
     "name": "stderr",
     "output_type": "stream",
     "text": [
      "Epoch 12 [Train]:  15%|█▍        | 300/2004 [01:20<07:08,  3.97it/s, Loss=0.0911, Acc=95.95%]"
     ]
    },
    {
     "name": "stdout",
     "output_type": "stream",
     "text": [
      "[2025-02-26 20:34:33] Processed 300 training batches\n"
     ]
    },
    {
     "name": "stderr",
     "output_type": "stream",
     "text": [
      "Epoch 12 [Train]:  17%|█▋        | 350/2004 [01:34<06:51,  4.02it/s, Loss=0.2789, Acc=95.92%]"
     ]
    },
    {
     "name": "stdout",
     "output_type": "stream",
     "text": [
      "[2025-02-26 20:34:47] Processed 350 training batches\n"
     ]
    },
    {
     "name": "stderr",
     "output_type": "stream",
     "text": [
      "Epoch 12 [Train]:  20%|█▉        | 400/2004 [01:48<07:40,  3.49it/s, Loss=0.0150, Acc=95.92%]"
     ]
    },
    {
     "name": "stdout",
     "output_type": "stream",
     "text": [
      "[2025-02-26 20:35:00] Processed 400 training batches\n"
     ]
    },
    {
     "name": "stderr",
     "output_type": "stream",
     "text": [
      "Epoch 12 [Train]:  22%|██▏       | 450/2004 [02:01<06:42,  3.87it/s, Loss=0.2181, Acc=95.93%]"
     ]
    },
    {
     "name": "stdout",
     "output_type": "stream",
     "text": [
      "[2025-02-26 20:35:14] Processed 450 training batches\n"
     ]
    },
    {
     "name": "stderr",
     "output_type": "stream",
     "text": [
      "Epoch 12 [Train]:  25%|██▍       | 500/2004 [02:15<05:25,  4.62it/s, Loss=0.0636, Acc=95.98%]"
     ]
    },
    {
     "name": "stdout",
     "output_type": "stream",
     "text": [
      "[2025-02-26 20:35:27] Processed 500 training batches\n"
     ]
    },
    {
     "name": "stderr",
     "output_type": "stream",
     "text": [
      "Epoch 12 [Train]:  27%|██▋       | 550/2004 [02:28<05:43,  4.23it/s, Loss=0.1064, Acc=95.96%]"
     ]
    },
    {
     "name": "stdout",
     "output_type": "stream",
     "text": [
      "[2025-02-26 20:35:41] Processed 550 training batches\n"
     ]
    },
    {
     "name": "stderr",
     "output_type": "stream",
     "text": [
      "Epoch 12 [Train]:  30%|██▉       | 600/2004 [02:42<07:31,  3.11it/s, Loss=0.0401, Acc=95.98%]"
     ]
    },
    {
     "name": "stdout",
     "output_type": "stream",
     "text": [
      "[2025-02-26 20:35:55] Processed 600 training batches\n"
     ]
    },
    {
     "name": "stderr",
     "output_type": "stream",
     "text": [
      "Epoch 12 [Train]:  32%|███▏      | 650/2004 [02:56<06:29,  3.47it/s, Loss=0.3513, Acc=96.07%]"
     ]
    },
    {
     "name": "stdout",
     "output_type": "stream",
     "text": [
      "[2025-02-26 20:36:08] Processed 650 training batches\n"
     ]
    },
    {
     "name": "stderr",
     "output_type": "stream",
     "text": [
      "Epoch 12 [Train]:  35%|███▍      | 700/2004 [03:10<06:13,  3.49it/s, Loss=0.0196, Acc=96.07%]"
     ]
    },
    {
     "name": "stdout",
     "output_type": "stream",
     "text": [
      "[2025-02-26 20:36:22] Processed 700 training batches\n"
     ]
    },
    {
     "name": "stderr",
     "output_type": "stream",
     "text": [
      "Epoch 12 [Train]:  37%|███▋      | 750/2004 [03:24<04:38,  4.50it/s, Loss=0.0091, Acc=96.08%]"
     ]
    },
    {
     "name": "stdout",
     "output_type": "stream",
     "text": [
      "[2025-02-26 20:36:36] Processed 750 training batches\n"
     ]
    },
    {
     "name": "stderr",
     "output_type": "stream",
     "text": [
      "Epoch 12 [Train]:  40%|███▉      | 800/2004 [03:37<05:16,  3.80it/s, Loss=0.0573, Acc=96.10%]"
     ]
    },
    {
     "name": "stdout",
     "output_type": "stream",
     "text": [
      "[2025-02-26 20:36:50] Processed 800 training batches\n"
     ]
    },
    {
     "name": "stderr",
     "output_type": "stream",
     "text": [
      "Epoch 12 [Train]:  42%|████▏     | 850/2004 [03:52<05:11,  3.70it/s, Loss=0.0833, Acc=96.13%]"
     ]
    },
    {
     "name": "stdout",
     "output_type": "stream",
     "text": [
      "[2025-02-26 20:37:04] Processed 850 training batches\n"
     ]
    },
    {
     "name": "stderr",
     "output_type": "stream",
     "text": [
      "Epoch 12 [Train]:  45%|████▍     | 900/2004 [04:05<05:09,  3.56it/s, Loss=0.3928, Acc=96.14%]"
     ]
    },
    {
     "name": "stdout",
     "output_type": "stream",
     "text": [
      "[2025-02-26 20:37:18] Processed 900 training batches\n"
     ]
    },
    {
     "name": "stderr",
     "output_type": "stream",
     "text": [
      "Epoch 12 [Train]:  47%|████▋     | 950/2004 [04:20<04:54,  3.57it/s, Loss=0.0109, Acc=96.06%]"
     ]
    },
    {
     "name": "stdout",
     "output_type": "stream",
     "text": [
      "[2025-02-26 20:37:32] Processed 950 training batches\n"
     ]
    },
    {
     "name": "stderr",
     "output_type": "stream",
     "text": [
      "Epoch 12 [Train]:  50%|████▉     | 1000/2004 [04:34<04:59,  3.35it/s, Loss=0.0262, Acc=96.06%]"
     ]
    },
    {
     "name": "stdout",
     "output_type": "stream",
     "text": [
      "[2025-02-26 20:37:47] Processed 1000 training batches\n"
     ]
    },
    {
     "name": "stderr",
     "output_type": "stream",
     "text": [
      "Epoch 12 [Train]:  52%|█████▏    | 1050/2004 [04:49<04:21,  3.65it/s, Loss=0.0381, Acc=96.10%]"
     ]
    },
    {
     "name": "stdout",
     "output_type": "stream",
     "text": [
      "[2025-02-26 20:38:01] Processed 1050 training batches\n"
     ]
    },
    {
     "name": "stderr",
     "output_type": "stream",
     "text": [
      "Epoch 12 [Train]:  55%|█████▍    | 1100/2004 [05:03<04:46,  3.15it/s, Loss=0.0415, Acc=96.04%]"
     ]
    },
    {
     "name": "stdout",
     "output_type": "stream",
     "text": [
      "[2025-02-26 20:38:16] Processed 1100 training batches\n"
     ]
    },
    {
     "name": "stderr",
     "output_type": "stream",
     "text": [
      "Epoch 12 [Train]:  57%|█████▋    | 1150/2004 [05:18<04:34,  3.11it/s, Loss=0.0414, Acc=96.04%]"
     ]
    },
    {
     "name": "stdout",
     "output_type": "stream",
     "text": [
      "[2025-02-26 20:38:30] Processed 1150 training batches\n"
     ]
    },
    {
     "name": "stderr",
     "output_type": "stream",
     "text": [
      "Epoch 12 [Train]:  60%|█████▉    | 1200/2004 [05:32<03:53,  3.44it/s, Loss=0.2968, Acc=96.03%]"
     ]
    },
    {
     "name": "stdout",
     "output_type": "stream",
     "text": [
      "[2025-02-26 20:38:44] Processed 1200 training batches\n"
     ]
    },
    {
     "name": "stderr",
     "output_type": "stream",
     "text": [
      "Epoch 12 [Train]:  62%|██████▏   | 1250/2004 [05:46<03:57,  3.17it/s, Loss=0.2401, Acc=96.03%]"
     ]
    },
    {
     "name": "stdout",
     "output_type": "stream",
     "text": [
      "[2025-02-26 20:38:59] Processed 1250 training batches\n"
     ]
    },
    {
     "name": "stderr",
     "output_type": "stream",
     "text": [
      "Epoch 12 [Train]:  65%|██████▍   | 1300/2004 [06:01<03:20,  3.52it/s, Loss=0.1157, Acc=96.04%]"
     ]
    },
    {
     "name": "stdout",
     "output_type": "stream",
     "text": [
      "[2025-02-26 20:39:14] Processed 1300 training batches\n"
     ]
    },
    {
     "name": "stderr",
     "output_type": "stream",
     "text": [
      "Epoch 12 [Train]:  67%|██████▋   | 1350/2004 [06:17<03:01,  3.60it/s, Loss=0.0682, Acc=96.07%]"
     ]
    },
    {
     "name": "stdout",
     "output_type": "stream",
     "text": [
      "[2025-02-26 20:39:29] Processed 1350 training batches\n"
     ]
    },
    {
     "name": "stderr",
     "output_type": "stream",
     "text": [
      "Epoch 12 [Train]:  70%|██████▉   | 1400/2004 [06:31<02:41,  3.74it/s, Loss=0.2881, Acc=96.06%]"
     ]
    },
    {
     "name": "stdout",
     "output_type": "stream",
     "text": [
      "[2025-02-26 20:39:44] Processed 1400 training batches\n"
     ]
    },
    {
     "name": "stderr",
     "output_type": "stream",
     "text": [
      "Epoch 12 [Train]:  72%|███████▏  | 1450/2004 [06:46<02:53,  3.19it/s, Loss=0.0718, Acc=96.08%]"
     ]
    },
    {
     "name": "stdout",
     "output_type": "stream",
     "text": [
      "[2025-02-26 20:39:59] Processed 1450 training batches\n"
     ]
    },
    {
     "name": "stderr",
     "output_type": "stream",
     "text": [
      "Epoch 12 [Train]:  75%|███████▍  | 1500/2004 [07:01<02:26,  3.43it/s, Loss=0.0370, Acc=96.11%]"
     ]
    },
    {
     "name": "stdout",
     "output_type": "stream",
     "text": [
      "[2025-02-26 20:40:13] Processed 1500 training batches\n"
     ]
    },
    {
     "name": "stderr",
     "output_type": "stream",
     "text": [
      "Epoch 12 [Train]:  77%|███████▋  | 1550/2004 [07:14<02:02,  3.71it/s, Loss=0.3297, Acc=96.11%]"
     ]
    },
    {
     "name": "stdout",
     "output_type": "stream",
     "text": [
      "[2025-02-26 20:40:27] Processed 1550 training batches\n"
     ]
    },
    {
     "name": "stderr",
     "output_type": "stream",
     "text": [
      "Epoch 12 [Train]:  80%|███████▉  | 1600/2004 [07:28<01:55,  3.49it/s, Loss=0.1865, Acc=96.08%]"
     ]
    },
    {
     "name": "stdout",
     "output_type": "stream",
     "text": [
      "[2025-02-26 20:40:41] Processed 1600 training batches\n"
     ]
    },
    {
     "name": "stderr",
     "output_type": "stream",
     "text": [
      "Epoch 12 [Train]:  82%|████████▏ | 1650/2004 [07:43<01:43,  3.43it/s, Loss=0.0063, Acc=96.09%]"
     ]
    },
    {
     "name": "stdout",
     "output_type": "stream",
     "text": [
      "[2025-02-26 20:40:56] Processed 1650 training batches\n"
     ]
    },
    {
     "name": "stderr",
     "output_type": "stream",
     "text": [
      "Epoch 12 [Train]:  85%|████████▍ | 1700/2004 [07:58<01:23,  3.63it/s, Loss=0.0397, Acc=96.11%]"
     ]
    },
    {
     "name": "stdout",
     "output_type": "stream",
     "text": [
      "[2025-02-26 20:41:10] Processed 1700 training batches\n"
     ]
    },
    {
     "name": "stderr",
     "output_type": "stream",
     "text": [
      "Epoch 12 [Train]:  87%|████████▋ | 1750/2004 [08:12<01:07,  3.75it/s, Loss=0.0033, Acc=96.14%]"
     ]
    },
    {
     "name": "stdout",
     "output_type": "stream",
     "text": [
      "[2025-02-26 20:41:24] Processed 1750 training batches\n"
     ]
    },
    {
     "name": "stderr",
     "output_type": "stream",
     "text": [
      "Epoch 12 [Train]:  90%|████████▉ | 1800/2004 [08:26<00:53,  3.84it/s, Loss=0.0570, Acc=96.14%]"
     ]
    },
    {
     "name": "stdout",
     "output_type": "stream",
     "text": [
      "[2025-02-26 20:41:39] Processed 1800 training batches\n"
     ]
    },
    {
     "name": "stderr",
     "output_type": "stream",
     "text": [
      "Epoch 12 [Train]:  92%|█████████▏| 1850/2004 [08:42<00:38,  3.95it/s, Loss=0.0083, Acc=96.13%]"
     ]
    },
    {
     "name": "stdout",
     "output_type": "stream",
     "text": [
      "[2025-02-26 20:41:54] Processed 1850 training batches\n"
     ]
    },
    {
     "name": "stderr",
     "output_type": "stream",
     "text": [
      "Epoch 12 [Train]:  95%|█████████▍| 1900/2004 [08:57<00:31,  3.35it/s, Loss=0.0128, Acc=96.16%]"
     ]
    },
    {
     "name": "stdout",
     "output_type": "stream",
     "text": [
      "[2025-02-26 20:42:10] Processed 1900 training batches\n"
     ]
    },
    {
     "name": "stderr",
     "output_type": "stream",
     "text": [
      "Epoch 12 [Train]:  97%|█████████▋| 1950/2004 [09:12<00:18,  2.94it/s, Loss=0.0316, Acc=96.18%]"
     ]
    },
    {
     "name": "stdout",
     "output_type": "stream",
     "text": [
      "[2025-02-26 20:42:25] Processed 1950 training batches\n"
     ]
    },
    {
     "name": "stderr",
     "output_type": "stream",
     "text": [
      "Epoch 12 [Train]: 100%|█████████▉| 2000/2004 [09:27<00:01,  3.39it/s, Loss=0.0116, Acc=96.22%]"
     ]
    },
    {
     "name": "stdout",
     "output_type": "stream",
     "text": [
      "[2025-02-26 20:42:40] Processed 2000 training batches\n"
     ]
    },
    {
     "name": "stderr",
     "output_type": "stream",
     "text": [
      "Epoch 12 [Train]: 100%|██████████| 2004/2004 [09:28<00:00,  3.52it/s, Loss=1.5394, Acc=96.22%]\n",
      "Epoch 12 [Val]:   0%|          | 0/2004 [00:00<?, ?it/s, Loss=0.4982, Acc=81.25%]"
     ]
    },
    {
     "name": "stdout",
     "output_type": "stream",
     "text": [
      "[2025-02-26 20:42:41] Processed 0 validation batches\n"
     ]
    },
    {
     "name": "stderr",
     "output_type": "stream",
     "text": [
      "Epoch 12 [Val]:   1%|          | 20/2004 [00:07<09:45,  3.39it/s, Loss=0.3999, Acc=95.54%]"
     ]
    },
    {
     "name": "stdout",
     "output_type": "stream",
     "text": [
      "[2025-02-26 20:42:48] Processed 20 validation batches\n"
     ]
    },
    {
     "name": "stderr",
     "output_type": "stream",
     "text": [
      "Epoch 12 [Val]:   2%|▏         | 40/2004 [00:12<09:12,  3.55it/s, Loss=0.0025, Acc=97.41%]"
     ]
    },
    {
     "name": "stdout",
     "output_type": "stream",
     "text": [
      "[2025-02-26 20:42:54] Processed 40 validation batches\n"
     ]
    },
    {
     "name": "stderr",
     "output_type": "stream",
     "text": [
      "Epoch 12 [Val]:   3%|▎         | 60/2004 [00:19<12:02,  2.69it/s, Loss=0.0104, Acc=97.44%]"
     ]
    },
    {
     "name": "stdout",
     "output_type": "stream",
     "text": [
      "[2025-02-26 20:43:01] Processed 60 validation batches\n"
     ]
    },
    {
     "name": "stderr",
     "output_type": "stream",
     "text": [
      "Epoch 12 [Val]:   4%|▍         | 80/2004 [00:24<06:41,  4.79it/s, Loss=0.0151, Acc=97.53%]"
     ]
    },
    {
     "name": "stdout",
     "output_type": "stream",
     "text": [
      "[2025-02-26 20:43:05] Processed 80 validation batches\n"
     ]
    },
    {
     "name": "stderr",
     "output_type": "stream",
     "text": [
      "Epoch 12 [Val]:   5%|▍         | 100/2004 [00:34<10:40,  2.97it/s, Loss=0.0029, Acc=97.90%]"
     ]
    },
    {
     "name": "stdout",
     "output_type": "stream",
     "text": [
      "[2025-02-26 20:43:16] Processed 100 validation batches\n"
     ]
    },
    {
     "name": "stderr",
     "output_type": "stream",
     "text": [
      "Epoch 12 [Val]:   6%|▌         | 120/2004 [00:40<07:51,  4.00it/s, Loss=0.5759, Acc=97.83%]"
     ]
    },
    {
     "name": "stdout",
     "output_type": "stream",
     "text": [
      "[2025-02-26 20:43:22] Processed 120 validation batches\n"
     ]
    },
    {
     "name": "stderr",
     "output_type": "stream",
     "text": [
      "Epoch 12 [Val]:   7%|▋         | 140/2004 [00:52<32:09,  1.04s/it, Loss=0.0137, Acc=96.14%]"
     ]
    },
    {
     "name": "stdout",
     "output_type": "stream",
     "text": [
      "[2025-02-26 20:43:33] Processed 140 validation batches\n"
     ]
    },
    {
     "name": "stderr",
     "output_type": "stream",
     "text": [
      "Epoch 12 [Val]:   8%|▊         | 160/2004 [00:57<06:55,  4.44it/s, Loss=0.0029, Acc=96.12%]"
     ]
    },
    {
     "name": "stdout",
     "output_type": "stream",
     "text": [
      "[2025-02-26 20:43:38] Processed 160 validation batches\n"
     ]
    },
    {
     "name": "stderr",
     "output_type": "stream",
     "text": [
      "Epoch 12 [Val]:   9%|▉         | 180/2004 [01:03<11:38,  2.61it/s, Loss=0.0396, Acc=96.31%]"
     ]
    },
    {
     "name": "stdout",
     "output_type": "stream",
     "text": [
      "[2025-02-26 20:43:45] Processed 180 validation batches\n"
     ]
    },
    {
     "name": "stderr",
     "output_type": "stream",
     "text": [
      "Epoch 12 [Val]:  10%|▉         | 200/2004 [01:14<17:50,  1.69it/s, Loss=0.0018, Acc=95.77%]"
     ]
    },
    {
     "name": "stdout",
     "output_type": "stream",
     "text": [
      "[2025-02-26 20:43:55] Processed 200 validation batches\n"
     ]
    },
    {
     "name": "stderr",
     "output_type": "stream",
     "text": [
      "Epoch 12 [Val]:  11%|█         | 220/2004 [01:28<04:40,  6.35it/s, Loss=0.0041, Acc=96.15%]"
     ]
    },
    {
     "name": "stdout",
     "output_type": "stream",
     "text": [
      "[2025-02-26 20:44:09] Processed 220 validation batches\n"
     ]
    },
    {
     "name": "stderr",
     "output_type": "stream",
     "text": [
      "Epoch 12 [Val]:  12%|█▏        | 240/2004 [01:31<03:10,  9.26it/s, Loss=0.0000, Acc=96.47%]"
     ]
    },
    {
     "name": "stdout",
     "output_type": "stream",
     "text": [
      "[2025-02-26 20:44:12] Processed 240 validation batches\n"
     ]
    },
    {
     "name": "stderr",
     "output_type": "stream",
     "text": [
      "Epoch 12 [Val]:  13%|█▎        | 260/2004 [01:33<03:10,  9.17it/s, Loss=0.0000, Acc=96.74%]"
     ]
    },
    {
     "name": "stdout",
     "output_type": "stream",
     "text": [
      "[2025-02-26 20:44:14] Processed 260 validation batches\n"
     ]
    },
    {
     "name": "stderr",
     "output_type": "stream",
     "text": [
      "Epoch 12 [Val]:  14%|█▍        | 280/2004 [01:35<03:09,  9.08it/s, Loss=0.0001, Acc=96.98%]"
     ]
    },
    {
     "name": "stdout",
     "output_type": "stream",
     "text": [
      "[2025-02-26 20:44:16] Processed 280 validation batches\n"
     ]
    },
    {
     "name": "stderr",
     "output_type": "stream",
     "text": [
      "Epoch 12 [Val]:  15%|█▍        | 300/2004 [01:37<03:16,  8.67it/s, Loss=0.0007, Acc=97.18%]"
     ]
    },
    {
     "name": "stdout",
     "output_type": "stream",
     "text": [
      "[2025-02-26 20:44:18] Processed 300 validation batches\n"
     ]
    },
    {
     "name": "stderr",
     "output_type": "stream",
     "text": [
      "Epoch 12 [Val]:  16%|█▌        | 320/2004 [01:39<03:05,  9.08it/s, Loss=0.0020, Acc=97.35%]"
     ]
    },
    {
     "name": "stdout",
     "output_type": "stream",
     "text": [
      "[2025-02-26 20:44:21] Processed 320 validation batches\n"
     ]
    },
    {
     "name": "stderr",
     "output_type": "stream",
     "text": [
      "Epoch 12 [Val]:  17%|█▋        | 340/2004 [01:42<03:01,  9.15it/s, Loss=0.0005, Acc=97.51%]"
     ]
    },
    {
     "name": "stdout",
     "output_type": "stream",
     "text": [
      "[2025-02-26 20:44:23] Processed 340 validation batches\n"
     ]
    },
    {
     "name": "stderr",
     "output_type": "stream",
     "text": [
      "Epoch 12 [Val]:  18%|█▊        | 360/2004 [01:44<03:01,  9.06it/s, Loss=0.0047, Acc=97.65%]"
     ]
    },
    {
     "name": "stdout",
     "output_type": "stream",
     "text": [
      "[2025-02-26 20:44:25] Processed 360 validation batches\n"
     ]
    },
    {
     "name": "stderr",
     "output_type": "stream",
     "text": [
      "Epoch 12 [Val]:  19%|█▉        | 380/2004 [01:46<03:00,  8.98it/s, Loss=0.0005, Acc=97.77%]"
     ]
    },
    {
     "name": "stdout",
     "output_type": "stream",
     "text": [
      "[2025-02-26 20:44:27] Processed 380 validation batches\n"
     ]
    },
    {
     "name": "stderr",
     "output_type": "stream",
     "text": [
      "Epoch 12 [Val]:  20%|█▉        | 400/2004 [01:48<03:00,  8.89it/s, Loss=0.0120, Acc=97.88%]"
     ]
    },
    {
     "name": "stdout",
     "output_type": "stream",
     "text": [
      "[2025-02-26 20:44:30] Processed 400 validation batches\n"
     ]
    },
    {
     "name": "stderr",
     "output_type": "stream",
     "text": [
      "Epoch 12 [Val]:  21%|██        | 420/2004 [01:51<02:58,  8.85it/s, Loss=0.0007, Acc=97.98%]"
     ]
    },
    {
     "name": "stdout",
     "output_type": "stream",
     "text": [
      "[2025-02-26 20:44:32] Processed 420 validation batches\n"
     ]
    },
    {
     "name": "stderr",
     "output_type": "stream",
     "text": [
      "Epoch 12 [Val]:  22%|██▏       | 440/2004 [01:53<02:52,  9.09it/s, Loss=0.0011, Acc=98.07%]"
     ]
    },
    {
     "name": "stdout",
     "output_type": "stream",
     "text": [
      "[2025-02-26 20:44:34] Processed 440 validation batches\n"
     ]
    },
    {
     "name": "stderr",
     "output_type": "stream",
     "text": [
      "Epoch 12 [Val]:  23%|██▎       | 460/2004 [02:06<11:54,  2.16it/s, Loss=0.0035, Acc=98.13%]"
     ]
    },
    {
     "name": "stdout",
     "output_type": "stream",
     "text": [
      "[2025-02-26 20:44:47] Processed 460 validation batches\n"
     ]
    },
    {
     "name": "stderr",
     "output_type": "stream",
     "text": [
      "Epoch 12 [Val]:  24%|██▍       | 480/2004 [02:12<07:31,  3.38it/s, Loss=0.1491, Acc=98.09%]"
     ]
    },
    {
     "name": "stdout",
     "output_type": "stream",
     "text": [
      "[2025-02-26 20:44:53] Processed 480 validation batches\n"
     ]
    },
    {
     "name": "stderr",
     "output_type": "stream",
     "text": [
      "Epoch 12 [Val]:  25%|██▍       | 500/2004 [02:18<02:54,  8.59it/s, Loss=0.0005, Acc=98.17%]"
     ]
    },
    {
     "name": "stdout",
     "output_type": "stream",
     "text": [
      "[2025-02-26 20:44:59] Processed 500 validation batches\n"
     ]
    },
    {
     "name": "stderr",
     "output_type": "stream",
     "text": [
      "Epoch 12 [Val]:  26%|██▌       | 520/2004 [02:20<02:44,  9.04it/s, Loss=0.0022, Acc=98.24%]"
     ]
    },
    {
     "name": "stdout",
     "output_type": "stream",
     "text": [
      "[2025-02-26 20:45:01] Processed 520 validation batches\n"
     ]
    },
    {
     "name": "stderr",
     "output_type": "stream",
     "text": [
      "Epoch 12 [Val]:  27%|██▋       | 540/2004 [02:23<04:03,  6.02it/s, Loss=0.0009, Acc=98.29%]"
     ]
    },
    {
     "name": "stdout",
     "output_type": "stream",
     "text": [
      "[2025-02-26 20:45:04] Processed 540 validation batches\n"
     ]
    },
    {
     "name": "stderr",
     "output_type": "stream",
     "text": [
      "Epoch 12 [Val]:  28%|██▊       | 560/2004 [02:26<03:03,  7.86it/s, Loss=0.0033, Acc=98.35%]"
     ]
    },
    {
     "name": "stdout",
     "output_type": "stream",
     "text": [
      "[2025-02-26 20:45:07] Processed 560 validation batches\n"
     ]
    },
    {
     "name": "stderr",
     "output_type": "stream",
     "text": [
      "Epoch 12 [Val]:  29%|██▉       | 580/2004 [02:30<07:04,  3.36it/s, Loss=0.0007, Acc=98.40%]"
     ]
    },
    {
     "name": "stdout",
     "output_type": "stream",
     "text": [
      "[2025-02-26 20:45:12] Processed 580 validation batches\n"
     ]
    },
    {
     "name": "stderr",
     "output_type": "stream",
     "text": [
      "Epoch 12 [Val]:  30%|██▉       | 600/2004 [02:33<02:58,  7.86it/s, Loss=0.0001, Acc=98.45%]"
     ]
    },
    {
     "name": "stdout",
     "output_type": "stream",
     "text": [
      "[2025-02-26 20:45:14] Processed 600 validation batches\n"
     ]
    },
    {
     "name": "stderr",
     "output_type": "stream",
     "text": [
      "Epoch 12 [Val]:  31%|███       | 620/2004 [02:35<02:55,  7.88it/s, Loss=0.0000, Acc=98.50%]"
     ]
    },
    {
     "name": "stdout",
     "output_type": "stream",
     "text": [
      "[2025-02-26 20:45:17] Processed 620 validation batches\n"
     ]
    },
    {
     "name": "stderr",
     "output_type": "stream",
     "text": [
      "Epoch 12 [Val]:  32%|███▏      | 640/2004 [02:38<02:48,  8.11it/s, Loss=0.0000, Acc=98.55%]"
     ]
    },
    {
     "name": "stdout",
     "output_type": "stream",
     "text": [
      "[2025-02-26 20:45:19] Processed 640 validation batches\n"
     ]
    },
    {
     "name": "stderr",
     "output_type": "stream",
     "text": [
      "Epoch 12 [Val]:  33%|███▎      | 660/2004 [02:40<02:50,  7.89it/s, Loss=0.0001, Acc=98.59%]"
     ]
    },
    {
     "name": "stdout",
     "output_type": "stream",
     "text": [
      "[2025-02-26 20:45:22] Processed 660 validation batches\n"
     ]
    },
    {
     "name": "stderr",
     "output_type": "stream",
     "text": [
      "Epoch 12 [Val]:  34%|███▍      | 680/2004 [02:43<02:46,  7.96it/s, Loss=0.0000, Acc=98.63%]"
     ]
    },
    {
     "name": "stdout",
     "output_type": "stream",
     "text": [
      "[2025-02-26 20:45:24] Processed 680 validation batches\n"
     ]
    },
    {
     "name": "stderr",
     "output_type": "stream",
     "text": [
      "Epoch 12 [Val]:  35%|███▍      | 700/2004 [02:46<02:37,  8.28it/s, Loss=0.0000, Acc=98.67%]"
     ]
    },
    {
     "name": "stdout",
     "output_type": "stream",
     "text": [
      "[2025-02-26 20:45:27] Processed 700 validation batches\n"
     ]
    },
    {
     "name": "stderr",
     "output_type": "stream",
     "text": [
      "Epoch 12 [Val]:  36%|███▌      | 720/2004 [02:48<02:35,  8.28it/s, Loss=0.0006, Acc=98.71%]"
     ]
    },
    {
     "name": "stdout",
     "output_type": "stream",
     "text": [
      "[2025-02-26 20:45:29] Processed 720 validation batches\n"
     ]
    },
    {
     "name": "stderr",
     "output_type": "stream",
     "text": [
      "Epoch 12 [Val]:  37%|███▋      | 740/2004 [02:52<02:34,  8.16it/s, Loss=0.0001, Acc=98.74%]"
     ]
    },
    {
     "name": "stdout",
     "output_type": "stream",
     "text": [
      "[2025-02-26 20:45:33] Processed 740 validation batches\n"
     ]
    },
    {
     "name": "stderr",
     "output_type": "stream",
     "text": [
      "Epoch 12 [Val]:  38%|███▊      | 760/2004 [03:04<06:42,  3.09it/s, Loss=0.0000, Acc=98.78%]"
     ]
    },
    {
     "name": "stdout",
     "output_type": "stream",
     "text": [
      "[2025-02-26 20:45:45] Processed 760 validation batches\n"
     ]
    },
    {
     "name": "stderr",
     "output_type": "stream",
     "text": [
      "Epoch 12 [Val]:  39%|███▉      | 780/2004 [03:12<06:42,  3.04it/s, Loss=0.0000, Acc=98.81%]"
     ]
    },
    {
     "name": "stdout",
     "output_type": "stream",
     "text": [
      "[2025-02-26 20:45:53] Processed 780 validation batches\n"
     ]
    },
    {
     "name": "stderr",
     "output_type": "stream",
     "text": [
      "Epoch 12 [Val]:  40%|███▉      | 800/2004 [03:15<02:31,  7.95it/s, Loss=0.0001, Acc=98.84%]"
     ]
    },
    {
     "name": "stdout",
     "output_type": "stream",
     "text": [
      "[2025-02-26 20:45:56] Processed 800 validation batches\n"
     ]
    },
    {
     "name": "stderr",
     "output_type": "stream",
     "text": [
      "Epoch 12 [Val]:  41%|████      | 820/2004 [03:17<02:25,  8.11it/s, Loss=0.0007, Acc=98.87%]"
     ]
    },
    {
     "name": "stdout",
     "output_type": "stream",
     "text": [
      "[2025-02-26 20:45:58] Processed 820 validation batches\n"
     ]
    },
    {
     "name": "stderr",
     "output_type": "stream",
     "text": [
      "Epoch 12 [Val]:  42%|████▏     | 840/2004 [03:23<04:24,  4.40it/s, Loss=0.0024, Acc=98.89%]"
     ]
    },
    {
     "name": "stdout",
     "output_type": "stream",
     "text": [
      "[2025-02-26 20:46:04] Processed 840 validation batches\n"
     ]
    },
    {
     "name": "stderr",
     "output_type": "stream",
     "text": [
      "Epoch 12 [Val]:  43%|████▎     | 860/2004 [03:28<08:46,  2.17it/s, Loss=0.1369, Acc=98.91%]"
     ]
    },
    {
     "name": "stdout",
     "output_type": "stream",
     "text": [
      "[2025-02-26 20:46:09] Processed 860 validation batches\n"
     ]
    },
    {
     "name": "stderr",
     "output_type": "stream",
     "text": [
      "Epoch 12 [Val]:  44%|████▍     | 880/2004 [03:32<03:34,  5.24it/s, Loss=0.2577, Acc=98.79%]"
     ]
    },
    {
     "name": "stdout",
     "output_type": "stream",
     "text": [
      "[2025-02-26 20:46:13] Processed 880 validation batches\n"
     ]
    },
    {
     "name": "stderr",
     "output_type": "stream",
     "text": [
      "Epoch 12 [Val]:  45%|████▍     | 900/2004 [03:36<04:08,  4.44it/s, Loss=0.0013, Acc=98.63%]"
     ]
    },
    {
     "name": "stdout",
     "output_type": "stream",
     "text": [
      "[2025-02-26 20:46:17] Processed 900 validation batches\n"
     ]
    },
    {
     "name": "stderr",
     "output_type": "stream",
     "text": [
      "Epoch 12 [Val]:  46%|████▌     | 920/2004 [03:41<05:20,  3.38it/s, Loss=0.0593, Acc=98.65%]"
     ]
    },
    {
     "name": "stdout",
     "output_type": "stream",
     "text": [
      "[2025-02-26 20:46:23] Processed 920 validation batches\n"
     ]
    },
    {
     "name": "stderr",
     "output_type": "stream",
     "text": [
      "Epoch 12 [Val]:  47%|████▋     | 940/2004 [03:47<03:39,  4.84it/s, Loss=0.0061, Acc=98.57%]"
     ]
    },
    {
     "name": "stdout",
     "output_type": "stream",
     "text": [
      "[2025-02-26 20:46:29] Processed 940 validation batches\n"
     ]
    },
    {
     "name": "stderr",
     "output_type": "stream",
     "text": [
      "Epoch 12 [Val]:  48%|████▊     | 960/2004 [03:51<03:19,  5.23it/s, Loss=0.0278, Acc=98.57%]"
     ]
    },
    {
     "name": "stdout",
     "output_type": "stream",
     "text": [
      "[2025-02-26 20:46:32] Processed 960 validation batches\n"
     ]
    },
    {
     "name": "stderr",
     "output_type": "stream",
     "text": [
      "Epoch 12 [Val]:  49%|████▉     | 980/2004 [04:02<17:48,  1.04s/it, Loss=0.0216, Acc=98.56%]"
     ]
    },
    {
     "name": "stdout",
     "output_type": "stream",
     "text": [
      "[2025-02-26 20:46:43] Processed 980 validation batches\n"
     ]
    },
    {
     "name": "stderr",
     "output_type": "stream",
     "text": [
      "Epoch 12 [Val]:  50%|████▉     | 1000/2004 [04:08<03:31,  4.75it/s, Loss=0.0048, Acc=98.59%]"
     ]
    },
    {
     "name": "stdout",
     "output_type": "stream",
     "text": [
      "[2025-02-26 20:46:50] Processed 1000 validation batches\n"
     ]
    },
    {
     "name": "stderr",
     "output_type": "stream",
     "text": [
      "Epoch 12 [Val]:  51%|█████     | 1020/2004 [04:13<02:50,  5.76it/s, Loss=0.0011, Acc=98.61%]"
     ]
    },
    {
     "name": "stdout",
     "output_type": "stream",
     "text": [
      "[2025-02-26 20:46:55] Processed 1020 validation batches\n"
     ]
    },
    {
     "name": "stderr",
     "output_type": "stream",
     "text": [
      "Epoch 12 [Val]:  52%|█████▏    | 1040/2004 [04:21<03:26,  4.66it/s, Loss=0.0000, Acc=98.63%]"
     ]
    },
    {
     "name": "stdout",
     "output_type": "stream",
     "text": [
      "[2025-02-26 20:47:02] Processed 1040 validation batches\n"
     ]
    },
    {
     "name": "stderr",
     "output_type": "stream",
     "text": [
      "Epoch 12 [Val]:  53%|█████▎    | 1060/2004 [04:27<05:08,  3.06it/s, Loss=0.0000, Acc=98.65%]"
     ]
    },
    {
     "name": "stdout",
     "output_type": "stream",
     "text": [
      "[2025-02-26 20:47:08] Processed 1060 validation batches\n"
     ]
    },
    {
     "name": "stderr",
     "output_type": "stream",
     "text": [
      "Epoch 12 [Val]:  54%|█████▍    | 1080/2004 [04:36<08:04,  1.91it/s, Loss=0.0000, Acc=98.66%]"
     ]
    },
    {
     "name": "stdout",
     "output_type": "stream",
     "text": [
      "[2025-02-26 20:47:17] Processed 1080 validation batches\n"
     ]
    },
    {
     "name": "stderr",
     "output_type": "stream",
     "text": [
      "Epoch 12 [Val]:  55%|█████▍    | 1100/2004 [04:58<21:24,  1.42s/it, Loss=0.0001, Acc=98.68%]"
     ]
    },
    {
     "name": "stdout",
     "output_type": "stream",
     "text": [
      "[2025-02-26 20:47:39] Processed 1100 validation batches\n"
     ]
    },
    {
     "name": "stderr",
     "output_type": "stream",
     "text": [
      "Epoch 12 [Val]:  56%|█████▌    | 1120/2004 [05:22<19:13,  1.30s/it, Loss=0.0094, Acc=98.70%]"
     ]
    },
    {
     "name": "stdout",
     "output_type": "stream",
     "text": [
      "[2025-02-26 20:48:03] Processed 1120 validation batches\n"
     ]
    },
    {
     "name": "stderr",
     "output_type": "stream",
     "text": [
      "Epoch 12 [Val]:  57%|█████▋    | 1140/2004 [05:25<02:41,  5.33it/s, Loss=0.0002, Acc=98.72%]"
     ]
    },
    {
     "name": "stdout",
     "output_type": "stream",
     "text": [
      "[2025-02-26 20:48:07] Processed 1140 validation batches\n"
     ]
    },
    {
     "name": "stderr",
     "output_type": "stream",
     "text": [
      "Epoch 12 [Val]:  58%|█████▊    | 1160/2004 [05:29<02:55,  4.82it/s, Loss=0.0002, Acc=98.74%]"
     ]
    },
    {
     "name": "stdout",
     "output_type": "stream",
     "text": [
      "[2025-02-26 20:48:11] Processed 1160 validation batches\n"
     ]
    },
    {
     "name": "stderr",
     "output_type": "stream",
     "text": [
      "Epoch 12 [Val]:  59%|█████▉    | 1180/2004 [05:34<02:52,  4.79it/s, Loss=0.0000, Acc=98.76%]"
     ]
    },
    {
     "name": "stdout",
     "output_type": "stream",
     "text": [
      "[2025-02-26 20:48:15] Processed 1180 validation batches\n"
     ]
    },
    {
     "name": "stderr",
     "output_type": "stream",
     "text": [
      "Epoch 12 [Val]:  60%|█████▉    | 1200/2004 [05:36<01:36,  8.31it/s, Loss=0.0000, Acc=98.78%]"
     ]
    },
    {
     "name": "stdout",
     "output_type": "stream",
     "text": [
      "[2025-02-26 20:48:17] Processed 1200 validation batches\n"
     ]
    },
    {
     "name": "stderr",
     "output_type": "stream",
     "text": [
      "Epoch 12 [Val]:  61%|██████    | 1220/2004 [05:39<02:22,  5.52it/s, Loss=0.0071, Acc=98.80%]"
     ]
    },
    {
     "name": "stdout",
     "output_type": "stream",
     "text": [
      "[2025-02-26 20:48:21] Processed 1220 validation batches\n"
     ]
    },
    {
     "name": "stderr",
     "output_type": "stream",
     "text": [
      "Epoch 12 [Val]:  62%|██████▏   | 1240/2004 [05:43<02:22,  5.38it/s, Loss=0.0000, Acc=98.82%]"
     ]
    },
    {
     "name": "stdout",
     "output_type": "stream",
     "text": [
      "[2025-02-26 20:48:24] Processed 1240 validation batches\n"
     ]
    },
    {
     "name": "stderr",
     "output_type": "stream",
     "text": [
      "Epoch 12 [Val]:  63%|██████▎   | 1260/2004 [05:47<02:45,  4.50it/s, Loss=0.0001, Acc=98.84%]"
     ]
    },
    {
     "name": "stdout",
     "output_type": "stream",
     "text": [
      "[2025-02-26 20:48:28] Processed 1260 validation batches\n"
     ]
    },
    {
     "name": "stderr",
     "output_type": "stream",
     "text": [
      "Epoch 12 [Val]:  64%|██████▍   | 1280/2004 [05:52<02:38,  4.58it/s, Loss=0.0000, Acc=98.86%]"
     ]
    },
    {
     "name": "stdout",
     "output_type": "stream",
     "text": [
      "[2025-02-26 20:48:33] Processed 1280 validation batches\n"
     ]
    },
    {
     "name": "stderr",
     "output_type": "stream",
     "text": [
      "Epoch 12 [Val]:  65%|██████▍   | 1300/2004 [05:56<03:19,  3.53it/s, Loss=0.1069, Acc=98.84%]"
     ]
    },
    {
     "name": "stdout",
     "output_type": "stream",
     "text": [
      "[2025-02-26 20:48:37] Processed 1300 validation batches\n"
     ]
    },
    {
     "name": "stderr",
     "output_type": "stream",
     "text": [
      "Epoch 12 [Val]:  66%|██████▌   | 1320/2004 [06:01<02:28,  4.61it/s, Loss=0.0062, Acc=98.84%]"
     ]
    },
    {
     "name": "stdout",
     "output_type": "stream",
     "text": [
      "[2025-02-26 20:48:42] Processed 1320 validation batches\n"
     ]
    },
    {
     "name": "stderr",
     "output_type": "stream",
     "text": [
      "Epoch 12 [Val]:  67%|██████▋   | 1340/2004 [06:05<02:28,  4.46it/s, Loss=0.0876, Acc=98.83%]"
     ]
    },
    {
     "name": "stdout",
     "output_type": "stream",
     "text": [
      "[2025-02-26 20:48:47] Processed 1340 validation batches\n"
     ]
    },
    {
     "name": "stderr",
     "output_type": "stream",
     "text": [
      "Epoch 12 [Val]:  68%|██████▊   | 1360/2004 [06:09<01:51,  5.77it/s, Loss=0.0024, Acc=98.85%]"
     ]
    },
    {
     "name": "stdout",
     "output_type": "stream",
     "text": [
      "[2025-02-26 20:48:50] Processed 1360 validation batches\n"
     ]
    },
    {
     "name": "stderr",
     "output_type": "stream",
     "text": [
      "Epoch 12 [Val]:  69%|██████▉   | 1380/2004 [06:11<01:08,  9.11it/s, Loss=0.0005, Acc=98.87%]"
     ]
    },
    {
     "name": "stdout",
     "output_type": "stream",
     "text": [
      "[2025-02-26 20:48:52] Processed 1380 validation batches\n"
     ]
    },
    {
     "name": "stderr",
     "output_type": "stream",
     "text": [
      "Epoch 12 [Val]:  70%|██████▉   | 1400/2004 [06:13<01:05,  9.16it/s, Loss=0.0029, Acc=98.88%]"
     ]
    },
    {
     "name": "stdout",
     "output_type": "stream",
     "text": [
      "[2025-02-26 20:48:54] Processed 1400 validation batches\n"
     ]
    },
    {
     "name": "stderr",
     "output_type": "stream",
     "text": [
      "Epoch 12 [Val]:  71%|███████   | 1420/2004 [06:15<01:03,  9.19it/s, Loss=0.0029, Acc=98.90%]"
     ]
    },
    {
     "name": "stdout",
     "output_type": "stream",
     "text": [
      "[2025-02-26 20:48:57] Processed 1420 validation batches\n"
     ]
    },
    {
     "name": "stderr",
     "output_type": "stream",
     "text": [
      "Epoch 12 [Val]:  72%|███████▏  | 1440/2004 [06:18<01:03,  8.95it/s, Loss=0.0135, Acc=98.92%]"
     ]
    },
    {
     "name": "stdout",
     "output_type": "stream",
     "text": [
      "[2025-02-26 20:48:59] Processed 1440 validation batches\n"
     ]
    },
    {
     "name": "stderr",
     "output_type": "stream",
     "text": [
      "Epoch 12 [Val]:  73%|███████▎  | 1460/2004 [06:20<01:00,  8.97it/s, Loss=0.0162, Acc=98.93%]"
     ]
    },
    {
     "name": "stdout",
     "output_type": "stream",
     "text": [
      "[2025-02-26 20:49:01] Processed 1460 validation batches\n"
     ]
    },
    {
     "name": "stderr",
     "output_type": "stream",
     "text": [
      "Epoch 12 [Val]:  74%|███████▍  | 1480/2004 [06:22<01:00,  8.62it/s, Loss=0.0002, Acc=98.94%]"
     ]
    },
    {
     "name": "stdout",
     "output_type": "stream",
     "text": [
      "[2025-02-26 20:49:03] Processed 1480 validation batches\n"
     ]
    },
    {
     "name": "stderr",
     "output_type": "stream",
     "text": [
      "Epoch 12 [Val]:  75%|███████▍  | 1500/2004 [06:24<00:57,  8.75it/s, Loss=0.0001, Acc=98.96%]"
     ]
    },
    {
     "name": "stdout",
     "output_type": "stream",
     "text": [
      "[2025-02-26 20:49:06] Processed 1500 validation batches\n"
     ]
    },
    {
     "name": "stderr",
     "output_type": "stream",
     "text": [
      "Epoch 12 [Val]:  76%|███████▌  | 1520/2004 [06:27<00:53,  9.01it/s, Loss=0.0005, Acc=98.97%]"
     ]
    },
    {
     "name": "stdout",
     "output_type": "stream",
     "text": [
      "[2025-02-26 20:49:08] Processed 1520 validation batches\n"
     ]
    },
    {
     "name": "stderr",
     "output_type": "stream",
     "text": [
      "Epoch 12 [Val]:  77%|███████▋  | 1540/2004 [06:31<03:42,  2.09it/s, Loss=0.0000, Acc=98.99%]"
     ]
    },
    {
     "name": "stdout",
     "output_type": "stream",
     "text": [
      "[2025-02-26 20:49:12] Processed 1540 validation batches\n"
     ]
    },
    {
     "name": "stderr",
     "output_type": "stream",
     "text": [
      "Epoch 12 [Val]:  78%|███████▊  | 1560/2004 [06:40<02:15,  3.29it/s, Loss=0.0000, Acc=99.00%]"
     ]
    },
    {
     "name": "stdout",
     "output_type": "stream",
     "text": [
      "[2025-02-26 20:49:21] Processed 1560 validation batches\n"
     ]
    },
    {
     "name": "stderr",
     "output_type": "stream",
     "text": [
      "Epoch 12 [Val]:  79%|███████▉  | 1580/2004 [06:47<01:56,  3.64it/s, Loss=0.0005, Acc=99.01%]"
     ]
    },
    {
     "name": "stdout",
     "output_type": "stream",
     "text": [
      "[2025-02-26 20:49:29] Processed 1580 validation batches\n"
     ]
    },
    {
     "name": "stderr",
     "output_type": "stream",
     "text": [
      "Epoch 12 [Val]:  80%|███████▉  | 1600/2004 [06:50<00:45,  8.80it/s, Loss=0.0004, Acc=99.02%]"
     ]
    },
    {
     "name": "stdout",
     "output_type": "stream",
     "text": [
      "[2025-02-26 20:49:31] Processed 1600 validation batches\n"
     ]
    },
    {
     "name": "stderr",
     "output_type": "stream",
     "text": [
      "Epoch 12 [Val]:  81%|████████  | 1620/2004 [07:05<06:51,  1.07s/it, Loss=0.0028, Acc=99.03%]"
     ]
    },
    {
     "name": "stdout",
     "output_type": "stream",
     "text": [
      "[2025-02-26 20:49:46] Processed 1620 validation batches\n"
     ]
    },
    {
     "name": "stderr",
     "output_type": "stream",
     "text": [
      "Epoch 12 [Val]:  82%|████████▏ | 1640/2004 [07:25<02:03,  2.94it/s, Loss=0.0068, Acc=99.04%]"
     ]
    },
    {
     "name": "stdout",
     "output_type": "stream",
     "text": [
      "[2025-02-26 20:50:07] Processed 1640 validation batches\n"
     ]
    },
    {
     "name": "stderr",
     "output_type": "stream",
     "text": [
      "Epoch 12 [Val]:  83%|████████▎ | 1660/2004 [07:30<01:18,  4.40it/s, Loss=0.0439, Acc=99.03%]"
     ]
    },
    {
     "name": "stdout",
     "output_type": "stream",
     "text": [
      "[2025-02-26 20:50:11] Processed 1660 validation batches\n"
     ]
    },
    {
     "name": "stderr",
     "output_type": "stream",
     "text": [
      "Epoch 12 [Val]:  84%|████████▍ | 1680/2004 [07:35<01:14,  4.36it/s, Loss=0.0160, Acc=99.01%]"
     ]
    },
    {
     "name": "stdout",
     "output_type": "stream",
     "text": [
      "[2025-02-26 20:50:17] Processed 1680 validation batches\n"
     ]
    },
    {
     "name": "stderr",
     "output_type": "stream",
     "text": [
      "Epoch 12 [Val]:  85%|████████▍ | 1700/2004 [07:40<01:06,  4.57it/s, Loss=0.2021, Acc=99.01%]"
     ]
    },
    {
     "name": "stdout",
     "output_type": "stream",
     "text": [
      "[2025-02-26 20:50:21] Processed 1700 validation batches\n"
     ]
    },
    {
     "name": "stderr",
     "output_type": "stream",
     "text": [
      "Epoch 12 [Val]:  86%|████████▌ | 1720/2004 [07:44<00:59,  4.75it/s, Loss=0.0000, Acc=99.02%]"
     ]
    },
    {
     "name": "stdout",
     "output_type": "stream",
     "text": [
      "[2025-02-26 20:50:26] Processed 1720 validation batches\n"
     ]
    },
    {
     "name": "stderr",
     "output_type": "stream",
     "text": [
      "Epoch 12 [Val]:  87%|████████▋ | 1740/2004 [07:49<00:56,  4.69it/s, Loss=0.0000, Acc=99.03%]"
     ]
    },
    {
     "name": "stdout",
     "output_type": "stream",
     "text": [
      "[2025-02-26 20:50:30] Processed 1740 validation batches\n"
     ]
    },
    {
     "name": "stderr",
     "output_type": "stream",
     "text": [
      "Epoch 12 [Val]:  88%|████████▊ | 1760/2004 [07:53<00:54,  4.51it/s, Loss=0.0000, Acc=99.04%]"
     ]
    },
    {
     "name": "stdout",
     "output_type": "stream",
     "text": [
      "[2025-02-26 20:50:34] Processed 1760 validation batches\n"
     ]
    },
    {
     "name": "stderr",
     "output_type": "stream",
     "text": [
      "Epoch 12 [Val]:  89%|████████▉ | 1780/2004 [08:03<01:47,  2.09it/s, Loss=0.0000, Acc=99.05%]"
     ]
    },
    {
     "name": "stdout",
     "output_type": "stream",
     "text": [
      "[2025-02-26 20:50:44] Processed 1780 validation batches\n"
     ]
    },
    {
     "name": "stderr",
     "output_type": "stream",
     "text": [
      "Epoch 12 [Val]:  90%|████████▉ | 1800/2004 [08:08<00:41,  4.89it/s, Loss=0.0005, Acc=99.06%]"
     ]
    },
    {
     "name": "stdout",
     "output_type": "stream",
     "text": [
      "[2025-02-26 20:50:49] Processed 1800 validation batches\n"
     ]
    },
    {
     "name": "stderr",
     "output_type": "stream",
     "text": [
      "Epoch 12 [Val]:  91%|█████████ | 1820/2004 [08:14<00:40,  4.60it/s, Loss=0.0000, Acc=99.07%]"
     ]
    },
    {
     "name": "stdout",
     "output_type": "stream",
     "text": [
      "[2025-02-26 20:50:55] Processed 1820 validation batches\n"
     ]
    },
    {
     "name": "stderr",
     "output_type": "stream",
     "text": [
      "Epoch 12 [Val]:  92%|█████████▏| 1840/2004 [08:18<00:36,  4.47it/s, Loss=0.0001, Acc=99.08%]"
     ]
    },
    {
     "name": "stdout",
     "output_type": "stream",
     "text": [
      "[2025-02-26 20:50:59] Processed 1840 validation batches\n"
     ]
    },
    {
     "name": "stderr",
     "output_type": "stream",
     "text": [
      "Epoch 12 [Val]:  93%|█████████▎| 1860/2004 [08:23<00:30,  4.68it/s, Loss=0.0000, Acc=99.09%]"
     ]
    },
    {
     "name": "stdout",
     "output_type": "stream",
     "text": [
      "[2025-02-26 20:51:04] Processed 1860 validation batches\n"
     ]
    },
    {
     "name": "stderr",
     "output_type": "stream",
     "text": [
      "Epoch 12 [Val]:  94%|█████████▍| 1880/2004 [08:37<01:52,  1.10it/s, Loss=0.0000, Acc=99.10%]"
     ]
    },
    {
     "name": "stdout",
     "output_type": "stream",
     "text": [
      "[2025-02-26 20:51:18] Processed 1880 validation batches\n"
     ]
    },
    {
     "name": "stderr",
     "output_type": "stream",
     "text": [
      "Epoch 12 [Val]:  95%|█████████▍| 1900/2004 [08:44<00:33,  3.12it/s, Loss=0.0000, Acc=99.11%]"
     ]
    },
    {
     "name": "stdout",
     "output_type": "stream",
     "text": [
      "[2025-02-26 20:51:25] Processed 1900 validation batches\n"
     ]
    },
    {
     "name": "stderr",
     "output_type": "stream",
     "text": [
      "Epoch 12 [Val]:  96%|█████████▌| 1920/2004 [08:51<00:10,  7.72it/s, Loss=0.0005, Acc=99.12%]"
     ]
    },
    {
     "name": "stdout",
     "output_type": "stream",
     "text": [
      "[2025-02-26 20:51:33] Processed 1920 validation batches\n"
     ]
    },
    {
     "name": "stderr",
     "output_type": "stream",
     "text": [
      "Epoch 12 [Val]:  97%|█████████▋| 1940/2004 [08:56<00:15,  4.25it/s, Loss=0.0052, Acc=99.12%]"
     ]
    },
    {
     "name": "stdout",
     "output_type": "stream",
     "text": [
      "[2025-02-26 20:51:37] Processed 1940 validation batches\n"
     ]
    },
    {
     "name": "stderr",
     "output_type": "stream",
     "text": [
      "Epoch 12 [Val]:  98%|█████████▊| 1960/2004 [09:00<00:09,  4.53it/s, Loss=0.0004, Acc=99.13%]"
     ]
    },
    {
     "name": "stdout",
     "output_type": "stream",
     "text": [
      "[2025-02-26 20:51:41] Processed 1960 validation batches\n"
     ]
    },
    {
     "name": "stderr",
     "output_type": "stream",
     "text": [
      "Epoch 12 [Val]:  99%|█████████▉| 1979/2004 [09:03<00:02,  8.47it/s, Loss=0.0266, Acc=99.10%]"
     ]
    },
    {
     "name": "stdout",
     "output_type": "stream",
     "text": [
      "[2025-02-26 20:51:44] Processed 1980 validation batches\n"
     ]
    },
    {
     "name": "stderr",
     "output_type": "stream",
     "text": [
      "Epoch 12 [Val]: 100%|█████████▉| 1999/2004 [09:05<00:00, 11.24it/s, Loss=0.0026, Acc=99.07%]"
     ]
    },
    {
     "name": "stdout",
     "output_type": "stream",
     "text": [
      "[2025-02-26 20:51:46] Processed 2000 validation batches\n"
     ]
    },
    {
     "name": "stderr",
     "output_type": "stream",
     "text": [
      "Epoch 12 [Val]: 100%|██████████| 2004/2004 [09:05<00:00,  3.68it/s, Loss=0.0005, Acc=99.07%]"
     ]
    },
    {
     "name": "stdout",
     "output_type": "stream",
     "text": [
      "[2025-02-26 20:51:46] Epoch 12 Results:\n",
      "[2025-02-26 20:51:46] Train Loss: 0.1209 | Train Acc: 96.22%\n",
      "[2025-02-26 20:51:46] Val Loss: 0.0274 | Val Acc: 99.07%\n"
     ]
    },
    {
     "name": "stderr",
     "output_type": "stream",
     "text": [
      "\n"
     ]
    },
    {
     "name": "stdout",
     "output_type": "stream",
     "text": [
      "[2025-02-26 20:51:46] Saved best model\n",
      "[2025-02-26 20:51:46] Starting epoch 13/15\n"
     ]
    },
    {
     "name": "stderr",
     "output_type": "stream",
     "text": [
      "Epoch 13 [Train]:   0%|          | 0/2004 [00:00<?, ?it/s, Loss=0.0640, Acc=100.00%]"
     ]
    },
    {
     "name": "stdout",
     "output_type": "stream",
     "text": [
      "[2025-02-26 20:51:47] Processed 0 training batches\n"
     ]
    },
    {
     "name": "stderr",
     "output_type": "stream",
     "text": [
      "Epoch 13 [Train]:   2%|▏         | 50/2004 [00:12<07:21,  4.43it/s, Loss=0.0928, Acc=96.69%]"
     ]
    },
    {
     "name": "stdout",
     "output_type": "stream",
     "text": [
      "[2025-02-26 20:51:58] Processed 50 training batches\n"
     ]
    },
    {
     "name": "stderr",
     "output_type": "stream",
     "text": [
      "Epoch 13 [Train]:   5%|▍         | 100/2004 [00:25<08:04,  3.93it/s, Loss=0.0102, Acc=95.98%]"
     ]
    },
    {
     "name": "stdout",
     "output_type": "stream",
     "text": [
      "[2025-02-26 20:52:12] Processed 100 training batches\n"
     ]
    },
    {
     "name": "stderr",
     "output_type": "stream",
     "text": [
      "Epoch 13 [Train]:   7%|▋         | 150/2004 [00:37<07:01,  4.39it/s, Loss=0.0457, Acc=96.15%]"
     ]
    },
    {
     "name": "stdout",
     "output_type": "stream",
     "text": [
      "[2025-02-26 20:52:24] Processed 150 training batches\n"
     ]
    },
    {
     "name": "stderr",
     "output_type": "stream",
     "text": [
      "Epoch 13 [Train]:  10%|▉         | 200/2004 [00:50<06:42,  4.49it/s, Loss=0.0373, Acc=96.30%]"
     ]
    },
    {
     "name": "stdout",
     "output_type": "stream",
     "text": [
      "[2025-02-26 20:52:37] Processed 200 training batches\n"
     ]
    },
    {
     "name": "stderr",
     "output_type": "stream",
     "text": [
      "Epoch 13 [Train]:  12%|█▏        | 250/2004 [01:03<07:43,  3.78it/s, Loss=0.0213, Acc=96.44%]"
     ]
    },
    {
     "name": "stdout",
     "output_type": "stream",
     "text": [
      "[2025-02-26 20:52:50] Processed 250 training batches\n"
     ]
    },
    {
     "name": "stderr",
     "output_type": "stream",
     "text": [
      "Epoch 13 [Train]:  15%|█▍        | 300/2004 [01:17<08:51,  3.21it/s, Loss=0.1748, Acc=96.32%]"
     ]
    },
    {
     "name": "stdout",
     "output_type": "stream",
     "text": [
      "[2025-02-26 20:53:04] Processed 300 training batches\n"
     ]
    },
    {
     "name": "stderr",
     "output_type": "stream",
     "text": [
      "Epoch 13 [Train]:  17%|█▋        | 350/2004 [01:32<08:02,  3.43it/s, Loss=0.0331, Acc=96.40%]"
     ]
    },
    {
     "name": "stdout",
     "output_type": "stream",
     "text": [
      "[2025-02-26 20:53:18] Processed 350 training batches\n"
     ]
    },
    {
     "name": "stderr",
     "output_type": "stream",
     "text": [
      "Epoch 13 [Train]:  20%|█▉        | 400/2004 [01:45<07:32,  3.54it/s, Loss=0.1971, Acc=96.38%]"
     ]
    },
    {
     "name": "stdout",
     "output_type": "stream",
     "text": [
      "[2025-02-26 20:53:32] Processed 400 training batches\n"
     ]
    },
    {
     "name": "stderr",
     "output_type": "stream",
     "text": [
      "Epoch 13 [Train]:  22%|██▏       | 450/2004 [01:58<06:09,  4.20it/s, Loss=0.1807, Acc=96.33%]"
     ]
    },
    {
     "name": "stdout",
     "output_type": "stream",
     "text": [
      "[2025-02-26 20:53:45] Processed 450 training batches\n"
     ]
    },
    {
     "name": "stderr",
     "output_type": "stream",
     "text": [
      "Epoch 13 [Train]:  25%|██▍       | 500/2004 [02:13<07:05,  3.54it/s, Loss=0.3779, Acc=96.28%]"
     ]
    },
    {
     "name": "stdout",
     "output_type": "stream",
     "text": [
      "[2025-02-26 20:54:00] Processed 500 training batches\n"
     ]
    },
    {
     "name": "stderr",
     "output_type": "stream",
     "text": [
      "Epoch 13 [Train]:  27%|██▋       | 550/2004 [02:27<07:51,  3.08it/s, Loss=0.0305, Acc=96.34%]"
     ]
    },
    {
     "name": "stdout",
     "output_type": "stream",
     "text": [
      "[2025-02-26 20:54:14] Processed 550 training batches\n"
     ]
    },
    {
     "name": "stderr",
     "output_type": "stream",
     "text": [
      "Epoch 13 [Train]:  30%|██▉       | 600/2004 [02:41<07:09,  3.27it/s, Loss=0.3151, Acc=96.35%]"
     ]
    },
    {
     "name": "stdout",
     "output_type": "stream",
     "text": [
      "[2025-02-26 20:54:28] Processed 600 training batches\n"
     ]
    },
    {
     "name": "stderr",
     "output_type": "stream",
     "text": [
      "Epoch 13 [Train]:  32%|███▏      | 650/2004 [02:54<05:02,  4.47it/s, Loss=0.1282, Acc=96.44%]"
     ]
    },
    {
     "name": "stdout",
     "output_type": "stream",
     "text": [
      "[2025-02-26 20:54:40] Processed 650 training batches\n"
     ]
    },
    {
     "name": "stderr",
     "output_type": "stream",
     "text": [
      "Epoch 13 [Train]:  35%|███▍      | 700/2004 [03:08<07:33,  2.87it/s, Loss=0.0282, Acc=96.43%]"
     ]
    },
    {
     "name": "stdout",
     "output_type": "stream",
     "text": [
      "[2025-02-26 20:54:55] Processed 700 training batches\n"
     ]
    },
    {
     "name": "stderr",
     "output_type": "stream",
     "text": [
      "Epoch 13 [Train]:  37%|███▋      | 750/2004 [03:22<05:27,  3.83it/s, Loss=0.0136, Acc=96.41%]"
     ]
    },
    {
     "name": "stdout",
     "output_type": "stream",
     "text": [
      "[2025-02-26 20:55:08] Processed 750 training batches\n"
     ]
    },
    {
     "name": "stderr",
     "output_type": "stream",
     "text": [
      "Epoch 13 [Train]:  40%|███▉      | 800/2004 [03:35<05:00,  4.00it/s, Loss=0.0132, Acc=96.38%]"
     ]
    },
    {
     "name": "stdout",
     "output_type": "stream",
     "text": [
      "[2025-02-26 20:55:22] Processed 800 training batches\n"
     ]
    },
    {
     "name": "stderr",
     "output_type": "stream",
     "text": [
      "Epoch 13 [Train]:  42%|████▏     | 850/2004 [03:54<05:24,  3.56it/s, Loss=0.0706, Acc=96.40%]"
     ]
    },
    {
     "name": "stdout",
     "output_type": "stream",
     "text": [
      "[2025-02-26 20:55:40] Processed 850 training batches\n"
     ]
    },
    {
     "name": "stderr",
     "output_type": "stream",
     "text": [
      "Epoch 13 [Train]:  45%|████▍     | 900/2004 [04:08<05:05,  3.61it/s, Loss=0.0399, Acc=96.44%]"
     ]
    },
    {
     "name": "stdout",
     "output_type": "stream",
     "text": [
      "[2025-02-26 20:55:55] Processed 900 training batches\n"
     ]
    },
    {
     "name": "stderr",
     "output_type": "stream",
     "text": [
      "Epoch 13 [Train]:  47%|████▋     | 950/2004 [04:23<04:47,  3.67it/s, Loss=0.0455, Acc=96.51%]"
     ]
    },
    {
     "name": "stdout",
     "output_type": "stream",
     "text": [
      "[2025-02-26 20:56:09] Processed 950 training batches\n"
     ]
    },
    {
     "name": "stderr",
     "output_type": "stream",
     "text": [
      "Epoch 13 [Train]:  50%|████▉     | 1000/2004 [04:37<05:00,  3.34it/s, Loss=0.1748, Acc=96.51%]"
     ]
    },
    {
     "name": "stdout",
     "output_type": "stream",
     "text": [
      "[2025-02-26 20:56:24] Processed 1000 training batches\n"
     ]
    },
    {
     "name": "stderr",
     "output_type": "stream",
     "text": [
      "Epoch 13 [Train]:  52%|█████▏    | 1050/2004 [04:51<04:33,  3.49it/s, Loss=0.1853, Acc=96.48%]"
     ]
    },
    {
     "name": "stdout",
     "output_type": "stream",
     "text": [
      "[2025-02-26 20:56:38] Processed 1050 training batches\n"
     ]
    },
    {
     "name": "stderr",
     "output_type": "stream",
     "text": [
      "Epoch 13 [Train]:  55%|█████▍    | 1100/2004 [05:07<04:41,  3.22it/s, Loss=0.0306, Acc=96.47%]"
     ]
    },
    {
     "name": "stdout",
     "output_type": "stream",
     "text": [
      "[2025-02-26 20:56:54] Processed 1100 training batches\n"
     ]
    },
    {
     "name": "stderr",
     "output_type": "stream",
     "text": [
      "Epoch 13 [Train]:  57%|█████▋    | 1150/2004 [05:21<04:15,  3.34it/s, Loss=0.0569, Acc=96.50%]"
     ]
    },
    {
     "name": "stdout",
     "output_type": "stream",
     "text": [
      "[2025-02-26 20:57:08] Processed 1150 training batches\n"
     ]
    },
    {
     "name": "stderr",
     "output_type": "stream",
     "text": [
      "Epoch 13 [Train]:  60%|█████▉    | 1200/2004 [05:35<03:22,  3.97it/s, Loss=0.0683, Acc=96.50%]"
     ]
    },
    {
     "name": "stdout",
     "output_type": "stream",
     "text": [
      "[2025-02-26 20:57:22] Processed 1200 training batches\n"
     ]
    },
    {
     "name": "stderr",
     "output_type": "stream",
     "text": [
      "Epoch 13 [Train]:  62%|██████▏   | 1250/2004 [05:51<04:09,  3.03it/s, Loss=0.0968, Acc=96.46%]"
     ]
    },
    {
     "name": "stdout",
     "output_type": "stream",
     "text": [
      "[2025-02-26 20:57:38] Processed 1250 training batches\n"
     ]
    },
    {
     "name": "stderr",
     "output_type": "stream",
     "text": [
      "Epoch 13 [Train]:  65%|██████▍   | 1300/2004 [06:05<03:05,  3.79it/s, Loss=0.0596, Acc=96.45%]"
     ]
    },
    {
     "name": "stdout",
     "output_type": "stream",
     "text": [
      "[2025-02-26 20:57:52] Processed 1300 training batches\n"
     ]
    },
    {
     "name": "stderr",
     "output_type": "stream",
     "text": [
      "Epoch 13 [Train]:  67%|██████▋   | 1350/2004 [06:21<03:08,  3.46it/s, Loss=0.2988, Acc=96.50%]"
     ]
    },
    {
     "name": "stdout",
     "output_type": "stream",
     "text": [
      "[2025-02-26 20:58:08] Processed 1350 training batches\n"
     ]
    },
    {
     "name": "stderr",
     "output_type": "stream",
     "text": [
      "Epoch 13 [Train]:  70%|██████▉   | 1400/2004 [06:36<03:06,  3.24it/s, Loss=0.1220, Acc=96.51%]"
     ]
    },
    {
     "name": "stdout",
     "output_type": "stream",
     "text": [
      "[2025-02-26 20:58:23] Processed 1400 training batches\n"
     ]
    },
    {
     "name": "stderr",
     "output_type": "stream",
     "text": [
      "Epoch 13 [Train]:  72%|███████▏  | 1450/2004 [06:51<02:39,  3.46it/s, Loss=0.0752, Acc=96.51%]"
     ]
    },
    {
     "name": "stdout",
     "output_type": "stream",
     "text": [
      "[2025-02-26 20:58:38] Processed 1450 training batches\n"
     ]
    },
    {
     "name": "stderr",
     "output_type": "stream",
     "text": [
      "Epoch 13 [Train]:  75%|███████▍  | 1500/2004 [07:06<02:07,  3.97it/s, Loss=0.0292, Acc=96.53%]"
     ]
    },
    {
     "name": "stdout",
     "output_type": "stream",
     "text": [
      "[2025-02-26 20:58:53] Processed 1500 training batches\n"
     ]
    },
    {
     "name": "stderr",
     "output_type": "stream",
     "text": [
      "Epoch 13 [Train]:  77%|███████▋  | 1550/2004 [07:20<02:18,  3.27it/s, Loss=0.0279, Acc=96.55%]"
     ]
    },
    {
     "name": "stdout",
     "output_type": "stream",
     "text": [
      "[2025-02-26 20:59:07] Processed 1550 training batches\n"
     ]
    },
    {
     "name": "stderr",
     "output_type": "stream",
     "text": [
      "Epoch 13 [Train]:  80%|███████▉  | 1600/2004 [07:36<02:13,  3.03it/s, Loss=0.3022, Acc=96.57%]"
     ]
    },
    {
     "name": "stdout",
     "output_type": "stream",
     "text": [
      "[2025-02-26 20:59:23] Processed 1600 training batches\n"
     ]
    },
    {
     "name": "stderr",
     "output_type": "stream",
     "text": [
      "Epoch 13 [Train]:  82%|████████▏ | 1650/2004 [07:50<02:05,  2.82it/s, Loss=0.2789, Acc=96.58%]"
     ]
    },
    {
     "name": "stdout",
     "output_type": "stream",
     "text": [
      "[2025-02-26 20:59:37] Processed 1650 training batches\n"
     ]
    },
    {
     "name": "stderr",
     "output_type": "stream",
     "text": [
      "Epoch 13 [Train]:  85%|████████▍ | 1700/2004 [08:05<01:28,  3.45it/s, Loss=0.0205, Acc=96.60%]"
     ]
    },
    {
     "name": "stdout",
     "output_type": "stream",
     "text": [
      "[2025-02-26 20:59:52] Processed 1700 training batches\n"
     ]
    },
    {
     "name": "stderr",
     "output_type": "stream",
     "text": [
      "Epoch 13 [Train]:  87%|████████▋ | 1750/2004 [08:20<01:12,  3.50it/s, Loss=0.0088, Acc=96.63%]"
     ]
    },
    {
     "name": "stdout",
     "output_type": "stream",
     "text": [
      "[2025-02-26 21:00:07] Processed 1750 training batches\n"
     ]
    },
    {
     "name": "stderr",
     "output_type": "stream",
     "text": [
      "Epoch 13 [Train]:  90%|████████▉ | 1800/2004 [08:34<00:59,  3.45it/s, Loss=0.0276, Acc=96.63%]"
     ]
    },
    {
     "name": "stdout",
     "output_type": "stream",
     "text": [
      "[2025-02-26 21:00:21] Processed 1800 training batches\n"
     ]
    },
    {
     "name": "stderr",
     "output_type": "stream",
     "text": [
      "Epoch 13 [Train]:  92%|█████████▏| 1850/2004 [08:49<00:43,  3.52it/s, Loss=0.0542, Acc=96.65%]"
     ]
    },
    {
     "name": "stdout",
     "output_type": "stream",
     "text": [
      "[2025-02-26 21:00:36] Processed 1850 training batches\n"
     ]
    },
    {
     "name": "stderr",
     "output_type": "stream",
     "text": [
      "Epoch 13 [Train]:  95%|█████████▍| 1900/2004 [09:05<00:27,  3.82it/s, Loss=0.2692, Acc=96.68%]"
     ]
    },
    {
     "name": "stdout",
     "output_type": "stream",
     "text": [
      "[2025-02-26 21:00:52] Processed 1900 training batches\n"
     ]
    },
    {
     "name": "stderr",
     "output_type": "stream",
     "text": [
      "Epoch 13 [Train]:  97%|█████████▋| 1950/2004 [09:20<00:14,  3.80it/s, Loss=0.0284, Acc=96.70%]"
     ]
    },
    {
     "name": "stdout",
     "output_type": "stream",
     "text": [
      "[2025-02-26 21:01:07] Processed 1950 training batches\n"
     ]
    },
    {
     "name": "stderr",
     "output_type": "stream",
     "text": [
      "Epoch 13 [Train]: 100%|█████████▉| 2000/2004 [09:36<00:01,  3.44it/s, Loss=0.0109, Acc=96.68%]"
     ]
    },
    {
     "name": "stdout",
     "output_type": "stream",
     "text": [
      "[2025-02-26 21:01:23] Processed 2000 training batches\n"
     ]
    },
    {
     "name": "stderr",
     "output_type": "stream",
     "text": [
      "Epoch 13 [Train]: 100%|██████████| 2004/2004 [09:37<00:00,  3.47it/s, Loss=1.7617, Acc=96.67%]\n",
      "Epoch 13 [Val]:   0%|          | 0/2004 [00:00<?, ?it/s, Loss=0.1085, Acc=100.00%]"
     ]
    },
    {
     "name": "stdout",
     "output_type": "stream",
     "text": [
      "[2025-02-26 21:01:24] Processed 0 validation batches\n"
     ]
    },
    {
     "name": "stderr",
     "output_type": "stream",
     "text": [
      "Epoch 13 [Val]:   1%|          | 20/2004 [00:07<09:42,  3.41it/s, Loss=0.0409, Acc=99.40%]"
     ]
    },
    {
     "name": "stdout",
     "output_type": "stream",
     "text": [
      "[2025-02-26 21:01:31] Processed 20 validation batches\n"
     ]
    },
    {
     "name": "stderr",
     "output_type": "stream",
     "text": [
      "Epoch 13 [Val]:   2%|▏         | 40/2004 [00:12<08:59,  3.64it/s, Loss=0.0028, Acc=99.39%]"
     ]
    },
    {
     "name": "stdout",
     "output_type": "stream",
     "text": [
      "[2025-02-26 21:01:36] Processed 40 validation batches\n"
     ]
    },
    {
     "name": "stderr",
     "output_type": "stream",
     "text": [
      "Epoch 13 [Val]:   3%|▎         | 60/2004 [00:19<12:09,  2.67it/s, Loss=0.0142, Acc=98.46%]"
     ]
    },
    {
     "name": "stdout",
     "output_type": "stream",
     "text": [
      "[2025-02-26 21:01:44] Processed 60 validation batches\n"
     ]
    },
    {
     "name": "stderr",
     "output_type": "stream",
     "text": [
      "Epoch 13 [Val]:   4%|▍         | 80/2004 [00:24<06:50,  4.68it/s, Loss=0.0070, Acc=98.61%]"
     ]
    },
    {
     "name": "stdout",
     "output_type": "stream",
     "text": [
      "[2025-02-26 21:01:48] Processed 80 validation batches\n"
     ]
    },
    {
     "name": "stderr",
     "output_type": "stream",
     "text": [
      "Epoch 13 [Val]:   5%|▍         | 100/2004 [00:34<10:12,  3.11it/s, Loss=0.0237, Acc=98.70%]"
     ]
    },
    {
     "name": "stdout",
     "output_type": "stream",
     "text": [
      "[2025-02-26 21:01:58] Processed 100 validation batches\n"
     ]
    },
    {
     "name": "stderr",
     "output_type": "stream",
     "text": [
      "Epoch 13 [Val]:   6%|▌         | 120/2004 [00:41<07:50,  4.00it/s, Loss=0.4445, Acc=98.24%]"
     ]
    },
    {
     "name": "stdout",
     "output_type": "stream",
     "text": [
      "[2025-02-26 21:02:05] Processed 120 validation batches\n"
     ]
    },
    {
     "name": "stderr",
     "output_type": "stream",
     "text": [
      "Epoch 13 [Val]:   7%|▋         | 140/2004 [00:52<32:37,  1.05s/it, Loss=0.0041, Acc=96.99%]"
     ]
    },
    {
     "name": "stdout",
     "output_type": "stream",
     "text": [
      "[2025-02-26 21:02:16] Processed 140 validation batches\n"
     ]
    },
    {
     "name": "stderr",
     "output_type": "stream",
     "text": [
      "Epoch 13 [Val]:   8%|▊         | 160/2004 [00:57<06:55,  4.44it/s, Loss=0.0051, Acc=97.17%]"
     ]
    },
    {
     "name": "stdout",
     "output_type": "stream",
     "text": [
      "[2025-02-26 21:02:21] Processed 160 validation batches\n"
     ]
    },
    {
     "name": "stderr",
     "output_type": "stream",
     "text": [
      "Epoch 13 [Val]:   9%|▉         | 180/2004 [01:04<11:48,  2.57it/s, Loss=0.1268, Acc=97.13%]"
     ]
    },
    {
     "name": "stdout",
     "output_type": "stream",
     "text": [
      "[2025-02-26 21:02:28] Processed 180 validation batches\n"
     ]
    },
    {
     "name": "stderr",
     "output_type": "stream",
     "text": [
      "Epoch 13 [Val]:  10%|▉         | 200/2004 [01:14<17:27,  1.72it/s, Loss=0.0070, Acc=96.89%]"
     ]
    },
    {
     "name": "stdout",
     "output_type": "stream",
     "text": [
      "[2025-02-26 21:02:38] Processed 200 validation batches\n"
     ]
    },
    {
     "name": "stderr",
     "output_type": "stream",
     "text": [
      "Epoch 13 [Val]:  11%|█         | 220/2004 [01:28<04:49,  6.17it/s, Loss=0.0002, Acc=97.17%]"
     ]
    },
    {
     "name": "stdout",
     "output_type": "stream",
     "text": [
      "[2025-02-26 21:02:52] Processed 220 validation batches\n"
     ]
    },
    {
     "name": "stderr",
     "output_type": "stream",
     "text": [
      "Epoch 13 [Val]:  12%|█▏        | 240/2004 [01:31<03:17,  8.91it/s, Loss=0.0000, Acc=97.41%]"
     ]
    },
    {
     "name": "stdout",
     "output_type": "stream",
     "text": [
      "[2025-02-26 21:02:55] Processed 240 validation batches\n"
     ]
    },
    {
     "name": "stderr",
     "output_type": "stream",
     "text": [
      "Epoch 13 [Val]:  13%|█▎        | 260/2004 [01:33<03:13,  9.04it/s, Loss=0.0000, Acc=97.61%]"
     ]
    },
    {
     "name": "stdout",
     "output_type": "stream",
     "text": [
      "[2025-02-26 21:02:57] Processed 260 validation batches\n"
     ]
    },
    {
     "name": "stderr",
     "output_type": "stream",
     "text": [
      "Epoch 13 [Val]:  14%|█▍        | 280/2004 [01:35<03:08,  9.17it/s, Loss=0.0000, Acc=97.78%]"
     ]
    },
    {
     "name": "stdout",
     "output_type": "stream",
     "text": [
      "[2025-02-26 21:02:59] Processed 280 validation batches\n"
     ]
    },
    {
     "name": "stderr",
     "output_type": "stream",
     "text": [
      "Epoch 13 [Val]:  15%|█▍        | 300/2004 [01:37<03:10,  8.93it/s, Loss=0.0002, Acc=97.92%]"
     ]
    },
    {
     "name": "stdout",
     "output_type": "stream",
     "text": [
      "[2025-02-26 21:03:01] Processed 300 validation batches\n"
     ]
    },
    {
     "name": "stderr",
     "output_type": "stream",
     "text": [
      "Epoch 13 [Val]:  16%|█▌        | 320/2004 [01:39<03:08,  8.93it/s, Loss=0.0006, Acc=98.05%]"
     ]
    },
    {
     "name": "stdout",
     "output_type": "stream",
     "text": [
      "[2025-02-26 21:03:03] Processed 320 validation batches\n"
     ]
    },
    {
     "name": "stderr",
     "output_type": "stream",
     "text": [
      "Epoch 13 [Val]:  17%|█▋        | 340/2004 [01:42<03:04,  9.00it/s, Loss=0.0002, Acc=98.17%]"
     ]
    },
    {
     "name": "stdout",
     "output_type": "stream",
     "text": [
      "[2025-02-26 21:03:06] Processed 340 validation batches\n"
     ]
    },
    {
     "name": "stderr",
     "output_type": "stream",
     "text": [
      "Epoch 13 [Val]:  18%|█▊        | 360/2004 [01:44<03:06,  8.83it/s, Loss=0.0013, Acc=98.27%]"
     ]
    },
    {
     "name": "stdout",
     "output_type": "stream",
     "text": [
      "[2025-02-26 21:03:08] Processed 360 validation batches\n"
     ]
    },
    {
     "name": "stderr",
     "output_type": "stream",
     "text": [
      "Epoch 13 [Val]:  19%|█▉        | 380/2004 [01:46<03:04,  8.83it/s, Loss=0.0006, Acc=98.36%]"
     ]
    },
    {
     "name": "stdout",
     "output_type": "stream",
     "text": [
      "[2025-02-26 21:03:10] Processed 380 validation batches\n"
     ]
    },
    {
     "name": "stderr",
     "output_type": "stream",
     "text": [
      "Epoch 13 [Val]:  20%|█▉        | 400/2004 [01:48<03:03,  8.74it/s, Loss=0.0088, Acc=98.44%]"
     ]
    },
    {
     "name": "stdout",
     "output_type": "stream",
     "text": [
      "[2025-02-26 21:03:12] Processed 400 validation batches\n"
     ]
    },
    {
     "name": "stderr",
     "output_type": "stream",
     "text": [
      "Epoch 13 [Val]:  21%|██        | 420/2004 [01:51<02:54,  9.08it/s, Loss=0.0024, Acc=98.52%]"
     ]
    },
    {
     "name": "stdout",
     "output_type": "stream",
     "text": [
      "[2025-02-26 21:03:15] Processed 420 validation batches\n"
     ]
    },
    {
     "name": "stderr",
     "output_type": "stream",
     "text": [
      "Epoch 13 [Val]:  22%|██▏       | 440/2004 [01:53<02:59,  8.72it/s, Loss=0.0007, Acc=98.58%]"
     ]
    },
    {
     "name": "stdout",
     "output_type": "stream",
     "text": [
      "[2025-02-26 21:03:17] Processed 440 validation batches\n"
     ]
    },
    {
     "name": "stderr",
     "output_type": "stream",
     "text": [
      "Epoch 13 [Val]:  23%|██▎       | 460/2004 [02:06<11:53,  2.16it/s, Loss=0.0202, Acc=98.60%]"
     ]
    },
    {
     "name": "stdout",
     "output_type": "stream",
     "text": [
      "[2025-02-26 21:03:30] Processed 460 validation batches\n"
     ]
    },
    {
     "name": "stderr",
     "output_type": "stream",
     "text": [
      "Epoch 13 [Val]:  24%|██▍       | 480/2004 [02:12<07:36,  3.34it/s, Loss=0.0892, Acc=98.60%]"
     ]
    },
    {
     "name": "stdout",
     "output_type": "stream",
     "text": [
      "[2025-02-26 21:03:36] Processed 480 validation batches\n"
     ]
    },
    {
     "name": "stderr",
     "output_type": "stream",
     "text": [
      "Epoch 13 [Val]:  25%|██▍       | 500/2004 [02:18<02:52,  8.71it/s, Loss=0.0037, Acc=98.65%]"
     ]
    },
    {
     "name": "stdout",
     "output_type": "stream",
     "text": [
      "[2025-02-26 21:03:42] Processed 500 validation batches\n"
     ]
    },
    {
     "name": "stderr",
     "output_type": "stream",
     "text": [
      "Epoch 13 [Val]:  26%|██▌       | 520/2004 [02:20<02:46,  8.91it/s, Loss=0.0035, Acc=98.70%]"
     ]
    },
    {
     "name": "stdout",
     "output_type": "stream",
     "text": [
      "[2025-02-26 21:03:45] Processed 520 validation batches\n"
     ]
    },
    {
     "name": "stderr",
     "output_type": "stream",
     "text": [
      "Epoch 13 [Val]:  27%|██▋       | 540/2004 [02:23<04:13,  5.78it/s, Loss=0.0023, Acc=98.75%]"
     ]
    },
    {
     "name": "stdout",
     "output_type": "stream",
     "text": [
      "[2025-02-26 21:03:47] Processed 540 validation batches\n"
     ]
    },
    {
     "name": "stderr",
     "output_type": "stream",
     "text": [
      "Epoch 13 [Val]:  28%|██▊       | 560/2004 [02:26<03:01,  7.97it/s, Loss=0.0014, Acc=98.80%]"
     ]
    },
    {
     "name": "stdout",
     "output_type": "stream",
     "text": [
      "[2025-02-26 21:03:50] Processed 560 validation batches\n"
     ]
    },
    {
     "name": "stderr",
     "output_type": "stream",
     "text": [
      "Epoch 13 [Val]:  29%|██▉       | 580/2004 [02:30<06:44,  3.52it/s, Loss=0.0004, Acc=98.83%]"
     ]
    },
    {
     "name": "stdout",
     "output_type": "stream",
     "text": [
      "[2025-02-26 21:03:54] Processed 580 validation batches\n"
     ]
    },
    {
     "name": "stderr",
     "output_type": "stream",
     "text": [
      "Epoch 13 [Val]:  30%|██▉       | 600/2004 [02:33<02:52,  8.14it/s, Loss=0.0004, Acc=98.87%]"
     ]
    },
    {
     "name": "stdout",
     "output_type": "stream",
     "text": [
      "[2025-02-26 21:03:57] Processed 600 validation batches\n"
     ]
    },
    {
     "name": "stderr",
     "output_type": "stream",
     "text": [
      "Epoch 13 [Val]:  31%|███       | 620/2004 [02:35<02:46,  8.31it/s, Loss=0.0000, Acc=98.90%]"
     ]
    },
    {
     "name": "stdout",
     "output_type": "stream",
     "text": [
      "[2025-02-26 21:03:59] Processed 620 validation batches\n"
     ]
    },
    {
     "name": "stderr",
     "output_type": "stream",
     "text": [
      "Epoch 13 [Val]:  32%|███▏      | 640/2004 [02:38<02:44,  8.32it/s, Loss=0.0001, Acc=98.94%]"
     ]
    },
    {
     "name": "stdout",
     "output_type": "stream",
     "text": [
      "[2025-02-26 21:04:02] Processed 640 validation batches\n"
     ]
    },
    {
     "name": "stderr",
     "output_type": "stream",
     "text": [
      "Epoch 13 [Val]:  33%|███▎      | 660/2004 [02:40<02:43,  8.20it/s, Loss=0.0000, Acc=98.97%]"
     ]
    },
    {
     "name": "stdout",
     "output_type": "stream",
     "text": [
      "[2025-02-26 21:04:04] Processed 660 validation batches\n"
     ]
    },
    {
     "name": "stderr",
     "output_type": "stream",
     "text": [
      "Epoch 13 [Val]:  34%|███▍      | 680/2004 [02:43<02:48,  7.85it/s, Loss=0.0000, Acc=99.00%]"
     ]
    },
    {
     "name": "stdout",
     "output_type": "stream",
     "text": [
      "[2025-02-26 21:04:07] Processed 680 validation batches\n"
     ]
    },
    {
     "name": "stderr",
     "output_type": "stream",
     "text": [
      "Epoch 13 [Val]:  35%|███▍      | 700/2004 [02:45<02:41,  8.09it/s, Loss=0.0000, Acc=99.03%]"
     ]
    },
    {
     "name": "stdout",
     "output_type": "stream",
     "text": [
      "[2025-02-26 21:04:10] Processed 700 validation batches\n"
     ]
    },
    {
     "name": "stderr",
     "output_type": "stream",
     "text": [
      "Epoch 13 [Val]:  36%|███▌      | 720/2004 [02:48<02:40,  8.02it/s, Loss=0.0001, Acc=99.06%]"
     ]
    },
    {
     "name": "stdout",
     "output_type": "stream",
     "text": [
      "[2025-02-26 21:04:12] Processed 720 validation batches\n"
     ]
    },
    {
     "name": "stderr",
     "output_type": "stream",
     "text": [
      "Epoch 13 [Val]:  37%|███▋      | 740/2004 [02:52<02:36,  8.09it/s, Loss=0.0002, Acc=99.08%]"
     ]
    },
    {
     "name": "stdout",
     "output_type": "stream",
     "text": [
      "[2025-02-26 21:04:16] Processed 740 validation batches\n"
     ]
    },
    {
     "name": "stderr",
     "output_type": "stream",
     "text": [
      "Epoch 13 [Val]:  38%|███▊      | 760/2004 [03:03<06:43,  3.08it/s, Loss=0.0000, Acc=99.10%]"
     ]
    },
    {
     "name": "stdout",
     "output_type": "stream",
     "text": [
      "[2025-02-26 21:04:27] Processed 760 validation batches\n"
     ]
    },
    {
     "name": "stderr",
     "output_type": "stream",
     "text": [
      "Epoch 13 [Val]:  39%|███▉      | 780/2004 [03:12<06:49,  2.99it/s, Loss=0.0001, Acc=99.13%]"
     ]
    },
    {
     "name": "stdout",
     "output_type": "stream",
     "text": [
      "[2025-02-26 21:04:36] Processed 780 validation batches\n"
     ]
    },
    {
     "name": "stderr",
     "output_type": "stream",
     "text": [
      "Epoch 13 [Val]:  40%|███▉      | 800/2004 [03:14<02:31,  7.92it/s, Loss=0.0000, Acc=99.15%]"
     ]
    },
    {
     "name": "stdout",
     "output_type": "stream",
     "text": [
      "[2025-02-26 21:04:38] Processed 800 validation batches\n"
     ]
    },
    {
     "name": "stderr",
     "output_type": "stream",
     "text": [
      "Epoch 13 [Val]:  41%|████      | 820/2004 [03:17<02:19,  8.50it/s, Loss=0.0004, Acc=99.17%]"
     ]
    },
    {
     "name": "stdout",
     "output_type": "stream",
     "text": [
      "[2025-02-26 21:04:41] Processed 820 validation batches\n"
     ]
    },
    {
     "name": "stderr",
     "output_type": "stream",
     "text": [
      "Epoch 13 [Val]:  42%|████▏     | 840/2004 [03:22<04:16,  4.55it/s, Loss=0.0079, Acc=99.18%]"
     ]
    },
    {
     "name": "stdout",
     "output_type": "stream",
     "text": [
      "[2025-02-26 21:04:46] Processed 840 validation batches\n"
     ]
    },
    {
     "name": "stderr",
     "output_type": "stream",
     "text": [
      "Epoch 13 [Val]:  43%|████▎     | 860/2004 [03:28<08:53,  2.14it/s, Loss=0.1588, Acc=99.19%]"
     ]
    },
    {
     "name": "stdout",
     "output_type": "stream",
     "text": [
      "[2025-02-26 21:04:52] Processed 860 validation batches\n"
     ]
    },
    {
     "name": "stderr",
     "output_type": "stream",
     "text": [
      "Epoch 13 [Val]:  44%|████▍     | 880/2004 [03:32<03:49,  4.90it/s, Loss=0.1318, Acc=99.12%]"
     ]
    },
    {
     "name": "stdout",
     "output_type": "stream",
     "text": [
      "[2025-02-26 21:04:56] Processed 880 validation batches\n"
     ]
    },
    {
     "name": "stderr",
     "output_type": "stream",
     "text": [
      "Epoch 13 [Val]:  45%|████▍     | 900/2004 [03:36<03:42,  4.97it/s, Loss=0.0006, Acc=99.06%]"
     ]
    },
    {
     "name": "stdout",
     "output_type": "stream",
     "text": [
      "[2025-02-26 21:05:00] Processed 900 validation batches\n"
     ]
    },
    {
     "name": "stderr",
     "output_type": "stream",
     "text": [
      "Epoch 13 [Val]:  46%|████▌     | 920/2004 [03:41<05:20,  3.38it/s, Loss=0.0068, Acc=99.07%]"
     ]
    },
    {
     "name": "stdout",
     "output_type": "stream",
     "text": [
      "[2025-02-26 21:05:05] Processed 920 validation batches\n"
     ]
    },
    {
     "name": "stderr",
     "output_type": "stream",
     "text": [
      "Epoch 13 [Val]:  47%|████▋     | 940/2004 [03:47<03:38,  4.86it/s, Loss=0.0216, Acc=99.04%]"
     ]
    },
    {
     "name": "stdout",
     "output_type": "stream",
     "text": [
      "[2025-02-26 21:05:11] Processed 940 validation batches\n"
     ]
    },
    {
     "name": "stderr",
     "output_type": "stream",
     "text": [
      "Epoch 13 [Val]:  48%|████▊     | 960/2004 [03:51<03:33,  4.89it/s, Loss=0.0788, Acc=99.04%]"
     ]
    },
    {
     "name": "stdout",
     "output_type": "stream",
     "text": [
      "[2025-02-26 21:05:15] Processed 960 validation batches\n"
     ]
    },
    {
     "name": "stderr",
     "output_type": "stream",
     "text": [
      "Epoch 13 [Val]:  49%|████▉     | 980/2004 [04:02<17:50,  1.05s/it, Loss=0.0126, Acc=98.99%]"
     ]
    },
    {
     "name": "stdout",
     "output_type": "stream",
     "text": [
      "[2025-02-26 21:05:26] Processed 980 validation batches\n"
     ]
    },
    {
     "name": "stderr",
     "output_type": "stream",
     "text": [
      "Epoch 13 [Val]:  50%|████▉     | 1000/2004 [04:08<03:34,  4.67it/s, Loss=0.0033, Acc=99.01%]"
     ]
    },
    {
     "name": "stdout",
     "output_type": "stream",
     "text": [
      "[2025-02-26 21:05:32] Processed 1000 validation batches\n"
     ]
    },
    {
     "name": "stderr",
     "output_type": "stream",
     "text": [
      "Epoch 13 [Val]:  51%|█████     | 1020/2004 [04:13<03:16,  5.01it/s, Loss=0.0014, Acc=99.02%]"
     ]
    },
    {
     "name": "stdout",
     "output_type": "stream",
     "text": [
      "[2025-02-26 21:05:37] Processed 1020 validation batches\n"
     ]
    },
    {
     "name": "stderr",
     "output_type": "stream",
     "text": [
      "Epoch 13 [Val]:  52%|█████▏    | 1040/2004 [04:21<03:19,  4.82it/s, Loss=0.0000, Acc=99.02%]"
     ]
    },
    {
     "name": "stdout",
     "output_type": "stream",
     "text": [
      "[2025-02-26 21:05:45] Processed 1040 validation batches\n"
     ]
    },
    {
     "name": "stderr",
     "output_type": "stream",
     "text": [
      "Epoch 13 [Val]:  53%|█████▎    | 1060/2004 [04:27<05:22,  2.93it/s, Loss=0.0000, Acc=99.04%]"
     ]
    },
    {
     "name": "stdout",
     "output_type": "stream",
     "text": [
      "[2025-02-26 21:05:51] Processed 1060 validation batches\n"
     ]
    },
    {
     "name": "stderr",
     "output_type": "stream",
     "text": [
      "Epoch 13 [Val]:  54%|█████▍    | 1080/2004 [04:36<08:24,  1.83it/s, Loss=0.0000, Acc=99.06%]"
     ]
    },
    {
     "name": "stdout",
     "output_type": "stream",
     "text": [
      "[2025-02-26 21:06:00] Processed 1080 validation batches\n"
     ]
    },
    {
     "name": "stderr",
     "output_type": "stream",
     "text": [
      "Epoch 13 [Val]:  55%|█████▍    | 1100/2004 [04:58<21:02,  1.40s/it, Loss=0.0001, Acc=99.07%]"
     ]
    },
    {
     "name": "stdout",
     "output_type": "stream",
     "text": [
      "[2025-02-26 21:06:22] Processed 1100 validation batches\n"
     ]
    },
    {
     "name": "stderr",
     "output_type": "stream",
     "text": [
      "Epoch 13 [Val]:  56%|█████▌    | 1120/2004 [05:21<18:57,  1.29s/it, Loss=0.0059, Acc=99.09%]"
     ]
    },
    {
     "name": "stdout",
     "output_type": "stream",
     "text": [
      "[2025-02-26 21:06:45] Processed 1120 validation batches\n"
     ]
    },
    {
     "name": "stderr",
     "output_type": "stream",
     "text": [
      "Epoch 13 [Val]:  57%|█████▋    | 1140/2004 [05:25<02:46,  5.20it/s, Loss=0.0002, Acc=99.10%]"
     ]
    },
    {
     "name": "stdout",
     "output_type": "stream",
     "text": [
      "[2025-02-26 21:06:49] Processed 1140 validation batches\n"
     ]
    },
    {
     "name": "stderr",
     "output_type": "stream",
     "text": [
      "Epoch 13 [Val]:  58%|█████▊    | 1160/2004 [05:29<02:59,  4.70it/s, Loss=0.0001, Acc=99.12%]"
     ]
    },
    {
     "name": "stdout",
     "output_type": "stream",
     "text": [
      "[2025-02-26 21:06:53] Processed 1160 validation batches\n"
     ]
    },
    {
     "name": "stderr",
     "output_type": "stream",
     "text": [
      "Epoch 13 [Val]:  59%|█████▉    | 1180/2004 [05:33<02:46,  4.94it/s, Loss=0.0000, Acc=99.13%]"
     ]
    },
    {
     "name": "stdout",
     "output_type": "stream",
     "text": [
      "[2025-02-26 21:06:57] Processed 1180 validation batches\n"
     ]
    },
    {
     "name": "stderr",
     "output_type": "stream",
     "text": [
      "Epoch 13 [Val]:  60%|█████▉    | 1200/2004 [05:35<01:36,  8.37it/s, Loss=0.0000, Acc=99.15%]"
     ]
    },
    {
     "name": "stdout",
     "output_type": "stream",
     "text": [
      "[2025-02-26 21:06:59] Processed 1200 validation batches\n"
     ]
    },
    {
     "name": "stderr",
     "output_type": "stream",
     "text": [
      "Epoch 13 [Val]:  61%|██████    | 1220/2004 [05:39<02:24,  5.41it/s, Loss=0.0273, Acc=99.16%]"
     ]
    },
    {
     "name": "stdout",
     "output_type": "stream",
     "text": [
      "[2025-02-26 21:07:03] Processed 1220 validation batches\n"
     ]
    },
    {
     "name": "stderr",
     "output_type": "stream",
     "text": [
      "Epoch 13 [Val]:  62%|██████▏   | 1240/2004 [05:42<02:19,  5.46it/s, Loss=0.0000, Acc=99.17%]"
     ]
    },
    {
     "name": "stdout",
     "output_type": "stream",
     "text": [
      "[2025-02-26 21:07:06] Processed 1240 validation batches\n"
     ]
    },
    {
     "name": "stderr",
     "output_type": "stream",
     "text": [
      "Epoch 13 [Val]:  63%|██████▎   | 1260/2004 [05:47<02:49,  4.38it/s, Loss=0.0000, Acc=99.19%]"
     ]
    },
    {
     "name": "stdout",
     "output_type": "stream",
     "text": [
      "[2025-02-26 21:07:11] Processed 1260 validation batches\n"
     ]
    },
    {
     "name": "stderr",
     "output_type": "stream",
     "text": [
      "Epoch 13 [Val]:  64%|██████▍   | 1280/2004 [05:51<02:27,  4.90it/s, Loss=0.0000, Acc=99.20%]"
     ]
    },
    {
     "name": "stdout",
     "output_type": "stream",
     "text": [
      "[2025-02-26 21:07:15] Processed 1280 validation batches\n"
     ]
    },
    {
     "name": "stderr",
     "output_type": "stream",
     "text": [
      "Epoch 13 [Val]:  65%|██████▍   | 1300/2004 [05:55<03:15,  3.61it/s, Loss=0.0301, Acc=99.20%]"
     ]
    },
    {
     "name": "stdout",
     "output_type": "stream",
     "text": [
      "[2025-02-26 21:07:19] Processed 1300 validation batches\n"
     ]
    },
    {
     "name": "stderr",
     "output_type": "stream",
     "text": [
      "Epoch 13 [Val]:  66%|██████▌   | 1320/2004 [06:00<02:30,  4.53it/s, Loss=0.0029, Acc=99.21%]"
     ]
    },
    {
     "name": "stdout",
     "output_type": "stream",
     "text": [
      "[2025-02-26 21:07:24] Processed 1320 validation batches\n"
     ]
    },
    {
     "name": "stderr",
     "output_type": "stream",
     "text": [
      "Epoch 13 [Val]:  67%|██████▋   | 1340/2004 [06:05<02:32,  4.35it/s, Loss=0.0368, Acc=99.21%]"
     ]
    },
    {
     "name": "stdout",
     "output_type": "stream",
     "text": [
      "[2025-02-26 21:07:29] Processed 1340 validation batches\n"
     ]
    },
    {
     "name": "stderr",
     "output_type": "stream",
     "text": [
      "Epoch 13 [Val]:  68%|██████▊   | 1360/2004 [06:08<01:50,  5.83it/s, Loss=0.0006, Acc=99.22%]"
     ]
    },
    {
     "name": "stdout",
     "output_type": "stream",
     "text": [
      "[2025-02-26 21:07:32] Processed 1360 validation batches\n"
     ]
    },
    {
     "name": "stderr",
     "output_type": "stream",
     "text": [
      "Epoch 13 [Val]:  69%|██████▉   | 1380/2004 [06:10<01:08,  9.13it/s, Loss=0.0003, Acc=99.24%]"
     ]
    },
    {
     "name": "stdout",
     "output_type": "stream",
     "text": [
      "[2025-02-26 21:07:34] Processed 1380 validation batches\n"
     ]
    },
    {
     "name": "stderr",
     "output_type": "stream",
     "text": [
      "Epoch 13 [Val]:  70%|██████▉   | 1400/2004 [06:12<01:06,  9.06it/s, Loss=0.0022, Acc=99.25%]"
     ]
    },
    {
     "name": "stdout",
     "output_type": "stream",
     "text": [
      "[2025-02-26 21:07:36] Processed 1400 validation batches\n"
     ]
    },
    {
     "name": "stderr",
     "output_type": "stream",
     "text": [
      "Epoch 13 [Val]:  71%|███████   | 1420/2004 [06:14<01:03,  9.23it/s, Loss=0.0010, Acc=99.26%]"
     ]
    },
    {
     "name": "stdout",
     "output_type": "stream",
     "text": [
      "[2025-02-26 21:07:38] Processed 1420 validation batches\n"
     ]
    },
    {
     "name": "stderr",
     "output_type": "stream",
     "text": [
      "Epoch 13 [Val]:  72%|███████▏  | 1440/2004 [06:17<01:02,  9.03it/s, Loss=0.0026, Acc=99.27%]"
     ]
    },
    {
     "name": "stdout",
     "output_type": "stream",
     "text": [
      "[2025-02-26 21:07:41] Processed 1440 validation batches\n"
     ]
    },
    {
     "name": "stderr",
     "output_type": "stream",
     "text": [
      "Epoch 13 [Val]:  73%|███████▎  | 1460/2004 [06:19<01:00,  9.02it/s, Loss=0.0036, Acc=99.28%]"
     ]
    },
    {
     "name": "stdout",
     "output_type": "stream",
     "text": [
      "[2025-02-26 21:07:43] Processed 1460 validation batches\n"
     ]
    },
    {
     "name": "stderr",
     "output_type": "stream",
     "text": [
      "Epoch 13 [Val]:  74%|███████▍  | 1480/2004 [06:21<00:59,  8.75it/s, Loss=0.0001, Acc=99.29%]"
     ]
    },
    {
     "name": "stdout",
     "output_type": "stream",
     "text": [
      "[2025-02-26 21:07:45] Processed 1480 validation batches\n"
     ]
    },
    {
     "name": "stderr",
     "output_type": "stream",
     "text": [
      "Epoch 13 [Val]:  75%|███████▍  | 1500/2004 [06:23<00:56,  8.93it/s, Loss=0.0023, Acc=99.30%]"
     ]
    },
    {
     "name": "stdout",
     "output_type": "stream",
     "text": [
      "[2025-02-26 21:07:47] Processed 1500 validation batches\n"
     ]
    },
    {
     "name": "stderr",
     "output_type": "stream",
     "text": [
      "Epoch 13 [Val]:  76%|███████▌  | 1520/2004 [06:26<00:53,  9.01it/s, Loss=0.0003, Acc=99.31%]"
     ]
    },
    {
     "name": "stdout",
     "output_type": "stream",
     "text": [
      "[2025-02-26 21:07:50] Processed 1520 validation batches\n"
     ]
    },
    {
     "name": "stderr",
     "output_type": "stream",
     "text": [
      "Epoch 13 [Val]:  77%|███████▋  | 1540/2004 [06:30<03:19,  2.33it/s, Loss=0.0004, Acc=99.31%]"
     ]
    },
    {
     "name": "stdout",
     "output_type": "stream",
     "text": [
      "[2025-02-26 21:07:54] Processed 1540 validation batches\n"
     ]
    },
    {
     "name": "stderr",
     "output_type": "stream",
     "text": [
      "Epoch 13 [Val]:  78%|███████▊  | 1560/2004 [06:39<02:09,  3.43it/s, Loss=0.0000, Acc=99.32%]"
     ]
    },
    {
     "name": "stdout",
     "output_type": "stream",
     "text": [
      "[2025-02-26 21:08:03] Processed 1560 validation batches\n"
     ]
    },
    {
     "name": "stderr",
     "output_type": "stream",
     "text": [
      "Epoch 13 [Val]:  79%|███████▉  | 1580/2004 [06:46<01:56,  3.64it/s, Loss=0.0001, Acc=99.33%]"
     ]
    },
    {
     "name": "stdout",
     "output_type": "stream",
     "text": [
      "[2025-02-26 21:08:10] Processed 1580 validation batches\n"
     ]
    },
    {
     "name": "stderr",
     "output_type": "stream",
     "text": [
      "Epoch 13 [Val]:  80%|███████▉  | 1600/2004 [06:48<00:45,  8.93it/s, Loss=0.0002, Acc=99.34%]"
     ]
    },
    {
     "name": "stdout",
     "output_type": "stream",
     "text": [
      "[2025-02-26 21:08:12] Processed 1600 validation batches\n"
     ]
    },
    {
     "name": "stderr",
     "output_type": "stream",
     "text": [
      "Epoch 13 [Val]:  81%|████████  | 1620/2004 [07:04<07:09,  1.12s/it, Loss=0.0019, Acc=99.35%]"
     ]
    },
    {
     "name": "stdout",
     "output_type": "stream",
     "text": [
      "[2025-02-26 21:08:28] Processed 1620 validation batches\n"
     ]
    },
    {
     "name": "stderr",
     "output_type": "stream",
     "text": [
      "Epoch 13 [Val]:  82%|████████▏ | 1640/2004 [07:24<02:04,  2.92it/s, Loss=0.0016, Acc=99.36%]"
     ]
    },
    {
     "name": "stdout",
     "output_type": "stream",
     "text": [
      "[2025-02-26 21:08:48] Processed 1640 validation batches\n"
     ]
    },
    {
     "name": "stderr",
     "output_type": "stream",
     "text": [
      "Epoch 13 [Val]:  83%|████████▎ | 1660/2004 [07:28<01:18,  4.36it/s, Loss=0.0014, Acc=99.36%]"
     ]
    },
    {
     "name": "stdout",
     "output_type": "stream",
     "text": [
      "[2025-02-26 21:08:52] Processed 1660 validation batches\n"
     ]
    },
    {
     "name": "stderr",
     "output_type": "stream",
     "text": [
      "Epoch 13 [Val]:  84%|████████▍ | 1680/2004 [07:34<01:15,  4.27it/s, Loss=0.0452, Acc=99.35%]"
     ]
    },
    {
     "name": "stdout",
     "output_type": "stream",
     "text": [
      "[2025-02-26 21:08:58] Processed 1680 validation batches\n"
     ]
    },
    {
     "name": "stderr",
     "output_type": "stream",
     "text": [
      "Epoch 13 [Val]:  85%|████████▍ | 1700/2004 [07:38<01:06,  4.54it/s, Loss=0.2144, Acc=99.32%]"
     ]
    },
    {
     "name": "stdout",
     "output_type": "stream",
     "text": [
      "[2025-02-26 21:09:02] Processed 1700 validation batches\n"
     ]
    },
    {
     "name": "stderr",
     "output_type": "stream",
     "text": [
      "Epoch 13 [Val]:  86%|████████▌ | 1720/2004 [07:43<00:58,  4.82it/s, Loss=0.0000, Acc=99.33%]"
     ]
    },
    {
     "name": "stdout",
     "output_type": "stream",
     "text": [
      "[2025-02-26 21:09:07] Processed 1720 validation batches\n"
     ]
    },
    {
     "name": "stderr",
     "output_type": "stream",
     "text": [
      "Epoch 13 [Val]:  87%|████████▋ | 1740/2004 [07:47<00:57,  4.61it/s, Loss=0.0000, Acc=99.34%]"
     ]
    },
    {
     "name": "stdout",
     "output_type": "stream",
     "text": [
      "[2025-02-26 21:09:11] Processed 1740 validation batches\n"
     ]
    },
    {
     "name": "stderr",
     "output_type": "stream",
     "text": [
      "Epoch 13 [Val]:  88%|████████▊ | 1760/2004 [07:52<00:53,  4.59it/s, Loss=0.0000, Acc=99.34%]"
     ]
    },
    {
     "name": "stdout",
     "output_type": "stream",
     "text": [
      "[2025-02-26 21:09:16] Processed 1760 validation batches\n"
     ]
    },
    {
     "name": "stderr",
     "output_type": "stream",
     "text": [
      "Epoch 13 [Val]:  89%|████████▉ | 1780/2004 [08:01<01:44,  2.15it/s, Loss=0.0000, Acc=99.35%]"
     ]
    },
    {
     "name": "stdout",
     "output_type": "stream",
     "text": [
      "[2025-02-26 21:09:25] Processed 1780 validation batches\n"
     ]
    },
    {
     "name": "stderr",
     "output_type": "stream",
     "text": [
      "Epoch 13 [Val]:  90%|████████▉ | 1800/2004 [08:06<00:41,  4.95it/s, Loss=0.0010, Acc=99.36%]"
     ]
    },
    {
     "name": "stdout",
     "output_type": "stream",
     "text": [
      "[2025-02-26 21:09:30] Processed 1800 validation batches\n"
     ]
    },
    {
     "name": "stderr",
     "output_type": "stream",
     "text": [
      "Epoch 13 [Val]:  91%|█████████ | 1820/2004 [08:12<00:40,  4.50it/s, Loss=0.0000, Acc=99.37%]"
     ]
    },
    {
     "name": "stdout",
     "output_type": "stream",
     "text": [
      "[2025-02-26 21:09:36] Processed 1820 validation batches\n"
     ]
    },
    {
     "name": "stderr",
     "output_type": "stream",
     "text": [
      "Epoch 13 [Val]:  92%|█████████▏| 1840/2004 [08:17<00:37,  4.32it/s, Loss=0.0000, Acc=99.37%]"
     ]
    },
    {
     "name": "stdout",
     "output_type": "stream",
     "text": [
      "[2025-02-26 21:09:41] Processed 1840 validation batches\n"
     ]
    },
    {
     "name": "stderr",
     "output_type": "stream",
     "text": [
      "Epoch 13 [Val]:  93%|█████████▎| 1860/2004 [08:21<00:30,  4.68it/s, Loss=0.0000, Acc=99.38%]"
     ]
    },
    {
     "name": "stdout",
     "output_type": "stream",
     "text": [
      "[2025-02-26 21:09:45] Processed 1860 validation batches\n"
     ]
    },
    {
     "name": "stderr",
     "output_type": "stream",
     "text": [
      "Epoch 13 [Val]:  94%|█████████▍| 1880/2004 [08:35<01:49,  1.13it/s, Loss=0.0000, Acc=99.39%]"
     ]
    },
    {
     "name": "stdout",
     "output_type": "stream",
     "text": [
      "[2025-02-26 21:09:59] Processed 1880 validation batches\n"
     ]
    },
    {
     "name": "stderr",
     "output_type": "stream",
     "text": [
      "Epoch 13 [Val]:  95%|█████████▍| 1900/2004 [08:42<00:32,  3.20it/s, Loss=0.0000, Acc=99.39%]"
     ]
    },
    {
     "name": "stdout",
     "output_type": "stream",
     "text": [
      "[2025-02-26 21:10:07] Processed 1900 validation batches\n"
     ]
    },
    {
     "name": "stderr",
     "output_type": "stream",
     "text": [
      "Epoch 13 [Val]:  96%|█████████▌| 1920/2004 [08:50<00:11,  7.51it/s, Loss=0.0005, Acc=99.40%]"
     ]
    },
    {
     "name": "stdout",
     "output_type": "stream",
     "text": [
      "[2025-02-26 21:10:14] Processed 1920 validation batches\n"
     ]
    },
    {
     "name": "stderr",
     "output_type": "stream",
     "text": [
      "Epoch 13 [Val]:  97%|█████████▋| 1940/2004 [08:54<00:15,  4.11it/s, Loss=0.0112, Acc=99.40%]"
     ]
    },
    {
     "name": "stdout",
     "output_type": "stream",
     "text": [
      "[2025-02-26 21:10:18] Processed 1940 validation batches\n"
     ]
    },
    {
     "name": "stderr",
     "output_type": "stream",
     "text": [
      "Epoch 13 [Val]:  98%|█████████▊| 1960/2004 [08:59<00:10,  4.37it/s, Loss=0.0006, Acc=99.40%]"
     ]
    },
    {
     "name": "stdout",
     "output_type": "stream",
     "text": [
      "[2025-02-26 21:10:23] Processed 1960 validation batches\n"
     ]
    },
    {
     "name": "stderr",
     "output_type": "stream",
     "text": [
      "Epoch 13 [Val]:  99%|█████████▉| 1979/2004 [09:02<00:02,  8.49it/s, Loss=0.0165, Acc=99.38%]"
     ]
    },
    {
     "name": "stdout",
     "output_type": "stream",
     "text": [
      "[2025-02-26 21:10:26] Processed 1980 validation batches\n"
     ]
    },
    {
     "name": "stderr",
     "output_type": "stream",
     "text": [
      "Epoch 13 [Val]: 100%|█████████▉| 1999/2004 [09:03<00:00, 11.27it/s, Loss=0.0012, Acc=99.38%]"
     ]
    },
    {
     "name": "stdout",
     "output_type": "stream",
     "text": [
      "[2025-02-26 21:10:27] Processed 2000 validation batches\n"
     ]
    },
    {
     "name": "stderr",
     "output_type": "stream",
     "text": [
      "Epoch 13 [Val]: 100%|██████████| 2004/2004 [09:04<00:00,  3.68it/s, Loss=0.0000, Acc=99.38%]"
     ]
    },
    {
     "name": "stdout",
     "output_type": "stream",
     "text": [
      "[2025-02-26 21:10:28] Epoch 13 Results:\n",
      "[2025-02-26 21:10:28] Train Loss: 0.1037 | Train Acc: 96.67%\n",
      "[2025-02-26 21:10:28] Val Loss: 0.0218 | Val Acc: 99.38%\n"
     ]
    },
    {
     "name": "stderr",
     "output_type": "stream",
     "text": [
      "\n"
     ]
    },
    {
     "name": "stdout",
     "output_type": "stream",
     "text": [
      "[2025-02-26 21:10:28] Saved best model\n",
      "[2025-02-26 21:10:28] Starting epoch 14/15\n"
     ]
    },
    {
     "name": "stderr",
     "output_type": "stream",
     "text": [
      "Epoch 14 [Train]:   0%|          | 0/2004 [00:00<?, ?it/s, Loss=0.0178, Acc=100.00%]"
     ]
    },
    {
     "name": "stdout",
     "output_type": "stream",
     "text": [
      "[2025-02-26 21:10:28] Processed 0 training batches\n"
     ]
    },
    {
     "name": "stderr",
     "output_type": "stream",
     "text": [
      "Epoch 14 [Train]:   2%|▏         | 50/2004 [00:13<08:32,  3.82it/s, Loss=0.0879, Acc=96.57%]"
     ]
    },
    {
     "name": "stdout",
     "output_type": "stream",
     "text": [
      "[2025-02-26 21:10:42] Processed 50 training batches\n"
     ]
    },
    {
     "name": "stderr",
     "output_type": "stream",
     "text": [
      "Epoch 14 [Train]:   5%|▍         | 100/2004 [00:26<07:03,  4.50it/s, Loss=0.0667, Acc=97.22%]"
     ]
    },
    {
     "name": "stdout",
     "output_type": "stream",
     "text": [
      "[2025-02-26 21:10:55] Processed 100 training batches\n"
     ]
    },
    {
     "name": "stderr",
     "output_type": "stream",
     "text": [
      "Epoch 14 [Train]:   7%|▋         | 150/2004 [00:39<07:04,  4.37it/s, Loss=0.0502, Acc=97.10%]"
     ]
    },
    {
     "name": "stdout",
     "output_type": "stream",
     "text": [
      "[2025-02-26 21:11:07] Processed 150 training batches\n"
     ]
    },
    {
     "name": "stderr",
     "output_type": "stream",
     "text": [
      "Epoch 14 [Train]:  10%|▉         | 200/2004 [00:53<08:11,  3.67it/s, Loss=0.2233, Acc=97.05%]"
     ]
    },
    {
     "name": "stdout",
     "output_type": "stream",
     "text": [
      "[2025-02-26 21:11:22] Processed 200 training batches\n"
     ]
    },
    {
     "name": "stderr",
     "output_type": "stream",
     "text": [
      "Epoch 14 [Train]:  12%|█▏        | 250/2004 [01:06<08:28,  3.45it/s, Loss=0.2744, Acc=96.89%]"
     ]
    },
    {
     "name": "stdout",
     "output_type": "stream",
     "text": [
      "[2025-02-26 21:11:35] Processed 250 training batches\n"
     ]
    },
    {
     "name": "stderr",
     "output_type": "stream",
     "text": [
      "Epoch 14 [Train]:  15%|█▍        | 300/2004 [01:19<07:20,  3.87it/s, Loss=0.0238, Acc=97.01%]"
     ]
    },
    {
     "name": "stdout",
     "output_type": "stream",
     "text": [
      "[2025-02-26 21:11:47] Processed 300 training batches\n"
     ]
    },
    {
     "name": "stderr",
     "output_type": "stream",
     "text": [
      "Epoch 14 [Train]:  17%|█▋        | 350/2004 [01:32<08:35,  3.21it/s, Loss=0.0136, Acc=96.96%]"
     ]
    },
    {
     "name": "stdout",
     "output_type": "stream",
     "text": [
      "[2025-02-26 21:12:00] Processed 350 training batches\n"
     ]
    },
    {
     "name": "stderr",
     "output_type": "stream",
     "text": [
      "Epoch 14 [Train]:  20%|█▉        | 400/2004 [01:45<07:20,  3.64it/s, Loss=0.0338, Acc=97.13%]"
     ]
    },
    {
     "name": "stdout",
     "output_type": "stream",
     "text": [
      "[2025-02-26 21:12:13] Processed 400 training batches\n"
     ]
    },
    {
     "name": "stderr",
     "output_type": "stream",
     "text": [
      "Epoch 14 [Train]:  22%|██▏       | 450/2004 [01:59<07:56,  3.26it/s, Loss=0.2592, Acc=97.17%]"
     ]
    },
    {
     "name": "stdout",
     "output_type": "stream",
     "text": [
      "[2025-02-26 21:12:27] Processed 450 training batches\n"
     ]
    },
    {
     "name": "stderr",
     "output_type": "stream",
     "text": [
      "Epoch 14 [Train]:  25%|██▍       | 500/2004 [02:12<07:48,  3.21it/s, Loss=0.0277, Acc=97.26%]"
     ]
    },
    {
     "name": "stdout",
     "output_type": "stream",
     "text": [
      "[2025-02-26 21:12:41] Processed 500 training batches\n"
     ]
    },
    {
     "name": "stderr",
     "output_type": "stream",
     "text": [
      "Epoch 14 [Train]:  27%|██▋       | 550/2004 [02:26<05:57,  4.07it/s, Loss=0.0334, Acc=97.21%]"
     ]
    },
    {
     "name": "stdout",
     "output_type": "stream",
     "text": [
      "[2025-02-26 21:12:55] Processed 550 training batches\n"
     ]
    },
    {
     "name": "stderr",
     "output_type": "stream",
     "text": [
      "Epoch 14 [Train]:  30%|██▉       | 600/2004 [02:40<05:44,  4.07it/s, Loss=0.0592, Acc=97.18%]"
     ]
    },
    {
     "name": "stdout",
     "output_type": "stream",
     "text": [
      "[2025-02-26 21:13:08] Processed 600 training batches\n"
     ]
    },
    {
     "name": "stderr",
     "output_type": "stream",
     "text": [
      "Epoch 14 [Train]:  32%|███▏      | 650/2004 [02:53<05:14,  4.31it/s, Loss=0.0801, Acc=97.11%]"
     ]
    },
    {
     "name": "stdout",
     "output_type": "stream",
     "text": [
      "[2025-02-26 21:13:22] Processed 650 training batches\n"
     ]
    },
    {
     "name": "stderr",
     "output_type": "stream",
     "text": [
      "Epoch 14 [Train]:  35%|███▍      | 700/2004 [03:07<04:50,  4.49it/s, Loss=0.0868, Acc=97.10%]"
     ]
    },
    {
     "name": "stdout",
     "output_type": "stream",
     "text": [
      "[2025-02-26 21:13:35] Processed 700 training batches\n"
     ]
    },
    {
     "name": "stderr",
     "output_type": "stream",
     "text": [
      "Epoch 14 [Train]:  37%|███▋      | 750/2004 [03:20<05:05,  4.11it/s, Loss=0.0816, Acc=97.10%]"
     ]
    },
    {
     "name": "stdout",
     "output_type": "stream",
     "text": [
      "[2025-02-26 21:13:48] Processed 750 training batches\n"
     ]
    },
    {
     "name": "stderr",
     "output_type": "stream",
     "text": [
      "Epoch 14 [Train]:  40%|███▉      | 800/2004 [03:33<05:40,  3.54it/s, Loss=0.1715, Acc=97.07%]"
     ]
    },
    {
     "name": "stdout",
     "output_type": "stream",
     "text": [
      "[2025-02-26 21:14:02] Processed 800 training batches\n"
     ]
    },
    {
     "name": "stderr",
     "output_type": "stream",
     "text": [
      "Epoch 14 [Train]:  42%|████▏     | 850/2004 [03:48<04:55,  3.91it/s, Loss=0.0132, Acc=97.03%]"
     ]
    },
    {
     "name": "stdout",
     "output_type": "stream",
     "text": [
      "[2025-02-26 21:14:16] Processed 850 training batches\n"
     ]
    },
    {
     "name": "stderr",
     "output_type": "stream",
     "text": [
      "Epoch 14 [Train]:  45%|████▍     | 900/2004 [04:01<06:27,  2.85it/s, Loss=0.4452, Acc=97.02%]"
     ]
    },
    {
     "name": "stdout",
     "output_type": "stream",
     "text": [
      "[2025-02-26 21:14:29] Processed 900 training batches\n"
     ]
    },
    {
     "name": "stderr",
     "output_type": "stream",
     "text": [
      "Epoch 14 [Train]:  47%|████▋     | 950/2004 [04:16<05:10,  3.39it/s, Loss=0.0201, Acc=96.94%]"
     ]
    },
    {
     "name": "stdout",
     "output_type": "stream",
     "text": [
      "[2025-02-26 21:14:44] Processed 950 training batches\n"
     ]
    },
    {
     "name": "stderr",
     "output_type": "stream",
     "text": [
      "Epoch 14 [Train]:  50%|████▉     | 1000/2004 [04:31<05:06,  3.28it/s, Loss=0.0520, Acc=96.93%]"
     ]
    },
    {
     "name": "stdout",
     "output_type": "stream",
     "text": [
      "[2025-02-26 21:15:00] Processed 1000 training batches\n"
     ]
    },
    {
     "name": "stderr",
     "output_type": "stream",
     "text": [
      "Epoch 14 [Train]:  52%|█████▏    | 1050/2004 [04:46<04:26,  3.58it/s, Loss=0.0119, Acc=96.96%]"
     ]
    },
    {
     "name": "stdout",
     "output_type": "stream",
     "text": [
      "[2025-02-26 21:15:14] Processed 1050 training batches\n"
     ]
    },
    {
     "name": "stderr",
     "output_type": "stream",
     "text": [
      "Epoch 14 [Train]:  55%|█████▍    | 1100/2004 [05:01<04:08,  3.64it/s, Loss=0.0023, Acc=97.01%]"
     ]
    },
    {
     "name": "stdout",
     "output_type": "stream",
     "text": [
      "[2025-02-26 21:15:29] Processed 1100 training batches\n"
     ]
    },
    {
     "name": "stderr",
     "output_type": "stream",
     "text": [
      "Epoch 14 [Train]:  57%|█████▋    | 1150/2004 [05:15<04:40,  3.05it/s, Loss=0.1312, Acc=97.01%]"
     ]
    },
    {
     "name": "stdout",
     "output_type": "stream",
     "text": [
      "[2025-02-26 21:15:44] Processed 1150 training batches\n"
     ]
    },
    {
     "name": "stderr",
     "output_type": "stream",
     "text": [
      "Epoch 14 [Train]:  60%|█████▉    | 1200/2004 [05:30<03:55,  3.42it/s, Loss=0.0123, Acc=97.00%]"
     ]
    },
    {
     "name": "stdout",
     "output_type": "stream",
     "text": [
      "[2025-02-26 21:15:58] Processed 1200 training batches\n"
     ]
    },
    {
     "name": "stderr",
     "output_type": "stream",
     "text": [
      "Epoch 14 [Train]:  62%|██████▏   | 1250/2004 [05:45<03:44,  3.36it/s, Loss=0.0545, Acc=97.00%]"
     ]
    },
    {
     "name": "stdout",
     "output_type": "stream",
     "text": [
      "[2025-02-26 21:16:13] Processed 1250 training batches\n"
     ]
    },
    {
     "name": "stderr",
     "output_type": "stream",
     "text": [
      "Epoch 14 [Train]:  65%|██████▍   | 1300/2004 [05:59<03:20,  3.51it/s, Loss=0.1579, Acc=97.01%]"
     ]
    },
    {
     "name": "stdout",
     "output_type": "stream",
     "text": [
      "[2025-02-26 21:16:28] Processed 1300 training batches\n"
     ]
    },
    {
     "name": "stderr",
     "output_type": "stream",
     "text": [
      "Epoch 14 [Train]:  67%|██████▋   | 1350/2004 [06:15<03:48,  2.86it/s, Loss=0.0668, Acc=97.00%]"
     ]
    },
    {
     "name": "stdout",
     "output_type": "stream",
     "text": [
      "[2025-02-26 21:16:43] Processed 1350 training batches\n"
     ]
    },
    {
     "name": "stderr",
     "output_type": "stream",
     "text": [
      "Epoch 14 [Train]:  70%|██████▉   | 1400/2004 [06:29<03:07,  3.22it/s, Loss=0.0034, Acc=97.01%]"
     ]
    },
    {
     "name": "stdout",
     "output_type": "stream",
     "text": [
      "[2025-02-26 21:16:57] Processed 1400 training batches\n"
     ]
    },
    {
     "name": "stderr",
     "output_type": "stream",
     "text": [
      "Epoch 14 [Train]:  72%|███████▏  | 1450/2004 [06:43<02:38,  3.50it/s, Loss=0.0756, Acc=96.98%]"
     ]
    },
    {
     "name": "stdout",
     "output_type": "stream",
     "text": [
      "[2025-02-26 21:17:12] Processed 1450 training batches\n"
     ]
    },
    {
     "name": "stderr",
     "output_type": "stream",
     "text": [
      "Epoch 14 [Train]:  75%|███████▍  | 1500/2004 [06:58<02:23,  3.52it/s, Loss=0.0510, Acc=97.00%]"
     ]
    },
    {
     "name": "stdout",
     "output_type": "stream",
     "text": [
      "[2025-02-26 21:17:27] Processed 1500 training batches\n"
     ]
    },
    {
     "name": "stderr",
     "output_type": "stream",
     "text": [
      "Epoch 14 [Train]:  77%|███████▋  | 1550/2004 [07:14<02:02,  3.71it/s, Loss=0.0344, Acc=96.98%]"
     ]
    },
    {
     "name": "stdout",
     "output_type": "stream",
     "text": [
      "[2025-02-26 21:17:42] Processed 1550 training batches\n"
     ]
    },
    {
     "name": "stderr",
     "output_type": "stream",
     "text": [
      "Epoch 14 [Train]:  80%|███████▉  | 1600/2004 [07:28<02:26,  2.76it/s, Loss=0.0070, Acc=96.99%]"
     ]
    },
    {
     "name": "stdout",
     "output_type": "stream",
     "text": [
      "[2025-02-26 21:17:57] Processed 1600 training batches\n"
     ]
    },
    {
     "name": "stderr",
     "output_type": "stream",
     "text": [
      "Epoch 14 [Train]:  82%|████████▏ | 1650/2004 [07:43<01:39,  3.56it/s, Loss=0.0993, Acc=96.98%]"
     ]
    },
    {
     "name": "stdout",
     "output_type": "stream",
     "text": [
      "[2025-02-26 21:18:11] Processed 1650 training batches\n"
     ]
    },
    {
     "name": "stderr",
     "output_type": "stream",
     "text": [
      "Epoch 14 [Train]:  85%|████████▍ | 1700/2004 [07:57<01:19,  3.84it/s, Loss=0.0409, Acc=96.98%]"
     ]
    },
    {
     "name": "stdout",
     "output_type": "stream",
     "text": [
      "[2025-02-26 21:18:25] Processed 1700 training batches\n"
     ]
    },
    {
     "name": "stderr",
     "output_type": "stream",
     "text": [
      "Epoch 14 [Train]:  87%|████████▋ | 1750/2004 [08:12<01:14,  3.39it/s, Loss=0.1955, Acc=96.99%]"
     ]
    },
    {
     "name": "stdout",
     "output_type": "stream",
     "text": [
      "[2025-02-26 21:18:41] Processed 1750 training batches\n"
     ]
    },
    {
     "name": "stderr",
     "output_type": "stream",
     "text": [
      "Epoch 14 [Train]:  90%|████████▉ | 1800/2004 [08:27<01:10,  2.88it/s, Loss=0.0553, Acc=96.98%]"
     ]
    },
    {
     "name": "stdout",
     "output_type": "stream",
     "text": [
      "[2025-02-26 21:18:55] Processed 1800 training batches\n"
     ]
    },
    {
     "name": "stderr",
     "output_type": "stream",
     "text": [
      "Epoch 14 [Train]:  92%|█████████▏| 1850/2004 [08:41<00:44,  3.44it/s, Loss=0.0552, Acc=96.99%]"
     ]
    },
    {
     "name": "stdout",
     "output_type": "stream",
     "text": [
      "[2025-02-26 21:19:10] Processed 1850 training batches\n"
     ]
    },
    {
     "name": "stderr",
     "output_type": "stream",
     "text": [
      "Epoch 14 [Train]:  95%|█████████▍| 1900/2004 [08:55<00:28,  3.65it/s, Loss=0.0099, Acc=97.02%]"
     ]
    },
    {
     "name": "stdout",
     "output_type": "stream",
     "text": [
      "[2025-02-26 21:19:24] Processed 1900 training batches\n"
     ]
    },
    {
     "name": "stderr",
     "output_type": "stream",
     "text": [
      "Epoch 14 [Train]:  97%|█████████▋| 1950/2004 [09:10<00:15,  3.44it/s, Loss=0.0320, Acc=97.05%]"
     ]
    },
    {
     "name": "stdout",
     "output_type": "stream",
     "text": [
      "[2025-02-26 21:19:39] Processed 1950 training batches\n"
     ]
    },
    {
     "name": "stderr",
     "output_type": "stream",
     "text": [
      "Epoch 14 [Train]: 100%|█████████▉| 2000/2004 [09:26<00:01,  3.48it/s, Loss=0.0160, Acc=97.04%]"
     ]
    },
    {
     "name": "stdout",
     "output_type": "stream",
     "text": [
      "[2025-02-26 21:19:54] Processed 2000 training batches\n"
     ]
    },
    {
     "name": "stderr",
     "output_type": "stream",
     "text": [
      "Epoch 14 [Train]: 100%|██████████| 2004/2004 [09:27<00:00,  3.53it/s, Loss=0.7544, Acc=97.04%]\n",
      "Epoch 14 [Val]:   0%|          | 0/2004 [00:00<?, ?it/s, Loss=0.1838, Acc=100.00%]"
     ]
    },
    {
     "name": "stdout",
     "output_type": "stream",
     "text": [
      "[2025-02-26 21:19:55] Processed 0 validation batches\n"
     ]
    },
    {
     "name": "stderr",
     "output_type": "stream",
     "text": [
      "Epoch 14 [Val]:   1%|          | 20/2004 [00:07<10:04,  3.28it/s, Loss=0.1612, Acc=98.51%]"
     ]
    },
    {
     "name": "stdout",
     "output_type": "stream",
     "text": [
      "[2025-02-26 21:20:02] Processed 20 validation batches\n"
     ]
    },
    {
     "name": "stderr",
     "output_type": "stream",
     "text": [
      "Epoch 14 [Val]:   2%|▏         | 40/2004 [00:12<09:16,  3.53it/s, Loss=0.0078, Acc=98.93%]"
     ]
    },
    {
     "name": "stdout",
     "output_type": "stream",
     "text": [
      "[2025-02-26 21:20:08] Processed 40 validation batches\n"
     ]
    },
    {
     "name": "stderr",
     "output_type": "stream",
     "text": [
      "Epoch 14 [Val]:   3%|▎         | 60/2004 [00:20<12:25,  2.61it/s, Loss=0.0053, Acc=98.05%]"
     ]
    },
    {
     "name": "stdout",
     "output_type": "stream",
     "text": [
      "[2025-02-26 21:20:15] Processed 60 validation batches\n"
     ]
    },
    {
     "name": "stderr",
     "output_type": "stream",
     "text": [
      "Epoch 14 [Val]:   4%|▍         | 80/2004 [00:24<06:48,  4.71it/s, Loss=0.0063, Acc=98.30%]"
     ]
    },
    {
     "name": "stdout",
     "output_type": "stream",
     "text": [
      "[2025-02-26 21:20:20] Processed 80 validation batches\n"
     ]
    },
    {
     "name": "stderr",
     "output_type": "stream",
     "text": [
      "Epoch 14 [Val]:   5%|▍         | 100/2004 [00:35<10:21,  3.06it/s, Loss=0.0031, Acc=98.45%]"
     ]
    },
    {
     "name": "stdout",
     "output_type": "stream",
     "text": [
      "[2025-02-26 21:20:30] Processed 100 validation batches\n"
     ]
    },
    {
     "name": "stderr",
     "output_type": "stream",
     "text": [
      "Epoch 14 [Val]:   6%|▌         | 120/2004 [00:41<07:44,  4.05it/s, Loss=0.3191, Acc=98.35%]"
     ]
    },
    {
     "name": "stdout",
     "output_type": "stream",
     "text": [
      "[2025-02-26 21:20:36] Processed 120 validation batches\n"
     ]
    },
    {
     "name": "stderr",
     "output_type": "stream",
     "text": [
      "Epoch 14 [Val]:   7%|▋         | 140/2004 [00:52<31:27,  1.01s/it, Loss=0.0032, Acc=96.63%]"
     ]
    },
    {
     "name": "stdout",
     "output_type": "stream",
     "text": [
      "[2025-02-26 21:20:47] Processed 140 validation batches\n"
     ]
    },
    {
     "name": "stderr",
     "output_type": "stream",
     "text": [
      "Epoch 14 [Val]:   8%|▊         | 160/2004 [00:57<06:51,  4.48it/s, Loss=0.0038, Acc=96.78%]"
     ]
    },
    {
     "name": "stdout",
     "output_type": "stream",
     "text": [
      "[2025-02-26 21:20:53] Processed 160 validation batches\n"
     ]
    },
    {
     "name": "stderr",
     "output_type": "stream",
     "text": [
      "Epoch 14 [Val]:   9%|▉         | 180/2004 [01:04<11:58,  2.54it/s, Loss=0.0811, Acc=96.82%]"
     ]
    },
    {
     "name": "stdout",
     "output_type": "stream",
     "text": [
      "[2025-02-26 21:20:59] Processed 180 validation batches\n"
     ]
    },
    {
     "name": "stderr",
     "output_type": "stream",
     "text": [
      "Epoch 14 [Val]:  10%|▉         | 200/2004 [01:14<17:34,  1.71it/s, Loss=0.0029, Acc=96.58%]"
     ]
    },
    {
     "name": "stdout",
     "output_type": "stream",
     "text": [
      "[2025-02-26 21:21:09] Processed 200 validation batches\n"
     ]
    },
    {
     "name": "stderr",
     "output_type": "stream",
     "text": [
      "Epoch 14 [Val]:  11%|█         | 220/2004 [01:28<04:47,  6.21it/s, Loss=0.0008, Acc=96.89%]"
     ]
    },
    {
     "name": "stdout",
     "output_type": "stream",
     "text": [
      "[2025-02-26 21:21:24] Processed 220 validation batches\n"
     ]
    },
    {
     "name": "stderr",
     "output_type": "stream",
     "text": [
      "Epoch 14 [Val]:  12%|█▏        | 240/2004 [01:31<03:19,  8.83it/s, Loss=0.0000, Acc=97.15%]"
     ]
    },
    {
     "name": "stdout",
     "output_type": "stream",
     "text": [
      "[2025-02-26 21:21:26] Processed 240 validation batches\n"
     ]
    },
    {
     "name": "stderr",
     "output_type": "stream",
     "text": [
      "Epoch 14 [Val]:  13%|█▎        | 260/2004 [01:33<03:13,  9.01it/s, Loss=0.0001, Acc=97.37%]"
     ]
    },
    {
     "name": "stdout",
     "output_type": "stream",
     "text": [
      "[2025-02-26 21:21:28] Processed 260 validation batches\n"
     ]
    },
    {
     "name": "stderr",
     "output_type": "stream",
     "text": [
      "Epoch 14 [Val]:  14%|█▍        | 280/2004 [01:35<03:06,  9.25it/s, Loss=0.0001, Acc=97.55%]"
     ]
    },
    {
     "name": "stdout",
     "output_type": "stream",
     "text": [
      "[2025-02-26 21:21:31] Processed 280 validation batches\n"
     ]
    },
    {
     "name": "stderr",
     "output_type": "stream",
     "text": [
      "Epoch 14 [Val]:  15%|█▍        | 300/2004 [01:37<03:08,  9.02it/s, Loss=0.0005, Acc=97.72%]"
     ]
    },
    {
     "name": "stdout",
     "output_type": "stream",
     "text": [
      "[2025-02-26 21:21:33] Processed 300 validation batches\n"
     ]
    },
    {
     "name": "stderr",
     "output_type": "stream",
     "text": [
      "Epoch 14 [Val]:  16%|█▌        | 320/2004 [01:40<03:07,  9.00it/s, Loss=0.0013, Acc=97.86%]"
     ]
    },
    {
     "name": "stdout",
     "output_type": "stream",
     "text": [
      "[2025-02-26 21:21:35] Processed 320 validation batches\n"
     ]
    },
    {
     "name": "stderr",
     "output_type": "stream",
     "text": [
      "Epoch 14 [Val]:  17%|█▋        | 340/2004 [01:42<03:06,  8.91it/s, Loss=0.0004, Acc=97.98%]"
     ]
    },
    {
     "name": "stdout",
     "output_type": "stream",
     "text": [
      "[2025-02-26 21:21:37] Processed 340 validation batches\n"
     ]
    },
    {
     "name": "stderr",
     "output_type": "stream",
     "text": [
      "Epoch 14 [Val]:  18%|█▊        | 360/2004 [01:44<03:05,  8.85it/s, Loss=0.0003, Acc=98.10%]"
     ]
    },
    {
     "name": "stdout",
     "output_type": "stream",
     "text": [
      "[2025-02-26 21:21:40] Processed 360 validation batches\n"
     ]
    },
    {
     "name": "stderr",
     "output_type": "stream",
     "text": [
      "Epoch 14 [Val]:  19%|█▉        | 380/2004 [01:46<03:00,  9.00it/s, Loss=0.0001, Acc=98.20%]"
     ]
    },
    {
     "name": "stdout",
     "output_type": "stream",
     "text": [
      "[2025-02-26 21:21:42] Processed 380 validation batches\n"
     ]
    },
    {
     "name": "stderr",
     "output_type": "stream",
     "text": [
      "Epoch 14 [Val]:  20%|█▉        | 400/2004 [01:49<02:58,  8.98it/s, Loss=0.0017, Acc=98.29%]"
     ]
    },
    {
     "name": "stdout",
     "output_type": "stream",
     "text": [
      "[2025-02-26 21:21:44] Processed 400 validation batches\n"
     ]
    },
    {
     "name": "stderr",
     "output_type": "stream",
     "text": [
      "Epoch 14 [Val]:  21%|██        | 420/2004 [01:51<02:54,  9.07it/s, Loss=0.0002, Acc=98.37%]"
     ]
    },
    {
     "name": "stdout",
     "output_type": "stream",
     "text": [
      "[2025-02-26 21:21:46] Processed 420 validation batches\n"
     ]
    },
    {
     "name": "stderr",
     "output_type": "stream",
     "text": [
      "Epoch 14 [Val]:  22%|██▏       | 440/2004 [01:53<02:53,  9.03it/s, Loss=0.0002, Acc=98.44%]"
     ]
    },
    {
     "name": "stdout",
     "output_type": "stream",
     "text": [
      "[2025-02-26 21:21:49] Processed 440 validation batches\n"
     ]
    },
    {
     "name": "stderr",
     "output_type": "stream",
     "text": [
      "Epoch 14 [Val]:  23%|██▎       | 460/2004 [02:06<11:56,  2.15it/s, Loss=0.0032, Acc=98.50%]"
     ]
    },
    {
     "name": "stdout",
     "output_type": "stream",
     "text": [
      "[2025-02-26 21:22:02] Processed 460 validation batches\n"
     ]
    },
    {
     "name": "stderr",
     "output_type": "stream",
     "text": [
      "Epoch 14 [Val]:  24%|██▍       | 480/2004 [02:12<07:38,  3.33it/s, Loss=0.1021, Acc=98.51%]"
     ]
    },
    {
     "name": "stdout",
     "output_type": "stream",
     "text": [
      "[2025-02-26 21:22:07] Processed 480 validation batches\n"
     ]
    },
    {
     "name": "stderr",
     "output_type": "stream",
     "text": [
      "Epoch 14 [Val]:  25%|██▍       | 500/2004 [02:18<02:51,  8.77it/s, Loss=0.0010, Acc=98.57%]"
     ]
    },
    {
     "name": "stdout",
     "output_type": "stream",
     "text": [
      "[2025-02-26 21:22:14] Processed 500 validation batches\n"
     ]
    },
    {
     "name": "stderr",
     "output_type": "stream",
     "text": [
      "Epoch 14 [Val]:  26%|██▌       | 520/2004 [02:21<02:46,  8.92it/s, Loss=0.0008, Acc=98.62%]"
     ]
    },
    {
     "name": "stdout",
     "output_type": "stream",
     "text": [
      "[2025-02-26 21:22:16] Processed 520 validation batches\n"
     ]
    },
    {
     "name": "stderr",
     "output_type": "stream",
     "text": [
      "Epoch 14 [Val]:  27%|██▋       | 540/2004 [02:23<04:06,  5.93it/s, Loss=0.0029, Acc=98.67%]"
     ]
    },
    {
     "name": "stdout",
     "output_type": "stream",
     "text": [
      "[2025-02-26 21:22:19] Processed 540 validation batches\n"
     ]
    },
    {
     "name": "stderr",
     "output_type": "stream",
     "text": [
      "Epoch 14 [Val]:  28%|██▊       | 560/2004 [02:27<03:02,  7.89it/s, Loss=0.0015, Acc=98.72%]"
     ]
    },
    {
     "name": "stdout",
     "output_type": "stream",
     "text": [
      "[2025-02-26 21:22:22] Processed 560 validation batches\n"
     ]
    },
    {
     "name": "stderr",
     "output_type": "stream",
     "text": [
      "Epoch 14 [Val]:  29%|██▉       | 580/2004 [02:31<06:42,  3.54it/s, Loss=0.0004, Acc=98.76%]"
     ]
    },
    {
     "name": "stdout",
     "output_type": "stream",
     "text": [
      "[2025-02-26 21:22:26] Processed 580 validation batches\n"
     ]
    },
    {
     "name": "stderr",
     "output_type": "stream",
     "text": [
      "Epoch 14 [Val]:  30%|██▉       | 600/2004 [02:33<02:53,  8.11it/s, Loss=0.0005, Acc=98.80%]"
     ]
    },
    {
     "name": "stdout",
     "output_type": "stream",
     "text": [
      "[2025-02-26 21:22:29] Processed 600 validation batches\n"
     ]
    },
    {
     "name": "stderr",
     "output_type": "stream",
     "text": [
      "Epoch 14 [Val]:  31%|███       | 620/2004 [02:36<02:46,  8.32it/s, Loss=0.0000, Acc=98.84%]"
     ]
    },
    {
     "name": "stdout",
     "output_type": "stream",
     "text": [
      "[2025-02-26 21:22:31] Processed 620 validation batches\n"
     ]
    },
    {
     "name": "stderr",
     "output_type": "stream",
     "text": [
      "Epoch 14 [Val]:  32%|███▏      | 640/2004 [02:38<02:45,  8.23it/s, Loss=0.0001, Acc=98.88%]"
     ]
    },
    {
     "name": "stdout",
     "output_type": "stream",
     "text": [
      "[2025-02-26 21:22:34] Processed 640 validation batches\n"
     ]
    },
    {
     "name": "stderr",
     "output_type": "stream",
     "text": [
      "Epoch 14 [Val]:  33%|███▎      | 660/2004 [02:41<02:42,  8.25it/s, Loss=0.0000, Acc=98.91%]"
     ]
    },
    {
     "name": "stdout",
     "output_type": "stream",
     "text": [
      "[2025-02-26 21:22:36] Processed 660 validation batches\n"
     ]
    },
    {
     "name": "stderr",
     "output_type": "stream",
     "text": [
      "Epoch 14 [Val]:  34%|███▍      | 680/2004 [02:43<02:46,  7.98it/s, Loss=0.0000, Acc=98.94%]"
     ]
    },
    {
     "name": "stdout",
     "output_type": "stream",
     "text": [
      "[2025-02-26 21:22:39] Processed 680 validation batches\n"
     ]
    },
    {
     "name": "stderr",
     "output_type": "stream",
     "text": [
      "Epoch 14 [Val]:  35%|███▍      | 700/2004 [02:46<02:42,  8.00it/s, Loss=0.0000, Acc=98.97%]"
     ]
    },
    {
     "name": "stdout",
     "output_type": "stream",
     "text": [
      "[2025-02-26 21:22:41] Processed 700 validation batches\n"
     ]
    },
    {
     "name": "stderr",
     "output_type": "stream",
     "text": [
      "Epoch 14 [Val]:  36%|███▌      | 720/2004 [02:48<02:42,  7.92it/s, Loss=0.0002, Acc=99.00%]"
     ]
    },
    {
     "name": "stdout",
     "output_type": "stream",
     "text": [
      "[2025-02-26 21:22:44] Processed 720 validation batches\n"
     ]
    },
    {
     "name": "stderr",
     "output_type": "stream",
     "text": [
      "Epoch 14 [Val]:  37%|███▋      | 740/2004 [02:52<02:35,  8.13it/s, Loss=0.0000, Acc=99.03%]"
     ]
    },
    {
     "name": "stdout",
     "output_type": "stream",
     "text": [
      "[2025-02-26 21:22:47] Processed 740 validation batches\n"
     ]
    },
    {
     "name": "stderr",
     "output_type": "stream",
     "text": [
      "Epoch 14 [Val]:  38%|███▊      | 760/2004 [03:04<07:01,  2.95it/s, Loss=0.0000, Acc=99.06%]"
     ]
    },
    {
     "name": "stdout",
     "output_type": "stream",
     "text": [
      "[2025-02-26 21:22:59] Processed 760 validation batches\n"
     ]
    },
    {
     "name": "stderr",
     "output_type": "stream",
     "text": [
      "Epoch 14 [Val]:  39%|███▉      | 780/2004 [03:13<06:50,  2.98it/s, Loss=0.0000, Acc=99.08%]"
     ]
    },
    {
     "name": "stdout",
     "output_type": "stream",
     "text": [
      "[2025-02-26 21:23:08] Processed 780 validation batches\n"
     ]
    },
    {
     "name": "stderr",
     "output_type": "stream",
     "text": [
      "Epoch 14 [Val]:  40%|███▉      | 800/2004 [03:15<02:30,  7.99it/s, Loss=0.0000, Acc=99.10%]"
     ]
    },
    {
     "name": "stdout",
     "output_type": "stream",
     "text": [
      "[2025-02-26 21:23:11] Processed 800 validation batches\n"
     ]
    },
    {
     "name": "stderr",
     "output_type": "stream",
     "text": [
      "Epoch 14 [Val]:  41%|████      | 820/2004 [03:17<02:21,  8.35it/s, Loss=0.0004, Acc=99.12%]"
     ]
    },
    {
     "name": "stdout",
     "output_type": "stream",
     "text": [
      "[2025-02-26 21:23:13] Processed 820 validation batches\n"
     ]
    },
    {
     "name": "stderr",
     "output_type": "stream",
     "text": [
      "Epoch 14 [Val]:  42%|████▏     | 840/2004 [03:23<04:21,  4.44it/s, Loss=0.0051, Acc=99.15%]"
     ]
    },
    {
     "name": "stdout",
     "output_type": "stream",
     "text": [
      "[2025-02-26 21:23:19] Processed 840 validation batches\n"
     ]
    },
    {
     "name": "stderr",
     "output_type": "stream",
     "text": [
      "Epoch 14 [Val]:  43%|████▎     | 860/2004 [03:29<08:44,  2.18it/s, Loss=0.1110, Acc=99.16%]"
     ]
    },
    {
     "name": "stdout",
     "output_type": "stream",
     "text": [
      "[2025-02-26 21:23:24] Processed 860 validation batches\n"
     ]
    },
    {
     "name": "stderr",
     "output_type": "stream",
     "text": [
      "Epoch 14 [Val]:  44%|████▍     | 880/2004 [03:32<03:27,  5.42it/s, Loss=0.2135, Acc=99.11%]"
     ]
    },
    {
     "name": "stdout",
     "output_type": "stream",
     "text": [
      "[2025-02-26 21:23:28] Processed 880 validation batches\n"
     ]
    },
    {
     "name": "stderr",
     "output_type": "stream",
     "text": [
      "Epoch 14 [Val]:  45%|████▍     | 900/2004 [03:36<03:49,  4.80it/s, Loss=0.0006, Acc=99.04%]"
     ]
    },
    {
     "name": "stdout",
     "output_type": "stream",
     "text": [
      "[2025-02-26 21:23:32] Processed 900 validation batches\n"
     ]
    },
    {
     "name": "stderr",
     "output_type": "stream",
     "text": [
      "Epoch 14 [Val]:  46%|████▌     | 920/2004 [03:41<05:07,  3.52it/s, Loss=0.0039, Acc=99.06%]"
     ]
    },
    {
     "name": "stdout",
     "output_type": "stream",
     "text": [
      "[2025-02-26 21:23:37] Processed 920 validation batches\n"
     ]
    },
    {
     "name": "stderr",
     "output_type": "stream",
     "text": [
      "Epoch 14 [Val]:  47%|████▋     | 940/2004 [03:47<03:44,  4.75it/s, Loss=0.0250, Acc=99.04%]"
     ]
    },
    {
     "name": "stdout",
     "output_type": "stream",
     "text": [
      "[2025-02-26 21:23:43] Processed 940 validation batches\n"
     ]
    },
    {
     "name": "stderr",
     "output_type": "stream",
     "text": [
      "Epoch 14 [Val]:  48%|████▊     | 960/2004 [03:51<03:32,  4.90it/s, Loss=0.1090, Acc=99.01%]"
     ]
    },
    {
     "name": "stdout",
     "output_type": "stream",
     "text": [
      "[2025-02-26 21:23:47] Processed 960 validation batches\n"
     ]
    },
    {
     "name": "stderr",
     "output_type": "stream",
     "text": [
      "Epoch 14 [Val]:  49%|████▉     | 980/2004 [04:02<18:29,  1.08s/it, Loss=0.0175, Acc=98.95%]"
     ]
    },
    {
     "name": "stdout",
     "output_type": "stream",
     "text": [
      "[2025-02-26 21:23:58] Processed 980 validation batches\n"
     ]
    },
    {
     "name": "stderr",
     "output_type": "stream",
     "text": [
      "Epoch 14 [Val]:  50%|████▉     | 1000/2004 [04:09<03:31,  4.76it/s, Loss=0.0057, Acc=98.97%]"
     ]
    },
    {
     "name": "stdout",
     "output_type": "stream",
     "text": [
      "[2025-02-26 21:24:04] Processed 1000 validation batches\n"
     ]
    },
    {
     "name": "stderr",
     "output_type": "stream",
     "text": [
      "Epoch 14 [Val]:  51%|█████     | 1020/2004 [04:13<02:52,  5.72it/s, Loss=0.0014, Acc=98.98%]"
     ]
    },
    {
     "name": "stdout",
     "output_type": "stream",
     "text": [
      "[2025-02-26 21:24:09] Processed 1020 validation batches\n"
     ]
    },
    {
     "name": "stderr",
     "output_type": "stream",
     "text": [
      "Epoch 14 [Val]:  52%|█████▏    | 1040/2004 [04:21<03:33,  4.53it/s, Loss=0.0000, Acc=99.00%]"
     ]
    },
    {
     "name": "stdout",
     "output_type": "stream",
     "text": [
      "[2025-02-26 21:24:17] Processed 1040 validation batches\n"
     ]
    },
    {
     "name": "stderr",
     "output_type": "stream",
     "text": [
      "Epoch 14 [Val]:  53%|█████▎    | 1060/2004 [04:27<05:08,  3.06it/s, Loss=0.0000, Acc=99.02%]"
     ]
    },
    {
     "name": "stdout",
     "output_type": "stream",
     "text": [
      "[2025-02-26 21:24:23] Processed 1060 validation batches\n"
     ]
    },
    {
     "name": "stderr",
     "output_type": "stream",
     "text": [
      "Epoch 14 [Val]:  54%|█████▍    | 1080/2004 [04:36<07:53,  1.95it/s, Loss=0.0000, Acc=99.03%]"
     ]
    },
    {
     "name": "stdout",
     "output_type": "stream",
     "text": [
      "[2025-02-26 21:24:32] Processed 1080 validation batches\n"
     ]
    },
    {
     "name": "stderr",
     "output_type": "stream",
     "text": [
      "Epoch 14 [Val]:  55%|█████▍    | 1100/2004 [04:58<21:14,  1.41s/it, Loss=0.0001, Acc=99.04%]"
     ]
    },
    {
     "name": "stdout",
     "output_type": "stream",
     "text": [
      "[2025-02-26 21:24:54] Processed 1100 validation batches\n"
     ]
    },
    {
     "name": "stderr",
     "output_type": "stream",
     "text": [
      "Epoch 14 [Val]:  56%|█████▌    | 1120/2004 [05:21<18:48,  1.28s/it, Loss=0.0037, Acc=99.06%]"
     ]
    },
    {
     "name": "stdout",
     "output_type": "stream",
     "text": [
      "[2025-02-26 21:25:17] Processed 1120 validation batches\n"
     ]
    },
    {
     "name": "stderr",
     "output_type": "stream",
     "text": [
      "Epoch 14 [Val]:  57%|█████▋    | 1140/2004 [05:25<02:36,  5.54it/s, Loss=0.0001, Acc=99.07%]"
     ]
    },
    {
     "name": "stdout",
     "output_type": "stream",
     "text": [
      "[2025-02-26 21:25:20] Processed 1140 validation batches\n"
     ]
    },
    {
     "name": "stderr",
     "output_type": "stream",
     "text": [
      "Epoch 14 [Val]:  58%|█████▊    | 1160/2004 [05:29<02:56,  4.79it/s, Loss=0.0001, Acc=99.09%]"
     ]
    },
    {
     "name": "stdout",
     "output_type": "stream",
     "text": [
      "[2025-02-26 21:25:24] Processed 1160 validation batches\n"
     ]
    },
    {
     "name": "stderr",
     "output_type": "stream",
     "text": [
      "Epoch 14 [Val]:  59%|█████▉    | 1180/2004 [05:33<02:45,  4.99it/s, Loss=0.0000, Acc=99.11%]"
     ]
    },
    {
     "name": "stdout",
     "output_type": "stream",
     "text": [
      "[2025-02-26 21:25:28] Processed 1180 validation batches\n"
     ]
    },
    {
     "name": "stderr",
     "output_type": "stream",
     "text": [
      "Epoch 14 [Val]:  60%|█████▉    | 1200/2004 [05:35<01:38,  8.18it/s, Loss=0.0000, Acc=99.12%]"
     ]
    },
    {
     "name": "stdout",
     "output_type": "stream",
     "text": [
      "[2025-02-26 21:25:31] Processed 1200 validation batches\n"
     ]
    },
    {
     "name": "stderr",
     "output_type": "stream",
     "text": [
      "Epoch 14 [Val]:  61%|██████    | 1220/2004 [05:39<02:22,  5.52it/s, Loss=0.0087, Acc=99.13%]"
     ]
    },
    {
     "name": "stdout",
     "output_type": "stream",
     "text": [
      "[2025-02-26 21:25:34] Processed 1220 validation batches\n"
     ]
    },
    {
     "name": "stderr",
     "output_type": "stream",
     "text": [
      "Epoch 14 [Val]:  62%|██████▏   | 1240/2004 [05:42<02:21,  5.40it/s, Loss=0.0000, Acc=99.15%]"
     ]
    },
    {
     "name": "stdout",
     "output_type": "stream",
     "text": [
      "[2025-02-26 21:25:38] Processed 1240 validation batches\n"
     ]
    },
    {
     "name": "stderr",
     "output_type": "stream",
     "text": [
      "Epoch 14 [Val]:  63%|██████▎   | 1260/2004 [05:47<02:46,  4.48it/s, Loss=0.0000, Acc=99.16%]"
     ]
    },
    {
     "name": "stdout",
     "output_type": "stream",
     "text": [
      "[2025-02-26 21:25:42] Processed 1260 validation batches\n"
     ]
    },
    {
     "name": "stderr",
     "output_type": "stream",
     "text": [
      "Epoch 14 [Val]:  64%|██████▍   | 1280/2004 [05:51<02:32,  4.74it/s, Loss=0.0000, Acc=99.18%]"
     ]
    },
    {
     "name": "stdout",
     "output_type": "stream",
     "text": [
      "[2025-02-26 21:25:46] Processed 1280 validation batches\n"
     ]
    },
    {
     "name": "stderr",
     "output_type": "stream",
     "text": [
      "Epoch 14 [Val]:  65%|██████▍   | 1300/2004 [05:56<03:16,  3.59it/s, Loss=0.0214, Acc=99.18%]"
     ]
    },
    {
     "name": "stdout",
     "output_type": "stream",
     "text": [
      "[2025-02-26 21:25:51] Processed 1300 validation batches\n"
     ]
    },
    {
     "name": "stderr",
     "output_type": "stream",
     "text": [
      "Epoch 14 [Val]:  66%|██████▌   | 1320/2004 [06:00<02:27,  4.63it/s, Loss=0.0013, Acc=99.19%]"
     ]
    },
    {
     "name": "stdout",
     "output_type": "stream",
     "text": [
      "[2025-02-26 21:25:56] Processed 1320 validation batches\n"
     ]
    },
    {
     "name": "stderr",
     "output_type": "stream",
     "text": [
      "Epoch 14 [Val]:  67%|██████▋   | 1340/2004 [06:05<02:36,  4.25it/s, Loss=0.0326, Acc=99.18%]"
     ]
    },
    {
     "name": "stdout",
     "output_type": "stream",
     "text": [
      "[2025-02-26 21:26:00] Processed 1340 validation batches\n"
     ]
    },
    {
     "name": "stderr",
     "output_type": "stream",
     "text": [
      "Epoch 14 [Val]:  68%|██████▊   | 1360/2004 [06:08<01:54,  5.62it/s, Loss=0.0013, Acc=99.20%]"
     ]
    },
    {
     "name": "stdout",
     "output_type": "stream",
     "text": [
      "[2025-02-26 21:26:04] Processed 1360 validation batches\n"
     ]
    },
    {
     "name": "stderr",
     "output_type": "stream",
     "text": [
      "Epoch 14 [Val]:  69%|██████▉   | 1380/2004 [06:11<01:07,  9.23it/s, Loss=0.0002, Acc=99.21%]"
     ]
    },
    {
     "name": "stdout",
     "output_type": "stream",
     "text": [
      "[2025-02-26 21:26:06] Processed 1380 validation batches\n"
     ]
    },
    {
     "name": "stderr",
     "output_type": "stream",
     "text": [
      "Epoch 14 [Val]:  70%|██████▉   | 1400/2004 [06:13<01:08,  8.84it/s, Loss=0.0013, Acc=99.22%]"
     ]
    },
    {
     "name": "stdout",
     "output_type": "stream",
     "text": [
      "[2025-02-26 21:26:08] Processed 1400 validation batches\n"
     ]
    },
    {
     "name": "stderr",
     "output_type": "stream",
     "text": [
      "Epoch 14 [Val]:  71%|███████   | 1420/2004 [06:15<01:04,  8.99it/s, Loss=0.0009, Acc=99.23%]"
     ]
    },
    {
     "name": "stdout",
     "output_type": "stream",
     "text": [
      "[2025-02-26 21:26:11] Processed 1420 validation batches\n"
     ]
    },
    {
     "name": "stderr",
     "output_type": "stream",
     "text": [
      "Epoch 14 [Val]:  72%|███████▏  | 1440/2004 [06:17<01:04,  8.80it/s, Loss=0.0016, Acc=99.24%]"
     ]
    },
    {
     "name": "stdout",
     "output_type": "stream",
     "text": [
      "[2025-02-26 21:26:13] Processed 1440 validation batches\n"
     ]
    },
    {
     "name": "stderr",
     "output_type": "stream",
     "text": [
      "Epoch 14 [Val]:  73%|███████▎  | 1460/2004 [06:20<01:00,  8.92it/s, Loss=0.0017, Acc=99.25%]"
     ]
    },
    {
     "name": "stdout",
     "output_type": "stream",
     "text": [
      "[2025-02-26 21:26:15] Processed 1460 validation batches\n"
     ]
    },
    {
     "name": "stderr",
     "output_type": "stream",
     "text": [
      "Epoch 14 [Val]:  74%|███████▍  | 1480/2004 [06:22<00:59,  8.87it/s, Loss=0.0003, Acc=99.26%]"
     ]
    },
    {
     "name": "stdout",
     "output_type": "stream",
     "text": [
      "[2025-02-26 21:26:17] Processed 1480 validation batches\n"
     ]
    },
    {
     "name": "stderr",
     "output_type": "stream",
     "text": [
      "Epoch 14 [Val]:  75%|███████▍  | 1500/2004 [06:24<00:57,  8.83it/s, Loss=0.0013, Acc=99.27%]"
     ]
    },
    {
     "name": "stdout",
     "output_type": "stream",
     "text": [
      "[2025-02-26 21:26:20] Processed 1500 validation batches\n"
     ]
    },
    {
     "name": "stderr",
     "output_type": "stream",
     "text": [
      "Epoch 14 [Val]:  76%|███████▌  | 1520/2004 [06:26<00:56,  8.64it/s, Loss=0.0029, Acc=99.28%]"
     ]
    },
    {
     "name": "stdout",
     "output_type": "stream",
     "text": [
      "[2025-02-26 21:26:22] Processed 1520 validation batches\n"
     ]
    },
    {
     "name": "stderr",
     "output_type": "stream",
     "text": [
      "Epoch 14 [Val]:  77%|███████▋  | 1540/2004 [06:31<03:43,  2.07it/s, Loss=0.0008, Acc=99.29%]"
     ]
    },
    {
     "name": "stdout",
     "output_type": "stream",
     "text": [
      "[2025-02-26 21:26:26] Processed 1540 validation batches\n"
     ]
    },
    {
     "name": "stderr",
     "output_type": "stream",
     "text": [
      "Epoch 14 [Val]:  78%|███████▊  | 1560/2004 [06:41<02:20,  3.16it/s, Loss=0.0000, Acc=99.30%]"
     ]
    },
    {
     "name": "stdout",
     "output_type": "stream",
     "text": [
      "[2025-02-26 21:26:36] Processed 1560 validation batches\n"
     ]
    },
    {
     "name": "stderr",
     "output_type": "stream",
     "text": [
      "Epoch 14 [Val]:  79%|███████▉  | 1580/2004 [06:48<01:59,  3.53it/s, Loss=0.0008, Acc=99.31%]"
     ]
    },
    {
     "name": "stdout",
     "output_type": "stream",
     "text": [
      "[2025-02-26 21:26:43] Processed 1580 validation batches\n"
     ]
    },
    {
     "name": "stderr",
     "output_type": "stream",
     "text": [
      "Epoch 14 [Val]:  80%|███████▉  | 1600/2004 [06:50<00:45,  8.91it/s, Loss=0.0004, Acc=99.32%]"
     ]
    },
    {
     "name": "stdout",
     "output_type": "stream",
     "text": [
      "[2025-02-26 21:26:46] Processed 1600 validation batches\n"
     ]
    },
    {
     "name": "stderr",
     "output_type": "stream",
     "text": [
      "Epoch 14 [Val]:  81%|████████  | 1620/2004 [07:05<06:44,  1.05s/it, Loss=0.0013, Acc=99.33%]"
     ]
    },
    {
     "name": "stdout",
     "output_type": "stream",
     "text": [
      "[2025-02-26 21:27:01] Processed 1620 validation batches\n"
     ]
    },
    {
     "name": "stderr",
     "output_type": "stream",
     "text": [
      "Epoch 14 [Val]:  82%|████████▏ | 1640/2004 [07:25<02:02,  2.98it/s, Loss=0.0029, Acc=99.33%]"
     ]
    },
    {
     "name": "stdout",
     "output_type": "stream",
     "text": [
      "[2025-02-26 21:27:21] Processed 1640 validation batches\n"
     ]
    },
    {
     "name": "stderr",
     "output_type": "stream",
     "text": [
      "Epoch 14 [Val]:  83%|████████▎ | 1660/2004 [07:30<01:18,  4.39it/s, Loss=0.0048, Acc=99.33%]"
     ]
    },
    {
     "name": "stdout",
     "output_type": "stream",
     "text": [
      "[2025-02-26 21:27:25] Processed 1660 validation batches\n"
     ]
    },
    {
     "name": "stderr",
     "output_type": "stream",
     "text": [
      "Epoch 14 [Val]:  84%|████████▍ | 1680/2004 [07:35<01:15,  4.28it/s, Loss=0.0124, Acc=99.31%]"
     ]
    },
    {
     "name": "stdout",
     "output_type": "stream",
     "text": [
      "[2025-02-26 21:27:31] Processed 1680 validation batches\n"
     ]
    },
    {
     "name": "stderr",
     "output_type": "stream",
     "text": [
      "Epoch 14 [Val]:  85%|████████▍ | 1700/2004 [07:40<01:06,  4.55it/s, Loss=0.1276, Acc=99.32%]"
     ]
    },
    {
     "name": "stdout",
     "output_type": "stream",
     "text": [
      "[2025-02-26 21:27:35] Processed 1700 validation batches\n"
     ]
    },
    {
     "name": "stderr",
     "output_type": "stream",
     "text": [
      "Epoch 14 [Val]:  86%|████████▌ | 1720/2004 [07:45<01:00,  4.73it/s, Loss=0.0000, Acc=99.32%]"
     ]
    },
    {
     "name": "stdout",
     "output_type": "stream",
     "text": [
      "[2025-02-26 21:27:40] Processed 1720 validation batches\n"
     ]
    },
    {
     "name": "stderr",
     "output_type": "stream",
     "text": [
      "Epoch 14 [Val]:  87%|████████▋ | 1740/2004 [07:49<00:57,  4.57it/s, Loss=0.0002, Acc=99.33%]"
     ]
    },
    {
     "name": "stdout",
     "output_type": "stream",
     "text": [
      "[2025-02-26 21:27:44] Processed 1740 validation batches\n"
     ]
    },
    {
     "name": "stderr",
     "output_type": "stream",
     "text": [
      "Epoch 14 [Val]:  88%|████████▊ | 1760/2004 [07:53<00:53,  4.58it/s, Loss=0.0000, Acc=99.34%]"
     ]
    },
    {
     "name": "stdout",
     "output_type": "stream",
     "text": [
      "[2025-02-26 21:27:49] Processed 1760 validation batches\n"
     ]
    },
    {
     "name": "stderr",
     "output_type": "stream",
     "text": [
      "Epoch 14 [Val]:  89%|████████▉ | 1780/2004 [08:03<01:45,  2.12it/s, Loss=0.0000, Acc=99.34%]"
     ]
    },
    {
     "name": "stdout",
     "output_type": "stream",
     "text": [
      "[2025-02-26 21:27:59] Processed 1780 validation batches\n"
     ]
    },
    {
     "name": "stderr",
     "output_type": "stream",
     "text": [
      "Epoch 14 [Val]:  90%|████████▉ | 1800/2004 [08:07<00:38,  5.24it/s, Loss=0.0002, Acc=99.35%]"
     ]
    },
    {
     "name": "stdout",
     "output_type": "stream",
     "text": [
      "[2025-02-26 21:28:03] Processed 1800 validation batches\n"
     ]
    },
    {
     "name": "stderr",
     "output_type": "stream",
     "text": [
      "Epoch 14 [Val]:  91%|█████████ | 1820/2004 [08:14<00:41,  4.38it/s, Loss=0.0000, Acc=99.36%]"
     ]
    },
    {
     "name": "stdout",
     "output_type": "stream",
     "text": [
      "[2025-02-26 21:28:09] Processed 1820 validation batches\n"
     ]
    },
    {
     "name": "stderr",
     "output_type": "stream",
     "text": [
      "Epoch 14 [Val]:  92%|█████████▏| 1840/2004 [08:18<00:36,  4.46it/s, Loss=0.0000, Acc=99.37%]"
     ]
    },
    {
     "name": "stdout",
     "output_type": "stream",
     "text": [
      "[2025-02-26 21:28:14] Processed 1840 validation batches\n"
     ]
    },
    {
     "name": "stderr",
     "output_type": "stream",
     "text": [
      "Epoch 14 [Val]:  93%|█████████▎| 1860/2004 [08:23<00:30,  4.74it/s, Loss=0.0000, Acc=99.37%]"
     ]
    },
    {
     "name": "stdout",
     "output_type": "stream",
     "text": [
      "[2025-02-26 21:28:18] Processed 1860 validation batches\n"
     ]
    },
    {
     "name": "stderr",
     "output_type": "stream",
     "text": [
      "Epoch 14 [Val]:  94%|█████████▍| 1880/2004 [08:37<01:48,  1.14it/s, Loss=0.0000, Acc=99.38%]"
     ]
    },
    {
     "name": "stdout",
     "output_type": "stream",
     "text": [
      "[2025-02-26 21:28:32] Processed 1880 validation batches\n"
     ]
    },
    {
     "name": "stderr",
     "output_type": "stream",
     "text": [
      "Epoch 14 [Val]:  95%|█████████▍| 1900/2004 [08:44<00:32,  3.17it/s, Loss=0.0000, Acc=99.39%]"
     ]
    },
    {
     "name": "stdout",
     "output_type": "stream",
     "text": [
      "[2025-02-26 21:28:39] Processed 1900 validation batches\n"
     ]
    },
    {
     "name": "stderr",
     "output_type": "stream",
     "text": [
      "Epoch 14 [Val]:  96%|█████████▌| 1920/2004 [08:51<00:11,  7.40it/s, Loss=0.0006, Acc=99.39%]"
     ]
    },
    {
     "name": "stdout",
     "output_type": "stream",
     "text": [
      "[2025-02-26 21:28:47] Processed 1920 validation batches\n"
     ]
    },
    {
     "name": "stderr",
     "output_type": "stream",
     "text": [
      "Epoch 14 [Val]:  97%|█████████▋| 1940/2004 [08:56<00:15,  4.25it/s, Loss=0.0051, Acc=99.40%]"
     ]
    },
    {
     "name": "stdout",
     "output_type": "stream",
     "text": [
      "[2025-02-26 21:28:51] Processed 1940 validation batches\n"
     ]
    },
    {
     "name": "stderr",
     "output_type": "stream",
     "text": [
      "Epoch 14 [Val]:  98%|█████████▊| 1960/2004 [09:00<00:09,  4.50it/s, Loss=0.0002, Acc=99.40%]"
     ]
    },
    {
     "name": "stdout",
     "output_type": "stream",
     "text": [
      "[2025-02-26 21:28:56] Processed 1960 validation batches\n"
     ]
    },
    {
     "name": "stderr",
     "output_type": "stream",
     "text": [
      "Epoch 14 [Val]:  99%|█████████▉| 1979/2004 [09:03<00:03,  8.32it/s, Loss=0.0087, Acc=99.38%]"
     ]
    },
    {
     "name": "stdout",
     "output_type": "stream",
     "text": [
      "[2025-02-26 21:28:58] Processed 1980 validation batches\n"
     ]
    },
    {
     "name": "stderr",
     "output_type": "stream",
     "text": [
      "Epoch 14 [Val]: 100%|█████████▉| 1999/2004 [09:05<00:00, 11.22it/s, Loss=0.0013, Acc=99.36%]"
     ]
    },
    {
     "name": "stdout",
     "output_type": "stream",
     "text": [
      "[2025-02-26 21:29:00] Processed 2000 validation batches\n"
     ]
    },
    {
     "name": "stderr",
     "output_type": "stream",
     "text": [
      "Epoch 14 [Val]: 100%|██████████| 2004/2004 [09:05<00:00,  3.67it/s, Loss=0.0001, Acc=99.36%]"
     ]
    },
    {
     "name": "stdout",
     "output_type": "stream",
     "text": [
      "[2025-02-26 21:29:00] Epoch 14 Results:\n",
      "[2025-02-26 21:29:00] Train Loss: 0.0921 | Train Acc: 97.04%\n",
      "[2025-02-26 21:29:00] Val Loss: 0.0210 | Val Acc: 99.36%\n",
      "[2025-02-26 21:29:00] Starting epoch 15/15\n"
     ]
    },
    {
     "name": "stderr",
     "output_type": "stream",
     "text": [
      "\n",
      "Epoch 15 [Train]:   0%|          | 0/2004 [00:00<?, ?it/s, Loss=0.2907, Acc=87.50%]"
     ]
    },
    {
     "name": "stdout",
     "output_type": "stream",
     "text": [
      "[2025-02-26 21:29:01] Processed 0 training batches\n"
     ]
    },
    {
     "name": "stderr",
     "output_type": "stream",
     "text": [
      "Epoch 15 [Train]:   2%|▏         | 50/2004 [00:14<11:12,  2.91it/s, Loss=0.0152, Acc=97.92%]"
     ]
    },
    {
     "name": "stdout",
     "output_type": "stream",
     "text": [
      "[2025-02-26 21:29:15] Processed 50 training batches\n"
     ]
    },
    {
     "name": "stderr",
     "output_type": "stream",
     "text": [
      "Epoch 15 [Train]:   5%|▍         | 100/2004 [00:26<08:02,  3.95it/s, Loss=0.0938, Acc=97.22%]"
     ]
    },
    {
     "name": "stdout",
     "output_type": "stream",
     "text": [
      "[2025-02-26 21:29:27] Processed 100 training batches\n"
     ]
    },
    {
     "name": "stderr",
     "output_type": "stream",
     "text": [
      "Epoch 15 [Train]:   7%|▋         | 150/2004 [00:38<08:04,  3.83it/s, Loss=0.0245, Acc=96.98%]"
     ]
    },
    {
     "name": "stdout",
     "output_type": "stream",
     "text": [
      "[2025-02-26 21:29:39] Processed 150 training batches\n"
     ]
    },
    {
     "name": "stderr",
     "output_type": "stream",
     "text": [
      "Epoch 15 [Train]:  10%|▉         | 200/2004 [00:50<06:26,  4.66it/s, Loss=0.0029, Acc=96.95%]"
     ]
    },
    {
     "name": "stdout",
     "output_type": "stream",
     "text": [
      "[2025-02-26 21:29:51] Processed 200 training batches\n"
     ]
    },
    {
     "name": "stderr",
     "output_type": "stream",
     "text": [
      "Epoch 15 [Train]:  12%|█▏        | 250/2004 [01:03<09:10,  3.19it/s, Loss=0.1427, Acc=96.99%]"
     ]
    },
    {
     "name": "stdout",
     "output_type": "stream",
     "text": [
      "[2025-02-26 21:30:04] Processed 250 training batches\n"
     ]
    },
    {
     "name": "stderr",
     "output_type": "stream",
     "text": [
      "Epoch 15 [Train]:  15%|█▍        | 300/2004 [01:16<06:15,  4.54it/s, Loss=0.0682, Acc=97.13%]"
     ]
    },
    {
     "name": "stdout",
     "output_type": "stream",
     "text": [
      "[2025-02-26 21:30:17] Processed 300 training batches\n"
     ]
    },
    {
     "name": "stderr",
     "output_type": "stream",
     "text": [
      "Epoch 15 [Train]:  17%|█▋        | 350/2004 [01:28<06:39,  4.14it/s, Loss=0.0923, Acc=97.17%]"
     ]
    },
    {
     "name": "stdout",
     "output_type": "stream",
     "text": [
      "[2025-02-26 21:30:29] Processed 350 training batches\n"
     ]
    },
    {
     "name": "stderr",
     "output_type": "stream",
     "text": [
      "Epoch 15 [Train]:  20%|█▉        | 400/2004 [01:41<06:21,  4.20it/s, Loss=0.1171, Acc=97.21%]"
     ]
    },
    {
     "name": "stdout",
     "output_type": "stream",
     "text": [
      "[2025-02-26 21:30:42] Processed 400 training batches\n"
     ]
    },
    {
     "name": "stderr",
     "output_type": "stream",
     "text": [
      "Epoch 15 [Train]:  22%|██▏       | 450/2004 [01:54<08:04,  3.21it/s, Loss=0.0011, Acc=97.23%]"
     ]
    },
    {
     "name": "stdout",
     "output_type": "stream",
     "text": [
      "[2025-02-26 21:30:55] Processed 450 training batches\n"
     ]
    },
    {
     "name": "stderr",
     "output_type": "stream",
     "text": [
      "Epoch 15 [Train]:  25%|██▍       | 500/2004 [02:08<07:22,  3.40it/s, Loss=0.0067, Acc=97.33%]"
     ]
    },
    {
     "name": "stdout",
     "output_type": "stream",
     "text": [
      "[2025-02-26 21:31:09] Processed 500 training batches\n"
     ]
    },
    {
     "name": "stderr",
     "output_type": "stream",
     "text": [
      "Epoch 15 [Train]:  27%|██▋       | 550/2004 [02:21<05:47,  4.18it/s, Loss=0.0180, Acc=97.32%]"
     ]
    },
    {
     "name": "stdout",
     "output_type": "stream",
     "text": [
      "[2025-02-26 21:31:22] Processed 550 training batches\n"
     ]
    },
    {
     "name": "stderr",
     "output_type": "stream",
     "text": [
      "Epoch 15 [Train]:  30%|██▉       | 600/2004 [02:34<05:47,  4.04it/s, Loss=0.0011, Acc=97.31%]"
     ]
    },
    {
     "name": "stdout",
     "output_type": "stream",
     "text": [
      "[2025-02-26 21:31:35] Processed 600 training batches\n"
     ]
    },
    {
     "name": "stderr",
     "output_type": "stream",
     "text": [
      "Epoch 15 [Train]:  32%|███▏      | 650/2004 [02:48<05:13,  4.32it/s, Loss=0.3018, Acc=97.33%]"
     ]
    },
    {
     "name": "stdout",
     "output_type": "stream",
     "text": [
      "[2025-02-26 21:31:49] Processed 650 training batches\n"
     ]
    },
    {
     "name": "stderr",
     "output_type": "stream",
     "text": [
      "Epoch 15 [Train]:  35%|███▍      | 700/2004 [03:01<05:31,  3.94it/s, Loss=0.0194, Acc=97.30%]"
     ]
    },
    {
     "name": "stdout",
     "output_type": "stream",
     "text": [
      "[2025-02-26 21:32:02] Processed 700 training batches\n"
     ]
    },
    {
     "name": "stderr",
     "output_type": "stream",
     "text": [
      "Epoch 15 [Train]:  37%|███▋      | 750/2004 [03:15<05:27,  3.82it/s, Loss=0.0382, Acc=97.24%]"
     ]
    },
    {
     "name": "stdout",
     "output_type": "stream",
     "text": [
      "[2025-02-26 21:32:16] Processed 750 training batches\n"
     ]
    },
    {
     "name": "stderr",
     "output_type": "stream",
     "text": [
      "Epoch 15 [Train]:  40%|███▉      | 800/2004 [03:29<04:59,  4.02it/s, Loss=0.0331, Acc=97.25%]"
     ]
    },
    {
     "name": "stdout",
     "output_type": "stream",
     "text": [
      "[2025-02-26 21:32:30] Processed 800 training batches\n"
     ]
    },
    {
     "name": "stderr",
     "output_type": "stream",
     "text": [
      "Epoch 15 [Train]:  42%|████▏     | 850/2004 [03:43<04:38,  4.14it/s, Loss=0.5018, Acc=97.22%]"
     ]
    },
    {
     "name": "stdout",
     "output_type": "stream",
     "text": [
      "[2025-02-26 21:32:44] Processed 850 training batches\n"
     ]
    },
    {
     "name": "stderr",
     "output_type": "stream",
     "text": [
      "Epoch 15 [Train]:  45%|████▍     | 900/2004 [03:56<04:14,  4.33it/s, Loss=0.0333, Acc=97.23%]"
     ]
    },
    {
     "name": "stdout",
     "output_type": "stream",
     "text": [
      "[2025-02-26 21:32:57] Processed 900 training batches\n"
     ]
    },
    {
     "name": "stderr",
     "output_type": "stream",
     "text": [
      "Epoch 15 [Train]:  47%|████▋     | 950/2004 [04:09<04:55,  3.57it/s, Loss=0.0186, Acc=97.21%]"
     ]
    },
    {
     "name": "stdout",
     "output_type": "stream",
     "text": [
      "[2025-02-26 21:33:10] Processed 950 training batches\n"
     ]
    },
    {
     "name": "stderr",
     "output_type": "stream",
     "text": [
      "Epoch 15 [Train]:  50%|████▉     | 1000/2004 [04:22<04:17,  3.90it/s, Loss=0.2519, Acc=97.25%]"
     ]
    },
    {
     "name": "stdout",
     "output_type": "stream",
     "text": [
      "[2025-02-26 21:33:23] Processed 1000 training batches\n"
     ]
    },
    {
     "name": "stderr",
     "output_type": "stream",
     "text": [
      "Epoch 15 [Train]:  52%|█████▏    | 1050/2004 [04:36<04:20,  3.66it/s, Loss=0.0019, Acc=97.28%]"
     ]
    },
    {
     "name": "stdout",
     "output_type": "stream",
     "text": [
      "[2025-02-26 21:33:37] Processed 1050 training batches\n"
     ]
    },
    {
     "name": "stderr",
     "output_type": "stream",
     "text": [
      "Epoch 15 [Train]:  55%|█████▍    | 1100/2004 [04:50<03:51,  3.90it/s, Loss=0.0832, Acc=97.30%]"
     ]
    },
    {
     "name": "stdout",
     "output_type": "stream",
     "text": [
      "[2025-02-26 21:33:51] Processed 1100 training batches\n"
     ]
    },
    {
     "name": "stderr",
     "output_type": "stream",
     "text": [
      "Epoch 15 [Train]:  57%|█████▋    | 1150/2004 [05:04<04:32,  3.13it/s, Loss=0.0973, Acc=97.29%]"
     ]
    },
    {
     "name": "stdout",
     "output_type": "stream",
     "text": [
      "[2025-02-26 21:34:05] Processed 1150 training batches\n"
     ]
    },
    {
     "name": "stderr",
     "output_type": "stream",
     "text": [
      "Epoch 15 [Train]:  60%|█████▉    | 1200/2004 [05:19<04:39,  2.87it/s, Loss=0.1867, Acc=97.29%]"
     ]
    },
    {
     "name": "stdout",
     "output_type": "stream",
     "text": [
      "[2025-02-26 21:34:20] Processed 1200 training batches\n"
     ]
    },
    {
     "name": "stderr",
     "output_type": "stream",
     "text": [
      "Epoch 15 [Train]:  62%|██████▏   | 1250/2004 [05:34<03:38,  3.45it/s, Loss=0.0451, Acc=97.26%]"
     ]
    },
    {
     "name": "stdout",
     "output_type": "stream",
     "text": [
      "[2025-02-26 21:34:35] Processed 1250 training batches\n"
     ]
    },
    {
     "name": "stderr",
     "output_type": "stream",
     "text": [
      "Epoch 15 [Train]:  65%|██████▍   | 1300/2004 [05:49<03:03,  3.83it/s, Loss=0.0384, Acc=97.24%]"
     ]
    },
    {
     "name": "stdout",
     "output_type": "stream",
     "text": [
      "[2025-02-26 21:34:50] Processed 1300 training batches\n"
     ]
    },
    {
     "name": "stderr",
     "output_type": "stream",
     "text": [
      "Epoch 15 [Train]:  67%|██████▋   | 1350/2004 [06:03<03:34,  3.05it/s, Loss=0.2321, Acc=97.27%]"
     ]
    },
    {
     "name": "stdout",
     "output_type": "stream",
     "text": [
      "[2025-02-26 21:35:04] Processed 1350 training batches\n"
     ]
    },
    {
     "name": "stderr",
     "output_type": "stream",
     "text": [
      "Epoch 15 [Train]:  70%|██████▉   | 1400/2004 [06:18<03:34,  2.82it/s, Loss=0.4025, Acc=97.23%]"
     ]
    },
    {
     "name": "stdout",
     "output_type": "stream",
     "text": [
      "[2025-02-26 21:35:19] Processed 1400 training batches\n"
     ]
    },
    {
     "name": "stderr",
     "output_type": "stream",
     "text": [
      "Epoch 15 [Train]:  72%|███████▏  | 1450/2004 [06:34<02:47,  3.31it/s, Loss=0.1383, Acc=97.21%]"
     ]
    },
    {
     "name": "stdout",
     "output_type": "stream",
     "text": [
      "[2025-02-26 21:35:35] Processed 1450 training batches\n"
     ]
    },
    {
     "name": "stderr",
     "output_type": "stream",
     "text": [
      "Epoch 15 [Train]:  75%|███████▍  | 1500/2004 [06:49<02:50,  2.96it/s, Loss=0.0084, Acc=97.23%]"
     ]
    },
    {
     "name": "stdout",
     "output_type": "stream",
     "text": [
      "[2025-02-26 21:35:50] Processed 1500 training batches\n"
     ]
    },
    {
     "name": "stderr",
     "output_type": "stream",
     "text": [
      "Epoch 15 [Train]:  77%|███████▋  | 1550/2004 [07:03<02:04,  3.65it/s, Loss=0.0078, Acc=97.26%]"
     ]
    },
    {
     "name": "stdout",
     "output_type": "stream",
     "text": [
      "[2025-02-26 21:36:04] Processed 1550 training batches\n"
     ]
    },
    {
     "name": "stderr",
     "output_type": "stream",
     "text": [
      "Epoch 15 [Train]:  80%|███████▉  | 1600/2004 [07:18<02:07,  3.18it/s, Loss=0.0214, Acc=97.24%]"
     ]
    },
    {
     "name": "stdout",
     "output_type": "stream",
     "text": [
      "[2025-02-26 21:36:19] Processed 1600 training batches\n"
     ]
    },
    {
     "name": "stderr",
     "output_type": "stream",
     "text": [
      "Epoch 15 [Train]:  82%|████████▏ | 1650/2004 [07:32<01:45,  3.36it/s, Loss=0.0298, Acc=97.22%]"
     ]
    },
    {
     "name": "stdout",
     "output_type": "stream",
     "text": [
      "[2025-02-26 21:36:33] Processed 1650 training batches\n"
     ]
    },
    {
     "name": "stderr",
     "output_type": "stream",
     "text": [
      "Epoch 15 [Train]:  85%|████████▍ | 1700/2004 [07:47<01:26,  3.53it/s, Loss=0.0109, Acc=97.24%]"
     ]
    },
    {
     "name": "stdout",
     "output_type": "stream",
     "text": [
      "[2025-02-26 21:36:48] Processed 1700 training batches\n"
     ]
    },
    {
     "name": "stderr",
     "output_type": "stream",
     "text": [
      "Epoch 15 [Train]:  87%|████████▋ | 1750/2004 [08:02<01:16,  3.34it/s, Loss=0.1870, Acc=97.23%]"
     ]
    },
    {
     "name": "stdout",
     "output_type": "stream",
     "text": [
      "[2025-02-26 21:37:03] Processed 1750 training batches\n"
     ]
    },
    {
     "name": "stderr",
     "output_type": "stream",
     "text": [
      "Epoch 15 [Train]:  90%|████████▉ | 1800/2004 [08:17<01:10,  2.91it/s, Loss=0.0167, Acc=97.21%]"
     ]
    },
    {
     "name": "stdout",
     "output_type": "stream",
     "text": [
      "[2025-02-26 21:37:18] Processed 1800 training batches\n"
     ]
    },
    {
     "name": "stderr",
     "output_type": "stream",
     "text": [
      "Epoch 15 [Train]:  92%|█████████▏| 1850/2004 [08:32<00:46,  3.31it/s, Loss=0.0222, Acc=97.20%]"
     ]
    },
    {
     "name": "stdout",
     "output_type": "stream",
     "text": [
      "[2025-02-26 21:37:33] Processed 1850 training batches\n"
     ]
    },
    {
     "name": "stderr",
     "output_type": "stream",
     "text": [
      "Epoch 15 [Train]:  95%|█████████▍| 1900/2004 [08:47<00:32,  3.17it/s, Loss=0.1758, Acc=97.21%]"
     ]
    },
    {
     "name": "stdout",
     "output_type": "stream",
     "text": [
      "[2025-02-26 21:37:48] Processed 1900 training batches\n"
     ]
    },
    {
     "name": "stderr",
     "output_type": "stream",
     "text": [
      "Epoch 15 [Train]:  97%|█████████▋| 1950/2004 [09:02<00:16,  3.19it/s, Loss=0.0063, Acc=97.18%]"
     ]
    },
    {
     "name": "stdout",
     "output_type": "stream",
     "text": [
      "[2025-02-26 21:38:03] Processed 1950 training batches\n"
     ]
    },
    {
     "name": "stderr",
     "output_type": "stream",
     "text": [
      "Epoch 15 [Train]: 100%|█████████▉| 2000/2004 [09:17<00:01,  3.64it/s, Loss=0.0259, Acc=97.16%]"
     ]
    },
    {
     "name": "stdout",
     "output_type": "stream",
     "text": [
      "[2025-02-26 21:38:18] Processed 2000 training batches\n"
     ]
    },
    {
     "name": "stderr",
     "output_type": "stream",
     "text": [
      "Epoch 15 [Train]: 100%|██████████| 2004/2004 [09:18<00:00,  3.59it/s, Loss=2.5405, Acc=97.15%]\n",
      "Epoch 15 [Val]:   0%|          | 0/2004 [00:00<?, ?it/s, Loss=0.2223, Acc=93.75%]"
     ]
    },
    {
     "name": "stdout",
     "output_type": "stream",
     "text": [
      "[2025-02-26 21:38:19] Processed 0 validation batches\n"
     ]
    },
    {
     "name": "stderr",
     "output_type": "stream",
     "text": [
      "Epoch 15 [Val]:   1%|          | 20/2004 [00:07<10:07,  3.27it/s, Loss=0.0939, Acc=98.81%]"
     ]
    },
    {
     "name": "stdout",
     "output_type": "stream",
     "text": [
      "[2025-02-26 21:38:26] Processed 20 validation batches\n"
     ]
    },
    {
     "name": "stderr",
     "output_type": "stream",
     "text": [
      "Epoch 15 [Val]:   2%|▏         | 40/2004 [00:12<09:12,  3.55it/s, Loss=0.0028, Acc=99.09%]"
     ]
    },
    {
     "name": "stdout",
     "output_type": "stream",
     "text": [
      "[2025-02-26 21:38:32] Processed 40 validation batches\n"
     ]
    },
    {
     "name": "stderr",
     "output_type": "stream",
     "text": [
      "Epoch 15 [Val]:   3%|▎         | 60/2004 [00:19<12:06,  2.68it/s, Loss=0.0046, Acc=98.26%]"
     ]
    },
    {
     "name": "stdout",
     "output_type": "stream",
     "text": [
      "[2025-02-26 21:38:39] Processed 60 validation batches\n"
     ]
    },
    {
     "name": "stderr",
     "output_type": "stream",
     "text": [
      "Epoch 15 [Val]:   4%|▍         | 80/2004 [00:24<06:42,  4.78it/s, Loss=0.0032, Acc=98.53%]"
     ]
    },
    {
     "name": "stdout",
     "output_type": "stream",
     "text": [
      "[2025-02-26 21:38:43] Processed 80 validation batches\n"
     ]
    },
    {
     "name": "stderr",
     "output_type": "stream",
     "text": [
      "Epoch 15 [Val]:   5%|▍         | 100/2004 [00:34<10:26,  3.04it/s, Loss=0.0024, Acc=98.58%]"
     ]
    },
    {
     "name": "stdout",
     "output_type": "stream",
     "text": [
      "[2025-02-26 21:38:54] Processed 100 validation batches\n"
     ]
    },
    {
     "name": "stderr",
     "output_type": "stream",
     "text": [
      "Epoch 15 [Val]:   6%|▌         | 120/2004 [00:40<07:41,  4.08it/s, Loss=0.4622, Acc=98.35%]"
     ]
    },
    {
     "name": "stdout",
     "output_type": "stream",
     "text": [
      "[2025-02-26 21:39:00] Processed 120 validation batches\n"
     ]
    },
    {
     "name": "stderr",
     "output_type": "stream",
     "text": [
      "Epoch 15 [Val]:   7%|▋         | 140/2004 [00:52<32:58,  1.06s/it, Loss=0.0070, Acc=96.99%]"
     ]
    },
    {
     "name": "stdout",
     "output_type": "stream",
     "text": [
      "[2025-02-26 21:39:11] Processed 140 validation batches\n"
     ]
    },
    {
     "name": "stderr",
     "output_type": "stream",
     "text": [
      "Epoch 15 [Val]:   8%|▊         | 160/2004 [00:57<06:52,  4.48it/s, Loss=0.0050, Acc=97.17%]"
     ]
    },
    {
     "name": "stdout",
     "output_type": "stream",
     "text": [
      "[2025-02-26 21:39:16] Processed 160 validation batches\n"
     ]
    },
    {
     "name": "stderr",
     "output_type": "stream",
     "text": [
      "Epoch 15 [Val]:   9%|▉         | 180/2004 [01:03<11:46,  2.58it/s, Loss=0.0410, Acc=97.24%]"
     ]
    },
    {
     "name": "stdout",
     "output_type": "stream",
     "text": [
      "[2025-02-26 21:39:23] Processed 180 validation batches\n"
     ]
    },
    {
     "name": "stderr",
     "output_type": "stream",
     "text": [
      "Epoch 15 [Val]:  10%|▉         | 200/2004 [01:14<17:28,  1.72it/s, Loss=0.0009, Acc=96.92%]"
     ]
    },
    {
     "name": "stdout",
     "output_type": "stream",
     "text": [
      "[2025-02-26 21:39:33] Processed 200 validation batches\n"
     ]
    },
    {
     "name": "stderr",
     "output_type": "stream",
     "text": [
      "Epoch 15 [Val]:  11%|█         | 220/2004 [01:28<04:52,  6.10it/s, Loss=0.0009, Acc=97.20%]"
     ]
    },
    {
     "name": "stdout",
     "output_type": "stream",
     "text": [
      "[2025-02-26 21:39:47] Processed 220 validation batches\n"
     ]
    },
    {
     "name": "stderr",
     "output_type": "stream",
     "text": [
      "Epoch 15 [Val]:  12%|█▏        | 240/2004 [01:31<03:21,  8.74it/s, Loss=0.0000, Acc=97.43%]"
     ]
    },
    {
     "name": "stdout",
     "output_type": "stream",
     "text": [
      "[2025-02-26 21:39:50] Processed 240 validation batches\n"
     ]
    },
    {
     "name": "stderr",
     "output_type": "stream",
     "text": [
      "Epoch 15 [Val]:  13%|█▎        | 260/2004 [01:33<03:16,  8.86it/s, Loss=0.0001, Acc=97.63%]"
     ]
    },
    {
     "name": "stdout",
     "output_type": "stream",
     "text": [
      "[2025-02-26 21:39:52] Processed 260 validation batches\n"
     ]
    },
    {
     "name": "stderr",
     "output_type": "stream",
     "text": [
      "Epoch 15 [Val]:  14%|█▍        | 280/2004 [01:35<03:06,  9.25it/s, Loss=0.0000, Acc=97.80%]"
     ]
    },
    {
     "name": "stdout",
     "output_type": "stream",
     "text": [
      "[2025-02-26 21:39:54] Processed 280 validation batches\n"
     ]
    },
    {
     "name": "stderr",
     "output_type": "stream",
     "text": [
      "Epoch 15 [Val]:  15%|█▍        | 300/2004 [01:37<03:10,  8.96it/s, Loss=0.0003, Acc=97.94%]"
     ]
    },
    {
     "name": "stdout",
     "output_type": "stream",
     "text": [
      "[2025-02-26 21:39:57] Processed 300 validation batches\n"
     ]
    },
    {
     "name": "stderr",
     "output_type": "stream",
     "text": [
      "Epoch 15 [Val]:  16%|█▌        | 320/2004 [01:40<03:10,  8.82it/s, Loss=0.0006, Acc=98.07%]"
     ]
    },
    {
     "name": "stdout",
     "output_type": "stream",
     "text": [
      "[2025-02-26 21:39:59] Processed 320 validation batches\n"
     ]
    },
    {
     "name": "stderr",
     "output_type": "stream",
     "text": [
      "Epoch 15 [Val]:  17%|█▋        | 340/2004 [01:42<03:03,  9.06it/s, Loss=0.0002, Acc=98.19%]"
     ]
    },
    {
     "name": "stdout",
     "output_type": "stream",
     "text": [
      "[2025-02-26 21:40:01] Processed 340 validation batches\n"
     ]
    },
    {
     "name": "stderr",
     "output_type": "stream",
     "text": [
      "Epoch 15 [Val]:  18%|█▊        | 360/2004 [01:44<03:06,  8.80it/s, Loss=0.0007, Acc=98.29%]"
     ]
    },
    {
     "name": "stdout",
     "output_type": "stream",
     "text": [
      "[2025-02-26 21:40:03] Processed 360 validation batches\n"
     ]
    },
    {
     "name": "stderr",
     "output_type": "stream",
     "text": [
      "Epoch 15 [Val]:  19%|█▉        | 380/2004 [01:46<03:02,  8.90it/s, Loss=0.0002, Acc=98.38%]"
     ]
    },
    {
     "name": "stdout",
     "output_type": "stream",
     "text": [
      "[2025-02-26 21:40:06] Processed 380 validation batches\n"
     ]
    },
    {
     "name": "stderr",
     "output_type": "stream",
     "text": [
      "Epoch 15 [Val]:  20%|█▉        | 400/2004 [01:49<02:56,  9.08it/s, Loss=0.0014, Acc=98.46%]"
     ]
    },
    {
     "name": "stdout",
     "output_type": "stream",
     "text": [
      "[2025-02-26 21:40:08] Processed 400 validation batches\n"
     ]
    },
    {
     "name": "stderr",
     "output_type": "stream",
     "text": [
      "Epoch 15 [Val]:  21%|██        | 420/2004 [01:51<02:56,  8.97it/s, Loss=0.0002, Acc=98.53%]"
     ]
    },
    {
     "name": "stdout",
     "output_type": "stream",
     "text": [
      "[2025-02-26 21:40:10] Processed 420 validation batches\n"
     ]
    },
    {
     "name": "stderr",
     "output_type": "stream",
     "text": [
      "Epoch 15 [Val]:  22%|██▏       | 440/2004 [01:53<03:00,  8.68it/s, Loss=0.0003, Acc=98.60%]"
     ]
    },
    {
     "name": "stdout",
     "output_type": "stream",
     "text": [
      "[2025-02-26 21:40:12] Processed 440 validation batches\n"
     ]
    },
    {
     "name": "stderr",
     "output_type": "stream",
     "text": [
      "Epoch 15 [Val]:  23%|██▎       | 460/2004 [02:06<11:49,  2.18it/s, Loss=0.0066, Acc=98.64%]"
     ]
    },
    {
     "name": "stdout",
     "output_type": "stream",
     "text": [
      "[2025-02-26 21:40:26] Processed 460 validation batches\n"
     ]
    },
    {
     "name": "stderr",
     "output_type": "stream",
     "text": [
      "Epoch 15 [Val]:  24%|██▍       | 480/2004 [02:12<07:16,  3.49it/s, Loss=0.1599, Acc=98.67%]"
     ]
    },
    {
     "name": "stdout",
     "output_type": "stream",
     "text": [
      "[2025-02-26 21:40:31] Processed 480 validation batches\n"
     ]
    },
    {
     "name": "stderr",
     "output_type": "stream",
     "text": [
      "Epoch 15 [Val]:  25%|██▍       | 500/2004 [02:19<02:53,  8.67it/s, Loss=0.0005, Acc=98.73%]"
     ]
    },
    {
     "name": "stdout",
     "output_type": "stream",
     "text": [
      "[2025-02-26 21:40:38] Processed 500 validation batches\n"
     ]
    },
    {
     "name": "stderr",
     "output_type": "stream",
     "text": [
      "Epoch 15 [Val]:  26%|██▌       | 520/2004 [02:21<02:48,  8.83it/s, Loss=0.0003, Acc=98.78%]"
     ]
    },
    {
     "name": "stdout",
     "output_type": "stream",
     "text": [
      "[2025-02-26 21:40:40] Processed 520 validation batches\n"
     ]
    },
    {
     "name": "stderr",
     "output_type": "stream",
     "text": [
      "Epoch 15 [Val]:  27%|██▋       | 540/2004 [02:24<04:11,  5.82it/s, Loss=0.0009, Acc=98.82%]"
     ]
    },
    {
     "name": "stdout",
     "output_type": "stream",
     "text": [
      "[2025-02-26 21:40:43] Processed 540 validation batches\n"
     ]
    },
    {
     "name": "stderr",
     "output_type": "stream",
     "text": [
      "Epoch 15 [Val]:  28%|██▊       | 560/2004 [02:27<03:01,  7.94it/s, Loss=0.0006, Acc=98.86%]"
     ]
    },
    {
     "name": "stdout",
     "output_type": "stream",
     "text": [
      "[2025-02-26 21:40:46] Processed 560 validation batches\n"
     ]
    },
    {
     "name": "stderr",
     "output_type": "stream",
     "text": [
      "Epoch 15 [Val]:  29%|██▉       | 580/2004 [02:31<07:10,  3.31it/s, Loss=0.0003, Acc=98.89%]"
     ]
    },
    {
     "name": "stdout",
     "output_type": "stream",
     "text": [
      "[2025-02-26 21:40:50] Processed 580 validation batches\n"
     ]
    },
    {
     "name": "stderr",
     "output_type": "stream",
     "text": [
      "Epoch 15 [Val]:  30%|██▉       | 600/2004 [02:34<02:54,  8.04it/s, Loss=0.0001, Acc=98.93%]"
     ]
    },
    {
     "name": "stdout",
     "output_type": "stream",
     "text": [
      "[2025-02-26 21:40:53] Processed 600 validation batches\n"
     ]
    },
    {
     "name": "stderr",
     "output_type": "stream",
     "text": [
      "Epoch 15 [Val]:  31%|███       | 620/2004 [02:36<02:50,  8.10it/s, Loss=0.0000, Acc=98.96%]"
     ]
    },
    {
     "name": "stdout",
     "output_type": "stream",
     "text": [
      "[2025-02-26 21:40:55] Processed 620 validation batches\n"
     ]
    },
    {
     "name": "stderr",
     "output_type": "stream",
     "text": [
      "Epoch 15 [Val]:  32%|███▏      | 640/2004 [02:39<02:46,  8.20it/s, Loss=0.0001, Acc=99.00%]"
     ]
    },
    {
     "name": "stdout",
     "output_type": "stream",
     "text": [
      "[2025-02-26 21:40:58] Processed 640 validation batches\n"
     ]
    },
    {
     "name": "stderr",
     "output_type": "stream",
     "text": [
      "Epoch 15 [Val]:  33%|███▎      | 660/2004 [02:41<02:43,  8.23it/s, Loss=0.0002, Acc=99.03%]"
     ]
    },
    {
     "name": "stdout",
     "output_type": "stream",
     "text": [
      "[2025-02-26 21:41:00] Processed 660 validation batches\n"
     ]
    },
    {
     "name": "stderr",
     "output_type": "stream",
     "text": [
      "Epoch 15 [Val]:  34%|███▍      | 680/2004 [02:44<02:44,  8.07it/s, Loss=0.0000, Acc=99.05%]"
     ]
    },
    {
     "name": "stdout",
     "output_type": "stream",
     "text": [
      "[2025-02-26 21:41:03] Processed 680 validation batches\n"
     ]
    },
    {
     "name": "stderr",
     "output_type": "stream",
     "text": [
      "Epoch 15 [Val]:  35%|███▍      | 700/2004 [02:46<02:39,  8.18it/s, Loss=0.0000, Acc=99.08%]"
     ]
    },
    {
     "name": "stdout",
     "output_type": "stream",
     "text": [
      "[2025-02-26 21:41:05] Processed 700 validation batches\n"
     ]
    },
    {
     "name": "stderr",
     "output_type": "stream",
     "text": [
      "Epoch 15 [Val]:  36%|███▌      | 720/2004 [02:49<02:40,  8.02it/s, Loss=0.0001, Acc=99.11%]"
     ]
    },
    {
     "name": "stdout",
     "output_type": "stream",
     "text": [
      "[2025-02-26 21:41:08] Processed 720 validation batches\n"
     ]
    },
    {
     "name": "stderr",
     "output_type": "stream",
     "text": [
      "Epoch 15 [Val]:  37%|███▋      | 740/2004 [02:52<02:38,  7.98it/s, Loss=0.0008, Acc=99.13%]"
     ]
    },
    {
     "name": "stdout",
     "output_type": "stream",
     "text": [
      "[2025-02-26 21:41:12] Processed 740 validation batches\n"
     ]
    },
    {
     "name": "stderr",
     "output_type": "stream",
     "text": [
      "Epoch 15 [Val]:  38%|███▊      | 760/2004 [03:04<06:36,  3.14it/s, Loss=0.0000, Acc=99.15%]"
     ]
    },
    {
     "name": "stdout",
     "output_type": "stream",
     "text": [
      "[2025-02-26 21:41:23] Processed 760 validation batches\n"
     ]
    },
    {
     "name": "stderr",
     "output_type": "stream",
     "text": [
      "Epoch 15 [Val]:  39%|███▉      | 780/2004 [03:13<06:40,  3.05it/s, Loss=0.0001, Acc=99.18%]"
     ]
    },
    {
     "name": "stdout",
     "output_type": "stream",
     "text": [
      "[2025-02-26 21:41:32] Processed 780 validation batches\n"
     ]
    },
    {
     "name": "stderr",
     "output_type": "stream",
     "text": [
      "Epoch 15 [Val]:  40%|███▉      | 800/2004 [03:15<02:29,  8.07it/s, Loss=0.0000, Acc=99.20%]"
     ]
    },
    {
     "name": "stdout",
     "output_type": "stream",
     "text": [
      "[2025-02-26 21:41:34] Processed 800 validation batches\n"
     ]
    },
    {
     "name": "stderr",
     "output_type": "stream",
     "text": [
      "Epoch 15 [Val]:  41%|████      | 820/2004 [03:18<02:23,  8.25it/s, Loss=0.0018, Acc=99.22%]"
     ]
    },
    {
     "name": "stdout",
     "output_type": "stream",
     "text": [
      "[2025-02-26 21:41:37] Processed 820 validation batches\n"
     ]
    },
    {
     "name": "stderr",
     "output_type": "stream",
     "text": [
      "Epoch 15 [Val]:  42%|████▏     | 840/2004 [03:23<04:19,  4.48it/s, Loss=0.0032, Acc=99.23%]"
     ]
    },
    {
     "name": "stdout",
     "output_type": "stream",
     "text": [
      "[2025-02-26 21:41:42] Processed 840 validation batches\n"
     ]
    },
    {
     "name": "stderr",
     "output_type": "stream",
     "text": [
      "Epoch 15 [Val]:  43%|████▎     | 860/2004 [03:29<08:47,  2.17it/s, Loss=0.1367, Acc=99.24%]"
     ]
    },
    {
     "name": "stdout",
     "output_type": "stream",
     "text": [
      "[2025-02-26 21:41:48] Processed 860 validation batches\n"
     ]
    },
    {
     "name": "stderr",
     "output_type": "stream",
     "text": [
      "Epoch 15 [Val]:  44%|████▍     | 880/2004 [03:33<03:22,  5.55it/s, Loss=0.1621, Acc=99.19%]"
     ]
    },
    {
     "name": "stdout",
     "output_type": "stream",
     "text": [
      "[2025-02-26 21:41:52] Processed 880 validation batches\n"
     ]
    },
    {
     "name": "stderr",
     "output_type": "stream",
     "text": [
      "Epoch 15 [Val]:  45%|████▍     | 900/2004 [03:37<04:09,  4.43it/s, Loss=0.0024, Acc=99.14%]"
     ]
    },
    {
     "name": "stdout",
     "output_type": "stream",
     "text": [
      "[2025-02-26 21:41:56] Processed 900 validation batches\n"
     ]
    },
    {
     "name": "stderr",
     "output_type": "stream",
     "text": [
      "Epoch 15 [Val]:  46%|████▌     | 920/2004 [03:42<05:09,  3.50it/s, Loss=0.0057, Acc=99.15%]"
     ]
    },
    {
     "name": "stdout",
     "output_type": "stream",
     "text": [
      "[2025-02-26 21:42:01] Processed 920 validation batches\n"
     ]
    },
    {
     "name": "stderr",
     "output_type": "stream",
     "text": [
      "Epoch 15 [Val]:  47%|████▋     | 940/2004 [03:48<03:42,  4.78it/s, Loss=0.0170, Acc=99.12%]"
     ]
    },
    {
     "name": "stdout",
     "output_type": "stream",
     "text": [
      "[2025-02-26 21:42:07] Processed 940 validation batches\n"
     ]
    },
    {
     "name": "stderr",
     "output_type": "stream",
     "text": [
      "Epoch 15 [Val]:  48%|████▊     | 960/2004 [03:51<03:31,  4.94it/s, Loss=0.0768, Acc=99.10%]"
     ]
    },
    {
     "name": "stdout",
     "output_type": "stream",
     "text": [
      "[2025-02-26 21:42:11] Processed 960 validation batches\n"
     ]
    },
    {
     "name": "stderr",
     "output_type": "stream",
     "text": [
      "Epoch 15 [Val]:  49%|████▉     | 980/2004 [04:02<17:57,  1.05s/it, Loss=0.0093, Acc=99.05%]"
     ]
    },
    {
     "name": "stdout",
     "output_type": "stream",
     "text": [
      "[2025-02-26 21:42:22] Processed 980 validation batches\n"
     ]
    },
    {
     "name": "stderr",
     "output_type": "stream",
     "text": [
      "Epoch 15 [Val]:  50%|████▉     | 1000/2004 [04:09<03:25,  4.89it/s, Loss=0.0032, Acc=99.06%]"
     ]
    },
    {
     "name": "stdout",
     "output_type": "stream",
     "text": [
      "[2025-02-26 21:42:28] Processed 1000 validation batches\n"
     ]
    },
    {
     "name": "stderr",
     "output_type": "stream",
     "text": [
      "Epoch 15 [Val]:  51%|█████     | 1020/2004 [04:14<02:51,  5.73it/s, Loss=0.0006, Acc=99.08%]"
     ]
    },
    {
     "name": "stdout",
     "output_type": "stream",
     "text": [
      "[2025-02-26 21:42:33] Processed 1020 validation batches\n"
     ]
    },
    {
     "name": "stderr",
     "output_type": "stream",
     "text": [
      "Epoch 15 [Val]:  52%|█████▏    | 1040/2004 [04:22<03:06,  5.17it/s, Loss=0.0000, Acc=99.08%]"
     ]
    },
    {
     "name": "stdout",
     "output_type": "stream",
     "text": [
      "[2025-02-26 21:42:41] Processed 1040 validation batches\n"
     ]
    },
    {
     "name": "stderr",
     "output_type": "stream",
     "text": [
      "Epoch 15 [Val]:  53%|█████▎    | 1060/2004 [04:27<05:07,  3.07it/s, Loss=0.0000, Acc=99.10%]"
     ]
    },
    {
     "name": "stdout",
     "output_type": "stream",
     "text": [
      "[2025-02-26 21:42:47] Processed 1060 validation batches\n"
     ]
    },
    {
     "name": "stderr",
     "output_type": "stream",
     "text": [
      "Epoch 15 [Val]:  54%|█████▍    | 1080/2004 [04:37<08:33,  1.80it/s, Loss=0.0000, Acc=99.11%]"
     ]
    },
    {
     "name": "stdout",
     "output_type": "stream",
     "text": [
      "[2025-02-26 21:42:56] Processed 1080 validation batches\n"
     ]
    },
    {
     "name": "stderr",
     "output_type": "stream",
     "text": [
      "Epoch 15 [Val]:  55%|█████▍    | 1100/2004 [05:00<21:06,  1.40s/it, Loss=0.0002, Acc=99.13%]"
     ]
    },
    {
     "name": "stdout",
     "output_type": "stream",
     "text": [
      "[2025-02-26 21:43:19] Processed 1100 validation batches\n"
     ]
    },
    {
     "name": "stderr",
     "output_type": "stream",
     "text": [
      "Epoch 15 [Val]:  56%|█████▌    | 1120/2004 [05:23<18:36,  1.26s/it, Loss=0.0039, Acc=99.14%]"
     ]
    },
    {
     "name": "stdout",
     "output_type": "stream",
     "text": [
      "[2025-02-26 21:43:42] Processed 1120 validation batches\n"
     ]
    },
    {
     "name": "stderr",
     "output_type": "stream",
     "text": [
      "Epoch 15 [Val]:  57%|█████▋    | 1140/2004 [05:27<02:45,  5.22it/s, Loss=0.0006, Acc=99.16%]"
     ]
    },
    {
     "name": "stdout",
     "output_type": "stream",
     "text": [
      "[2025-02-26 21:43:46] Processed 1140 validation batches\n"
     ]
    },
    {
     "name": "stderr",
     "output_type": "stream",
     "text": [
      "Epoch 15 [Val]:  58%|█████▊    | 1160/2004 [05:31<03:07,  4.49it/s, Loss=0.0002, Acc=99.17%]"
     ]
    },
    {
     "name": "stdout",
     "output_type": "stream",
     "text": [
      "[2025-02-26 21:43:50] Processed 1160 validation batches\n"
     ]
    },
    {
     "name": "stderr",
     "output_type": "stream",
     "text": [
      "Epoch 15 [Val]:  59%|█████▉    | 1180/2004 [05:35<02:43,  5.04it/s, Loss=0.0000, Acc=99.19%]"
     ]
    },
    {
     "name": "stdout",
     "output_type": "stream",
     "text": [
      "[2025-02-26 21:43:54] Processed 1180 validation batches\n"
     ]
    },
    {
     "name": "stderr",
     "output_type": "stream",
     "text": [
      "Epoch 15 [Val]:  60%|█████▉    | 1200/2004 [05:37<01:37,  8.27it/s, Loss=0.0000, Acc=99.20%]"
     ]
    },
    {
     "name": "stdout",
     "output_type": "stream",
     "text": [
      "[2025-02-26 21:43:57] Processed 1200 validation batches\n"
     ]
    },
    {
     "name": "stderr",
     "output_type": "stream",
     "text": [
      "Epoch 15 [Val]:  61%|██████    | 1220/2004 [05:41<02:27,  5.32it/s, Loss=0.0216, Acc=99.21%]"
     ]
    },
    {
     "name": "stdout",
     "output_type": "stream",
     "text": [
      "[2025-02-26 21:44:00] Processed 1220 validation batches\n"
     ]
    },
    {
     "name": "stderr",
     "output_type": "stream",
     "text": [
      "Epoch 15 [Val]:  62%|██████▏   | 1240/2004 [05:44<02:23,  5.31it/s, Loss=0.0000, Acc=99.22%]"
     ]
    },
    {
     "name": "stdout",
     "output_type": "stream",
     "text": [
      "[2025-02-26 21:44:04] Processed 1240 validation batches\n"
     ]
    },
    {
     "name": "stderr",
     "output_type": "stream",
     "text": [
      "Epoch 15 [Val]:  63%|██████▎   | 1260/2004 [05:49<02:48,  4.42it/s, Loss=0.0001, Acc=99.24%]"
     ]
    },
    {
     "name": "stdout",
     "output_type": "stream",
     "text": [
      "[2025-02-26 21:44:08] Processed 1260 validation batches\n"
     ]
    },
    {
     "name": "stderr",
     "output_type": "stream",
     "text": [
      "Epoch 15 [Val]:  64%|██████▍   | 1280/2004 [05:53<02:32,  4.76it/s, Loss=0.0000, Acc=99.25%]"
     ]
    },
    {
     "name": "stdout",
     "output_type": "stream",
     "text": [
      "[2025-02-26 21:44:12] Processed 1280 validation batches\n"
     ]
    },
    {
     "name": "stderr",
     "output_type": "stream",
     "text": [
      "Epoch 15 [Val]:  65%|██████▍   | 1300/2004 [05:58<03:13,  3.63it/s, Loss=0.0338, Acc=99.24%]"
     ]
    },
    {
     "name": "stdout",
     "output_type": "stream",
     "text": [
      "[2025-02-26 21:44:17] Processed 1300 validation batches\n"
     ]
    },
    {
     "name": "stderr",
     "output_type": "stream",
     "text": [
      "Epoch 15 [Val]:  66%|██████▌   | 1320/2004 [06:02<02:22,  4.81it/s, Loss=0.0019, Acc=99.25%]"
     ]
    },
    {
     "name": "stdout",
     "output_type": "stream",
     "text": [
      "[2025-02-26 21:44:21] Processed 1320 validation batches\n"
     ]
    },
    {
     "name": "stderr",
     "output_type": "stream",
     "text": [
      "Epoch 15 [Val]:  67%|██████▋   | 1340/2004 [06:07<02:25,  4.57it/s, Loss=0.0228, Acc=99.25%]"
     ]
    },
    {
     "name": "stdout",
     "output_type": "stream",
     "text": [
      "[2025-02-26 21:44:26] Processed 1340 validation batches\n"
     ]
    },
    {
     "name": "stderr",
     "output_type": "stream",
     "text": [
      "Epoch 15 [Val]:  68%|██████▊   | 1360/2004 [06:10<01:47,  5.97it/s, Loss=0.0004, Acc=99.26%]"
     ]
    },
    {
     "name": "stdout",
     "output_type": "stream",
     "text": [
      "[2025-02-26 21:44:29] Processed 1360 validation batches\n"
     ]
    },
    {
     "name": "stderr",
     "output_type": "stream",
     "text": [
      "Epoch 15 [Val]:  69%|██████▉   | 1380/2004 [06:12<01:11,  8.72it/s, Loss=0.0003, Acc=99.27%]"
     ]
    },
    {
     "name": "stdout",
     "output_type": "stream",
     "text": [
      "[2025-02-26 21:44:31] Processed 1380 validation batches\n"
     ]
    },
    {
     "name": "stderr",
     "output_type": "stream",
     "text": [
      "Epoch 15 [Val]:  70%|██████▉   | 1400/2004 [06:14<01:07,  8.99it/s, Loss=0.0011, Acc=99.28%]"
     ]
    },
    {
     "name": "stdout",
     "output_type": "stream",
     "text": [
      "[2025-02-26 21:44:34] Processed 1400 validation batches\n"
     ]
    },
    {
     "name": "stderr",
     "output_type": "stream",
     "text": [
      "Epoch 15 [Val]:  71%|███████   | 1420/2004 [06:17<01:03,  9.14it/s, Loss=0.0008, Acc=99.29%]"
     ]
    },
    {
     "name": "stdout",
     "output_type": "stream",
     "text": [
      "[2025-02-26 21:44:36] Processed 1420 validation batches\n"
     ]
    },
    {
     "name": "stderr",
     "output_type": "stream",
     "text": [
      "Epoch 15 [Val]:  72%|███████▏  | 1440/2004 [06:19<01:00,  9.25it/s, Loss=0.0012, Acc=99.30%]"
     ]
    },
    {
     "name": "stdout",
     "output_type": "stream",
     "text": [
      "[2025-02-26 21:44:38] Processed 1440 validation batches\n"
     ]
    },
    {
     "name": "stderr",
     "output_type": "stream",
     "text": [
      "Epoch 15 [Val]:  73%|███████▎  | 1460/2004 [06:21<00:59,  9.09it/s, Loss=0.0036, Acc=99.31%]"
     ]
    },
    {
     "name": "stdout",
     "output_type": "stream",
     "text": [
      "[2025-02-26 21:44:40] Processed 1460 validation batches\n"
     ]
    },
    {
     "name": "stderr",
     "output_type": "stream",
     "text": [
      "Epoch 15 [Val]:  74%|███████▍  | 1480/2004 [06:23<01:01,  8.55it/s, Loss=0.0001, Acc=99.32%]"
     ]
    },
    {
     "name": "stdout",
     "output_type": "stream",
     "text": [
      "[2025-02-26 21:44:43] Processed 1480 validation batches\n"
     ]
    },
    {
     "name": "stderr",
     "output_type": "stream",
     "text": [
      "Epoch 15 [Val]:  75%|███████▍  | 1500/2004 [06:26<00:58,  8.59it/s, Loss=0.0019, Acc=99.33%]"
     ]
    },
    {
     "name": "stdout",
     "output_type": "stream",
     "text": [
      "[2025-02-26 21:44:45] Processed 1500 validation batches\n"
     ]
    },
    {
     "name": "stderr",
     "output_type": "stream",
     "text": [
      "Epoch 15 [Val]:  76%|███████▌  | 1520/2004 [06:28<00:55,  8.76it/s, Loss=0.0010, Acc=99.34%]"
     ]
    },
    {
     "name": "stdout",
     "output_type": "stream",
     "text": [
      "[2025-02-26 21:44:47] Processed 1520 validation batches\n"
     ]
    },
    {
     "name": "stderr",
     "output_type": "stream",
     "text": [
      "Epoch 15 [Val]:  77%|███████▋  | 1540/2004 [06:32<03:44,  2.07it/s, Loss=0.0009, Acc=99.35%]"
     ]
    },
    {
     "name": "stdout",
     "output_type": "stream",
     "text": [
      "[2025-02-26 21:44:52] Processed 1540 validation batches\n"
     ]
    },
    {
     "name": "stderr",
     "output_type": "stream",
     "text": [
      "Epoch 15 [Val]:  78%|███████▊  | 1560/2004 [06:41<02:08,  3.47it/s, Loss=0.0000, Acc=99.36%]"
     ]
    },
    {
     "name": "stdout",
     "output_type": "stream",
     "text": [
      "[2025-02-26 21:45:00] Processed 1560 validation batches\n"
     ]
    },
    {
     "name": "stderr",
     "output_type": "stream",
     "text": [
      "Epoch 15 [Val]:  79%|███████▉  | 1580/2004 [06:48<01:52,  3.76it/s, Loss=0.0001, Acc=99.36%]"
     ]
    },
    {
     "name": "stdout",
     "output_type": "stream",
     "text": [
      "[2025-02-26 21:45:08] Processed 1580 validation batches\n"
     ]
    },
    {
     "name": "stderr",
     "output_type": "stream",
     "text": [
      "Epoch 15 [Val]:  80%|███████▉  | 1600/2004 [06:51<00:45,  8.82it/s, Loss=0.0002, Acc=99.37%]"
     ]
    },
    {
     "name": "stdout",
     "output_type": "stream",
     "text": [
      "[2025-02-26 21:45:10] Processed 1600 validation batches\n"
     ]
    },
    {
     "name": "stderr",
     "output_type": "stream",
     "text": [
      "Epoch 15 [Val]:  81%|████████  | 1620/2004 [07:06<06:53,  1.08s/it, Loss=0.0009, Acc=99.38%]"
     ]
    },
    {
     "name": "stdout",
     "output_type": "stream",
     "text": [
      "[2025-02-26 21:45:25] Processed 1620 validation batches\n"
     ]
    },
    {
     "name": "stderr",
     "output_type": "stream",
     "text": [
      "Epoch 15 [Val]:  82%|████████▏ | 1640/2004 [07:27<02:07,  2.85it/s, Loss=0.0030, Acc=99.39%]"
     ]
    },
    {
     "name": "stdout",
     "output_type": "stream",
     "text": [
      "[2025-02-26 21:45:46] Processed 1640 validation batches\n"
     ]
    },
    {
     "name": "stderr",
     "output_type": "stream",
     "text": [
      "Epoch 15 [Val]:  83%|████████▎ | 1660/2004 [07:31<01:19,  4.34it/s, Loss=0.0053, Acc=99.38%]"
     ]
    },
    {
     "name": "stdout",
     "output_type": "stream",
     "text": [
      "[2025-02-26 21:45:50] Processed 1660 validation batches\n"
     ]
    },
    {
     "name": "stderr",
     "output_type": "stream",
     "text": [
      "Epoch 15 [Val]:  84%|████████▍ | 1680/2004 [07:36<01:12,  4.45it/s, Loss=0.0138, Acc=99.37%]"
     ]
    },
    {
     "name": "stdout",
     "output_type": "stream",
     "text": [
      "[2025-02-26 21:45:56] Processed 1680 validation batches\n"
     ]
    },
    {
     "name": "stderr",
     "output_type": "stream",
     "text": [
      "Epoch 15 [Val]:  85%|████████▍ | 1700/2004 [07:41<01:06,  4.59it/s, Loss=0.1079, Acc=99.37%]"
     ]
    },
    {
     "name": "stdout",
     "output_type": "stream",
     "text": [
      "[2025-02-26 21:46:00] Processed 1700 validation batches\n"
     ]
    },
    {
     "name": "stderr",
     "output_type": "stream",
     "text": [
      "Epoch 15 [Val]:  86%|████████▌ | 1720/2004 [07:46<01:01,  4.63it/s, Loss=0.0000, Acc=99.38%]"
     ]
    },
    {
     "name": "stdout",
     "output_type": "stream",
     "text": [
      "[2025-02-26 21:46:05] Processed 1720 validation batches\n"
     ]
    },
    {
     "name": "stderr",
     "output_type": "stream",
     "text": [
      "Epoch 15 [Val]:  87%|████████▋ | 1740/2004 [07:50<00:56,  4.68it/s, Loss=0.0001, Acc=99.39%]"
     ]
    },
    {
     "name": "stdout",
     "output_type": "stream",
     "text": [
      "[2025-02-26 21:46:09] Processed 1740 validation batches\n"
     ]
    },
    {
     "name": "stderr",
     "output_type": "stream",
     "text": [
      "Epoch 15 [Val]:  88%|████████▊ | 1760/2004 [07:55<00:52,  4.62it/s, Loss=0.0000, Acc=99.39%]"
     ]
    },
    {
     "name": "stdout",
     "output_type": "stream",
     "text": [
      "[2025-02-26 21:46:14] Processed 1760 validation batches\n"
     ]
    },
    {
     "name": "stderr",
     "output_type": "stream",
     "text": [
      "Epoch 15 [Val]:  89%|████████▉ | 1780/2004 [08:04<01:44,  2.14it/s, Loss=0.0000, Acc=99.40%]"
     ]
    },
    {
     "name": "stdout",
     "output_type": "stream",
     "text": [
      "[2025-02-26 21:46:24] Processed 1780 validation batches\n"
     ]
    },
    {
     "name": "stderr",
     "output_type": "stream",
     "text": [
      "Epoch 15 [Val]:  90%|████████▉ | 1800/2004 [08:09<00:41,  4.87it/s, Loss=0.0004, Acc=99.41%]"
     ]
    },
    {
     "name": "stdout",
     "output_type": "stream",
     "text": [
      "[2025-02-26 21:46:28] Processed 1800 validation batches\n"
     ]
    },
    {
     "name": "stderr",
     "output_type": "stream",
     "text": [
      "Epoch 15 [Val]:  91%|█████████ | 1820/2004 [08:15<00:41,  4.44it/s, Loss=0.0000, Acc=99.41%]"
     ]
    },
    {
     "name": "stdout",
     "output_type": "stream",
     "text": [
      "[2025-02-26 21:46:34] Processed 1820 validation batches\n"
     ]
    },
    {
     "name": "stderr",
     "output_type": "stream",
     "text": [
      "Epoch 15 [Val]:  92%|█████████▏| 1840/2004 [08:20<00:36,  4.43it/s, Loss=0.0000, Acc=99.42%]"
     ]
    },
    {
     "name": "stdout",
     "output_type": "stream",
     "text": [
      "[2025-02-26 21:46:39] Processed 1840 validation batches\n"
     ]
    },
    {
     "name": "stderr",
     "output_type": "stream",
     "text": [
      "Epoch 15 [Val]:  93%|█████████▎| 1860/2004 [08:24<00:30,  4.74it/s, Loss=0.0000, Acc=99.43%]"
     ]
    },
    {
     "name": "stdout",
     "output_type": "stream",
     "text": [
      "[2025-02-26 21:46:43] Processed 1860 validation batches\n"
     ]
    },
    {
     "name": "stderr",
     "output_type": "stream",
     "text": [
      "Epoch 15 [Val]:  94%|█████████▍| 1880/2004 [08:38<01:50,  1.13it/s, Loss=0.0000, Acc=99.43%]"
     ]
    },
    {
     "name": "stdout",
     "output_type": "stream",
     "text": [
      "[2025-02-26 21:46:58] Processed 1880 validation batches\n"
     ]
    },
    {
     "name": "stderr",
     "output_type": "stream",
     "text": [
      "Epoch 15 [Val]:  95%|█████████▍| 1900/2004 [08:45<00:33,  3.08it/s, Loss=0.0000, Acc=99.44%]"
     ]
    },
    {
     "name": "stdout",
     "output_type": "stream",
     "text": [
      "[2025-02-26 21:47:05] Processed 1900 validation batches\n"
     ]
    },
    {
     "name": "stderr",
     "output_type": "stream",
     "text": [
      "Epoch 15 [Val]:  96%|█████████▌| 1920/2004 [08:53<00:11,  7.45it/s, Loss=0.0004, Acc=99.44%]"
     ]
    },
    {
     "name": "stdout",
     "output_type": "stream",
     "text": [
      "[2025-02-26 21:47:12] Processed 1920 validation batches\n"
     ]
    },
    {
     "name": "stderr",
     "output_type": "stream",
     "text": [
      "Epoch 15 [Val]:  97%|█████████▋| 1940/2004 [08:57<00:14,  4.29it/s, Loss=0.0065, Acc=99.45%]"
     ]
    },
    {
     "name": "stdout",
     "output_type": "stream",
     "text": [
      "[2025-02-26 21:47:16] Processed 1940 validation batches\n"
     ]
    },
    {
     "name": "stderr",
     "output_type": "stream",
     "text": [
      "Epoch 15 [Val]:  98%|█████████▊| 1960/2004 [09:02<00:10,  4.36it/s, Loss=0.0002, Acc=99.45%]"
     ]
    },
    {
     "name": "stdout",
     "output_type": "stream",
     "text": [
      "[2025-02-26 21:47:21] Processed 1960 validation batches\n"
     ]
    },
    {
     "name": "stderr",
     "output_type": "stream",
     "text": [
      "Epoch 15 [Val]:  99%|█████████▉| 1979/2004 [09:04<00:03,  8.07it/s, Loss=0.0119, Acc=99.43%]"
     ]
    },
    {
     "name": "stdout",
     "output_type": "stream",
     "text": [
      "[2025-02-26 21:47:24] Processed 1980 validation batches\n"
     ]
    },
    {
     "name": "stderr",
     "output_type": "stream",
     "text": [
      "Epoch 15 [Val]: 100%|█████████▉| 1999/2004 [09:06<00:00, 11.40it/s, Loss=0.0312, Acc=99.39%]"
     ]
    },
    {
     "name": "stdout",
     "output_type": "stream",
     "text": [
      "[2025-02-26 21:47:25] Processed 2000 validation batches\n"
     ]
    },
    {
     "name": "stderr",
     "output_type": "stream",
     "text": [
      "Epoch 15 [Val]: 100%|██████████| 2004/2004 [09:06<00:00,  3.66it/s, Loss=0.0008, Acc=99.39%]"
     ]
    },
    {
     "name": "stdout",
     "output_type": "stream",
     "text": [
      "[2025-02-26 21:47:26] Epoch 15 Results:\n",
      "[2025-02-26 21:47:26] Train Loss: 0.0911 | Train Acc: 97.15%\n",
      "[2025-02-26 21:47:26] Val Loss: 0.0195 | Val Acc: 99.39%\n"
     ]
    },
    {
     "name": "stderr",
     "output_type": "stream",
     "text": [
      "\n"
     ]
    },
    {
     "name": "stdout",
     "output_type": "stream",
     "text": [
      "[2025-02-26 21:47:26] Saved best model\n",
      "[2025-02-26 21:47:26] Training complete\n"
     ]
    }
   ],
   "source": [
    "import torch\n",
    "import torch.nn as nn\n",
    "import torch.optim as optim\n",
    "import torchvision.transforms as transforms\n",
    "import torchvision.datasets as datasets\n",
    "from torch.utils.data import DataLoader, ConcatDataset\n",
    "import torchvision.models as models\n",
    "import time\n",
    "import os\n",
    "from tqdm import tqdm\n",
    "import sys\n",
    "import json\n",
    "from PIL import Image\n",
    "from contextlib import nullcontext\n",
    "\n",
    "# Immediate verification output\n",
    "print(\"INITIAL OUTPUT TEST - VERIFY THIS IS VISIBLE\", flush=True)\n",
    "time.sleep(2)\n",
    "\n",
    "def log_info(message):\n",
    "    \"\"\"Timestamped logging with immediate flush\"\"\"\n",
    "    timestamp = time.strftime(\"%Y-%m-%d %H:%M:%S\")\n",
    "    print(f\"[{timestamp}] {message}\", flush=True)\n",
    "\n",
    "# Device setup\n",
    "device = torch.device(\"cuda\" if torch.cuda.is_available() else \"cpu\")\n",
    "log_info(f\"Using device: {device}\")\n",
    "if device.type == 'cuda':\n",
    "    log_info(f\"CUDA version: {torch.version.cuda}\")\n",
    "    log_info(f\"Current GPU: {torch.cuda.get_device_name(0)}\")\n",
    "\n",
    "# Image conversion with error handling\n",
    "def convert_to_rgb(img):\n",
    "    \"\"\"Convert any image to RGB format with error handling\"\"\"\n",
    "    try:\n",
    "        if img.mode in ('RGBA', 'LA') or (img.mode == 'P' and 'transparency' in img.info):\n",
    "            return img.convert('RGBA').convert('RGB')  # Flatten transparency\n",
    "        return img.convert('RGB')\n",
    "    except Exception as e:\n",
    "        log_info(f\"Image conversion error: {str(e)}\")\n",
    "        return img  # Return original if conversion fails\n",
    "\n",
    "# Data transforms with error handling\n",
    "def safe_transform(transform):\n",
    "    def wrapper(img):\n",
    "        try:\n",
    "            return transform(img)\n",
    "        except Exception as e:\n",
    "            log_info(f\"Transform error: {str(e)}\")\n",
    "            return None\n",
    "    return wrapper\n",
    "\n",
    "# Data augmentation with error handling\n",
    "train_transform = transforms.Compose([\n",
    "    transforms.Lambda(convert_to_rgb),\n",
    "    transforms.RandomResizedCrop(224),\n",
    "    transforms.RandomHorizontalFlip(),\n",
    "    transforms.ToTensor(),\n",
    "    transforms.Normalize(mean=[0.485, 0.456, 0.406], std=[0.229, 0.224, 0.225])\n",
    "])\n",
    "\n",
    "val_transform = transforms.Compose([\n",
    "    transforms.Lambda(convert_to_rgb),\n",
    "    transforms.Resize(256),\n",
    "    transforms.CenterCrop(224),\n",
    "    transforms.ToTensor(),\n",
    "    transforms.Normalize(mean=[0.485, 0.456, 0.406], std=[0.229, 0.224, 0.225])\n",
    "])\n",
    "\n",
    "# Dataset verification\n",
    "def verify_images(directory):\n",
    "    for root, _, files in os.walk(directory):\n",
    "        for file in files:\n",
    "            try:\n",
    "                img = Image.open(os.path.join(root, file))\n",
    "                img.verify()  # Verify file integrity\n",
    "                img.close()\n",
    "            except Exception as e:\n",
    "                log_info(f\"Corrupted file: {os.path.join(root, file)} - {str(e)}\")\n",
    "                raise\n",
    "\n",
    "# Base directory\n",
    "base_dir = \"C:\\\\Users\\\\parth\\\\Downloads\\\\Dataset1\"\n",
    "log_info(f\"Using base directory: {base_dir}\")\n",
    "\n",
    "# Verify datasets\n",
    "log_info(\"Verifying datasets...\")\n",
    "for subdir in [\"train1\", \"train2\", \"train3\", \"valid1\", \"valid2\", \"valid3\"]:\n",
    "    path = os.path.join(base_dir, subdir)\n",
    "    if not os.path.exists(path):\n",
    "        raise FileNotFoundError(f\"Directory not found: {path}\")\n",
    "    verify_images(path)\n",
    "\n",
    "# Load datasets with error handling\n",
    "def load_dataset(directory, transform, subset_name):\n",
    "    try:\n",
    "        dataset = datasets.ImageFolder(root=directory, transform=safe_transform(transform))\n",
    "        log_info(f\"Loaded {subset_name} dataset from {directory} with {len(dataset)} samples\")\n",
    "        return dataset\n",
    "    except Exception as e:\n",
    "        log_info(f\"Error loading {subset_name} dataset: {str(e)}\")\n",
    "        return None\n",
    "\n",
    "# Load training datasets\n",
    "train_datasets = []\n",
    "for i in range(1, 4):\n",
    "    dir_path = os.path.join(base_dir, f\"train{i}\")\n",
    "    dataset = load_dataset(dir_path, train_transform, f\"train{i}\")\n",
    "    if dataset:\n",
    "        train_datasets.append(dataset)\n",
    "\n",
    "# Load validation datasets\n",
    "val_datasets = []\n",
    "for i in range(1, 4):\n",
    "    dir_path = os.path.join(base_dir, f\"valid{i}\")\n",
    "    dataset = load_dataset(dir_path, val_transform, f\"valid{i}\")\n",
    "    if dataset:\n",
    "        val_datasets.append(dataset)\n",
    "\n",
    "# Combine datasets\n",
    "combined_train = ConcatDataset(train_datasets)\n",
    "combined_val = ConcatDataset(val_datasets)\n",
    "log_info(f\"Combined training samples: {len(combined_train)}\")\n",
    "log_info(f\"Combined validation samples: {len(combined_val)}\")\n",
    "\n",
    "# DataLoaders with debugging settings\n",
    "num_workers = 0  # Set to 0 for debugging\n",
    "train_loader = DataLoader(combined_train, batch_size=16, shuffle=True, \n",
    "                         num_workers=num_workers, pin_memory=True)\n",
    "val_loader = DataLoader(combined_val, batch_size=16, shuffle=False, \n",
    "                       num_workers=num_workers, pin_memory=True)\n",
    "\n",
    "# Model setup\n",
    "model = models.resnet50(weights=models.ResNet50_Weights.DEFAULT)\n",
    "num_ftrs = model.fc.in_features\n",
    "model.fc = nn.Linear(num_ftrs, len(train_datasets[0].classes))\n",
    "model = model.to(device)\n",
    "\n",
    "# Mixed precision setup with version check\n",
    "if torch.cuda.is_available():\n",
    "    try:\n",
    "        # For PyTorch 2.0+\n",
    "        from torch.amp import autocast, GradScaler\n",
    "        scaler = GradScaler()\n",
    "        AUTOCAST_ARGS = {'device_type': 'cuda'}\n",
    "        log_info(\"Using torch.amp for mixed precision\")\n",
    "    except ImportError:\n",
    "        # For older versions\n",
    "        from torch.cuda.amp import autocast, GradScaler\n",
    "        scaler = GradScaler()\n",
    "        AUTOCAST_ARGS = {}\n",
    "        log_info(\"Using torch.cuda.amp for mixed precision\")\n",
    "else:\n",
    "    autocast = nullcontext\n",
    "    scaler = None\n",
    "    AUTOCAST_ARGS = {}\n",
    "    log_info(\"Mixed precision not available (CPU only)\")\n",
    "\n",
    "# Training parameters\n",
    "criterion = nn.CrossEntropyLoss()\n",
    "optimizer = optim.AdamW(model.parameters(), lr=1e-3)\n",
    "scheduler = optim.lr_scheduler.CosineAnnealingLR(optimizer, T_max=15)\n",
    "\n",
    "# Training loop with enhanced error handling\n",
    "def train_model(epochs=15):\n",
    "    best_acc = 0.0\n",
    "    for epoch in range(epochs):\n",
    "        log_info(f\"Starting epoch {epoch+1}/{epochs}\")\n",
    "        model.train()\n",
    "        running_loss, correct, total = 0.0, 0, 0\n",
    "        \n",
    "        # Training phase\n",
    "        train_bar = tqdm(train_loader, desc=f'Epoch {epoch+1} [Train]')\n",
    "        for batch_idx, (inputs, labels) in enumerate(train_bar):\n",
    "            try:\n",
    "                inputs, labels = inputs.to(device), labels.to(device)\n",
    "                optimizer.zero_grad()\n",
    "                \n",
    "                with autocast(**AUTOCAST_ARGS) if torch.cuda.is_available() else nullcontext():\n",
    "                    outputs = model(inputs)\n",
    "                    loss = criterion(outputs, labels)\n",
    "                \n",
    "                if scaler:\n",
    "                    scaler.scale(loss).backward()\n",
    "                    scaler.step(optimizer)\n",
    "                    scaler.update()\n",
    "                else:\n",
    "                    loss.backward()\n",
    "                    optimizer.step()\n",
    "                \n",
    "                running_loss += loss.item() * inputs.size(0)\n",
    "                _, predicted = outputs.max(1)\n",
    "                total += labels.size(0)\n",
    "                correct += predicted.eq(labels).sum().item()\n",
    "                \n",
    "                train_bar.set_postfix({\n",
    "                    'Loss': f\"{loss.item():.4f}\",\n",
    "                    'Acc': f\"{100*correct/total:.2f}%\"\n",
    "                })\n",
    "                \n",
    "                if batch_idx % 50 == 0:\n",
    "                    log_info(f\"Processed {batch_idx} training batches\")\n",
    "            \n",
    "            except Exception as e:\n",
    "                log_info(f\"Error in training batch {batch_idx}: {str(e)}\")\n",
    "                raise\n",
    "        \n",
    "        # Validation phase\n",
    "        model.eval()\n",
    "        val_loss, val_correct, val_total = 0.0, 0, 0\n",
    "        with torch.no_grad():\n",
    "            val_bar = tqdm(val_loader, desc=f'Epoch {epoch+1} [Val]')\n",
    "            for batch_idx, (inputs, labels) in enumerate(val_bar):\n",
    "                try:\n",
    "                    inputs, labels = inputs.to(device), labels.to(device)\n",
    "                    outputs = model(inputs)\n",
    "                    loss = criterion(outputs, labels)\n",
    "                    \n",
    "                    val_loss += loss.item() * inputs.size(0)\n",
    "                    _, predicted = outputs.max(1)\n",
    "                    val_total += labels.size(0)\n",
    "                    val_correct += predicted.eq(labels).sum().item()\n",
    "                    \n",
    "                    val_bar.set_postfix({\n",
    "                        'Loss': f\"{loss.item():.4f}\",\n",
    "                        'Acc': f\"{100*val_correct/val_total:.2f}%\"\n",
    "                    })\n",
    "                    \n",
    "                    if batch_idx % 20 == 0:\n",
    "                        log_info(f\"Processed {batch_idx} validation batches\")\n",
    "                \n",
    "                except Exception as e:\n",
    "                    log_info(f\"Error in validation batch {batch_idx}: {str(e)}\")\n",
    "                    raise\n",
    "        \n",
    "        # Calculate metrics\n",
    "        epoch_loss = running_loss / len(train_loader.dataset)\n",
    "        epoch_acc = 100 * correct / total\n",
    "        val_epoch_loss = val_loss / len(val_loader.dataset)\n",
    "        val_epoch_acc = 100 * val_correct / val_total\n",
    "        \n",
    "        log_info(f\"Epoch {epoch+1} Results:\")\n",
    "        log_info(f\"Train Loss: {epoch_loss:.4f} | Train Acc: {epoch_acc:.2f}%\")\n",
    "        log_info(f\"Val Loss: {val_epoch_loss:.4f} | Val Acc: {val_epoch_acc:.2f}%\")\n",
    "        \n",
    "        # Save best model\n",
    "        if val_epoch_acc > best_acc:\n",
    "            best_acc = val_epoch_acc\n",
    "            torch.save({\n",
    "                'epoch': epoch+1,\n",
    "                'model_state_dict': model.state_dict(),\n",
    "                'optimizer_state_dict': optimizer.state_dict(),\n",
    "                'val_acc': val_epoch_acc\n",
    "            }, \"best_model.pth\")\n",
    "            log_info(\"Saved best model\")\n",
    "        \n",
    "        scheduler.step()\n",
    "    \n",
    "    log_info(\"Training complete\")\n",
    "\n",
    "# Execute training\n",
    "try:\n",
    "    log_info(\"Starting training...\")\n",
    "    train_model(epochs=15)\n",
    "except Exception as e:\n",
    "    log_info(f\"Training failed: {str(e)}\")\n",
    "    raise"
   ]
  },
  {
   "cell_type": "code",
   "execution_count": 7,
   "metadata": {},
   "outputs": [
    {
     "name": "stdout",
     "output_type": "stream",
     "text": [
      "INITIAL OUTPUT TEST - VERIFY THIS IS VISIBLE\n",
      "[2025-02-28 21:16:58] Using device: cuda\n",
      "[2025-02-28 21:16:58] CUDA version: 11.8\n",
      "[2025-02-28 21:16:58] Current GPU: NVIDIA GeForce RTX 3050 Laptop GPU\n",
      "[2025-02-28 21:16:58] Using base directory: C:\\Users\\parth\\Downloads\\Dataset1\n",
      "[2025-02-28 21:16:58] Verifying datasets...\n",
      "[2025-02-28 21:20:47] Loaded train1 dataset from C:\\Users\\parth\\Downloads\\Dataset1\\train1 with 31441 samples\n",
      "[2025-02-28 21:20:47] Error loading train2 dataset: Couldn't find any class folder in C:\\Users\\parth\\Downloads\\Dataset1\\train2.\n",
      "[2025-02-28 21:20:47] Loaded train3 dataset from C:\\Users\\parth\\Downloads\\Dataset1\\train3 with 609 samples\n",
      "[2025-02-28 21:20:48] Loaded valid1 dataset from C:\\Users\\parth\\Downloads\\Dataset1\\valid1 with 31441 samples\n",
      "[2025-02-28 21:20:48] Error loading valid2 dataset: Couldn't find any class folder in C:\\Users\\parth\\Downloads\\Dataset1\\valid2.\n",
      "[2025-02-28 21:20:48] Loaded valid3 dataset from C:\\Users\\parth\\Downloads\\Dataset1\\valid3 with 609 samples\n",
      "[2025-02-28 21:20:48] Combined training samples: 32050\n",
      "[2025-02-28 21:20:48] Combined validation samples: 32050\n",
      "[2025-02-28 21:20:50] Using torch.amp for mixed precision\n",
      "[2025-02-28 21:20:50] Starting training...\n",
      "[2025-02-28 21:20:50] Starting epoch 1/15\n"
     ]
    },
    {
     "name": "stderr",
     "output_type": "stream",
     "text": [
      "Epoch 1 [Train]:   0%|          | 0/2004 [00:01<?, ?it/s, Loss=4.3002, Acc=0.00%]"
     ]
    },
    {
     "name": "stdout",
     "output_type": "stream",
     "text": [
      "[2025-02-28 21:20:51] Processed 0 training batches\n"
     ]
    },
    {
     "name": "stderr",
     "output_type": "stream",
     "text": [
      "Epoch 1 [Train]:   2%|▏         | 50/2004 [00:16<09:35,  3.40it/s, Loss=2.8043, Acc=28.43%]"
     ]
    },
    {
     "name": "stdout",
     "output_type": "stream",
     "text": [
      "[2025-02-28 21:21:07] Processed 50 training batches\n"
     ]
    },
    {
     "name": "stderr",
     "output_type": "stream",
     "text": [
      "Epoch 1 [Train]:   5%|▍         | 100/2004 [00:31<09:00,  3.52it/s, Loss=2.0889, Acc=36.39%]"
     ]
    },
    {
     "name": "stdout",
     "output_type": "stream",
     "text": [
      "[2025-02-28 21:21:22] Processed 100 training batches\n"
     ]
    },
    {
     "name": "stderr",
     "output_type": "stream",
     "text": [
      "Epoch 1 [Train]:   7%|▋         | 150/2004 [00:46<08:23,  3.68it/s, Loss=2.0955, Acc=39.86%]"
     ]
    },
    {
     "name": "stdout",
     "output_type": "stream",
     "text": [
      "[2025-02-28 21:21:37] Processed 150 training batches\n"
     ]
    },
    {
     "name": "stderr",
     "output_type": "stream",
     "text": [
      "Epoch 1 [Train]:  10%|▉         | 200/2004 [01:01<08:53,  3.38it/s, Loss=1.3665, Acc=43.44%]"
     ]
    },
    {
     "name": "stdout",
     "output_type": "stream",
     "text": [
      "[2025-02-28 21:21:52] Processed 200 training batches\n"
     ]
    },
    {
     "name": "stderr",
     "output_type": "stream",
     "text": [
      "Epoch 1 [Train]:  12%|█▏        | 250/2004 [01:16<09:13,  3.17it/s, Loss=1.3466, Acc=45.94%]"
     ]
    },
    {
     "name": "stdout",
     "output_type": "stream",
     "text": [
      "[2025-02-28 21:22:07] Processed 250 training batches\n"
     ]
    },
    {
     "name": "stderr",
     "output_type": "stream",
     "text": [
      "Epoch 1 [Train]:  15%|█▍        | 300/2004 [01:31<07:12,  3.94it/s, Loss=1.6837, Acc=47.63%]"
     ]
    },
    {
     "name": "stdout",
     "output_type": "stream",
     "text": [
      "[2025-02-28 21:22:22] Processed 300 training batches\n"
     ]
    },
    {
     "name": "stderr",
     "output_type": "stream",
     "text": [
      "Epoch 1 [Train]:  17%|█▋        | 350/2004 [01:46<08:38,  3.19it/s, Loss=0.9989, Acc=49.59%]"
     ]
    },
    {
     "name": "stdout",
     "output_type": "stream",
     "text": [
      "[2025-02-28 21:22:37] Processed 350 training batches\n"
     ]
    },
    {
     "name": "stderr",
     "output_type": "stream",
     "text": [
      "Epoch 1 [Train]:  20%|█▉        | 400/2004 [02:01<09:05,  2.94it/s, Loss=1.2633, Acc=51.28%]"
     ]
    },
    {
     "name": "stdout",
     "output_type": "stream",
     "text": [
      "[2025-02-28 21:22:52] Processed 400 training batches\n"
     ]
    },
    {
     "name": "stderr",
     "output_type": "stream",
     "text": [
      "Epoch 1 [Train]:  22%|██▏       | 450/2004 [02:17<07:38,  3.39it/s, Loss=1.2779, Acc=53.19%]"
     ]
    },
    {
     "name": "stdout",
     "output_type": "stream",
     "text": [
      "[2025-02-28 21:23:07] Processed 450 training batches\n"
     ]
    },
    {
     "name": "stderr",
     "output_type": "stream",
     "text": [
      "Epoch 1 [Train]:  25%|██▍       | 500/2004 [02:32<06:40,  3.76it/s, Loss=0.9173, Acc=54.67%]"
     ]
    },
    {
     "name": "stdout",
     "output_type": "stream",
     "text": [
      "[2025-02-28 21:23:22] Processed 500 training batches\n"
     ]
    },
    {
     "name": "stderr",
     "output_type": "stream",
     "text": [
      "Epoch 1 [Train]:  27%|██▋       | 550/2004 [02:47<06:32,  3.71it/s, Loss=1.5324, Acc=55.84%]"
     ]
    },
    {
     "name": "stdout",
     "output_type": "stream",
     "text": [
      "[2025-02-28 21:23:38] Processed 550 training batches\n"
     ]
    },
    {
     "name": "stderr",
     "output_type": "stream",
     "text": [
      "Epoch 1 [Train]:  30%|██▉       | 600/2004 [03:02<06:17,  3.72it/s, Loss=0.9685, Acc=57.00%]"
     ]
    },
    {
     "name": "stdout",
     "output_type": "stream",
     "text": [
      "[2025-02-28 21:23:53] Processed 600 training batches\n"
     ]
    },
    {
     "name": "stderr",
     "output_type": "stream",
     "text": [
      "Epoch 1 [Train]:  31%|███       | 621/2004 [03:08<06:59,  3.30it/s, Loss=0.4377, Acc=57.56%]\n"
     ]
    },
    {
     "ename": "KeyboardInterrupt",
     "evalue": "",
     "output_type": "error",
     "traceback": [
      "\u001b[1;31m---------------------------------------------------------------------------\u001b[0m",
      "\u001b[1;31mKeyboardInterrupt\u001b[0m                         Traceback (most recent call last)",
      "Cell \u001b[1;32mIn[7], line 264\u001b[0m\n\u001b[0;32m    262\u001b[0m \u001b[38;5;28;01mtry\u001b[39;00m:\n\u001b[0;32m    263\u001b[0m     log_info(\u001b[38;5;124m\"\u001b[39m\u001b[38;5;124mStarting training...\u001b[39m\u001b[38;5;124m\"\u001b[39m)\n\u001b[1;32m--> 264\u001b[0m     \u001b[43mtrain_model\u001b[49m\u001b[43m(\u001b[49m\u001b[43mepochs\u001b[49m\u001b[38;5;241;43m=\u001b[39;49m\u001b[38;5;241;43m15\u001b[39;49m\u001b[43m)\u001b[49m\n\u001b[0;32m    265\u001b[0m \u001b[38;5;28;01mexcept\u001b[39;00m \u001b[38;5;167;01mException\u001b[39;00m \u001b[38;5;28;01mas\u001b[39;00m e:\n\u001b[0;32m    266\u001b[0m     log_info(\u001b[38;5;124mf\u001b[39m\u001b[38;5;124m\"\u001b[39m\u001b[38;5;124mTraining failed: \u001b[39m\u001b[38;5;132;01m{\u001b[39;00m\u001b[38;5;28mstr\u001b[39m(e)\u001b[38;5;132;01m}\u001b[39;00m\u001b[38;5;124m\"\u001b[39m)\n",
      "Cell \u001b[1;32mIn[7], line 185\u001b[0m, in \u001b[0;36mtrain_model\u001b[1;34m(epochs)\u001b[0m\n\u001b[0;32m    183\u001b[0m \u001b[38;5;28;01mif\u001b[39;00m scaler:\n\u001b[0;32m    184\u001b[0m     scaler\u001b[38;5;241m.\u001b[39mscale(loss)\u001b[38;5;241m.\u001b[39mbackward()\n\u001b[1;32m--> 185\u001b[0m     \u001b[43mscaler\u001b[49m\u001b[38;5;241;43m.\u001b[39;49m\u001b[43mstep\u001b[49m\u001b[43m(\u001b[49m\u001b[43moptimizer\u001b[49m\u001b[43m)\u001b[49m\n\u001b[0;32m    186\u001b[0m     scaler\u001b[38;5;241m.\u001b[39mupdate()\n\u001b[0;32m    187\u001b[0m \u001b[38;5;28;01melse\u001b[39;00m:\n",
      "File \u001b[1;32m~\\AppData\\Roaming\\Python\\Python312\\site-packages\\torch\\amp\\grad_scaler.py:457\u001b[0m, in \u001b[0;36mGradScaler.step\u001b[1;34m(self, optimizer, *args, **kwargs)\u001b[0m\n\u001b[0;32m    451\u001b[0m     \u001b[38;5;28mself\u001b[39m\u001b[38;5;241m.\u001b[39munscale_(optimizer)\n\u001b[0;32m    453\u001b[0m \u001b[38;5;28;01massert\u001b[39;00m (\n\u001b[0;32m    454\u001b[0m     \u001b[38;5;28mlen\u001b[39m(optimizer_state[\u001b[38;5;124m\"\u001b[39m\u001b[38;5;124mfound_inf_per_device\u001b[39m\u001b[38;5;124m\"\u001b[39m]) \u001b[38;5;241m>\u001b[39m \u001b[38;5;241m0\u001b[39m\n\u001b[0;32m    455\u001b[0m ), \u001b[38;5;124m\"\u001b[39m\u001b[38;5;124mNo inf checks were recorded for this optimizer.\u001b[39m\u001b[38;5;124m\"\u001b[39m\n\u001b[1;32m--> 457\u001b[0m retval \u001b[38;5;241m=\u001b[39m \u001b[38;5;28;43mself\u001b[39;49m\u001b[38;5;241;43m.\u001b[39;49m\u001b[43m_maybe_opt_step\u001b[49m\u001b[43m(\u001b[49m\u001b[43moptimizer\u001b[49m\u001b[43m,\u001b[49m\u001b[43m \u001b[49m\u001b[43moptimizer_state\u001b[49m\u001b[43m,\u001b[49m\u001b[43m \u001b[49m\u001b[38;5;241;43m*\u001b[39;49m\u001b[43margs\u001b[49m\u001b[43m,\u001b[49m\u001b[43m \u001b[49m\u001b[38;5;241;43m*\u001b[39;49m\u001b[38;5;241;43m*\u001b[39;49m\u001b[43mkwargs\u001b[49m\u001b[43m)\u001b[49m\n\u001b[0;32m    459\u001b[0m optimizer_state[\u001b[38;5;124m\"\u001b[39m\u001b[38;5;124mstage\u001b[39m\u001b[38;5;124m\"\u001b[39m] \u001b[38;5;241m=\u001b[39m OptState\u001b[38;5;241m.\u001b[39mSTEPPED\n\u001b[0;32m    461\u001b[0m \u001b[38;5;28;01mreturn\u001b[39;00m retval\n",
      "File \u001b[1;32m~\\AppData\\Roaming\\Python\\Python312\\site-packages\\torch\\amp\\grad_scaler.py:351\u001b[0m, in \u001b[0;36mGradScaler._maybe_opt_step\u001b[1;34m(self, optimizer, optimizer_state, *args, **kwargs)\u001b[0m\n\u001b[0;32m    343\u001b[0m \u001b[38;5;28;01mdef\u001b[39;00m \u001b[38;5;21m_maybe_opt_step\u001b[39m(\n\u001b[0;32m    344\u001b[0m     \u001b[38;5;28mself\u001b[39m,\n\u001b[0;32m    345\u001b[0m     optimizer: torch\u001b[38;5;241m.\u001b[39moptim\u001b[38;5;241m.\u001b[39mOptimizer,\n\u001b[1;32m   (...)\u001b[0m\n\u001b[0;32m    348\u001b[0m     \u001b[38;5;241m*\u001b[39m\u001b[38;5;241m*\u001b[39mkwargs: Any,\n\u001b[0;32m    349\u001b[0m ) \u001b[38;5;241m-\u001b[39m\u001b[38;5;241m>\u001b[39m Optional[\u001b[38;5;28mfloat\u001b[39m]:\n\u001b[0;32m    350\u001b[0m     retval: Optional[\u001b[38;5;28mfloat\u001b[39m] \u001b[38;5;241m=\u001b[39m \u001b[38;5;28;01mNone\u001b[39;00m\n\u001b[1;32m--> 351\u001b[0m     \u001b[38;5;28;01mif\u001b[39;00m \u001b[38;5;129;01mnot\u001b[39;00m \u001b[38;5;28;43msum\u001b[39;49m\u001b[43m(\u001b[49m\u001b[43mv\u001b[49m\u001b[38;5;241;43m.\u001b[39;49m\u001b[43mitem\u001b[49m\u001b[43m(\u001b[49m\u001b[43m)\u001b[49m\u001b[43m \u001b[49m\u001b[38;5;28;43;01mfor\u001b[39;49;00m\u001b[43m \u001b[49m\u001b[43mv\u001b[49m\u001b[43m \u001b[49m\u001b[38;5;129;43;01min\u001b[39;49;00m\u001b[43m \u001b[49m\u001b[43moptimizer_state\u001b[49m\u001b[43m[\u001b[49m\u001b[38;5;124;43m\"\u001b[39;49m\u001b[38;5;124;43mfound_inf_per_device\u001b[39;49m\u001b[38;5;124;43m\"\u001b[39;49m\u001b[43m]\u001b[49m\u001b[38;5;241;43m.\u001b[39;49m\u001b[43mvalues\u001b[49m\u001b[43m(\u001b[49m\u001b[43m)\u001b[49m\u001b[43m)\u001b[49m:\n\u001b[0;32m    352\u001b[0m         retval \u001b[38;5;241m=\u001b[39m optimizer\u001b[38;5;241m.\u001b[39mstep(\u001b[38;5;241m*\u001b[39margs, \u001b[38;5;241m*\u001b[39m\u001b[38;5;241m*\u001b[39mkwargs)\n\u001b[0;32m    353\u001b[0m     \u001b[38;5;28;01mreturn\u001b[39;00m retval\n",
      "File \u001b[1;32m~\\AppData\\Roaming\\Python\\Python312\\site-packages\\torch\\amp\\grad_scaler.py:351\u001b[0m, in \u001b[0;36m<genexpr>\u001b[1;34m(.0)\u001b[0m\n\u001b[0;32m    343\u001b[0m \u001b[38;5;28;01mdef\u001b[39;00m \u001b[38;5;21m_maybe_opt_step\u001b[39m(\n\u001b[0;32m    344\u001b[0m     \u001b[38;5;28mself\u001b[39m,\n\u001b[0;32m    345\u001b[0m     optimizer: torch\u001b[38;5;241m.\u001b[39moptim\u001b[38;5;241m.\u001b[39mOptimizer,\n\u001b[1;32m   (...)\u001b[0m\n\u001b[0;32m    348\u001b[0m     \u001b[38;5;241m*\u001b[39m\u001b[38;5;241m*\u001b[39mkwargs: Any,\n\u001b[0;32m    349\u001b[0m ) \u001b[38;5;241m-\u001b[39m\u001b[38;5;241m>\u001b[39m Optional[\u001b[38;5;28mfloat\u001b[39m]:\n\u001b[0;32m    350\u001b[0m     retval: Optional[\u001b[38;5;28mfloat\u001b[39m] \u001b[38;5;241m=\u001b[39m \u001b[38;5;28;01mNone\u001b[39;00m\n\u001b[1;32m--> 351\u001b[0m     \u001b[38;5;28;01mif\u001b[39;00m \u001b[38;5;129;01mnot\u001b[39;00m \u001b[38;5;28msum\u001b[39m(\u001b[43mv\u001b[49m\u001b[38;5;241;43m.\u001b[39;49m\u001b[43mitem\u001b[49m\u001b[43m(\u001b[49m\u001b[43m)\u001b[49m \u001b[38;5;28;01mfor\u001b[39;00m v \u001b[38;5;129;01min\u001b[39;00m optimizer_state[\u001b[38;5;124m\"\u001b[39m\u001b[38;5;124mfound_inf_per_device\u001b[39m\u001b[38;5;124m\"\u001b[39m]\u001b[38;5;241m.\u001b[39mvalues()):\n\u001b[0;32m    352\u001b[0m         retval \u001b[38;5;241m=\u001b[39m optimizer\u001b[38;5;241m.\u001b[39mstep(\u001b[38;5;241m*\u001b[39margs, \u001b[38;5;241m*\u001b[39m\u001b[38;5;241m*\u001b[39mkwargs)\n\u001b[0;32m    353\u001b[0m     \u001b[38;5;28;01mreturn\u001b[39;00m retval\n",
      "\u001b[1;31mKeyboardInterrupt\u001b[0m: "
     ]
    }
   ],
   "source": [
    "import torch\n",
    "import torch.nn as nn\n",
    "import torch.optim as optim\n",
    "import torchvision.transforms as transforms\n",
    "import torchvision.datasets as datasets\n",
    "from torch.utils.data import DataLoader, ConcatDataset\n",
    "import torchvision.models as models\n",
    "import time\n",
    "import os\n",
    "from tqdm import tqdm\n",
    "import sys\n",
    "import json\n",
    "from PIL import Image\n",
    "from contextlib import nullcontext\n",
    "\n",
    "# Immediate verification output\n",
    "print(\"INITIAL OUTPUT TEST - VERIFY THIS IS VISIBLE\", flush=True)\n",
    "time.sleep(2)\n",
    "\n",
    "def log_info(message):\n",
    "    \"\"\"Timestamped logging with immediate flush\"\"\"\n",
    "    timestamp = time.strftime(\"%Y-%m-%d %H:%M:%S\")\n",
    "    print(f\"[{timestamp}] {message}\", flush=True)\n",
    "\n",
    "# Device setup\n",
    "device = torch.device(\"cuda\" if torch.cuda.is_available() else \"cpu\")\n",
    "log_info(f\"Using device: {device}\")\n",
    "if device.type == 'cuda':\n",
    "    log_info(f\"CUDA version: {torch.version.cuda}\")\n",
    "    log_info(f\"Current GPU: {torch.cuda.get_device_name(0)}\")\n",
    "\n",
    "# Image conversion with error handling\n",
    "def convert_to_rgb(img):\n",
    "    \"\"\"Convert any image to RGB format with error handling\"\"\"\n",
    "    try:\n",
    "        if img.mode in ('RGBA', 'LA') or (img.mode == 'P' and 'transparency' in img.info):\n",
    "            return img.convert('RGBA').convert('RGB')  # Flatten transparency\n",
    "        return img.convert('RGB')\n",
    "    except Exception as e:\n",
    "        log_info(f\"Image conversion error: {str(e)}\")\n",
    "        return img  # Return original if conversion fails\n",
    "\n",
    "# Data transforms with error handling\n",
    "def safe_transform(transform):\n",
    "    def wrapper(img):\n",
    "        try:\n",
    "            return transform(img)\n",
    "        except Exception as e:\n",
    "            log_info(f\"Transform error: {str(e)}\")\n",
    "            return None\n",
    "    return wrapper\n",
    "\n",
    "# Data augmentation with error handling\n",
    "train_transform = transforms.Compose([\n",
    "    transforms.Lambda(convert_to_rgb),\n",
    "    transforms.RandomResizedCrop(224),\n",
    "    transforms.RandomHorizontalFlip(),\n",
    "    transforms.ToTensor(),\n",
    "    transforms.Normalize(mean=[0.485, 0.456, 0.406], std=[0.229, 0.224, 0.225])\n",
    "])\n",
    "\n",
    "val_transform = transforms.Compose([\n",
    "    transforms.Lambda(convert_to_rgb),\n",
    "    transforms.Resize(256),\n",
    "    transforms.CenterCrop(224),\n",
    "    transforms.ToTensor(),\n",
    "    transforms.Normalize(mean=[0.485, 0.456, 0.406], std=[0.229, 0.224, 0.225])\n",
    "])\n",
    "\n",
    "# Dataset verification\n",
    "def verify_images(directory):\n",
    "    for root, _, files in os.walk(directory):\n",
    "        for file in files:\n",
    "            try:\n",
    "                img = Image.open(os.path.join(root, file))\n",
    "                img.verify()  # Verify file integrity\n",
    "                img.close()\n",
    "            except Exception as e:\n",
    "                log_info(f\"Corrupted file: {os.path.join(root, file)} - {str(e)}\")\n",
    "                raise\n",
    "\n",
    "# Base directory\n",
    "base_dir = \"C:\\\\Users\\\\parth\\\\Downloads\\\\Dataset1\"\n",
    "log_info(f\"Using base directory: {base_dir}\")\n",
    "\n",
    "# Verify datasets\n",
    "log_info(\"Verifying datasets...\")\n",
    "for subdir in [\"train1\", \"train2\", \"train3\", \"valid1\", \"valid2\", \"valid3\"]:\n",
    "    path = os.path.join(base_dir, subdir)\n",
    "    if not os.path.exists(path):\n",
    "        raise FileNotFoundError(f\"Directory not found: {path}\")\n",
    "    verify_images(path)\n",
    "\n",
    "# Load datasets with error handling\n",
    "def load_dataset(directory, transform, subset_name):\n",
    "    try:\n",
    "        dataset = datasets.ImageFolder(root=directory, transform=safe_transform(transform))\n",
    "        log_info(f\"Loaded {subset_name} dataset from {directory} with {len(dataset)} samples\")\n",
    "        return dataset\n",
    "    except Exception as e:\n",
    "        log_info(f\"Error loading {subset_name} dataset: {str(e)}\")\n",
    "        return None\n",
    "\n",
    "# Load training datasets\n",
    "train_datasets = []\n",
    "for i in range(1, 4):\n",
    "    dir_path = os.path.join(base_dir, f\"train{i}\")\n",
    "    dataset = load_dataset(dir_path, train_transform, f\"train{i}\")\n",
    "    if dataset:\n",
    "        train_datasets.append(dataset)\n",
    "\n",
    "# Load validation datasets\n",
    "val_datasets = []\n",
    "for i in range(1, 4):\n",
    "    dir_path = os.path.join(base_dir, f\"valid{i}\")\n",
    "    dataset = load_dataset(dir_path, val_transform, f\"valid{i}\")\n",
    "    if dataset:\n",
    "        val_datasets.append(dataset)\n",
    "\n",
    "# Combine datasets\n",
    "combined_train = ConcatDataset(train_datasets)\n",
    "combined_val = ConcatDataset(val_datasets)\n",
    "log_info(f\"Combined training samples: {len(combined_train)}\")\n",
    "log_info(f\"Combined validation samples: {len(combined_val)}\")\n",
    "\n",
    "# DataLoaders with debugging settings\n",
    "num_workers = 0  # Set to 0 for debugging\n",
    "train_loader = DataLoader(combined_train, batch_size=16, shuffle=True, \n",
    "                         num_workers=num_workers, pin_memory=True)\n",
    "val_loader = DataLoader(combined_val, batch_size=16, shuffle=False, \n",
    "                       num_workers=num_workers, pin_memory=True)\n",
    "\n",
    "# Model setup\n",
    "model = models.resnet50(weights=models.ResNet50_Weights.DEFAULT)\n",
    "num_ftrs = model.fc.in_features\n",
    "model.fc = nn.Linear(num_ftrs, len(train_datasets[0].classes))\n",
    "model = model.to(device)\n",
    "\n",
    "# Mixed precision setup with version check\n",
    "if torch.cuda.is_available():\n",
    "    try:\n",
    "        # For PyTorch 2.0+\n",
    "        from torch.amp import autocast, GradScaler\n",
    "        scaler = GradScaler()\n",
    "        AUTOCAST_ARGS = {'device_type': 'cuda'}\n",
    "        log_info(\"Using torch.amp for mixed precision\")\n",
    "    except ImportError:\n",
    "        # For older versions\n",
    "        from torch.cuda.amp import autocast, GradScaler\n",
    "        scaler = GradScaler()\n",
    "        AUTOCAST_ARGS = {}\n",
    "        log_info(\"Using torch.cuda.amp for mixed precision\")\n",
    "else:\n",
    "    autocast = nullcontext\n",
    "    scaler = None\n",
    "    AUTOCAST_ARGS = {}\n",
    "    log_info(\"Mixed precision not available (CPU only)\")\n",
    "\n",
    "# Training parameters\n",
    "criterion = nn.CrossEntropyLoss()\n",
    "optimizer = optim.AdamW(model.parameters(), lr=1e-3)\n",
    "scheduler = optim.lr_scheduler.CosineAnnealingLR(optimizer, T_max=15)\n",
    "\n",
    "# Training loop with enhanced error handling\n",
    "def train_model(epochs=15):\n",
    "    best_acc = 0.0\n",
    "    for epoch in range(epochs):\n",
    "        log_info(f\"Starting epoch {epoch+1}/{epochs}\")\n",
    "        model.train()\n",
    "        running_loss, correct, total = 0.0, 0, 0\n",
    "        \n",
    "        # Training phase\n",
    "        train_bar = tqdm(train_loader, desc=f'Epoch {epoch+1} [Train]')\n",
    "        for batch_idx, (inputs, labels) in enumerate(train_bar):\n",
    "            try:\n",
    "                inputs, labels = inputs.to(device), labels.to(device)\n",
    "                optimizer.zero_grad()\n",
    "                \n",
    "                with autocast(**AUTOCAST_ARGS) if torch.cuda.is_available() else nullcontext():\n",
    "                    outputs = model(inputs)\n",
    "                    loss = criterion(outputs, labels)\n",
    "                \n",
    "                if scaler:\n",
    "                    scaler.scale(loss).backward()\n",
    "                    scaler.step(optimizer)\n",
    "                    scaler.update()\n",
    "                else:\n",
    "                    loss.backward()\n",
    "                    optimizer.step()\n",
    "                \n",
    "                running_loss += loss.item() * inputs.size(0)\n",
    "                _, predicted = outputs.max(1)\n",
    "                total += labels.size(0)\n",
    "                correct += predicted.eq(labels).sum().item()\n",
    "                \n",
    "                train_bar.set_postfix({\n",
    "                    'Loss': f\"{loss.item():.4f}\",\n",
    "                    'Acc': f\"{100*correct/total:.2f}%\"\n",
    "                })\n",
    "                \n",
    "                if batch_idx % 50 == 0:\n",
    "                    log_info(f\"Processed {batch_idx} training batches\")\n",
    "            \n",
    "            except Exception as e:\n",
    "                log_info(f\"Error in training batch {batch_idx}: {str(e)}\")\n",
    "                raise\n",
    "        \n",
    "        # Validation phase\n",
    "        model.eval()\n",
    "        val_loss, val_correct, val_total = 0.0, 0, 0\n",
    "        with torch.no_grad():\n",
    "            val_bar = tqdm(val_loader, desc=f'Epoch {epoch+1} [Val]')\n",
    "            for batch_idx, (inputs, labels) in enumerate(val_bar):\n",
    "                try:\n",
    "                    inputs, labels = inputs.to(device), labels.to(device)\n",
    "                    outputs = model(inputs)\n",
    "                    loss = criterion(outputs, labels)\n",
    "                    \n",
    "                    val_loss += loss.item() * inputs.size(0)\n",
    "                    _, predicted = outputs.max(1)\n",
    "                    val_total += labels.size(0)\n",
    "                    val_correct += predicted.eq(labels).sum().item()\n",
    "                    \n",
    "                    val_bar.set_postfix({\n",
    "                        'Loss': f\"{loss.item():.4f}\",\n",
    "                        'Acc': f\"{100*val_correct/val_total:.2f}%\"\n",
    "                    })\n",
    "                    \n",
    "                    if batch_idx % 20 == 0:\n",
    "                        log_info(f\"Processed {batch_idx} validation batches\")\n",
    "                \n",
    "                except Exception as e:\n",
    "                    log_info(f\"Error in validation batch {batch_idx}: {str(e)}\")\n",
    "                    raise\n",
    "        \n",
    "        # Calculate metrics\n",
    "        epoch_loss = running_loss / len(train_loader.dataset)\n",
    "        epoch_acc = 100 * correct / total\n",
    "        val_epoch_loss = val_loss / len(val_loader.dataset)\n",
    "        val_epoch_acc = 100 * val_correct / val_total\n",
    "        \n",
    "        log_info(f\"Epoch {epoch+1} Results:\")\n",
    "        log_info(f\"Train Loss: {epoch_loss:.4f} | Train Acc: {epoch_acc:.2f}%\")\n",
    "        log_info(f\"Val Loss: {val_epoch_loss:.4f} | Val Acc: {val_epoch_acc:.2f}%\")\n",
    "        \n",
    "        # Save best model\n",
    "        if val_epoch_acc > best_acc:\n",
    "            best_acc = val_epoch_acc\n",
    "            torch.save({\n",
    "                'epoch': epoch+1,\n",
    "                'model_state_dict': model.state_dict(),\n",
    "                'optimizer_state_dict': optimizer.state_dict(),\n",
    "                'val_acc': val_epoch_acc\n",
    "            }, \"best_model.pth\")\n",
    "            log_info(\"Saved best model\")\n",
    "        \n",
    "        scheduler.step()\n",
    "    \n",
    "    log_info(\"Training complete\")\n",
    "\n",
    "# Execute training\n",
    "try:\n",
    "    log_info(\"Starting training...\")\n",
    "    train_model(epochs=15)\n",
    "except Exception as e:\n",
    "    log_info(f\"Training failed: {str(e)}\")\n",
    "    raise"
   ]
  },
  {
   "cell_type": "code",
   "execution_count": 35,
   "metadata": {},
   "outputs": [
    {
     "name": "stdout",
     "output_type": "stream",
     "text": [
      "INITIAL OUTPUT TEST - VERIFY THIS IS VISIBLE\n"
     ]
    },
    {
     "name": "stdout",
     "output_type": "stream",
     "text": [
      "[2025-03-01 01:12:43] Using device: cuda\n",
      "[2025-03-01 01:12:43] CUDA version: 11.8\n",
      "[2025-03-01 01:12:43] Current GPU: NVIDIA GeForce RTX 3050 Laptop GPU\n",
      "[2025-03-01 01:12:43] Using base directory: C:\\Users\\parth\\Downloads\\Dataset1\n",
      "[2025-03-01 01:15:36] Loaded 31441 training samples\n",
      "[2025-03-01 01:15:36] Loaded 31441 validation samples\n",
      "[2025-03-01 01:15:37] Using torch.cuda.amp for mixed precision\n",
      "[2025-03-01 01:15:37] Starting training...\n",
      "[2025-03-01 01:15:37] Starting epoch 1/15\n"
     ]
    },
    {
     "name": "stderr",
     "output_type": "stream",
     "text": [
      "C:\\Users\\parth\\AppData\\Local\\Temp\\ipykernel_34720\\662562834.py:104: FutureWarning: `torch.cuda.amp.GradScaler(args...)` is deprecated. Please use `torch.amp.GradScaler('cuda', args...)` instead.\n",
      "  scaler = GradScaler()\n",
      "Epoch 1 [Train]:   0%|          | 0/1966 [00:00<?, ?it/s]C:\\Users\\parth\\AppData\\Local\\Temp\\ipykernel_34720\\662562834.py:130: FutureWarning: `torch.cuda.amp.autocast(args...)` is deprecated. Please use `torch.amp.autocast('cuda', args...)` instead.\n",
      "  with autocast():\n",
      "Epoch 1 [Train]: 100%|██████████| 1966/1966 [17:09<00:00,  1.91it/s, Loss=5.5391, Acc=70.37%]\n",
      "Epoch 1 [Val]: 100%|██████████| 1966/1966 [18:30<00:00,  1.77it/s] "
     ]
    },
    {
     "name": "stdout",
     "output_type": "stream",
     "text": [
      "[2025-03-01 01:51:17] Epoch 1 - Val Acc: 85.43%\n"
     ]
    },
    {
     "name": "stderr",
     "output_type": "stream",
     "text": [
      "\n"
     ]
    },
    {
     "name": "stdout",
     "output_type": "stream",
     "text": [
      "[2025-03-01 01:51:18] Saved best model\n",
      "[2025-03-01 01:51:18] Starting epoch 2/15\n"
     ]
    },
    {
     "name": "stderr",
     "output_type": "stream",
     "text": [
      "Epoch 2 [Train]: 100%|██████████| 1966/1966 [19:10<00:00,  1.71it/s, Loss=5.4727, Acc=82.54%]\n",
      "Epoch 2 [Val]: 100%|██████████| 1966/1966 [18:50<00:00,  1.74it/s] "
     ]
    },
    {
     "name": "stdout",
     "output_type": "stream",
     "text": [
      "[2025-03-01 02:29:19] Epoch 2 - Val Acc: 88.49%\n"
     ]
    },
    {
     "name": "stderr",
     "output_type": "stream",
     "text": [
      "\n"
     ]
    },
    {
     "name": "stdout",
     "output_type": "stream",
     "text": [
      "[2025-03-01 02:29:19] Saved best model\n",
      "[2025-03-01 02:29:19] Starting epoch 3/15\n"
     ]
    },
    {
     "name": "stderr",
     "output_type": "stream",
     "text": [
      "Epoch 3 [Train]: 100%|██████████| 1966/1966 [19:23<00:00,  1.69it/s, Loss=2.2344, Acc=85.87%]\n",
      "Epoch 3 [Val]: 100%|██████████| 1966/1966 [19:12<00:00,  1.71it/s] "
     ]
    },
    {
     "name": "stdout",
     "output_type": "stream",
     "text": [
      "[2025-03-01 03:07:55] Epoch 3 - Val Acc: 93.14%\n"
     ]
    },
    {
     "name": "stderr",
     "output_type": "stream",
     "text": [
      "\n"
     ]
    },
    {
     "name": "stdout",
     "output_type": "stream",
     "text": [
      "[2025-03-01 03:07:55] Saved best model\n",
      "[2025-03-01 03:07:55] Starting epoch 4/15\n"
     ]
    },
    {
     "name": "stderr",
     "output_type": "stream",
     "text": [
      "Epoch 4 [Train]: 100%|██████████| 1966/1966 [20:01<00:00,  1.64it/s, Loss=2.8496, Acc=87.97%]\n",
      "Epoch 4 [Val]: 100%|██████████| 1966/1966 [19:18<00:00,  1.70it/s] "
     ]
    },
    {
     "name": "stdout",
     "output_type": "stream",
     "text": [
      "[2025-03-01 03:47:14] Epoch 4 - Val Acc: 94.33%\n"
     ]
    },
    {
     "name": "stderr",
     "output_type": "stream",
     "text": [
      "\n"
     ]
    },
    {
     "name": "stdout",
     "output_type": "stream",
     "text": [
      "[2025-03-01 03:47:15] Saved best model\n",
      "[2025-03-01 03:47:15] Starting epoch 5/15\n"
     ]
    },
    {
     "name": "stderr",
     "output_type": "stream",
     "text": [
      "Epoch 5 [Train]: 100%|██████████| 1966/1966 [19:49<00:00,  1.65it/s, Loss=3.6602, Acc=89.49%]\n",
      "Epoch 5 [Val]: 100%|██████████| 1966/1966 [19:14<00:00,  1.70it/s] "
     ]
    },
    {
     "name": "stdout",
     "output_type": "stream",
     "text": [
      "[2025-03-01 04:26:19] Epoch 5 - Val Acc: 94.06%\n",
      "[2025-03-01 04:26:19] Starting epoch 6/15\n"
     ]
    },
    {
     "name": "stderr",
     "output_type": "stream",
     "text": [
      "\n",
      "Epoch 6 [Train]: 100%|██████████| 1966/1966 [19:59<00:00,  1.64it/s, Loss=5.9922, Acc=91.15%]\n",
      "Epoch 6 [Val]: 100%|██████████| 1966/1966 [19:33<00:00,  1.67it/s] "
     ]
    },
    {
     "name": "stdout",
     "output_type": "stream",
     "text": [
      "[2025-03-01 05:05:52] Epoch 6 - Val Acc: 96.17%\n"
     ]
    },
    {
     "name": "stderr",
     "output_type": "stream",
     "text": [
      "\n"
     ]
    },
    {
     "name": "stdout",
     "output_type": "stream",
     "text": [
      "[2025-03-01 05:05:54] Saved best model\n",
      "[2025-03-01 05:05:54] Starting epoch 7/15\n"
     ]
    },
    {
     "name": "stderr",
     "output_type": "stream",
     "text": [
      "Epoch 7 [Train]: 100%|██████████| 1966/1966 [3:09:51<00:00,  5.79s/it, Loss=2.0352, Acc=92.26%]      \n",
      "Epoch 7 [Val]: 100%|██████████| 1966/1966 [17:54<00:00,  1.83it/s] "
     ]
    },
    {
     "name": "stdout",
     "output_type": "stream",
     "text": [
      "[2025-03-01 08:33:41] Epoch 7 - Val Acc: 96.45%\n"
     ]
    },
    {
     "name": "stderr",
     "output_type": "stream",
     "text": [
      "\n"
     ]
    },
    {
     "name": "stdout",
     "output_type": "stream",
     "text": [
      "[2025-03-01 08:33:41] Saved best model\n",
      "[2025-03-01 08:33:41] Starting epoch 8/15\n"
     ]
    },
    {
     "name": "stderr",
     "output_type": "stream",
     "text": [
      "Epoch 8 [Train]: 100%|██████████| 1966/1966 [31:37<00:00,  1.04it/s, Loss=1.5381, Acc=93.15%]    \n",
      "Epoch 8 [Val]: 100%|██████████| 1966/1966 [17:22<00:00,  1.89it/s] "
     ]
    },
    {
     "name": "stdout",
     "output_type": "stream",
     "text": [
      "[2025-03-01 09:22:41] Epoch 8 - Val Acc: 97.88%\n"
     ]
    },
    {
     "name": "stderr",
     "output_type": "stream",
     "text": [
      "\n"
     ]
    },
    {
     "name": "stdout",
     "output_type": "stream",
     "text": [
      "[2025-03-01 09:22:41] Saved best model\n",
      "[2025-03-01 09:22:41] Starting epoch 9/15\n"
     ]
    },
    {
     "name": "stderr",
     "output_type": "stream",
     "text": [
      "Epoch 9 [Train]: 100%|██████████| 1966/1966 [21:58<00:00,  1.49it/s, Loss=1.1084, Acc=94.43%]\n",
      "Epoch 9 [Val]: 100%|██████████| 1966/1966 [22:44<00:00,  1.44it/s]  "
     ]
    },
    {
     "name": "stdout",
     "output_type": "stream",
     "text": [
      "[2025-03-01 10:07:24] Epoch 9 - Val Acc: 97.56%\n",
      "[2025-03-01 10:07:24] Starting epoch 10/15\n"
     ]
    },
    {
     "name": "stderr",
     "output_type": "stream",
     "text": [
      "\n",
      "Epoch 10 [Train]: 100%|██████████| 1966/1966 [21:32<00:00,  1.52it/s, Loss=3.6055, Acc=95.03%]\n",
      "Epoch 10 [Val]: 100%|██████████| 1966/1966 [20:33<00:00,  1.59it/s] "
     ]
    },
    {
     "name": "stdout",
     "output_type": "stream",
     "text": [
      "[2025-03-01 10:49:30] Epoch 10 - Val Acc: 98.62%\n"
     ]
    },
    {
     "name": "stderr",
     "output_type": "stream",
     "text": [
      "\n"
     ]
    },
    {
     "name": "stdout",
     "output_type": "stream",
     "text": [
      "[2025-03-01 10:49:30] Saved best model\n",
      "[2025-03-01 10:49:30] Starting epoch 11/15\n"
     ]
    },
    {
     "name": "stderr",
     "output_type": "stream",
     "text": [
      "Epoch 11 [Train]: 100%|██████████| 1966/1966 [17:34<00:00,  1.86it/s, Loss=4.5078, Acc=96.01%]\n",
      "Epoch 11 [Val]: 100%|██████████| 1966/1966 [1:12:39<00:00,  2.22s/it] "
     ]
    },
    {
     "name": "stdout",
     "output_type": "stream",
     "text": [
      "[2025-03-01 12:19:45] Epoch 11 - Val Acc: 98.77%\n"
     ]
    },
    {
     "name": "stderr",
     "output_type": "stream",
     "text": [
      "\n"
     ]
    },
    {
     "name": "stdout",
     "output_type": "stream",
     "text": [
      "[2025-03-01 12:19:45] Saved best model\n",
      "[2025-03-01 12:19:45] Starting epoch 12/15\n"
     ]
    },
    {
     "name": "stderr",
     "output_type": "stream",
     "text": [
      "Epoch 12 [Train]: 100%|██████████| 1966/1966 [20:16<00:00,  1.62it/s, Loss=5.9805, Acc=96.44%]\n",
      "Epoch 12 [Val]: 100%|██████████| 1966/1966 [19:51<00:00,  1.65it/s] "
     ]
    },
    {
     "name": "stdout",
     "output_type": "stream",
     "text": [
      "[2025-03-01 12:59:53] Epoch 12 - Val Acc: 99.26%\n"
     ]
    },
    {
     "name": "stderr",
     "output_type": "stream",
     "text": [
      "\n"
     ]
    },
    {
     "name": "stdout",
     "output_type": "stream",
     "text": [
      "[2025-03-01 12:59:54] Saved best model\n",
      "[2025-03-01 12:59:54] Starting epoch 13/15\n"
     ]
    },
    {
     "name": "stderr",
     "output_type": "stream",
     "text": [
      "Epoch 13 [Train]: 100%|██████████| 1966/1966 [20:13<00:00,  1.62it/s, Loss=3.6934, Acc=97.05%]\n",
      "Epoch 13 [Val]: 100%|██████████| 1966/1966 [19:43<00:00,  1.66it/s] "
     ]
    },
    {
     "name": "stdout",
     "output_type": "stream",
     "text": [
      "[2025-03-01 13:39:50] Epoch 13 - Val Acc: 99.16%\n",
      "[2025-03-01 13:39:50] Starting epoch 14/15\n"
     ]
    },
    {
     "name": "stderr",
     "output_type": "stream",
     "text": [
      "\n",
      "Epoch 14 [Train]: 100%|██████████| 1966/1966 [18:13<00:00,  1.80it/s, Loss=3.3652, Acc=97.41%]\n",
      "Epoch 14 [Val]: 100%|██████████| 1966/1966 [19:48<00:00,  1.65it/s] "
     ]
    },
    {
     "name": "stdout",
     "output_type": "stream",
     "text": [
      "[2025-03-01 14:17:52] Epoch 14 - Val Acc: 99.44%\n"
     ]
    },
    {
     "name": "stderr",
     "output_type": "stream",
     "text": [
      "\n"
     ]
    },
    {
     "name": "stdout",
     "output_type": "stream",
     "text": [
      "[2025-03-01 14:17:53] Saved best model\n",
      "[2025-03-01 14:17:53] Starting epoch 15/15\n"
     ]
    },
    {
     "name": "stderr",
     "output_type": "stream",
     "text": [
      "Epoch 15 [Train]: 100%|██████████| 1966/1966 [19:29<00:00,  1.68it/s, Loss=1.7842, Acc=97.46%]\n",
      "Epoch 15 [Val]: 100%|██████████| 1966/1966 [19:50<00:00,  1.65it/s] "
     ]
    },
    {
     "name": "stdout",
     "output_type": "stream",
     "text": [
      "[2025-03-01 14:57:12] Epoch 15 - Val Acc: 99.44%\n",
      "[2025-03-01 14:57:12] Training complete\n"
     ]
    },
    {
     "name": "stderr",
     "output_type": "stream",
     "text": [
      "\n"
     ]
    }
   ],
   "source": [
    "import torch\n",
    "import torch.nn as nn\n",
    "import torch.optim as optim\n",
    "import torchvision.transforms as transforms\n",
    "import torchvision.datasets as datasets\n",
    "from torch.utils.data import DataLoader\n",
    "import torchvision.models as models\n",
    "import time\n",
    "import os\n",
    "from tqdm import tqdm\n",
    "from PIL import Image\n",
    "from contextlib import nullcontext\n",
    "\n",
    "# Immediate verification output\n",
    "print(\"INITIAL OUTPUT TEST - VERIFY THIS IS VISIBLE\", flush=True)\n",
    "time.sleep(2)\n",
    "\n",
    "def log_info(message):\n",
    "    \"\"\"Timestamped logging with immediate flush\"\"\"\n",
    "    timestamp = time.strftime(\"%Y-%m-%d %H:%M:%S\")\n",
    "    print(f\"[{timestamp}] {message}\", flush=True)\n",
    "\n",
    "# Device setup\n",
    "device = torch.device(\"cuda\" if torch.cuda.is_available() else \"cpu\")\n",
    "log_info(f\"Using device: {device}\")\n",
    "if device.type == 'cuda':\n",
    "    log_info(f\"CUDA version: {torch.version.cuda}\")\n",
    "    log_info(f\"Current GPU: {torch.cuda.get_device_name(0)}\")\n",
    "\n",
    "# Image conversion with error handling\n",
    "def convert_to_rgb(img):\n",
    "    try:\n",
    "        if img.mode in ('RGBA', 'LA') or (img.mode == 'P' and 'transparency' in img.info):\n",
    "            return img.convert('RGBA').convert('RGB')\n",
    "        return img.convert('RGB')\n",
    "    except Exception as e:\n",
    "        log_info(f\"Image conversion error: {str(e)}\")\n",
    "        return img\n",
    "\n",
    "# Verify dataset directory\n",
    "base_dir = \"C:\\\\Users\\\\parth\\\\Downloads\\\\Dataset1\"\n",
    "log_info(f\"Using base directory: {base_dir}\")\n",
    "\n",
    "def verify_images(directory):\n",
    "    for root, _, files in os.walk(directory):\n",
    "        for file in files:\n",
    "            file_path = os.path.join(root, file)\n",
    "            try:\n",
    "                img = Image.open(file_path)\n",
    "                img.verify()  # Verify file integrity\n",
    "                try:\n",
    "                    img.getexif()\n",
    "                except Exception as e:\n",
    "                    log_info(f\"Corrupt EXIF data in: {file_path} - {str(e)}\")\n",
    "                img.close()\n",
    "            except Exception as e:\n",
    "                log_info(f\"Corrupted file: {file_path} - {str(e)}\")\n",
    "                raise\n",
    "\n",
    "# Dataset verification\n",
    "for subdir in [\"train1\", \"valid1\"]:\n",
    "    path = os.path.join(base_dir, subdir)\n",
    "    if not os.path.exists(path):\n",
    "        raise FileNotFoundError(f\"Directory not found: {path}\")\n",
    "    verify_images(path)\n",
    "\n",
    "# Data augmentation with error handling\n",
    "train_transform = transforms.Compose([\n",
    "    transforms.Lambda(convert_to_rgb),\n",
    "    transforms.RandomResizedCrop(224),\n",
    "    transforms.RandomHorizontalFlip(),\n",
    "    transforms.ToTensor(),\n",
    "    transforms.Normalize(mean=[0.485, 0.456, 0.406], std=[0.229, 0.224, 0.225])\n",
    "])\n",
    "\n",
    "val_transform = transforms.Compose([\n",
    "    transforms.Lambda(convert_to_rgb),\n",
    "    transforms.Resize(256),\n",
    "    transforms.CenterCrop(224),\n",
    "    transforms.ToTensor(),\n",
    "    transforms.Normalize(mean=[0.485, 0.456, 0.406], std=[0.229, 0.224, 0.225])\n",
    "])\n",
    "\n",
    "# Load datasets\n",
    "train_dataset = datasets.ImageFolder(root=os.path.join(base_dir, \"train1\"), transform=train_transform)\n",
    "val_dataset = datasets.ImageFolder(root=os.path.join(base_dir, \"valid1\"), transform=val_transform)\n",
    "\n",
    "log_info(f\"Loaded {len(train_dataset)} training samples\")\n",
    "log_info(f\"Loaded {len(val_dataset)} validation samples\")\n",
    "\n",
    "# DataLoaders\n",
    "train_loader = DataLoader(train_dataset, batch_size=16, shuffle=True, num_workers=0, pin_memory=True)\n",
    "val_loader = DataLoader(val_dataset, batch_size=16, shuffle=False, num_workers=0, pin_memory=True)\n",
    "\n",
    "# Model setup\n",
    "model = models.resnet50(weights=models.ResNet50_Weights.DEFAULT)\n",
    "num_ftrs = model.fc.in_features\n",
    "model.fc = nn.Linear(num_ftrs, len(train_dataset.classes))\n",
    "model = model.to(device)\n",
    "\n",
    "# Mixed precision setup\n",
    "try:\n",
    "    from torch.cuda.amp import autocast, GradScaler\n",
    "    scaler = GradScaler()\n",
    "    AUTOCAST_ARGS = {}\n",
    "    log_info(\"Using torch.cuda.amp for mixed precision\")\n",
    "except ImportError:\n",
    "    autocast = nullcontext\n",
    "    scaler = None\n",
    "    AUTOCAST_ARGS = {}\n",
    "    log_info(\"Mixed precision not available (CPU only)\")\n",
    "\n",
    "# Training parameters\n",
    "criterion = nn.CrossEntropyLoss()\n",
    "optimizer = optim.AdamW(model.parameters(), lr=1e-3)\n",
    "scheduler = optim.lr_scheduler.CosineAnnealingLR(optimizer, T_max=15)\n",
    "\n",
    "def train_model(epochs=15):\n",
    "    best_acc = 0.0\n",
    "    for epoch in range(epochs):\n",
    "        log_info(f\"Starting epoch {epoch+1}/{epochs}\")\n",
    "        model.train()\n",
    "        running_loss, correct, total = 0.0, 0, 0\n",
    "\n",
    "        train_bar = tqdm(train_loader, desc=f'Epoch {epoch+1} [Train]')\n",
    "        for batch_idx, (inputs, labels) in enumerate(train_bar):\n",
    "            inputs, labels = inputs.to(device), labels.to(device)\n",
    "            optimizer.zero_grad()\n",
    "\n",
    "            with autocast():\n",
    "                outputs = model(inputs)\n",
    "                loss = criterion(outputs, labels)\n",
    "\n",
    "            if scaler:\n",
    "                scaler.scale(loss).backward()\n",
    "                scaler.step(optimizer)\n",
    "                scaler.update()\n",
    "            else:\n",
    "                loss.backward()\n",
    "                optimizer.step()\n",
    "\n",
    "            running_loss += loss.item() * inputs.size(0)\n",
    "            _, predicted = outputs.max(1)\n",
    "            total += labels.size(0)\n",
    "            correct += predicted.eq(labels).sum().item()\n",
    "\n",
    "            train_bar.set_postfix({'Loss': f\"{loss.item():.4f}\", 'Acc': f\"{100 * correct / max(1, total):.2f}%\"})\n",
    "\n",
    "        scheduler.step()\n",
    "        \n",
    "        val_correct, val_total = 0, 0\n",
    "        model.eval()\n",
    "        with torch.no_grad():\n",
    "            val_bar = tqdm(val_loader, desc=f'Epoch {epoch+1} [Val]')\n",
    "            for inputs, labels in val_bar:\n",
    "                inputs, labels = inputs.to(device), labels.to(device)\n",
    "                outputs = model(inputs)\n",
    "                _, predicted = outputs.max(1)\n",
    "                val_total += labels.size(0)\n",
    "                val_correct += predicted.eq(labels).sum().item()\n",
    "\n",
    "        val_acc = 100 * val_correct / max(1, val_total)\n",
    "        log_info(f\"Epoch {epoch+1} - Val Acc: {val_acc:.2f}%\")\n",
    "\n",
    "        if val_acc > best_acc:\n",
    "            best_acc = val_acc\n",
    "            torch.save(model.state_dict(), \"best_model_70_class.pth\")\n",
    "            log_info(\"Saved best model\")\n",
    "\n",
    "    log_info(\"Training complete\")\n",
    "\n",
    "try:\n",
    "    log_info(\"Starting training...\")\n",
    "    train_model(epochs=15)\n",
    "except Exception as e:\n",
    "    log_info(f\"Training failed: {str(e)}\")\n",
    "    raise\n"
   ]
  },
  {
   "cell_type": "code",
   "execution_count": null,
   "metadata": {},
   "outputs": [
    {
     "ename": "NameError",
     "evalue": "name 'app' is not defined",
     "output_type": "error",
     "traceback": [
      "\u001b[1;31m---------------------------------------------------------------------------\u001b[0m",
      "\u001b[1;31mNameError\u001b[0m                                 Traceback (most recent call last)",
      "Cell \u001b[1;32mIn[39], line 13\u001b[0m\n\u001b[0;32m      9\u001b[0m \u001b[38;5;28;01mimport\u001b[39;00m \u001b[38;5;21;01mpandas\u001b[39;00m \u001b[38;5;28;01mas\u001b[39;00m \u001b[38;5;21;01mpd\u001b[39;00m\n\u001b[0;32m     11\u001b[0m \u001b[38;5;66;03m# Add these routes to your existing Flask app\u001b[39;00m\n\u001b[1;32m---> 13\u001b[0m \u001b[38;5;129m@app\u001b[39m\u001b[38;5;241m.\u001b[39mroute(\u001b[38;5;124m\"\u001b[39m\u001b[38;5;124m/model-stats\u001b[39m\u001b[38;5;124m\"\u001b[39m)\n\u001b[0;32m     14\u001b[0m \u001b[38;5;28;01mdef\u001b[39;00m \u001b[38;5;21mmodel_stats\u001b[39m():\n\u001b[0;32m     15\u001b[0m \u001b[38;5;250m    \u001b[39m\u001b[38;5;124;03m\"\"\"Render a dashboard with model statistics and visualizations\"\"\"\u001b[39;00m\n\u001b[0;32m     16\u001b[0m     \u001b[38;5;28;01mreturn\u001b[39;00m render_template(\u001b[38;5;124m\"\u001b[39m\u001b[38;5;124mmodel_dashboard.html\u001b[39m\u001b[38;5;124m\"\u001b[39m)\n",
      "\u001b[1;31mNameError\u001b[0m: name 'app' is not defined"
     ]
    }
   ],
   "source": []
  },
  {
   "cell_type": "code",
   "execution_count": 37,
   "metadata": {},
   "outputs": [
    {
     "name": "stdout",
     "output_type": "stream",
     "text": [
      "Number of training batches: 1966\n",
      "Number of validation batches: 1966\n"
     ]
    }
   ],
   "source": [
    "import math\n",
    "\n",
    "# Assuming you have train_loader and val_loader defined\n",
    "num_train_samples = len(train_loader.dataset)\n",
    "train_batch_size = train_loader.batch_size\n",
    "num_train_batches = math.ceil(num_train_samples / train_batch_size)\n",
    "\n",
    "num_val_samples = len(val_loader.dataset)\n",
    "val_batch_size = val_loader.batch_size\n",
    "num_val_batches = math.ceil(num_val_samples / val_batch_size)\n",
    "\n",
    "print(f\"Number of training batches: {num_train_batches}\")\n",
    "print(f\"Number of validation batches: {num_val_batches}\")"
   ]
  },
  {
   "cell_type": "code",
   "execution_count": 38,
   "metadata": {},
   "outputs": [
    {
     "name": "stdout",
     "output_type": "stream",
     "text": [
      "Number of classes being trained: 70\n"
     ]
    }
   ],
   "source": [
    "print(f\"Number of classes being trained: {len(train_dataset.classes)}\")"
   ]
  },
  {
   "cell_type": "code",
   "execution_count": 36,
   "metadata": {},
   "outputs": [
    {
     "name": "stdout",
     "output_type": "stream",
     "text": [
      "Number of classes: 42\n",
      "Number of classes: 70\n",
      "Classes: ['American Bollworm on Cotton', 'Anthracnose on Cotton', 'Apple__Healthy', 'Apple__Rotten', 'Army worm', 'Bacterial Blight in cotton', 'Banana__Healthy', 'Banana__Rotten', 'Becterial Blight in Rice', 'Bellpepper__Healthy', 'Bellpepper__Rotten', 'Brownspot', 'Carrot__Healthy', 'Carrot__Rotten', 'Common_Rust', 'Cotton Aphid', 'Cucumber__Healthy', 'Cucumber__Rotten', 'Flag Smut', 'Grape__Healthy', 'Grape__Rotten', 'Gray_Leaf_Spot', 'Guava__Healthy', 'Guava__Rotten', 'Healthy Maize', 'Healthy Wheat', 'Healthy cotton', 'Jujube__Healthy', 'Jujube__Rotten', 'Leaf Curl', 'Leaf smut', 'Mango__Healthy', 'Mango__Rotten', 'Mosaic sugarcane', 'Orange__Healthy', 'Orange__Rotten', 'Pomegranate__Healthy', 'Pomegranate__Rotten', 'Potato__Healthy', 'Potato__Rotten', 'RedRot sugarcane', 'RedRust sugarcane', 'Rice Blast', 'Strawberry__Healthy', 'Strawberry__Rotten', 'Sugarcane Healthy', 'Tomato__Healthy', 'Tomato__Rotten', 'Tungro', 'Wheat Brown leaf rust', 'Wheat Stem fly', 'Wheat aphid', 'Wheat black rust', 'Wheat leaf blight', 'Wheat mite', 'Wheat powdery mildew', 'Wheat scab', 'Wheat___Yellow_Rust', 'Wilt', 'Yellow Rust Sugarcane', 'bollrot on Cotton', 'bollworm on Cotton', 'cotton mealy bug', 'cotton whitefly', 'maize ear rot', 'maize fall armyworm', 'maize stem borer', 'pink bollworm in cotton', 'red cotton bug', 'thirps on  cotton']\n"
     ]
    }
   ],
   "source": [
    "import torch\n",
    "\n",
    "# Load the model checkpoint\n",
    "file_path = \"best_model.pth\"  # Update with your file path\n",
    "checkpoint = torch.load(file_path, map_location=\"cpu\")\n",
    "\n",
    "# Extract model state dictionary\n",
    "model_state = checkpoint.get(\"model_state_dict\", checkpoint)\n",
    "\n",
    "# Find number of classes from the final fully connected layer\n",
    "num_classes = None\n",
    "for key, value in model_state.items():\n",
    "    if \"fc.weight\" in key:  # Fully connected layer in ResNet\n",
    "        num_classes = value.shape[0]  # Output neurons = number of classes\n",
    "        break\n",
    "\n",
    "print(f\"Number of classes: {num_classes}\")\n",
    "# Assuming you have train_datasets (list of ImageFolder datasets)\n",
    "num_classes = len(train_datasets[0].classes)\n",
    "print(f\"Number of classes: {num_classes}\")\n",
    "print(f\"Classes: {train_datasets[0].classes}\")"
   ]
  },
  {
   "cell_type": "code",
   "execution_count": 29,
   "metadata": {},
   "outputs": [
    {
     "name": "stdout",
     "output_type": "stream",
     "text": [
      "[2025-03-01 00:36:59] Individual train dataset length: 31441\n",
      "[2025-03-01 00:36:59] Individual train dataset length: 609\n",
      "[2025-03-01 00:36:59] Individual validation dataset length: 31441\n",
      "[2025-03-01 00:36:59] Individual validation dataset length: 609\n",
      "[2025-03-01 00:36:59] Combined training samples: 32050\n",
      "[2025-03-01 00:36:59] Combined validation samples: 32050\n"
     ]
    }
   ],
   "source": [
    "for dataset in train_datasets:\n",
    "    log_info(f\"Individual train dataset length: {len(dataset)}\")\n",
    "for dataset in val_datasets:\n",
    "    log_info(f\"Individual validation dataset length: {len(dataset)}\")\n",
    "    \n",
    "log_info(f\"Combined training samples: {len(combined_train)}\")\n",
    "log_info(f\"Combined validation samples: {len(combined_val)}\")    "
   ]
  },
  {
   "cell_type": "code",
   "execution_count": null,
   "metadata": {},
   "outputs": [
    {
     "name": "stdout",
     "output_type": "stream",
     "text": [
      "No new data to train. Exiting.\n",
      "Loaded existing model for further training.\n",
      "No new training data available.\n",
      "Training complete. Model saved as updated_model.pth\n"
     ]
    },
    {
     "ename": "",
     "evalue": "",
     "output_type": "error",
     "traceback": [
      "\u001b[1;31mThe Kernel crashed while executing code in the current cell or a previous cell. \n",
      "\u001b[1;31mPlease review the code in the cell(s) to identify a possible cause of the failure. \n",
      "\u001b[1;31mClick <a href='https://aka.ms/vscodeJupyterKernelCrash'>here</a> for more info. \n",
      "\u001b[1;31mView Jupyter <a href='command:jupyter.viewOutput'>log</a> for further details."
     ]
    }
   ],
   "source": [
    "import os\n",
    "import torch\n",
    "import torchvision.models as models\n",
    "import torch.nn as nn\n",
    "import torch.optim as optim\n",
    "import torchvision.transforms as transforms\n",
    "import torchvision.datasets as datasets\n",
    "from torch.utils.data import DataLoader, ConcatDataset\n",
    "\n",
    "# Define dataset paths\n",
    "all_train_paths = {\"train1\": \"Q:\\\\train1\", \"train2\": \"Q:\\\\train2\", \"train3\": \"Q:\\\\train3\"}\n",
    "all_valid_paths = {\"valid1\": \"Q:\\\\valid1\", \"valid2\": \"Q:\\\\valid2\", \"valid3\": \"Q:\\\\valid3\"}\n",
    "\n",
    "# Check existing paths\n",
    "existing_train_paths = {k: v for k, v in all_train_paths.items() if os.path.exists(v)}\n",
    "existing_valid_paths = {k: v for k, v in all_valid_paths.items() if os.path.exists(v)}\n",
    "\n",
    "# Already trained datasets\n",
    "trained_datasets = {\"train1\", \"valid1\"}  # Modify this based on actual trained sets\n",
    "\n",
    "# Filter only new paths\n",
    "new_train_paths = [v for k, v in existing_train_paths.items() if k not in trained_datasets]\n",
    "new_valid_paths = [v for k, v in existing_valid_paths.items() if k not in trained_datasets]\n",
    "\n",
    "if not new_train_paths and not new_valid_paths:\n",
    "    print(\"No new data to train. Exiting.\")\n",
    "    exit()\n",
    "\n",
    "# Define transforms\n",
    "train_transform = transforms.Compose([\n",
    "    transforms.RandomResizedCrop(224),\n",
    "    transforms.RandomHorizontalFlip(),\n",
    "    transforms.ToTensor(),\n",
    "    transforms.Normalize(mean=[0.485, 0.456, 0.406], std=[0.229, 0.224, 0.225])\n",
    "])\n",
    "\n",
    "val_transform = transforms.Compose([\n",
    "    transforms.Resize(256),\n",
    "    transforms.CenterCrop(224),\n",
    "    transforms.ToTensor(),\n",
    "    transforms.Normalize(mean=[0.485, 0.456, 0.406], std=[0.229, 0.224, 0.225])\n",
    "])\n",
    "\n",
    "# Load datasets\n",
    "def load_datasets(paths, transform):\n",
    "    datasets_list = []\n",
    "    for path in paths:\n",
    "        dataset = datasets.ImageFolder(root=path, transform=transform)\n",
    "        datasets_list.append(dataset)\n",
    "    return ConcatDataset(datasets_list) if datasets_list else None\n",
    "\n",
    "# Load only the new data\n",
    "new_train_data = load_datasets(new_train_paths, train_transform)\n",
    "new_valid_data = load_datasets(new_valid_paths, val_transform)\n",
    "\n",
    "# DataLoaders\n",
    "train_loader = DataLoader(new_train_data, batch_size=16, shuffle=True, num_workers=4) if new_train_data else None\n",
    "valid_loader = DataLoader(new_valid_data, batch_size=16, shuffle=False, num_workers=4) if new_valid_data else None\n",
    "\n",
    "# Load model\n",
    "device = torch.device(\"cuda\" if torch.cuda.is_available() else \"cpu\")\n",
    "model = models.resnet50(weights=None)\n",
    "\n",
    "# Determine the number of classes dynamically\n",
    "if new_train_data:\n",
    "    num_classes = len(new_train_data.datasets[0].classes)\n",
    "else:\n",
    "    num_classes = 42  # Default value if no dataset is loaded\n",
    "\n",
    "# Initialize the fc layer with the correct number of classes\n",
    "in_features = model.fc.in_features\n",
    "model.fc = nn.Linear(in_features, num_classes)\n",
    "\n",
    "# Load existing model if available\n",
    "model_path = \"best_model.pth\"\n",
    "if os.path.exists(model_path):\n",
    "    checkpoint = torch.load(model_path, map_location=device)\n",
    "    # Load the state dict, but only after ensuring the fc layer is correctly sized.\n",
    "    model.load_state_dict(checkpoint[\"model_state_dict\"], strict=False)\n",
    "    print(\"Loaded existing model for further training.\")\n",
    "else:\n",
    "    print(\"Training a new model from scratch.\")\n",
    "\n",
    "model = model.to(device)\n",
    "\n",
    "# Define optimizer and loss function\n",
    "optimizer = optim.AdamW(model.parameters(), lr=1e-4)\n",
    "criterion = nn.CrossEntropyLoss()\n",
    "# Training function\n",
    "def train_model(epochs=5):\n",
    "    if not train_loader:\n",
    "        print(\"No new training data available.\")\n",
    "        return\n",
    "    \n",
    "    model.train()\n",
    "    for epoch in range(epochs):\n",
    "        running_loss, correct, total = 0.0, 0, 0\n",
    "        for inputs, labels in train_loader:\n",
    "            inputs, labels = inputs.to(device), labels.to(device)\n",
    "            optimizer.zero_grad()\n",
    "            outputs = model(inputs)\n",
    "            loss = criterion(outputs, labels)\n",
    "            loss.backward()\n",
    "            optimizer.step()\n",
    "            \n",
    "            running_loss += loss.item()\n",
    "            _, preds = outputs.max(1)\n",
    "            correct += preds.eq(labels).sum().item()\n",
    "            total += labels.size(0)\n",
    "        \n",
    "        acc = 100 * correct / total\n",
    "        print(f\"Epoch {epoch+1}: Loss={running_loss/len(train_loader):.4f}, Acc={acc:.2f}%\")\n",
    "\n",
    "# Train the model\n",
    "train_model(epochs=5)\n",
    "\n",
    "# Save updated model\n",
    "torch.save({\n",
    "    'model_state_dict': model.state_dict(),\n",
    "    'optimizer_state_dict': optimizer.state_dict()\n",
    "}, \"updated_model.pth\")\n",
    "\n",
    "print(\"Training complete. Model saved as updated_model.pth\")\n"
   ]
  },
  {
   "cell_type": "code",
   "execution_count": 30,
   "metadata": {},
   "outputs": [
    {
     "name": "stdout",
     "output_type": "stream",
     "text": [
      "Loaded train1 dataset with 31441 samples\n",
      "Classes in train1: ['American Bollworm on Cotton', 'Anthracnose on Cotton', 'Apple__Healthy', 'Apple__Rotten', 'Army worm', 'Bacterial Blight in cotton', 'Banana__Healthy', 'Banana__Rotten', 'Becterial Blight in Rice', 'Bellpepper__Healthy', 'Bellpepper__Rotten', 'Brownspot', 'Carrot__Healthy', 'Carrot__Rotten', 'Common_Rust', 'Cotton Aphid', 'Cucumber__Healthy', 'Cucumber__Rotten', 'Flag Smut', 'Grape__Healthy', 'Grape__Rotten', 'Gray_Leaf_Spot', 'Guava__Healthy', 'Guava__Rotten', 'Healthy Maize', 'Healthy Wheat', 'Healthy cotton', 'Jujube__Healthy', 'Jujube__Rotten', 'Leaf Curl', 'Leaf smut', 'Mango__Healthy', 'Mango__Rotten', 'Mosaic sugarcane', 'Orange__Healthy', 'Orange__Rotten', 'Pomegranate__Healthy', 'Pomegranate__Rotten', 'Potato__Healthy', 'Potato__Rotten', 'RedRot sugarcane', 'RedRust sugarcane', 'Rice Blast', 'Strawberry__Healthy', 'Strawberry__Rotten', 'Sugarcane Healthy', 'Tomato__Healthy', 'Tomato__Rotten', 'Tungro', 'Wheat Brown leaf rust', 'Wheat Stem fly', 'Wheat aphid', 'Wheat black rust', 'Wheat leaf blight', 'Wheat mite', 'Wheat powdery mildew', 'Wheat scab', 'Wheat___Yellow_Rust', 'Wilt', 'Yellow Rust Sugarcane', 'bollrot on Cotton', 'bollworm on Cotton', 'cotton mealy bug', 'cotton whitefly', 'maize ear rot', 'maize fall armyworm', 'maize stem borer', 'pink bollworm in cotton', 'red cotton bug', 'thirps on  cotton']\n"
     ]
    }
   ],
   "source": [
    "import os\n",
    "import torchvision.datasets as datasets\n",
    "import torchvision.transforms as transforms\n",
    "\n",
    "base_dir = \"C:\\\\Users\\\\parth\\\\Downloads\\\\Dataset1\"\n",
    "train1_dir = os.path.join(base_dir, \"train1\")\n",
    "\n",
    "transform = transforms.ToTensor()\n",
    "\n",
    "try:\n",
    "    train1_dataset = datasets.ImageFolder(root=train1_dir, transform=transform)\n",
    "    print(f\"Loaded train1 dataset with {len(train1_dataset)} samples\")\n",
    "    print(f\"Classes in train1: {train1_dataset.classes}\")\n",
    "except Exception as e:\n",
    "    print(f\"Error loading train1: {e}\")"
   ]
  },
  {
   "cell_type": "code",
   "execution_count": 1,
   "metadata": {},
   "outputs": [
    {
     "name": "stdout",
     "output_type": "stream",
     "text": [
      "Existing train paths: {'train2': 'C:\\\\Users\\\\parth\\\\Downloads\\\\Dataset1\\\\train2', 'train3': 'C:\\\\Users\\\\parth\\\\Downloads\\\\Dataset1\\\\train3'}\n",
      "Existing valid paths: {'valid2': 'C:\\\\Users\\\\parth\\\\Downloads\\\\Dataset1\\\\valid2', 'valid3': 'C:\\\\Users\\\\parth\\\\Downloads\\\\Dataset1\\\\valid3'}\n",
      "New train paths: ['C:\\\\Users\\\\parth\\\\Downloads\\\\Dataset1\\\\train2', 'C:\\\\Users\\\\parth\\\\Downloads\\\\Dataset1\\\\train3']\n",
      "New valid paths: ['C:\\\\Users\\\\parth\\\\Downloads\\\\Dataset1\\\\valid2', 'C:\\\\Users\\\\parth\\\\Downloads\\\\Dataset1\\\\valid3']\n"
     ]
    }
   ],
   "source": [
    "import os\n",
    "import torch\n",
    "import torchvision.models as models\n",
    "import torch.nn as nn\n",
    "import torch.optim as optim\n",
    "import torchvision.transforms as transforms\n",
    "import torchvision.datasets as datasets\n",
    "from torch.utils.data import DataLoader, ConcatDataset\n",
    "\n",
    "# Define dataset paths\n",
    "base_path = \"C:\\\\Users\\\\parth\\\\Downloads\\\\Dataset1\"\n",
    "all_train_paths = {\"train2\": os.path.join(base_path, \"train2\"), \"train3\": os.path.join(base_path, \"train3\")}\n",
    "all_valid_paths = {\"valid2\": os.path.join(base_path, \"valid2\"), \"valid3\": os.path.join(base_path, \"valid3\")}\n",
    "\n",
    "# Check existing paths\n",
    "existing_train_paths = {k: v for k, v in all_train_paths.items() if os.path.exists(v)}\n",
    "existing_valid_paths = {k: v for k, v in all_valid_paths.items() if os.path.exists(v)}\n",
    "\n",
    "# Filter only new paths\n",
    "new_train_paths = list(existing_train_paths.values())\n",
    "new_valid_paths = list(existing_valid_paths.values())\n",
    "\n",
    "# Print paths for debugging\n",
    "print(\"Existing train paths:\", existing_train_paths)\n",
    "print(\"Existing valid paths:\", existing_valid_paths)\n",
    "print(\"New train paths:\", new_train_paths)\n",
    "print(\"New valid paths:\", new_valid_paths)\n",
    "\n",
    "if not new_train_paths and not new_valid_paths:\n",
    "    print(\"No new data to train. Exiting.\")\n",
    "    exit()\n",
    "\n",
    "# ... (rest of your code)"
   ]
  },
  {
   "cell_type": "code",
   "execution_count": 2,
   "metadata": {},
   "outputs": [
    {
     "name": "stdout",
     "output_type": "stream",
     "text": [
      "Dataset loaded successfully.\n",
      "Number of classes: 28\n",
      "Classes: ['Apple__Healthy', 'Apple__Rotten', 'Banana__Healthy', 'Banana__Rotten', 'Bellpepper__Healthy', 'Bellpepper__Rotten', 'Carrot__Healthy', 'Carrot__Rotten', 'Cucumber__Healthy', 'Cucumber__Rotten', 'Grape__Healthy', 'Grape__Rotten', 'Guava__Healthy', 'Guava__Rotten', 'Jujube__Healthy', 'Jujube__Rotten', 'Mango__Healthy', 'Mango__Rotten', 'Orange__Healthy', 'Orange__Rotten', 'Pomegranate__Healthy', 'Pomegranate__Rotten', 'Potato__Healthy', 'Potato__Rotten', 'Strawberry__Healthy', 'Strawberry__Rotten', 'Tomato__Healthy', 'Tomato__Rotten']\n",
      "Number of samples: 28268\n",
      "Sample 0: Label=0\n",
      "Sample 1: Label=0\n",
      "Sample 2: Label=0\n",
      "Sample 3: Label=0\n",
      "Sample 4: Label=0\n"
     ]
    }
   ],
   "source": [
    "import os\n",
    "import torchvision.datasets as datasets\n",
    "import torchvision.transforms as transforms\n",
    "\n",
    "base_path = \"C:\\\\Users\\\\parth\\\\Downloads\\\\Dataset1\\\\train2\"  # Test with train2\n",
    "transform = transforms.ToTensor()\n",
    "\n",
    "try:\n",
    "    dataset = datasets.ImageFolder(root=base_path, transform=transform)\n",
    "    print(\"Dataset loaded successfully.\")\n",
    "    print(\"Number of classes:\", len(dataset.classes))\n",
    "    print(\"Classes:\", dataset.classes)\n",
    "    print(\"Number of samples:\", len(dataset))\n",
    "\n",
    "    # Check the first few samples\n",
    "    for i in range(min(5, len(dataset))):\n",
    "        print(f\"Sample {i}: Label={dataset[i][1]}\")\n",
    "\n",
    "except Exception as e:\n",
    "    print(f\"Dataset failed to load: {e}\")"
   ]
  },
  {
   "cell_type": "code",
   "execution_count": 10,
   "metadata": {},
   "outputs": [
    {
     "name": "stdout",
     "output_type": "stream",
     "text": [
      "Testing directory: C:\\Users\\parth\\Downloads\\Dataset1\\train2\n",
      "Dataset failed to load: Couldn't find any class folder in C:\\Users\\parth\\Downloads\\Dataset1\\train2.\n",
      "Testing directory: C:\\Users\\parth\\Downloads\\Dataset1\\train3\n",
      "Dataset loaded successfully.\n",
      "Number of classes: 5\n",
      "Classes: ['Black spot', 'Melanose', 'canker', 'greening', 'healthy']\n",
      "Number of samples: 609\n",
      "Testing directory: C:\\Users\\parth\\Downloads\\Dataset1\\valid2\n",
      "Dataset failed to load: Couldn't find any class folder in C:\\Users\\parth\\Downloads\\Dataset1\\valid2.\n",
      "Testing directory: C:\\Users\\parth\\Downloads\\Dataset1\\valid3\n",
      "Dataset loaded successfully.\n",
      "Number of classes: 5\n",
      "Classes: ['Black spot', 'Melanose', 'canker', 'greening', 'healthy']\n",
      "Number of samples: 609\n"
     ]
    }
   ],
   "source": [
    "import os\n",
    "import torchvision.datasets as datasets\n",
    "import torchvision.transforms as transforms\n",
    "\n",
    "directories = [\n",
    "    \"C:\\\\Users\\\\parth\\\\Downloads\\\\Dataset1\\\\train2\",\n",
    "    \"C:\\\\Users\\\\parth\\\\Downloads\\\\Dataset1\\\\train3\",\n",
    "    \"C:\\\\Users\\\\parth\\\\Downloads\\\\Dataset1\\\\valid2\",\n",
    "    \"C:\\\\Users\\\\parth\\\\Downloads\\\\Dataset1\\\\valid3\"\n",
    "]\n",
    "\n",
    "transform = transforms.ToTensor()\n",
    "\n",
    "for directory in directories:\n",
    "    print(f\"Testing directory: {directory}\")\n",
    "    try:\n",
    "        dataset = datasets.ImageFolder(root=directory, transform=transform)\n",
    "        print(\"Dataset loaded successfully.\")\n",
    "        print(\"Number of classes:\", len(dataset.classes))\n",
    "        print(\"Classes:\", dataset.classes)\n",
    "        print(\"Number of samples:\", len(dataset))\n",
    "    except Exception as e:\n",
    "        print(f\"Dataset failed to load: {e}\")"
   ]
  },
  {
   "cell_type": "code",
   "execution_count": 5,
   "metadata": {},
   "outputs": [
    {
     "ename": "KeyboardInterrupt",
     "evalue": "",
     "output_type": "error",
     "traceback": [
      "\u001b[1;31m---------------------------------------------------------------------------\u001b[0m",
      "\u001b[1;31mKeyboardInterrupt\u001b[0m                         Traceback (most recent call last)",
      "Cell \u001b[1;32mIn[5], line 79\u001b[0m\n\u001b[0;32m     76\u001b[0m         \u001b[38;5;28mprint\u001b[39m(\u001b[38;5;124mf\u001b[39m\u001b[38;5;124m\"\u001b[39m\u001b[38;5;124mEpoch \u001b[39m\u001b[38;5;132;01m{\u001b[39;00mepoch\u001b[38;5;241m+\u001b[39m\u001b[38;5;241m1\u001b[39m\u001b[38;5;132;01m}\u001b[39;00m\u001b[38;5;124m: Loss=\u001b[39m\u001b[38;5;132;01m{\u001b[39;00mrunning_loss\u001b[38;5;241m/\u001b[39m\u001b[38;5;28mlen\u001b[39m(train_loader)\u001b[38;5;132;01m:\u001b[39;00m\u001b[38;5;124m.4f\u001b[39m\u001b[38;5;132;01m}\u001b[39;00m\u001b[38;5;124m, Acc=\u001b[39m\u001b[38;5;132;01m{\u001b[39;00macc\u001b[38;5;132;01m:\u001b[39;00m\u001b[38;5;124m.2f\u001b[39m\u001b[38;5;132;01m}\u001b[39;00m\u001b[38;5;124m%\u001b[39m\u001b[38;5;124m\"\u001b[39m)\n\u001b[0;32m     78\u001b[0m \u001b[38;5;66;03m# Train and save\u001b[39;00m\n\u001b[1;32m---> 79\u001b[0m \u001b[43mtrain_model\u001b[49m\u001b[43m(\u001b[49m\u001b[43mepochs\u001b[49m\u001b[38;5;241;43m=\u001b[39;49m\u001b[38;5;241;43m5\u001b[39;49m\u001b[43m)\u001b[49m\n\u001b[0;32m     80\u001b[0m torch\u001b[38;5;241m.\u001b[39msave({\u001b[38;5;124m'\u001b[39m\u001b[38;5;124mmodel_state_dict\u001b[39m\u001b[38;5;124m'\u001b[39m: model\u001b[38;5;241m.\u001b[39mstate_dict()}, \u001b[38;5;124m\"\u001b[39m\u001b[38;5;124mfruit_veg_model.pth\u001b[39m\u001b[38;5;124m\"\u001b[39m)\n",
      "Cell \u001b[1;32mIn[5], line 70\u001b[0m, in \u001b[0;36mtrain_model\u001b[1;34m(epochs)\u001b[0m\n\u001b[0;32m     68\u001b[0m loss\u001b[38;5;241m.\u001b[39mbackward()\n\u001b[0;32m     69\u001b[0m optimizer\u001b[38;5;241m.\u001b[39mstep()\n\u001b[1;32m---> 70\u001b[0m running_loss \u001b[38;5;241m+\u001b[39m\u001b[38;5;241m=\u001b[39m \u001b[43mloss\u001b[49m\u001b[38;5;241;43m.\u001b[39;49m\u001b[43mitem\u001b[49m\u001b[43m(\u001b[49m\u001b[43m)\u001b[49m\n\u001b[0;32m     71\u001b[0m _, preds \u001b[38;5;241m=\u001b[39m outputs\u001b[38;5;241m.\u001b[39mmax(\u001b[38;5;241m1\u001b[39m)\n\u001b[0;32m     72\u001b[0m correct \u001b[38;5;241m+\u001b[39m\u001b[38;5;241m=\u001b[39m preds\u001b[38;5;241m.\u001b[39meq(labels)\u001b[38;5;241m.\u001b[39msum()\u001b[38;5;241m.\u001b[39mitem()\n",
      "\u001b[1;31mKeyboardInterrupt\u001b[0m: "
     ]
    }
   ],
   "source": [
    "import os\n",
    "import torch\n",
    "import torchvision.models as models\n",
    "import torch.nn as nn\n",
    "import torch.optim as optim\n",
    "import torchvision.transforms as transforms\n",
    "import torchvision.datasets as datasets\n",
    "from torch.utils.data import DataLoader, ConcatDataset\n",
    "\n",
    "# Define dataset paths\n",
    "base_path = \"C:\\\\Users\\\\parth\\\\Downloads\\\\Dataset1\"\n",
    "train_paths = [os.path.join(base_path, \"train2\")]\n",
    "valid_paths = [os.path.join(base_path, \"valid2\")]\n",
    "\n",
    "# Define transforms\n",
    "train_transform = transforms.Compose([\n",
    "    transforms.RandomResizedCrop(224),\n",
    "    transforms.RandomHorizontalFlip(),\n",
    "    transforms.ToTensor(),\n",
    "    transforms.Normalize(mean=[0.485, 0.456, 0.406], std=[0.229, 0.224, 0.225])\n",
    "])\n",
    "\n",
    "val_transform = transforms.Compose([\n",
    "    transforms.Resize(256),\n",
    "    transforms.CenterCrop(224),\n",
    "    transforms.ToTensor(),\n",
    "    transforms.Normalize(mean=[0.485, 0.456, 0.406], std=[0.229, 0.224, 0.225])\n",
    "])\n",
    "\n",
    "# Load datasets\n",
    "def load_datasets(paths, transform):\n",
    "    datasets_list = []\n",
    "    for path in paths:\n",
    "        dataset = datasets.ImageFolder(root=path, transform=transform)\n",
    "        datasets_list.append(dataset)\n",
    "    return ConcatDataset(datasets_list) if datasets_list else None\n",
    "\n",
    "# Load data\n",
    "train_data = load_datasets(train_paths, train_transform)\n",
    "valid_data = load_datasets(valid_paths, val_transform)\n",
    "\n",
    "# DataLoaders\n",
    "train_loader = DataLoader(train_data, batch_size=16, shuffle=True, num_workers=4)\n",
    "valid_loader = DataLoader(valid_data, batch_size=16, shuffle=False, num_workers=4)\n",
    "\n",
    "# Load model\n",
    "device = torch.device(\"cuda\" if torch.cuda.is_available() else \"cpu\")\n",
    "model = models.resnet50(weights=None)\n",
    "num_classes = len(train_data.datasets[0].classes)\n",
    "in_features = model.fc.in_features\n",
    "model.fc = nn.Linear(in_features, num_classes)\n",
    "model = model.to(device)\n",
    "\n",
    "# Optimizer and loss\n",
    "optimizer = optim.AdamW(model.parameters(), lr=1e-4)\n",
    "criterion = nn.CrossEntropyLoss()\n",
    "\n",
    "# Training loop\n",
    "def train_model(epochs=5):\n",
    "    model.train()\n",
    "    for epoch in range(epochs):\n",
    "        running_loss, correct, total = 0.0, 0, 0\n",
    "        for inputs, labels in train_loader:\n",
    "            inputs, labels = inputs.to(device), labels.to(device)\n",
    "            optimizer.zero_grad()\n",
    "            outputs = model(inputs)\n",
    "            loss = criterion(outputs, labels)\n",
    "            loss.backward()\n",
    "            optimizer.step()\n",
    "            running_loss += loss.item()\n",
    "            _, preds = outputs.max(1)\n",
    "            correct += preds.eq(labels).sum().item()\n",
    "            total += labels.size(0)\n",
    "        # Calculate accuracy and print after each epoch\n",
    "        acc = 100 * correct / total\n",
    "        print(f\"Epoch {epoch+1}: Loss={running_loss/len(train_loader):.4f}, Acc={acc:.2f}%\")\n",
    "\n",
    "# Train and save\n",
    "train_model(epochs=5)\n",
    "torch.save({'model_state_dict': model.state_dict()}, \"fruit_veg_model.pth\")"
   ]
  },
  {
   "cell_type": "code",
   "execution_count": 4,
   "metadata": {},
   "outputs": [
    {
     "name": "stdout",
     "output_type": "stream",
     "text": [
      "Keys in the checkpoint: dict_keys(['model_state_dict', 'optimizer_state_dict', 'class_to_idx'])\n",
      "\n",
      "Class-to-index mapping: {'American Bollworm on Cotton': 0, 'Anthracnose on Cotton': 1, 'Apple__Healthy': 2, 'Apple__Rotten': 3, 'Apple___alternaria_leaf_spot': 4, 'Apple___black_rot': 5, 'Apple___brown_spot': 6, 'Apple___gray_spot': 7, 'Apple___healthy': 8, 'Apple___rust': 9, 'Apple___scab': 10, 'Army worm': 11, 'Banana__Healthy': 12, 'Banana__Rotten': 13, 'Becterial Blight in Rice': 14, 'Bell_pepper___bacterial_spot': 15, 'Bell_pepper___healthy': 16, 'Bellpepper__Healthy': 17, 'Bellpepper__Rotten': 18, 'Black spot': 19, 'Blueberry___healthy': 20, 'Brownspot': 21, 'Canker': 22, 'Carrot__Healthy': 23, 'Carrot__Rotten': 24, 'Cassava___bacterial_blight': 25, 'Cassava___brown_streak_disease': 26, 'Cassava___green_mottle': 27, 'Cassava___healthy': 28, 'Cassava___mosaic_disease': 29, 'Cherry___healthy': 30, 'Cherry___powdery_mildew': 31, 'Coffee___healthy': 32, 'Coffee___red_spider_mite': 33, 'Coffee___rust': 34, 'Common_Rust': 35, 'Corn___common_rust': 36, 'Corn___gray_leaf_spot': 37, 'Corn___healthy': 38, 'Corn___northern_leaf_blight': 39, 'Cotton Aphid': 40, 'Cucumber__Healthy': 41, 'Cucumber__Rotten': 42, 'Flag Smut': 43, 'Grape__Healthy': 44, 'Grape__Rotten': 45, 'Grape___Leaf_blight': 46, 'Grape___black_measles': 47, 'Grape___black_rot': 48, 'Grape___healthy': 49, 'Gray_Leaf_Spot': 50, 'Greening': 51, 'Guava__Healthy': 52, 'Guava__Rotten': 53, 'Healthy Maize': 54, 'Healthy Wheat': 55, 'Healthy cotton': 56, 'Jujube__Healthy': 57, 'Jujube__Rotten': 58, 'Leaf Curl': 59, 'Leaf smut': 60, 'Mango__Healthy': 61, 'Mango__Rotten': 62, 'Mosaic sugarcane': 63, 'Orange__Healthy': 64, 'Orange__Rotten': 65, 'Orange___citrus_greening': 66, 'Peach___bacterial_spot': 67, 'Peach___healthy': 68, 'Pomegranate__Healthy': 69, 'Pomegranate__Rotten': 70, 'Potato__Healthy': 71, 'Potato__Rotten': 72, 'Potato___bacterial_wilt': 73, 'Potato___early_blight': 74, 'Potato___healthy': 75, 'Potato___late_blight': 76, 'Potato___leafroll_virus': 77, 'Potato___mosaic_virus': 78, 'Potato___nematode': 79, 'Potato___pests': 80, 'Potato___phytophthora': 81, 'Potato___spindle_tuber_viroid': 82, 'Raspberry___healthy': 83, 'RedRot sugarcane': 84, 'RedRust sugarcane': 85, 'Rice Blast': 86, 'Rice___bacterial_blight': 87, 'Rice___blast': 88, 'Rice___brown_spot': 89, 'Rice___tungro': 90, 'Rose___healthy': 91, 'Rose___rust': 92, 'Rose___slug_sawfly': 93, 'Scab': 94, 'Soybean___healthy': 95, 'Squash___powdery_mildew': 96, 'Strawberry__Healthy': 97, 'Strawberry__Rotten': 98, 'Strawberry___healthy': 99, 'Strawberry___leaf_scorch': 100, 'Sugarcane Healthy': 101, 'Sugercane___healthy': 102, 'Sugercane___mosaic': 103, 'Sugercane___red_rot': 104, 'Sugercane___rust': 105, 'Sugercane___yellow_leaf': 106, 'Tomato__Healthy': 107, 'Tomato__Rotten': 108, 'Tomato___bacterial_spot': 109, 'Tomato___early_blight': 110, 'Tomato___healthy': 111, 'Tomato___late_blight': 112, 'Tomato___leaf_curl': 113, 'Tomato___leaf_mold': 114, 'Tomato___mosaic_virus': 115, 'Tomato___septoria_leaf_spot': 116, 'Tomato___spider_mites': 117, 'Tomato___target_spot': 118, 'Tungro': 119, 'Watermelon___anthracnose': 120, 'Watermelon___downy_mildew': 121, 'Watermelon___healthy': 122, 'Watermelon___mosaic_virus': 123, 'Wheat Brown leaf Rust': 124, 'Wheat Stem fly': 125, 'Wheat aphid': 126, 'Wheat black rust': 127, 'Wheat leaf blight': 128, 'Wheat mite': 129, 'Wheat powdery mildew': 130, 'Wheat scab': 131, 'Wheat___Yellow_Rust': 132, 'Wilt': 133, 'Yellow Rust Sugarcane': 134, 'bacterial_blight in Cotton': 135, 'bollrot on Cotton': 136, 'bollworm on Cotton': 137, 'cotton mealy bug': 138, 'cotton whitefly': 139, 'healthy': 140, 'maize ear rot': 141, 'maize fall armyworm': 142, 'maize stem borer': 143, 'pink bollworm in cotton': 144, 'red cotton bug': 145, 'thirps on  cotton': 146}\n"
     ]
    }
   ],
   "source": [
    "import torch\n",
    "\n",
    "# Load the checkpoint (adjust the path to your .pth file)\n",
    "checkpoint = torch.load(\"optimized_model.pth\", map_location=torch.device('cpu'))  # Load on CPU\n",
    "\n",
    "# Print keys in the checkpoint to see what's stored\n",
    "print(\"Keys in the checkpoint:\", checkpoint.keys())\n",
    "\n",
    "# Inspect the contents\n",
    "if 'state_dict' in checkpoint:\n",
    "    print(\"\\nModel architecture (state_dict) keys:\", checkpoint['state_dict'].keys())\n",
    "if 'epoch' in checkpoint:\n",
    "    print(\"\\nEpoch:\", checkpoint['epoch'])\n",
    "if 'optimizer' in checkpoint:\n",
    "    print(\"\\nOptimizer state:\", checkpoint['optimizer'])\n",
    "if 'class_to_idx' in checkpoint:\n",
    "    print(\"\\nClass-to-index mapping:\", checkpoint['class_to_idx'])"
   ]
  },
  {
   "cell_type": "code",
   "execution_count": null,
   "metadata": {},
   "outputs": [],
   "source": []
  },
  {
   "cell_type": "code",
   "execution_count": 5,
   "metadata": {},
   "outputs": [
    {
     "name": "stdout",
     "output_type": "stream",
     "text": [
      "dict_keys(['model_state_dict', 'optimizer_state_dict', 'class_to_idx'])\n"
     ]
    }
   ],
   "source": [
    "checkpoint = torch.load(\"optimized_model.pth\")\n",
    "print(checkpoint.keys())  # See available keys\n"
   ]
  },
  {
   "cell_type": "code",
   "execution_count": 1,
   "metadata": {},
   "outputs": [
    {
     "ename": "FileNotFoundError",
     "evalue": "[Errno 2] No such file or directory: '/mnt/data/optimized_model.pth'",
     "output_type": "error",
     "traceback": [
      "\u001b[1;31m---------------------------------------------------------------------------\u001b[0m",
      "\u001b[1;31mFileNotFoundError\u001b[0m                         Traceback (most recent call last)",
      "Cell \u001b[1;32mIn[1], line 5\u001b[0m\n\u001b[0;32m      3\u001b[0m \u001b[38;5;66;03m# Load the checkpoint\u001b[39;00m\n\u001b[0;32m      4\u001b[0m checkpoint_path \u001b[38;5;241m=\u001b[39m \u001b[38;5;124m\"\u001b[39m\u001b[38;5;124m/mnt/data/optimized_model.pth\u001b[39m\u001b[38;5;124m\"\u001b[39m\n\u001b[1;32m----> 5\u001b[0m checkpoint \u001b[38;5;241m=\u001b[39m \u001b[43mtorch\u001b[49m\u001b[38;5;241;43m.\u001b[39;49m\u001b[43mload\u001b[49m\u001b[43m(\u001b[49m\u001b[43mcheckpoint_path\u001b[49m\u001b[43m,\u001b[49m\u001b[43m \u001b[49m\u001b[43mmap_location\u001b[49m\u001b[38;5;241;43m=\u001b[39;49m\u001b[43mtorch\u001b[49m\u001b[38;5;241;43m.\u001b[39;49m\u001b[43mdevice\u001b[49m\u001b[43m(\u001b[49m\u001b[38;5;124;43m'\u001b[39;49m\u001b[38;5;124;43mcpu\u001b[39;49m\u001b[38;5;124;43m'\u001b[39;49m\u001b[43m)\u001b[49m\u001b[43m)\u001b[49m\n\u001b[0;32m      7\u001b[0m \u001b[38;5;66;03m# Extract class-to-index mapping\u001b[39;00m\n\u001b[0;32m      8\u001b[0m class_to_idx \u001b[38;5;241m=\u001b[39m checkpoint\u001b[38;5;241m.\u001b[39mget(\u001b[38;5;124m'\u001b[39m\u001b[38;5;124mclass_to_idx\u001b[39m\u001b[38;5;124m'\u001b[39m, {})\n",
      "File \u001b[1;32m~\\AppData\\Roaming\\Python\\Python312\\site-packages\\torch\\serialization.py:1425\u001b[0m, in \u001b[0;36mload\u001b[1;34m(f, map_location, pickle_module, weights_only, mmap, **pickle_load_args)\u001b[0m\n\u001b[0;32m   1422\u001b[0m \u001b[38;5;28;01mif\u001b[39;00m \u001b[38;5;124m\"\u001b[39m\u001b[38;5;124mencoding\u001b[39m\u001b[38;5;124m\"\u001b[39m \u001b[38;5;129;01mnot\u001b[39;00m \u001b[38;5;129;01min\u001b[39;00m pickle_load_args\u001b[38;5;241m.\u001b[39mkeys():\n\u001b[0;32m   1423\u001b[0m     pickle_load_args[\u001b[38;5;124m\"\u001b[39m\u001b[38;5;124mencoding\u001b[39m\u001b[38;5;124m\"\u001b[39m] \u001b[38;5;241m=\u001b[39m \u001b[38;5;124m\"\u001b[39m\u001b[38;5;124mutf-8\u001b[39m\u001b[38;5;124m\"\u001b[39m\n\u001b[1;32m-> 1425\u001b[0m \u001b[38;5;28;01mwith\u001b[39;00m \u001b[43m_open_file_like\u001b[49m\u001b[43m(\u001b[49m\u001b[43mf\u001b[49m\u001b[43m,\u001b[49m\u001b[43m \u001b[49m\u001b[38;5;124;43m\"\u001b[39;49m\u001b[38;5;124;43mrb\u001b[39;49m\u001b[38;5;124;43m\"\u001b[39;49m\u001b[43m)\u001b[49m \u001b[38;5;28;01mas\u001b[39;00m opened_file:\n\u001b[0;32m   1426\u001b[0m     \u001b[38;5;28;01mif\u001b[39;00m _is_zipfile(opened_file):\n\u001b[0;32m   1427\u001b[0m         \u001b[38;5;66;03m# The zipfile reader is going to advance the current file position.\u001b[39;00m\n\u001b[0;32m   1428\u001b[0m         \u001b[38;5;66;03m# If we want to actually tail call to torch.jit.load, we need to\u001b[39;00m\n\u001b[0;32m   1429\u001b[0m         \u001b[38;5;66;03m# reset back to the original position.\u001b[39;00m\n\u001b[0;32m   1430\u001b[0m         orig_position \u001b[38;5;241m=\u001b[39m opened_file\u001b[38;5;241m.\u001b[39mtell()\n",
      "File \u001b[1;32m~\\AppData\\Roaming\\Python\\Python312\\site-packages\\torch\\serialization.py:751\u001b[0m, in \u001b[0;36m_open_file_like\u001b[1;34m(name_or_buffer, mode)\u001b[0m\n\u001b[0;32m    749\u001b[0m \u001b[38;5;28;01mdef\u001b[39;00m \u001b[38;5;21m_open_file_like\u001b[39m(name_or_buffer, mode):\n\u001b[0;32m    750\u001b[0m     \u001b[38;5;28;01mif\u001b[39;00m _is_path(name_or_buffer):\n\u001b[1;32m--> 751\u001b[0m         \u001b[38;5;28;01mreturn\u001b[39;00m \u001b[43m_open_file\u001b[49m\u001b[43m(\u001b[49m\u001b[43mname_or_buffer\u001b[49m\u001b[43m,\u001b[49m\u001b[43m \u001b[49m\u001b[43mmode\u001b[49m\u001b[43m)\u001b[49m\n\u001b[0;32m    752\u001b[0m     \u001b[38;5;28;01melse\u001b[39;00m:\n\u001b[0;32m    753\u001b[0m         \u001b[38;5;28;01mif\u001b[39;00m \u001b[38;5;124m\"\u001b[39m\u001b[38;5;124mw\u001b[39m\u001b[38;5;124m\"\u001b[39m \u001b[38;5;129;01min\u001b[39;00m mode:\n",
      "File \u001b[1;32m~\\AppData\\Roaming\\Python\\Python312\\site-packages\\torch\\serialization.py:732\u001b[0m, in \u001b[0;36m_open_file.__init__\u001b[1;34m(self, name, mode)\u001b[0m\n\u001b[0;32m    731\u001b[0m \u001b[38;5;28;01mdef\u001b[39;00m \u001b[38;5;21m__init__\u001b[39m(\u001b[38;5;28mself\u001b[39m, name, mode):\n\u001b[1;32m--> 732\u001b[0m     \u001b[38;5;28msuper\u001b[39m()\u001b[38;5;241m.\u001b[39m\u001b[38;5;21m__init__\u001b[39m(\u001b[38;5;28;43mopen\u001b[39;49m\u001b[43m(\u001b[49m\u001b[43mname\u001b[49m\u001b[43m,\u001b[49m\u001b[43m \u001b[49m\u001b[43mmode\u001b[49m\u001b[43m)\u001b[49m)\n",
      "\u001b[1;31mFileNotFoundError\u001b[0m: [Errno 2] No such file or directory: '/mnt/data/optimized_model.pth'"
     ]
    }
   ],
   "source": [
    "import torch\n",
    "\n",
    "# Load the checkpoint\n",
    "checkpoint_path = \"/mnt/data/optimized_model.pth\"\n",
    "checkpoint = torch.load(checkpoint_path, map_location=torch.device('cpu'))\n",
    "\n",
    "# Extract class-to-index mapping\n",
    "class_to_idx = checkpoint.get('class_to_idx', {})\n",
    "num_classes = len(class_to_idx)\n",
    "\n",
    "# Print model details\n",
    "{\n",
    "    \"Number of classes\": num_classes,\n",
    "    \"Checkpoint keys\": list(checkpoint.keys())\n",
    "}\n"
   ]
  },
  {
   "cell_type": "code",
   "execution_count": 1,
   "metadata": {},
   "outputs": [
    {
     "name": "stdout",
     "output_type": "stream",
     "text": [
      "Creating data loaders...\n",
      "Error in main execution:\n",
      "name 'create_data_loaders' is not defined\n"
     ]
    },
    {
     "ename": "NameError",
     "evalue": "name 'create_data_loaders' is not defined",
     "output_type": "error",
     "traceback": [
      "\u001b[1;31m---------------------------------------------------------------------------\u001b[0m",
      "\u001b[1;31mNameError\u001b[0m                                 Traceback (most recent call last)",
      "Cell \u001b[1;32mIn[1], line 161\u001b[0m\n\u001b[0;32m    159\u001b[0m \u001b[38;5;28mprint\u001b[39m(\u001b[38;5;124m\"\u001b[39m\u001b[38;5;124mError in main execution:\u001b[39m\u001b[38;5;124m\"\u001b[39m)\n\u001b[0;32m    160\u001b[0m \u001b[38;5;28mprint\u001b[39m(\u001b[38;5;28mstr\u001b[39m(e))\n\u001b[1;32m--> 161\u001b[0m \u001b[38;5;28;01mraise\u001b[39;00m e\n",
      "Cell \u001b[1;32mIn[1], line 147\u001b[0m\n\u001b[0;32m    145\u001b[0m \u001b[38;5;28;01mtry\u001b[39;00m:\n\u001b[0;32m    146\u001b[0m     \u001b[38;5;28mprint\u001b[39m(\u001b[38;5;124m\"\u001b[39m\u001b[38;5;124mCreating data loaders...\u001b[39m\u001b[38;5;124m\"\u001b[39m)\n\u001b[1;32m--> 147\u001b[0m     train_loader, valid_loader \u001b[38;5;241m=\u001b[39m \u001b[43mcreate_data_loaders\u001b[49m(train_dataset, valid_dataset, BATCH_SIZE)\n\u001b[0;32m    149\u001b[0m     \u001b[38;5;28mprint\u001b[39m(\u001b[38;5;124m\"\u001b[39m\u001b[38;5;124mCreating model...\u001b[39m\u001b[38;5;124m\"\u001b[39m)\n\u001b[0;32m    150\u001b[0m     model \u001b[38;5;241m=\u001b[39m create_model(\u001b[38;5;28mlen\u001b[39m(train_dataset\u001b[38;5;241m.\u001b[39mclasses))\n",
      "\u001b[1;31mNameError\u001b[0m: name 'create_data_loaders' is not defined"
     ]
    }
   ],
   "source": [
    "# [Previous imports and setup remain the same until train_epoch function]\n",
    "\n",
    "def train_epoch(model, loader, optimizer, scheduler, scaler, criterion, accumulation_steps=2):\n",
    "    model.train()\n",
    "    running_loss = 0.0\n",
    "    correct = 0\n",
    "    total = 0\n",
    "    optimizer.zero_grad()\n",
    "    \n",
    "    print(\"Starting training epoch...\")\n",
    "    print(f\"Total batches: {len(loader)}\")\n",
    "    print(f\"Batch size: {loader.batch_size}\")\n",
    "    print(\"Memory usage before training:\")\n",
    "    if torch.cuda.is_available():\n",
    "        print(f\"GPU memory allocated: {torch.cuda.memory_allocated()/1e9:.2f} GB\")\n",
    "        print(f\"GPU memory cached: {torch.cuda.memory_reserved()/1e9:.2f} GB\")\n",
    "    \n",
    "    pbar = tqdm(loader, desc='Training', leave=True)  # Changed leave to True\n",
    "    for i, (inputs, labels) in enumerate(pbar):\n",
    "        try:\n",
    "            if i == 0:\n",
    "                print(f\"First batch shapes - Inputs: {inputs.shape}, Labels: {labels.shape}\")\n",
    "            \n",
    "            inputs, labels = inputs.to(device), labels.to(device)\n",
    "            \n",
    "            with autocast(enabled=(device.type == 'cuda')):\n",
    "                outputs = model(inputs)\n",
    "                loss = criterion(outputs, labels) / accumulation_steps\n",
    "            \n",
    "            scaler.scale(loss).backward()\n",
    "            \n",
    "            if (i + 1) % accumulation_steps == 0:\n",
    "                scaler.unscale_(optimizer)\n",
    "                torch.nn.utils.clip_grad_norm_(model.parameters(), max_norm=1.0)\n",
    "                scaler.step(optimizer)\n",
    "                scaler.update()\n",
    "                optimizer.zero_grad()\n",
    "                scheduler.step()\n",
    "            \n",
    "            running_loss += loss.item() * inputs.size(0) * accumulation_steps\n",
    "            _, predicted = outputs.max(1)\n",
    "            total += labels.size(0)\n",
    "            correct += predicted.eq(labels).sum().item()\n",
    "            \n",
    "            if i % 10 == 0:  # Print every 10 batches\n",
    "                print(f\"\\nBatch {i}/{len(loader)}\")\n",
    "                print(f\"Current loss: {loss.item():.4f}\")\n",
    "                print(f\"Current accuracy: {100*correct/total:.2f}%\")\n",
    "                if torch.cuda.is_available():\n",
    "                    print(f\"GPU memory allocated: {torch.cuda.memory_allocated()/1e9:.2f} GB\")\n",
    "            \n",
    "            pbar.set_postfix({\n",
    "                'Loss': f\"{loss.item() * accumulation_steps:.4f}\",\n",
    "                'Acc': f\"{100*correct/total:.2f}%\",\n",
    "                'Batch': f\"{i}/{len(loader)}\"\n",
    "            })\n",
    "            \n",
    "        except Exception as e:\n",
    "            print(f\"Error in batch {i}:\")\n",
    "            print(str(e))\n",
    "            raise e\n",
    "    \n",
    "    return running_loss / len(loader.dataset), 100 * correct / total\n",
    "\n",
    "# Main training loop with additional logging\n",
    "def train_model(model, train_loader, valid_loader, num_epochs):\n",
    "    print(\"Initializing training...\")\n",
    "    print(f\"Total epochs: {num_epochs}\")\n",
    "    print(f\"Training samples: {len(train_loader.dataset)}\")\n",
    "    print(f\"Validation samples: {len(valid_loader.dataset)}\")\n",
    "    \n",
    "    scaler = GradScaler(enabled=(device.type == 'cuda'))  # Updated GradScaler initialization\n",
    "    \n",
    "    # Optimizer with weight decay\n",
    "    optimizer = optim.AdamW([\n",
    "        {'params': [p for n, p in model.named_parameters() if 'classifier' not in n], 'lr': 1e-4},\n",
    "        {'params': [p for n, p in model.named_parameters() if 'classifier' in n], 'lr': 1e-3}\n",
    "    ], weight_decay=1e-4)\n",
    "    \n",
    "    # One Cycle learning rate scheduler\n",
    "    scheduler = optim.lr_scheduler.OneCycleLR(\n",
    "        optimizer,\n",
    "        max_lr=[1e-4, 1e-3],\n",
    "        steps_per_epoch=len(train_loader),\n",
    "        epochs=num_epochs,\n",
    "        pct_start=0.3\n",
    "    )\n",
    "    \n",
    "    history = {'train_loss': [], 'train_acc': [], 'val_loss': [], 'val_acc': []}\n",
    "    best_acc = 0.0\n",
    "    patience = 5\n",
    "    patience_counter = 0\n",
    "    \n",
    "    try:\n",
    "        for epoch in range(num_epochs):\n",
    "            print(f\"\\nEpoch {epoch+1}/{num_epochs}\")\n",
    "            print(\"Memory status before epoch:\")\n",
    "            if torch.cuda.is_available():\n",
    "                print(f\"GPU memory allocated: {torch.cuda.memory_allocated()/1e9:.2f} GB\")\n",
    "                print(f\"GPU memory cached: {torch.cuda.memory_reserved()/1e9:.2f} GB\")\n",
    "            \n",
    "            train_loss, train_acc = train_epoch(model, train_loader, optimizer, \n",
    "                                              scheduler, scaler, criterion)\n",
    "            val_loss, val_acc = validate(model, valid_loader, criterion)\n",
    "            \n",
    "            history['train_loss'].append(train_loss)\n",
    "            history['train_acc'].append(train_acc)\n",
    "            history['val_loss'].append(val_loss)\n",
    "            history['val_acc'].append(val_acc)\n",
    "            \n",
    "            print(f\"\\nEpoch {epoch+1} Results:\")\n",
    "            print(f\"Train Loss: {train_loss:.4f} | Train Acc: {train_acc:.2f}%\")\n",
    "            print(f\"Val Loss: {val_loss:.4f} | Val Acc: {val_acc:.2f}%\")\n",
    "            \n",
    "            if val_acc > best_acc:\n",
    "                best_acc = val_acc\n",
    "                print(f\"New best accuracy: {best_acc:.2f}%\")\n",
    "                torch.save({\n",
    "                    'epoch': epoch,\n",
    "                    'model_state_dict': model.state_dict(),\n",
    "                    'optimizer_state_dict': optimizer.state_dict(),\n",
    "                    'scheduler_state_dict': scheduler.state_dict(),\n",
    "                    'best_acc': best_acc,\n",
    "                }, 'best_model.pth')\n",
    "                patience_counter = 0\n",
    "            else:\n",
    "                patience_counter += 1\n",
    "                if patience_counter >= patience:\n",
    "                    print(\"Early stopping triggered!\")\n",
    "                    break\n",
    "            \n",
    "            # Clear cache after each epoch\n",
    "            if torch.cuda.is_available():\n",
    "                torch.cuda.empty_cache()\n",
    "    \n",
    "    except Exception as e:\n",
    "        print(\"Error during training:\")\n",
    "        print(str(e))\n",
    "        raise e\n",
    "    \n",
    "    return history\n",
    "\n",
    "# Execute training with error handling\n",
    "if __name__ == '__main__':\n",
    "    try:\n",
    "        print(\"Creating data loaders...\")\n",
    "        train_loader, valid_loader = create_data_loaders(train_dataset, valid_dataset, BATCH_SIZE)\n",
    "        \n",
    "        print(\"Creating model...\")\n",
    "        model = create_model(len(train_dataset.classes))\n",
    "        \n",
    "        print(\"Starting training...\")\n",
    "        history = train_model(model, train_loader, valid_loader, NUM_EPOCHS)\n",
    "        \n",
    "        print(\"Creating training history plot...\")\n",
    "        plot_training_history(history)\n",
    "        \n",
    "    except Exception as e:\n",
    "        print(\"Error in main execution:\")\n",
    "        print(str(e))\n",
    "        raise e"
   ]
  },
  {
   "cell_type": "code",
   "execution_count": 2,
   "metadata": {},
   "outputs": [
    {
     "ename": "NameError",
     "evalue": "name 'class_counts' is not defined",
     "output_type": "error",
     "traceback": [
      "\u001b[1;31m---------------------------------------------------------------------------\u001b[0m",
      "\u001b[1;31mNameError\u001b[0m                                 Traceback (most recent call last)",
      "Cell \u001b[1;32mIn[2], line 2\u001b[0m\n\u001b[0;32m      1\u001b[0m \u001b[38;5;28;01mimport\u001b[39;00m \u001b[38;5;21;01mtorch\u001b[39;00m\n\u001b[1;32m----> 2\u001b[0m class_weights \u001b[38;5;241m=\u001b[39m torch\u001b[38;5;241m.\u001b[39mtensor([\u001b[38;5;241m1.0\u001b[39m \u001b[38;5;241m/\u001b[39m count \u001b[38;5;28;01mfor\u001b[39;00m count \u001b[38;5;129;01min\u001b[39;00m \u001b[43mclass_counts\u001b[49m], device\u001b[38;5;241m=\u001b[39mdevice)\n\u001b[0;32m      3\u001b[0m criterion \u001b[38;5;241m=\u001b[39m nn\u001b[38;5;241m.\u001b[39mCrossEntropyLoss(weight\u001b[38;5;241m=\u001b[39mclass_weights)\n",
      "\u001b[1;31mNameError\u001b[0m: name 'class_counts' is not defined"
     ]
    }
   ],
   "source": [
    "import torch\n",
    "class_weights = torch.tensor([1.0 / count for count in class_counts], device=device)\n",
    "criterion = nn.CrossEntropyLoss(weight=class_weights)"
   ]
  },
  {
   "cell_type": "code",
   "execution_count": 3,
   "metadata": {},
   "outputs": [
    {
     "ename": "NameError",
     "evalue": "name 'os' is not defined",
     "output_type": "error",
     "traceback": [
      "\u001b[1;31m---------------------------------------------------------------------------\u001b[0m",
      "\u001b[1;31mNameError\u001b[0m                                 Traceback (most recent call last)",
      "Cell \u001b[1;32mIn[3], line 37\u001b[0m\n\u001b[0;32m     35\u001b[0m \u001b[38;5;66;03m# Load test dataset\u001b[39;00m\n\u001b[0;32m     36\u001b[0m data_dir \u001b[38;5;241m=\u001b[39m \u001b[38;5;124m\"\u001b[39m\u001b[38;5;124mC:\u001b[39m\u001b[38;5;130;01m\\\\\u001b[39;00m\u001b[38;5;124mUsers\u001b[39m\u001b[38;5;130;01m\\\\\u001b[39;00m\u001b[38;5;124mparth\u001b[39m\u001b[38;5;130;01m\\\\\u001b[39;00m\u001b[38;5;124mDownloads\u001b[39m\u001b[38;5;130;01m\\\\\u001b[39;00m\u001b[38;5;124mDataset1\u001b[39m\u001b[38;5;124m\"\u001b[39m\n\u001b[1;32m---> 37\u001b[0m test_dir \u001b[38;5;241m=\u001b[39m \u001b[43mos\u001b[49m\u001b[38;5;241m.\u001b[39mpath\u001b[38;5;241m.\u001b[39mjoin(data_dir, \u001b[38;5;124m\"\u001b[39m\u001b[38;5;124mvalid\u001b[39m\u001b[38;5;124m\"\u001b[39m)  \u001b[38;5;66;03m# Assuming validation set for testing\u001b[39;00m\n\u001b[0;32m     38\u001b[0m test_dataset \u001b[38;5;241m=\u001b[39m datasets\u001b[38;5;241m.\u001b[39mImageFolder(root\u001b[38;5;241m=\u001b[39mtest_dir, transform\u001b[38;5;241m=\u001b[39mtransform)\n\u001b[0;32m     39\u001b[0m test_loader \u001b[38;5;241m=\u001b[39m DataLoader(test_dataset, batch_size\u001b[38;5;241m=\u001b[39m\u001b[38;5;241m32\u001b[39m, shuffle\u001b[38;5;241m=\u001b[39m\u001b[38;5;28;01mFalse\u001b[39;00m)\n",
      "\u001b[1;31mNameError\u001b[0m: name 'os' is not defined"
     ]
    }
   ],
   "source": [
    "import torch\n",
    "import torch.nn as nn\n",
    "import torchvision.transforms as transforms\n",
    "import torchvision.datasets as datasets\n",
    "from torch.utils.data import DataLoader\n",
    "import torchvision.models as models\n",
    "import matplotlib.pyplot as plt\n",
    "import seaborn as sns\n",
    "from sklearn.metrics import confusion_matrix\n",
    "import numpy as np\n",
    "\n",
    "# Device setup\n",
    "device = torch.device(\"cuda\" if torch.cuda.is_available() else \"cpu\")\n",
    "\n",
    "# Load the saved model state\n",
    "checkpoint = torch.load(\"optimized_model.pth\", map_location=device)\n",
    "\n",
    "# Recreate the model architecture\n",
    "model = models.resnet50(weights=models.ResNet50_Weights.DEFAULT)\n",
    "num_ftrs = model.fc.in_features\n",
    "model.fc = nn.Linear(num_ftrs, len(checkpoint['class_to_idx']))  # Ensure the correct number of output classes\n",
    "\n",
    "# Load model weights\n",
    "model.load_state_dict(checkpoint['model_state_dict'])\n",
    "model = model.to(device)\n",
    "model.eval()\n",
    "\n",
    "# Define transformations (same as training)\n",
    "transform = transforms.Compose([\n",
    "    transforms.Resize((224, 224)),\n",
    "    transforms.ToTensor(),\n",
    "    transforms.Normalize(mean=[0.485, 0.456, 0.406], std=[0.229, 0.224, 0.225])\n",
    "])\n",
    "\n",
    "# Load test dataset\n",
    "data_dir = \"C:\\\\Users\\\\parth\\\\Downloads\\\\Dataset1\"\n",
    "test_dir = os.path.join(data_dir, \"valid\")  # Assuming validation set for testing\n",
    "test_dataset = datasets.ImageFolder(root=test_dir, transform=transform)\n",
    "test_loader = DataLoader(test_dataset, batch_size=32, shuffle=False)\n",
    "\n",
    "# Get class names\n",
    "class_names = test_dataset.classes\n",
    "\n",
    "# Initialize lists for true and predicted labels\n",
    "y_true = []\n",
    "y_pred = []\n",
    "\n",
    "# Perform inference\n",
    "with torch.no_grad():\n",
    "    for images, labels in test_loader:\n",
    "        images, labels = images.to(device), labels.to(device)\n",
    "        outputs = model(images)\n",
    "        _, predicted = torch.max(outputs, 1)\n",
    "\n",
    "        y_true.extend(labels.cpu().numpy())\n",
    "        y_pred.extend(predicted.cpu().numpy())\n",
    "\n",
    "# Compute confusion matrix\n",
    "cm = confusion_matrix(y_true, y_pred)\n",
    "\n",
    "# Plot confusion matrix\n",
    "plt.figure(figsize=(8, 6))\n",
    "sns.heatmap(cm, annot=True, fmt='d', cmap='Blues', xticklabels=class_names, yticklabels=class_names)\n",
    "plt.xlabel('Predicted Labels')\n",
    "plt.ylabel('True Labels')\n",
    "plt.title('Confusion Matrix')\n",
    "plt.show()\n"
   ]
  },
  {
   "cell_type": "code",
   "execution_count": 3,
   "metadata": {},
   "outputs": [
    {
     "ename": "NameError",
     "evalue": "name 'train_dataset' is not defined",
     "output_type": "error",
     "traceback": [
      "\u001b[1;31m---------------------------------------------------------------------------\u001b[0m",
      "\u001b[1;31mNameError\u001b[0m                                 Traceback (most recent call last)",
      "Cell \u001b[1;32mIn[3], line 4\u001b[0m\n\u001b[0;32m      1\u001b[0m \u001b[38;5;28;01mfrom\u001b[39;00m \u001b[38;5;21;01mcollections\u001b[39;00m \u001b[38;5;28;01mimport\u001b[39;00m Counter\n\u001b[0;32m      3\u001b[0m \u001b[38;5;66;03m# Assuming train_dataset is your training dataset\u001b[39;00m\n\u001b[1;32m----> 4\u001b[0m class_counts \u001b[38;5;241m=\u001b[39m Counter(\u001b[43mtrain_dataset\u001b[49m\u001b[38;5;241m.\u001b[39mtargets)  \u001b[38;5;66;03m# Count samples per class\u001b[39;00m\n\u001b[0;32m      5\u001b[0m \u001b[38;5;28mprint\u001b[39m(\u001b[38;5;124m\"\u001b[39m\u001b[38;5;124mClass counts:\u001b[39m\u001b[38;5;124m\"\u001b[39m, class_counts)\n",
      "\u001b[1;31mNameError\u001b[0m: name 'train_dataset' is not defined"
     ]
    }
   ],
   "source": [
    "from collections import Counter\n",
    "\n",
    "# Assuming train_dataset is your training dataset\n",
    "class_counts = Counter(train_dataset.targets)  # Count samples per class\n",
    "print(\"Class counts:\", class_counts)"
   ]
  },
  {
   "cell_type": "code",
   "execution_count": 5,
   "metadata": {},
   "outputs": [
    {
     "ename": "NameError",
     "evalue": "name 'train_dataset' is not defined",
     "output_type": "error",
     "traceback": [
      "\u001b[1;31m---------------------------------------------------------------------------\u001b[0m",
      "\u001b[1;31mNameError\u001b[0m                                 Traceback (most recent call last)",
      "Cell \u001b[1;32mIn[5], line 4\u001b[0m\n\u001b[0;32m      1\u001b[0m \u001b[38;5;28;01mfrom\u001b[39;00m \u001b[38;5;21;01mcollections\u001b[39;00m \u001b[38;5;28;01mimport\u001b[39;00m Counter\n\u001b[0;32m      3\u001b[0m \u001b[38;5;66;03m# Count samples per class\u001b[39;00m\n\u001b[1;32m----> 4\u001b[0m class_counts \u001b[38;5;241m=\u001b[39m {train_dataset\u001b[38;5;241m.\u001b[39mclasses[idx]: count \u001b[38;5;28;01mfor\u001b[39;00m idx, count \u001b[38;5;129;01min\u001b[39;00m Counter(\u001b[43mtrain_dataset\u001b[49m\u001b[38;5;241m.\u001b[39mtargets)\u001b[38;5;241m.\u001b[39mitems()}\n\u001b[0;32m      6\u001b[0m \u001b[38;5;66;03m# Print class distribution\u001b[39;00m\n\u001b[0;32m      7\u001b[0m \u001b[38;5;28;01mfor\u001b[39;00m class_name, count \u001b[38;5;129;01min\u001b[39;00m class_counts\u001b[38;5;241m.\u001b[39mitems():\n",
      "\u001b[1;31mNameError\u001b[0m: name 'train_dataset' is not defined"
     ]
    }
   ],
   "source": [
    "from collections import Counter\n",
    "\n",
    "# Count samples per class\n",
    "class_counts = {train_dataset.classes[idx]: count for idx, count in Counter(train_dataset.targets).items()}\n",
    "\n",
    "# Print class distribution\n",
    "for class_name, count in class_counts.items():\n",
    "    print(f\"{class_name}: {count} samples\")\n"
   ]
  },
  {
   "cell_type": "code",
   "execution_count": 11,
   "metadata": {},
   "outputs": [],
   "source": [
    "from sklearn.metrics import classification_report, confusion_matrix\n",
    "import pandas as pd\n",
    "import seaborn as sns\n",
    "import matplotlib.pyplot as plt\n",
    "\n",
    "def evaluate_model(model, test_loader):\n",
    "    model.eval()  # Set the model to evaluation mode\n",
    "    all_preds = []\n",
    "    all_labels = []\n",
    "    \n",
    "    with torch.no_grad():\n",
    "        for inputs, labels in tqdm(test_loader, desc=\"Evaluating\"):\n",
    "            inputs, labels = inputs.to(device), labels.to(device)\n",
    "            outputs = model(inputs)\n",
    "            _, preds = torch.max(outputs, 1)\n",
    "            \n",
    "            all_preds.extend(preds.cpu().numpy())\n",
    "            all_labels.extend(labels.cpu().numpy())\n",
    "    \n",
    "    # Generate classification report\n",
    "    report = classification_report(all_labels, all_preds, target_names=class_names, output_dict=True)\n",
    "    \n",
    "    # Generate confusion matrix\n",
    "    cm = confusion_matrix(all_labels, all_preds)\n",
    "    \n",
    "    return report, cm"
   ]
  },
  {
   "cell_type": "code",
   "execution_count": 8,
   "metadata": {},
   "outputs": [
    {
     "name": "stdout",
     "output_type": "stream",
     "text": [
      "odict_keys(['conv1_1.weight', 'conv1_1.bias', 'conv1_2.weight', 'conv1_2.bias', 'conv2_1.weight', 'conv2_1.bias', 'conv2_2.weight', 'conv2_2.bias', 'conv3_1.weight', 'conv3_1.bias', 'conv3_2.weight', 'conv3_2.bias', 'conv4_1.weight', 'conv4_1.bias', 'conv4_2.weight', 'conv4_2.bias', 'conv5_1.weight', 'conv5_1.bias', 'conv5_2.weight', 'conv5_2.bias', 'fc1.weight', 'fc1.bias', 'fc2.weight', 'fc2.bias'])\n"
     ]
    }
   ],
   "source": [
    "import torch\n",
    "\n",
    "# Load the saved file\n",
    "checkpoint = torch.load(\"trained_plant_disease_model.pth\", map_location=\"cpu\")\n",
    "\n",
    "# Check the keys in the file\n",
    "print(checkpoint.keys())"
   ]
  },
  {
   "cell_type": "code",
   "execution_count": 5,
   "metadata": {},
   "outputs": [
    {
     "name": "stdout",
     "output_type": "stream",
     "text": [
      "Num GPUs Available:  0\n",
      "WARNING:tensorflow:From C:\\Users\\parth\\AppData\\Local\\Temp\\ipykernel_17716\\867441296.py:15: is_gpu_available (from tensorflow.python.framework.test_util) is deprecated and will be removed in a future version.\n",
      "Instructions for updating:\n",
      "Use `tf.config.list_physical_devices('GPU')` instead.\n",
      "Using GPU:  False\n",
      "GPU Device Name:  []\n"
     ]
    }
   ],
   "source": [
    "# Enable mixed precision for faster training\n",
    "from tensorflow.keras import mixed_precision\n",
    "mixed_precision.set_global_policy('mixed_float16')\n",
    "\n",
    "# Allow TensorFlow to use GPU memory efficiently\n",
    "gpus = tf.config.experimental.list_physical_devices('GPU')\n",
    "if gpus:\n",
    "    try:\n",
    "        for gpu in gpus:\n",
    "            tf.config.experimental.set_memory_growth(gpu, True)  # Prevents memory overflow\n",
    "        print(\"GPU is enabled and memory growth is set!\")\n",
    "    except RuntimeError as e:\n",
    "        print(e)\n",
    "print(\"Num GPUs Available: \", len(tf.config.experimental.list_physical_devices('GPU')))\n",
    "print(\"Using GPU: \", tf.test.is_gpu_available())  # Deprecated, use the next line instead\n",
    "print(\"GPU Device Name: \", tf.config.list_physical_devices('GPU'))"
   ]
  },
  {
   "cell_type": "code",
   "execution_count": 9,
   "metadata": {},
   "outputs": [
    {
     "ename": "NameError",
     "evalue": "name 'PlantDiseaseModel' is not defined",
     "output_type": "error",
     "traceback": [
      "\u001b[1;31m---------------------------------------------------------------------------\u001b[0m",
      "\u001b[1;31mNameError\u001b[0m                                 Traceback (most recent call last)",
      "Cell \u001b[1;32mIn[9], line 3\u001b[0m\n\u001b[0;32m      1\u001b[0m \u001b[38;5;66;03m# Initialize the model\u001b[39;00m\n\u001b[0;32m      2\u001b[0m num_classes \u001b[38;5;241m=\u001b[39m \u001b[38;5;241m147\u001b[39m  \u001b[38;5;66;03m# Update this to match your dataset\u001b[39;00m\n\u001b[1;32m----> 3\u001b[0m model \u001b[38;5;241m=\u001b[39m \u001b[43mPlantDiseaseModel\u001b[49m(num_classes)\n\u001b[0;32m      5\u001b[0m \u001b[38;5;66;03m# Load the state dictionary\u001b[39;00m\n\u001b[0;32m      6\u001b[0m model\u001b[38;5;241m.\u001b[39mload_state_dict(torch\u001b[38;5;241m.\u001b[39mload(\u001b[38;5;124m\"\u001b[39m\u001b[38;5;124mtrained_plant_disease_model.pth\u001b[39m\u001b[38;5;124m\"\u001b[39m, map_location\u001b[38;5;241m=\u001b[39m\u001b[38;5;124m\"\u001b[39m\u001b[38;5;124mcpu\u001b[39m\u001b[38;5;124m\"\u001b[39m))\n",
      "\u001b[1;31mNameError\u001b[0m: name 'PlantDiseaseModel' is not defined"
     ]
    }
   ],
   "source": [
    "# Initialize the model\n",
    "num_classes = 147  # Update this to match your dataset\n",
    "model = PlantDiseaseModel(num_classes)\n",
    "\n",
    "# Load the state dictionary\n",
    "model.load_state_dict(torch.load(\"trained_plant_disease_model.pth\", map_location=\"cpu\"))\n",
    "\n",
    "# Set the model to evaluation mode\n",
    "model.eval()"
   ]
  },
  {
   "cell_type": "code",
   "execution_count": 1,
   "metadata": {},
   "outputs": [
    {
     "name": "stdout",
     "output_type": "stream",
     "text": [
      "Num GPUs Available:  0\n",
      "GPU Device Name:  []\n",
      "Is TensorFlow using GPU? False\n"
     ]
    }
   ],
   "source": [
    "import tensorflow as tf\n",
    "\n",
    "# Check available GPUs\n",
    "print(\"Num GPUs Available: \", len(tf.config.experimental.list_physical_devices('GPU')))\n",
    "print(\"GPU Device Name: \", tf.config.list_physical_devices('GPU'))\n",
    "\n",
    "# Check if TensorFlow is running on GPU\n",
    "print(\"Is TensorFlow using GPU?\", tf.test.is_built_with_cuda())\n",
    "\n",
    "# Force TensorFlow to use GPU (if available)\n",
    "gpus = tf.config.experimental.list_physical_devices('GPU')\n",
    "if gpus:\n",
    "    try:\n",
    "        for gpu in gpus:\n",
    "            tf.config.experimental.set_memory_growth(gpu, True)  # Prevents memory overflow\n",
    "        print(\"GPU is enabled and memory growth is set!\")\n",
    "    except RuntimeError as e:\n",
    "        print(e)\n"
   ]
  },
  {
   "cell_type": "code",
   "execution_count": 2,
   "metadata": {},
   "outputs": [
    {
     "name": "stdout",
     "output_type": "stream",
     "text": [
      "90100\n",
      "True\n",
      "True\n"
     ]
    }
   ],
   "source": [
    "import torch\n",
    "print(torch.backends.cudnn.version())  # Should return a version like 9701\n",
    "print(torch.cuda.is_available())  # Should return True\n",
    "print(torch.backends.cudnn.enabled)  # Should return True\n"
   ]
  },
  {
   "cell_type": "code",
   "execution_count": 3,
   "metadata": {},
   "outputs": [
    {
     "data": {
      "text/plain": [
       "True"
      ]
     },
     "execution_count": 3,
     "metadata": {},
     "output_type": "execute_result"
    }
   ],
   "source": [
    "90100\n",
    "True\n",
    "True"
   ]
  },
  {
   "cell_type": "code",
   "execution_count": 4,
   "metadata": {},
   "outputs": [
    {
     "name": "stdout",
     "output_type": "stream",
     "text": [
      "Starting GPU performance test...\n",
      "CUDA is available. Using GPU: NVIDIA GeForce RTX 3050 Laptop GPU\n",
      "Creating 5000x5000 matrices...\n",
      "Testing matrix multiplication performance...\n",
      "Matrix multiplication completed in: 0.1104 seconds\n",
      "Performance: 2263.86 GFLOPS\n",
      "Test completed.\n"
     ]
    }
   ],
   "source": [
    "import torch\n",
    "import time\n",
    "\n",
    "def test_gpu_performance():\n",
    "    # Check if CUDA is available\n",
    "    if not torch.cuda.is_available():\n",
    "        print(\"CUDA is not available. Running on CPU.\")\n",
    "        device = torch.device(\"cpu\")\n",
    "    else:\n",
    "        print(f\"CUDA is available. Using GPU: {torch.cuda.get_device_name(0)}\")\n",
    "        device = torch.device(\"cuda\")\n",
    "    \n",
    "    # Matrix size (larger = more computation)\n",
    "    n = 5000\n",
    "    \n",
    "    # Create random matrices\n",
    "    print(f\"Creating {n}x{n} matrices...\")\n",
    "    a = torch.randn(n, n, device=device)\n",
    "    b = torch.randn(n, n, device=device)\n",
    "    \n",
    "    # Warm-up run\n",
    "    torch.matmul(a, b)\n",
    "    torch.cuda.synchronize() if device.type == \"cuda\" else None\n",
    "    \n",
    "    # Measure performance\n",
    "    print(\"Testing matrix multiplication performance...\")\n",
    "    start_time = time.time()\n",
    "    \n",
    "    # Perform matrix multiplication\n",
    "    c = torch.matmul(a, b)\n",
    "    \n",
    "    # Make sure GPU operation is complete before timing\n",
    "    torch.cuda.synchronize() if device.type == \"cuda\" else None\n",
    "    \n",
    "    elapsed_time = time.time() - start_time\n",
    "    print(f\"Matrix multiplication completed in: {elapsed_time:.4f} seconds\")\n",
    "    \n",
    "    # Optional: calculate FLOPS (floating point operations per second)\n",
    "    flops = 2 * n**3  # approximate flops for matrix multiplication\n",
    "    gflops = flops / (elapsed_time * 1e9)\n",
    "    print(f\"Performance: {gflops:.2f} GFLOPS\")\n",
    "    \n",
    "    return elapsed_time, gflops\n",
    "\n",
    "if __name__ == \"__main__\":\n",
    "    print(\"Starting GPU performance test...\")\n",
    "    test_gpu_performance()\n",
    "    print(\"Test completed.\")"
   ]
  },
  {
   "cell_type": "code",
   "execution_count": null,
   "metadata": {},
   "outputs": [],
   "source": []
  }
 ],
 "metadata": {
  "kernelspec": {
   "display_name": "Python 3",
   "language": "python",
   "name": "python3"
  },
  "language_info": {
   "codemirror_mode": {
    "name": "ipython",
    "version": 3
   },
   "file_extension": ".py",
   "mimetype": "text/x-python",
   "name": "python",
   "nbconvert_exporter": "python",
   "pygments_lexer": "ipython3",
   "version": "3.12.6"
  }
 },
 "nbformat": 4,
 "nbformat_minor": 2
}
